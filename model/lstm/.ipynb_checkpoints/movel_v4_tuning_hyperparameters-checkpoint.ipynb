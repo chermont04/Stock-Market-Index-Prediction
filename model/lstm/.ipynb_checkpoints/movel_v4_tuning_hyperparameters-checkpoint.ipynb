{
 "cells": [
  {
   "cell_type": "markdown",
   "metadata": {},
   "source": [
    "## 1. importing packages"
   ]
  },
  {
   "cell_type": "code",
   "execution_count": 43,
   "metadata": {},
   "outputs": [],
   "source": [
    "import pandas as pd\n",
    "import pandas_ta as ta\n",
    "import numpy as np\n",
    "import datetime as dt\n",
    "import pandas_datareader as web\n",
    "from tqdm import tqdm\n",
    "import matplotlib.pyplot as plt\n",
    "from matplotlib import rcParams\n",
    "import seaborn as sns\n",
    "import matplotlib.ticker as ticker\n",
    "import itertools\n",
    "\n",
    "from sklearn.preprocessing import MinMaxScaler\n",
    "from sklearn.metrics import mean_absolute_error, mean_squared_error\n",
    "from sklearn.model_selection import GridSearchCV\n",
    "\n",
    "import tensorflow as tf\n",
    "from tensorflow.keras.models import Model, Sequential\n",
    "from tensorflow.keras.layers import Dense, Dropout, LSTM, Input, Activation, concatenate\n",
    "from tensorflow.keras.callbacks import History, EarlyStopping\n",
    "from tensorflow.keras import optimizers\n",
    "\n",
    "import keras_tuner as kt\n",
    "from keras_tuner.tuners import RandomSearch\n",
    "from keras_tuner.engine.hyperparameters import HyperParameters\n",
    "from keras.callbacks import EarlyStopping\n",
    "from keras.callbacks import ModelCheckpoint\n"
   ]
  },
  {
   "cell_type": "markdown",
   "metadata": {},
   "source": [
    "## 2. overall configurations"
   ]
  },
  {
   "cell_type": "code",
   "execution_count": 44,
   "metadata": {},
   "outputs": [],
   "source": [
    "%matplotlib inline\n",
    "\n",
    "\n",
    "tqdm.pandas()\n",
    "sns.set(style='whitegrid',palette='muted')\n",
    "rcParams['figure.figsize'] = 14, 10"
   ]
  },
  {
   "cell_type": "markdown",
   "metadata": {},
   "source": [
    "## 3. Getting the Data"
   ]
  },
  {
   "cell_type": "code",
   "execution_count": 45,
   "metadata": {},
   "outputs": [],
   "source": [
    "import yfinance as yf\n",
    "ticket = yf.Ticker('BOVA11.SA')\n",
    "start = dt.datetime(2009, 1, 2) # First register data\n",
    "end = dt.datetime(dt.datetime.now().year,dt.datetime.now().month,dt.datetime.now().day - 1)\n",
    "\n",
    "bova11 = ticket.history(interval= '1d', start = start, end = end).reset_index()\n",
    "bova11\n",
    "bova11_copy = bova11.copy()"
   ]
  },
  {
   "cell_type": "code",
   "execution_count": 46,
   "metadata": {},
   "outputs": [
    {
     "data": {
      "text/plain": [
       "3487"
      ]
     },
     "execution_count": 46,
     "metadata": {},
     "output_type": "execute_result"
    }
   ],
   "source": [
    "len(bova11)"
   ]
  },
  {
   "cell_type": "markdown",
   "metadata": {},
   "source": [
    "## 4. Pre-processing"
   ]
  },
  {
   "cell_type": "markdown",
   "metadata": {},
   "source": [
    "Adjust the columns name and type"
   ]
  },
  {
   "cell_type": "code",
   "execution_count": 47,
   "metadata": {},
   "outputs": [],
   "source": [
    "bova11.columns = bova11.columns.str.lower()"
   ]
  },
  {
   "cell_type": "code",
   "execution_count": 48,
   "metadata": {},
   "outputs": [],
   "source": [
    "bova11.date = pd.to_datetime(bova11.date)"
   ]
  },
  {
   "cell_type": "code",
   "execution_count": 49,
   "metadata": {},
   "outputs": [
    {
     "data": {
      "text/plain": [
       "date            0\n",
       "open            0\n",
       "high            0\n",
       "low             0\n",
       "close           0\n",
       "volume          0\n",
       "dividends       0\n",
       "stock splits    0\n",
       "dtype: int64"
      ]
     },
     "execution_count": 49,
     "metadata": {},
     "output_type": "execute_result"
    }
   ],
   "source": [
    "bova11.isna().sum()"
   ]
  },
  {
   "cell_type": "markdown",
   "metadata": {},
   "source": [
    "Removing rows with volume 0"
   ]
  },
  {
   "cell_type": "code",
   "execution_count": 50,
   "metadata": {},
   "outputs": [
    {
     "data": {
      "text/html": [
       "<div>\n",
       "<style scoped>\n",
       "    .dataframe tbody tr th:only-of-type {\n",
       "        vertical-align: middle;\n",
       "    }\n",
       "\n",
       "    .dataframe tbody tr th {\n",
       "        vertical-align: top;\n",
       "    }\n",
       "\n",
       "    .dataframe thead th {\n",
       "        text-align: right;\n",
       "    }\n",
       "</style>\n",
       "<table border=\"1\" class=\"dataframe\">\n",
       "  <thead>\n",
       "    <tr style=\"text-align: right;\">\n",
       "      <th></th>\n",
       "      <th>date</th>\n",
       "      <th>open</th>\n",
       "      <th>high</th>\n",
       "      <th>low</th>\n",
       "      <th>close</th>\n",
       "      <th>volume</th>\n",
       "      <th>dividends</th>\n",
       "      <th>stock splits</th>\n",
       "    </tr>\n",
       "  </thead>\n",
       "  <tbody>\n",
       "    <tr>\n",
       "      <th>0</th>\n",
       "      <td>2009-01-02 00:00:00-02:00</td>\n",
       "      <td>38.279999</td>\n",
       "      <td>40.320000</td>\n",
       "      <td>37.939999</td>\n",
       "      <td>40.320000</td>\n",
       "      <td>119900</td>\n",
       "      <td>0</td>\n",
       "      <td>0</td>\n",
       "    </tr>\n",
       "    <tr>\n",
       "      <th>1</th>\n",
       "      <td>2009-01-05 00:00:00-02:00</td>\n",
       "      <td>40.200001</td>\n",
       "      <td>42.000000</td>\n",
       "      <td>39.700001</td>\n",
       "      <td>42.000000</td>\n",
       "      <td>341700</td>\n",
       "      <td>0</td>\n",
       "      <td>0</td>\n",
       "    </tr>\n",
       "    <tr>\n",
       "      <th>2</th>\n",
       "      <td>2009-01-06 00:00:00-02:00</td>\n",
       "      <td>42.060001</td>\n",
       "      <td>42.320000</td>\n",
       "      <td>41.549999</td>\n",
       "      <td>42.320000</td>\n",
       "      <td>178300</td>\n",
       "      <td>0</td>\n",
       "      <td>0</td>\n",
       "    </tr>\n",
       "    <tr>\n",
       "      <th>3</th>\n",
       "      <td>2009-01-07 00:00:00-02:00</td>\n",
       "      <td>41.750000</td>\n",
       "      <td>41.770000</td>\n",
       "      <td>40.450001</td>\n",
       "      <td>40.639999</td>\n",
       "      <td>73400</td>\n",
       "      <td>0</td>\n",
       "      <td>0</td>\n",
       "    </tr>\n",
       "    <tr>\n",
       "      <th>4</th>\n",
       "      <td>2009-01-08 00:00:00-02:00</td>\n",
       "      <td>40.150002</td>\n",
       "      <td>42.200001</td>\n",
       "      <td>40.150002</td>\n",
       "      <td>42.200001</td>\n",
       "      <td>195300</td>\n",
       "      <td>0</td>\n",
       "      <td>0</td>\n",
       "    </tr>\n",
       "    <tr>\n",
       "      <th>...</th>\n",
       "      <td>...</td>\n",
       "      <td>...</td>\n",
       "      <td>...</td>\n",
       "      <td>...</td>\n",
       "      <td>...</td>\n",
       "      <td>...</td>\n",
       "      <td>...</td>\n",
       "      <td>...</td>\n",
       "    </tr>\n",
       "    <tr>\n",
       "      <th>3389</th>\n",
       "      <td>2023-01-13 00:00:00-03:00</td>\n",
       "      <td>106.940002</td>\n",
       "      <td>107.639999</td>\n",
       "      <td>106.690002</td>\n",
       "      <td>107.349998</td>\n",
       "      <td>4742049</td>\n",
       "      <td>0</td>\n",
       "      <td>0</td>\n",
       "    </tr>\n",
       "    <tr>\n",
       "      <th>3390</th>\n",
       "      <td>2023-01-16 00:00:00-03:00</td>\n",
       "      <td>106.949997</td>\n",
       "      <td>106.949997</td>\n",
       "      <td>105.129997</td>\n",
       "      <td>105.470001</td>\n",
       "      <td>6905014</td>\n",
       "      <td>0</td>\n",
       "      <td>0</td>\n",
       "    </tr>\n",
       "    <tr>\n",
       "      <th>3391</th>\n",
       "      <td>2023-01-17 00:00:00-03:00</td>\n",
       "      <td>106.239998</td>\n",
       "      <td>107.980003</td>\n",
       "      <td>106.220001</td>\n",
       "      <td>107.800003</td>\n",
       "      <td>6647627</td>\n",
       "      <td>0</td>\n",
       "      <td>0</td>\n",
       "    </tr>\n",
       "    <tr>\n",
       "      <th>3392</th>\n",
       "      <td>2023-01-18 00:00:00-03:00</td>\n",
       "      <td>108.830002</td>\n",
       "      <td>109.599998</td>\n",
       "      <td>108.330002</td>\n",
       "      <td>108.330002</td>\n",
       "      <td>9405455</td>\n",
       "      <td>0</td>\n",
       "      <td>0</td>\n",
       "    </tr>\n",
       "    <tr>\n",
       "      <th>3393</th>\n",
       "      <td>2023-01-19 00:00:00-03:00</td>\n",
       "      <td>107.699997</td>\n",
       "      <td>109.540001</td>\n",
       "      <td>107.610001</td>\n",
       "      <td>109.110001</td>\n",
       "      <td>4378786</td>\n",
       "      <td>0</td>\n",
       "      <td>0</td>\n",
       "    </tr>\n",
       "  </tbody>\n",
       "</table>\n",
       "<p>3394 rows × 8 columns</p>\n",
       "</div>"
      ],
      "text/plain": [
       "                          date        open        high         low  \\\n",
       "0    2009-01-02 00:00:00-02:00   38.279999   40.320000   37.939999   \n",
       "1    2009-01-05 00:00:00-02:00   40.200001   42.000000   39.700001   \n",
       "2    2009-01-06 00:00:00-02:00   42.060001   42.320000   41.549999   \n",
       "3    2009-01-07 00:00:00-02:00   41.750000   41.770000   40.450001   \n",
       "4    2009-01-08 00:00:00-02:00   40.150002   42.200001   40.150002   \n",
       "...                        ...         ...         ...         ...   \n",
       "3389 2023-01-13 00:00:00-03:00  106.940002  107.639999  106.690002   \n",
       "3390 2023-01-16 00:00:00-03:00  106.949997  106.949997  105.129997   \n",
       "3391 2023-01-17 00:00:00-03:00  106.239998  107.980003  106.220001   \n",
       "3392 2023-01-18 00:00:00-03:00  108.830002  109.599998  108.330002   \n",
       "3393 2023-01-19 00:00:00-03:00  107.699997  109.540001  107.610001   \n",
       "\n",
       "           close   volume  dividends  stock splits  \n",
       "0      40.320000   119900          0             0  \n",
       "1      42.000000   341700          0             0  \n",
       "2      42.320000   178300          0             0  \n",
       "3      40.639999    73400          0             0  \n",
       "4      42.200001   195300          0             0  \n",
       "...          ...      ...        ...           ...  \n",
       "3389  107.349998  4742049          0             0  \n",
       "3390  105.470001  6905014          0             0  \n",
       "3391  107.800003  6647627          0             0  \n",
       "3392  108.330002  9405455          0             0  \n",
       "3393  109.110001  4378786          0             0  \n",
       "\n",
       "[3394 rows x 8 columns]"
      ]
     },
     "execution_count": 50,
     "metadata": {},
     "output_type": "execute_result"
    }
   ],
   "source": [
    "bova11 = bova11.loc[(bova11.volume != 0)].reset_index()\n",
    "bova11.drop(columns='index', axis = 1, inplace = True)\n",
    "bova11"
   ]
  },
  {
   "cell_type": "markdown",
   "metadata": {},
   "source": [
    "Sorting the data by date"
   ]
  },
  {
   "cell_type": "code",
   "execution_count": 51,
   "metadata": {},
   "outputs": [],
   "source": [
    "bova11 = bova11.sort_values(by='date').reset_index(drop=True)"
   ]
  },
  {
   "cell_type": "markdown",
   "metadata": {},
   "source": [
    "Adding a column with the previous close value"
   ]
  },
  {
   "cell_type": "code",
   "execution_count": 52,
   "metadata": {},
   "outputs": [],
   "source": [
    "bova11[\"prev_close\"] = bova11.shift(1)[\"close\"]"
   ]
  },
  {
   "cell_type": "code",
   "execution_count": 53,
   "metadata": {},
   "outputs": [
    {
     "data": {
      "text/html": [
       "<div>\n",
       "<style scoped>\n",
       "    .dataframe tbody tr th:only-of-type {\n",
       "        vertical-align: middle;\n",
       "    }\n",
       "\n",
       "    .dataframe tbody tr th {\n",
       "        vertical-align: top;\n",
       "    }\n",
       "\n",
       "    .dataframe thead th {\n",
       "        text-align: right;\n",
       "    }\n",
       "</style>\n",
       "<table border=\"1\" class=\"dataframe\">\n",
       "  <thead>\n",
       "    <tr style=\"text-align: right;\">\n",
       "      <th></th>\n",
       "      <th>date</th>\n",
       "      <th>open</th>\n",
       "      <th>high</th>\n",
       "      <th>low</th>\n",
       "      <th>close</th>\n",
       "      <th>volume</th>\n",
       "      <th>dividends</th>\n",
       "      <th>stock splits</th>\n",
       "      <th>prev_close</th>\n",
       "    </tr>\n",
       "  </thead>\n",
       "  <tbody>\n",
       "    <tr>\n",
       "      <th>0</th>\n",
       "      <td>2009-01-02 00:00:00-02:00</td>\n",
       "      <td>38.279999</td>\n",
       "      <td>40.320000</td>\n",
       "      <td>37.939999</td>\n",
       "      <td>40.320000</td>\n",
       "      <td>119900</td>\n",
       "      <td>0</td>\n",
       "      <td>0</td>\n",
       "      <td>NaN</td>\n",
       "    </tr>\n",
       "    <tr>\n",
       "      <th>1</th>\n",
       "      <td>2009-01-05 00:00:00-02:00</td>\n",
       "      <td>40.200001</td>\n",
       "      <td>42.000000</td>\n",
       "      <td>39.700001</td>\n",
       "      <td>42.000000</td>\n",
       "      <td>341700</td>\n",
       "      <td>0</td>\n",
       "      <td>0</td>\n",
       "      <td>40.320000</td>\n",
       "    </tr>\n",
       "    <tr>\n",
       "      <th>2</th>\n",
       "      <td>2009-01-06 00:00:00-02:00</td>\n",
       "      <td>42.060001</td>\n",
       "      <td>42.320000</td>\n",
       "      <td>41.549999</td>\n",
       "      <td>42.320000</td>\n",
       "      <td>178300</td>\n",
       "      <td>0</td>\n",
       "      <td>0</td>\n",
       "      <td>42.000000</td>\n",
       "    </tr>\n",
       "    <tr>\n",
       "      <th>3</th>\n",
       "      <td>2009-01-07 00:00:00-02:00</td>\n",
       "      <td>41.750000</td>\n",
       "      <td>41.770000</td>\n",
       "      <td>40.450001</td>\n",
       "      <td>40.639999</td>\n",
       "      <td>73400</td>\n",
       "      <td>0</td>\n",
       "      <td>0</td>\n",
       "      <td>42.320000</td>\n",
       "    </tr>\n",
       "    <tr>\n",
       "      <th>4</th>\n",
       "      <td>2009-01-08 00:00:00-02:00</td>\n",
       "      <td>40.150002</td>\n",
       "      <td>42.200001</td>\n",
       "      <td>40.150002</td>\n",
       "      <td>42.200001</td>\n",
       "      <td>195300</td>\n",
       "      <td>0</td>\n",
       "      <td>0</td>\n",
       "      <td>40.639999</td>\n",
       "    </tr>\n",
       "  </tbody>\n",
       "</table>\n",
       "</div>"
      ],
      "text/plain": [
       "                       date       open       high        low      close  \\\n",
       "0 2009-01-02 00:00:00-02:00  38.279999  40.320000  37.939999  40.320000   \n",
       "1 2009-01-05 00:00:00-02:00  40.200001  42.000000  39.700001  42.000000   \n",
       "2 2009-01-06 00:00:00-02:00  42.060001  42.320000  41.549999  42.320000   \n",
       "3 2009-01-07 00:00:00-02:00  41.750000  41.770000  40.450001  40.639999   \n",
       "4 2009-01-08 00:00:00-02:00  40.150002  42.200001  40.150002  42.200001   \n",
       "\n",
       "   volume  dividends  stock splits  prev_close  \n",
       "0  119900          0             0         NaN  \n",
       "1  341700          0             0   40.320000  \n",
       "2  178300          0             0   42.000000  \n",
       "3   73400          0             0   42.320000  \n",
       "4  195300          0             0   40.639999  "
      ]
     },
     "execution_count": 53,
     "metadata": {},
     "output_type": "execute_result"
    }
   ],
   "source": [
    "bova11.head()"
   ]
  },
  {
   "cell_type": "markdown",
   "metadata": {},
   "source": [
    "Adding the close difference between dates"
   ]
  },
  {
   "cell_type": "code",
   "execution_count": 54,
   "metadata": {},
   "outputs": [
    {
     "name": "stderr",
     "output_type": "stream",
     "text": [
      "100%|██████████| 3394/3394 [00:00<00:00, 14512.57it/s]\n"
     ]
    }
   ],
   "source": [
    "bova11[\"close_change\"]= bova11.progress_apply(\n",
    "    lambda row: 0 if np.isnan(row.prev_close) else row.close - row.prev_close,\n",
    "    axis = 1\n",
    ")"
   ]
  },
  {
   "cell_type": "code",
   "execution_count": 55,
   "metadata": {},
   "outputs": [
    {
     "data": {
      "text/html": [
       "<div>\n",
       "<style scoped>\n",
       "    .dataframe tbody tr th:only-of-type {\n",
       "        vertical-align: middle;\n",
       "    }\n",
       "\n",
       "    .dataframe tbody tr th {\n",
       "        vertical-align: top;\n",
       "    }\n",
       "\n",
       "    .dataframe thead th {\n",
       "        text-align: right;\n",
       "    }\n",
       "</style>\n",
       "<table border=\"1\" class=\"dataframe\">\n",
       "  <thead>\n",
       "    <tr style=\"text-align: right;\">\n",
       "      <th></th>\n",
       "      <th>date</th>\n",
       "      <th>open</th>\n",
       "      <th>high</th>\n",
       "      <th>low</th>\n",
       "      <th>close</th>\n",
       "      <th>volume</th>\n",
       "      <th>dividends</th>\n",
       "      <th>stock splits</th>\n",
       "      <th>prev_close</th>\n",
       "      <th>close_change</th>\n",
       "    </tr>\n",
       "  </thead>\n",
       "  <tbody>\n",
       "    <tr>\n",
       "      <th>0</th>\n",
       "      <td>2009-01-02 00:00:00-02:00</td>\n",
       "      <td>38.279999</td>\n",
       "      <td>40.320000</td>\n",
       "      <td>37.939999</td>\n",
       "      <td>40.320000</td>\n",
       "      <td>119900</td>\n",
       "      <td>0</td>\n",
       "      <td>0</td>\n",
       "      <td>NaN</td>\n",
       "      <td>0.000000</td>\n",
       "    </tr>\n",
       "    <tr>\n",
       "      <th>1</th>\n",
       "      <td>2009-01-05 00:00:00-02:00</td>\n",
       "      <td>40.200001</td>\n",
       "      <td>42.000000</td>\n",
       "      <td>39.700001</td>\n",
       "      <td>42.000000</td>\n",
       "      <td>341700</td>\n",
       "      <td>0</td>\n",
       "      <td>0</td>\n",
       "      <td>40.320000</td>\n",
       "      <td>1.680000</td>\n",
       "    </tr>\n",
       "    <tr>\n",
       "      <th>2</th>\n",
       "      <td>2009-01-06 00:00:00-02:00</td>\n",
       "      <td>42.060001</td>\n",
       "      <td>42.320000</td>\n",
       "      <td>41.549999</td>\n",
       "      <td>42.320000</td>\n",
       "      <td>178300</td>\n",
       "      <td>0</td>\n",
       "      <td>0</td>\n",
       "      <td>42.000000</td>\n",
       "      <td>0.320000</td>\n",
       "    </tr>\n",
       "    <tr>\n",
       "      <th>3</th>\n",
       "      <td>2009-01-07 00:00:00-02:00</td>\n",
       "      <td>41.750000</td>\n",
       "      <td>41.770000</td>\n",
       "      <td>40.450001</td>\n",
       "      <td>40.639999</td>\n",
       "      <td>73400</td>\n",
       "      <td>0</td>\n",
       "      <td>0</td>\n",
       "      <td>42.320000</td>\n",
       "      <td>-1.680000</td>\n",
       "    </tr>\n",
       "    <tr>\n",
       "      <th>4</th>\n",
       "      <td>2009-01-08 00:00:00-02:00</td>\n",
       "      <td>40.150002</td>\n",
       "      <td>42.200001</td>\n",
       "      <td>40.150002</td>\n",
       "      <td>42.200001</td>\n",
       "      <td>195300</td>\n",
       "      <td>0</td>\n",
       "      <td>0</td>\n",
       "      <td>40.639999</td>\n",
       "      <td>1.560001</td>\n",
       "    </tr>\n",
       "  </tbody>\n",
       "</table>\n",
       "</div>"
      ],
      "text/plain": [
       "                       date       open       high        low      close  \\\n",
       "0 2009-01-02 00:00:00-02:00  38.279999  40.320000  37.939999  40.320000   \n",
       "1 2009-01-05 00:00:00-02:00  40.200001  42.000000  39.700001  42.000000   \n",
       "2 2009-01-06 00:00:00-02:00  42.060001  42.320000  41.549999  42.320000   \n",
       "3 2009-01-07 00:00:00-02:00  41.750000  41.770000  40.450001  40.639999   \n",
       "4 2009-01-08 00:00:00-02:00  40.150002  42.200001  40.150002  42.200001   \n",
       "\n",
       "   volume  dividends  stock splits  prev_close  close_change  \n",
       "0  119900          0             0         NaN      0.000000  \n",
       "1  341700          0             0   40.320000      1.680000  \n",
       "2  178300          0             0   42.000000      0.320000  \n",
       "3   73400          0             0   42.320000     -1.680000  \n",
       "4  195300          0             0   40.639999      1.560001  "
      ]
     },
     "execution_count": 55,
     "metadata": {},
     "output_type": "execute_result"
    }
   ],
   "source": [
    "bova11.head()"
   ]
  },
  {
   "cell_type": "markdown",
   "metadata": {},
   "source": [
    "Checking the dataseries over time"
   ]
  },
  {
   "cell_type": "code",
   "execution_count": 56,
   "metadata": {},
   "outputs": [
    {
     "data": {
      "image/png": "[encoded data removed]",
      "text/plain": [
       "<Figure size 1400x1000 with 1 Axes>"
      ]
     },
     "metadata": {},
     "output_type": "display_data"
    }
   ],
   "source": [
    "daily_closing = bova11[['date','close']]\n",
    "daily_closing = daily_closing.set_index('date')\n",
    "ax = daily_closing.plot()\n",
    "plt.title('Valor de fechamento do BOVA11 ao longo dos anos')\n",
    "ax.yaxis.set_major_formatter(ticker.StrMethodFormatter(\"R${x:,.2f}\"))"
   ]
  },
  {
   "cell_type": "markdown",
   "metadata": {},
   "source": [
    "#### Feature Engineering\n",
    "Add auxiliar columns that can improve our model, like moving averages,standard deviation, techinical indicators and others\n",
    "Let's add:\n",
    "- Moving_average for 3, 10, 30 and 60 days\n",
    "- Standard deviation for 7, 30 and 60 days\n",
    "- Bollinger limits for Upper and lowers 3, 30 and 60\n",
    "- Add RSI indicator"
   ]
  },
  {
   "cell_type": "code",
   "execution_count": 57,
   "metadata": {},
   "outputs": [],
   "source": [
    "# Adding move Averages columns\n",
    "bova11['ma_3d'] = bova11['close'].rolling(3, center = True, min_periods=1).mean()\n",
    "bova11['ma_10d'] = bova11['close'].rolling(10, center = True,min_periods=1).mean()\n",
    "bova11['ma_30d'] = bova11['close'].rolling(30, center=True, min_periods=1).mean()\n",
    "bova11['ma_60d'] = bova11['close'].rolling(60, center = True, min_periods = 1).mean()"
   ]
  },
  {
   "cell_type": "code",
   "execution_count": 58,
   "metadata": {},
   "outputs": [],
   "source": [
    "# Adding standard deviation columns\n",
    "bova11['std_7'] = bova11['close'].rolling(7, center = True, min_periods = 1).std()\n",
    "bova11['std_30'] = bova11['close'].rolling(30, center = True, min_periods = 1).std()\n",
    "bova11['std_60'] = bova11['close'].rolling(60, center = True, min_periods = 1).std()"
   ]
  },
  {
   "cell_type": "code",
   "execution_count": 59,
   "metadata": {},
   "outputs": [],
   "source": [
    "# Adding the bollinger bands\n",
    "bova11['upper3'] = bova11['ma_3d'] + 2*bova11['close'].rolling(3, center = True, min_periods = 1).std()\n",
    "bova11['lower3'] = bova11['ma_3d'] - 2*bova11['close'].rolling(3, center = True, min_periods = 1).std()\n",
    "\n",
    "bova11['upper30'] = bova11['ma_30d'] + 2*bova11['std_30']\n",
    "bova11['lower30'] = bova11['ma_30d'] - 2*bova11['std_30']\n",
    "\n",
    "bova11['upper60'] = bova11['ma_60d'] + 2*bova11['std_60']\n",
    "bova11['lower60'] = bova11['ma_60d'] - 2*bova11['std_60']"
   ]
  },
  {
   "cell_type": "code",
   "execution_count": 60,
   "metadata": {},
   "outputs": [],
   "source": [
    "# Adding tecnical indicator RSI\n",
    "bova11['RSI'] = ta.rsi(bova11['close'], length = 15)"
   ]
  },
  {
   "cell_type": "code",
   "execution_count": 61,
   "metadata": {},
   "outputs": [
    {
     "data": {
      "image/png": "[encoded data removed]",
      "text/plain": [
       "<Figure size 1400x1000 with 1 Axes>"
      ]
     },
     "metadata": {},
     "output_type": "display_data"
    }
   ],
   "source": [
    "moving_avg = bova11[['date','ma_30d']]\n",
    "moving_avg = moving_avg.set_index('date')\n",
    "ax = moving_avg.plot()\n",
    "plt.title('Valor de fechamento do IBOVESPA ao longo dos anos')\n",
    "ax.yaxis.set_major_formatter(ticker.StrMethodFormatter(\"R${x:,.2f}\"))"
   ]
  },
  {
   "cell_type": "markdown",
   "metadata": {},
   "source": [
    "Select the features and the predict columns"
   ]
  },
  {
   "cell_type": "code",
   "execution_count": 62,
   "metadata": {},
   "outputs": [],
   "source": [
    "bova11.drop(['date', 'volume', 'dividends', 'stock splits', 'prev_close'],\n",
    "            axis = 1,\n",
    "           inplace = True)\n"
   ]
  },
  {
   "cell_type": "code",
   "execution_count": 63,
   "metadata": {},
   "outputs": [
    {
     "data": {
      "text/html": [
       "<div>\n",
       "<style scoped>\n",
       "    .dataframe tbody tr th:only-of-type {\n",
       "        vertical-align: middle;\n",
       "    }\n",
       "\n",
       "    .dataframe tbody tr th {\n",
       "        vertical-align: top;\n",
       "    }\n",
       "\n",
       "    .dataframe thead th {\n",
       "        text-align: right;\n",
       "    }\n",
       "</style>\n",
       "<table border=\"1\" class=\"dataframe\">\n",
       "  <thead>\n",
       "    <tr style=\"text-align: right;\">\n",
       "      <th></th>\n",
       "      <th>open</th>\n",
       "      <th>high</th>\n",
       "      <th>low</th>\n",
       "      <th>close</th>\n",
       "      <th>close_change</th>\n",
       "      <th>ma_3d</th>\n",
       "      <th>ma_10d</th>\n",
       "      <th>ma_30d</th>\n",
       "      <th>ma_60d</th>\n",
       "      <th>std_7</th>\n",
       "      <th>std_30</th>\n",
       "      <th>std_60</th>\n",
       "      <th>upper3</th>\n",
       "      <th>lower3</th>\n",
       "      <th>upper30</th>\n",
       "      <th>lower30</th>\n",
       "      <th>upper60</th>\n",
       "      <th>lower60</th>\n",
       "      <th>RSI</th>\n",
       "    </tr>\n",
       "  </thead>\n",
       "  <tbody>\n",
       "    <tr>\n",
       "      <th>0</th>\n",
       "      <td>38.279999</td>\n",
       "      <td>40.320000</td>\n",
       "      <td>37.939999</td>\n",
       "      <td>40.320000</td>\n",
       "      <td>0.000000</td>\n",
       "      <td>41.160000</td>\n",
       "      <td>41.496000</td>\n",
       "      <td>40.072667</td>\n",
       "      <td>40.216334</td>\n",
       "      <td>0.987387</td>\n",
       "      <td>1.459904</td>\n",
       "      <td>1.394817</td>\n",
       "      <td>43.535879</td>\n",
       "      <td>38.784121</td>\n",
       "      <td>42.992476</td>\n",
       "      <td>37.152858</td>\n",
       "      <td>43.005967</td>\n",
       "      <td>37.426700</td>\n",
       "      <td>NaN</td>\n",
       "    </tr>\n",
       "    <tr>\n",
       "      <th>1</th>\n",
       "      <td>40.200001</td>\n",
       "      <td>42.000000</td>\n",
       "      <td>39.700001</td>\n",
       "      <td>42.000000</td>\n",
       "      <td>1.680000</td>\n",
       "      <td>41.546666</td>\n",
       "      <td>41.580000</td>\n",
       "      <td>39.948125</td>\n",
       "      <td>40.269033</td>\n",
       "      <td>0.941319</td>\n",
       "      <td>1.495795</td>\n",
       "      <td>1.402411</td>\n",
       "      <td>43.695279</td>\n",
       "      <td>39.398054</td>\n",
       "      <td>42.939715</td>\n",
       "      <td>36.956536</td>\n",
       "      <td>43.073854</td>\n",
       "      <td>37.464211</td>\n",
       "      <td>NaN</td>\n",
       "    </tr>\n",
       "    <tr>\n",
       "      <th>2</th>\n",
       "      <td>42.060001</td>\n",
       "      <td>42.320000</td>\n",
       "      <td>41.549999</td>\n",
       "      <td>42.320000</td>\n",
       "      <td>0.320000</td>\n",
       "      <td>41.653333</td>\n",
       "      <td>41.311429</td>\n",
       "      <td>39.892353</td>\n",
       "      <td>40.322813</td>\n",
       "      <td>0.866718</td>\n",
       "      <td>1.466439</td>\n",
       "      <td>1.412751</td>\n",
       "      <td>43.437411</td>\n",
       "      <td>39.869255</td>\n",
       "      <td>42.825231</td>\n",
       "      <td>36.959475</td>\n",
       "      <td>43.148315</td>\n",
       "      <td>37.497311</td>\n",
       "      <td>NaN</td>\n",
       "    </tr>\n",
       "    <tr>\n",
       "      <th>3</th>\n",
       "      <td>41.750000</td>\n",
       "      <td>41.770000</td>\n",
       "      <td>40.450001</td>\n",
       "      <td>40.639999</td>\n",
       "      <td>-1.680000</td>\n",
       "      <td>41.720000</td>\n",
       "      <td>41.147500</td>\n",
       "      <td>39.842223</td>\n",
       "      <td>40.313031</td>\n",
       "      <td>1.063445</td>\n",
       "      <td>1.438465</td>\n",
       "      <td>1.391637</td>\n",
       "      <td>43.594461</td>\n",
       "      <td>39.845539</td>\n",
       "      <td>42.719153</td>\n",
       "      <td>36.965292</td>\n",
       "      <td>43.096304</td>\n",
       "      <td>37.529757</td>\n",
       "      <td>NaN</td>\n",
       "    </tr>\n",
       "    <tr>\n",
       "      <th>4</th>\n",
       "      <td>40.150002</td>\n",
       "      <td>42.200001</td>\n",
       "      <td>40.150002</td>\n",
       "      <td>42.200001</td>\n",
       "      <td>1.560001</td>\n",
       "      <td>41.613333</td>\n",
       "      <td>40.801111</td>\n",
       "      <td>39.897895</td>\n",
       "      <td>40.303530</td>\n",
       "      <td>1.118613</td>\n",
       "      <td>1.418844</td>\n",
       "      <td>1.371508</td>\n",
       "      <td>43.311019</td>\n",
       "      <td>39.915647</td>\n",
       "      <td>42.735582</td>\n",
       "      <td>37.060208</td>\n",
       "      <td>43.046547</td>\n",
       "      <td>37.560513</td>\n",
       "      <td>NaN</td>\n",
       "    </tr>\n",
       "    <tr>\n",
       "      <th>...</th>\n",
       "      <td>...</td>\n",
       "      <td>...</td>\n",
       "      <td>...</td>\n",
       "      <td>...</td>\n",
       "      <td>...</td>\n",
       "      <td>...</td>\n",
       "      <td>...</td>\n",
       "      <td>...</td>\n",
       "      <td>...</td>\n",
       "      <td>...</td>\n",
       "      <td>...</td>\n",
       "      <td>...</td>\n",
       "      <td>...</td>\n",
       "      <td>...</td>\n",
       "      <td>...</td>\n",
       "      <td>...</td>\n",
       "      <td>...</td>\n",
       "      <td>...</td>\n",
       "      <td>...</td>\n",
       "    </tr>\n",
       "    <tr>\n",
       "      <th>3389</th>\n",
       "      <td>106.940002</td>\n",
       "      <td>107.639999</td>\n",
       "      <td>106.690002</td>\n",
       "      <td>107.349998</td>\n",
       "      <td>-0.910004</td>\n",
       "      <td>107.026667</td>\n",
       "      <td>107.345000</td>\n",
       "      <td>105.774000</td>\n",
       "      <td>104.783143</td>\n",
       "      <td>1.156308</td>\n",
       "      <td>2.345566</td>\n",
       "      <td>2.732308</td>\n",
       "      <td>109.872319</td>\n",
       "      <td>104.181015</td>\n",
       "      <td>110.465132</td>\n",
       "      <td>101.082868</td>\n",
       "      <td>110.247759</td>\n",
       "      <td>99.318527</td>\n",
       "      <td>55.137312</td>\n",
       "    </tr>\n",
       "    <tr>\n",
       "      <th>3390</th>\n",
       "      <td>106.949997</td>\n",
       "      <td>106.949997</td>\n",
       "      <td>105.129997</td>\n",
       "      <td>105.470001</td>\n",
       "      <td>-1.879997</td>\n",
       "      <td>106.873334</td>\n",
       "      <td>107.550001</td>\n",
       "      <td>105.871053</td>\n",
       "      <td>104.716177</td>\n",
       "      <td>1.253923</td>\n",
       "      <td>2.368223</td>\n",
       "      <td>2.744089</td>\n",
       "      <td>109.345284</td>\n",
       "      <td>104.401385</td>\n",
       "      <td>110.607498</td>\n",
       "      <td>101.134608</td>\n",
       "      <td>110.204354</td>\n",
       "      <td>99.227999</td>\n",
       "      <td>50.240974</td>\n",
       "    </tr>\n",
       "    <tr>\n",
       "      <th>3391</th>\n",
       "      <td>106.239998</td>\n",
       "      <td>107.980003</td>\n",
       "      <td>106.220001</td>\n",
       "      <td>107.800003</td>\n",
       "      <td>2.330002</td>\n",
       "      <td>107.200002</td>\n",
       "      <td>107.825001</td>\n",
       "      <td>105.863889</td>\n",
       "      <td>104.618182</td>\n",
       "      <td>1.249128</td>\n",
       "      <td>2.436669</td>\n",
       "      <td>2.725552</td>\n",
       "      <td>110.242962</td>\n",
       "      <td>104.157042</td>\n",
       "      <td>110.737227</td>\n",
       "      <td>100.990551</td>\n",
       "      <td>110.069286</td>\n",
       "      <td>99.167079</td>\n",
       "      <td>55.489642</td>\n",
       "    </tr>\n",
       "    <tr>\n",
       "      <th>3392</th>\n",
       "      <td>108.830002</td>\n",
       "      <td>109.599998</td>\n",
       "      <td>108.330002</td>\n",
       "      <td>108.330002</td>\n",
       "      <td>0.529999</td>\n",
       "      <td>108.413335</td>\n",
       "      <td>107.917144</td>\n",
       "      <td>105.905882</td>\n",
       "      <td>104.586563</td>\n",
       "      <td>1.364888</td>\n",
       "      <td>2.504938</td>\n",
       "      <td>2.763007</td>\n",
       "      <td>109.731260</td>\n",
       "      <td>107.095410</td>\n",
       "      <td>110.915759</td>\n",
       "      <td>100.896006</td>\n",
       "      <td>110.112577</td>\n",
       "      <td>99.060548</td>\n",
       "      <td>56.605212</td>\n",
       "    </tr>\n",
       "    <tr>\n",
       "      <th>3393</th>\n",
       "      <td>107.699997</td>\n",
       "      <td>109.540001</td>\n",
       "      <td>107.610001</td>\n",
       "      <td>109.110001</td>\n",
       "      <td>0.779999</td>\n",
       "      <td>108.720001</td>\n",
       "      <td>107.720001</td>\n",
       "      <td>105.968750</td>\n",
       "      <td>104.517097</td>\n",
       "      <td>1.566937</td>\n",
       "      <td>2.573200</td>\n",
       "      <td>2.780130</td>\n",
       "      <td>109.823086</td>\n",
       "      <td>107.616916</td>\n",
       "      <td>111.115151</td>\n",
       "      <td>100.822349</td>\n",
       "      <td>110.077356</td>\n",
       "      <td>98.956838</td>\n",
       "      <td>58.254979</td>\n",
       "    </tr>\n",
       "  </tbody>\n",
       "</table>\n",
       "<p>3394 rows × 19 columns</p>\n",
       "</div>"
      ],
      "text/plain": [
       "            open        high         low       close  close_change  \\\n",
       "0      38.279999   40.320000   37.939999   40.320000      0.000000   \n",
       "1      40.200001   42.000000   39.700001   42.000000      1.680000   \n",
       "2      42.060001   42.320000   41.549999   42.320000      0.320000   \n",
       "3      41.750000   41.770000   40.450001   40.639999     -1.680000   \n",
       "4      40.150002   42.200001   40.150002   42.200001      1.560001   \n",
       "...          ...         ...         ...         ...           ...   \n",
       "3389  106.940002  107.639999  106.690002  107.349998     -0.910004   \n",
       "3390  106.949997  106.949997  105.129997  105.470001     -1.879997   \n",
       "3391  106.239998  107.980003  106.220001  107.800003      2.330002   \n",
       "3392  108.830002  109.599998  108.330002  108.330002      0.529999   \n",
       "3393  107.699997  109.540001  107.610001  109.110001      0.779999   \n",
       "\n",
       "           ma_3d      ma_10d      ma_30d      ma_60d     std_7    std_30  \\\n",
       "0      41.160000   41.496000   40.072667   40.216334  0.987387  1.459904   \n",
       "1      41.546666   41.580000   39.948125   40.269033  0.941319  1.495795   \n",
       "2      41.653333   41.311429   39.892353   40.322813  0.866718  1.466439   \n",
       "3      41.720000   41.147500   39.842223   40.313031  1.063445  1.438465   \n",
       "4      41.613333   40.801111   39.897895   40.303530  1.118613  1.418844   \n",
       "...          ...         ...         ...         ...       ...       ...   \n",
       "3389  107.026667  107.345000  105.774000  104.783143  1.156308  2.345566   \n",
       "3390  106.873334  107.550001  105.871053  104.716177  1.253923  2.368223   \n",
       "3391  107.200002  107.825001  105.863889  104.618182  1.249128  2.436669   \n",
       "3392  108.413335  107.917144  105.905882  104.586563  1.364888  2.504938   \n",
       "3393  108.720001  107.720001  105.968750  104.517097  1.566937  2.573200   \n",
       "\n",
       "        std_60      upper3      lower3     upper30     lower30     upper60  \\\n",
       "0     1.394817   43.535879   38.784121   42.992476   37.152858   43.005967   \n",
       "1     1.402411   43.695279   39.398054   42.939715   36.956536   43.073854   \n",
       "2     1.412751   43.437411   39.869255   42.825231   36.959475   43.148315   \n",
       "3     1.391637   43.594461   39.845539   42.719153   36.965292   43.096304   \n",
       "4     1.371508   43.311019   39.915647   42.735582   37.060208   43.046547   \n",
       "...        ...         ...         ...         ...         ...         ...   \n",
       "3389  2.732308  109.872319  104.181015  110.465132  101.082868  110.247759   \n",
       "3390  2.744089  109.345284  104.401385  110.607498  101.134608  110.204354   \n",
       "3391  2.725552  110.242962  104.157042  110.737227  100.990551  110.069286   \n",
       "3392  2.763007  109.731260  107.095410  110.915759  100.896006  110.112577   \n",
       "3393  2.780130  109.823086  107.616916  111.115151  100.822349  110.077356   \n",
       "\n",
       "        lower60        RSI  \n",
       "0     37.426700        NaN  \n",
       "1     37.464211        NaN  \n",
       "2     37.497311        NaN  \n",
       "3     37.529757        NaN  \n",
       "4     37.560513        NaN  \n",
       "...         ...        ...  \n",
       "3389  99.318527  55.137312  \n",
       "3390  99.227999  50.240974  \n",
       "3391  99.167079  55.489642  \n",
       "3392  99.060548  56.605212  \n",
       "3393  98.956838  58.254979  \n",
       "\n",
       "[3394 rows x 19 columns]"
      ]
     },
     "execution_count": 63,
     "metadata": {},
     "output_type": "execute_result"
    }
   ],
   "source": [
    "bova11"
   ]
  },
  {
   "cell_type": "code",
   "execution_count": 64,
   "metadata": {},
   "outputs": [],
   "source": [
    "bova11['target'] = bova11.close - bova11.open\n",
    "#bova11['targetClass'] = [1 if bova11.target[i] > 0 else 0 for i in range(len(bova11))]\n",
    "bova11['targetNextClose'] = bova11['close'].shift(-1)"
   ]
  },
  {
   "cell_type": "code",
   "execution_count": 65,
   "metadata": {},
   "outputs": [
    {
     "data": {
      "text/html": [
       "<div>\n",
       "<style scoped>\n",
       "    .dataframe tbody tr th:only-of-type {\n",
       "        vertical-align: middle;\n",
       "    }\n",
       "\n",
       "    .dataframe tbody tr th {\n",
       "        vertical-align: top;\n",
       "    }\n",
       "\n",
       "    .dataframe thead th {\n",
       "        text-align: right;\n",
       "    }\n",
       "</style>\n",
       "<table border=\"1\" class=\"dataframe\">\n",
       "  <thead>\n",
       "    <tr style=\"text-align: right;\">\n",
       "      <th></th>\n",
       "      <th>open</th>\n",
       "      <th>high</th>\n",
       "      <th>low</th>\n",
       "      <th>close</th>\n",
       "      <th>close_change</th>\n",
       "      <th>ma_3d</th>\n",
       "      <th>ma_10d</th>\n",
       "      <th>ma_30d</th>\n",
       "      <th>ma_60d</th>\n",
       "      <th>std_7</th>\n",
       "      <th>...</th>\n",
       "      <th>std_60</th>\n",
       "      <th>upper3</th>\n",
       "      <th>lower3</th>\n",
       "      <th>upper30</th>\n",
       "      <th>lower30</th>\n",
       "      <th>upper60</th>\n",
       "      <th>lower60</th>\n",
       "      <th>RSI</th>\n",
       "      <th>target</th>\n",
       "      <th>targetNextClose</th>\n",
       "    </tr>\n",
       "  </thead>\n",
       "  <tbody>\n",
       "    <tr>\n",
       "      <th>0</th>\n",
       "      <td>38.279999</td>\n",
       "      <td>40.320000</td>\n",
       "      <td>37.939999</td>\n",
       "      <td>40.320000</td>\n",
       "      <td>0.000000</td>\n",
       "      <td>41.160000</td>\n",
       "      <td>41.496000</td>\n",
       "      <td>40.072667</td>\n",
       "      <td>40.216334</td>\n",
       "      <td>0.987387</td>\n",
       "      <td>...</td>\n",
       "      <td>1.394817</td>\n",
       "      <td>43.535879</td>\n",
       "      <td>38.784121</td>\n",
       "      <td>42.992476</td>\n",
       "      <td>37.152858</td>\n",
       "      <td>43.005967</td>\n",
       "      <td>37.426700</td>\n",
       "      <td>NaN</td>\n",
       "      <td>2.040001</td>\n",
       "      <td>42.000000</td>\n",
       "    </tr>\n",
       "    <tr>\n",
       "      <th>1</th>\n",
       "      <td>40.200001</td>\n",
       "      <td>42.000000</td>\n",
       "      <td>39.700001</td>\n",
       "      <td>42.000000</td>\n",
       "      <td>1.680000</td>\n",
       "      <td>41.546666</td>\n",
       "      <td>41.580000</td>\n",
       "      <td>39.948125</td>\n",
       "      <td>40.269033</td>\n",
       "      <td>0.941319</td>\n",
       "      <td>...</td>\n",
       "      <td>1.402411</td>\n",
       "      <td>43.695279</td>\n",
       "      <td>39.398054</td>\n",
       "      <td>42.939715</td>\n",
       "      <td>36.956536</td>\n",
       "      <td>43.073854</td>\n",
       "      <td>37.464211</td>\n",
       "      <td>NaN</td>\n",
       "      <td>1.799999</td>\n",
       "      <td>42.320000</td>\n",
       "    </tr>\n",
       "    <tr>\n",
       "      <th>2</th>\n",
       "      <td>42.060001</td>\n",
       "      <td>42.320000</td>\n",
       "      <td>41.549999</td>\n",
       "      <td>42.320000</td>\n",
       "      <td>0.320000</td>\n",
       "      <td>41.653333</td>\n",
       "      <td>41.311429</td>\n",
       "      <td>39.892353</td>\n",
       "      <td>40.322813</td>\n",
       "      <td>0.866718</td>\n",
       "      <td>...</td>\n",
       "      <td>1.412751</td>\n",
       "      <td>43.437411</td>\n",
       "      <td>39.869255</td>\n",
       "      <td>42.825231</td>\n",
       "      <td>36.959475</td>\n",
       "      <td>43.148315</td>\n",
       "      <td>37.497311</td>\n",
       "      <td>NaN</td>\n",
       "      <td>0.259998</td>\n",
       "      <td>40.639999</td>\n",
       "    </tr>\n",
       "    <tr>\n",
       "      <th>3</th>\n",
       "      <td>41.750000</td>\n",
       "      <td>41.770000</td>\n",
       "      <td>40.450001</td>\n",
       "      <td>40.639999</td>\n",
       "      <td>-1.680000</td>\n",
       "      <td>41.720000</td>\n",
       "      <td>41.147500</td>\n",
       "      <td>39.842223</td>\n",
       "      <td>40.313031</td>\n",
       "      <td>1.063445</td>\n",
       "      <td>...</td>\n",
       "      <td>1.391637</td>\n",
       "      <td>43.594461</td>\n",
       "      <td>39.845539</td>\n",
       "      <td>42.719153</td>\n",
       "      <td>36.965292</td>\n",
       "      <td>43.096304</td>\n",
       "      <td>37.529757</td>\n",
       "      <td>NaN</td>\n",
       "      <td>-1.110001</td>\n",
       "      <td>42.200001</td>\n",
       "    </tr>\n",
       "    <tr>\n",
       "      <th>4</th>\n",
       "      <td>40.150002</td>\n",
       "      <td>42.200001</td>\n",
       "      <td>40.150002</td>\n",
       "      <td>42.200001</td>\n",
       "      <td>1.560001</td>\n",
       "      <td>41.613333</td>\n",
       "      <td>40.801111</td>\n",
       "      <td>39.897895</td>\n",
       "      <td>40.303530</td>\n",
       "      <td>1.118613</td>\n",
       "      <td>...</td>\n",
       "      <td>1.371508</td>\n",
       "      <td>43.311019</td>\n",
       "      <td>39.915647</td>\n",
       "      <td>42.735582</td>\n",
       "      <td>37.060208</td>\n",
       "      <td>43.046547</td>\n",
       "      <td>37.560513</td>\n",
       "      <td>NaN</td>\n",
       "      <td>2.049999</td>\n",
       "      <td>42.000000</td>\n",
       "    </tr>\n",
       "    <tr>\n",
       "      <th>...</th>\n",
       "      <td>...</td>\n",
       "      <td>...</td>\n",
       "      <td>...</td>\n",
       "      <td>...</td>\n",
       "      <td>...</td>\n",
       "      <td>...</td>\n",
       "      <td>...</td>\n",
       "      <td>...</td>\n",
       "      <td>...</td>\n",
       "      <td>...</td>\n",
       "      <td>...</td>\n",
       "      <td>...</td>\n",
       "      <td>...</td>\n",
       "      <td>...</td>\n",
       "      <td>...</td>\n",
       "      <td>...</td>\n",
       "      <td>...</td>\n",
       "      <td>...</td>\n",
       "      <td>...</td>\n",
       "      <td>...</td>\n",
       "      <td>...</td>\n",
       "    </tr>\n",
       "    <tr>\n",
       "      <th>3389</th>\n",
       "      <td>106.940002</td>\n",
       "      <td>107.639999</td>\n",
       "      <td>106.690002</td>\n",
       "      <td>107.349998</td>\n",
       "      <td>-0.910004</td>\n",
       "      <td>107.026667</td>\n",
       "      <td>107.345000</td>\n",
       "      <td>105.774000</td>\n",
       "      <td>104.783143</td>\n",
       "      <td>1.156308</td>\n",
       "      <td>...</td>\n",
       "      <td>2.732308</td>\n",
       "      <td>109.872319</td>\n",
       "      <td>104.181015</td>\n",
       "      <td>110.465132</td>\n",
       "      <td>101.082868</td>\n",
       "      <td>110.247759</td>\n",
       "      <td>99.318527</td>\n",
       "      <td>55.137312</td>\n",
       "      <td>0.409996</td>\n",
       "      <td>105.470001</td>\n",
       "    </tr>\n",
       "    <tr>\n",
       "      <th>3390</th>\n",
       "      <td>106.949997</td>\n",
       "      <td>106.949997</td>\n",
       "      <td>105.129997</td>\n",
       "      <td>105.470001</td>\n",
       "      <td>-1.879997</td>\n",
       "      <td>106.873334</td>\n",
       "      <td>107.550001</td>\n",
       "      <td>105.871053</td>\n",
       "      <td>104.716177</td>\n",
       "      <td>1.253923</td>\n",
       "      <td>...</td>\n",
       "      <td>2.744089</td>\n",
       "      <td>109.345284</td>\n",
       "      <td>104.401385</td>\n",
       "      <td>110.607498</td>\n",
       "      <td>101.134608</td>\n",
       "      <td>110.204354</td>\n",
       "      <td>99.227999</td>\n",
       "      <td>50.240974</td>\n",
       "      <td>-1.479996</td>\n",
       "      <td>107.800003</td>\n",
       "    </tr>\n",
       "    <tr>\n",
       "      <th>3391</th>\n",
       "      <td>106.239998</td>\n",
       "      <td>107.980003</td>\n",
       "      <td>106.220001</td>\n",
       "      <td>107.800003</td>\n",
       "      <td>2.330002</td>\n",
       "      <td>107.200002</td>\n",
       "      <td>107.825001</td>\n",
       "      <td>105.863889</td>\n",
       "      <td>104.618182</td>\n",
       "      <td>1.249128</td>\n",
       "      <td>...</td>\n",
       "      <td>2.725552</td>\n",
       "      <td>110.242962</td>\n",
       "      <td>104.157042</td>\n",
       "      <td>110.737227</td>\n",
       "      <td>100.990551</td>\n",
       "      <td>110.069286</td>\n",
       "      <td>99.167079</td>\n",
       "      <td>55.489642</td>\n",
       "      <td>1.560005</td>\n",
       "      <td>108.330002</td>\n",
       "    </tr>\n",
       "    <tr>\n",
       "      <th>3392</th>\n",
       "      <td>108.830002</td>\n",
       "      <td>109.599998</td>\n",
       "      <td>108.330002</td>\n",
       "      <td>108.330002</td>\n",
       "      <td>0.529999</td>\n",
       "      <td>108.413335</td>\n",
       "      <td>107.917144</td>\n",
       "      <td>105.905882</td>\n",
       "      <td>104.586563</td>\n",
       "      <td>1.364888</td>\n",
       "      <td>...</td>\n",
       "      <td>2.763007</td>\n",
       "      <td>109.731260</td>\n",
       "      <td>107.095410</td>\n",
       "      <td>110.915759</td>\n",
       "      <td>100.896006</td>\n",
       "      <td>110.112577</td>\n",
       "      <td>99.060548</td>\n",
       "      <td>56.605212</td>\n",
       "      <td>-0.500000</td>\n",
       "      <td>109.110001</td>\n",
       "    </tr>\n",
       "    <tr>\n",
       "      <th>3393</th>\n",
       "      <td>107.699997</td>\n",
       "      <td>109.540001</td>\n",
       "      <td>107.610001</td>\n",
       "      <td>109.110001</td>\n",
       "      <td>0.779999</td>\n",
       "      <td>108.720001</td>\n",
       "      <td>107.720001</td>\n",
       "      <td>105.968750</td>\n",
       "      <td>104.517097</td>\n",
       "      <td>1.566937</td>\n",
       "      <td>...</td>\n",
       "      <td>2.780130</td>\n",
       "      <td>109.823086</td>\n",
       "      <td>107.616916</td>\n",
       "      <td>111.115151</td>\n",
       "      <td>100.822349</td>\n",
       "      <td>110.077356</td>\n",
       "      <td>98.956838</td>\n",
       "      <td>58.254979</td>\n",
       "      <td>1.410004</td>\n",
       "      <td>NaN</td>\n",
       "    </tr>\n",
       "  </tbody>\n",
       "</table>\n",
       "<p>3394 rows × 21 columns</p>\n",
       "</div>"
      ],
      "text/plain": [
       "            open        high         low       close  close_change  \\\n",
       "0      38.279999   40.320000   37.939999   40.320000      0.000000   \n",
       "1      40.200001   42.000000   39.700001   42.000000      1.680000   \n",
       "2      42.060001   42.320000   41.549999   42.320000      0.320000   \n",
       "3      41.750000   41.770000   40.450001   40.639999     -1.680000   \n",
       "4      40.150002   42.200001   40.150002   42.200001      1.560001   \n",
       "...          ...         ...         ...         ...           ...   \n",
       "3389  106.940002  107.639999  106.690002  107.349998     -0.910004   \n",
       "3390  106.949997  106.949997  105.129997  105.470001     -1.879997   \n",
       "3391  106.239998  107.980003  106.220001  107.800003      2.330002   \n",
       "3392  108.830002  109.599998  108.330002  108.330002      0.529999   \n",
       "3393  107.699997  109.540001  107.610001  109.110001      0.779999   \n",
       "\n",
       "           ma_3d      ma_10d      ma_30d      ma_60d     std_7  ...    std_60  \\\n",
       "0      41.160000   41.496000   40.072667   40.216334  0.987387  ...  1.394817   \n",
       "1      41.546666   41.580000   39.948125   40.269033  0.941319  ...  1.402411   \n",
       "2      41.653333   41.311429   39.892353   40.322813  0.866718  ...  1.412751   \n",
       "3      41.720000   41.147500   39.842223   40.313031  1.063445  ...  1.391637   \n",
       "4      41.613333   40.801111   39.897895   40.303530  1.118613  ...  1.371508   \n",
       "...          ...         ...         ...         ...       ...  ...       ...   \n",
       "3389  107.026667  107.345000  105.774000  104.783143  1.156308  ...  2.732308   \n",
       "3390  106.873334  107.550001  105.871053  104.716177  1.253923  ...  2.744089   \n",
       "3391  107.200002  107.825001  105.863889  104.618182  1.249128  ...  2.725552   \n",
       "3392  108.413335  107.917144  105.905882  104.586563  1.364888  ...  2.763007   \n",
       "3393  108.720001  107.720001  105.968750  104.517097  1.566937  ...  2.780130   \n",
       "\n",
       "          upper3      lower3     upper30     lower30     upper60    lower60  \\\n",
       "0      43.535879   38.784121   42.992476   37.152858   43.005967  37.426700   \n",
       "1      43.695279   39.398054   42.939715   36.956536   43.073854  37.464211   \n",
       "2      43.437411   39.869255   42.825231   36.959475   43.148315  37.497311   \n",
       "3      43.594461   39.845539   42.719153   36.965292   43.096304  37.529757   \n",
       "4      43.311019   39.915647   42.735582   37.060208   43.046547  37.560513   \n",
       "...          ...         ...         ...         ...         ...        ...   \n",
       "3389  109.872319  104.181015  110.465132  101.082868  110.247759  99.318527   \n",
       "3390  109.345284  104.401385  110.607498  101.134608  110.204354  99.227999   \n",
       "3391  110.242962  104.157042  110.737227  100.990551  110.069286  99.167079   \n",
       "3392  109.731260  107.095410  110.915759  100.896006  110.112577  99.060548   \n",
       "3393  109.823086  107.616916  111.115151  100.822349  110.077356  98.956838   \n",
       "\n",
       "            RSI    target  targetNextClose  \n",
       "0           NaN  2.040001        42.000000  \n",
       "1           NaN  1.799999        42.320000  \n",
       "2           NaN  0.259998        40.639999  \n",
       "3           NaN -1.110001        42.200001  \n",
       "4           NaN  2.049999        42.000000  \n",
       "...         ...       ...              ...  \n",
       "3389  55.137312  0.409996       105.470001  \n",
       "3390  50.240974 -1.479996       107.800003  \n",
       "3391  55.489642  1.560005       108.330002  \n",
       "3392  56.605212 -0.500000       109.110001  \n",
       "3393  58.254979  1.410004              NaN  \n",
       "\n",
       "[3394 rows x 21 columns]"
      ]
     },
     "execution_count": 65,
     "metadata": {},
     "output_type": "execute_result"
    }
   ],
   "source": [
    "bova11"
   ]
  },
  {
   "cell_type": "code",
   "execution_count": 66,
   "metadata": {},
   "outputs": [],
   "source": [
    "bova11.dropna(inplace = True)"
   ]
  },
  {
   "cell_type": "code",
   "execution_count": 67,
   "metadata": {},
   "outputs": [
    {
     "name": "stdout",
     "output_type": "stream",
     "text": [
      "[[-0.41052802 -0.95937954 -0.97594966 ... -0.34158244 -0.812735\n",
      "  -0.94288915]\n",
      " [-0.39380423 -0.93549828 -0.95100022 ... -0.1145866  -0.81635782\n",
      "  -0.94311308]\n",
      " [-0.38663696 -0.9468809  -0.94178467 ... -0.11645738 -0.82917641\n",
      "  -0.90033593]\n",
      " ...\n",
      " [ 0.7034323   0.56991398  0.55990106 ...  0.05444169 -0.8837953\n",
      "   0.59798439]\n",
      " [ 0.69212389  0.59290263  0.58440103 ...  0.21208654 -0.79908022\n",
      "   0.60985446]\n",
      " [ 0.73337584  0.6290592   0.63182744 ...  0.2455929  -0.85648596\n",
      "   0.62732364]]\n"
     ]
    }
   ],
   "source": [
    "scaler = MinMaxScaler(feature_range = (-1, 1))\n",
    "bova11_scaled = scaler.fit_transform(bova11)\n",
    "print(bova11_scaled)"
   ]
  },
  {
   "cell_type": "markdown",
   "metadata": {},
   "source": [
    "Select the features and prediction target columns"
   ]
  },
  {
   "cell_type": "code",
   "execution_count": 68,
   "metadata": {},
   "outputs": [
    {
     "data": {
      "text/plain": [
       "((3278, 100, 19), (3278, 1))"
      ]
     },
     "execution_count": 68,
     "metadata": {},
     "output_type": "execute_result"
    }
   ],
   "source": [
    "backcandles = 100\n",
    "X = []\n",
    "for j in range(19): # range is the number of feature columns you will use\n",
    "    X.append([])\n",
    "    for i in range(backcandles, bova11_scaled.shape[0]):\n",
    "        X[j].append(bova11_scaled[i-backcandles:i, j])\n",
    "\n",
    "#move axis from 0 to position 2\n",
    "X = np.moveaxis(X, [0], [2])\n",
    "\n",
    "X, yi = np.array(X), np.array(bova11_scaled[backcandles:, -1]) # Chosing the last column as the pred. target\n",
    "y = np.reshape(yi, (len(yi), 1))\n",
    "\n",
    "X.shape, y.shape"
   ]
  },
  {
   "cell_type": "markdown",
   "metadata": {},
   "source": [
    "Split the train and test data"
   ]
  },
  {
   "cell_type": "code",
   "execution_count": 69,
   "metadata": {},
   "outputs": [],
   "source": [
    "splitlimit = int(len(X) * 0.9)\n",
    "X_train, X_test = X[:splitlimit], X[splitlimit+1:]\n",
    "y_train, y_test = y[:splitlimit], y[splitlimit+1:]"
   ]
  },
  {
   "cell_type": "code",
   "execution_count": 70,
   "metadata": {},
   "outputs": [
    {
     "name": "stdout",
     "output_type": "stream",
     "text": [
      "(2950, 100, 19) (327, 100, 19) (2950, 1) (327, 1)\n"
     ]
    }
   ],
   "source": [
    "print(X_train.shape, X_test.shape, y_train.shape, y_test.shape)"
   ]
  },
  {
   "cell_type": "markdown",
   "metadata": {},
   "source": [
    "### 4. Creating the model"
   ]
  },
  {
   "cell_type": "code",
   "execution_count": 71,
   "metadata": {},
   "outputs": [],
   "source": [
    "def create_lstm_model(backcandles, num_features, dropout_prob):\n",
    "    model = Sequential()\n",
    "    model.add(LSTM(64, input_shape = (backcandles, num_features)))\n",
    "    model.add(Dropout(dropout_prob))\n",
    "    model.add(Dense(1))\n",
    "    adam = optimizers.Adam()\n",
    "    model.compile(optimizer=adam, loss = 'mse')\n",
    "    return model"
   ]
  },
  {
   "cell_type": "code",
   "execution_count": 72,
   "metadata": {},
   "outputs": [
    {
     "name": "stdout",
     "output_type": "stream",
     "text": [
      "Epoch 1/10\n",
      "166/166 [==============================] - 10s 46ms/step - loss: 0.0147 - val_loss: 0.0082\n",
      "Epoch 2/10\n",
      "166/166 [==============================] - 7s 40ms/step - loss: 0.0029 - val_loss: 0.0019\n",
      "Epoch 3/10\n",
      "166/166 [==============================] - 7s 43ms/step - loss: 0.0022 - val_loss: 0.0020\n",
      "Epoch 4/10\n",
      "166/166 [==============================] - 7s 40ms/step - loss: 0.0018 - val_loss: 0.0021\n",
      "Epoch 5/10\n",
      "166/166 [==============================] - 6s 38ms/step - loss: 0.0017 - val_loss: 0.0017\n",
      "Epoch 6/10\n",
      "166/166 [==============================] - 7s 40ms/step - loss: 0.0015 - val_loss: 0.0015\n",
      "Epoch 7/10\n",
      "166/166 [==============================] - 6s 36ms/step - loss: 0.0015 - val_loss: 0.0014\n",
      "Epoch 8/10\n",
      "166/166 [==============================] - 7s 40ms/step - loss: 0.0015 - val_loss: 0.0013\n",
      "Epoch 9/10\n",
      "166/166 [==============================] - 6s 39ms/step - loss: 0.0015 - val_loss: 0.0030\n",
      "Epoch 10/10\n",
      "166/166 [==============================] - 7s 40ms/step - loss: 0.0013 - val_loss: 0.0014\n"
     ]
    },
    {
     "data": {
      "text/plain": [
       "<keras.callbacks.History at 0x16ecbdf67d0>"
      ]
     },
     "execution_count": 72,
     "metadata": {},
     "output_type": "execute_result"
    }
   ],
   "source": [
    "model = create_lstm_model(100, 19, 0.1)\n",
    "model.fit(x = X_train, y = y_train, batch_size = 16, epochs = 10, shuffle = True, validation_split = 0.1)"
   ]
  },
  {
   "cell_type": "code",
   "execution_count": 73,
   "metadata": {},
   "outputs": [
    {
     "name": "stdout",
     "output_type": "stream",
     "text": [
      "11/11 [==============================] - 0s 21ms/step - loss: 0.0017\n"
     ]
    }
   ],
   "source": [
    "results = model.evaluate(X_test, y_test)"
   ]
  },
  {
   "cell_type": "markdown",
   "metadata": {},
   "source": [
    "### 5. Making predictions"
   ]
  },
  {
   "cell_type": "code",
   "execution_count": 74,
   "metadata": {},
   "outputs": [
    {
     "name": "stdout",
     "output_type": "stream",
     "text": [
      "11/11 [==============================] - 1s 19ms/step\n",
      "[0.6133922] [0.57625984]\n",
      "[0.58776265] [0.56864497]\n",
      "[0.5862424] [0.6134378]\n",
      "[0.5854267] [0.56170213]\n",
      "[0.6009827] [0.5603584]\n",
      "[0.5866808] [0.5659575]\n",
      "[0.5773615] [0.56707722]\n",
      "[0.57731503] [0.61119819]\n",
      "[0.57721233] [0.5968645]\n",
      "[0.59361976] [0.63023511]\n"
     ]
    }
   ],
   "source": [
    "y_pred = model.predict(X_test)\n",
    "\n",
    "for i in range(10):\n",
    "    print(y_pred[i], y_test[i])"
   ]
  },
  {
   "cell_type": "code",
   "execution_count": 75,
   "metadata": {},
   "outputs": [
    {
     "data": {
      "text/plain": [
       "(327, 1)"
      ]
     },
     "execution_count": 75,
     "metadata": {},
     "output_type": "execute_result"
    }
   ],
   "source": [
    "y_pred.shape"
   ]
  },
  {
   "cell_type": "code",
   "execution_count": 76,
   "metadata": {},
   "outputs": [
    {
     "data": {
      "image/png": "[encoded data removed]",
      "text/plain": [
       "<Figure size 1400x1000 with 1 Axes>"
      ]
     },
     "metadata": {},
     "output_type": "display_data"
    }
   ],
   "source": [
    "plt.plot(y_test, color = 'blue', label = 'Test')\n",
    "plt.plot(y_pred, color = 'red', label = 'pred')\n",
    "plt.legend()\n",
    "plt.show()"
   ]
  },
  {
   "cell_type": "markdown",
   "metadata": {},
   "source": [
    "### 6. Calculating Error metrics"
   ]
  },
  {
   "cell_type": "code",
   "execution_count": 77,
   "metadata": {},
   "outputs": [],
   "source": [
    "def MAPE(actual, pred):\n",
    "    actual, pred = np.array(actual), np.array(pred)\n",
    "    MAPE = np.nanmean(np.abs((actual - pred) / actual)) * 100\n",
    "    return MAPE\n",
    "\n",
    "def MAE(actual, pred):\n",
    "    MAE = mean_absolute_error(actual, pred)\n",
    "    return MAE\n",
    "\n",
    "def RMSE(actual, pred):\n",
    "    RMSE = mean_squared_error(actual, pred, squared = False)\n",
    "    return RMSE"
   ]
  },
  {
   "cell_type": "code",
   "execution_count": 78,
   "metadata": {},
   "outputs": [
    {
     "data": {
      "text/plain": [
       "6.519517471000491"
      ]
     },
     "execution_count": 78,
     "metadata": {},
     "output_type": "execute_result"
    }
   ],
   "source": [
    "MAPE(y_test, y_pred)"
   ]
  },
  {
   "cell_type": "code",
   "execution_count": 79,
   "metadata": {},
   "outputs": [
    {
     "data": {
      "text/plain": [
       "0.03351260384934349"
      ]
     },
     "execution_count": 79,
     "metadata": {},
     "output_type": "execute_result"
    }
   ],
   "source": [
    "MAE(y_test, y_pred)"
   ]
  },
  {
   "cell_type": "code",
   "execution_count": 80,
   "metadata": {},
   "outputs": [
    {
     "data": {
      "text/plain": [
       "0.0413382408382935"
      ]
     },
     "execution_count": 80,
     "metadata": {},
     "output_type": "execute_result"
    }
   ],
   "source": [
    "RMSE(y_test, y_pred)"
   ]
  },
  {
   "cell_type": "code",
   "execution_count": 81,
   "metadata": {},
   "outputs": [],
   "source": [
    "backcandles = 50\n",
    "X = []\n",
    "for j in range(19): # range is the number of feature columns you will use\n",
    "    X.append([])\n",
    "    for i in range(backcandles, bova11_scaled.shape[0]):\n",
    "        X[j].append(bova11_scaled[i-backcandles:i, j])\n",
    "\n",
    "#move axis from 0 to position 2\n",
    "X = np.moveaxis(X, [0], [2])\n",
    "\n",
    "X, yi = np.array(X), np.array(bova11_scaled[backcandles:, -1]) # Chosing the last column as the pred. target\n",
    "y = np.reshape(yi, (len(yi), 1))\n",
    "    \n",
    "splitlimit = int(len(X) * 0.9)\n",
    "x_train, x_test = X[:splitlimit], X[splitlimit+1:]\n",
    "y_train, y_test = y[:splitlimit], y[splitlimit+1:]"
   ]
  },
  {
   "cell_type": "markdown",
   "metadata": {},
   "source": [
    "### 7. Tuning the hyperparameters"
   ]
  },
  {
   "cell_type": "code",
   "execution_count": 130,
   "metadata": {},
   "outputs": [],
   "source": [
    "def LSTM_hyperparameter_tuning(config):\n",
    "    first_add_layer, second_add_layer, third_add_layer, n_neurons, n_batch_size, dropout, pass_days = config\n",
    "    combinations = list(itertools.product(first_add_layer, second_add_layer, third_add_layer,\n",
    "                                         n_neurons, n_batch_size, dropout, pass_days))\n",
    "    print(combinations)\n",
    "    print('\\n')\n",
    "    \n",
    "    hist = []\n",
    "    \n",
    "    for i in range(0, len(combinations)):\n",
    "        \n",
    "        print(f'{i+1}th combination: \\n')\n",
    "        print('-'* 100)\n",
    "        \n",
    "        first_add_layer, second_add_layer, third_add_layer, n_neurons, n_batch_size, dropout, pass_days = combinations[i]\n",
    "        \n",
    "        print(combinations[i])\n",
    "        \n",
    "        backcandles = pass_days\n",
    "        X = []\n",
    "        for j in range(19): # range is the number of feature columns you will use\n",
    "            X.append([])\n",
    "            for k in range(backcandles, bova11_scaled.shape[0]):\n",
    "                X[j].append(bova11_scaled[k-backcandles:k, j])\n",
    "\n",
    "        #move axis from 0 to position 2\n",
    "        X = np.moveaxis(X, [0], [2])\n",
    "\n",
    "        X, yi = np.array(X), np.array(bova11_scaled[backcandles:, -1]) # Chosing the last column as the pred. target\n",
    "        y = np.reshape(yi, (len(yi), 1))\n",
    "\n",
    "        splitlimit = int(len(X) * 0.9)\n",
    "        x_train, x_test = X[:splitlimit], X[splitlimit+1:]\n",
    "        y_train, y_test = y[:splitlimit], y[splitlimit+1:]\n",
    "        \n",
    "        model = Sequential()\n",
    "        model.add(LSTM(units = n_neurons, return_sequences = True,\n",
    "                 input_shape = (x_train.shape[1], x_train.shape[2])))\n",
    "        model.add(Dropout(dropout))\n",
    "        \n",
    "        if first_add_layer:\n",
    "            model.add(LSTM(units = n_neurons, return_sequences = True))\n",
    "            model.add(Dropout(dropout))\n",
    "        \n",
    "        if second_add_layer:\n",
    "            model.add(LSTM(units = n_neurons, return_sequences = True))\n",
    "            model.add(Dropout(dropout))\n",
    "        \n",
    "        if third_add_layer:\n",
    "            model.add(LSTM(units = n_neurons, return_sequences = True))\n",
    "            model.add(Dropout(dropout))\n",
    "        \n",
    "        model.add(LSTM(units = n_neurons, return_sequences = False))\n",
    "        model.add(Dropout(dropout))\n",
    "        model.add(Dense(units = 1, activation = 'linear'))\n",
    "        model.compile(optimizer = 'adam', \n",
    "                      loss = 'mse', \n",
    "                      metrics = [tf.keras.metrics.RootMeanSquaredError()])\n",
    "        \n",
    "        es = EarlyStopping(monitor = 'val_loss', mode = 'min', verbose = 1, patience = 7)\n",
    "        \n",
    "        file_path = 'best_model.h5'\n",
    "        \n",
    "        mc = ModelCheckpoint(file_path, monitor = 'val_loss', mode = 'min', verbose = 1, save_best_only = True)\n",
    "        \n",
    "        model.fit(x_train, y_train, \n",
    "                  validation_split = 0.1, \n",
    "                  epochs = 50, \n",
    "                  batch_size = n_batch_size,\n",
    "                  callbacks = [es, mc], \n",
    "                  verbose = 0,\n",
    "                  shuffle = True)\n",
    "        train_accuracy = model.evaluate(x_train, y_train, verbose = 0)\n",
    "        test_accuracy = model.evaluate(x_test, y_test, verbose = 0)\n",
    "        \n",
    "        hist.append(list((first_add_layer, second_add_layer, third_add_layer, n_neurons, n_batch_size, dropout,pass_days, train_accuracy, test_accuracy)))\n",
    "        \n",
    "        print(f'{str(i)}-th combination = {combinations[i]} \\n train accucary: {train_accuracy} and test accuracy: {test_accuracy}')\n",
    "        print('-' * 100)\n",
    "        print('-'* 100)\n",
    "        \n",
    "    return hist"
   ]
  },
  {
   "cell_type": "code",
   "execution_count": 131,
   "metadata": {},
   "outputs": [
    {
     "name": "stdout",
     "output_type": "stream",
     "text": [
      "[(False, False, False, 256, 16, 0.2, 30), (False, False, False, 256, 16, 0.2, 50), (False, False, False, 256, 16, 0.2, 100), (False, False, False, 256, 16, 0.1, 30), (False, False, False, 256, 16, 0.1, 50), (False, False, False, 256, 16, 0.1, 100), (False, False, False, 256, 32, 0.2, 30), (False, False, False, 256, 32, 0.2, 50), (False, False, False, 256, 32, 0.2, 100), (False, False, False, 256, 32, 0.1, 30), (False, False, False, 256, 32, 0.1, 50), (False, False, False, 256, 32, 0.1, 100), (False, False, False, 128, 16, 0.2, 30), (False, False, False, 128, 16, 0.2, 50), (False, False, False, 128, 16, 0.2, 100), (False, False, False, 128, 16, 0.1, 30), (False, False, False, 128, 16, 0.1, 50), (False, False, False, 128, 16, 0.1, 100), (False, False, False, 128, 32, 0.2, 30), (False, False, False, 128, 32, 0.2, 50), (False, False, False, 128, 32, 0.2, 100), (False, False, False, 128, 32, 0.1, 30), (False, False, False, 128, 32, 0.1, 50), (False, False, False, 128, 32, 0.1, 100), (False, False, False, 64, 16, 0.2, 30), (False, False, False, 64, 16, 0.2, 50), (False, False, False, 64, 16, 0.2, 100), (False, False, False, 64, 16, 0.1, 30), (False, False, False, 64, 16, 0.1, 50), (False, False, False, 64, 16, 0.1, 100), (False, False, False, 64, 32, 0.2, 30), (False, False, False, 64, 32, 0.2, 50), (False, False, False, 64, 32, 0.2, 100), (False, False, False, 64, 32, 0.1, 30), (False, False, False, 64, 32, 0.1, 50), (False, False, False, 64, 32, 0.1, 100)]\n",
      "\n",
      "\n",
      "1th combination: \n",
      "\n",
      "----------------------------------------------------------------------------------------------------\n",
      "(False, False, False, 256, 16, 0.2, 30)\n",
      "\n",
      "Epoch 1: val_loss improved from inf to 0.00640, saving model to best_model.h5\n",
      "\n",
      "Epoch 2: val_loss improved from 0.00640 to 0.00211, saving model to best_model.h5\n",
      "\n",
      "Epoch 3: val_loss did not improve from 0.00211\n",
      "\n",
      "Epoch 4: val_loss improved from 0.00211 to 0.00203, saving model to best_model.h5\n",
      "\n",
      "Epoch 5: val_loss did not improve from 0.00203\n",
      "\n",
      "Epoch 6: val_loss improved from 0.00203 to 0.00144, saving model to best_model.h5\n",
      "\n",
      "Epoch 7: val_loss did not improve from 0.00144\n",
      "\n",
      "Epoch 8: val_loss improved from 0.00144 to 0.00139, saving model to best_model.h5\n",
      "\n",
      "Epoch 9: val_loss did not improve from 0.00139\n",
      "\n",
      "Epoch 10: val_loss did not improve from 0.00139\n",
      "\n",
      "Epoch 11: val_loss did not improve from 0.00139\n",
      "\n",
      "Epoch 12: val_loss improved from 0.00139 to 0.00123, saving model to best_model.h5\n",
      "\n",
      "Epoch 13: val_loss did not improve from 0.00123\n",
      "\n",
      "Epoch 14: val_loss did not improve from 0.00123\n",
      "\n",
      "Epoch 15: val_loss did not improve from 0.00123\n",
      "\n",
      "Epoch 16: val_loss did not improve from 0.00123\n",
      "\n",
      "Epoch 17: val_loss did not improve from 0.00123\n",
      "\n",
      "Epoch 18: val_loss did not improve from 0.00123\n",
      "\n",
      "Epoch 19: val_loss did not improve from 0.00123\n",
      "Epoch 19: early stopping\n",
      "0-th combination = (False, False, False, 256, 16, 0.2, 30) \n",
      " train accucary: [0.0008619095897302032, 0.02935829758644104] and test accuracy: [0.0016591883031651378, 0.04073313623666763]\n",
      "----------------------------------------------------------------------------------------------------\n",
      "----------------------------------------------------------------------------------------------------\n",
      "2th combination: \n",
      "\n",
      "----------------------------------------------------------------------------------------------------\n",
      "(False, False, False, 256, 16, 0.2, 50)\n",
      "\n",
      "Epoch 1: val_loss improved from inf to 0.00643, saving model to best_model.h5\n",
      "\n",
      "Epoch 2: val_loss improved from 0.00643 to 0.00189, saving model to best_model.h5\n",
      "\n",
      "Epoch 3: val_loss did not improve from 0.00189\n",
      "\n",
      "Epoch 4: val_loss did not improve from 0.00189\n",
      "\n",
      "Epoch 5: val_loss did not improve from 0.00189\n",
      "\n",
      "Epoch 6: val_loss improved from 0.00189 to 0.00149, saving model to best_model.h5\n",
      "\n",
      "Epoch 7: val_loss improved from 0.00149 to 0.00146, saving model to best_model.h5\n",
      "\n",
      "Epoch 8: val_loss did not improve from 0.00146\n",
      "\n",
      "Epoch 9: val_loss did not improve from 0.00146\n",
      "\n",
      "Epoch 10: val_loss improved from 0.00146 to 0.00134, saving model to best_model.h5\n",
      "\n",
      "Epoch 11: val_loss did not improve from 0.00134\n",
      "\n",
      "Epoch 12: val_loss did not improve from 0.00134\n",
      "\n",
      "Epoch 13: val_loss did not improve from 0.00134\n",
      "\n",
      "Epoch 14: val_loss did not improve from 0.00134\n",
      "\n",
      "Epoch 15: val_loss did not improve from 0.00134\n",
      "\n",
      "Epoch 16: val_loss did not improve from 0.00134\n",
      "\n",
      "Epoch 17: val_loss did not improve from 0.00134\n",
      "Epoch 17: early stopping\n",
      "1-th combination = (False, False, False, 256, 16, 0.2, 50) \n",
      " train accucary: [0.0013680272968485951, 0.036986853927373886] and test accuracy: [0.002448481973260641, 0.049482136964797974]\n",
      "----------------------------------------------------------------------------------------------------\n",
      "----------------------------------------------------------------------------------------------------\n",
      "3th combination: \n",
      "\n",
      "----------------------------------------------------------------------------------------------------\n",
      "(False, False, False, 256, 16, 0.2, 100)\n",
      "\n",
      "Epoch 1: val_loss improved from inf to 0.00606, saving model to best_model.h5\n",
      "\n",
      "Epoch 2: val_loss improved from 0.00606 to 0.00356, saving model to best_model.h5\n",
      "\n",
      "Epoch 3: val_loss improved from 0.00356 to 0.00153, saving model to best_model.h5\n",
      "\n",
      "Epoch 4: val_loss did not improve from 0.00153\n",
      "\n",
      "Epoch 5: val_loss did not improve from 0.00153\n",
      "\n",
      "Epoch 6: val_loss did not improve from 0.00153\n",
      "\n",
      "Epoch 7: val_loss improved from 0.00153 to 0.00132, saving model to best_model.h5\n",
      "\n",
      "Epoch 8: val_loss did not improve from 0.00132\n",
      "\n",
      "Epoch 9: val_loss did not improve from 0.00132\n",
      "\n",
      "Epoch 10: val_loss did not improve from 0.00132\n",
      "\n",
      "Epoch 11: val_loss did not improve from 0.00132\n",
      "\n",
      "Epoch 12: val_loss did not improve from 0.00132\n",
      "\n",
      "Epoch 13: val_loss did not improve from 0.00132\n",
      "\n",
      "Epoch 14: val_loss did not improve from 0.00132\n",
      "Epoch 14: early stopping\n",
      "2-th combination = (False, False, False, 256, 16, 0.2, 100) \n",
      " train accucary: [0.0008640430169180036, 0.02939460799098015] and test accuracy: [0.001542002777568996, 0.03926834464073181]\n",
      "----------------------------------------------------------------------------------------------------\n",
      "----------------------------------------------------------------------------------------------------\n",
      "4th combination: \n",
      "\n",
      "----------------------------------------------------------------------------------------------------\n",
      "(False, False, False, 256, 16, 0.1, 30)\n",
      "\n",
      "Epoch 1: val_loss improved from inf to 0.00268, saving model to best_model.h5\n",
      "\n",
      "Epoch 2: val_loss improved from 0.00268 to 0.00188, saving model to best_model.h5\n",
      "\n",
      "Epoch 3: val_loss improved from 0.00188 to 0.00153, saving model to best_model.h5\n",
      "\n",
      "Epoch 4: val_loss improved from 0.00153 to 0.00144, saving model to best_model.h5\n",
      "\n",
      "Epoch 5: val_loss did not improve from 0.00144\n",
      "\n",
      "Epoch 6: val_loss did not improve from 0.00144\n",
      "\n",
      "Epoch 7: val_loss improved from 0.00144 to 0.00134, saving model to best_model.h5\n",
      "\n",
      "Epoch 8: val_loss did not improve from 0.00134\n",
      "\n",
      "Epoch 9: val_loss did not improve from 0.00134\n",
      "\n",
      "Epoch 10: val_loss did not improve from 0.00134\n",
      "\n",
      "Epoch 11: val_loss did not improve from 0.00134\n",
      "\n",
      "Epoch 12: val_loss did not improve from 0.00134\n",
      "\n",
      "Epoch 13: val_loss did not improve from 0.00134\n",
      "\n",
      "Epoch 14: val_loss improved from 0.00134 to 0.00124, saving model to best_model.h5\n",
      "\n",
      "Epoch 15: val_loss did not improve from 0.00124\n",
      "\n",
      "Epoch 16: val_loss did not improve from 0.00124\n",
      "\n",
      "Epoch 17: val_loss did not improve from 0.00124\n"
     ]
    },
    {
     "ename": "KeyboardInterrupt",
     "evalue": "",
     "output_type": "error",
     "traceback": [
      "\u001b[1;31m---------------------------------------------------------------------------\u001b[0m",
      "\u001b[1;31mKeyboardInterrupt\u001b[0m                         Traceback (most recent call last)",
      "Input \u001b[1;32mIn [131]\u001b[0m, in \u001b[0;36m<cell line: 3>\u001b[1;34m()\u001b[0m\n\u001b[0;32m      1\u001b[0m config \u001b[38;5;241m=\u001b[39m [[\u001b[38;5;28;01mFalse\u001b[39;00m], [\u001b[38;5;28;01mFalse\u001b[39;00m], [\u001b[38;5;28;01mFalse\u001b[39;00m], [\u001b[38;5;241m256\u001b[39m, \u001b[38;5;241m128\u001b[39m, \u001b[38;5;241m64\u001b[39m], [\u001b[38;5;241m16\u001b[39m,\u001b[38;5;241m32\u001b[39m],[\u001b[38;5;241m0.2\u001b[39m, \u001b[38;5;241m0.1\u001b[39m], [\u001b[38;5;241m30\u001b[39m,\u001b[38;5;241m50\u001b[39m,\u001b[38;5;241m100\u001b[39m]]\n\u001b[1;32m----> 3\u001b[0m hist \u001b[38;5;241m=\u001b[39m \u001b[43mLSTM_hyperparameter_tuning\u001b[49m\u001b[43m(\u001b[49m\u001b[43mconfig\u001b[49m\u001b[43m)\u001b[49m\n",
      "Input \u001b[1;32mIn [130]\u001b[0m, in \u001b[0;36mLSTM_hyperparameter_tuning\u001b[1;34m(config)\u001b[0m\n\u001b[0;32m     62\u001b[0m file_path \u001b[38;5;241m=\u001b[39m \u001b[38;5;124m'\u001b[39m\u001b[38;5;124mbest_model.h5\u001b[39m\u001b[38;5;124m'\u001b[39m\n\u001b[0;32m     64\u001b[0m mc \u001b[38;5;241m=\u001b[39m ModelCheckpoint(file_path, monitor \u001b[38;5;241m=\u001b[39m \u001b[38;5;124m'\u001b[39m\u001b[38;5;124mval_loss\u001b[39m\u001b[38;5;124m'\u001b[39m, mode \u001b[38;5;241m=\u001b[39m \u001b[38;5;124m'\u001b[39m\u001b[38;5;124mmin\u001b[39m\u001b[38;5;124m'\u001b[39m, verbose \u001b[38;5;241m=\u001b[39m \u001b[38;5;241m1\u001b[39m, save_best_only \u001b[38;5;241m=\u001b[39m \u001b[38;5;28;01mTrue\u001b[39;00m)\n\u001b[1;32m---> 66\u001b[0m \u001b[43mmodel\u001b[49m\u001b[38;5;241;43m.\u001b[39;49m\u001b[43mfit\u001b[49m\u001b[43m(\u001b[49m\u001b[43mx_train\u001b[49m\u001b[43m,\u001b[49m\u001b[43m \u001b[49m\u001b[43my_train\u001b[49m\u001b[43m,\u001b[49m\u001b[43m \u001b[49m\n\u001b[0;32m     67\u001b[0m \u001b[43m          \u001b[49m\u001b[43mvalidation_split\u001b[49m\u001b[43m \u001b[49m\u001b[38;5;241;43m=\u001b[39;49m\u001b[43m \u001b[49m\u001b[38;5;241;43m0.1\u001b[39;49m\u001b[43m,\u001b[49m\u001b[43m \u001b[49m\n\u001b[0;32m     68\u001b[0m \u001b[43m          \u001b[49m\u001b[43mepochs\u001b[49m\u001b[43m \u001b[49m\u001b[38;5;241;43m=\u001b[39;49m\u001b[43m \u001b[49m\u001b[38;5;241;43m50\u001b[39;49m\u001b[43m,\u001b[49m\u001b[43m \u001b[49m\n\u001b[0;32m     69\u001b[0m \u001b[43m          \u001b[49m\u001b[43mbatch_size\u001b[49m\u001b[43m \u001b[49m\u001b[38;5;241;43m=\u001b[39;49m\u001b[43m \u001b[49m\u001b[43mn_batch_size\u001b[49m\u001b[43m,\u001b[49m\n\u001b[0;32m     70\u001b[0m \u001b[43m          \u001b[49m\u001b[43mcallbacks\u001b[49m\u001b[43m \u001b[49m\u001b[38;5;241;43m=\u001b[39;49m\u001b[43m \u001b[49m\u001b[43m[\u001b[49m\u001b[43mes\u001b[49m\u001b[43m,\u001b[49m\u001b[43m \u001b[49m\u001b[43mmc\u001b[49m\u001b[43m]\u001b[49m\u001b[43m,\u001b[49m\u001b[43m \u001b[49m\n\u001b[0;32m     71\u001b[0m \u001b[43m          \u001b[49m\u001b[43mverbose\u001b[49m\u001b[43m \u001b[49m\u001b[38;5;241;43m=\u001b[39;49m\u001b[43m \u001b[49m\u001b[38;5;241;43m0\u001b[39;49m\u001b[43m,\u001b[49m\n\u001b[0;32m     72\u001b[0m \u001b[43m          \u001b[49m\u001b[43mshuffle\u001b[49m\u001b[43m \u001b[49m\u001b[38;5;241;43m=\u001b[39;49m\u001b[43m \u001b[49m\u001b[38;5;28;43;01mTrue\u001b[39;49;00m\u001b[43m)\u001b[49m\n\u001b[0;32m     73\u001b[0m train_accuracy \u001b[38;5;241m=\u001b[39m model\u001b[38;5;241m.\u001b[39mevaluate(x_train, y_train, verbose \u001b[38;5;241m=\u001b[39m \u001b[38;5;241m0\u001b[39m)\n\u001b[0;32m     74\u001b[0m test_accuracy \u001b[38;5;241m=\u001b[39m model\u001b[38;5;241m.\u001b[39mevaluate(x_test, y_test, verbose \u001b[38;5;241m=\u001b[39m \u001b[38;5;241m0\u001b[39m)\n",
      "File \u001b[1;32m~\\anaconda3\\envs\\tccenv\\lib\\site-packages\\keras\\utils\\traceback_utils.py:65\u001b[0m, in \u001b[0;36mfilter_traceback.<locals>.error_handler\u001b[1;34m(*args, **kwargs)\u001b[0m\n\u001b[0;32m     63\u001b[0m filtered_tb \u001b[38;5;241m=\u001b[39m \u001b[38;5;28;01mNone\u001b[39;00m\n\u001b[0;32m     64\u001b[0m \u001b[38;5;28;01mtry\u001b[39;00m:\n\u001b[1;32m---> 65\u001b[0m     \u001b[38;5;28;01mreturn\u001b[39;00m fn(\u001b[38;5;241m*\u001b[39margs, \u001b[38;5;241m*\u001b[39m\u001b[38;5;241m*\u001b[39mkwargs)\n\u001b[0;32m     66\u001b[0m \u001b[38;5;28;01mexcept\u001b[39;00m \u001b[38;5;167;01mException\u001b[39;00m \u001b[38;5;28;01mas\u001b[39;00m e:\n\u001b[0;32m     67\u001b[0m     filtered_tb \u001b[38;5;241m=\u001b[39m _process_traceback_frames(e\u001b[38;5;241m.\u001b[39m__traceback__)\n",
      "File \u001b[1;32m~\\anaconda3\\envs\\tccenv\\lib\\site-packages\\keras\\engine\\training.py:1564\u001b[0m, in \u001b[0;36mModel.fit\u001b[1;34m(self, x, y, batch_size, epochs, verbose, callbacks, validation_split, validation_data, shuffle, class_weight, sample_weight, initial_epoch, steps_per_epoch, validation_steps, validation_batch_size, validation_freq, max_queue_size, workers, use_multiprocessing)\u001b[0m\n\u001b[0;32m   1556\u001b[0m \u001b[38;5;28;01mwith\u001b[39;00m tf\u001b[38;5;241m.\u001b[39mprofiler\u001b[38;5;241m.\u001b[39mexperimental\u001b[38;5;241m.\u001b[39mTrace(\n\u001b[0;32m   1557\u001b[0m     \u001b[38;5;124m\"\u001b[39m\u001b[38;5;124mtrain\u001b[39m\u001b[38;5;124m\"\u001b[39m,\n\u001b[0;32m   1558\u001b[0m     epoch_num\u001b[38;5;241m=\u001b[39mepoch,\n\u001b[1;32m   (...)\u001b[0m\n\u001b[0;32m   1561\u001b[0m     _r\u001b[38;5;241m=\u001b[39m\u001b[38;5;241m1\u001b[39m,\n\u001b[0;32m   1562\u001b[0m ):\n\u001b[0;32m   1563\u001b[0m     callbacks\u001b[38;5;241m.\u001b[39mon_train_batch_begin(step)\n\u001b[1;32m-> 1564\u001b[0m     tmp_logs \u001b[38;5;241m=\u001b[39m \u001b[38;5;28;43mself\u001b[39;49m\u001b[38;5;241;43m.\u001b[39;49m\u001b[43mtrain_function\u001b[49m\u001b[43m(\u001b[49m\u001b[43miterator\u001b[49m\u001b[43m)\u001b[49m\n\u001b[0;32m   1565\u001b[0m     \u001b[38;5;28;01mif\u001b[39;00m data_handler\u001b[38;5;241m.\u001b[39mshould_sync:\n\u001b[0;32m   1566\u001b[0m         context\u001b[38;5;241m.\u001b[39masync_wait()\n",
      "File \u001b[1;32m~\\anaconda3\\envs\\tccenv\\lib\\site-packages\\tensorflow\\python\\util\\traceback_utils.py:150\u001b[0m, in \u001b[0;36mfilter_traceback.<locals>.error_handler\u001b[1;34m(*args, **kwargs)\u001b[0m\n\u001b[0;32m    148\u001b[0m filtered_tb \u001b[38;5;241m=\u001b[39m \u001b[38;5;28;01mNone\u001b[39;00m\n\u001b[0;32m    149\u001b[0m \u001b[38;5;28;01mtry\u001b[39;00m:\n\u001b[1;32m--> 150\u001b[0m   \u001b[38;5;28;01mreturn\u001b[39;00m fn(\u001b[38;5;241m*\u001b[39margs, \u001b[38;5;241m*\u001b[39m\u001b[38;5;241m*\u001b[39mkwargs)\n\u001b[0;32m    151\u001b[0m \u001b[38;5;28;01mexcept\u001b[39;00m \u001b[38;5;167;01mException\u001b[39;00m \u001b[38;5;28;01mas\u001b[39;00m e:\n\u001b[0;32m    152\u001b[0m   filtered_tb \u001b[38;5;241m=\u001b[39m _process_traceback_frames(e\u001b[38;5;241m.\u001b[39m__traceback__)\n",
      "File \u001b[1;32m~\\anaconda3\\envs\\tccenv\\lib\\site-packages\\tensorflow\\python\\eager\\def_function.py:915\u001b[0m, in \u001b[0;36mFunction.__call__\u001b[1;34m(self, *args, **kwds)\u001b[0m\n\u001b[0;32m    912\u001b[0m compiler \u001b[38;5;241m=\u001b[39m \u001b[38;5;124m\"\u001b[39m\u001b[38;5;124mxla\u001b[39m\u001b[38;5;124m\"\u001b[39m \u001b[38;5;28;01mif\u001b[39;00m \u001b[38;5;28mself\u001b[39m\u001b[38;5;241m.\u001b[39m_jit_compile \u001b[38;5;28;01melse\u001b[39;00m \u001b[38;5;124m\"\u001b[39m\u001b[38;5;124mnonXla\u001b[39m\u001b[38;5;124m\"\u001b[39m\n\u001b[0;32m    914\u001b[0m \u001b[38;5;28;01mwith\u001b[39;00m OptionalXlaContext(\u001b[38;5;28mself\u001b[39m\u001b[38;5;241m.\u001b[39m_jit_compile):\n\u001b[1;32m--> 915\u001b[0m   result \u001b[38;5;241m=\u001b[39m \u001b[38;5;28mself\u001b[39m\u001b[38;5;241m.\u001b[39m_call(\u001b[38;5;241m*\u001b[39margs, \u001b[38;5;241m*\u001b[39m\u001b[38;5;241m*\u001b[39mkwds)\n\u001b[0;32m    917\u001b[0m new_tracing_count \u001b[38;5;241m=\u001b[39m \u001b[38;5;28mself\u001b[39m\u001b[38;5;241m.\u001b[39mexperimental_get_tracing_count()\n\u001b[0;32m    918\u001b[0m without_tracing \u001b[38;5;241m=\u001b[39m (tracing_count \u001b[38;5;241m==\u001b[39m new_tracing_count)\n",
      "File \u001b[1;32m~\\anaconda3\\envs\\tccenv\\lib\\site-packages\\tensorflow\\python\\eager\\def_function.py:947\u001b[0m, in \u001b[0;36mFunction._call\u001b[1;34m(self, *args, **kwds)\u001b[0m\n\u001b[0;32m    944\u001b[0m   \u001b[38;5;28mself\u001b[39m\u001b[38;5;241m.\u001b[39m_lock\u001b[38;5;241m.\u001b[39mrelease()\n\u001b[0;32m    945\u001b[0m   \u001b[38;5;66;03m# In this case we have created variables on the first call, so we run the\u001b[39;00m\n\u001b[0;32m    946\u001b[0m   \u001b[38;5;66;03m# defunned version which is guaranteed to never create variables.\u001b[39;00m\n\u001b[1;32m--> 947\u001b[0m   \u001b[38;5;28;01mreturn\u001b[39;00m \u001b[38;5;28mself\u001b[39m\u001b[38;5;241m.\u001b[39m_stateless_fn(\u001b[38;5;241m*\u001b[39margs, \u001b[38;5;241m*\u001b[39m\u001b[38;5;241m*\u001b[39mkwds)  \u001b[38;5;66;03m# pylint: disable=not-callable\u001b[39;00m\n\u001b[0;32m    948\u001b[0m \u001b[38;5;28;01melif\u001b[39;00m \u001b[38;5;28mself\u001b[39m\u001b[38;5;241m.\u001b[39m_stateful_fn \u001b[38;5;129;01mis\u001b[39;00m \u001b[38;5;129;01mnot\u001b[39;00m \u001b[38;5;28;01mNone\u001b[39;00m:\n\u001b[0;32m    949\u001b[0m   \u001b[38;5;66;03m# Release the lock early so that multiple threads can perform the call\u001b[39;00m\n\u001b[0;32m    950\u001b[0m   \u001b[38;5;66;03m# in parallel.\u001b[39;00m\n\u001b[0;32m    951\u001b[0m   \u001b[38;5;28mself\u001b[39m\u001b[38;5;241m.\u001b[39m_lock\u001b[38;5;241m.\u001b[39mrelease()\n",
      "File \u001b[1;32m~\\anaconda3\\envs\\tccenv\\lib\\site-packages\\tensorflow\\python\\eager\\function.py:2496\u001b[0m, in \u001b[0;36mFunction.__call__\u001b[1;34m(self, *args, **kwargs)\u001b[0m\n\u001b[0;32m   2493\u001b[0m \u001b[38;5;28;01mwith\u001b[39;00m \u001b[38;5;28mself\u001b[39m\u001b[38;5;241m.\u001b[39m_lock:\n\u001b[0;32m   2494\u001b[0m   (graph_function,\n\u001b[0;32m   2495\u001b[0m    filtered_flat_args) \u001b[38;5;241m=\u001b[39m \u001b[38;5;28mself\u001b[39m\u001b[38;5;241m.\u001b[39m_maybe_define_function(args, kwargs)\n\u001b[1;32m-> 2496\u001b[0m \u001b[38;5;28;01mreturn\u001b[39;00m \u001b[43mgraph_function\u001b[49m\u001b[38;5;241;43m.\u001b[39;49m\u001b[43m_call_flat\u001b[49m\u001b[43m(\u001b[49m\n\u001b[0;32m   2497\u001b[0m \u001b[43m    \u001b[49m\u001b[43mfiltered_flat_args\u001b[49m\u001b[43m,\u001b[49m\u001b[43m \u001b[49m\u001b[43mcaptured_inputs\u001b[49m\u001b[38;5;241;43m=\u001b[39;49m\u001b[43mgraph_function\u001b[49m\u001b[38;5;241;43m.\u001b[39;49m\u001b[43mcaptured_inputs\u001b[49m\u001b[43m)\u001b[49m\n",
      "File \u001b[1;32m~\\anaconda3\\envs\\tccenv\\lib\\site-packages\\tensorflow\\python\\eager\\function.py:1862\u001b[0m, in \u001b[0;36mConcreteFunction._call_flat\u001b[1;34m(self, args, captured_inputs, cancellation_manager)\u001b[0m\n\u001b[0;32m   1858\u001b[0m possible_gradient_type \u001b[38;5;241m=\u001b[39m gradients_util\u001b[38;5;241m.\u001b[39mPossibleTapeGradientTypes(args)\n\u001b[0;32m   1859\u001b[0m \u001b[38;5;28;01mif\u001b[39;00m (possible_gradient_type \u001b[38;5;241m==\u001b[39m gradients_util\u001b[38;5;241m.\u001b[39mPOSSIBLE_GRADIENT_TYPES_NONE\n\u001b[0;32m   1860\u001b[0m     \u001b[38;5;129;01mand\u001b[39;00m executing_eagerly):\n\u001b[0;32m   1861\u001b[0m   \u001b[38;5;66;03m# No tape is watching; skip to running the function.\u001b[39;00m\n\u001b[1;32m-> 1862\u001b[0m   \u001b[38;5;28;01mreturn\u001b[39;00m \u001b[38;5;28mself\u001b[39m\u001b[38;5;241m.\u001b[39m_build_call_outputs(\u001b[38;5;28;43mself\u001b[39;49m\u001b[38;5;241;43m.\u001b[39;49m\u001b[43m_inference_function\u001b[49m\u001b[38;5;241;43m.\u001b[39;49m\u001b[43mcall\u001b[49m\u001b[43m(\u001b[49m\n\u001b[0;32m   1863\u001b[0m \u001b[43m      \u001b[49m\u001b[43mctx\u001b[49m\u001b[43m,\u001b[49m\u001b[43m \u001b[49m\u001b[43margs\u001b[49m\u001b[43m,\u001b[49m\u001b[43m \u001b[49m\u001b[43mcancellation_manager\u001b[49m\u001b[38;5;241;43m=\u001b[39;49m\u001b[43mcancellation_manager\u001b[49m\u001b[43m)\u001b[49m)\n\u001b[0;32m   1864\u001b[0m forward_backward \u001b[38;5;241m=\u001b[39m \u001b[38;5;28mself\u001b[39m\u001b[38;5;241m.\u001b[39m_select_forward_and_backward_functions(\n\u001b[0;32m   1865\u001b[0m     args,\n\u001b[0;32m   1866\u001b[0m     possible_gradient_type,\n\u001b[0;32m   1867\u001b[0m     executing_eagerly)\n\u001b[0;32m   1868\u001b[0m forward_function, args_with_tangents \u001b[38;5;241m=\u001b[39m forward_backward\u001b[38;5;241m.\u001b[39mforward()\n",
      "File \u001b[1;32m~\\anaconda3\\envs\\tccenv\\lib\\site-packages\\tensorflow\\python\\eager\\function.py:499\u001b[0m, in \u001b[0;36m_EagerDefinedFunction.call\u001b[1;34m(self, ctx, args, cancellation_manager)\u001b[0m\n\u001b[0;32m    497\u001b[0m \u001b[38;5;28;01mwith\u001b[39;00m _InterpolateFunctionError(\u001b[38;5;28mself\u001b[39m):\n\u001b[0;32m    498\u001b[0m   \u001b[38;5;28;01mif\u001b[39;00m cancellation_manager \u001b[38;5;129;01mis\u001b[39;00m \u001b[38;5;28;01mNone\u001b[39;00m:\n\u001b[1;32m--> 499\u001b[0m     outputs \u001b[38;5;241m=\u001b[39m \u001b[43mexecute\u001b[49m\u001b[38;5;241;43m.\u001b[39;49m\u001b[43mexecute\u001b[49m\u001b[43m(\u001b[49m\n\u001b[0;32m    500\u001b[0m \u001b[43m        \u001b[49m\u001b[38;5;28;43mstr\u001b[39;49m\u001b[43m(\u001b[49m\u001b[38;5;28;43mself\u001b[39;49m\u001b[38;5;241;43m.\u001b[39;49m\u001b[43msignature\u001b[49m\u001b[38;5;241;43m.\u001b[39;49m\u001b[43mname\u001b[49m\u001b[43m)\u001b[49m\u001b[43m,\u001b[49m\n\u001b[0;32m    501\u001b[0m \u001b[43m        \u001b[49m\u001b[43mnum_outputs\u001b[49m\u001b[38;5;241;43m=\u001b[39;49m\u001b[38;5;28;43mself\u001b[39;49m\u001b[38;5;241;43m.\u001b[39;49m\u001b[43m_num_outputs\u001b[49m\u001b[43m,\u001b[49m\n\u001b[0;32m    502\u001b[0m \u001b[43m        \u001b[49m\u001b[43minputs\u001b[49m\u001b[38;5;241;43m=\u001b[39;49m\u001b[43margs\u001b[49m\u001b[43m,\u001b[49m\n\u001b[0;32m    503\u001b[0m \u001b[43m        \u001b[49m\u001b[43mattrs\u001b[49m\u001b[38;5;241;43m=\u001b[39;49m\u001b[43mattrs\u001b[49m\u001b[43m,\u001b[49m\n\u001b[0;32m    504\u001b[0m \u001b[43m        \u001b[49m\u001b[43mctx\u001b[49m\u001b[38;5;241;43m=\u001b[39;49m\u001b[43mctx\u001b[49m\u001b[43m)\u001b[49m\n\u001b[0;32m    505\u001b[0m   \u001b[38;5;28;01melse\u001b[39;00m:\n\u001b[0;32m    506\u001b[0m     outputs \u001b[38;5;241m=\u001b[39m execute\u001b[38;5;241m.\u001b[39mexecute_with_cancellation(\n\u001b[0;32m    507\u001b[0m         \u001b[38;5;28mstr\u001b[39m(\u001b[38;5;28mself\u001b[39m\u001b[38;5;241m.\u001b[39msignature\u001b[38;5;241m.\u001b[39mname),\n\u001b[0;32m    508\u001b[0m         num_outputs\u001b[38;5;241m=\u001b[39m\u001b[38;5;28mself\u001b[39m\u001b[38;5;241m.\u001b[39m_num_outputs,\n\u001b[1;32m   (...)\u001b[0m\n\u001b[0;32m    511\u001b[0m         ctx\u001b[38;5;241m=\u001b[39mctx,\n\u001b[0;32m    512\u001b[0m         cancellation_manager\u001b[38;5;241m=\u001b[39mcancellation_manager)\n",
      "File \u001b[1;32m~\\anaconda3\\envs\\tccenv\\lib\\site-packages\\tensorflow\\python\\eager\\execute.py:54\u001b[0m, in \u001b[0;36mquick_execute\u001b[1;34m(op_name, num_outputs, inputs, attrs, ctx, name)\u001b[0m\n\u001b[0;32m     52\u001b[0m \u001b[38;5;28;01mtry\u001b[39;00m:\n\u001b[0;32m     53\u001b[0m   ctx\u001b[38;5;241m.\u001b[39mensure_initialized()\n\u001b[1;32m---> 54\u001b[0m   tensors \u001b[38;5;241m=\u001b[39m \u001b[43mpywrap_tfe\u001b[49m\u001b[38;5;241;43m.\u001b[39;49m\u001b[43mTFE_Py_Execute\u001b[49m\u001b[43m(\u001b[49m\u001b[43mctx\u001b[49m\u001b[38;5;241;43m.\u001b[39;49m\u001b[43m_handle\u001b[49m\u001b[43m,\u001b[49m\u001b[43m \u001b[49m\u001b[43mdevice_name\u001b[49m\u001b[43m,\u001b[49m\u001b[43m \u001b[49m\u001b[43mop_name\u001b[49m\u001b[43m,\u001b[49m\n\u001b[0;32m     55\u001b[0m \u001b[43m                                      \u001b[49m\u001b[43minputs\u001b[49m\u001b[43m,\u001b[49m\u001b[43m \u001b[49m\u001b[43mattrs\u001b[49m\u001b[43m,\u001b[49m\u001b[43m \u001b[49m\u001b[43mnum_outputs\u001b[49m\u001b[43m)\u001b[49m\n\u001b[0;32m     56\u001b[0m \u001b[38;5;28;01mexcept\u001b[39;00m core\u001b[38;5;241m.\u001b[39m_NotOkStatusException \u001b[38;5;28;01mas\u001b[39;00m e:\n\u001b[0;32m     57\u001b[0m   \u001b[38;5;28;01mif\u001b[39;00m name \u001b[38;5;129;01mis\u001b[39;00m \u001b[38;5;129;01mnot\u001b[39;00m \u001b[38;5;28;01mNone\u001b[39;00m:\n",
      "\u001b[1;31mKeyboardInterrupt\u001b[0m: "
     ]
    }
   ],
   "source": [
    "config = [[False], [False], [False], [256, 128, 64], [16,32],[0.2, 0.1], [30,50,100]]\n",
    "\n",
    "hist = LSTM_hyperparameter_tuning(config)"
   ]
  },
  {
   "cell_type": "markdown",
   "metadata": {},
   "source": [
    "#### Choosing the Best Model"
   ]
  },
  {
   "cell_type": "code",
   "execution_count": 117,
   "metadata": {},
   "outputs": [
    {
     "data": {
      "text/plain": [
       "(2995, 50, 19)"
      ]
     },
     "execution_count": 117,
     "metadata": {},
     "output_type": "execute_result"
    }
   ],
   "source": [
    "x_train.shape"
   ]
  },
  {
   "cell_type": "code",
   "execution_count": 118,
   "metadata": {},
   "outputs": [
    {
     "data": {
      "text/plain": [
       "(2995, 1)"
      ]
     },
     "execution_count": 118,
     "metadata": {},
     "output_type": "execute_result"
    }
   ],
   "source": [
    "y_train.shape"
   ]
  },
  {
   "cell_type": "code",
   "execution_count": null,
   "metadata": {},
   "outputs": [],
   "source": [
    "y_train.shape"
   ]
  },
  {
   "cell_type": "code",
   "execution_count": null,
   "metadata": {},
   "outputs": [],
   "source": [
    "hist = pd.DataFrame(hist)\n",
    "hist = hist.sort_values(by= [7], ascending = True)\n",
    "hist"
   ]
  },
  {
   "cell_type": "code",
   "execution_count": null,
   "metadata": {},
   "outputs": [],
   "source": [
    "print(f'Best Combination: \\n first_additional_layer = {hist.iloc[0, 0]}\\n second_additional_layer = {hist.iloc[0, 1]}\\n third_additional_layer = {hist.iloc[0, 2]}\\n n_neurons = {hist.iloc[0, 3]}\\n n_batch_size = {hist.iloc[0, 4]}\\n dropout = {hist.iloc[0, 5]}')\n",
    "\n",
    "print(f'Results Before Tunning:\\n Test Set RMSE: {np.round(results, 4)}\\n')\n",
    "print(f'Results After Tunning:\\n Test Set RMSE: {np.round(hist.iloc[0, -2], 4)[1]}\\n')\n",
    "print(f'{np.round((results - hist.iloc[0, -2][1])*100/np.round(results, 4))}% Improvement')"
   ]
  },
  {
   "cell_type": "code",
   "execution_count": null,
   "metadata": {},
   "outputs": [],
   "source": [
    "hist.iloc[0, :-2]"
   ]
  },
  {
   "cell_type": "code",
   "execution_count": null,
   "metadata": {},
   "outputs": [],
   "source": [
    "first_add_layer, second_add_layer, third_add_layer, n_neurons, n_batch_size, dropout, pass_days = list(hist.iloc[0, :-2])"
   ]
  },
  {
   "cell_type": "code",
   "execution_count": null,
   "metadata": {},
   "outputs": [],
   "source": [
    "x_train.shape"
   ]
  },
  {
   "cell_type": "code",
   "execution_count": null,
   "metadata": {},
   "outputs": [],
   "source": [
    "model = Sequential()\n",
    "model.add(LSTM(units = n_neurons, \n",
    "               return_sequences = True,\n",
    "               input_shape = (x_train.shape[1],\n",
    "                             x_train.shape[2])))\n",
    "model.add(Dropout(dropout))\n",
    "\n",
    "model.add(LSTM(units = n_neurons, return_sequences = False))\n",
    "model.add(Dropout(dropout))\n",
    "model.add(Dense(units = 1, activation = 'linear'))\n",
    "model.compile(optimizer = 'adam', loss = 'mse')\n",
    "\n",
    "es = EarlyStopping(monitor = 'val_loss', mode = 'min', verbose = 1, patience = 7)\n",
    "\n",
    "file_path = 'best_model.h5'\n",
    "\n",
    "mc = ModelCheckpoint(file_path, monitor = 'val_loss', mode = 'min', verbose = 1, save_best_only = True)\n",
    "\n",
    "model.fit(x_train, y_train, \n",
    "          validation_split = 0.1, \n",
    "          epochs = 50, batch_size = n_batch_size,\n",
    "         callbacks = [es, mc], verbose = 0)"
   ]
  },
  {
   "cell_type": "code",
   "execution_count": null,
   "metadata": {},
   "outputs": [],
   "source": [
    "y_pred = model.predict(x_test)\n",
    "\n",
    "plt.plot(y_test, color = 'blue', label = 'Test')\n",
    "plt.plot(y_pred, color = 'red', label = 'pred')\n",
    "plt.legend()\n",
    "plt.show()"
   ]
  },
  {
   "cell_type": "code",
   "execution_count": null,
   "metadata": {},
   "outputs": [],
   "source": [
    "MAPE(y_test, y_pred), MAE(y_test, y_pred), RMSE(y_test, y_pred)"
   ]
  },
  {
   "cell_type": "code",
   "execution_count": null,
   "metadata": {},
   "outputs": [],
   "source": [
    "def predict(num_prediction, model):\n",
    "    prediction_list = close_data[-pass_days:]\n",
    "    for _ in range(num_prediction):\n",
    "        x = prediction_list[-pass_days:]\n",
    "        x = x.reshape((1, pass_d ays, 1))\n",
    "        print(x)\n",
    "        out = model.predict(x)\n",
    "        prediction_list = np.append(prediction_list, out)\n",
    "    prediction_list = prediction_list[look_back-1:]\n",
    "    return prediction_list"
   ]
  },
  {
   "cell_type": "code",
   "execution_count": null,
   "metadata": {},
   "outputs": [],
   "source": [
    "x_test.shape"
   ]
  },
  {
   "cell_type": "code",
   "execution_count": null,
   "metadata": {},
   "outputs": [],
   "source": [
    "bova11"
   ]
  },
  {
   "cell_type": "code",
   "execution_count": null,
   "metadata": {},
   "outputs": [],
   "source": []
  },
  {
   "cell_type": "code",
   "execution_count": null,
   "metadata": {},
   "outputs": [],
   "source": []
  },
  {
   "cell_type": "code",
   "execution_count": null,
   "metadata": {},
   "outputs": [],
   "source": []
  }
 ],
 "metadata": {
  "kernelspec": {
   "display_name": "Python 3 (ipykernel)",
   "language": "python",
   "name": "python3"
  },
  "language_info": {
   "codemirror_mode": {
    "name": "ipython",
    "version": 3
   },
   "file_extension": ".py",
   "mimetype": "text/x-python",
   "name": "python",
   "nbconvert_exporter": "python",
   "pygments_lexer": "ipython3",
   "version": "3.10.6"
  },
  "vscode": {
   "interpreter": {
    "hash": "a8060c5c9485724d6b8d9988d5c37fae1b044e1be40adde1fb6a3f731b42e2ea"
   }
  }
 },
 "nbformat": 4,
 "nbformat_minor": 2
}
