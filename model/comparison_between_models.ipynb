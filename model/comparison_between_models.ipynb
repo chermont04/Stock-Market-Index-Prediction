{
 "cells": [
  {
   "cell_type": "code",
   "execution_count": 1,
   "id": "522a3564",
   "metadata": {},
   "outputs": [],
   "source": [
    "import pandas as pd\n",
    "import pandas_ta as ta\n",
    "import numpy as np\n",
    "import datetime as dt\n",
    "import pandas_datareader as web\n",
    "from tqdm import tqdm\n",
    "import matplotlib.pyplot as plt\n",
    "from matplotlib import rcParams\n",
    "import seaborn as sns\n",
    "import matplotlib.ticker as ticker\n",
    "import itertools\n",
    "\n",
    "from sklearn.preprocessing import MinMaxScaler\n",
    "from sklearn.metrics import mean_absolute_error, mean_squared_error\n",
    "from sklearn.model_selection import GridSearchCV\n",
    "\n",
    "import tensorflow as tf\n",
    "from tensorflow.keras.models import Model, Sequential\n",
    "from tensorflow.keras.layers import Dense, Dropout, GRU, LSTM, Input, Activation, concatenate\n",
    "from tensorflow.keras.callbacks import History, EarlyStopping\n",
    "from tensorflow.keras import optimizers\n",
    "\n",
    "import keras_tuner as kt\n",
    "from keras_tuner.tuners import RandomSearch\n",
    "from keras_tuner.engine.hyperparameters import HyperParameters\n",
    "from keras.callbacks import EarlyStopping\n",
    "from keras.callbacks import ModelCheckpoint\n"
   ]
  },
  {
   "cell_type": "code",
   "execution_count": 2,
   "id": "198584fe",
   "metadata": {},
   "outputs": [],
   "source": [
    "%matplotlib inline\n",
    "\n",
    "\n",
    "tqdm.pandas()\n",
    "sns.set(style='whitegrid',palette='muted')\n",
    "rcParams['figure.figsize'] = 14, 10"
   ]
  },
  {
   "cell_type": "markdown",
   "id": "a37ef5b3",
   "metadata": {},
   "source": [
    "### Getting the data"
   ]
  },
  {
   "cell_type": "code",
   "execution_count": 54,
   "id": "123b920d",
   "metadata": {},
   "outputs": [],
   "source": [
    "import yfinance as yf\n",
    "ticket = yf.Ticker('BOVA11.SA')\n",
    "start = dt.datetime(2009, 1, 2) # First register data\n",
    "end = dt.datetime(dt.datetime.now().year,dt.datetime.now().month,dt.datetime.now().day - 12)\n",
    "\n",
    "bova11 = ticket.history(interval= '1d', start = start, end = end).reset_index()\n",
    "bova11\n",
    "bova11_copy = bova11.copy()"
   ]
  },
  {
   "cell_type": "markdown",
   "id": "6209b36e",
   "metadata": {},
   "source": [
    "### Pre-processing"
   ]
  },
  {
   "cell_type": "code",
   "execution_count": 55,
   "id": "5d9b5584",
   "metadata": {},
   "outputs": [],
   "source": [
    "bova11.columns = bova11.columns.str.lower()\n",
    "bova11.date = pd.to_datetime(bova11.date)\n",
    "bova11 = bova11.loc[(bova11.volume != 0)].reset_index()\n",
    "bova11.drop(columns='index', axis = 1, inplace = True)\n",
    "bova11 = bova11.sort_values(by='date').reset_index(drop=True)"
   ]
  },
  {
   "cell_type": "code",
   "execution_count": 56,
   "id": "050a4239",
   "metadata": {},
   "outputs": [
    {
     "name": "stderr",
     "output_type": "stream",
     "text": [
      "100%|██████████| 3404/3404 [00:00<00:00, 10008.90it/s]"
     ]
    },
    {
     "name": "stdout",
     "output_type": "stream",
     "text": [
      "[[-0.39030025 -0.91719676 -0.95032594 ...         nan -0.78570428\n",
      "  -0.8756999 ]\n",
      " [-0.35971966 -0.87970094 -0.91076644 ...         nan -0.79239236\n",
      "  -0.86853306]\n",
      " [-0.33009474 -0.87255889 -0.86918409 ...         nan -0.83530725\n",
      "  -0.90615904]\n",
      " ...\n",
      " [ 0.73146451  0.63709403  0.64036862 ...  0.26982232 -0.81106316\n",
      "   0.6114222 ]\n",
      " [ 0.74388784  0.63486217  0.6032816  ...  0.13341511 -0.87292727\n",
      "   0.56438976]\n",
      " [ 0.7120331   0.62169391  0.58080464 ... -0.04127008 -0.87571391\n",
      "          nan]]\n"
     ]
    },
    {
     "name": "stderr",
     "output_type": "stream",
     "text": [
      "\n"
     ]
    }
   ],
   "source": [
    "# Adding columns\n",
    "\n",
    "bova11[\"prev_close\"] = bova11.shift(1)[\"close\"]\n",
    "bova11[\"close_change\"]= bova11.progress_apply(\n",
    "    lambda row: 0 if np.isnan(row.prev_close) else row.close - row.prev_close,\n",
    "    axis = 1\n",
    ")\n",
    "\n",
    "# Adding move Averages columns\n",
    "bova11['ma_3d'] = bova11['close'].rolling(3, center = True, min_periods=1).mean()\n",
    "bova11['ma_10d'] = bova11['close'].rolling(10, center = True,min_periods=1).mean()\n",
    "bova11['ma_30d'] = bova11['close'].rolling(30, center=True, min_periods=1).mean()\n",
    "bova11['ma_60d'] = bova11['close'].rolling(60, center = True, min_periods = 1).mean()\n",
    "\n",
    "# Adding standard deviation columns\n",
    "bova11['std_7'] = bova11['close'].rolling(7, center = True, min_periods = 1).std()\n",
    "bova11['std_30'] = bova11['close'].rolling(30, center = True, min_periods = 1).std()\n",
    "bova11['std_60'] = bova11['close'].rolling(60, center = True, min_periods = 1).std()\n",
    "\n",
    "# Adding the bollinger bands\n",
    "bova11['upper3'] = bova11['ma_3d'] + 2*bova11['close'].rolling(3, center = True, min_periods = 1).std()\n",
    "bova11['lower3'] = bova11['ma_3d'] - 2*bova11['close'].rolling(3, center = True, min_periods = 1).std()\n",
    "\n",
    "bova11['upper30'] = bova11['ma_30d'] + 2*bova11['std_30']\n",
    "bova11['lower30'] = bova11['ma_30d'] - 2*bova11['std_30']\n",
    "\n",
    "bova11['upper60'] = bova11['ma_60d'] + 2*bova11['std_60']\n",
    "bova11['lower60'] = bova11['ma_60d'] - 2*bova11['std_60']\n",
    "\n",
    "# Adding tecnical indicator RSI\n",
    "bova11['RSI'] = ta.rsi(bova11['close'], length = 15)\n",
    "\n",
    "bova11.drop(['date', 'volume', 'dividends', 'stock splits', 'prev_close'],\n",
    "            axis = 1,\n",
    "           inplace = True)\n",
    "\n",
    "bova11['target'] = bova11.close - bova11.open\n",
    "#bova11['targetClass'] = [1 if bova11.target[i] > 0 else 0 for i in range(len(bova11))]\n",
    "bova11['targetNextClose'] = bova11['close'].shift(-1)\n",
    "\n",
    "scaler = MinMaxScaler(feature_range = (-1, 1))\n",
    "bova11_scaled = scaler.fit_transform(bova11)\n",
    "print(bova11_scaled)"
   ]
  },
  {
   "cell_type": "markdown",
   "id": "c3d47469",
   "metadata": {},
   "source": [
    "### Importing the functions"
   ]
  },
  {
   "cell_type": "code",
   "execution_count": 57,
   "id": "b77c99cb",
   "metadata": {},
   "outputs": [],
   "source": [
    "def MAPE(actual, pred):\n",
    "    actual, pred = np.array(actual), np.array(pred)\n",
    "    MAPE = np.nanmean(np.abs((actual - pred) / actual)) * 100\n",
    "    return MAPE\n",
    "\n",
    "def MAE(actual, pred):\n",
    "    MAE = mean_absolute_error(actual, pred)\n",
    "    return MAE\n",
    "\n",
    "def RMSE(actual, pred):\n",
    "    RMSE = mean_squared_error(actual, pred, squared = False)\n",
    "    return RMSE"
   ]
  },
  {
   "cell_type": "code",
   "execution_count": 58,
   "id": "ba8cc2fa",
   "metadata": {},
   "outputs": [],
   "source": [
    "def feature_calc(df):\n",
    "    # Adding close change\n",
    "    df[\"prev_close\"] = df.shift(1)[\"close\"]\n",
    "    df[\"close_change\"]= df.progress_apply(\n",
    "        lambda row: 0 if np.isnan(row.prev_close) else row.close - row.prev_close,\n",
    "        axis = 1\n",
    "    )\n",
    "    # Adding move Averages columns\n",
    "    df['ma_3d'] = df['close'].rolling(3, center = True, min_periods=1).mean()\n",
    "    df['ma_10d'] = df['close'].rolling(10, center = True,min_periods=1).mean()\n",
    "    df['ma_30d'] = df['close'].rolling(30, center=True, min_periods=1).mean()\n",
    "    df['ma_60d'] = df['close'].rolling(60, center = True, min_periods = 1).mean()\n",
    "    # Adding standard deviation columns\n",
    "    df['std_7'] = df['close'].rolling(7, center = True, min_periods = 1).std()\n",
    "    df['std_30'] = df['close'].rolling(30, center = True, min_periods = 1).std()\n",
    "    df['std_60'] = df['close'].rolling(60, center = True, min_periods = 1).std()\n",
    "    # Adding the bollinger bands\n",
    "    df['upper3'] = df['ma_3d'] + 2*df['close'].rolling(3, center = True, min_periods = 1).std()\n",
    "    df['lower3'] = df['ma_3d'] - 2*df['close'].rolling(3, center = True, min_periods = 1).std()\n",
    "    df['upper30'] = df['ma_30d'] + 2*df['std_30']\n",
    "    df['lower30'] = df['ma_30d'] - 2*df['std_30']\n",
    "    df['upper60'] = df['ma_60d'] + 2*df['std_60']\n",
    "    df['lower60'] = df['ma_60d'] - 2*df['std_60']\n",
    "    # Adding tecnical indicator RSI\n",
    "    df['RSI'] = ta.rsi(df['close'], length = 15)\n",
    "    df['target'] = df.close - df.open\n",
    "    df['targetNextClose'] = df['close'].shift(-1)\n",
    "    \n",
    "    return df"
   ]
  },
  {
   "cell_type": "code",
   "execution_count": 59,
   "id": "14d10b4c",
   "metadata": {},
   "outputs": [],
   "source": [
    "def predict(df, days, pass_days, model):\n",
    "    # copy the dataframe to edit\n",
    "    df_ = df.copy()\n",
    "    \n",
    "    for i in reversed(range(days+1)):\n",
    "        if days > 0:\n",
    "            # scale the features for the model prediction\n",
    "            scaler = MinMaxScaler(feature_range = (-1, 1))\n",
    "            df_scaled = scaler.fit_transform(df_)\n",
    "\n",
    "            backcandles = pass_days #Defined by hyperparameters testing\n",
    "            X = []\n",
    "            for j in range(19): # range is the number of feature columns you will use\n",
    "                X.append([])\n",
    "                for k in range(backcandles, df_scaled.shape[0]):\n",
    "                    X[j].append(df_scaled[k-backcandles:k, j])\n",
    "\n",
    "            #move axis from 0 to position 2\n",
    "            X = np.moveaxis(X, [0], [2])\n",
    "\n",
    "            X, yi = np.array(X), np.array(df_scaled[backcandles:, -1]) # Chosing the last column as the pred. target\n",
    "            y = np.reshape(yi, (len(yi), 1))\n",
    "\n",
    "            splitlimit = int(len(X) * 0.9)\n",
    "            x_test = X[splitlimit+1:] # take the last 10% of the original database\n",
    "\n",
    "            if days > 1:\n",
    "                x_test = x_test[-days:-(days-1)] \n",
    "            else:\n",
    "                x_test = x_test[-days:]\n",
    "            \n",
    "            y_pred = model.predict(x_test) # make the prediction on the day to replace\n",
    "            #print(y_pred)\n",
    "            #print(df_scaled[-days][3])\n",
    "            df_scaled[-days][3] = y_pred[0]\n",
    "            #print(df_scaled[-days][3])\n",
    "            predict_value = scaler.inverse_transform(df_scaled)[-days][3]\n",
    "            \n",
    "            #print(df_.loc[(len(df_) - days) : (len(df_) - days)].close)\n",
    "            df_.loc[(len(df_) - days) : (len(df_) - days), 'close'] = predict_value\n",
    "            #print(df_.loc[(len(df_) - days) : (len(df_) - days)].close)\n",
    "            \n",
    "            df_ = feature_calc(df_)\n",
    "            print(days)\n",
    "            days = days -1\n",
    "    \n",
    "    return df_"
   ]
  },
  {
   "cell_type": "markdown",
   "id": "a02b88b5",
   "metadata": {},
   "source": [
    "### Creating the models"
   ]
  },
  {
   "cell_type": "markdown",
   "id": "294c2dde",
   "metadata": {},
   "source": [
    "#### GRU"
   ]
  },
  {
   "cell_type": "code",
   "execution_count": 60,
   "id": "b747e298",
   "metadata": {},
   "outputs": [],
   "source": [
    "n_neurons = 256\n",
    "n_batch_size = 32\n",
    "dropout = 0.1\n",
    "pass_days = 100"
   ]
  },
  {
   "cell_type": "code",
   "execution_count": 61,
   "id": "256a8cb0",
   "metadata": {},
   "outputs": [],
   "source": [
    "backcandles = pass_days\n",
    "X = []\n",
    "for j in range(19): # range is the number of feature columns you will use\n",
    "    X.append([])\n",
    "    for k in range(backcandles, bova11_scaled.shape[0]):\n",
    "        X[j].append(bova11_scaled[k-backcandles:k, j])\n",
    "\n",
    "#move axis from 0 to position 2\n",
    "X = np.moveaxis(X, [0], [2])\n",
    "\n",
    "X, yi = np.array(X), np.array(bova11_scaled[backcandles:, -1]) # Chosing the last column as the pred. target\n",
    "y = np.reshape(yi, (len(yi), 1))\n",
    "\n",
    "splitlimit = int(len(X) * 0.9)\n",
    "x_train, x_test = X[:splitlimit], X[splitlimit+1:]\n",
    "y_train, y_test = y[:splitlimit], y[splitlimit+1:]"
   ]
  },
  {
   "cell_type": "code",
   "execution_count": 62,
   "id": "cb195495",
   "metadata": {},
   "outputs": [],
   "source": [
    "from keras.models import load_model\n",
    "\n",
    "model_gru = load_model('GRU/best_model.h5')\n",
    "model_lstm = load_model('lstm/best_model.h5')"
   ]
  },
  {
   "cell_type": "code",
   "execution_count": 113,
   "id": "e5846d03",
   "metadata": {},
   "outputs": [
    {
     "name": "stdout",
     "output_type": "stream",
     "text": [
      "11/11 [==============================] - 4s 184ms/step\n"
     ]
    },
    {
     "data": {
      "image/png": "[encoded data removed]",
      "text/plain": [
       "<Figure size 1400x1000 with 1 Axes>"
      ]
     },
     "metadata": {},
     "output_type": "display_data"
    }
   ],
   "source": [
    "y_pred = model_gru.predict(x_test)\n",
    "\n",
    "plt.plot(y_test, color = 'blue', label = 'Test_Base')\n",
    "plt.plot(y_pred, color = 'red', label = 'GRU_Predictions')\n",
    "plt.xlabel('Periodo em dias')\n",
    "plt.ylabel('Valor de fechamento (R$) em escala de -1 a 1')\n",
    "plt.legend()\n",
    "plt.show()"
   ]
  },
  {
   "cell_type": "code",
   "execution_count": 64,
   "id": "db5fb1a3",
   "metadata": {},
   "outputs": [
    {
     "data": {
      "text/plain": [
       "((330, 1), (330, 1))"
      ]
     },
     "execution_count": 64,
     "metadata": {},
     "output_type": "execute_result"
    }
   ],
   "source": [
    "y_test.shape, y_pred.shape"
   ]
  },
  {
   "cell_type": "code",
   "execution_count": 65,
   "id": "1d2407b0",
   "metadata": {},
   "outputs": [],
   "source": [
    "y_test = y_test[:-1]\n",
    "y_pred = y_pred[:-1]"
   ]
  },
  {
   "cell_type": "code",
   "execution_count": 66,
   "id": "8fd8a2ad",
   "metadata": {},
   "outputs": [
    {
     "data": {
      "text/plain": [
       "(0.03156138596930449, 6.107501233432539, 0.03868159208727746)"
      ]
     },
     "execution_count": 66,
     "metadata": {},
     "output_type": "execute_result"
    }
   ],
   "source": [
    "MAE(y_test,y_pred), MAPE(y_test, y_pred), RMSE(y_test, y_pred)"
   ]
  },
  {
   "cell_type": "markdown",
   "id": "e77aba08",
   "metadata": {},
   "source": [
    "#### LSTM"
   ]
  },
  {
   "cell_type": "code",
   "execution_count": 67,
   "id": "0afcf8e1",
   "metadata": {},
   "outputs": [],
   "source": [
    "n_neurons = 256\n",
    "n_batch_size = 32\n",
    "dropout = 0.1\n",
    "pass_days = 50"
   ]
  },
  {
   "cell_type": "code",
   "execution_count": 68,
   "id": "90959751",
   "metadata": {},
   "outputs": [],
   "source": [
    "backcandles = pass_days\n",
    "X = []\n",
    "for j in range(19): # range is the number of feature columns you will use\n",
    "    X.append([])\n",
    "    for k in range(backcandles, bova11_scaled.shape[0]):\n",
    "        X[j].append(bova11_scaled[k-backcandles:k, j])\n",
    "\n",
    "#move axis from 0 to position 2\n",
    "X = np.moveaxis(X, [0], [2])\n",
    "\n",
    "X, yi = np.array(X), np.array(bova11_scaled[backcandles:, -1]) # Chosing the last column as the pred. target\n",
    "y = np.reshape(yi, (len(yi), 1))\n",
    "\n",
    "splitlimit = int(len(X) * 0.9)\n",
    "x_train, x_test = X[:splitlimit], X[splitlimit+1:]\n",
    "y_train, y_test = y[:splitlimit], y[splitlimit+1:]"
   ]
  },
  {
   "cell_type": "code",
   "execution_count": 114,
   "id": "7b5d73f9",
   "metadata": {},
   "outputs": [
    {
     "name": "stdout",
     "output_type": "stream",
     "text": [
      "11/11 [==============================] - 2s 183ms/step\n"
     ]
    },
    {
     "data": {
      "image/png": "[encoded data removed]",
      "text/plain": [
       "<Figure size 1400x1000 with 1 Axes>"
      ]
     },
     "metadata": {},
     "output_type": "display_data"
    }
   ],
   "source": [
    "y_pred = model_lstm.predict(x_test)\n",
    "\n",
    "plt.plot(y_test, color = 'blue', label = 'Test_Base')\n",
    "plt.plot(y_pred, color = 'red', label = 'LSTM_Predictions')\n",
    "plt.xlabel('Periodo em dias')\n",
    "plt.ylabel('Valor de fechamento (R$) em escala de -1 a 1')\n",
    "plt.legend()\n",
    "plt.show()"
   ]
  },
  {
   "cell_type": "code",
   "execution_count": 70,
   "id": "800da5b9",
   "metadata": {},
   "outputs": [
    {
     "data": {
      "text/plain": [
       "((335, 1), (335, 1))"
      ]
     },
     "execution_count": 70,
     "metadata": {},
     "output_type": "execute_result"
    }
   ],
   "source": [
    "y_test.shape, y_pred.shape"
   ]
  },
  {
   "cell_type": "code",
   "execution_count": 71,
   "id": "295df981",
   "metadata": {},
   "outputs": [],
   "source": [
    "y_test = y_test[:-1]\n",
    "y_pred = y_pred[:-1]"
   ]
  },
  {
   "cell_type": "code",
   "execution_count": 72,
   "id": "f8c6cd31",
   "metadata": {},
   "outputs": [
    {
     "data": {
      "text/plain": [
       "(0.03274997132061833, 6.1770836861535035, 0.04080000524072987)"
      ]
     },
     "execution_count": 72,
     "metadata": {},
     "output_type": "execute_result"
    }
   ],
   "source": [
    "MAE(y_test,y_pred), MAPE(y_test, y_pred), RMSE(y_test, y_pred)"
   ]
  },
  {
   "cell_type": "markdown",
   "id": "716d34b1",
   "metadata": {},
   "source": [
    "### Making the predictions"
   ]
  },
  {
   "cell_type": "code",
   "execution_count": 73,
   "id": "b99a5f61",
   "metadata": {},
   "outputs": [],
   "source": [
    "bova11.reset_index(drop = True, inplace = True)"
   ]
  },
  {
   "cell_type": "code",
   "execution_count": 74,
   "id": "6ff24ba2",
   "metadata": {},
   "outputs": [],
   "source": [
    "bova11_backup = bova11.copy()"
   ]
  },
  {
   "cell_type": "code",
   "execution_count": 75,
   "id": "00a74e68",
   "metadata": {},
   "outputs": [],
   "source": [
    "bova11 = bova11[:-5]"
   ]
  },
  {
   "cell_type": "code",
   "execution_count": 76,
   "id": "e5227fc6",
   "metadata": {},
   "outputs": [
    {
     "name": "stdout",
     "output_type": "stream",
     "text": [
      "1/1 [==============================] - 0s 57ms/step\n"
     ]
    },
    {
     "name": "stderr",
     "output_type": "stream",
     "text": [
      "100%|██████████| 3399/3399 [00:00<00:00, 13667.17it/s]\n"
     ]
    },
    {
     "name": "stdout",
     "output_type": "stream",
     "text": [
      "1\n",
      "1/1 [==============================] - 0s 55ms/step\n"
     ]
    },
    {
     "name": "stderr",
     "output_type": "stream",
     "text": [
      "100%|██████████| 3399/3399 [00:00<00:00, 12945.68it/s]\n"
     ]
    },
    {
     "name": "stdout",
     "output_type": "stream",
     "text": [
      "1\n",
      "1/1 [==============================] - 0s 53ms/step\n"
     ]
    },
    {
     "name": "stderr",
     "output_type": "stream",
     "text": [
      "100%|██████████| 3399/3399 [00:00<00:00, 13357.32it/s]\n"
     ]
    },
    {
     "name": "stdout",
     "output_type": "stream",
     "text": [
      "5\n",
      "1/1 [==============================] - 0s 58ms/step\n"
     ]
    },
    {
     "name": "stderr",
     "output_type": "stream",
     "text": [
      "100%|██████████| 3399/3399 [00:00<00:00, 13589.00it/s]\n"
     ]
    },
    {
     "name": "stdout",
     "output_type": "stream",
     "text": [
      "4\n",
      "1/1 [==============================] - 0s 53ms/step\n"
     ]
    },
    {
     "name": "stderr",
     "output_type": "stream",
     "text": [
      "100%|██████████| 3399/3399 [00:00<00:00, 10299.31it/s]\n"
     ]
    },
    {
     "name": "stdout",
     "output_type": "stream",
     "text": [
      "3\n",
      "1/1 [==============================] - 0s 63ms/step\n"
     ]
    },
    {
     "name": "stderr",
     "output_type": "stream",
     "text": [
      "100%|██████████| 3399/3399 [00:00<00:00, 9565.47it/s] \n"
     ]
    },
    {
     "name": "stdout",
     "output_type": "stream",
     "text": [
      "2\n",
      "1/1 [==============================] - 0s 64ms/step\n"
     ]
    },
    {
     "name": "stderr",
     "output_type": "stream",
     "text": [
      "100%|██████████| 3399/3399 [00:00<00:00, 9274.56it/s] \n"
     ]
    },
    {
     "name": "stdout",
     "output_type": "stream",
     "text": [
      "1\n",
      "1/1 [==============================] - 0s 51ms/step\n"
     ]
    },
    {
     "name": "stderr",
     "output_type": "stream",
     "text": [
      "100%|██████████| 3399/3399 [00:00<00:00, 10456.06it/s]\n"
     ]
    },
    {
     "name": "stdout",
     "output_type": "stream",
     "text": [
      "5\n",
      "1/1 [==============================] - 0s 66ms/step\n"
     ]
    },
    {
     "name": "stderr",
     "output_type": "stream",
     "text": [
      "100%|██████████| 3399/3399 [00:00<00:00, 10989.11it/s]\n"
     ]
    },
    {
     "name": "stdout",
     "output_type": "stream",
     "text": [
      "4\n",
      "1/1 [==============================] - 0s 50ms/step\n"
     ]
    },
    {
     "name": "stderr",
     "output_type": "stream",
     "text": [
      "100%|██████████| 3399/3399 [00:00<00:00, 9990.36it/s] \n"
     ]
    },
    {
     "name": "stdout",
     "output_type": "stream",
     "text": [
      "3\n",
      "1/1 [==============================] - 0s 42ms/step\n"
     ]
    },
    {
     "name": "stderr",
     "output_type": "stream",
     "text": [
      "100%|██████████| 3399/3399 [00:00<00:00, 12205.30it/s]\n"
     ]
    },
    {
     "name": "stdout",
     "output_type": "stream",
     "text": [
      "2\n",
      "1/1 [==============================] - 0s 47ms/step\n"
     ]
    },
    {
     "name": "stderr",
     "output_type": "stream",
     "text": [
      "100%|██████████| 3399/3399 [00:00<00:00, 11139.25it/s]\n"
     ]
    },
    {
     "name": "stdout",
     "output_type": "stream",
     "text": [
      "1\n",
      "1/1 [==============================] - 0s 53ms/step\n"
     ]
    },
    {
     "name": "stderr",
     "output_type": "stream",
     "text": [
      "100%|██████████| 3399/3399 [00:00<00:00, 11817.56it/s]\n"
     ]
    },
    {
     "name": "stdout",
     "output_type": "stream",
     "text": [
      "30\n",
      "1/1 [==============================] - 0s 70ms/step\n"
     ]
    },
    {
     "name": "stderr",
     "output_type": "stream",
     "text": [
      "100%|██████████| 3399/3399 [00:00<00:00, 12817.69it/s]\n"
     ]
    },
    {
     "name": "stdout",
     "output_type": "stream",
     "text": [
      "29\n",
      "1/1 [==============================] - 0s 63ms/step\n"
     ]
    },
    {
     "name": "stderr",
     "output_type": "stream",
     "text": [
      "100%|██████████| 3399/3399 [00:00<00:00, 12573.60it/s]\n"
     ]
    },
    {
     "name": "stdout",
     "output_type": "stream",
     "text": [
      "28\n",
      "1/1 [==============================] - 0s 80ms/step\n"
     ]
    },
    {
     "name": "stderr",
     "output_type": "stream",
     "text": [
      "100%|██████████| 3399/3399 [00:00<00:00, 12593.81it/s]\n"
     ]
    },
    {
     "name": "stdout",
     "output_type": "stream",
     "text": [
      "27\n",
      "1/1 [==============================] - 0s 73ms/step\n"
     ]
    },
    {
     "name": "stderr",
     "output_type": "stream",
     "text": [
      "100%|██████████| 3399/3399 [00:00<00:00, 13068.92it/s]\n"
     ]
    },
    {
     "name": "stdout",
     "output_type": "stream",
     "text": [
      "26\n",
      "1/1 [==============================] - 0s 50ms/step\n"
     ]
    },
    {
     "name": "stderr",
     "output_type": "stream",
     "text": [
      "100%|██████████| 3399/3399 [00:00<00:00, 13529.70it/s]\n"
     ]
    },
    {
     "name": "stdout",
     "output_type": "stream",
     "text": [
      "25\n",
      "1/1 [==============================] - 0s 62ms/step\n"
     ]
    },
    {
     "name": "stderr",
     "output_type": "stream",
     "text": [
      "100%|██████████| 3399/3399 [00:00<00:00, 13607.38it/s]\n"
     ]
    },
    {
     "name": "stdout",
     "output_type": "stream",
     "text": [
      "24\n",
      "1/1 [==============================] - 0s 62ms/step\n"
     ]
    },
    {
     "name": "stderr",
     "output_type": "stream",
     "text": [
      "100%|██████████| 3399/3399 [00:00<00:00, 12919.64it/s]\n"
     ]
    },
    {
     "name": "stdout",
     "output_type": "stream",
     "text": [
      "23\n",
      "1/1 [==============================] - 0s 71ms/step\n"
     ]
    },
    {
     "name": "stderr",
     "output_type": "stream",
     "text": [
      "100%|██████████| 3399/3399 [00:00<00:00, 12138.67it/s]\n"
     ]
    },
    {
     "name": "stdout",
     "output_type": "stream",
     "text": [
      "22\n",
      "1/1 [==============================] - 0s 60ms/step\n"
     ]
    },
    {
     "name": "stderr",
     "output_type": "stream",
     "text": [
      "100%|██████████| 3399/3399 [00:00<00:00, 12345.41it/s]\n"
     ]
    },
    {
     "name": "stdout",
     "output_type": "stream",
     "text": [
      "21\n",
      "1/1 [==============================] - 0s 61ms/step\n"
     ]
    },
    {
     "name": "stderr",
     "output_type": "stream",
     "text": [
      "100%|██████████| 3399/3399 [00:00<00:00, 12141.53it/s]\n"
     ]
    },
    {
     "name": "stdout",
     "output_type": "stream",
     "text": [
      "20\n",
      "1/1 [==============================] - 0s 70ms/step\n"
     ]
    },
    {
     "name": "stderr",
     "output_type": "stream",
     "text": [
      "100%|██████████| 3399/3399 [00:00<00:00, 12035.36it/s]\n"
     ]
    },
    {
     "name": "stdout",
     "output_type": "stream",
     "text": [
      "19\n",
      "1/1 [==============================] - 0s 81ms/step\n"
     ]
    },
    {
     "name": "stderr",
     "output_type": "stream",
     "text": [
      "100%|██████████| 3399/3399 [00:00<00:00, 14053.94it/s]\n"
     ]
    },
    {
     "name": "stdout",
     "output_type": "stream",
     "text": [
      "18\n",
      "1/1 [==============================] - 0s 56ms/step\n"
     ]
    },
    {
     "name": "stderr",
     "output_type": "stream",
     "text": [
      "100%|██████████| 3399/3399 [00:00<00:00, 14400.59it/s]\n"
     ]
    },
    {
     "name": "stdout",
     "output_type": "stream",
     "text": [
      "17\n",
      "1/1 [==============================] - 0s 70ms/step\n"
     ]
    },
    {
     "name": "stderr",
     "output_type": "stream",
     "text": [
      "100%|██████████| 3399/3399 [00:00<00:00, 14150.58it/s]\n"
     ]
    },
    {
     "name": "stdout",
     "output_type": "stream",
     "text": [
      "16\n",
      "1/1 [==============================] - 0s 50ms/step\n"
     ]
    },
    {
     "name": "stderr",
     "output_type": "stream",
     "text": [
      "100%|██████████| 3399/3399 [00:00<00:00, 14166.16it/s]\n"
     ]
    },
    {
     "name": "stdout",
     "output_type": "stream",
     "text": [
      "15\n",
      "1/1 [==============================] - 0s 56ms/step\n"
     ]
    },
    {
     "name": "stderr",
     "output_type": "stream",
     "text": [
      "100%|██████████| 3399/3399 [00:00<00:00, 14834.37it/s]\n"
     ]
    },
    {
     "name": "stdout",
     "output_type": "stream",
     "text": [
      "14\n",
      "1/1 [==============================] - 0s 50ms/step\n"
     ]
    },
    {
     "name": "stderr",
     "output_type": "stream",
     "text": [
      "100%|██████████| 3399/3399 [00:00<00:00, 14148.77it/s]\n"
     ]
    },
    {
     "name": "stdout",
     "output_type": "stream",
     "text": [
      "13\n",
      "1/1 [==============================] - 0s 45ms/step\n"
     ]
    },
    {
     "name": "stderr",
     "output_type": "stream",
     "text": [
      "100%|██████████| 3399/3399 [00:00<00:00, 12148.56it/s]\n"
     ]
    },
    {
     "name": "stdout",
     "output_type": "stream",
     "text": [
      "12\n",
      "1/1 [==============================] - 0s 71ms/step\n"
     ]
    },
    {
     "name": "stderr",
     "output_type": "stream",
     "text": [
      "100%|██████████| 3399/3399 [00:00<00:00, 8667.37it/s]\n"
     ]
    },
    {
     "name": "stdout",
     "output_type": "stream",
     "text": [
      "11\n",
      "1/1 [==============================] - 0s 90ms/step\n"
     ]
    },
    {
     "name": "stderr",
     "output_type": "stream",
     "text": [
      "100%|██████████| 3399/3399 [00:00<00:00, 5630.37it/s]\n"
     ]
    },
    {
     "name": "stdout",
     "output_type": "stream",
     "text": [
      "10\n",
      "1/1 [==============================] - 0s 100ms/step\n"
     ]
    },
    {
     "name": "stderr",
     "output_type": "stream",
     "text": [
      "100%|██████████| 3399/3399 [00:00<00:00, 4998.58it/s]\n"
     ]
    },
    {
     "name": "stdout",
     "output_type": "stream",
     "text": [
      "9\n",
      "1/1 [==============================] - 0s 120ms/step\n"
     ]
    },
    {
     "name": "stderr",
     "output_type": "stream",
     "text": [
      "100%|██████████| 3399/3399 [00:00<00:00, 9197.51it/s]\n"
     ]
    },
    {
     "name": "stdout",
     "output_type": "stream",
     "text": [
      "8\n",
      "1/1 [==============================] - 0s 65ms/step\n"
     ]
    },
    {
     "name": "stderr",
     "output_type": "stream",
     "text": [
      "100%|██████████| 3399/3399 [00:00<00:00, 12128.64it/s]\n"
     ]
    },
    {
     "name": "stdout",
     "output_type": "stream",
     "text": [
      "7\n",
      "1/1 [==============================] - 0s 58ms/step\n"
     ]
    },
    {
     "name": "stderr",
     "output_type": "stream",
     "text": [
      "100%|██████████| 3399/3399 [00:00<00:00, 8040.20it/s] \n"
     ]
    },
    {
     "name": "stdout",
     "output_type": "stream",
     "text": [
      "6\n",
      "1/1 [==============================] - 0s 130ms/step\n"
     ]
    },
    {
     "name": "stderr",
     "output_type": "stream",
     "text": [
      "100%|██████████| 3399/3399 [00:00<00:00, 6871.63it/s]\n"
     ]
    },
    {
     "name": "stdout",
     "output_type": "stream",
     "text": [
      "5\n",
      "1/1 [==============================] - 0s 105ms/step\n"
     ]
    },
    {
     "name": "stderr",
     "output_type": "stream",
     "text": [
      "100%|██████████| 3399/3399 [00:00<00:00, 8191.91it/s]\n"
     ]
    },
    {
     "name": "stdout",
     "output_type": "stream",
     "text": [
      "4\n",
      "1/1 [==============================] - 0s 67ms/step\n"
     ]
    },
    {
     "name": "stderr",
     "output_type": "stream",
     "text": [
      "100%|██████████| 3399/3399 [00:00<00:00, 11934.58it/s]\n"
     ]
    },
    {
     "name": "stdout",
     "output_type": "stream",
     "text": [
      "3\n",
      "1/1 [==============================] - 0s 100ms/step\n"
     ]
    },
    {
     "name": "stderr",
     "output_type": "stream",
     "text": [
      "100%|██████████| 3399/3399 [00:00<00:00, 9571.87it/s]\n"
     ]
    },
    {
     "name": "stdout",
     "output_type": "stream",
     "text": [
      "2\n",
      "1/1 [==============================] - 0s 90ms/step\n"
     ]
    },
    {
     "name": "stderr",
     "output_type": "stream",
     "text": [
      "100%|██████████| 3399/3399 [00:00<00:00, 6298.56it/s]\n"
     ]
    },
    {
     "name": "stdout",
     "output_type": "stream",
     "text": [
      "1\n",
      "1/1 [==============================] - 0s 50ms/step\n"
     ]
    },
    {
     "name": "stderr",
     "output_type": "stream",
     "text": [
      "100%|██████████| 3399/3399 [00:00<00:00, 14304.80it/s]\n"
     ]
    },
    {
     "name": "stdout",
     "output_type": "stream",
     "text": [
      "30\n",
      "1/1 [==============================] - 0s 56ms/step\n"
     ]
    },
    {
     "name": "stderr",
     "output_type": "stream",
     "text": [
      "100%|██████████| 3399/3399 [00:00<00:00, 8295.88it/s]\n"
     ]
    },
    {
     "name": "stdout",
     "output_type": "stream",
     "text": [
      "29\n",
      "1/1 [==============================] - 0s 45ms/step\n"
     ]
    },
    {
     "name": "stderr",
     "output_type": "stream",
     "text": [
      "100%|██████████| 3399/3399 [00:00<00:00, 12171.45it/s]\n"
     ]
    },
    {
     "name": "stdout",
     "output_type": "stream",
     "text": [
      "28\n",
      "1/1 [==============================] - 0s 50ms/step\n"
     ]
    },
    {
     "name": "stderr",
     "output_type": "stream",
     "text": [
      "100%|██████████| 3399/3399 [00:00<00:00, 9442.94it/s]\n"
     ]
    },
    {
     "name": "stdout",
     "output_type": "stream",
     "text": [
      "27\n",
      "1/1 [==============================] - 0s 60ms/step\n"
     ]
    },
    {
     "name": "stderr",
     "output_type": "stream",
     "text": [
      "100%|██████████| 3399/3399 [00:00<00:00, 8722.92it/s]\n"
     ]
    },
    {
     "name": "stdout",
     "output_type": "stream",
     "text": [
      "26\n",
      "1/1 [==============================] - 0s 85ms/step\n"
     ]
    },
    {
     "name": "stderr",
     "output_type": "stream",
     "text": [
      "100%|██████████| 3399/3399 [00:00<00:00, 6597.46it/s]\n"
     ]
    },
    {
     "name": "stdout",
     "output_type": "stream",
     "text": [
      "25\n",
      "1/1 [==============================] - 0s 70ms/step\n"
     ]
    },
    {
     "name": "stderr",
     "output_type": "stream",
     "text": [
      "100%|██████████| 3399/3399 [00:00<00:00, 9857.23it/s] \n"
     ]
    },
    {
     "name": "stdout",
     "output_type": "stream",
     "text": [
      "24\n",
      "1/1 [==============================] - 0s 45ms/step\n"
     ]
    },
    {
     "name": "stderr",
     "output_type": "stream",
     "text": [
      "100%|██████████| 3399/3399 [00:00<00:00, 14786.15it/s]\n"
     ]
    },
    {
     "name": "stdout",
     "output_type": "stream",
     "text": [
      "23\n",
      "1/1 [==============================] - 0s 90ms/step\n"
     ]
    },
    {
     "name": "stderr",
     "output_type": "stream",
     "text": [
      "100%|██████████| 3399/3399 [00:00<00:00, 6470.72it/s]\n"
     ]
    },
    {
     "name": "stdout",
     "output_type": "stream",
     "text": [
      "22\n",
      "1/1 [==============================] - 0s 49ms/step\n"
     ]
    },
    {
     "name": "stderr",
     "output_type": "stream",
     "text": [
      "100%|██████████| 3399/3399 [00:00<00:00, 6533.40it/s] \n"
     ]
    },
    {
     "name": "stdout",
     "output_type": "stream",
     "text": [
      "21\n",
      "1/1 [==============================] - 0s 80ms/step\n"
     ]
    },
    {
     "name": "stderr",
     "output_type": "stream",
     "text": [
      "100%|██████████| 3399/3399 [00:00<00:00, 10672.42it/s]\n"
     ]
    },
    {
     "name": "stdout",
     "output_type": "stream",
     "text": [
      "20\n",
      "1/1 [==============================] - 0s 121ms/step\n"
     ]
    },
    {
     "name": "stderr",
     "output_type": "stream",
     "text": [
      "100%|██████████| 3399/3399 [00:00<00:00, 7078.97it/s]\n"
     ]
    },
    {
     "name": "stdout",
     "output_type": "stream",
     "text": [
      "19\n",
      "1/1 [==============================] - 0s 57ms/step\n"
     ]
    },
    {
     "name": "stderr",
     "output_type": "stream",
     "text": [
      "100%|██████████| 3399/3399 [00:00<00:00, 10958.75it/s]\n"
     ]
    },
    {
     "name": "stdout",
     "output_type": "stream",
     "text": [
      "18\n",
      "1/1 [==============================] - 0s 57ms/step\n"
     ]
    },
    {
     "name": "stderr",
     "output_type": "stream",
     "text": [
      "100%|██████████| 3399/3399 [00:00<00:00, 7850.24it/s] \n"
     ]
    },
    {
     "name": "stdout",
     "output_type": "stream",
     "text": [
      "17\n",
      "1/1 [==============================] - 0s 49ms/step\n"
     ]
    },
    {
     "name": "stderr",
     "output_type": "stream",
     "text": [
      "100%|██████████| 3399/3399 [00:00<00:00, 11540.20it/s]\n"
     ]
    },
    {
     "name": "stdout",
     "output_type": "stream",
     "text": [
      "16\n",
      "1/1 [==============================] - 0s 39ms/step\n"
     ]
    },
    {
     "name": "stderr",
     "output_type": "stream",
     "text": [
      "100%|██████████| 3399/3399 [00:00<00:00, 13332.14it/s]\n"
     ]
    },
    {
     "name": "stdout",
     "output_type": "stream",
     "text": [
      "15\n",
      "1/1 [==============================] - 0s 90ms/step\n"
     ]
    },
    {
     "name": "stderr",
     "output_type": "stream",
     "text": [
      "100%|██████████| 3399/3399 [00:00<00:00, 8285.32it/s]\n"
     ]
    },
    {
     "name": "stdout",
     "output_type": "stream",
     "text": [
      "14\n",
      "1/1 [==============================] - 0s 75ms/step\n"
     ]
    },
    {
     "name": "stderr",
     "output_type": "stream",
     "text": [
      "100%|██████████| 3399/3399 [00:00<00:00, 8084.39it/s]\n"
     ]
    },
    {
     "name": "stdout",
     "output_type": "stream",
     "text": [
      "13\n",
      "1/1 [==============================] - 0s 62ms/step\n"
     ]
    },
    {
     "name": "stderr",
     "output_type": "stream",
     "text": [
      "100%|██████████| 3399/3399 [00:00<00:00, 11519.05it/s]\n"
     ]
    },
    {
     "name": "stdout",
     "output_type": "stream",
     "text": [
      "12\n",
      "1/1 [==============================] - 0s 70ms/step\n"
     ]
    },
    {
     "name": "stderr",
     "output_type": "stream",
     "text": [
      "100%|██████████| 3399/3399 [00:00<00:00, 8176.06it/s]\n"
     ]
    },
    {
     "name": "stdout",
     "output_type": "stream",
     "text": [
      "11\n",
      "1/1 [==============================] - 0s 71ms/step\n"
     ]
    },
    {
     "name": "stderr",
     "output_type": "stream",
     "text": [
      "100%|██████████| 3399/3399 [00:00<00:00, 9457.67it/s]\n"
     ]
    },
    {
     "name": "stdout",
     "output_type": "stream",
     "text": [
      "10\n",
      "1/1 [==============================] - 0s 59ms/step\n"
     ]
    },
    {
     "name": "stderr",
     "output_type": "stream",
     "text": [
      "100%|██████████| 3399/3399 [00:00<00:00, 14458.14it/s]\n"
     ]
    },
    {
     "name": "stdout",
     "output_type": "stream",
     "text": [
      "9\n",
      "1/1 [==============================] - 0s 57ms/step\n"
     ]
    },
    {
     "name": "stderr",
     "output_type": "stream",
     "text": [
      "100%|██████████| 3399/3399 [00:00<00:00, 7060.40it/s]\n"
     ]
    },
    {
     "name": "stdout",
     "output_type": "stream",
     "text": [
      "8\n",
      "1/1 [==============================] - 0s 70ms/step\n"
     ]
    },
    {
     "name": "stderr",
     "output_type": "stream",
     "text": [
      "100%|██████████| 3399/3399 [00:00<00:00, 7234.93it/s]\n"
     ]
    },
    {
     "name": "stdout",
     "output_type": "stream",
     "text": [
      "7\n",
      "1/1 [==============================] - 0s 80ms/step\n"
     ]
    },
    {
     "name": "stderr",
     "output_type": "stream",
     "text": [
      "100%|██████████| 3399/3399 [00:00<00:00, 7388.10it/s]\n"
     ]
    },
    {
     "name": "stdout",
     "output_type": "stream",
     "text": [
      "6\n",
      "1/1 [==============================] - 0s 41ms/step\n"
     ]
    },
    {
     "name": "stderr",
     "output_type": "stream",
     "text": [
      "100%|██████████| 3399/3399 [00:00<00:00, 10004.20it/s]\n"
     ]
    },
    {
     "name": "stdout",
     "output_type": "stream",
     "text": [
      "5\n",
      "1/1 [==============================] - 0s 45ms/step\n"
     ]
    },
    {
     "name": "stderr",
     "output_type": "stream",
     "text": [
      "100%|██████████| 3399/3399 [00:00<00:00, 14153.11it/s]\n"
     ]
    },
    {
     "name": "stdout",
     "output_type": "stream",
     "text": [
      "4\n",
      "1/1 [==============================] - 0s 54ms/step\n"
     ]
    },
    {
     "name": "stderr",
     "output_type": "stream",
     "text": [
      "100%|██████████| 3399/3399 [00:00<00:00, 14167.88it/s]\n"
     ]
    },
    {
     "name": "stdout",
     "output_type": "stream",
     "text": [
      "3\n",
      "1/1 [==============================] - 0s 65ms/step\n"
     ]
    },
    {
     "name": "stderr",
     "output_type": "stream",
     "text": [
      "100%|██████████| 3399/3399 [00:00<00:00, 7893.09it/s] \n"
     ]
    },
    {
     "name": "stdout",
     "output_type": "stream",
     "text": [
      "2\n",
      "1/1 [==============================] - 0s 65ms/step\n"
     ]
    },
    {
     "name": "stderr",
     "output_type": "stream",
     "text": [
      "100%|██████████| 3399/3399 [00:00<00:00, 9192.01it/s]\n"
     ]
    },
    {
     "name": "stdout",
     "output_type": "stream",
     "text": [
      "1\n",
      "1/1 [==============================] - 0s 70ms/step\n"
     ]
    },
    {
     "name": "stderr",
     "output_type": "stream",
     "text": [
      "100%|██████████| 3399/3399 [00:00<00:00, 9849.53it/s] \n"
     ]
    },
    {
     "name": "stdout",
     "output_type": "stream",
     "text": [
      "90\n",
      "1/1 [==============================] - 0s 70ms/step\n"
     ]
    },
    {
     "name": "stderr",
     "output_type": "stream",
     "text": [
      "100%|██████████| 3399/3399 [00:00<00:00, 4120.04it/s]\n"
     ]
    },
    {
     "name": "stdout",
     "output_type": "stream",
     "text": [
      "89\n",
      "1/1 [==============================] - 0s 80ms/step\n"
     ]
    },
    {
     "name": "stderr",
     "output_type": "stream",
     "text": [
      "100%|██████████| 3399/3399 [00:00<00:00, 6892.12it/s]\n"
     ]
    },
    {
     "name": "stdout",
     "output_type": "stream",
     "text": [
      "88\n",
      "1/1 [==============================] - 0s 89ms/step\n"
     ]
    },
    {
     "name": "stderr",
     "output_type": "stream",
     "text": [
      "100%|██████████| 3399/3399 [00:00<00:00, 4503.74it/s]\n"
     ]
    },
    {
     "name": "stdout",
     "output_type": "stream",
     "text": [
      "87\n",
      "1/1 [==============================] - 0s 104ms/step\n"
     ]
    },
    {
     "name": "stderr",
     "output_type": "stream",
     "text": [
      "100%|██████████| 3399/3399 [00:00<00:00, 9859.72it/s] \n"
     ]
    },
    {
     "name": "stdout",
     "output_type": "stream",
     "text": [
      "86\n",
      "1/1 [==============================] - 0s 90ms/step\n"
     ]
    },
    {
     "name": "stderr",
     "output_type": "stream",
     "text": [
      "100%|██████████| 3399/3399 [00:00<00:00, 8942.61it/s]\n"
     ]
    },
    {
     "name": "stdout",
     "output_type": "stream",
     "text": [
      "85\n",
      "1/1 [==============================] - 0s 135ms/step\n"
     ]
    },
    {
     "name": "stderr",
     "output_type": "stream",
     "text": [
      "100%|██████████| 3399/3399 [00:00<00:00, 4994.36it/s]\n"
     ]
    },
    {
     "name": "stdout",
     "output_type": "stream",
     "text": [
      "84\n",
      "1/1 [==============================] - 0s 80ms/step\n"
     ]
    },
    {
     "name": "stderr",
     "output_type": "stream",
     "text": [
      "100%|██████████| 3399/3399 [00:00<00:00, 7912.63it/s]\n"
     ]
    },
    {
     "name": "stdout",
     "output_type": "stream",
     "text": [
      "83\n",
      "1/1 [==============================] - 0s 57ms/step\n"
     ]
    },
    {
     "name": "stderr",
     "output_type": "stream",
     "text": [
      "100%|██████████| 3399/3399 [00:00<00:00, 12501.91it/s]\n"
     ]
    },
    {
     "name": "stdout",
     "output_type": "stream",
     "text": [
      "82\n",
      "1/1 [==============================] - 0s 110ms/step\n"
     ]
    },
    {
     "name": "stderr",
     "output_type": "stream",
     "text": [
      "100%|██████████| 3399/3399 [00:00<00:00, 6123.98it/s]\n"
     ]
    },
    {
     "name": "stdout",
     "output_type": "stream",
     "text": [
      "81\n",
      "1/1 [==============================] - 0s 120ms/step\n"
     ]
    },
    {
     "name": "stderr",
     "output_type": "stream",
     "text": [
      "100%|██████████| 3399/3399 [00:00<00:00, 6065.24it/s]\n"
     ]
    },
    {
     "name": "stdout",
     "output_type": "stream",
     "text": [
      "80\n",
      "1/1 [==============================] - 0s 85ms/step\n"
     ]
    },
    {
     "name": "stderr",
     "output_type": "stream",
     "text": [
      "100%|██████████| 3399/3399 [00:00<00:00, 9444.05it/s]\n"
     ]
    },
    {
     "name": "stdout",
     "output_type": "stream",
     "text": [
      "79\n",
      "1/1 [==============================] - 0s 68ms/step\n"
     ]
    },
    {
     "name": "stderr",
     "output_type": "stream",
     "text": [
      "100%|██████████| 3399/3399 [00:00<00:00, 13081.62it/s]\n"
     ]
    },
    {
     "name": "stdout",
     "output_type": "stream",
     "text": [
      "78\n",
      "1/1 [==============================] - 0s 60ms/step\n"
     ]
    },
    {
     "name": "stderr",
     "output_type": "stream",
     "text": [
      "100%|██████████| 3399/3399 [00:00<00:00, 12702.29it/s]\n"
     ]
    },
    {
     "name": "stdout",
     "output_type": "stream",
     "text": [
      "77\n",
      "1/1 [==============================] - 0s 57ms/step\n"
     ]
    },
    {
     "name": "stderr",
     "output_type": "stream",
     "text": [
      "100%|██████████| 3399/3399 [00:00<00:00, 12401.11it/s]\n"
     ]
    },
    {
     "name": "stdout",
     "output_type": "stream",
     "text": [
      "76\n",
      "1/1 [==============================] - 0s 60ms/step\n"
     ]
    },
    {
     "name": "stderr",
     "output_type": "stream",
     "text": [
      "100%|██████████| 3399/3399 [00:00<00:00, 11057.97it/s]\n"
     ]
    },
    {
     "name": "stdout",
     "output_type": "stream",
     "text": [
      "75\n",
      "1/1 [==============================] - 0s 52ms/step\n"
     ]
    },
    {
     "name": "stderr",
     "output_type": "stream",
     "text": [
      "100%|██████████| 3399/3399 [00:00<00:00, 13079.75it/s]\n"
     ]
    },
    {
     "name": "stdout",
     "output_type": "stream",
     "text": [
      "74\n",
      "1/1 [==============================] - 0s 56ms/step\n"
     ]
    },
    {
     "name": "stderr",
     "output_type": "stream",
     "text": [
      "100%|██████████| 3399/3399 [00:00<00:00, 10976.23it/s]\n"
     ]
    },
    {
     "name": "stdout",
     "output_type": "stream",
     "text": [
      "73\n",
      "1/1 [==============================] - 0s 65ms/step\n"
     ]
    },
    {
     "name": "stderr",
     "output_type": "stream",
     "text": [
      "100%|██████████| 3399/3399 [00:00<00:00, 11148.09it/s]\n"
     ]
    },
    {
     "name": "stdout",
     "output_type": "stream",
     "text": [
      "72\n",
      "1/1 [==============================] - 0s 60ms/step\n"
     ]
    },
    {
     "name": "stderr",
     "output_type": "stream",
     "text": [
      "100%|██████████| 3399/3399 [00:00<00:00, 9169.84it/s] \n"
     ]
    },
    {
     "name": "stdout",
     "output_type": "stream",
     "text": [
      "71\n",
      "1/1 [==============================] - 0s 65ms/step\n"
     ]
    },
    {
     "name": "stderr",
     "output_type": "stream",
     "text": [
      "100%|██████████| 3399/3399 [00:00<00:00, 11809.60it/s]\n"
     ]
    },
    {
     "name": "stdout",
     "output_type": "stream",
     "text": [
      "70\n",
      "1/1 [==============================] - 0s 72ms/step\n"
     ]
    },
    {
     "name": "stderr",
     "output_type": "stream",
     "text": [
      "100%|██████████| 3399/3399 [00:00<00:00, 11323.36it/s]\n"
     ]
    },
    {
     "name": "stdout",
     "output_type": "stream",
     "text": [
      "69\n",
      "1/1 [==============================] - 0s 72ms/step\n"
     ]
    },
    {
     "name": "stderr",
     "output_type": "stream",
     "text": [
      "100%|██████████| 3399/3399 [00:00<00:00, 4668.47it/s]\n"
     ]
    },
    {
     "name": "stdout",
     "output_type": "stream",
     "text": [
      "68\n",
      "1/1 [==============================] - 0s 85ms/step\n"
     ]
    },
    {
     "name": "stderr",
     "output_type": "stream",
     "text": [
      "100%|██████████| 3399/3399 [00:00<00:00, 6286.44it/s]\n"
     ]
    },
    {
     "name": "stdout",
     "output_type": "stream",
     "text": [
      "67\n",
      "1/1 [==============================] - 0s 140ms/step\n"
     ]
    },
    {
     "name": "stderr",
     "output_type": "stream",
     "text": [
      "100%|██████████| 3399/3399 [00:00<00:00, 9246.16it/s]\n"
     ]
    },
    {
     "name": "stdout",
     "output_type": "stream",
     "text": [
      "66\n",
      "1/1 [==============================] - 0s 60ms/step\n"
     ]
    },
    {
     "name": "stderr",
     "output_type": "stream",
     "text": [
      "100%|██████████| 3399/3399 [00:00<00:00, 11498.50it/s]\n"
     ]
    },
    {
     "name": "stdout",
     "output_type": "stream",
     "text": [
      "65\n",
      "1/1 [==============================] - 0s 62ms/step\n"
     ]
    },
    {
     "name": "stderr",
     "output_type": "stream",
     "text": [
      "100%|██████████| 3399/3399 [00:00<00:00, 13066.87it/s]\n"
     ]
    },
    {
     "name": "stdout",
     "output_type": "stream",
     "text": [
      "64\n",
      "1/1 [==============================] - 0s 70ms/step\n"
     ]
    },
    {
     "name": "stderr",
     "output_type": "stream",
     "text": [
      "100%|██████████| 3399/3399 [00:00<00:00, 13082.89it/s]\n"
     ]
    },
    {
     "name": "stdout",
     "output_type": "stream",
     "text": [
      "63\n",
      "1/1 [==============================] - 0s 59ms/step\n"
     ]
    },
    {
     "name": "stderr",
     "output_type": "stream",
     "text": [
      "100%|██████████| 3399/3399 [00:00<00:00, 14115.26it/s]\n"
     ]
    },
    {
     "name": "stdout",
     "output_type": "stream",
     "text": [
      "62\n",
      "1/1 [==============================] - 0s 60ms/step\n"
     ]
    },
    {
     "name": "stderr",
     "output_type": "stream",
     "text": [
      "100%|██████████| 3399/3399 [00:00<00:00, 12929.94it/s]\n"
     ]
    },
    {
     "name": "stdout",
     "output_type": "stream",
     "text": [
      "61\n",
      "1/1 [==============================] - 0s 56ms/step\n"
     ]
    },
    {
     "name": "stderr",
     "output_type": "stream",
     "text": [
      "100%|██████████| 3399/3399 [00:00<00:00, 11298.08it/s]\n"
     ]
    },
    {
     "name": "stdout",
     "output_type": "stream",
     "text": [
      "60\n",
      "1/1 [==============================] - 0s 67ms/step\n"
     ]
    },
    {
     "name": "stderr",
     "output_type": "stream",
     "text": [
      "100%|██████████| 3399/3399 [00:00<00:00, 10956.96it/s]\n"
     ]
    },
    {
     "name": "stdout",
     "output_type": "stream",
     "text": [
      "59\n",
      "1/1 [==============================] - 0s 66ms/step\n"
     ]
    },
    {
     "name": "stderr",
     "output_type": "stream",
     "text": [
      "100%|██████████| 3399/3399 [00:00<00:00, 10105.72it/s]\n"
     ]
    },
    {
     "name": "stdout",
     "output_type": "stream",
     "text": [
      "58\n",
      "1/1 [==============================] - 0s 67ms/step\n"
     ]
    },
    {
     "name": "stderr",
     "output_type": "stream",
     "text": [
      "100%|██████████| 3399/3399 [00:00<00:00, 13764.10it/s]\n"
     ]
    },
    {
     "name": "stdout",
     "output_type": "stream",
     "text": [
      "57\n",
      "1/1 [==============================] - 0s 50ms/step\n"
     ]
    },
    {
     "name": "stderr",
     "output_type": "stream",
     "text": [
      "100%|██████████| 3399/3399 [00:00<00:00, 12473.36it/s]\n"
     ]
    },
    {
     "name": "stdout",
     "output_type": "stream",
     "text": [
      "56\n",
      "1/1 [==============================] - 0s 57ms/step\n"
     ]
    },
    {
     "name": "stderr",
     "output_type": "stream",
     "text": [
      "100%|██████████| 3399/3399 [00:00<00:00, 14769.96it/s]\n"
     ]
    },
    {
     "name": "stdout",
     "output_type": "stream",
     "text": [
      "55\n",
      "1/1 [==============================] - 0s 65ms/step\n"
     ]
    },
    {
     "name": "stderr",
     "output_type": "stream",
     "text": [
      "100%|██████████| 3399/3399 [00:00<00:00, 11922.60it/s]\n"
     ]
    },
    {
     "name": "stdout",
     "output_type": "stream",
     "text": [
      "54\n",
      "1/1 [==============================] - 0s 59ms/step\n"
     ]
    },
    {
     "name": "stderr",
     "output_type": "stream",
     "text": [
      "100%|██████████| 3399/3399 [00:00<00:00, 14005.81it/s]\n"
     ]
    },
    {
     "name": "stdout",
     "output_type": "stream",
     "text": [
      "53\n",
      "1/1 [==============================] - 0s 73ms/step\n"
     ]
    },
    {
     "name": "stderr",
     "output_type": "stream",
     "text": [
      "100%|██████████| 3399/3399 [00:00<00:00, 13865.97it/s]\n"
     ]
    },
    {
     "name": "stdout",
     "output_type": "stream",
     "text": [
      "52\n",
      "1/1 [==============================] - 0s 60ms/step\n"
     ]
    },
    {
     "name": "stderr",
     "output_type": "stream",
     "text": [
      "100%|██████████| 3399/3399 [00:00<00:00, 14804.27it/s]\n"
     ]
    },
    {
     "name": "stdout",
     "output_type": "stream",
     "text": [
      "51\n",
      "1/1 [==============================] - 0s 75ms/step\n"
     ]
    },
    {
     "name": "stderr",
     "output_type": "stream",
     "text": [
      "100%|██████████| 3399/3399 [00:00<00:00, 14161.49it/s]\n"
     ]
    },
    {
     "name": "stdout",
     "output_type": "stream",
     "text": [
      "50\n",
      "1/1 [==============================] - 0s 60ms/step\n"
     ]
    },
    {
     "name": "stderr",
     "output_type": "stream",
     "text": [
      "100%|██████████| 3399/3399 [00:00<00:00, 14777.52it/s]\n"
     ]
    },
    {
     "name": "stdout",
     "output_type": "stream",
     "text": [
      "49\n",
      "1/1 [==============================] - 0s 52ms/step\n"
     ]
    },
    {
     "name": "stderr",
     "output_type": "stream",
     "text": [
      "100%|██████████| 3399/3399 [00:00<00:00, 11249.73it/s]\n"
     ]
    },
    {
     "name": "stdout",
     "output_type": "stream",
     "text": [
      "48\n",
      "1/1 [==============================] - 0s 67ms/step\n"
     ]
    },
    {
     "name": "stderr",
     "output_type": "stream",
     "text": [
      "100%|██████████| 3399/3399 [00:00<00:00, 10049.46it/s]\n"
     ]
    },
    {
     "name": "stdout",
     "output_type": "stream",
     "text": [
      "47\n",
      "1/1 [==============================] - 0s 58ms/step\n"
     ]
    },
    {
     "name": "stderr",
     "output_type": "stream",
     "text": [
      "100%|██████████| 3399/3399 [00:00<00:00, 11659.73it/s]\n"
     ]
    },
    {
     "name": "stdout",
     "output_type": "stream",
     "text": [
      "46\n",
      "1/1 [==============================] - 0s 80ms/step\n"
     ]
    },
    {
     "name": "stderr",
     "output_type": "stream",
     "text": [
      "100%|██████████| 3399/3399 [00:00<00:00, 10786.11it/s]\n"
     ]
    },
    {
     "name": "stdout",
     "output_type": "stream",
     "text": [
      "45\n",
      "1/1 [==============================] - 0s 60ms/step\n"
     ]
    },
    {
     "name": "stderr",
     "output_type": "stream",
     "text": [
      "100%|██████████| 3399/3399 [00:00<00:00, 10464.71it/s]\n"
     ]
    },
    {
     "name": "stdout",
     "output_type": "stream",
     "text": [
      "44\n",
      "1/1 [==============================] - 0s 58ms/step\n"
     ]
    },
    {
     "name": "stderr",
     "output_type": "stream",
     "text": [
      "100%|██████████| 3399/3399 [00:00<00:00, 12705.52it/s]\n"
     ]
    },
    {
     "name": "stdout",
     "output_type": "stream",
     "text": [
      "43\n",
      "1/1 [==============================] - 0s 85ms/step\n"
     ]
    },
    {
     "name": "stderr",
     "output_type": "stream",
     "text": [
      "100%|██████████| 3399/3399 [00:00<00:00, 11136.86it/s]\n"
     ]
    },
    {
     "name": "stdout",
     "output_type": "stream",
     "text": [
      "42\n",
      "1/1 [==============================] - 0s 59ms/step\n"
     ]
    },
    {
     "name": "stderr",
     "output_type": "stream",
     "text": [
      "100%|██████████| 3399/3399 [00:00<00:00, 13658.38it/s]\n"
     ]
    },
    {
     "name": "stdout",
     "output_type": "stream",
     "text": [
      "41\n",
      "1/1 [==============================] - 0s 55ms/step\n"
     ]
    },
    {
     "name": "stderr",
     "output_type": "stream",
     "text": [
      "100%|██████████| 3399/3399 [00:00<00:00, 14145.37it/s]\n"
     ]
    },
    {
     "name": "stdout",
     "output_type": "stream",
     "text": [
      "40\n",
      "1/1 [==============================] - 0s 55ms/step\n"
     ]
    },
    {
     "name": "stderr",
     "output_type": "stream",
     "text": [
      "100%|██████████| 3399/3399 [00:00<00:00, 13386.55it/s]\n"
     ]
    },
    {
     "name": "stdout",
     "output_type": "stream",
     "text": [
      "39\n",
      "1/1 [==============================] - 0s 55ms/step\n"
     ]
    },
    {
     "name": "stderr",
     "output_type": "stream",
     "text": [
      "100%|██████████| 3399/3399 [00:00<00:00, 14207.41it/s]\n"
     ]
    },
    {
     "name": "stdout",
     "output_type": "stream",
     "text": [
      "38\n",
      "1/1 [==============================] - 0s 59ms/step\n"
     ]
    },
    {
     "name": "stderr",
     "output_type": "stream",
     "text": [
      "100%|██████████| 3399/3399 [00:00<00:00, 13115.91it/s]\n"
     ]
    },
    {
     "name": "stdout",
     "output_type": "stream",
     "text": [
      "37\n",
      "1/1 [==============================] - 0s 61ms/step\n"
     ]
    },
    {
     "name": "stderr",
     "output_type": "stream",
     "text": [
      "100%|██████████| 3399/3399 [00:00<00:00, 14407.47it/s]\n"
     ]
    },
    {
     "name": "stdout",
     "output_type": "stream",
     "text": [
      "36\n",
      "1/1 [==============================] - 0s 60ms/step\n"
     ]
    },
    {
     "name": "stderr",
     "output_type": "stream",
     "text": [
      "100%|██████████| 3399/3399 [00:00<00:00, 11729.16it/s]\n"
     ]
    },
    {
     "name": "stdout",
     "output_type": "stream",
     "text": [
      "35\n",
      "1/1 [==============================] - 0s 55ms/step\n"
     ]
    },
    {
     "name": "stderr",
     "output_type": "stream",
     "text": [
      "100%|██████████| 3399/3399 [00:00<00:00, 15153.53it/s]\n"
     ]
    },
    {
     "name": "stdout",
     "output_type": "stream",
     "text": [
      "34\n",
      "1/1 [==============================] - 0s 50ms/step\n"
     ]
    },
    {
     "name": "stderr",
     "output_type": "stream",
     "text": [
      "100%|██████████| 3399/3399 [00:00<00:00, 12584.36it/s]\n"
     ]
    },
    {
     "name": "stdout",
     "output_type": "stream",
     "text": [
      "33\n",
      "1/1 [==============================] - 0s 50ms/step\n"
     ]
    },
    {
     "name": "stderr",
     "output_type": "stream",
     "text": [
      "100%|██████████| 3399/3399 [00:00<00:00, 15265.75it/s]\n"
     ]
    },
    {
     "name": "stdout",
     "output_type": "stream",
     "text": [
      "32\n",
      "1/1 [==============================] - 0s 55ms/step\n"
     ]
    },
    {
     "name": "stderr",
     "output_type": "stream",
     "text": [
      "100%|██████████| 3399/3399 [00:00<00:00, 12732.77it/s]\n"
     ]
    },
    {
     "name": "stdout",
     "output_type": "stream",
     "text": [
      "31\n",
      "1/1 [==============================] - 0s 52ms/step\n"
     ]
    },
    {
     "name": "stderr",
     "output_type": "stream",
     "text": [
      "100%|██████████| 3399/3399 [00:00<00:00, 15001.68it/s]\n"
     ]
    },
    {
     "name": "stdout",
     "output_type": "stream",
     "text": [
      "30\n",
      "1/1 [==============================] - 0s 59ms/step\n"
     ]
    },
    {
     "name": "stderr",
     "output_type": "stream",
     "text": [
      "100%|██████████| 3399/3399 [00:00<00:00, 12371.93it/s]\n"
     ]
    },
    {
     "name": "stdout",
     "output_type": "stream",
     "text": [
      "29\n",
      "1/1 [==============================] - 0s 60ms/step\n"
     ]
    },
    {
     "name": "stderr",
     "output_type": "stream",
     "text": [
      "100%|██████████| 3399/3399 [00:00<00:00, 14210.41it/s]\n"
     ]
    },
    {
     "name": "stdout",
     "output_type": "stream",
     "text": [
      "28\n",
      "1/1 [==============================] - 0s 65ms/step\n"
     ]
    },
    {
     "name": "stderr",
     "output_type": "stream",
     "text": [
      "100%|██████████| 3399/3399 [00:00<00:00, 13123.42it/s]\n"
     ]
    },
    {
     "name": "stdout",
     "output_type": "stream",
     "text": [
      "27\n",
      "1/1 [==============================] - 0s 55ms/step\n"
     ]
    },
    {
     "name": "stderr",
     "output_type": "stream",
     "text": [
      "100%|██████████| 3399/3399 [00:00<00:00, 13942.86it/s]\n"
     ]
    },
    {
     "name": "stdout",
     "output_type": "stream",
     "text": [
      "26\n",
      "1/1 [==============================] - 0s 70ms/step\n"
     ]
    },
    {
     "name": "stderr",
     "output_type": "stream",
     "text": [
      "100%|██████████| 3399/3399 [00:00<00:00, 14148.23it/s]\n"
     ]
    },
    {
     "name": "stdout",
     "output_type": "stream",
     "text": [
      "25\n",
      "1/1 [==============================] - 0s 62ms/step\n"
     ]
    },
    {
     "name": "stderr",
     "output_type": "stream",
     "text": [
      "100%|██████████| 3399/3399 [00:00<00:00, 12451.92it/s]\n"
     ]
    },
    {
     "name": "stdout",
     "output_type": "stream",
     "text": [
      "24\n",
      "1/1 [==============================] - 0s 55ms/step\n"
     ]
    },
    {
     "name": "stderr",
     "output_type": "stream",
     "text": [
      "100%|██████████| 3399/3399 [00:00<00:00, 14786.89it/s]\n"
     ]
    },
    {
     "name": "stdout",
     "output_type": "stream",
     "text": [
      "23\n",
      "1/1 [==============================] - 0s 51ms/step\n"
     ]
    },
    {
     "name": "stderr",
     "output_type": "stream",
     "text": [
      "100%|██████████| 3399/3399 [00:00<00:00, 14178.98it/s]\n"
     ]
    },
    {
     "name": "stdout",
     "output_type": "stream",
     "text": [
      "22\n",
      "1/1 [==============================] - 0s 62ms/step\n"
     ]
    },
    {
     "name": "stderr",
     "output_type": "stream",
     "text": [
      "100%|██████████| 3399/3399 [00:00<00:00, 13360.77it/s]\n"
     ]
    },
    {
     "name": "stdout",
     "output_type": "stream",
     "text": [
      "21\n",
      "1/1 [==============================] - 0s 75ms/step\n"
     ]
    },
    {
     "name": "stderr",
     "output_type": "stream",
     "text": [
      "100%|██████████| 3399/3399 [00:00<00:00, 9562.33it/s]\n"
     ]
    },
    {
     "name": "stdout",
     "output_type": "stream",
     "text": [
      "20\n",
      "1/1 [==============================] - 0s 62ms/step\n"
     ]
    },
    {
     "name": "stderr",
     "output_type": "stream",
     "text": [
      "100%|██████████| 3399/3399 [00:00<00:00, 11043.60it/s]\n"
     ]
    },
    {
     "name": "stdout",
     "output_type": "stream",
     "text": [
      "19\n",
      "1/1 [==============================] - 0s 65ms/step\n"
     ]
    },
    {
     "name": "stderr",
     "output_type": "stream",
     "text": [
      "100%|██████████| 3399/3399 [00:00<00:00, 10277.04it/s]\n"
     ]
    },
    {
     "name": "stdout",
     "output_type": "stream",
     "text": [
      "18\n",
      "1/1 [==============================] - 0s 66ms/step\n"
     ]
    },
    {
     "name": "stderr",
     "output_type": "stream",
     "text": [
      "100%|██████████| 3399/3399 [00:00<00:00, 9994.45it/s] \n"
     ]
    },
    {
     "name": "stdout",
     "output_type": "stream",
     "text": [
      "17\n",
      "1/1 [==============================] - 0s 74ms/step\n"
     ]
    },
    {
     "name": "stderr",
     "output_type": "stream",
     "text": [
      "100%|██████████| 3399/3399 [00:00<00:00, 12260.69it/s]\n"
     ]
    },
    {
     "name": "stdout",
     "output_type": "stream",
     "text": [
      "16\n",
      "1/1 [==============================] - 0s 73ms/step\n"
     ]
    },
    {
     "name": "stderr",
     "output_type": "stream",
     "text": [
      "100%|██████████| 3399/3399 [00:00<00:00, 11905.95it/s]\n"
     ]
    },
    {
     "name": "stdout",
     "output_type": "stream",
     "text": [
      "15\n",
      "1/1 [==============================] - 0s 53ms/step\n"
     ]
    },
    {
     "name": "stderr",
     "output_type": "stream",
     "text": [
      "100%|██████████| 3399/3399 [00:00<00:00, 12179.02it/s]\n"
     ]
    },
    {
     "name": "stdout",
     "output_type": "stream",
     "text": [
      "14\n",
      "1/1 [==============================] - 0s 56ms/step\n"
     ]
    },
    {
     "name": "stderr",
     "output_type": "stream",
     "text": [
      "100%|██████████| 3399/3399 [00:00<00:00, 13385.25it/s]\n"
     ]
    },
    {
     "name": "stdout",
     "output_type": "stream",
     "text": [
      "13\n",
      "1/1 [==============================] - 0s 51ms/step\n"
     ]
    },
    {
     "name": "stderr",
     "output_type": "stream",
     "text": [
      "100%|██████████| 3399/3399 [00:00<00:00, 12838.39it/s]\n"
     ]
    },
    {
     "name": "stdout",
     "output_type": "stream",
     "text": [
      "12\n",
      "1/1 [==============================] - 0s 60ms/step\n"
     ]
    },
    {
     "name": "stderr",
     "output_type": "stream",
     "text": [
      "100%|██████████| 3399/3399 [00:00<00:00, 13083.60it/s]\n"
     ]
    },
    {
     "name": "stdout",
     "output_type": "stream",
     "text": [
      "11\n",
      "1/1 [==============================] - 0s 59ms/step\n"
     ]
    },
    {
     "name": "stderr",
     "output_type": "stream",
     "text": [
      "100%|██████████| 3399/3399 [00:00<00:00, 11405.88it/s]\n"
     ]
    },
    {
     "name": "stdout",
     "output_type": "stream",
     "text": [
      "10\n",
      "1/1 [==============================] - 0s 53ms/step\n"
     ]
    },
    {
     "name": "stderr",
     "output_type": "stream",
     "text": [
      "100%|██████████| 3399/3399 [00:00<00:00, 14517.11it/s]\n"
     ]
    },
    {
     "name": "stdout",
     "output_type": "stream",
     "text": [
      "9\n",
      "1/1 [==============================] - 0s 65ms/step\n"
     ]
    },
    {
     "name": "stderr",
     "output_type": "stream",
     "text": [
      "100%|██████████| 3399/3399 [00:00<00:00, 13081.56it/s]\n"
     ]
    },
    {
     "name": "stdout",
     "output_type": "stream",
     "text": [
      "8\n",
      "1/1 [==============================] - 0s 60ms/step\n"
     ]
    },
    {
     "name": "stderr",
     "output_type": "stream",
     "text": [
      "100%|██████████| 3399/3399 [00:00<00:00, 14749.30it/s]\n"
     ]
    },
    {
     "name": "stdout",
     "output_type": "stream",
     "text": [
      "7\n",
      "1/1 [==============================] - 0s 73ms/step\n"
     ]
    },
    {
     "name": "stderr",
     "output_type": "stream",
     "text": [
      "100%|██████████| 3399/3399 [00:00<00:00, 12333.26it/s]\n"
     ]
    },
    {
     "name": "stdout",
     "output_type": "stream",
     "text": [
      "6\n",
      "1/1 [==============================] - 0s 61ms/step\n"
     ]
    },
    {
     "name": "stderr",
     "output_type": "stream",
     "text": [
      "100%|██████████| 3399/3399 [00:00<00:00, 14107.05it/s]\n"
     ]
    },
    {
     "name": "stdout",
     "output_type": "stream",
     "text": [
      "5\n",
      "1/1 [==============================] - 0s 66ms/step\n"
     ]
    },
    {
     "name": "stderr",
     "output_type": "stream",
     "text": [
      "100%|██████████| 3399/3399 [00:00<00:00, 13706.89it/s]\n"
     ]
    },
    {
     "name": "stdout",
     "output_type": "stream",
     "text": [
      "4\n",
      "1/1 [==============================] - 0s 57ms/step\n"
     ]
    },
    {
     "name": "stderr",
     "output_type": "stream",
     "text": [
      "100%|██████████| 3399/3399 [00:00<00:00, 14464.79it/s]\n"
     ]
    },
    {
     "name": "stdout",
     "output_type": "stream",
     "text": [
      "3\n",
      "1/1 [==============================] - 0s 50ms/step\n"
     ]
    },
    {
     "name": "stderr",
     "output_type": "stream",
     "text": [
      "100%|██████████| 3399/3399 [00:00<00:00, 14509.31it/s]\n"
     ]
    },
    {
     "name": "stdout",
     "output_type": "stream",
     "text": [
      "2\n",
      "1/1 [==============================] - 0s 61ms/step\n"
     ]
    },
    {
     "name": "stderr",
     "output_type": "stream",
     "text": [
      "100%|██████████| 3399/3399 [00:00<00:00, 13071.94it/s]\n"
     ]
    },
    {
     "name": "stdout",
     "output_type": "stream",
     "text": [
      "1\n",
      "1/1 [==============================] - 0s 45ms/step\n"
     ]
    },
    {
     "name": "stderr",
     "output_type": "stream",
     "text": [
      "100%|██████████| 3399/3399 [00:00<00:00, 14433.63it/s]\n"
     ]
    },
    {
     "name": "stdout",
     "output_type": "stream",
     "text": [
      "90\n",
      "1/1 [==============================] - 0s 53ms/step\n"
     ]
    },
    {
     "name": "stderr",
     "output_type": "stream",
     "text": [
      "100%|██████████| 3399/3399 [00:00<00:00, 14958.00it/s]\n"
     ]
    },
    {
     "name": "stdout",
     "output_type": "stream",
     "text": [
      "89\n",
      "1/1 [==============================] - 0s 39ms/step\n"
     ]
    },
    {
     "name": "stderr",
     "output_type": "stream",
     "text": [
      "100%|██████████| 3399/3399 [00:00<00:00, 13575.62it/s]\n"
     ]
    },
    {
     "name": "stdout",
     "output_type": "stream",
     "text": [
      "88\n",
      "1/1 [==============================] - 0s 44ms/step\n"
     ]
    },
    {
     "name": "stderr",
     "output_type": "stream",
     "text": [
      "100%|██████████| 3399/3399 [00:00<00:00, 14496.43it/s]\n"
     ]
    },
    {
     "name": "stdout",
     "output_type": "stream",
     "text": [
      "87\n",
      "1/1 [==============================] - 0s 52ms/step\n"
     ]
    },
    {
     "name": "stderr",
     "output_type": "stream",
     "text": [
      "100%|██████████| 3399/3399 [00:00<00:00, 14433.70it/s]\n"
     ]
    },
    {
     "name": "stdout",
     "output_type": "stream",
     "text": [
      "86\n",
      "1/1 [==============================] - 0s 40ms/step\n"
     ]
    },
    {
     "name": "stderr",
     "output_type": "stream",
     "text": [
      "100%|██████████| 3399/3399 [00:00<00:00, 14783.59it/s]\n"
     ]
    },
    {
     "name": "stdout",
     "output_type": "stream",
     "text": [
      "85\n",
      "1/1 [==============================] - 0s 50ms/step\n"
     ]
    },
    {
     "name": "stderr",
     "output_type": "stream",
     "text": [
      "100%|██████████| 3399/3399 [00:00<00:00, 12152.81it/s]\n"
     ]
    },
    {
     "name": "stdout",
     "output_type": "stream",
     "text": [
      "84\n",
      "1/1 [==============================] - 0s 42ms/step\n"
     ]
    },
    {
     "name": "stderr",
     "output_type": "stream",
     "text": [
      "100%|██████████| 3399/3399 [00:00<00:00, 13890.49it/s]\n"
     ]
    },
    {
     "name": "stdout",
     "output_type": "stream",
     "text": [
      "83\n",
      "1/1 [==============================] - 0s 45ms/step\n"
     ]
    },
    {
     "name": "stderr",
     "output_type": "stream",
     "text": [
      "100%|██████████| 3399/3399 [00:00<00:00, 11499.20it/s]\n"
     ]
    },
    {
     "name": "stdout",
     "output_type": "stream",
     "text": [
      "82\n",
      "1/1 [==============================] - 0s 50ms/step\n"
     ]
    },
    {
     "name": "stderr",
     "output_type": "stream",
     "text": [
      "100%|██████████| 3399/3399 [00:00<00:00, 9507.06it/s] \n"
     ]
    },
    {
     "name": "stdout",
     "output_type": "stream",
     "text": [
      "81\n",
      "1/1 [==============================] - 0s 57ms/step\n"
     ]
    },
    {
     "name": "stderr",
     "output_type": "stream",
     "text": [
      "100%|██████████| 3399/3399 [00:00<00:00, 12360.71it/s]\n"
     ]
    },
    {
     "name": "stdout",
     "output_type": "stream",
     "text": [
      "80\n",
      "1/1 [==============================] - 0s 60ms/step\n"
     ]
    },
    {
     "name": "stderr",
     "output_type": "stream",
     "text": [
      "100%|██████████| 3399/3399 [00:00<00:00, 9583.01it/s]\n"
     ]
    },
    {
     "name": "stdout",
     "output_type": "stream",
     "text": [
      "79\n",
      "1/1 [==============================] - 0s 55ms/step\n"
     ]
    },
    {
     "name": "stderr",
     "output_type": "stream",
     "text": [
      "100%|██████████| 3399/3399 [00:00<00:00, 12680.82it/s]\n"
     ]
    },
    {
     "name": "stdout",
     "output_type": "stream",
     "text": [
      "78\n",
      "1/1 [==============================] - 0s 56ms/step\n"
     ]
    },
    {
     "name": "stderr",
     "output_type": "stream",
     "text": [
      "100%|██████████| 3399/3399 [00:00<00:00, 12587.32it/s]\n"
     ]
    },
    {
     "name": "stdout",
     "output_type": "stream",
     "text": [
      "77\n",
      "1/1 [==============================] - 0s 60ms/step\n"
     ]
    },
    {
     "name": "stderr",
     "output_type": "stream",
     "text": [
      "100%|██████████| 3399/3399 [00:00<00:00, 9545.35it/s] \n"
     ]
    },
    {
     "name": "stdout",
     "output_type": "stream",
     "text": [
      "76\n",
      "1/1 [==============================] - 0s 43ms/step\n"
     ]
    },
    {
     "name": "stderr",
     "output_type": "stream",
     "text": [
      "100%|██████████| 3399/3399 [00:00<00:00, 15187.88it/s]\n"
     ]
    },
    {
     "name": "stdout",
     "output_type": "stream",
     "text": [
      "75\n",
      "1/1 [==============================] - 0s 50ms/step\n"
     ]
    },
    {
     "name": "stderr",
     "output_type": "stream",
     "text": [
      "100%|██████████| 3399/3399 [00:00<00:00, 12606.34it/s]\n"
     ]
    },
    {
     "name": "stdout",
     "output_type": "stream",
     "text": [
      "74\n",
      "1/1 [==============================] - 0s 40ms/step\n"
     ]
    },
    {
     "name": "stderr",
     "output_type": "stream",
     "text": [
      "100%|██████████| 3399/3399 [00:00<00:00, 15032.30it/s]\n"
     ]
    },
    {
     "name": "stdout",
     "output_type": "stream",
     "text": [
      "73\n",
      "1/1 [==============================] - 0s 49ms/step\n"
     ]
    },
    {
     "name": "stderr",
     "output_type": "stream",
     "text": [
      "100%|██████████| 3399/3399 [00:00<00:00, 12601.53it/s]\n"
     ]
    },
    {
     "name": "stdout",
     "output_type": "stream",
     "text": [
      "72\n",
      "1/1 [==============================] - 0s 40ms/step\n"
     ]
    },
    {
     "name": "stderr",
     "output_type": "stream",
     "text": [
      "100%|██████████| 3399/3399 [00:00<00:00, 14766.79it/s]\n"
     ]
    },
    {
     "name": "stdout",
     "output_type": "stream",
     "text": [
      "71\n",
      "1/1 [==============================] - 0s 49ms/step\n"
     ]
    },
    {
     "name": "stderr",
     "output_type": "stream",
     "text": [
      "100%|██████████| 3399/3399 [00:00<00:00, 12921.56it/s]\n"
     ]
    },
    {
     "name": "stdout",
     "output_type": "stream",
     "text": [
      "70\n",
      "1/1 [==============================] - 0s 43ms/step\n"
     ]
    },
    {
     "name": "stderr",
     "output_type": "stream",
     "text": [
      "100%|██████████| 3399/3399 [00:00<00:00, 11650.56it/s]\n"
     ]
    },
    {
     "name": "stdout",
     "output_type": "stream",
     "text": [
      "69\n",
      "1/1 [==============================] - 0s 48ms/step\n"
     ]
    },
    {
     "name": "stderr",
     "output_type": "stream",
     "text": [
      "100%|██████████| 3399/3399 [00:00<00:00, 12239.77it/s]\n"
     ]
    },
    {
     "name": "stdout",
     "output_type": "stream",
     "text": [
      "68\n",
      "1/1 [==============================] - 0s 40ms/step\n"
     ]
    },
    {
     "name": "stderr",
     "output_type": "stream",
     "text": [
      "100%|██████████| 3399/3399 [00:00<00:00, 10467.02it/s]\n"
     ]
    },
    {
     "name": "stdout",
     "output_type": "stream",
     "text": [
      "67\n",
      "1/1 [==============================] - 0s 53ms/step\n"
     ]
    },
    {
     "name": "stderr",
     "output_type": "stream",
     "text": [
      "100%|██████████| 3399/3399 [00:00<00:00, 12589.89it/s]\n"
     ]
    },
    {
     "name": "stdout",
     "output_type": "stream",
     "text": [
      "66\n",
      "1/1 [==============================] - 0s 45ms/step\n"
     ]
    },
    {
     "name": "stderr",
     "output_type": "stream",
     "text": [
      "100%|██████████| 3399/3399 [00:00<00:00, 14887.46it/s]\n"
     ]
    },
    {
     "name": "stdout",
     "output_type": "stream",
     "text": [
      "65\n",
      "1/1 [==============================] - 0s 50ms/step\n"
     ]
    },
    {
     "name": "stderr",
     "output_type": "stream",
     "text": [
      "100%|██████████| 3399/3399 [00:00<00:00, 13728.43it/s]\n"
     ]
    },
    {
     "name": "stdout",
     "output_type": "stream",
     "text": [
      "64\n",
      "1/1 [==============================] - 0s 50ms/step\n"
     ]
    },
    {
     "name": "stderr",
     "output_type": "stream",
     "text": [
      "100%|██████████| 3399/3399 [00:00<00:00, 14807.39it/s]\n"
     ]
    },
    {
     "name": "stdout",
     "output_type": "stream",
     "text": [
      "63\n",
      "1/1 [==============================] - 0s 50ms/step\n"
     ]
    },
    {
     "name": "stderr",
     "output_type": "stream",
     "text": [
      "100%|██████████| 3399/3399 [00:00<00:00, 13238.59it/s]\n"
     ]
    },
    {
     "name": "stdout",
     "output_type": "stream",
     "text": [
      "62\n",
      "1/1 [==============================] - 0s 50ms/step\n"
     ]
    },
    {
     "name": "stderr",
     "output_type": "stream",
     "text": [
      "100%|██████████| 3399/3399 [00:00<00:00, 13820.33it/s]\n"
     ]
    },
    {
     "name": "stdout",
     "output_type": "stream",
     "text": [
      "61\n",
      "1/1 [==============================] - 0s 45ms/step\n"
     ]
    },
    {
     "name": "stderr",
     "output_type": "stream",
     "text": [
      "100%|██████████| 3399/3399 [00:00<00:00, 13580.95it/s]\n"
     ]
    },
    {
     "name": "stdout",
     "output_type": "stream",
     "text": [
      "60\n",
      "1/1 [==============================] - 0s 51ms/step\n"
     ]
    },
    {
     "name": "stderr",
     "output_type": "stream",
     "text": [
      "100%|██████████| 3399/3399 [00:00<00:00, 15412.63it/s]\n"
     ]
    },
    {
     "name": "stdout",
     "output_type": "stream",
     "text": [
      "59\n",
      "1/1 [==============================] - 0s 50ms/step\n"
     ]
    },
    {
     "name": "stderr",
     "output_type": "stream",
     "text": [
      "100%|██████████| 3399/3399 [00:00<00:00, 12692.89it/s]\n"
     ]
    },
    {
     "name": "stdout",
     "output_type": "stream",
     "text": [
      "58\n",
      "1/1 [==============================] - 0s 40ms/step\n"
     ]
    },
    {
     "name": "stderr",
     "output_type": "stream",
     "text": [
      "100%|██████████| 3399/3399 [00:00<00:00, 14779.64it/s]\n"
     ]
    },
    {
     "name": "stdout",
     "output_type": "stream",
     "text": [
      "57\n",
      "1/1 [==============================] - 0s 37ms/step\n"
     ]
    },
    {
     "name": "stderr",
     "output_type": "stream",
     "text": [
      "100%|██████████| 3399/3399 [00:00<00:00, 12841.35it/s]\n"
     ]
    },
    {
     "name": "stdout",
     "output_type": "stream",
     "text": [
      "56\n",
      "1/1 [==============================] - 0s 49ms/step\n"
     ]
    },
    {
     "name": "stderr",
     "output_type": "stream",
     "text": [
      "100%|██████████| 3399/3399 [00:00<00:00, 14931.74it/s]\n"
     ]
    },
    {
     "name": "stdout",
     "output_type": "stream",
     "text": [
      "55\n",
      "1/1 [==============================] - 0s 40ms/step\n"
     ]
    },
    {
     "name": "stderr",
     "output_type": "stream",
     "text": [
      "100%|██████████| 3399/3399 [00:00<00:00, 15475.54it/s]\n"
     ]
    },
    {
     "name": "stdout",
     "output_type": "stream",
     "text": [
      "54\n",
      "1/1 [==============================] - 0s 38ms/step\n"
     ]
    },
    {
     "name": "stderr",
     "output_type": "stream",
     "text": [
      "100%|██████████| 3399/3399 [00:00<00:00, 14374.08it/s]\n"
     ]
    },
    {
     "name": "stdout",
     "output_type": "stream",
     "text": [
      "53\n",
      "1/1 [==============================] - 0s 49ms/step\n"
     ]
    },
    {
     "name": "stderr",
     "output_type": "stream",
     "text": [
      "100%|██████████| 3399/3399 [00:00<00:00, 10684.39it/s]\n"
     ]
    },
    {
     "name": "stdout",
     "output_type": "stream",
     "text": [
      "52\n",
      "1/1 [==============================] - 0s 50ms/step\n"
     ]
    },
    {
     "name": "stderr",
     "output_type": "stream",
     "text": [
      "100%|██████████| 3399/3399 [00:00<00:00, 11127.70it/s]\n"
     ]
    },
    {
     "name": "stdout",
     "output_type": "stream",
     "text": [
      "51\n",
      "1/1 [==============================] - 0s 62ms/step\n"
     ]
    },
    {
     "name": "stderr",
     "output_type": "stream",
     "text": [
      "100%|██████████| 3399/3399 [00:00<00:00, 9706.90it/s]\n"
     ]
    },
    {
     "name": "stdout",
     "output_type": "stream",
     "text": [
      "50\n",
      "1/1 [==============================] - 0s 60ms/step\n"
     ]
    },
    {
     "name": "stderr",
     "output_type": "stream",
     "text": [
      "100%|██████████| 3399/3399 [00:00<00:00, 11917.10it/s]\n"
     ]
    },
    {
     "name": "stdout",
     "output_type": "stream",
     "text": [
      "49\n",
      "1/1 [==============================] - 0s 53ms/step\n"
     ]
    },
    {
     "name": "stderr",
     "output_type": "stream",
     "text": [
      "100%|██████████| 3399/3399 [00:00<00:00, 12500.46it/s]\n"
     ]
    },
    {
     "name": "stdout",
     "output_type": "stream",
     "text": [
      "48\n",
      "1/1 [==============================] - 0s 70ms/step\n"
     ]
    },
    {
     "name": "stderr",
     "output_type": "stream",
     "text": [
      "100%|██████████| 3399/3399 [00:00<00:00, 12536.69it/s]\n"
     ]
    },
    {
     "name": "stdout",
     "output_type": "stream",
     "text": [
      "47\n",
      "1/1 [==============================] - 0s 65ms/step\n"
     ]
    },
    {
     "name": "stderr",
     "output_type": "stream",
     "text": [
      "100%|██████████| 3399/3399 [00:00<00:00, 10649.11it/s]\n"
     ]
    },
    {
     "name": "stdout",
     "output_type": "stream",
     "text": [
      "46\n",
      "1/1 [==============================] - 0s 45ms/step\n"
     ]
    },
    {
     "name": "stderr",
     "output_type": "stream",
     "text": [
      "100%|██████████| 3399/3399 [00:00<00:00, 12574.32it/s]\n"
     ]
    },
    {
     "name": "stdout",
     "output_type": "stream",
     "text": [
      "45\n",
      "1/1 [==============================] - 0s 49ms/step\n"
     ]
    },
    {
     "name": "stderr",
     "output_type": "stream",
     "text": [
      "100%|██████████| 3399/3399 [00:00<00:00, 13168.41it/s]\n"
     ]
    },
    {
     "name": "stdout",
     "output_type": "stream",
     "text": [
      "44\n",
      "1/1 [==============================] - 0s 41ms/step\n"
     ]
    },
    {
     "name": "stderr",
     "output_type": "stream",
     "text": [
      "100%|██████████| 3399/3399 [00:00<00:00, 12227.27it/s]\n"
     ]
    },
    {
     "name": "stdout",
     "output_type": "stream",
     "text": [
      "43\n",
      "1/1 [==============================] - 0s 49ms/step\n"
     ]
    },
    {
     "name": "stderr",
     "output_type": "stream",
     "text": [
      "100%|██████████| 3399/3399 [00:00<00:00, 13308.96it/s]\n"
     ]
    },
    {
     "name": "stdout",
     "output_type": "stream",
     "text": [
      "42\n",
      "1/1 [==============================] - 0s 38ms/step\n"
     ]
    },
    {
     "name": "stderr",
     "output_type": "stream",
     "text": [
      "100%|██████████| 3399/3399 [00:00<00:00, 12362.66it/s]\n"
     ]
    },
    {
     "name": "stdout",
     "output_type": "stream",
     "text": [
      "41\n",
      "1/1 [==============================] - 0s 50ms/step\n"
     ]
    },
    {
     "name": "stderr",
     "output_type": "stream",
     "text": [
      "100%|██████████| 3399/3399 [00:00<00:00, 14284.37it/s]\n"
     ]
    },
    {
     "name": "stdout",
     "output_type": "stream",
     "text": [
      "40\n",
      "1/1 [==============================] - 0s 45ms/step\n"
     ]
    },
    {
     "name": "stderr",
     "output_type": "stream",
     "text": [
      "100%|██████████| 3399/3399 [00:00<00:00, 13199.73it/s]\n"
     ]
    },
    {
     "name": "stdout",
     "output_type": "stream",
     "text": [
      "39\n",
      "1/1 [==============================] - 0s 50ms/step\n"
     ]
    },
    {
     "name": "stderr",
     "output_type": "stream",
     "text": [
      "100%|██████████| 3399/3399 [00:00<00:00, 13932.86it/s]\n"
     ]
    },
    {
     "name": "stdout",
     "output_type": "stream",
     "text": [
      "38\n",
      "1/1 [==============================] - 0s 45ms/step\n"
     ]
    },
    {
     "name": "stderr",
     "output_type": "stream",
     "text": [
      "100%|██████████| 3399/3399 [00:00<00:00, 13604.41it/s]\n"
     ]
    },
    {
     "name": "stdout",
     "output_type": "stream",
     "text": [
      "37\n",
      "1/1 [==============================] - 0s 60ms/step\n"
     ]
    },
    {
     "name": "stderr",
     "output_type": "stream",
     "text": [
      "100%|██████████| 3399/3399 [00:00<00:00, 13592.98it/s]\n"
     ]
    },
    {
     "name": "stdout",
     "output_type": "stream",
     "text": [
      "36\n",
      "1/1 [==============================] - 0s 41ms/step\n"
     ]
    },
    {
     "name": "stderr",
     "output_type": "stream",
     "text": [
      "100%|██████████| 3399/3399 [00:00<00:00, 12904.23it/s]\n"
     ]
    },
    {
     "name": "stdout",
     "output_type": "stream",
     "text": [
      "35\n",
      "1/1 [==============================] - 0s 60ms/step\n"
     ]
    },
    {
     "name": "stderr",
     "output_type": "stream",
     "text": [
      "100%|██████████| 3399/3399 [00:00<00:00, 14160.43it/s]\n"
     ]
    },
    {
     "name": "stdout",
     "output_type": "stream",
     "text": [
      "34\n",
      "1/1 [==============================] - 0s 43ms/step\n"
     ]
    },
    {
     "name": "stderr",
     "output_type": "stream",
     "text": [
      "100%|██████████| 3399/3399 [00:00<00:00, 13074.84it/s]\n"
     ]
    },
    {
     "name": "stdout",
     "output_type": "stream",
     "text": [
      "33\n",
      "1/1 [==============================] - 0s 50ms/step\n"
     ]
    },
    {
     "name": "stderr",
     "output_type": "stream",
     "text": [
      "100%|██████████| 3399/3399 [00:00<00:00, 14443.44it/s]\n"
     ]
    },
    {
     "name": "stdout",
     "output_type": "stream",
     "text": [
      "32\n",
      "1/1 [==============================] - 0s 39ms/step\n"
     ]
    },
    {
     "name": "stderr",
     "output_type": "stream",
     "text": [
      "100%|██████████| 3399/3399 [00:00<00:00, 13420.45it/s]\n"
     ]
    },
    {
     "name": "stdout",
     "output_type": "stream",
     "text": [
      "31\n",
      "1/1 [==============================] - 0s 50ms/step\n"
     ]
    },
    {
     "name": "stderr",
     "output_type": "stream",
     "text": [
      "100%|██████████| 3399/3399 [00:00<00:00, 14475.64it/s]\n"
     ]
    },
    {
     "name": "stdout",
     "output_type": "stream",
     "text": [
      "30\n",
      "1/1 [==============================] - 0s 43ms/step\n"
     ]
    },
    {
     "name": "stderr",
     "output_type": "stream",
     "text": [
      "100%|██████████| 3399/3399 [00:00<00:00, 12097.78it/s]\n"
     ]
    },
    {
     "name": "stdout",
     "output_type": "stream",
     "text": [
      "29\n",
      "1/1 [==============================] - 0s 39ms/step\n"
     ]
    },
    {
     "name": "stderr",
     "output_type": "stream",
     "text": [
      "100%|██████████| 3399/3399 [00:00<00:00, 13600.59it/s]\n"
     ]
    },
    {
     "name": "stdout",
     "output_type": "stream",
     "text": [
      "28\n",
      "1/1 [==============================] - 0s 45ms/step\n"
     ]
    },
    {
     "name": "stderr",
     "output_type": "stream",
     "text": [
      "100%|██████████| 3399/3399 [00:00<00:00, 12809.34it/s]\n"
     ]
    },
    {
     "name": "stdout",
     "output_type": "stream",
     "text": [
      "27\n",
      "1/1 [==============================] - 0s 51ms/step\n"
     ]
    },
    {
     "name": "stderr",
     "output_type": "stream",
     "text": [
      "100%|██████████| 3399/3399 [00:00<00:00, 14173.54it/s]\n"
     ]
    },
    {
     "name": "stdout",
     "output_type": "stream",
     "text": [
      "26\n",
      "1/1 [==============================] - 0s 51ms/step\n"
     ]
    },
    {
     "name": "stderr",
     "output_type": "stream",
     "text": [
      "100%|██████████| 3399/3399 [00:00<00:00, 13033.64it/s]\n"
     ]
    },
    {
     "name": "stdout",
     "output_type": "stream",
     "text": [
      "25\n",
      "1/1 [==============================] - 0s 39ms/step\n"
     ]
    },
    {
     "name": "stderr",
     "output_type": "stream",
     "text": [
      "100%|██████████| 3399/3399 [00:00<00:00, 13987.38it/s]\n"
     ]
    },
    {
     "name": "stdout",
     "output_type": "stream",
     "text": [
      "24\n",
      "1/1 [==============================] - 0s 46ms/step\n"
     ]
    },
    {
     "name": "stderr",
     "output_type": "stream",
     "text": [
      "100%|██████████| 3399/3399 [00:00<00:00, 12844.12it/s]\n"
     ]
    },
    {
     "name": "stdout",
     "output_type": "stream",
     "text": [
      "23\n",
      "1/1 [==============================] - 0s 45ms/step\n"
     ]
    },
    {
     "name": "stderr",
     "output_type": "stream",
     "text": [
      "100%|██████████| 3399/3399 [00:00<00:00, 12286.31it/s]\n"
     ]
    },
    {
     "name": "stdout",
     "output_type": "stream",
     "text": [
      "22\n",
      "1/1 [==============================] - 0s 60ms/step\n"
     ]
    },
    {
     "name": "stderr",
     "output_type": "stream",
     "text": [
      "100%|██████████| 3399/3399 [00:00<00:00, 10005.73it/s]\n"
     ]
    },
    {
     "name": "stdout",
     "output_type": "stream",
     "text": [
      "21\n",
      "1/1 [==============================] - 0s 60ms/step\n"
     ]
    },
    {
     "name": "stderr",
     "output_type": "stream",
     "text": [
      "100%|██████████| 3399/3399 [00:00<00:00, 12783.74it/s]\n"
     ]
    },
    {
     "name": "stdout",
     "output_type": "stream",
     "text": [
      "20\n",
      "1/1 [==============================] - 0s 59ms/step\n"
     ]
    },
    {
     "name": "stderr",
     "output_type": "stream",
     "text": [
      "100%|██████████| 3399/3399 [00:00<00:00, 11111.01it/s]\n"
     ]
    },
    {
     "name": "stdout",
     "output_type": "stream",
     "text": [
      "19\n",
      "1/1 [==============================] - 0s 60ms/step\n"
     ]
    },
    {
     "name": "stderr",
     "output_type": "stream",
     "text": [
      "100%|██████████| 3399/3399 [00:00<00:00, 11721.77it/s]\n"
     ]
    },
    {
     "name": "stdout",
     "output_type": "stream",
     "text": [
      "18\n",
      "1/1 [==============================] - 0s 55ms/step\n"
     ]
    },
    {
     "name": "stderr",
     "output_type": "stream",
     "text": [
      "100%|██████████| 3399/3399 [00:00<00:00, 12926.15it/s]\n"
     ]
    },
    {
     "name": "stdout",
     "output_type": "stream",
     "text": [
      "17\n",
      "1/1 [==============================] - 0s 60ms/step\n"
     ]
    },
    {
     "name": "stderr",
     "output_type": "stream",
     "text": [
      "100%|██████████| 3399/3399 [00:00<00:00, 9703.78it/s] \n"
     ]
    },
    {
     "name": "stdout",
     "output_type": "stream",
     "text": [
      "16\n",
      "1/1 [==============================] - 0s 40ms/step\n"
     ]
    },
    {
     "name": "stderr",
     "output_type": "stream",
     "text": [
      "100%|██████████| 3399/3399 [00:00<00:00, 14763.61it/s]\n"
     ]
    },
    {
     "name": "stdout",
     "output_type": "stream",
     "text": [
      "15\n",
      "1/1 [==============================] - 0s 42ms/step\n"
     ]
    },
    {
     "name": "stderr",
     "output_type": "stream",
     "text": [
      "100%|██████████| 3399/3399 [00:00<00:00, 10617.80it/s]\n"
     ]
    },
    {
     "name": "stdout",
     "output_type": "stream",
     "text": [
      "14\n",
      "1/1 [==============================] - 0s 44ms/step\n"
     ]
    },
    {
     "name": "stderr",
     "output_type": "stream",
     "text": [
      "100%|██████████| 3399/3399 [00:00<00:00, 14158.65it/s]\n"
     ]
    },
    {
     "name": "stdout",
     "output_type": "stream",
     "text": [
      "13\n",
      "1/1 [==============================] - 0s 45ms/step\n"
     ]
    },
    {
     "name": "stderr",
     "output_type": "stream",
     "text": [
      "100%|██████████| 3399/3399 [00:00<00:00, 12261.59it/s]\n"
     ]
    },
    {
     "name": "stdout",
     "output_type": "stream",
     "text": [
      "12\n",
      "1/1 [==============================] - 0s 40ms/step\n"
     ]
    },
    {
     "name": "stderr",
     "output_type": "stream",
     "text": [
      "100%|██████████| 3399/3399 [00:00<00:00, 13859.91it/s]\n"
     ]
    },
    {
     "name": "stdout",
     "output_type": "stream",
     "text": [
      "11\n",
      "1/1 [==============================] - 0s 40ms/step\n"
     ]
    },
    {
     "name": "stderr",
     "output_type": "stream",
     "text": [
      "100%|██████████| 3399/3399 [00:00<00:00, 12138.13it/s]\n"
     ]
    },
    {
     "name": "stdout",
     "output_type": "stream",
     "text": [
      "10\n",
      "1/1 [==============================] - 0s 41ms/step\n"
     ]
    },
    {
     "name": "stderr",
     "output_type": "stream",
     "text": [
      "100%|██████████| 3399/3399 [00:00<00:00, 14161.80it/s]\n"
     ]
    },
    {
     "name": "stdout",
     "output_type": "stream",
     "text": [
      "9\n",
      "1/1 [==============================] - 0s 46ms/step\n"
     ]
    },
    {
     "name": "stderr",
     "output_type": "stream",
     "text": [
      "100%|██████████| 3399/3399 [00:00<00:00, 12292.14it/s]\n"
     ]
    },
    {
     "name": "stdout",
     "output_type": "stream",
     "text": [
      "8\n",
      "1/1 [==============================] - 0s 55ms/step\n"
     ]
    },
    {
     "name": "stderr",
     "output_type": "stream",
     "text": [
      "100%|██████████| 3399/3399 [00:00<00:00, 14284.79it/s]\n"
     ]
    },
    {
     "name": "stdout",
     "output_type": "stream",
     "text": [
      "7\n",
      "1/1 [==============================] - 0s 51ms/step\n"
     ]
    },
    {
     "name": "stderr",
     "output_type": "stream",
     "text": [
      "100%|██████████| 3399/3399 [00:00<00:00, 11583.14it/s]\n"
     ]
    },
    {
     "name": "stdout",
     "output_type": "stream",
     "text": [
      "6\n",
      "1/1 [==============================] - 0s 51ms/step\n"
     ]
    },
    {
     "name": "stderr",
     "output_type": "stream",
     "text": [
      "100%|██████████| 3399/3399 [00:00<00:00, 14213.98it/s]\n"
     ]
    },
    {
     "name": "stdout",
     "output_type": "stream",
     "text": [
      "5\n",
      "1/1 [==============================] - 0s 55ms/step\n"
     ]
    },
    {
     "name": "stderr",
     "output_type": "stream",
     "text": [
      "100%|██████████| 3399/3399 [00:00<00:00, 12595.89it/s]\n"
     ]
    },
    {
     "name": "stdout",
     "output_type": "stream",
     "text": [
      "4\n",
      "1/1 [==============================] - 0s 46ms/step\n"
     ]
    },
    {
     "name": "stderr",
     "output_type": "stream",
     "text": [
      "100%|██████████| 3399/3399 [00:00<00:00, 13453.68it/s]\n"
     ]
    },
    {
     "name": "stdout",
     "output_type": "stream",
     "text": [
      "3\n",
      "1/1 [==============================] - 0s 42ms/step\n"
     ]
    },
    {
     "name": "stderr",
     "output_type": "stream",
     "text": [
      "100%|██████████| 3399/3399 [00:00<00:00, 12665.24it/s]\n"
     ]
    },
    {
     "name": "stdout",
     "output_type": "stream",
     "text": [
      "2\n",
      "1/1 [==============================] - 0s 50ms/step\n"
     ]
    },
    {
     "name": "stderr",
     "output_type": "stream",
     "text": [
      "100%|██████████| 3399/3399 [00:00<00:00, 14783.90it/s]"
     ]
    },
    {
     "name": "stdout",
     "output_type": "stream",
     "text": [
      "1\n"
     ]
    },
    {
     "name": "stderr",
     "output_type": "stream",
     "text": [
      "\n"
     ]
    }
   ],
   "source": [
    "pred_1_gru = predict(bova11, 1, 100, model_gru)\n",
    "pred_1_lstm = predict(bova11, 1, 50, model_lstm)\n",
    "\n",
    "pred_5_gru = predict(bova11, 5, 100, model_gru)\n",
    "pred_5_lstm = predict(bova11, 5, 50, model_lstm)\n",
    "\n",
    "pred_30_gru = predict(bova11, 30, 100, model_gru)\n",
    "pred_30_lstm = predict(bova11, 30, 50, model_lstm)\n",
    "\n",
    "pred_90_gru = predict(bova11, 90, 100, model_gru)\n",
    "pred_90_lstm = predict(bova11, 90, 50, model_lstm)\n"
   ]
  },
  {
   "cell_type": "markdown",
   "id": "35feb8fe",
   "metadata": {},
   "source": [
    "### Error metrics Calc"
   ]
  },
  {
   "cell_type": "markdown",
   "id": "1753ea08",
   "metadata": {},
   "source": [
    "#### 1 day"
   ]
  },
  {
   "cell_type": "code",
   "execution_count": 77,
   "id": "1afbd2a3",
   "metadata": {},
   "outputs": [],
   "source": [
    "scaler = MinMaxScaler(feature_range = (-1, 1))\n",
    "pred_1_gru_scaled = scaler.fit_transform(pred_1_gru)\n",
    "\n",
    "scaler = MinMaxScaler(feature_range = (-1, 1))\n",
    "pred_1_lstm_scaled = scaler.fit_transform(pred_1_lstm)\n",
    "\n",
    "y_pred_1_gru = np.array([pred_1_gru_scaled[-1][3]])\n",
    "y_pred_1_lstm = np.array([pred_1_lstm_scaled[-1][3]])\n",
    "y_test_1 = np.array([bova11_scaled[-1][3]])"
   ]
  },
  {
   "cell_type": "code",
   "execution_count": 101,
   "id": "58c6d4fe",
   "metadata": {},
   "outputs": [
    {
     "data": {
      "text/plain": [
       "(10.95189813320365, 0.0694134861303013, 0.0694134861303013)"
      ]
     },
     "execution_count": 101,
     "metadata": {},
     "output_type": "execute_result"
    }
   ],
   "source": [
    "MAPE(y_pred_1_gru, y_test_1), MAE(y_pred_1_gru, y_test_1), RMSE(y_pred_1_gru, y_test_1)"
   ]
  },
  {
   "cell_type": "code",
   "execution_count": 79,
   "id": "fe8b8aef",
   "metadata": {},
   "outputs": [
    {
     "data": {
      "text/plain": [
       "(7.857298972960962, 0.04812729657417947, 0.04812729657417947)"
      ]
     },
     "execution_count": 79,
     "metadata": {},
     "output_type": "execute_result"
    }
   ],
   "source": [
    "MAPE(y_pred_1_lstm, y_test_1), MAE(y_pred_1_lstm, y_test_1), RMSE(y_pred_1_lstm, y_test_1)"
   ]
  },
  {
   "cell_type": "markdown",
   "id": "27dafbea",
   "metadata": {},
   "source": [
    "#### 5 days"
   ]
  },
  {
   "cell_type": "code",
   "execution_count": 80,
   "id": "5297bdfb",
   "metadata": {},
   "outputs": [
    {
     "data": {
      "text/plain": [
       "(array([0.6114222 , 0.61814103, 0.64367293, 0.6114222 , 0.56438976]),\n",
       " array([0.61423677, 0.60699648, 0.60550183, 0.60306031, 0.60072005]),\n",
       " array([0.59980816, 0.59355044, 0.59057462, 0.58599418, 0.58057791]))"
      ]
     },
     "execution_count": 80,
     "metadata": {},
     "output_type": "execute_result"
    }
   ],
   "source": [
    "scaler = MinMaxScaler(feature_range = (-1, 1))\n",
    "pred_5_gru_scaled = scaler.fit_transform(pred_5_gru)\n",
    "pred_5_lstm_scaled = scaler.fit_transform(pred_5_lstm)\n",
    "\n",
    "y_pred_5_gru = []\n",
    "y_pred_5_lstm = []\n",
    "y_test_5 = []\n",
    "\n",
    "for i in range (5):\n",
    "    y_pred_5_gru.append(pred_5_gru_scaled[-5:][i][3])\n",
    "    y_pred_5_lstm.append(pred_5_lstm_scaled[-5:][i][3])\n",
    "    y_test_5.append(bova11_scaled[-5:][i][3])\n",
    "    \n",
    "y_pred_5_gru = np.array(y_pred_5_gru)\n",
    "y_pred_5_lstm = np.array(y_pred_5_lstm)\n",
    "y_test_5 = np.array(y_test_5)\n",
    "\n",
    "y_test_5, y_pred_5_gru, y_pred_5_lstm"
   ]
  },
  {
   "cell_type": "code",
   "execution_count": 81,
   "id": "8f0f0605",
   "metadata": {},
   "outputs": [
    {
     "data": {
      "text/plain": [
       "(3.2065295922021395, 0.01936447969169528, 0.024408877047027582)"
      ]
     },
     "execution_count": 81,
     "metadata": {},
     "output_type": "execute_result"
    }
   ],
   "source": [
    "MAPE(y_pred_5_gru, y_test_5), MAE(y_pred_5_gru, y_test_5), RMSE(y_pred_5_gru, y_test_5)"
   ]
  },
  {
   "cell_type": "code",
   "execution_count": 82,
   "id": "164886e8",
   "metadata": {},
   "outputs": [
    {
     "data": {
      "text/plain": [
       "(4.439558213949253, 0.026183820208595242, 0.029891982568205865)"
      ]
     },
     "execution_count": 82,
     "metadata": {},
     "output_type": "execute_result"
    }
   ],
   "source": [
    "MAPE(y_pred_5_lstm, y_test_5), MAE(y_pred_5_lstm, y_test_5), RMSE(y_pred_5_lstm, y_test_5)"
   ]
  },
  {
   "cell_type": "markdown",
   "id": "8f5ab70b",
   "metadata": {},
   "source": [
    "#### 30 days"
   ]
  },
  {
   "cell_type": "code",
   "execution_count": 83,
   "id": "b3c7f079",
   "metadata": {},
   "outputs": [],
   "source": [
    "scaler = MinMaxScaler(feature_range = (-1, 1))\n",
    "pred_30_gru_scaled = scaler.fit_transform(pred_30_gru)\n",
    "pred_30_lstm_scaled = scaler.fit_transform(pred_30_lstm)\n",
    "\n",
    "y_pred_30_gru = []\n",
    "y_pred_30_lstm = []\n",
    "y_test_30 = []\n",
    "\n",
    "for i in range (30):\n",
    "    y_pred_30_gru.append(pred_30_gru_scaled[-30:][i][3])\n",
    "    y_pred_30_lstm.append(pred_30_lstm_scaled[-30:][i][3])\n",
    "    y_test_30.append(bova11_scaled[-30:][i][3])\n",
    "    \n",
    "y_pred_30_gru = np.array(y_pred_30_gru)\n",
    "y_pred_30_lstm = np.array(y_pred_30_lstm)\n",
    "y_test_30 = np.array(y_test_30)"
   ]
  },
  {
   "cell_type": "code",
   "execution_count": 84,
   "id": "f7eadf2c",
   "metadata": {},
   "outputs": [
    {
     "data": {
      "text/plain": [
       "(7.499866302125267, 0.04137603933662085, 0.050602993522825976)"
      ]
     },
     "execution_count": 84,
     "metadata": {},
     "output_type": "execute_result"
    }
   ],
   "source": [
    "MAPE(y_pred_30_gru, y_test_30), MAE(y_pred_30_gru, y_test_30), RMSE(y_pred_30_gru, y_test_30)"
   ]
  },
  {
   "cell_type": "code",
   "execution_count": 85,
   "id": "045ac89d",
   "metadata": {},
   "outputs": [
    {
     "data": {
      "text/plain": [
       "(8.91859215928004, 0.04772425849902066, 0.05345145783314235)"
      ]
     },
     "execution_count": 85,
     "metadata": {},
     "output_type": "execute_result"
    }
   ],
   "source": [
    "MAPE(y_pred_30_lstm, y_test_30), MAE(y_pred_30_lstm, y_test_30), RMSE(y_pred_30_lstm, y_test_30)"
   ]
  },
  {
   "cell_type": "markdown",
   "id": "3ae58a6b",
   "metadata": {},
   "source": [
    "### 90 days"
   ]
  },
  {
   "cell_type": "code",
   "execution_count": 86,
   "id": "53f2ed49",
   "metadata": {},
   "outputs": [],
   "source": [
    "scaler = MinMaxScaler(feature_range = (-1, 1))\n",
    "pred_90_gru_scaled = scaler.fit_transform(pred_90_gru)\n",
    "pred_90_lstm_scaled = scaler.fit_transform(pred_90_lstm)\n",
    "\n",
    "y_pred_90_gru = []\n",
    "y_pred_90_lstm = []\n",
    "y_test_90 = []\n",
    "\n",
    "for i in range (90):\n",
    "    y_pred_90_gru.append(pred_90_gru_scaled[-90:][i][3])\n",
    "    y_pred_90_lstm.append(pred_90_lstm_scaled[-90:][i][3])\n",
    "    y_test_90.append(bova11_scaled[-90:][i][3])\n",
    "    \n",
    "y_pred_90_gru = np.array(y_pred_90_gru)\n",
    "y_pred_90_lstm = np.array(y_pred_90_lstm)\n",
    "y_test_90 = np.array(y_test_90)"
   ]
  },
  {
   "cell_type": "code",
   "execution_count": 87,
   "id": "c46677ea",
   "metadata": {},
   "outputs": [
    {
     "data": {
      "text/plain": [
       "(10.175206224384572, 0.05583180853594969, 0.06857055269248746)"
      ]
     },
     "execution_count": 87,
     "metadata": {},
     "output_type": "execute_result"
    }
   ],
   "source": [
    "MAPE(y_pred_90_gru, y_test_90), MAE(y_pred_90_gru, y_test_90), RMSE(y_pred_90_gru, y_test_90)"
   ]
  },
  {
   "cell_type": "code",
   "execution_count": 88,
   "id": "6beb5a76",
   "metadata": {},
   "outputs": [
    {
     "data": {
      "text/plain": [
       "(44.74636743737714, 0.134542183339685, 0.183141020764531)"
      ]
     },
     "execution_count": 88,
     "metadata": {},
     "output_type": "execute_result"
    }
   ],
   "source": [
    "MAPE(y_pred_90_lstm, y_test_90), MAE(y_pred_90_lstm, y_test_90), RMSE(y_pred_90_lstm, y_test_90)"
   ]
  },
  {
   "cell_type": "markdown",
   "id": "36ef852e",
   "metadata": {},
   "source": [
    "#### Generating visualizations"
   ]
  },
  {
   "cell_type": "code",
   "execution_count": 102,
   "id": "f160be21",
   "metadata": {},
   "outputs": [],
   "source": [
    "import plotly.express as px\n",
    "import plotly.graph_objs as go"
   ]
  },
  {
   "cell_type": "code",
   "execution_count": 115,
   "id": "8f017d97",
   "metadata": {},
   "outputs": [
    {
     "data": {
      "application/vnd.plotly.v1+json": {
       "config": {
        "plotlyServerURL": "https://plot.ly"
       },
       "data": [
        {
         "name": "Real",
         "type": "scatter",
         "y": [
          107.08999633789062,
          108.44999694824219,
          105.94999694824219,
          106.18000030517578,
          108.4000015258789,
          109.44000244140625,
          106.9800033569336,
          106.75,
          106.11000061035156,
          105.5999984741211,
          108.22000122070312,
          108.8499984741211,
          108.16000366210938,
          110.12999725341797,
          107.83999633789062,
          105.12999725341797,
          104.68000030517578,
          104.81999969482422,
          103.80000305175781,
          106.45999908447266,
          112.4000015258789,
          112.3499984741211,
          113.31999969482422,
          113.47000122070312,
          112.77999877929688,
          112.08000183105469,
          110.88999938964844,
          110.26000213623047,
          108.22000122070312,
          109.9000015258789,
          111.94000244140625,
          112.3499984741211,
          112.9000015258789,
          116.43000030517578,
          112.13999938964844,
          110.4800033569336,
          108.77999877929688,
          110,
          113,
          112.1500015258789,
          112.80999755859375,
          113.0999984741211,
          114,
          111.22000122070312,
          112.30000305175781,
          109.75,
          106.0999984741211,
          108.55000305175781,
          109.23999786376953,
          106.04000091552734,
          105.69000244140625,
          104.8499984741211,
          106.08000183105469,
          105.06999969482422,
          105.23999786376953,
          108.19999694824219,
          105.06999969482422,
          105.1500015258789,
          107.29000091552734,
          108.58000183105469,
          107.05999755859375,
          107.94999694824219,
          105.62999725341797,
          106.73999786376953,
          105.58999633789062,
          103.56999969482422,
          103.9000015258789,
          101.80000305175781,
          100.30000305175781,
          100.69999694824219,
          100.5,
          99.4000015258789,
          101.37000274658203,
          103.55000305175781,
          103.87000274658203,
          103.93000030517578,
          106,
          105.1500015258789,
          104.9000015258789,
          106.80000305175781,
          105.94999694824219,
          102.62999725341797,
          100.4800033569336,
          101.91999816894531,
          104.2699966430664,
          105.5,
          105.3499984741211,
          107.18000030517578,
          109.0999984741211,
          108.26000213623047,
          107.3499984741211,
          105.47000122070312,
          107.80000305175781,
          108.33000183105469,
          109.11000061035156,
          108.44999694824219,
          107.9000015258789,
          109.43000030517578,
          110.6500015258789,
          110.41999816894531
         ]
        },
        {
         "name": "LSTM",
         "type": "scatter",
         "y": [
          107.08999633789062,
          108.44999694824219,
          105.94999694824219,
          106.18000030517578,
          108.4000015258789,
          109.44000244140625,
          106.9800033569336,
          106.75,
          106.11000061035156,
          105.5999984741211,
          107.42705718137961,
          107.65986652630488,
          107.9831217614801,
          108.33631449318091,
          108.63756038563531,
          108.87096321102331,
          109.11875061892715,
          109.35883076485766,
          109.5541630161681,
          109.86109088524995,
          110.19812391574146,
          110.50485218377082,
          110.91964712296362,
          111.32086652923999,
          111.6992941566698,
          112.0165640216178,
          112.21709388433499,
          112.35254049720481,
          112.43507952442894,
          112.62465794273305,
          112.79212854846378,
          112.8622417448338,
          112.82286977189403,
          112.93655987004286,
          113.05158064187492,
          113.1410711084203,
          113.24117236691586,
          113.41151988914976,
          113.62206440200703,
          113.6865914302548,
          113.79453567943938,
          113.8780993253996,
          113.9203109559794,
          113.90179596235077,
          113.88736081423497,
          113.70375179807388,
          113.49839957392862,
          113.31562622084061,
          112.85725171852164,
          112.21668935953528,
          111.56401254733669,
          110.71403408677645,
          109.86605429808844,
          108.89557269012118,
          107.97767930611565,
          107.00484240572905,
          106.08747862984944,
          105.27701851633412,
          104.43922104267028,
          103.66955140024106,
          102.87294626111566,
          102.14123275482723,
          101.41042277596972,
          100.73695019544942,
          100.05250754108448,
          99.41019800755203,
          98.83467764752885,
          98.32969363810696,
          97.88996320476389,
          97.54732670739224,
          97.20218322080137,
          96.89989541085299,
          96.67221847432398,
          96.46716299041009,
          96.31830318681318,
          96.2408420103643,
          96.06993427450976,
          96.18916263652824,
          96.19762705182734,
          95.73977151224483,
          95.81566249374748,
          96.17768557601028,
          96.28598910708934,
          96.3534303107034,
          96.38159801123027,
          96.4198282661498,
          96.48456154881848,
          96.06258230240985,
          95.23022728411047,
          94.98505864201525,
          94.88173449185888,
          95.09557641410322,
          94.10905752690553,
          93.14368304453455,
          92.03634164824587,
          91.10022402281149,
          90.0624968202616,
          88.49187539312067,
          86.91110824448185,
          85.48719492159202
         ]
        },
        {
         "name": "GRU",
         "type": "scatter",
         "y": [
          107.08999633789062,
          108.44999694824219,
          105.94999694824219,
          106.18000030517578,
          108.4000015258789,
          109.44000244140625,
          106.9800033569336,
          106.75,
          106.11000061035156,
          105.5999984741211,
          107.31975697825771,
          108.10241931853011,
          108.64921708710051,
          108.94353283101259,
          109.05224887093345,
          108.77926116481638,
          108.50422954392184,
          108.45470186943157,
          108.32543490514672,
          108.64661695072346,
          109.15521373919535,
          109.68039072176043,
          110.24749989343184,
          110.76290973116193,
          111.32276673125966,
          111.81712797266823,
          111.9155685504071,
          111.8559197718821,
          111.71624960074166,
          112.1047184917852,
          112.66073250628574,
          112.59487480435473,
          112.57211496167656,
          112.56649685738591,
          112.59372244094504,
          112.39643409932023,
          112.11907912217475,
          112.21065608505546,
          112.66920623630062,
          112.852490568083,
          112.85179595642035,
          112.81052644280828,
          112.687915508287,
          112.34150655102337,
          111.3755359268423,
          110.18301278539457,
          109.06393218587232,
          108.34113951595634,
          107.58789038677833,
          106.98260950982944,
          106.68909483147468,
          106.34117156755951,
          106.30867119352001,
          106.03030756572264,
          105.77067716203794,
          105.52290306087093,
          105.35550697286646,
          104.9809675739391,
          104.53835889341917,
          104.01429435405328,
          103.50981200860997,
          103.01569428048543,
          102.65083287125628,
          102.267361990567,
          102.02281344240816,
          101.82010792821887,
          101.49374024729855,
          101.32623770539942,
          101.18696141366922,
          101.12299193769474,
          100.94895046531616,
          100.6994890699188,
          100.53224068669317,
          100.44242686644276,
          100.32531560625432,
          100.29650252899108,
          100.3464706564705,
          100.38055453219306,
          100.29442002467681,
          100.23266478971124,
          100.40556188272222,
          101.05071373524208,
          101.54590398635531,
          102.04781413956891,
          102.72812106012634,
          103.59163779473988,
          104.43856635121813,
          105.31598862582155,
          106.19267370720445,
          107.22887994973439,
          108.06822366621816,
          108.46728738112768,
          108.93503781021877,
          109.30404160662385,
          109.6605423931012,
          109.76876608375926,
          109.7787993633309,
          110.08224352871002,
          110.23564891360888,
          110.43298782083366
         ]
        }
       ],
       "layout": {
        "template": {
         "data": {
          "bar": [
           {
            "error_x": {
             "color": "#2a3f5f"
            },
            "error_y": {
             "color": "#2a3f5f"
            },
            "marker": {
             "line": {
              "color": "#E5ECF6",
              "width": 0.5
             },
             "pattern": {
              "fillmode": "overlay",
              "size": 10,
              "solidity": 0.2
             }
            },
            "type": "bar"
           }
          ],
          "barpolar": [
           {
            "marker": {
             "line": {
              "color": "#E5ECF6",
              "width": 0.5
             },
             "pattern": {
              "fillmode": "overlay",
              "size": 10,
              "solidity": 0.2
             }
            },
            "type": "barpolar"
           }
          ],
          "carpet": [
           {
            "aaxis": {
             "endlinecolor": "#2a3f5f",
             "gridcolor": "white",
             "linecolor": "white",
             "minorgridcolor": "white",
             "startlinecolor": "#2a3f5f"
            },
            "baxis": {
             "endlinecolor": "#2a3f5f",
             "gridcolor": "white",
             "linecolor": "white",
             "minorgridcolor": "white",
             "startlinecolor": "#2a3f5f"
            },
            "type": "carpet"
           }
          ],
          "choropleth": [
           {
            "colorbar": {
             "outlinewidth": 0,
             "ticks": ""
            },
            "type": "choropleth"
           }
          ],
          "contour": [
           {
            "colorbar": {
             "outlinewidth": 0,
             "ticks": ""
            },
            "colorscale": [
             [
              0,
              "#0d0887"
             ],
             [
              0.1111111111111111,
              "#46039f"
             ],
             [
              0.2222222222222222,
              "#7201a8"
             ],
             [
              0.3333333333333333,
              "#9c179e"
             ],
             [
              0.4444444444444444,
              "#bd3786"
             ],
             [
              0.5555555555555556,
              "#d8576b"
             ],
             [
              0.6666666666666666,
              "#ed7953"
             ],
             [
              0.7777777777777778,
              "#fb9f3a"
             ],
             [
              0.8888888888888888,
              "#fdca26"
             ],
             [
              1,
              "#f0f921"
             ]
            ],
            "type": "contour"
           }
          ],
          "contourcarpet": [
           {
            "colorbar": {
             "outlinewidth": 0,
             "ticks": ""
            },
            "type": "contourcarpet"
           }
          ],
          "heatmap": [
           {
            "colorbar": {
             "outlinewidth": 0,
             "ticks": ""
            },
            "colorscale": [
             [
              0,
              "#0d0887"
             ],
             [
              0.1111111111111111,
              "#46039f"
             ],
             [
              0.2222222222222222,
              "#7201a8"
             ],
             [
              0.3333333333333333,
              "#9c179e"
             ],
             [
              0.4444444444444444,
              "#bd3786"
             ],
             [
              0.5555555555555556,
              "#d8576b"
             ],
             [
              0.6666666666666666,
              "#ed7953"
             ],
             [
              0.7777777777777778,
              "#fb9f3a"
             ],
             [
              0.8888888888888888,
              "#fdca26"
             ],
             [
              1,
              "#f0f921"
             ]
            ],
            "type": "heatmap"
           }
          ],
          "heatmapgl": [
           {
            "colorbar": {
             "outlinewidth": 0,
             "ticks": ""
            },
            "colorscale": [
             [
              0,
              "#0d0887"
             ],
             [
              0.1111111111111111,
              "#46039f"
             ],
             [
              0.2222222222222222,
              "#7201a8"
             ],
             [
              0.3333333333333333,
              "#9c179e"
             ],
             [
              0.4444444444444444,
              "#bd3786"
             ],
             [
              0.5555555555555556,
              "#d8576b"
             ],
             [
              0.6666666666666666,
              "#ed7953"
             ],
             [
              0.7777777777777778,
              "#fb9f3a"
             ],
             [
              0.8888888888888888,
              "#fdca26"
             ],
             [
              1,
              "#f0f921"
             ]
            ],
            "type": "heatmapgl"
           }
          ],
          "histogram": [
           {
            "marker": {
             "pattern": {
              "fillmode": "overlay",
              "size": 10,
              "solidity": 0.2
             }
            },
            "type": "histogram"
           }
          ],
          "histogram2d": [
           {
            "colorbar": {
             "outlinewidth": 0,
             "ticks": ""
            },
            "colorscale": [
             [
              0,
              "#0d0887"
             ],
             [
              0.1111111111111111,
              "#46039f"
             ],
             [
              0.2222222222222222,
              "#7201a8"
             ],
             [
              0.3333333333333333,
              "#9c179e"
             ],
             [
              0.4444444444444444,
              "#bd3786"
             ],
             [
              0.5555555555555556,
              "#d8576b"
             ],
             [
              0.6666666666666666,
              "#ed7953"
             ],
             [
              0.7777777777777778,
              "#fb9f3a"
             ],
             [
              0.8888888888888888,
              "#fdca26"
             ],
             [
              1,
              "#f0f921"
             ]
            ],
            "type": "histogram2d"
           }
          ],
          "histogram2dcontour": [
           {
            "colorbar": {
             "outlinewidth": 0,
             "ticks": ""
            },
            "colorscale": [
             [
              0,
              "#0d0887"
             ],
             [
              0.1111111111111111,
              "#46039f"
             ],
             [
              0.2222222222222222,
              "#7201a8"
             ],
             [
              0.3333333333333333,
              "#9c179e"
             ],
             [
              0.4444444444444444,
              "#bd3786"
             ],
             [
              0.5555555555555556,
              "#d8576b"
             ],
             [
              0.6666666666666666,
              "#ed7953"
             ],
             [
              0.7777777777777778,
              "#fb9f3a"
             ],
             [
              0.8888888888888888,
              "#fdca26"
             ],
             [
              1,
              "#f0f921"
             ]
            ],
            "type": "histogram2dcontour"
           }
          ],
          "mesh3d": [
           {
            "colorbar": {
             "outlinewidth": 0,
             "ticks": ""
            },
            "type": "mesh3d"
           }
          ],
          "parcoords": [
           {
            "line": {
             "colorbar": {
              "outlinewidth": 0,
              "ticks": ""
             }
            },
            "type": "parcoords"
           }
          ],
          "pie": [
           {
            "automargin": true,
            "type": "pie"
           }
          ],
          "scatter": [
           {
            "fillpattern": {
             "fillmode": "overlay",
             "size": 10,
             "solidity": 0.2
            },
            "type": "scatter"
           }
          ],
          "scatter3d": [
           {
            "line": {
             "colorbar": {
              "outlinewidth": 0,
              "ticks": ""
             }
            },
            "marker": {
             "colorbar": {
              "outlinewidth": 0,
              "ticks": ""
             }
            },
            "type": "scatter3d"
           }
          ],
          "scattercarpet": [
           {
            "marker": {
             "colorbar": {
              "outlinewidth": 0,
              "ticks": ""
             }
            },
            "type": "scattercarpet"
           }
          ],
          "scattergeo": [
           {
            "marker": {
             "colorbar": {
              "outlinewidth": 0,
              "ticks": ""
             }
            },
            "type": "scattergeo"
           }
          ],
          "scattergl": [
           {
            "marker": {
             "colorbar": {
              "outlinewidth": 0,
              "ticks": ""
             }
            },
            "type": "scattergl"
           }
          ],
          "scattermapbox": [
           {
            "marker": {
             "colorbar": {
              "outlinewidth": 0,
              "ticks": ""
             }
            },
            "type": "scattermapbox"
           }
          ],
          "scatterpolar": [
           {
            "marker": {
             "colorbar": {
              "outlinewidth": 0,
              "ticks": ""
             }
            },
            "type": "scatterpolar"
           }
          ],
          "scatterpolargl": [
           {
            "marker": {
             "colorbar": {
              "outlinewidth": 0,
              "ticks": ""
             }
            },
            "type": "scatterpolargl"
           }
          ],
          "scatterternary": [
           {
            "marker": {
             "colorbar": {
              "outlinewidth": 0,
              "ticks": ""
             }
            },
            "type": "scatterternary"
           }
          ],
          "surface": [
           {
            "colorbar": {
             "outlinewidth": 0,
             "ticks": ""
            },
            "colorscale": [
             [
              0,
              "#0d0887"
             ],
             [
              0.1111111111111111,
              "#46039f"
             ],
             [
              0.2222222222222222,
              "#7201a8"
             ],
             [
              0.3333333333333333,
              "#9c179e"
             ],
             [
              0.4444444444444444,
              "#bd3786"
             ],
             [
              0.5555555555555556,
              "#d8576b"
             ],
             [
              0.6666666666666666,
              "#ed7953"
             ],
             [
              0.7777777777777778,
              "#fb9f3a"
             ],
             [
              0.8888888888888888,
              "#fdca26"
             ],
             [
              1,
              "#f0f921"
             ]
            ],
            "type": "surface"
           }
          ],
          "table": [
           {
            "cells": {
             "fill": {
              "color": "#EBF0F8"
             },
             "line": {
              "color": "white"
             }
            },
            "header": {
             "fill": {
              "color": "#C8D4E3"
             },
             "line": {
              "color": "white"
             }
            },
            "type": "table"
           }
          ]
         },
         "layout": {
          "annotationdefaults": {
           "arrowcolor": "#2a3f5f",
           "arrowhead": 0,
           "arrowwidth": 1
          },
          "autotypenumbers": "strict",
          "coloraxis": {
           "colorbar": {
            "outlinewidth": 0,
            "ticks": ""
           }
          },
          "colorscale": {
           "diverging": [
            [
             0,
             "#8e0152"
            ],
            [
             0.1,
             "#c51b7d"
            ],
            [
             0.2,
             "#de77ae"
            ],
            [
             0.3,
             "#f1b6da"
            ],
            [
             0.4,
             "#fde0ef"
            ],
            [
             0.5,
             "#f7f7f7"
            ],
            [
             0.6,
             "#e6f5d0"
            ],
            [
             0.7,
             "#b8e186"
            ],
            [
             0.8,
             "#7fbc41"
            ],
            [
             0.9,
             "#4d9221"
            ],
            [
             1,
             "#276419"
            ]
           ],
           "sequential": [
            [
             0,
             "#0d0887"
            ],
            [
             0.1111111111111111,
             "#46039f"
            ],
            [
             0.2222222222222222,
             "#7201a8"
            ],
            [
             0.3333333333333333,
             "#9c179e"
            ],
            [
             0.4444444444444444,
             "#bd3786"
            ],
            [
             0.5555555555555556,
             "#d8576b"
            ],
            [
             0.6666666666666666,
             "#ed7953"
            ],
            [
             0.7777777777777778,
             "#fb9f3a"
            ],
            [
             0.8888888888888888,
             "#fdca26"
            ],
            [
             1,
             "#f0f921"
            ]
           ],
           "sequentialminus": [
            [
             0,
             "#0d0887"
            ],
            [
             0.1111111111111111,
             "#46039f"
            ],
            [
             0.2222222222222222,
             "#7201a8"
            ],
            [
             0.3333333333333333,
             "#9c179e"
            ],
            [
             0.4444444444444444,
             "#bd3786"
            ],
            [
             0.5555555555555556,
             "#d8576b"
            ],
            [
             0.6666666666666666,
             "#ed7953"
            ],
            [
             0.7777777777777778,
             "#fb9f3a"
            ],
            [
             0.8888888888888888,
             "#fdca26"
            ],
            [
             1,
             "#f0f921"
            ]
           ]
          },
          "colorway": [
           "#636efa",
           "#EF553B",
           "#00cc96",
           "#ab63fa",
           "#FFA15A",
           "#19d3f3",
           "#FF6692",
           "#B6E880",
           "#FF97FF",
           "#FECB52"
          ],
          "font": {
           "color": "#2a3f5f"
          },
          "geo": {
           "bgcolor": "white",
           "lakecolor": "white",
           "landcolor": "#E5ECF6",
           "showlakes": true,
           "showland": true,
           "subunitcolor": "white"
          },
          "hoverlabel": {
           "align": "left"
          },
          "hovermode": "closest",
          "mapbox": {
           "style": "light"
          },
          "paper_bgcolor": "white",
          "plot_bgcolor": "#E5ECF6",
          "polar": {
           "angularaxis": {
            "gridcolor": "white",
            "linecolor": "white",
            "ticks": ""
           },
           "bgcolor": "#E5ECF6",
           "radialaxis": {
            "gridcolor": "white",
            "linecolor": "white",
            "ticks": ""
           }
          },
          "scene": {
           "xaxis": {
            "backgroundcolor": "#E5ECF6",
            "gridcolor": "white",
            "gridwidth": 2,
            "linecolor": "white",
            "showbackground": true,
            "ticks": "",
            "zerolinecolor": "white"
           },
           "yaxis": {
            "backgroundcolor": "#E5ECF6",
            "gridcolor": "white",
            "gridwidth": 2,
            "linecolor": "white",
            "showbackground": true,
            "ticks": "",
            "zerolinecolor": "white"
           },
           "zaxis": {
            "backgroundcolor": "#E5ECF6",
            "gridcolor": "white",
            "gridwidth": 2,
            "linecolor": "white",
            "showbackground": true,
            "ticks": "",
            "zerolinecolor": "white"
           }
          },
          "shapedefaults": {
           "line": {
            "color": "#2a3f5f"
           }
          },
          "ternary": {
           "aaxis": {
            "gridcolor": "white",
            "linecolor": "white",
            "ticks": ""
           },
           "baxis": {
            "gridcolor": "white",
            "linecolor": "white",
            "ticks": ""
           },
           "bgcolor": "#E5ECF6",
           "caxis": {
            "gridcolor": "white",
            "linecolor": "white",
            "ticks": ""
           }
          },
          "title": {
           "x": 0.05
          },
          "xaxis": {
           "automargin": true,
           "gridcolor": "white",
           "linecolor": "white",
           "ticks": "",
           "title": {
            "standoff": 15
           },
           "zerolinecolor": "white",
           "zerolinewidth": 2
          },
          "yaxis": {
           "automargin": true,
           "gridcolor": "white",
           "linecolor": "white",
           "ticks": "",
           "title": {
            "standoff": 15
           },
           "zerolinecolor": "white",
           "zerolinewidth": 2
          }
         }
        },
        "xaxis": {
         "title": {
          "text": "periodo em dias"
         }
        },
        "yaxis": {
         "title": {
          "text": "Valor de Fechamento em R$"
         }
        }
       }
      },
      "text/html": [
       "<div>                            <div id=\"db500214-3682-4e8c-998c-7f8c3cf5f9e5\" class=\"plotly-graph-div\" style=\"height:525px; width:100%;\"></div>            <script type=\"text/javascript\">                require([\"plotly\"], function(Plotly) {                    window.PLOTLYENV=window.PLOTLYENV || {};                                    if (document.getElementById(\"db500214-3682-4e8c-998c-7f8c3cf5f9e5\")) {                    Plotly.newPlot(                        \"db500214-3682-4e8c-998c-7f8c3cf5f9e5\",                        [{\"name\":\"Real\",\"y\":[107.08999633789062,108.44999694824219,105.94999694824219,106.18000030517578,108.4000015258789,109.44000244140625,106.9800033569336,106.75,106.11000061035156,105.5999984741211,108.22000122070312,108.8499984741211,108.16000366210938,110.12999725341797,107.83999633789062,105.12999725341797,104.68000030517578,104.81999969482422,103.80000305175781,106.45999908447266,112.4000015258789,112.3499984741211,113.31999969482422,113.47000122070312,112.77999877929688,112.08000183105469,110.88999938964844,110.26000213623047,108.22000122070312,109.9000015258789,111.94000244140625,112.3499984741211,112.9000015258789,116.43000030517578,112.13999938964844,110.4800033569336,108.77999877929688,110.0,113.0,112.1500015258789,112.80999755859375,113.0999984741211,114.0,111.22000122070312,112.30000305175781,109.75,106.0999984741211,108.55000305175781,109.23999786376953,106.04000091552734,105.69000244140625,104.8499984741211,106.08000183105469,105.06999969482422,105.23999786376953,108.19999694824219,105.06999969482422,105.1500015258789,107.29000091552734,108.58000183105469,107.05999755859375,107.94999694824219,105.62999725341797,106.73999786376953,105.58999633789062,103.56999969482422,103.9000015258789,101.80000305175781,100.30000305175781,100.69999694824219,100.5,99.4000015258789,101.37000274658203,103.55000305175781,103.87000274658203,103.93000030517578,106.0,105.1500015258789,104.9000015258789,106.80000305175781,105.94999694824219,102.62999725341797,100.4800033569336,101.91999816894531,104.2699966430664,105.5,105.3499984741211,107.18000030517578,109.0999984741211,108.26000213623047,107.3499984741211,105.47000122070312,107.80000305175781,108.33000183105469,109.11000061035156,108.44999694824219,107.9000015258789,109.43000030517578,110.6500015258789,110.41999816894531],\"type\":\"scatter\"},{\"name\":\"LSTM\",\"y\":[107.08999633789062,108.44999694824219,105.94999694824219,106.18000030517578,108.4000015258789,109.44000244140625,106.9800033569336,106.75,106.11000061035156,105.5999984741211,107.42705718137961,107.65986652630488,107.9831217614801,108.33631449318091,108.63756038563531,108.87096321102331,109.11875061892715,109.35883076485766,109.5541630161681,109.86109088524995,110.19812391574146,110.50485218377082,110.91964712296362,111.32086652923999,111.6992941566698,112.0165640216178,112.21709388433499,112.35254049720481,112.43507952442894,112.62465794273305,112.79212854846378,112.8622417448338,112.82286977189403,112.93655987004286,113.05158064187492,113.1410711084203,113.24117236691586,113.41151988914976,113.62206440200703,113.6865914302548,113.79453567943938,113.8780993253996,113.9203109559794,113.90179596235077,113.88736081423497,113.70375179807388,113.49839957392862,113.31562622084061,112.85725171852164,112.21668935953528,111.56401254733669,110.71403408677645,109.86605429808844,108.89557269012118,107.97767930611565,107.00484240572905,106.08747862984944,105.27701851633412,104.43922104267028,103.66955140024106,102.87294626111566,102.14123275482723,101.41042277596972,100.73695019544942,100.05250754108448,99.41019800755203,98.83467764752885,98.32969363810696,97.88996320476389,97.54732670739224,97.20218322080137,96.89989541085299,96.67221847432398,96.46716299041009,96.31830318681318,96.2408420103643,96.06993427450976,96.18916263652824,96.19762705182734,95.73977151224483,95.81566249374748,96.17768557601028,96.28598910708934,96.3534303107034,96.38159801123027,96.4198282661498,96.48456154881848,96.06258230240985,95.23022728411047,94.98505864201525,94.88173449185888,95.09557641410322,94.10905752690553,93.14368304453455,92.03634164824587,91.10022402281149,90.0624968202616,88.49187539312067,86.91110824448185,85.48719492159202],\"type\":\"scatter\"},{\"name\":\"GRU\",\"y\":[107.08999633789062,108.44999694824219,105.94999694824219,106.18000030517578,108.4000015258789,109.44000244140625,106.9800033569336,106.75,106.11000061035156,105.5999984741211,107.31975697825771,108.10241931853011,108.64921708710051,108.94353283101259,109.05224887093345,108.77926116481638,108.50422954392184,108.45470186943157,108.32543490514672,108.64661695072346,109.15521373919535,109.68039072176043,110.24749989343184,110.76290973116193,111.32276673125966,111.81712797266823,111.9155685504071,111.8559197718821,111.71624960074166,112.1047184917852,112.66073250628574,112.59487480435473,112.57211496167656,112.56649685738591,112.59372244094504,112.39643409932023,112.11907912217475,112.21065608505546,112.66920623630062,112.852490568083,112.85179595642035,112.81052644280828,112.687915508287,112.34150655102337,111.3755359268423,110.18301278539457,109.06393218587232,108.34113951595634,107.58789038677833,106.98260950982944,106.68909483147468,106.34117156755951,106.30867119352001,106.03030756572264,105.77067716203794,105.52290306087093,105.35550697286646,104.9809675739391,104.53835889341917,104.01429435405328,103.50981200860997,103.01569428048543,102.65083287125628,102.267361990567,102.02281344240816,101.82010792821887,101.49374024729855,101.32623770539942,101.18696141366922,101.12299193769474,100.94895046531616,100.6994890699188,100.53224068669317,100.44242686644276,100.32531560625432,100.29650252899108,100.3464706564705,100.38055453219306,100.29442002467681,100.23266478971124,100.40556188272222,101.05071373524208,101.54590398635531,102.04781413956891,102.72812106012634,103.59163779473988,104.43856635121813,105.31598862582155,106.19267370720445,107.22887994973439,108.06822366621816,108.46728738112768,108.93503781021877,109.30404160662385,109.6605423931012,109.76876608375926,109.7787993633309,110.08224352871002,110.23564891360888,110.43298782083366],\"type\":\"scatter\"}],                        {\"template\":{\"data\":{\"histogram2dcontour\":[{\"type\":\"histogram2dcontour\",\"colorbar\":{\"outlinewidth\":0,\"ticks\":\"\"},\"colorscale\":[[0.0,\"#0d0887\"],[0.1111111111111111,\"#46039f\"],[0.2222222222222222,\"#7201a8\"],[0.3333333333333333,\"#9c179e\"],[0.4444444444444444,\"#bd3786\"],[0.5555555555555556,\"#d8576b\"],[0.6666666666666666,\"#ed7953\"],[0.7777777777777778,\"#fb9f3a\"],[0.8888888888888888,\"#fdca26\"],[1.0,\"#f0f921\"]]}],\"choropleth\":[{\"type\":\"choropleth\",\"colorbar\":{\"outlinewidth\":0,\"ticks\":\"\"}}],\"histogram2d\":[{\"type\":\"histogram2d\",\"colorbar\":{\"outlinewidth\":0,\"ticks\":\"\"},\"colorscale\":[[0.0,\"#0d0887\"],[0.1111111111111111,\"#46039f\"],[0.2222222222222222,\"#7201a8\"],[0.3333333333333333,\"#9c179e\"],[0.4444444444444444,\"#bd3786\"],[0.5555555555555556,\"#d8576b\"],[0.6666666666666666,\"#ed7953\"],[0.7777777777777778,\"#fb9f3a\"],[0.8888888888888888,\"#fdca26\"],[1.0,\"#f0f921\"]]}],\"heatmap\":[{\"type\":\"heatmap\",\"colorbar\":{\"outlinewidth\":0,\"ticks\":\"\"},\"colorscale\":[[0.0,\"#0d0887\"],[0.1111111111111111,\"#46039f\"],[0.2222222222222222,\"#7201a8\"],[0.3333333333333333,\"#9c179e\"],[0.4444444444444444,\"#bd3786\"],[0.5555555555555556,\"#d8576b\"],[0.6666666666666666,\"#ed7953\"],[0.7777777777777778,\"#fb9f3a\"],[0.8888888888888888,\"#fdca26\"],[1.0,\"#f0f921\"]]}],\"heatmapgl\":[{\"type\":\"heatmapgl\",\"colorbar\":{\"outlinewidth\":0,\"ticks\":\"\"},\"colorscale\":[[0.0,\"#0d0887\"],[0.1111111111111111,\"#46039f\"],[0.2222222222222222,\"#7201a8\"],[0.3333333333333333,\"#9c179e\"],[0.4444444444444444,\"#bd3786\"],[0.5555555555555556,\"#d8576b\"],[0.6666666666666666,\"#ed7953\"],[0.7777777777777778,\"#fb9f3a\"],[0.8888888888888888,\"#fdca26\"],[1.0,\"#f0f921\"]]}],\"contourcarpet\":[{\"type\":\"contourcarpet\",\"colorbar\":{\"outlinewidth\":0,\"ticks\":\"\"}}],\"contour\":[{\"type\":\"contour\",\"colorbar\":{\"outlinewidth\":0,\"ticks\":\"\"},\"colorscale\":[[0.0,\"#0d0887\"],[0.1111111111111111,\"#46039f\"],[0.2222222222222222,\"#7201a8\"],[0.3333333333333333,\"#9c179e\"],[0.4444444444444444,\"#bd3786\"],[0.5555555555555556,\"#d8576b\"],[0.6666666666666666,\"#ed7953\"],[0.7777777777777778,\"#fb9f3a\"],[0.8888888888888888,\"#fdca26\"],[1.0,\"#f0f921\"]]}],\"surface\":[{\"type\":\"surface\",\"colorbar\":{\"outlinewidth\":0,\"ticks\":\"\"},\"colorscale\":[[0.0,\"#0d0887\"],[0.1111111111111111,\"#46039f\"],[0.2222222222222222,\"#7201a8\"],[0.3333333333333333,\"#9c179e\"],[0.4444444444444444,\"#bd3786\"],[0.5555555555555556,\"#d8576b\"],[0.6666666666666666,\"#ed7953\"],[0.7777777777777778,\"#fb9f3a\"],[0.8888888888888888,\"#fdca26\"],[1.0,\"#f0f921\"]]}],\"mesh3d\":[{\"type\":\"mesh3d\",\"colorbar\":{\"outlinewidth\":0,\"ticks\":\"\"}}],\"scatter\":[{\"fillpattern\":{\"fillmode\":\"overlay\",\"size\":10,\"solidity\":0.2},\"type\":\"scatter\"}],\"parcoords\":[{\"type\":\"parcoords\",\"line\":{\"colorbar\":{\"outlinewidth\":0,\"ticks\":\"\"}}}],\"scatterpolargl\":[{\"type\":\"scatterpolargl\",\"marker\":{\"colorbar\":{\"outlinewidth\":0,\"ticks\":\"\"}}}],\"bar\":[{\"error_x\":{\"color\":\"#2a3f5f\"},\"error_y\":{\"color\":\"#2a3f5f\"},\"marker\":{\"line\":{\"color\":\"#E5ECF6\",\"width\":0.5},\"pattern\":{\"fillmode\":\"overlay\",\"size\":10,\"solidity\":0.2}},\"type\":\"bar\"}],\"scattergeo\":[{\"type\":\"scattergeo\",\"marker\":{\"colorbar\":{\"outlinewidth\":0,\"ticks\":\"\"}}}],\"scatterpolar\":[{\"type\":\"scatterpolar\",\"marker\":{\"colorbar\":{\"outlinewidth\":0,\"ticks\":\"\"}}}],\"histogram\":[{\"marker\":{\"pattern\":{\"fillmode\":\"overlay\",\"size\":10,\"solidity\":0.2}},\"type\":\"histogram\"}],\"scattergl\":[{\"type\":\"scattergl\",\"marker\":{\"colorbar\":{\"outlinewidth\":0,\"ticks\":\"\"}}}],\"scatter3d\":[{\"type\":\"scatter3d\",\"line\":{\"colorbar\":{\"outlinewidth\":0,\"ticks\":\"\"}},\"marker\":{\"colorbar\":{\"outlinewidth\":0,\"ticks\":\"\"}}}],\"scattermapbox\":[{\"type\":\"scattermapbox\",\"marker\":{\"colorbar\":{\"outlinewidth\":0,\"ticks\":\"\"}}}],\"scatterternary\":[{\"type\":\"scatterternary\",\"marker\":{\"colorbar\":{\"outlinewidth\":0,\"ticks\":\"\"}}}],\"scattercarpet\":[{\"type\":\"scattercarpet\",\"marker\":{\"colorbar\":{\"outlinewidth\":0,\"ticks\":\"\"}}}],\"carpet\":[{\"aaxis\":{\"endlinecolor\":\"#2a3f5f\",\"gridcolor\":\"white\",\"linecolor\":\"white\",\"minorgridcolor\":\"white\",\"startlinecolor\":\"#2a3f5f\"},\"baxis\":{\"endlinecolor\":\"#2a3f5f\",\"gridcolor\":\"white\",\"linecolor\":\"white\",\"minorgridcolor\":\"white\",\"startlinecolor\":\"#2a3f5f\"},\"type\":\"carpet\"}],\"table\":[{\"cells\":{\"fill\":{\"color\":\"#EBF0F8\"},\"line\":{\"color\":\"white\"}},\"header\":{\"fill\":{\"color\":\"#C8D4E3\"},\"line\":{\"color\":\"white\"}},\"type\":\"table\"}],\"barpolar\":[{\"marker\":{\"line\":{\"color\":\"#E5ECF6\",\"width\":0.5},\"pattern\":{\"fillmode\":\"overlay\",\"size\":10,\"solidity\":0.2}},\"type\":\"barpolar\"}],\"pie\":[{\"automargin\":true,\"type\":\"pie\"}]},\"layout\":{\"autotypenumbers\":\"strict\",\"colorway\":[\"#636efa\",\"#EF553B\",\"#00cc96\",\"#ab63fa\",\"#FFA15A\",\"#19d3f3\",\"#FF6692\",\"#B6E880\",\"#FF97FF\",\"#FECB52\"],\"font\":{\"color\":\"#2a3f5f\"},\"hovermode\":\"closest\",\"hoverlabel\":{\"align\":\"left\"},\"paper_bgcolor\":\"white\",\"plot_bgcolor\":\"#E5ECF6\",\"polar\":{\"bgcolor\":\"#E5ECF6\",\"angularaxis\":{\"gridcolor\":\"white\",\"linecolor\":\"white\",\"ticks\":\"\"},\"radialaxis\":{\"gridcolor\":\"white\",\"linecolor\":\"white\",\"ticks\":\"\"}},\"ternary\":{\"bgcolor\":\"#E5ECF6\",\"aaxis\":{\"gridcolor\":\"white\",\"linecolor\":\"white\",\"ticks\":\"\"},\"baxis\":{\"gridcolor\":\"white\",\"linecolor\":\"white\",\"ticks\":\"\"},\"caxis\":{\"gridcolor\":\"white\",\"linecolor\":\"white\",\"ticks\":\"\"}},\"coloraxis\":{\"colorbar\":{\"outlinewidth\":0,\"ticks\":\"\"}},\"colorscale\":{\"sequential\":[[0.0,\"#0d0887\"],[0.1111111111111111,\"#46039f\"],[0.2222222222222222,\"#7201a8\"],[0.3333333333333333,\"#9c179e\"],[0.4444444444444444,\"#bd3786\"],[0.5555555555555556,\"#d8576b\"],[0.6666666666666666,\"#ed7953\"],[0.7777777777777778,\"#fb9f3a\"],[0.8888888888888888,\"#fdca26\"],[1.0,\"#f0f921\"]],\"sequentialminus\":[[0.0,\"#0d0887\"],[0.1111111111111111,\"#46039f\"],[0.2222222222222222,\"#7201a8\"],[0.3333333333333333,\"#9c179e\"],[0.4444444444444444,\"#bd3786\"],[0.5555555555555556,\"#d8576b\"],[0.6666666666666666,\"#ed7953\"],[0.7777777777777778,\"#fb9f3a\"],[0.8888888888888888,\"#fdca26\"],[1.0,\"#f0f921\"]],\"diverging\":[[0,\"#8e0152\"],[0.1,\"#c51b7d\"],[0.2,\"#de77ae\"],[0.3,\"#f1b6da\"],[0.4,\"#fde0ef\"],[0.5,\"#f7f7f7\"],[0.6,\"#e6f5d0\"],[0.7,\"#b8e186\"],[0.8,\"#7fbc41\"],[0.9,\"#4d9221\"],[1,\"#276419\"]]},\"xaxis\":{\"gridcolor\":\"white\",\"linecolor\":\"white\",\"ticks\":\"\",\"title\":{\"standoff\":15},\"zerolinecolor\":\"white\",\"automargin\":true,\"zerolinewidth\":2},\"yaxis\":{\"gridcolor\":\"white\",\"linecolor\":\"white\",\"ticks\":\"\",\"title\":{\"standoff\":15},\"zerolinecolor\":\"white\",\"automargin\":true,\"zerolinewidth\":2},\"scene\":{\"xaxis\":{\"backgroundcolor\":\"#E5ECF6\",\"gridcolor\":\"white\",\"linecolor\":\"white\",\"showbackground\":true,\"ticks\":\"\",\"zerolinecolor\":\"white\",\"gridwidth\":2},\"yaxis\":{\"backgroundcolor\":\"#E5ECF6\",\"gridcolor\":\"white\",\"linecolor\":\"white\",\"showbackground\":true,\"ticks\":\"\",\"zerolinecolor\":\"white\",\"gridwidth\":2},\"zaxis\":{\"backgroundcolor\":\"#E5ECF6\",\"gridcolor\":\"white\",\"linecolor\":\"white\",\"showbackground\":true,\"ticks\":\"\",\"zerolinecolor\":\"white\",\"gridwidth\":2}},\"shapedefaults\":{\"line\":{\"color\":\"#2a3f5f\"}},\"annotationdefaults\":{\"arrowcolor\":\"#2a3f5f\",\"arrowhead\":0,\"arrowwidth\":1},\"geo\":{\"bgcolor\":\"white\",\"landcolor\":\"#E5ECF6\",\"subunitcolor\":\"white\",\"showland\":true,\"showlakes\":true,\"lakecolor\":\"white\"},\"title\":{\"x\":0.05},\"mapbox\":{\"style\":\"light\"}}},\"yaxis\":{\"title\":{\"text\":\"Valor de Fechamento em R$\"}},\"xaxis\":{\"title\":{\"text\":\"periodo em dias\"}}},                        {\"responsive\": true}                    ).then(function(){\n",
       "                            \n",
       "var gd = document.getElementById('db500214-3682-4e8c-998c-7f8c3cf5f9e5');\n",
       "var x = new MutationObserver(function (mutations, observer) {{\n",
       "        var display = window.getComputedStyle(gd).display;\n",
       "        if (!display || display === 'none') {{\n",
       "            console.log([gd, 'removed!']);\n",
       "            Plotly.purge(gd);\n",
       "            observer.disconnect();\n",
       "        }}\n",
       "}});\n",
       "\n",
       "// Listen for the removal of the full notebook cells\n",
       "var notebookContainer = gd.closest('#notebook-container');\n",
       "if (notebookContainer) {{\n",
       "    x.observe(notebookContainer, {childList: true});\n",
       "}}\n",
       "\n",
       "// Listen for the clearing of the current output cell\n",
       "var outputEl = gd.closest('.output');\n",
       "if (outputEl) {{\n",
       "    x.observe(outputEl, {childList: true});\n",
       "}}\n",
       "\n",
       "                        })                };                });            </script>        </div>"
      ]
     },
     "metadata": {},
     "output_type": "display_data"
    }
   ],
   "source": [
    "import plotly.graph_objs as go\n",
    "fig = go.Figure()\n",
    "\n",
    "fig.add_trace(go.Scatter(\n",
    "   y=bova11['close'][-100:],\n",
    "   name=\"Real\")\n",
    ")\n",
    "\n",
    "fig.add_trace(go.Scatter(\n",
    "   y=pred_90_lstm['close'][-100:],\n",
    "   name=\"LSTM\")\n",
    ")\n",
    "\n",
    "fig.add_trace(go.Scatter(\n",
    "   y=pred_90_gru.close[-100:],\n",
    "   name=\"GRU\")\n",
    ")\n",
    "\n",
    "fig.update_layout(\n",
    "   #title=\"Banda de Bollinger superior e inferior dos ultimos 60 dias de fechamento de 2009 a Fev 2023\",\n",
    "    yaxis_title=\"Valor de Fechamento em R$\",\n",
    "    xaxis_title=\"periodo em dias\",\n",
    "   #legend_title=\"legend\",\n",
    ")\n",
    "fig.show()"
   ]
  },
  {
   "cell_type": "code",
   "execution_count": 116,
   "id": "0af3f134",
   "metadata": {},
   "outputs": [
    {
     "data": {
      "application/vnd.plotly.v1+json": {
       "config": {
        "plotlyServerURL": "https://plot.ly"
       },
       "data": [
        {
         "name": "Real",
         "type": "scatter",
         "y": [
          105.69000244140625,
          104.8499984741211,
          106.08000183105469,
          105.06999969482422,
          105.23999786376953,
          108.19999694824219,
          105.06999969482422,
          105.1500015258789,
          107.29000091552734,
          108.58000183105469,
          107.05999755859375,
          107.94999694824219,
          105.62999725341797,
          106.73999786376953,
          105.58999633789062,
          103.56999969482422,
          103.9000015258789,
          101.80000305175781,
          100.30000305175781,
          100.69999694824219,
          100.5,
          99.4000015258789,
          101.37000274658203,
          103.55000305175781,
          103.87000274658203,
          103.93000030517578,
          106,
          105.1500015258789,
          104.9000015258789,
          106.80000305175781,
          105.94999694824219,
          102.62999725341797,
          100.4800033569336,
          101.91999816894531,
          104.2699966430664,
          105.5,
          105.3499984741211,
          107.18000030517578,
          109.0999984741211,
          108.26000213623047,
          107.3499984741211,
          105.47000122070312,
          107.80000305175781,
          108.33000183105469,
          109.11000061035156,
          108.44999694824219,
          107.9000015258789,
          109.43000030517578,
          110.6500015258789,
          110.41999816894531
         ]
        },
        {
         "name": "LSTM",
         "type": "scatter",
         "y": [
          105.69000244140625,
          104.8499984741211,
          106.08000183105469,
          105.06999969482422,
          105.23999786376953,
          108.19999694824219,
          105.06999969482422,
          105.1500015258789,
          107.29000091552734,
          108.58000183105469,
          107.05999755859375,
          107.94999694824219,
          105.62999725341797,
          106.73999786376953,
          105.58999633789062,
          103.56999969482422,
          103.9000015258789,
          101.80000305175781,
          100.30000305175781,
          100.69999694824219,
          102.01905561992669,
          102.26450237282171,
          102.64276499671479,
          102.97358777312661,
          103.27846906608363,
          103.60263182071083,
          103.93838740446643,
          104.22093999301865,
          104.4555138112479,
          104.64053866420795,
          104.73372574224538,
          104.79067857588814,
          104.8461064574899,
          105.00846461492961,
          105.16584073009926,
          105.26603247440528,
          105.3909507970933,
          105.59536888831292,
          105.81952619294975,
          106.07809205768785,
          106.36085223133466,
          106.5942444113332,
          106.84873575325321,
          107.02739200196527,
          107.22569697828408,
          107.38771182191351,
          107.52037732678536,
          107.65952587384197,
          107.7270415951823,
          107.72863574225482
         ]
        },
        {
         "name": "GRU",
         "type": "scatter",
         "y": [
          105.69000244140625,
          104.8499984741211,
          106.08000183105469,
          105.06999969482422,
          105.23999786376953,
          108.19999694824219,
          105.06999969482422,
          105.1500015258789,
          107.29000091552734,
          108.58000183105469,
          107.05999755859375,
          107.94999694824219,
          105.62999725341797,
          106.73999786376953,
          105.58999633789062,
          103.56999969482422,
          103.9000015258789,
          101.80000305175781,
          100.30000305175781,
          100.69999694824219,
          102.26451967157959,
          103.10179152913855,
          103.68232320625282,
          104.17093859869715,
          104.6043736148448,
          105.0691779324012,
          105.57104683473062,
          105.85848033435298,
          105.96567674492758,
          105.8246759001039,
          105.3103625374888,
          104.7616672282461,
          104.3753540285694,
          104.58065036441997,
          105.1837915180862,
          105.58389315846864,
          105.76487808612637,
          106.03499419843502,
          106.38140847839338,
          106.87540777656011,
          107.318923976532,
          107.48121293894019,
          107.79446949205953,
          108.07413718006649,
          108.44954950093006,
          108.71167624844452,
          108.74769758504988,
          108.88618345661223,
          108.99217161548245,
          109.14202942434179
         ]
        }
       ],
       "layout": {
        "template": {
         "data": {
          "bar": [
           {
            "error_x": {
             "color": "#2a3f5f"
            },
            "error_y": {
             "color": "#2a3f5f"
            },
            "marker": {
             "line": {
              "color": "#E5ECF6",
              "width": 0.5
             },
             "pattern": {
              "fillmode": "overlay",
              "size": 10,
              "solidity": 0.2
             }
            },
            "type": "bar"
           }
          ],
          "barpolar": [
           {
            "marker": {
             "line": {
              "color": "#E5ECF6",
              "width": 0.5
             },
             "pattern": {
              "fillmode": "overlay",
              "size": 10,
              "solidity": 0.2
             }
            },
            "type": "barpolar"
           }
          ],
          "carpet": [
           {
            "aaxis": {
             "endlinecolor": "#2a3f5f",
             "gridcolor": "white",
             "linecolor": "white",
             "minorgridcolor": "white",
             "startlinecolor": "#2a3f5f"
            },
            "baxis": {
             "endlinecolor": "#2a3f5f",
             "gridcolor": "white",
             "linecolor": "white",
             "minorgridcolor": "white",
             "startlinecolor": "#2a3f5f"
            },
            "type": "carpet"
           }
          ],
          "choropleth": [
           {
            "colorbar": {
             "outlinewidth": 0,
             "ticks": ""
            },
            "type": "choropleth"
           }
          ],
          "contour": [
           {
            "colorbar": {
             "outlinewidth": 0,
             "ticks": ""
            },
            "colorscale": [
             [
              0,
              "#0d0887"
             ],
             [
              0.1111111111111111,
              "#46039f"
             ],
             [
              0.2222222222222222,
              "#7201a8"
             ],
             [
              0.3333333333333333,
              "#9c179e"
             ],
             [
              0.4444444444444444,
              "#bd3786"
             ],
             [
              0.5555555555555556,
              "#d8576b"
             ],
             [
              0.6666666666666666,
              "#ed7953"
             ],
             [
              0.7777777777777778,
              "#fb9f3a"
             ],
             [
              0.8888888888888888,
              "#fdca26"
             ],
             [
              1,
              "#f0f921"
             ]
            ],
            "type": "contour"
           }
          ],
          "contourcarpet": [
           {
            "colorbar": {
             "outlinewidth": 0,
             "ticks": ""
            },
            "type": "contourcarpet"
           }
          ],
          "heatmap": [
           {
            "colorbar": {
             "outlinewidth": 0,
             "ticks": ""
            },
            "colorscale": [
             [
              0,
              "#0d0887"
             ],
             [
              0.1111111111111111,
              "#46039f"
             ],
             [
              0.2222222222222222,
              "#7201a8"
             ],
             [
              0.3333333333333333,
              "#9c179e"
             ],
             [
              0.4444444444444444,
              "#bd3786"
             ],
             [
              0.5555555555555556,
              "#d8576b"
             ],
             [
              0.6666666666666666,
              "#ed7953"
             ],
             [
              0.7777777777777778,
              "#fb9f3a"
             ],
             [
              0.8888888888888888,
              "#fdca26"
             ],
             [
              1,
              "#f0f921"
             ]
            ],
            "type": "heatmap"
           }
          ],
          "heatmapgl": [
           {
            "colorbar": {
             "outlinewidth": 0,
             "ticks": ""
            },
            "colorscale": [
             [
              0,
              "#0d0887"
             ],
             [
              0.1111111111111111,
              "#46039f"
             ],
             [
              0.2222222222222222,
              "#7201a8"
             ],
             [
              0.3333333333333333,
              "#9c179e"
             ],
             [
              0.4444444444444444,
              "#bd3786"
             ],
             [
              0.5555555555555556,
              "#d8576b"
             ],
             [
              0.6666666666666666,
              "#ed7953"
             ],
             [
              0.7777777777777778,
              "#fb9f3a"
             ],
             [
              0.8888888888888888,
              "#fdca26"
             ],
             [
              1,
              "#f0f921"
             ]
            ],
            "type": "heatmapgl"
           }
          ],
          "histogram": [
           {
            "marker": {
             "pattern": {
              "fillmode": "overlay",
              "size": 10,
              "solidity": 0.2
             }
            },
            "type": "histogram"
           }
          ],
          "histogram2d": [
           {
            "colorbar": {
             "outlinewidth": 0,
             "ticks": ""
            },
            "colorscale": [
             [
              0,
              "#0d0887"
             ],
             [
              0.1111111111111111,
              "#46039f"
             ],
             [
              0.2222222222222222,
              "#7201a8"
             ],
             [
              0.3333333333333333,
              "#9c179e"
             ],
             [
              0.4444444444444444,
              "#bd3786"
             ],
             [
              0.5555555555555556,
              "#d8576b"
             ],
             [
              0.6666666666666666,
              "#ed7953"
             ],
             [
              0.7777777777777778,
              "#fb9f3a"
             ],
             [
              0.8888888888888888,
              "#fdca26"
             ],
             [
              1,
              "#f0f921"
             ]
            ],
            "type": "histogram2d"
           }
          ],
          "histogram2dcontour": [
           {
            "colorbar": {
             "outlinewidth": 0,
             "ticks": ""
            },
            "colorscale": [
             [
              0,
              "#0d0887"
             ],
             [
              0.1111111111111111,
              "#46039f"
             ],
             [
              0.2222222222222222,
              "#7201a8"
             ],
             [
              0.3333333333333333,
              "#9c179e"
             ],
             [
              0.4444444444444444,
              "#bd3786"
             ],
             [
              0.5555555555555556,
              "#d8576b"
             ],
             [
              0.6666666666666666,
              "#ed7953"
             ],
             [
              0.7777777777777778,
              "#fb9f3a"
             ],
             [
              0.8888888888888888,
              "#fdca26"
             ],
             [
              1,
              "#f0f921"
             ]
            ],
            "type": "histogram2dcontour"
           }
          ],
          "mesh3d": [
           {
            "colorbar": {
             "outlinewidth": 0,
             "ticks": ""
            },
            "type": "mesh3d"
           }
          ],
          "parcoords": [
           {
            "line": {
             "colorbar": {
              "outlinewidth": 0,
              "ticks": ""
             }
            },
            "type": "parcoords"
           }
          ],
          "pie": [
           {
            "automargin": true,
            "type": "pie"
           }
          ],
          "scatter": [
           {
            "fillpattern": {
             "fillmode": "overlay",
             "size": 10,
             "solidity": 0.2
            },
            "type": "scatter"
           }
          ],
          "scatter3d": [
           {
            "line": {
             "colorbar": {
              "outlinewidth": 0,
              "ticks": ""
             }
            },
            "marker": {
             "colorbar": {
              "outlinewidth": 0,
              "ticks": ""
             }
            },
            "type": "scatter3d"
           }
          ],
          "scattercarpet": [
           {
            "marker": {
             "colorbar": {
              "outlinewidth": 0,
              "ticks": ""
             }
            },
            "type": "scattercarpet"
           }
          ],
          "scattergeo": [
           {
            "marker": {
             "colorbar": {
              "outlinewidth": 0,
              "ticks": ""
             }
            },
            "type": "scattergeo"
           }
          ],
          "scattergl": [
           {
            "marker": {
             "colorbar": {
              "outlinewidth": 0,
              "ticks": ""
             }
            },
            "type": "scattergl"
           }
          ],
          "scattermapbox": [
           {
            "marker": {
             "colorbar": {
              "outlinewidth": 0,
              "ticks": ""
             }
            },
            "type": "scattermapbox"
           }
          ],
          "scatterpolar": [
           {
            "marker": {
             "colorbar": {
              "outlinewidth": 0,
              "ticks": ""
             }
            },
            "type": "scatterpolar"
           }
          ],
          "scatterpolargl": [
           {
            "marker": {
             "colorbar": {
              "outlinewidth": 0,
              "ticks": ""
             }
            },
            "type": "scatterpolargl"
           }
          ],
          "scatterternary": [
           {
            "marker": {
             "colorbar": {
              "outlinewidth": 0,
              "ticks": ""
             }
            },
            "type": "scatterternary"
           }
          ],
          "surface": [
           {
            "colorbar": {
             "outlinewidth": 0,
             "ticks": ""
            },
            "colorscale": [
             [
              0,
              "#0d0887"
             ],
             [
              0.1111111111111111,
              "#46039f"
             ],
             [
              0.2222222222222222,
              "#7201a8"
             ],
             [
              0.3333333333333333,
              "#9c179e"
             ],
             [
              0.4444444444444444,
              "#bd3786"
             ],
             [
              0.5555555555555556,
              "#d8576b"
             ],
             [
              0.6666666666666666,
              "#ed7953"
             ],
             [
              0.7777777777777778,
              "#fb9f3a"
             ],
             [
              0.8888888888888888,
              "#fdca26"
             ],
             [
              1,
              "#f0f921"
             ]
            ],
            "type": "surface"
           }
          ],
          "table": [
           {
            "cells": {
             "fill": {
              "color": "#EBF0F8"
             },
             "line": {
              "color": "white"
             }
            },
            "header": {
             "fill": {
              "color": "#C8D4E3"
             },
             "line": {
              "color": "white"
             }
            },
            "type": "table"
           }
          ]
         },
         "layout": {
          "annotationdefaults": {
           "arrowcolor": "#2a3f5f",
           "arrowhead": 0,
           "arrowwidth": 1
          },
          "autotypenumbers": "strict",
          "coloraxis": {
           "colorbar": {
            "outlinewidth": 0,
            "ticks": ""
           }
          },
          "colorscale": {
           "diverging": [
            [
             0,
             "#8e0152"
            ],
            [
             0.1,
             "#c51b7d"
            ],
            [
             0.2,
             "#de77ae"
            ],
            [
             0.3,
             "#f1b6da"
            ],
            [
             0.4,
             "#fde0ef"
            ],
            [
             0.5,
             "#f7f7f7"
            ],
            [
             0.6,
             "#e6f5d0"
            ],
            [
             0.7,
             "#b8e186"
            ],
            [
             0.8,
             "#7fbc41"
            ],
            [
             0.9,
             "#4d9221"
            ],
            [
             1,
             "#276419"
            ]
           ],
           "sequential": [
            [
             0,
             "#0d0887"
            ],
            [
             0.1111111111111111,
             "#46039f"
            ],
            [
             0.2222222222222222,
             "#7201a8"
            ],
            [
             0.3333333333333333,
             "#9c179e"
            ],
            [
             0.4444444444444444,
             "#bd3786"
            ],
            [
             0.5555555555555556,
             "#d8576b"
            ],
            [
             0.6666666666666666,
             "#ed7953"
            ],
            [
             0.7777777777777778,
             "#fb9f3a"
            ],
            [
             0.8888888888888888,
             "#fdca26"
            ],
            [
             1,
             "#f0f921"
            ]
           ],
           "sequentialminus": [
            [
             0,
             "#0d0887"
            ],
            [
             0.1111111111111111,
             "#46039f"
            ],
            [
             0.2222222222222222,
             "#7201a8"
            ],
            [
             0.3333333333333333,
             "#9c179e"
            ],
            [
             0.4444444444444444,
             "#bd3786"
            ],
            [
             0.5555555555555556,
             "#d8576b"
            ],
            [
             0.6666666666666666,
             "#ed7953"
            ],
            [
             0.7777777777777778,
             "#fb9f3a"
            ],
            [
             0.8888888888888888,
             "#fdca26"
            ],
            [
             1,
             "#f0f921"
            ]
           ]
          },
          "colorway": [
           "#636efa",
           "#EF553B",
           "#00cc96",
           "#ab63fa",
           "#FFA15A",
           "#19d3f3",
           "#FF6692",
           "#B6E880",
           "#FF97FF",
           "#FECB52"
          ],
          "font": {
           "color": "#2a3f5f"
          },
          "geo": {
           "bgcolor": "white",
           "lakecolor": "white",
           "landcolor": "#E5ECF6",
           "showlakes": true,
           "showland": true,
           "subunitcolor": "white"
          },
          "hoverlabel": {
           "align": "left"
          },
          "hovermode": "closest",
          "mapbox": {
           "style": "light"
          },
          "paper_bgcolor": "white",
          "plot_bgcolor": "#E5ECF6",
          "polar": {
           "angularaxis": {
            "gridcolor": "white",
            "linecolor": "white",
            "ticks": ""
           },
           "bgcolor": "#E5ECF6",
           "radialaxis": {
            "gridcolor": "white",
            "linecolor": "white",
            "ticks": ""
           }
          },
          "scene": {
           "xaxis": {
            "backgroundcolor": "#E5ECF6",
            "gridcolor": "white",
            "gridwidth": 2,
            "linecolor": "white",
            "showbackground": true,
            "ticks": "",
            "zerolinecolor": "white"
           },
           "yaxis": {
            "backgroundcolor": "#E5ECF6",
            "gridcolor": "white",
            "gridwidth": 2,
            "linecolor": "white",
            "showbackground": true,
            "ticks": "",
            "zerolinecolor": "white"
           },
           "zaxis": {
            "backgroundcolor": "#E5ECF6",
            "gridcolor": "white",
            "gridwidth": 2,
            "linecolor": "white",
            "showbackground": true,
            "ticks": "",
            "zerolinecolor": "white"
           }
          },
          "shapedefaults": {
           "line": {
            "color": "#2a3f5f"
           }
          },
          "ternary": {
           "aaxis": {
            "gridcolor": "white",
            "linecolor": "white",
            "ticks": ""
           },
           "baxis": {
            "gridcolor": "white",
            "linecolor": "white",
            "ticks": ""
           },
           "bgcolor": "#E5ECF6",
           "caxis": {
            "gridcolor": "white",
            "linecolor": "white",
            "ticks": ""
           }
          },
          "title": {
           "x": 0.05
          },
          "xaxis": {
           "automargin": true,
           "gridcolor": "white",
           "linecolor": "white",
           "ticks": "",
           "title": {
            "standoff": 15
           },
           "zerolinecolor": "white",
           "zerolinewidth": 2
          },
          "yaxis": {
           "automargin": true,
           "gridcolor": "white",
           "linecolor": "white",
           "ticks": "",
           "title": {
            "standoff": 15
           },
           "zerolinecolor": "white",
           "zerolinewidth": 2
          }
         }
        },
        "xaxis": {
         "title": {
          "text": "periodo em dias"
         }
        },
        "yaxis": {
         "title": {
          "text": "Valor de Fechamento em R$"
         }
        }
       }
      },
      "text/html": [
       "<div>                            <div id=\"61329cf7-4513-4039-9958-f442b5021f26\" class=\"plotly-graph-div\" style=\"height:525px; width:100%;\"></div>            <script type=\"text/javascript\">                require([\"plotly\"], function(Plotly) {                    window.PLOTLYENV=window.PLOTLYENV || {};                                    if (document.getElementById(\"61329cf7-4513-4039-9958-f442b5021f26\")) {                    Plotly.newPlot(                        \"61329cf7-4513-4039-9958-f442b5021f26\",                        [{\"name\":\"Real\",\"y\":[105.69000244140625,104.8499984741211,106.08000183105469,105.06999969482422,105.23999786376953,108.19999694824219,105.06999969482422,105.1500015258789,107.29000091552734,108.58000183105469,107.05999755859375,107.94999694824219,105.62999725341797,106.73999786376953,105.58999633789062,103.56999969482422,103.9000015258789,101.80000305175781,100.30000305175781,100.69999694824219,100.5,99.4000015258789,101.37000274658203,103.55000305175781,103.87000274658203,103.93000030517578,106.0,105.1500015258789,104.9000015258789,106.80000305175781,105.94999694824219,102.62999725341797,100.4800033569336,101.91999816894531,104.2699966430664,105.5,105.3499984741211,107.18000030517578,109.0999984741211,108.26000213623047,107.3499984741211,105.47000122070312,107.80000305175781,108.33000183105469,109.11000061035156,108.44999694824219,107.9000015258789,109.43000030517578,110.6500015258789,110.41999816894531],\"type\":\"scatter\"},{\"name\":\"LSTM\",\"y\":[105.69000244140625,104.8499984741211,106.08000183105469,105.06999969482422,105.23999786376953,108.19999694824219,105.06999969482422,105.1500015258789,107.29000091552734,108.58000183105469,107.05999755859375,107.94999694824219,105.62999725341797,106.73999786376953,105.58999633789062,103.56999969482422,103.9000015258789,101.80000305175781,100.30000305175781,100.69999694824219,102.01905561992669,102.26450237282171,102.64276499671479,102.97358777312661,103.27846906608363,103.60263182071083,103.93838740446643,104.22093999301865,104.4555138112479,104.64053866420795,104.73372574224538,104.79067857588814,104.8461064574899,105.00846461492961,105.16584073009926,105.26603247440528,105.3909507970933,105.59536888831292,105.81952619294975,106.07809205768785,106.36085223133466,106.5942444113332,106.84873575325321,107.02739200196527,107.22569697828408,107.38771182191351,107.52037732678536,107.65952587384197,107.7270415951823,107.72863574225482],\"type\":\"scatter\"},{\"name\":\"GRU\",\"y\":[105.69000244140625,104.8499984741211,106.08000183105469,105.06999969482422,105.23999786376953,108.19999694824219,105.06999969482422,105.1500015258789,107.29000091552734,108.58000183105469,107.05999755859375,107.94999694824219,105.62999725341797,106.73999786376953,105.58999633789062,103.56999969482422,103.9000015258789,101.80000305175781,100.30000305175781,100.69999694824219,102.26451967157959,103.10179152913855,103.68232320625282,104.17093859869715,104.6043736148448,105.0691779324012,105.57104683473062,105.85848033435298,105.96567674492758,105.8246759001039,105.3103625374888,104.7616672282461,104.3753540285694,104.58065036441997,105.1837915180862,105.58389315846864,105.76487808612637,106.03499419843502,106.38140847839338,106.87540777656011,107.318923976532,107.48121293894019,107.79446949205953,108.07413718006649,108.44954950093006,108.71167624844452,108.74769758504988,108.88618345661223,108.99217161548245,109.14202942434179],\"type\":\"scatter\"}],                        {\"template\":{\"data\":{\"histogram2dcontour\":[{\"type\":\"histogram2dcontour\",\"colorbar\":{\"outlinewidth\":0,\"ticks\":\"\"},\"colorscale\":[[0.0,\"#0d0887\"],[0.1111111111111111,\"#46039f\"],[0.2222222222222222,\"#7201a8\"],[0.3333333333333333,\"#9c179e\"],[0.4444444444444444,\"#bd3786\"],[0.5555555555555556,\"#d8576b\"],[0.6666666666666666,\"#ed7953\"],[0.7777777777777778,\"#fb9f3a\"],[0.8888888888888888,\"#fdca26\"],[1.0,\"#f0f921\"]]}],\"choropleth\":[{\"type\":\"choropleth\",\"colorbar\":{\"outlinewidth\":0,\"ticks\":\"\"}}],\"histogram2d\":[{\"type\":\"histogram2d\",\"colorbar\":{\"outlinewidth\":0,\"ticks\":\"\"},\"colorscale\":[[0.0,\"#0d0887\"],[0.1111111111111111,\"#46039f\"],[0.2222222222222222,\"#7201a8\"],[0.3333333333333333,\"#9c179e\"],[0.4444444444444444,\"#bd3786\"],[0.5555555555555556,\"#d8576b\"],[0.6666666666666666,\"#ed7953\"],[0.7777777777777778,\"#fb9f3a\"],[0.8888888888888888,\"#fdca26\"],[1.0,\"#f0f921\"]]}],\"heatmap\":[{\"type\":\"heatmap\",\"colorbar\":{\"outlinewidth\":0,\"ticks\":\"\"},\"colorscale\":[[0.0,\"#0d0887\"],[0.1111111111111111,\"#46039f\"],[0.2222222222222222,\"#7201a8\"],[0.3333333333333333,\"#9c179e\"],[0.4444444444444444,\"#bd3786\"],[0.5555555555555556,\"#d8576b\"],[0.6666666666666666,\"#ed7953\"],[0.7777777777777778,\"#fb9f3a\"],[0.8888888888888888,\"#fdca26\"],[1.0,\"#f0f921\"]]}],\"heatmapgl\":[{\"type\":\"heatmapgl\",\"colorbar\":{\"outlinewidth\":0,\"ticks\":\"\"},\"colorscale\":[[0.0,\"#0d0887\"],[0.1111111111111111,\"#46039f\"],[0.2222222222222222,\"#7201a8\"],[0.3333333333333333,\"#9c179e\"],[0.4444444444444444,\"#bd3786\"],[0.5555555555555556,\"#d8576b\"],[0.6666666666666666,\"#ed7953\"],[0.7777777777777778,\"#fb9f3a\"],[0.8888888888888888,\"#fdca26\"],[1.0,\"#f0f921\"]]}],\"contourcarpet\":[{\"type\":\"contourcarpet\",\"colorbar\":{\"outlinewidth\":0,\"ticks\":\"\"}}],\"contour\":[{\"type\":\"contour\",\"colorbar\":{\"outlinewidth\":0,\"ticks\":\"\"},\"colorscale\":[[0.0,\"#0d0887\"],[0.1111111111111111,\"#46039f\"],[0.2222222222222222,\"#7201a8\"],[0.3333333333333333,\"#9c179e\"],[0.4444444444444444,\"#bd3786\"],[0.5555555555555556,\"#d8576b\"],[0.6666666666666666,\"#ed7953\"],[0.7777777777777778,\"#fb9f3a\"],[0.8888888888888888,\"#fdca26\"],[1.0,\"#f0f921\"]]}],\"surface\":[{\"type\":\"surface\",\"colorbar\":{\"outlinewidth\":0,\"ticks\":\"\"},\"colorscale\":[[0.0,\"#0d0887\"],[0.1111111111111111,\"#46039f\"],[0.2222222222222222,\"#7201a8\"],[0.3333333333333333,\"#9c179e\"],[0.4444444444444444,\"#bd3786\"],[0.5555555555555556,\"#d8576b\"],[0.6666666666666666,\"#ed7953\"],[0.7777777777777778,\"#fb9f3a\"],[0.8888888888888888,\"#fdca26\"],[1.0,\"#f0f921\"]]}],\"mesh3d\":[{\"type\":\"mesh3d\",\"colorbar\":{\"outlinewidth\":0,\"ticks\":\"\"}}],\"scatter\":[{\"fillpattern\":{\"fillmode\":\"overlay\",\"size\":10,\"solidity\":0.2},\"type\":\"scatter\"}],\"parcoords\":[{\"type\":\"parcoords\",\"line\":{\"colorbar\":{\"outlinewidth\":0,\"ticks\":\"\"}}}],\"scatterpolargl\":[{\"type\":\"scatterpolargl\",\"marker\":{\"colorbar\":{\"outlinewidth\":0,\"ticks\":\"\"}}}],\"bar\":[{\"error_x\":{\"color\":\"#2a3f5f\"},\"error_y\":{\"color\":\"#2a3f5f\"},\"marker\":{\"line\":{\"color\":\"#E5ECF6\",\"width\":0.5},\"pattern\":{\"fillmode\":\"overlay\",\"size\":10,\"solidity\":0.2}},\"type\":\"bar\"}],\"scattergeo\":[{\"type\":\"scattergeo\",\"marker\":{\"colorbar\":{\"outlinewidth\":0,\"ticks\":\"\"}}}],\"scatterpolar\":[{\"type\":\"scatterpolar\",\"marker\":{\"colorbar\":{\"outlinewidth\":0,\"ticks\":\"\"}}}],\"histogram\":[{\"marker\":{\"pattern\":{\"fillmode\":\"overlay\",\"size\":10,\"solidity\":0.2}},\"type\":\"histogram\"}],\"scattergl\":[{\"type\":\"scattergl\",\"marker\":{\"colorbar\":{\"outlinewidth\":0,\"ticks\":\"\"}}}],\"scatter3d\":[{\"type\":\"scatter3d\",\"line\":{\"colorbar\":{\"outlinewidth\":0,\"ticks\":\"\"}},\"marker\":{\"colorbar\":{\"outlinewidth\":0,\"ticks\":\"\"}}}],\"scattermapbox\":[{\"type\":\"scattermapbox\",\"marker\":{\"colorbar\":{\"outlinewidth\":0,\"ticks\":\"\"}}}],\"scatterternary\":[{\"type\":\"scatterternary\",\"marker\":{\"colorbar\":{\"outlinewidth\":0,\"ticks\":\"\"}}}],\"scattercarpet\":[{\"type\":\"scattercarpet\",\"marker\":{\"colorbar\":{\"outlinewidth\":0,\"ticks\":\"\"}}}],\"carpet\":[{\"aaxis\":{\"endlinecolor\":\"#2a3f5f\",\"gridcolor\":\"white\",\"linecolor\":\"white\",\"minorgridcolor\":\"white\",\"startlinecolor\":\"#2a3f5f\"},\"baxis\":{\"endlinecolor\":\"#2a3f5f\",\"gridcolor\":\"white\",\"linecolor\":\"white\",\"minorgridcolor\":\"white\",\"startlinecolor\":\"#2a3f5f\"},\"type\":\"carpet\"}],\"table\":[{\"cells\":{\"fill\":{\"color\":\"#EBF0F8\"},\"line\":{\"color\":\"white\"}},\"header\":{\"fill\":{\"color\":\"#C8D4E3\"},\"line\":{\"color\":\"white\"}},\"type\":\"table\"}],\"barpolar\":[{\"marker\":{\"line\":{\"color\":\"#E5ECF6\",\"width\":0.5},\"pattern\":{\"fillmode\":\"overlay\",\"size\":10,\"solidity\":0.2}},\"type\":\"barpolar\"}],\"pie\":[{\"automargin\":true,\"type\":\"pie\"}]},\"layout\":{\"autotypenumbers\":\"strict\",\"colorway\":[\"#636efa\",\"#EF553B\",\"#00cc96\",\"#ab63fa\",\"#FFA15A\",\"#19d3f3\",\"#FF6692\",\"#B6E880\",\"#FF97FF\",\"#FECB52\"],\"font\":{\"color\":\"#2a3f5f\"},\"hovermode\":\"closest\",\"hoverlabel\":{\"align\":\"left\"},\"paper_bgcolor\":\"white\",\"plot_bgcolor\":\"#E5ECF6\",\"polar\":{\"bgcolor\":\"#E5ECF6\",\"angularaxis\":{\"gridcolor\":\"white\",\"linecolor\":\"white\",\"ticks\":\"\"},\"radialaxis\":{\"gridcolor\":\"white\",\"linecolor\":\"white\",\"ticks\":\"\"}},\"ternary\":{\"bgcolor\":\"#E5ECF6\",\"aaxis\":{\"gridcolor\":\"white\",\"linecolor\":\"white\",\"ticks\":\"\"},\"baxis\":{\"gridcolor\":\"white\",\"linecolor\":\"white\",\"ticks\":\"\"},\"caxis\":{\"gridcolor\":\"white\",\"linecolor\":\"white\",\"ticks\":\"\"}},\"coloraxis\":{\"colorbar\":{\"outlinewidth\":0,\"ticks\":\"\"}},\"colorscale\":{\"sequential\":[[0.0,\"#0d0887\"],[0.1111111111111111,\"#46039f\"],[0.2222222222222222,\"#7201a8\"],[0.3333333333333333,\"#9c179e\"],[0.4444444444444444,\"#bd3786\"],[0.5555555555555556,\"#d8576b\"],[0.6666666666666666,\"#ed7953\"],[0.7777777777777778,\"#fb9f3a\"],[0.8888888888888888,\"#fdca26\"],[1.0,\"#f0f921\"]],\"sequentialminus\":[[0.0,\"#0d0887\"],[0.1111111111111111,\"#46039f\"],[0.2222222222222222,\"#7201a8\"],[0.3333333333333333,\"#9c179e\"],[0.4444444444444444,\"#bd3786\"],[0.5555555555555556,\"#d8576b\"],[0.6666666666666666,\"#ed7953\"],[0.7777777777777778,\"#fb9f3a\"],[0.8888888888888888,\"#fdca26\"],[1.0,\"#f0f921\"]],\"diverging\":[[0,\"#8e0152\"],[0.1,\"#c51b7d\"],[0.2,\"#de77ae\"],[0.3,\"#f1b6da\"],[0.4,\"#fde0ef\"],[0.5,\"#f7f7f7\"],[0.6,\"#e6f5d0\"],[0.7,\"#b8e186\"],[0.8,\"#7fbc41\"],[0.9,\"#4d9221\"],[1,\"#276419\"]]},\"xaxis\":{\"gridcolor\":\"white\",\"linecolor\":\"white\",\"ticks\":\"\",\"title\":{\"standoff\":15},\"zerolinecolor\":\"white\",\"automargin\":true,\"zerolinewidth\":2},\"yaxis\":{\"gridcolor\":\"white\",\"linecolor\":\"white\",\"ticks\":\"\",\"title\":{\"standoff\":15},\"zerolinecolor\":\"white\",\"automargin\":true,\"zerolinewidth\":2},\"scene\":{\"xaxis\":{\"backgroundcolor\":\"#E5ECF6\",\"gridcolor\":\"white\",\"linecolor\":\"white\",\"showbackground\":true,\"ticks\":\"\",\"zerolinecolor\":\"white\",\"gridwidth\":2},\"yaxis\":{\"backgroundcolor\":\"#E5ECF6\",\"gridcolor\":\"white\",\"linecolor\":\"white\",\"showbackground\":true,\"ticks\":\"\",\"zerolinecolor\":\"white\",\"gridwidth\":2},\"zaxis\":{\"backgroundcolor\":\"#E5ECF6\",\"gridcolor\":\"white\",\"linecolor\":\"white\",\"showbackground\":true,\"ticks\":\"\",\"zerolinecolor\":\"white\",\"gridwidth\":2}},\"shapedefaults\":{\"line\":{\"color\":\"#2a3f5f\"}},\"annotationdefaults\":{\"arrowcolor\":\"#2a3f5f\",\"arrowhead\":0,\"arrowwidth\":1},\"geo\":{\"bgcolor\":\"white\",\"landcolor\":\"#E5ECF6\",\"subunitcolor\":\"white\",\"showland\":true,\"showlakes\":true,\"lakecolor\":\"white\"},\"title\":{\"x\":0.05},\"mapbox\":{\"style\":\"light\"}}},\"yaxis\":{\"title\":{\"text\":\"Valor de Fechamento em R$\"}},\"xaxis\":{\"title\":{\"text\":\"periodo em dias\"}}},                        {\"responsive\": true}                    ).then(function(){\n",
       "                            \n",
       "var gd = document.getElementById('61329cf7-4513-4039-9958-f442b5021f26');\n",
       "var x = new MutationObserver(function (mutations, observer) {{\n",
       "        var display = window.getComputedStyle(gd).display;\n",
       "        if (!display || display === 'none') {{\n",
       "            console.log([gd, 'removed!']);\n",
       "            Plotly.purge(gd);\n",
       "            observer.disconnect();\n",
       "        }}\n",
       "}});\n",
       "\n",
       "// Listen for the removal of the full notebook cells\n",
       "var notebookContainer = gd.closest('#notebook-container');\n",
       "if (notebookContainer) {{\n",
       "    x.observe(notebookContainer, {childList: true});\n",
       "}}\n",
       "\n",
       "// Listen for the clearing of the current output cell\n",
       "var outputEl = gd.closest('.output');\n",
       "if (outputEl) {{\n",
       "    x.observe(outputEl, {childList: true});\n",
       "}}\n",
       "\n",
       "                        })                };                });            </script>        </div>"
      ]
     },
     "metadata": {},
     "output_type": "display_data"
    }
   ],
   "source": [
    "import plotly.graph_objs as go\n",
    "fig = go.Figure()\n",
    "\n",
    "fig.add_trace(go.Scatter(\n",
    "   y=bova11['close'][-50:],\n",
    "   name=\"Real\")\n",
    ")\n",
    "\n",
    "fig.add_trace(go.Scatter(\n",
    "   y=pred_30_lstm['close'][-50:],\n",
    "   name=\"LSTM\")\n",
    ")\n",
    "\n",
    "fig.add_trace(go.Scatter(\n",
    "   y=pred_30_gru.close[-50:],\n",
    "   name=\"GRU\")\n",
    ")\n",
    "\n",
    "fig.update_layout(\n",
    "   #title=\"Banda de Bollinger superior e inferior dos ultimos 60 dias de fechamento de 2009 a Fev 2023\",\n",
    "    yaxis_title=\"Valor de Fechamento em R$\",\n",
    "    xaxis_title=\"periodo em dias\",\n",
    "   #legend_title=\"legend\",\n",
    ")\n",
    "fig.show()"
   ]
  },
  {
   "cell_type": "code",
   "execution_count": 117,
   "id": "0d0fabde",
   "metadata": {},
   "outputs": [
    {
     "data": {
      "application/vnd.plotly.v1+json": {
       "config": {
        "plotlyServerURL": "https://plot.ly"
       },
       "data": [
        {
         "name": "Real",
         "type": "scatter",
         "y": [
          107.3499984741211,
          105.47000122070312,
          107.80000305175781,
          108.33000183105469,
          109.11000061035156,
          108.44999694824219,
          107.9000015258789,
          109.43000030517578,
          110.6500015258789,
          110.41999816894531
         ]
        },
        {
         "name": "LSTM",
         "type": "scatter",
         "y": [
          107.3499984741211,
          105.47000122070312,
          107.80000305175781,
          108.33000183105469,
          109.11000061035156,
          107.88143433995413,
          107.60202746398909,
          107.46915703537002,
          107.26464047429783,
          107.02280383910545
         ]
        },
        {
         "name": "GRU",
         "type": "scatter",
         "y": [
          107.3499984741211,
          105.47000122070312,
          107.80000305175781,
          108.33000183105469,
          109.11000061035156,
          108.5256720196536,
          108.20239283235207,
          108.13565688579013,
          108.02664277496422,
          107.92215029331396
         ]
        }
       ],
       "layout": {
        "template": {
         "data": {
          "bar": [
           {
            "error_x": {
             "color": "#2a3f5f"
            },
            "error_y": {
             "color": "#2a3f5f"
            },
            "marker": {
             "line": {
              "color": "#E5ECF6",
              "width": 0.5
             },
             "pattern": {
              "fillmode": "overlay",
              "size": 10,
              "solidity": 0.2
             }
            },
            "type": "bar"
           }
          ],
          "barpolar": [
           {
            "marker": {
             "line": {
              "color": "#E5ECF6",
              "width": 0.5
             },
             "pattern": {
              "fillmode": "overlay",
              "size": 10,
              "solidity": 0.2
             }
            },
            "type": "barpolar"
           }
          ],
          "carpet": [
           {
            "aaxis": {
             "endlinecolor": "#2a3f5f",
             "gridcolor": "white",
             "linecolor": "white",
             "minorgridcolor": "white",
             "startlinecolor": "#2a3f5f"
            },
            "baxis": {
             "endlinecolor": "#2a3f5f",
             "gridcolor": "white",
             "linecolor": "white",
             "minorgridcolor": "white",
             "startlinecolor": "#2a3f5f"
            },
            "type": "carpet"
           }
          ],
          "choropleth": [
           {
            "colorbar": {
             "outlinewidth": 0,
             "ticks": ""
            },
            "type": "choropleth"
           }
          ],
          "contour": [
           {
            "colorbar": {
             "outlinewidth": 0,
             "ticks": ""
            },
            "colorscale": [
             [
              0,
              "#0d0887"
             ],
             [
              0.1111111111111111,
              "#46039f"
             ],
             [
              0.2222222222222222,
              "#7201a8"
             ],
             [
              0.3333333333333333,
              "#9c179e"
             ],
             [
              0.4444444444444444,
              "#bd3786"
             ],
             [
              0.5555555555555556,
              "#d8576b"
             ],
             [
              0.6666666666666666,
              "#ed7953"
             ],
             [
              0.7777777777777778,
              "#fb9f3a"
             ],
             [
              0.8888888888888888,
              "#fdca26"
             ],
             [
              1,
              "#f0f921"
             ]
            ],
            "type": "contour"
           }
          ],
          "contourcarpet": [
           {
            "colorbar": {
             "outlinewidth": 0,
             "ticks": ""
            },
            "type": "contourcarpet"
           }
          ],
          "heatmap": [
           {
            "colorbar": {
             "outlinewidth": 0,
             "ticks": ""
            },
            "colorscale": [
             [
              0,
              "#0d0887"
             ],
             [
              0.1111111111111111,
              "#46039f"
             ],
             [
              0.2222222222222222,
              "#7201a8"
             ],
             [
              0.3333333333333333,
              "#9c179e"
             ],
             [
              0.4444444444444444,
              "#bd3786"
             ],
             [
              0.5555555555555556,
              "#d8576b"
             ],
             [
              0.6666666666666666,
              "#ed7953"
             ],
             [
              0.7777777777777778,
              "#fb9f3a"
             ],
             [
              0.8888888888888888,
              "#fdca26"
             ],
             [
              1,
              "#f0f921"
             ]
            ],
            "type": "heatmap"
           }
          ],
          "heatmapgl": [
           {
            "colorbar": {
             "outlinewidth": 0,
             "ticks": ""
            },
            "colorscale": [
             [
              0,
              "#0d0887"
             ],
             [
              0.1111111111111111,
              "#46039f"
             ],
             [
              0.2222222222222222,
              "#7201a8"
             ],
             [
              0.3333333333333333,
              "#9c179e"
             ],
             [
              0.4444444444444444,
              "#bd3786"
             ],
             [
              0.5555555555555556,
              "#d8576b"
             ],
             [
              0.6666666666666666,
              "#ed7953"
             ],
             [
              0.7777777777777778,
              "#fb9f3a"
             ],
             [
              0.8888888888888888,
              "#fdca26"
             ],
             [
              1,
              "#f0f921"
             ]
            ],
            "type": "heatmapgl"
           }
          ],
          "histogram": [
           {
            "marker": {
             "pattern": {
              "fillmode": "overlay",
              "size": 10,
              "solidity": 0.2
             }
            },
            "type": "histogram"
           }
          ],
          "histogram2d": [
           {
            "colorbar": {
             "outlinewidth": 0,
             "ticks": ""
            },
            "colorscale": [
             [
              0,
              "#0d0887"
             ],
             [
              0.1111111111111111,
              "#46039f"
             ],
             [
              0.2222222222222222,
              "#7201a8"
             ],
             [
              0.3333333333333333,
              "#9c179e"
             ],
             [
              0.4444444444444444,
              "#bd3786"
             ],
             [
              0.5555555555555556,
              "#d8576b"
             ],
             [
              0.6666666666666666,
              "#ed7953"
             ],
             [
              0.7777777777777778,
              "#fb9f3a"
             ],
             [
              0.8888888888888888,
              "#fdca26"
             ],
             [
              1,
              "#f0f921"
             ]
            ],
            "type": "histogram2d"
           }
          ],
          "histogram2dcontour": [
           {
            "colorbar": {
             "outlinewidth": 0,
             "ticks": ""
            },
            "colorscale": [
             [
              0,
              "#0d0887"
             ],
             [
              0.1111111111111111,
              "#46039f"
             ],
             [
              0.2222222222222222,
              "#7201a8"
             ],
             [
              0.3333333333333333,
              "#9c179e"
             ],
             [
              0.4444444444444444,
              "#bd3786"
             ],
             [
              0.5555555555555556,
              "#d8576b"
             ],
             [
              0.6666666666666666,
              "#ed7953"
             ],
             [
              0.7777777777777778,
              "#fb9f3a"
             ],
             [
              0.8888888888888888,
              "#fdca26"
             ],
             [
              1,
              "#f0f921"
             ]
            ],
            "type": "histogram2dcontour"
           }
          ],
          "mesh3d": [
           {
            "colorbar": {
             "outlinewidth": 0,
             "ticks": ""
            },
            "type": "mesh3d"
           }
          ],
          "parcoords": [
           {
            "line": {
             "colorbar": {
              "outlinewidth": 0,
              "ticks": ""
             }
            },
            "type": "parcoords"
           }
          ],
          "pie": [
           {
            "automargin": true,
            "type": "pie"
           }
          ],
          "scatter": [
           {
            "fillpattern": {
             "fillmode": "overlay",
             "size": 10,
             "solidity": 0.2
            },
            "type": "scatter"
           }
          ],
          "scatter3d": [
           {
            "line": {
             "colorbar": {
              "outlinewidth": 0,
              "ticks": ""
             }
            },
            "marker": {
             "colorbar": {
              "outlinewidth": 0,
              "ticks": ""
             }
            },
            "type": "scatter3d"
           }
          ],
          "scattercarpet": [
           {
            "marker": {
             "colorbar": {
              "outlinewidth": 0,
              "ticks": ""
             }
            },
            "type": "scattercarpet"
           }
          ],
          "scattergeo": [
           {
            "marker": {
             "colorbar": {
              "outlinewidth": 0,
              "ticks": ""
             }
            },
            "type": "scattergeo"
           }
          ],
          "scattergl": [
           {
            "marker": {
             "colorbar": {
              "outlinewidth": 0,
              "ticks": ""
             }
            },
            "type": "scattergl"
           }
          ],
          "scattermapbox": [
           {
            "marker": {
             "colorbar": {
              "outlinewidth": 0,
              "ticks": ""
             }
            },
            "type": "scattermapbox"
           }
          ],
          "scatterpolar": [
           {
            "marker": {
             "colorbar": {
              "outlinewidth": 0,
              "ticks": ""
             }
            },
            "type": "scatterpolar"
           }
          ],
          "scatterpolargl": [
           {
            "marker": {
             "colorbar": {
              "outlinewidth": 0,
              "ticks": ""
             }
            },
            "type": "scatterpolargl"
           }
          ],
          "scatterternary": [
           {
            "marker": {
             "colorbar": {
              "outlinewidth": 0,
              "ticks": ""
             }
            },
            "type": "scatterternary"
           }
          ],
          "surface": [
           {
            "colorbar": {
             "outlinewidth": 0,
             "ticks": ""
            },
            "colorscale": [
             [
              0,
              "#0d0887"
             ],
             [
              0.1111111111111111,
              "#46039f"
             ],
             [
              0.2222222222222222,
              "#7201a8"
             ],
             [
              0.3333333333333333,
              "#9c179e"
             ],
             [
              0.4444444444444444,
              "#bd3786"
             ],
             [
              0.5555555555555556,
              "#d8576b"
             ],
             [
              0.6666666666666666,
              "#ed7953"
             ],
             [
              0.7777777777777778,
              "#fb9f3a"
             ],
             [
              0.8888888888888888,
              "#fdca26"
             ],
             [
              1,
              "#f0f921"
             ]
            ],
            "type": "surface"
           }
          ],
          "table": [
           {
            "cells": {
             "fill": {
              "color": "#EBF0F8"
             },
             "line": {
              "color": "white"
             }
            },
            "header": {
             "fill": {
              "color": "#C8D4E3"
             },
             "line": {
              "color": "white"
             }
            },
            "type": "table"
           }
          ]
         },
         "layout": {
          "annotationdefaults": {
           "arrowcolor": "#2a3f5f",
           "arrowhead": 0,
           "arrowwidth": 1
          },
          "autotypenumbers": "strict",
          "coloraxis": {
           "colorbar": {
            "outlinewidth": 0,
            "ticks": ""
           }
          },
          "colorscale": {
           "diverging": [
            [
             0,
             "#8e0152"
            ],
            [
             0.1,
             "#c51b7d"
            ],
            [
             0.2,
             "#de77ae"
            ],
            [
             0.3,
             "#f1b6da"
            ],
            [
             0.4,
             "#fde0ef"
            ],
            [
             0.5,
             "#f7f7f7"
            ],
            [
             0.6,
             "#e6f5d0"
            ],
            [
             0.7,
             "#b8e186"
            ],
            [
             0.8,
             "#7fbc41"
            ],
            [
             0.9,
             "#4d9221"
            ],
            [
             1,
             "#276419"
            ]
           ],
           "sequential": [
            [
             0,
             "#0d0887"
            ],
            [
             0.1111111111111111,
             "#46039f"
            ],
            [
             0.2222222222222222,
             "#7201a8"
            ],
            [
             0.3333333333333333,
             "#9c179e"
            ],
            [
             0.4444444444444444,
             "#bd3786"
            ],
            [
             0.5555555555555556,
             "#d8576b"
            ],
            [
             0.6666666666666666,
             "#ed7953"
            ],
            [
             0.7777777777777778,
             "#fb9f3a"
            ],
            [
             0.8888888888888888,
             "#fdca26"
            ],
            [
             1,
             "#f0f921"
            ]
           ],
           "sequentialminus": [
            [
             0,
             "#0d0887"
            ],
            [
             0.1111111111111111,
             "#46039f"
            ],
            [
             0.2222222222222222,
             "#7201a8"
            ],
            [
             0.3333333333333333,
             "#9c179e"
            ],
            [
             0.4444444444444444,
             "#bd3786"
            ],
            [
             0.5555555555555556,
             "#d8576b"
            ],
            [
             0.6666666666666666,
             "#ed7953"
            ],
            [
             0.7777777777777778,
             "#fb9f3a"
            ],
            [
             0.8888888888888888,
             "#fdca26"
            ],
            [
             1,
             "#f0f921"
            ]
           ]
          },
          "colorway": [
           "#636efa",
           "#EF553B",
           "#00cc96",
           "#ab63fa",
           "#FFA15A",
           "#19d3f3",
           "#FF6692",
           "#B6E880",
           "#FF97FF",
           "#FECB52"
          ],
          "font": {
           "color": "#2a3f5f"
          },
          "geo": {
           "bgcolor": "white",
           "lakecolor": "white",
           "landcolor": "#E5ECF6",
           "showlakes": true,
           "showland": true,
           "subunitcolor": "white"
          },
          "hoverlabel": {
           "align": "left"
          },
          "hovermode": "closest",
          "mapbox": {
           "style": "light"
          },
          "paper_bgcolor": "white",
          "plot_bgcolor": "#E5ECF6",
          "polar": {
           "angularaxis": {
            "gridcolor": "white",
            "linecolor": "white",
            "ticks": ""
           },
           "bgcolor": "#E5ECF6",
           "radialaxis": {
            "gridcolor": "white",
            "linecolor": "white",
            "ticks": ""
           }
          },
          "scene": {
           "xaxis": {
            "backgroundcolor": "#E5ECF6",
            "gridcolor": "white",
            "gridwidth": 2,
            "linecolor": "white",
            "showbackground": true,
            "ticks": "",
            "zerolinecolor": "white"
           },
           "yaxis": {
            "backgroundcolor": "#E5ECF6",
            "gridcolor": "white",
            "gridwidth": 2,
            "linecolor": "white",
            "showbackground": true,
            "ticks": "",
            "zerolinecolor": "white"
           },
           "zaxis": {
            "backgroundcolor": "#E5ECF6",
            "gridcolor": "white",
            "gridwidth": 2,
            "linecolor": "white",
            "showbackground": true,
            "ticks": "",
            "zerolinecolor": "white"
           }
          },
          "shapedefaults": {
           "line": {
            "color": "#2a3f5f"
           }
          },
          "ternary": {
           "aaxis": {
            "gridcolor": "white",
            "linecolor": "white",
            "ticks": ""
           },
           "baxis": {
            "gridcolor": "white",
            "linecolor": "white",
            "ticks": ""
           },
           "bgcolor": "#E5ECF6",
           "caxis": {
            "gridcolor": "white",
            "linecolor": "white",
            "ticks": ""
           }
          },
          "title": {
           "x": 0.05
          },
          "xaxis": {
           "automargin": true,
           "gridcolor": "white",
           "linecolor": "white",
           "ticks": "",
           "title": {
            "standoff": 15
           },
           "zerolinecolor": "white",
           "zerolinewidth": 2
          },
          "yaxis": {
           "automargin": true,
           "gridcolor": "white",
           "linecolor": "white",
           "ticks": "",
           "title": {
            "standoff": 15
           },
           "zerolinecolor": "white",
           "zerolinewidth": 2
          }
         }
        },
        "xaxis": {
         "title": {
          "text": "periodo em dias"
         }
        },
        "yaxis": {
         "title": {
          "text": "Valor de Fechamento em R$"
         }
        }
       }
      },
      "text/html": [
       "<div>                            <div id=\"e48c0baa-0746-4a85-b07b-27195b65cd79\" class=\"plotly-graph-div\" style=\"height:525px; width:100%;\"></div>            <script type=\"text/javascript\">                require([\"plotly\"], function(Plotly) {                    window.PLOTLYENV=window.PLOTLYENV || {};                                    if (document.getElementById(\"e48c0baa-0746-4a85-b07b-27195b65cd79\")) {                    Plotly.newPlot(                        \"e48c0baa-0746-4a85-b07b-27195b65cd79\",                        [{\"name\":\"Real\",\"y\":[107.3499984741211,105.47000122070312,107.80000305175781,108.33000183105469,109.11000061035156,108.44999694824219,107.9000015258789,109.43000030517578,110.6500015258789,110.41999816894531],\"type\":\"scatter\"},{\"name\":\"LSTM\",\"y\":[107.3499984741211,105.47000122070312,107.80000305175781,108.33000183105469,109.11000061035156,107.88143433995413,107.60202746398909,107.46915703537002,107.26464047429783,107.02280383910545],\"type\":\"scatter\"},{\"name\":\"GRU\",\"y\":[107.3499984741211,105.47000122070312,107.80000305175781,108.33000183105469,109.11000061035156,108.5256720196536,108.20239283235207,108.13565688579013,108.02664277496422,107.92215029331396],\"type\":\"scatter\"}],                        {\"template\":{\"data\":{\"histogram2dcontour\":[{\"type\":\"histogram2dcontour\",\"colorbar\":{\"outlinewidth\":0,\"ticks\":\"\"},\"colorscale\":[[0.0,\"#0d0887\"],[0.1111111111111111,\"#46039f\"],[0.2222222222222222,\"#7201a8\"],[0.3333333333333333,\"#9c179e\"],[0.4444444444444444,\"#bd3786\"],[0.5555555555555556,\"#d8576b\"],[0.6666666666666666,\"#ed7953\"],[0.7777777777777778,\"#fb9f3a\"],[0.8888888888888888,\"#fdca26\"],[1.0,\"#f0f921\"]]}],\"choropleth\":[{\"type\":\"choropleth\",\"colorbar\":{\"outlinewidth\":0,\"ticks\":\"\"}}],\"histogram2d\":[{\"type\":\"histogram2d\",\"colorbar\":{\"outlinewidth\":0,\"ticks\":\"\"},\"colorscale\":[[0.0,\"#0d0887\"],[0.1111111111111111,\"#46039f\"],[0.2222222222222222,\"#7201a8\"],[0.3333333333333333,\"#9c179e\"],[0.4444444444444444,\"#bd3786\"],[0.5555555555555556,\"#d8576b\"],[0.6666666666666666,\"#ed7953\"],[0.7777777777777778,\"#fb9f3a\"],[0.8888888888888888,\"#fdca26\"],[1.0,\"#f0f921\"]]}],\"heatmap\":[{\"type\":\"heatmap\",\"colorbar\":{\"outlinewidth\":0,\"ticks\":\"\"},\"colorscale\":[[0.0,\"#0d0887\"],[0.1111111111111111,\"#46039f\"],[0.2222222222222222,\"#7201a8\"],[0.3333333333333333,\"#9c179e\"],[0.4444444444444444,\"#bd3786\"],[0.5555555555555556,\"#d8576b\"],[0.6666666666666666,\"#ed7953\"],[0.7777777777777778,\"#fb9f3a\"],[0.8888888888888888,\"#fdca26\"],[1.0,\"#f0f921\"]]}],\"heatmapgl\":[{\"type\":\"heatmapgl\",\"colorbar\":{\"outlinewidth\":0,\"ticks\":\"\"},\"colorscale\":[[0.0,\"#0d0887\"],[0.1111111111111111,\"#46039f\"],[0.2222222222222222,\"#7201a8\"],[0.3333333333333333,\"#9c179e\"],[0.4444444444444444,\"#bd3786\"],[0.5555555555555556,\"#d8576b\"],[0.6666666666666666,\"#ed7953\"],[0.7777777777777778,\"#fb9f3a\"],[0.8888888888888888,\"#fdca26\"],[1.0,\"#f0f921\"]]}],\"contourcarpet\":[{\"type\":\"contourcarpet\",\"colorbar\":{\"outlinewidth\":0,\"ticks\":\"\"}}],\"contour\":[{\"type\":\"contour\",\"colorbar\":{\"outlinewidth\":0,\"ticks\":\"\"},\"colorscale\":[[0.0,\"#0d0887\"],[0.1111111111111111,\"#46039f\"],[0.2222222222222222,\"#7201a8\"],[0.3333333333333333,\"#9c179e\"],[0.4444444444444444,\"#bd3786\"],[0.5555555555555556,\"#d8576b\"],[0.6666666666666666,\"#ed7953\"],[0.7777777777777778,\"#fb9f3a\"],[0.8888888888888888,\"#fdca26\"],[1.0,\"#f0f921\"]]}],\"surface\":[{\"type\":\"surface\",\"colorbar\":{\"outlinewidth\":0,\"ticks\":\"\"},\"colorscale\":[[0.0,\"#0d0887\"],[0.1111111111111111,\"#46039f\"],[0.2222222222222222,\"#7201a8\"],[0.3333333333333333,\"#9c179e\"],[0.4444444444444444,\"#bd3786\"],[0.5555555555555556,\"#d8576b\"],[0.6666666666666666,\"#ed7953\"],[0.7777777777777778,\"#fb9f3a\"],[0.8888888888888888,\"#fdca26\"],[1.0,\"#f0f921\"]]}],\"mesh3d\":[{\"type\":\"mesh3d\",\"colorbar\":{\"outlinewidth\":0,\"ticks\":\"\"}}],\"scatter\":[{\"fillpattern\":{\"fillmode\":\"overlay\",\"size\":10,\"solidity\":0.2},\"type\":\"scatter\"}],\"parcoords\":[{\"type\":\"parcoords\",\"line\":{\"colorbar\":{\"outlinewidth\":0,\"ticks\":\"\"}}}],\"scatterpolargl\":[{\"type\":\"scatterpolargl\",\"marker\":{\"colorbar\":{\"outlinewidth\":0,\"ticks\":\"\"}}}],\"bar\":[{\"error_x\":{\"color\":\"#2a3f5f\"},\"error_y\":{\"color\":\"#2a3f5f\"},\"marker\":{\"line\":{\"color\":\"#E5ECF6\",\"width\":0.5},\"pattern\":{\"fillmode\":\"overlay\",\"size\":10,\"solidity\":0.2}},\"type\":\"bar\"}],\"scattergeo\":[{\"type\":\"scattergeo\",\"marker\":{\"colorbar\":{\"outlinewidth\":0,\"ticks\":\"\"}}}],\"scatterpolar\":[{\"type\":\"scatterpolar\",\"marker\":{\"colorbar\":{\"outlinewidth\":0,\"ticks\":\"\"}}}],\"histogram\":[{\"marker\":{\"pattern\":{\"fillmode\":\"overlay\",\"size\":10,\"solidity\":0.2}},\"type\":\"histogram\"}],\"scattergl\":[{\"type\":\"scattergl\",\"marker\":{\"colorbar\":{\"outlinewidth\":0,\"ticks\":\"\"}}}],\"scatter3d\":[{\"type\":\"scatter3d\",\"line\":{\"colorbar\":{\"outlinewidth\":0,\"ticks\":\"\"}},\"marker\":{\"colorbar\":{\"outlinewidth\":0,\"ticks\":\"\"}}}],\"scattermapbox\":[{\"type\":\"scattermapbox\",\"marker\":{\"colorbar\":{\"outlinewidth\":0,\"ticks\":\"\"}}}],\"scatterternary\":[{\"type\":\"scatterternary\",\"marker\":{\"colorbar\":{\"outlinewidth\":0,\"ticks\":\"\"}}}],\"scattercarpet\":[{\"type\":\"scattercarpet\",\"marker\":{\"colorbar\":{\"outlinewidth\":0,\"ticks\":\"\"}}}],\"carpet\":[{\"aaxis\":{\"endlinecolor\":\"#2a3f5f\",\"gridcolor\":\"white\",\"linecolor\":\"white\",\"minorgridcolor\":\"white\",\"startlinecolor\":\"#2a3f5f\"},\"baxis\":{\"endlinecolor\":\"#2a3f5f\",\"gridcolor\":\"white\",\"linecolor\":\"white\",\"minorgridcolor\":\"white\",\"startlinecolor\":\"#2a3f5f\"},\"type\":\"carpet\"}],\"table\":[{\"cells\":{\"fill\":{\"color\":\"#EBF0F8\"},\"line\":{\"color\":\"white\"}},\"header\":{\"fill\":{\"color\":\"#C8D4E3\"},\"line\":{\"color\":\"white\"}},\"type\":\"table\"}],\"barpolar\":[{\"marker\":{\"line\":{\"color\":\"#E5ECF6\",\"width\":0.5},\"pattern\":{\"fillmode\":\"overlay\",\"size\":10,\"solidity\":0.2}},\"type\":\"barpolar\"}],\"pie\":[{\"automargin\":true,\"type\":\"pie\"}]},\"layout\":{\"autotypenumbers\":\"strict\",\"colorway\":[\"#636efa\",\"#EF553B\",\"#00cc96\",\"#ab63fa\",\"#FFA15A\",\"#19d3f3\",\"#FF6692\",\"#B6E880\",\"#FF97FF\",\"#FECB52\"],\"font\":{\"color\":\"#2a3f5f\"},\"hovermode\":\"closest\",\"hoverlabel\":{\"align\":\"left\"},\"paper_bgcolor\":\"white\",\"plot_bgcolor\":\"#E5ECF6\",\"polar\":{\"bgcolor\":\"#E5ECF6\",\"angularaxis\":{\"gridcolor\":\"white\",\"linecolor\":\"white\",\"ticks\":\"\"},\"radialaxis\":{\"gridcolor\":\"white\",\"linecolor\":\"white\",\"ticks\":\"\"}},\"ternary\":{\"bgcolor\":\"#E5ECF6\",\"aaxis\":{\"gridcolor\":\"white\",\"linecolor\":\"white\",\"ticks\":\"\"},\"baxis\":{\"gridcolor\":\"white\",\"linecolor\":\"white\",\"ticks\":\"\"},\"caxis\":{\"gridcolor\":\"white\",\"linecolor\":\"white\",\"ticks\":\"\"}},\"coloraxis\":{\"colorbar\":{\"outlinewidth\":0,\"ticks\":\"\"}},\"colorscale\":{\"sequential\":[[0.0,\"#0d0887\"],[0.1111111111111111,\"#46039f\"],[0.2222222222222222,\"#7201a8\"],[0.3333333333333333,\"#9c179e\"],[0.4444444444444444,\"#bd3786\"],[0.5555555555555556,\"#d8576b\"],[0.6666666666666666,\"#ed7953\"],[0.7777777777777778,\"#fb9f3a\"],[0.8888888888888888,\"#fdca26\"],[1.0,\"#f0f921\"]],\"sequentialminus\":[[0.0,\"#0d0887\"],[0.1111111111111111,\"#46039f\"],[0.2222222222222222,\"#7201a8\"],[0.3333333333333333,\"#9c179e\"],[0.4444444444444444,\"#bd3786\"],[0.5555555555555556,\"#d8576b\"],[0.6666666666666666,\"#ed7953\"],[0.7777777777777778,\"#fb9f3a\"],[0.8888888888888888,\"#fdca26\"],[1.0,\"#f0f921\"]],\"diverging\":[[0,\"#8e0152\"],[0.1,\"#c51b7d\"],[0.2,\"#de77ae\"],[0.3,\"#f1b6da\"],[0.4,\"#fde0ef\"],[0.5,\"#f7f7f7\"],[0.6,\"#e6f5d0\"],[0.7,\"#b8e186\"],[0.8,\"#7fbc41\"],[0.9,\"#4d9221\"],[1,\"#276419\"]]},\"xaxis\":{\"gridcolor\":\"white\",\"linecolor\":\"white\",\"ticks\":\"\",\"title\":{\"standoff\":15},\"zerolinecolor\":\"white\",\"automargin\":true,\"zerolinewidth\":2},\"yaxis\":{\"gridcolor\":\"white\",\"linecolor\":\"white\",\"ticks\":\"\",\"title\":{\"standoff\":15},\"zerolinecolor\":\"white\",\"automargin\":true,\"zerolinewidth\":2},\"scene\":{\"xaxis\":{\"backgroundcolor\":\"#E5ECF6\",\"gridcolor\":\"white\",\"linecolor\":\"white\",\"showbackground\":true,\"ticks\":\"\",\"zerolinecolor\":\"white\",\"gridwidth\":2},\"yaxis\":{\"backgroundcolor\":\"#E5ECF6\",\"gridcolor\":\"white\",\"linecolor\":\"white\",\"showbackground\":true,\"ticks\":\"\",\"zerolinecolor\":\"white\",\"gridwidth\":2},\"zaxis\":{\"backgroundcolor\":\"#E5ECF6\",\"gridcolor\":\"white\",\"linecolor\":\"white\",\"showbackground\":true,\"ticks\":\"\",\"zerolinecolor\":\"white\",\"gridwidth\":2}},\"shapedefaults\":{\"line\":{\"color\":\"#2a3f5f\"}},\"annotationdefaults\":{\"arrowcolor\":\"#2a3f5f\",\"arrowhead\":0,\"arrowwidth\":1},\"geo\":{\"bgcolor\":\"white\",\"landcolor\":\"#E5ECF6\",\"subunitcolor\":\"white\",\"showland\":true,\"showlakes\":true,\"lakecolor\":\"white\"},\"title\":{\"x\":0.05},\"mapbox\":{\"style\":\"light\"}}},\"yaxis\":{\"title\":{\"text\":\"Valor de Fechamento em R$\"}},\"xaxis\":{\"title\":{\"text\":\"periodo em dias\"}}},                        {\"responsive\": true}                    ).then(function(){\n",
       "                            \n",
       "var gd = document.getElementById('e48c0baa-0746-4a85-b07b-27195b65cd79');\n",
       "var x = new MutationObserver(function (mutations, observer) {{\n",
       "        var display = window.getComputedStyle(gd).display;\n",
       "        if (!display || display === 'none') {{\n",
       "            console.log([gd, 'removed!']);\n",
       "            Plotly.purge(gd);\n",
       "            observer.disconnect();\n",
       "        }}\n",
       "}});\n",
       "\n",
       "// Listen for the removal of the full notebook cells\n",
       "var notebookContainer = gd.closest('#notebook-container');\n",
       "if (notebookContainer) {{\n",
       "    x.observe(notebookContainer, {childList: true});\n",
       "}}\n",
       "\n",
       "// Listen for the clearing of the current output cell\n",
       "var outputEl = gd.closest('.output');\n",
       "if (outputEl) {{\n",
       "    x.observe(outputEl, {childList: true});\n",
       "}}\n",
       "\n",
       "                        })                };                });            </script>        </div>"
      ]
     },
     "metadata": {},
     "output_type": "display_data"
    }
   ],
   "source": [
    "import plotly.graph_objs as go\n",
    "fig = go.Figure()\n",
    "\n",
    "fig.add_trace(go.Scatter(\n",
    "   y=bova11['close'][-10:],\n",
    "   name=\"Real\")\n",
    ")\n",
    "\n",
    "fig.add_trace(go.Scatter(\n",
    "   y=pred_5_lstm['close'][-10:],\n",
    "   name=\"LSTM\")\n",
    ")\n",
    "\n",
    "fig.add_trace(go.Scatter(\n",
    "   y=pred_5_gru.close[-10:],\n",
    "   name=\"GRU\")\n",
    ")\n",
    "\n",
    "fig.update_layout(\n",
    "   #title=\"Banda de Bollinger superior e inferior dos ultimos 60 dias de fechamento de 2009 a Fev 2023\",\n",
    "    yaxis_title=\"Valor de Fechamento em R$\",\n",
    "    xaxis_title=\"periodo em dias\",\n",
    "   #legend_title=\"legend\",\n",
    ")\n",
    "fig.show()"
   ]
  },
  {
   "cell_type": "code",
   "execution_count": 118,
   "id": "97132bc8",
   "metadata": {},
   "outputs": [
    {
     "data": {
      "application/vnd.plotly.v1+json": {
       "config": {
        "plotlyServerURL": "https://plot.ly"
       },
       "data": [
        {
         "name": "Real",
         "type": "scatter",
         "y": [
          107.3499984741211,
          105.47000122070312,
          107.80000305175781,
          108.33000183105469,
          109.11000061035156,
          108.44999694824219,
          107.9000015258789,
          109.43000030517578,
          110.6500015258789,
          110.41999816894531
         ]
        },
        {
         "name": "LSTM",
         "type": "scatter",
         "y": [
          107.3499984741211,
          105.47000122070312,
          107.80000305175781,
          108.33000183105469,
          109.11000061035156,
          108.44999694824219,
          107.9000015258789,
          109.43000030517578,
          110.6500015258789,
          108.4488868254358
         ]
        },
        {
         "name": "GRU",
         "type": "scatter",
         "y": [
          107.3499984741211,
          105.47000122070312,
          107.80000305175781,
          108.33000183105469,
          109.11000061035156,
          108.44999694824219,
          107.9000015258789,
          109.43000030517578,
          110.6500015258789,
          109.39931518099661
         ]
        }
       ],
       "layout": {
        "template": {
         "data": {
          "bar": [
           {
            "error_x": {
             "color": "#2a3f5f"
            },
            "error_y": {
             "color": "#2a3f5f"
            },
            "marker": {
             "line": {
              "color": "#E5ECF6",
              "width": 0.5
             },
             "pattern": {
              "fillmode": "overlay",
              "size": 10,
              "solidity": 0.2
             }
            },
            "type": "bar"
           }
          ],
          "barpolar": [
           {
            "marker": {
             "line": {
              "color": "#E5ECF6",
              "width": 0.5
             },
             "pattern": {
              "fillmode": "overlay",
              "size": 10,
              "solidity": 0.2
             }
            },
            "type": "barpolar"
           }
          ],
          "carpet": [
           {
            "aaxis": {
             "endlinecolor": "#2a3f5f",
             "gridcolor": "white",
             "linecolor": "white",
             "minorgridcolor": "white",
             "startlinecolor": "#2a3f5f"
            },
            "baxis": {
             "endlinecolor": "#2a3f5f",
             "gridcolor": "white",
             "linecolor": "white",
             "minorgridcolor": "white",
             "startlinecolor": "#2a3f5f"
            },
            "type": "carpet"
           }
          ],
          "choropleth": [
           {
            "colorbar": {
             "outlinewidth": 0,
             "ticks": ""
            },
            "type": "choropleth"
           }
          ],
          "contour": [
           {
            "colorbar": {
             "outlinewidth": 0,
             "ticks": ""
            },
            "colorscale": [
             [
              0,
              "#0d0887"
             ],
             [
              0.1111111111111111,
              "#46039f"
             ],
             [
              0.2222222222222222,
              "#7201a8"
             ],
             [
              0.3333333333333333,
              "#9c179e"
             ],
             [
              0.4444444444444444,
              "#bd3786"
             ],
             [
              0.5555555555555556,
              "#d8576b"
             ],
             [
              0.6666666666666666,
              "#ed7953"
             ],
             [
              0.7777777777777778,
              "#fb9f3a"
             ],
             [
              0.8888888888888888,
              "#fdca26"
             ],
             [
              1,
              "#f0f921"
             ]
            ],
            "type": "contour"
           }
          ],
          "contourcarpet": [
           {
            "colorbar": {
             "outlinewidth": 0,
             "ticks": ""
            },
            "type": "contourcarpet"
           }
          ],
          "heatmap": [
           {
            "colorbar": {
             "outlinewidth": 0,
             "ticks": ""
            },
            "colorscale": [
             [
              0,
              "#0d0887"
             ],
             [
              0.1111111111111111,
              "#46039f"
             ],
             [
              0.2222222222222222,
              "#7201a8"
             ],
             [
              0.3333333333333333,
              "#9c179e"
             ],
             [
              0.4444444444444444,
              "#bd3786"
             ],
             [
              0.5555555555555556,
              "#d8576b"
             ],
             [
              0.6666666666666666,
              "#ed7953"
             ],
             [
              0.7777777777777778,
              "#fb9f3a"
             ],
             [
              0.8888888888888888,
              "#fdca26"
             ],
             [
              1,
              "#f0f921"
             ]
            ],
            "type": "heatmap"
           }
          ],
          "heatmapgl": [
           {
            "colorbar": {
             "outlinewidth": 0,
             "ticks": ""
            },
            "colorscale": [
             [
              0,
              "#0d0887"
             ],
             [
              0.1111111111111111,
              "#46039f"
             ],
             [
              0.2222222222222222,
              "#7201a8"
             ],
             [
              0.3333333333333333,
              "#9c179e"
             ],
             [
              0.4444444444444444,
              "#bd3786"
             ],
             [
              0.5555555555555556,
              "#d8576b"
             ],
             [
              0.6666666666666666,
              "#ed7953"
             ],
             [
              0.7777777777777778,
              "#fb9f3a"
             ],
             [
              0.8888888888888888,
              "#fdca26"
             ],
             [
              1,
              "#f0f921"
             ]
            ],
            "type": "heatmapgl"
           }
          ],
          "histogram": [
           {
            "marker": {
             "pattern": {
              "fillmode": "overlay",
              "size": 10,
              "solidity": 0.2
             }
            },
            "type": "histogram"
           }
          ],
          "histogram2d": [
           {
            "colorbar": {
             "outlinewidth": 0,
             "ticks": ""
            },
            "colorscale": [
             [
              0,
              "#0d0887"
             ],
             [
              0.1111111111111111,
              "#46039f"
             ],
             [
              0.2222222222222222,
              "#7201a8"
             ],
             [
              0.3333333333333333,
              "#9c179e"
             ],
             [
              0.4444444444444444,
              "#bd3786"
             ],
             [
              0.5555555555555556,
              "#d8576b"
             ],
             [
              0.6666666666666666,
              "#ed7953"
             ],
             [
              0.7777777777777778,
              "#fb9f3a"
             ],
             [
              0.8888888888888888,
              "#fdca26"
             ],
             [
              1,
              "#f0f921"
             ]
            ],
            "type": "histogram2d"
           }
          ],
          "histogram2dcontour": [
           {
            "colorbar": {
             "outlinewidth": 0,
             "ticks": ""
            },
            "colorscale": [
             [
              0,
              "#0d0887"
             ],
             [
              0.1111111111111111,
              "#46039f"
             ],
             [
              0.2222222222222222,
              "#7201a8"
             ],
             [
              0.3333333333333333,
              "#9c179e"
             ],
             [
              0.4444444444444444,
              "#bd3786"
             ],
             [
              0.5555555555555556,
              "#d8576b"
             ],
             [
              0.6666666666666666,
              "#ed7953"
             ],
             [
              0.7777777777777778,
              "#fb9f3a"
             ],
             [
              0.8888888888888888,
              "#fdca26"
             ],
             [
              1,
              "#f0f921"
             ]
            ],
            "type": "histogram2dcontour"
           }
          ],
          "mesh3d": [
           {
            "colorbar": {
             "outlinewidth": 0,
             "ticks": ""
            },
            "type": "mesh3d"
           }
          ],
          "parcoords": [
           {
            "line": {
             "colorbar": {
              "outlinewidth": 0,
              "ticks": ""
             }
            },
            "type": "parcoords"
           }
          ],
          "pie": [
           {
            "automargin": true,
            "type": "pie"
           }
          ],
          "scatter": [
           {
            "fillpattern": {
             "fillmode": "overlay",
             "size": 10,
             "solidity": 0.2
            },
            "type": "scatter"
           }
          ],
          "scatter3d": [
           {
            "line": {
             "colorbar": {
              "outlinewidth": 0,
              "ticks": ""
             }
            },
            "marker": {
             "colorbar": {
              "outlinewidth": 0,
              "ticks": ""
             }
            },
            "type": "scatter3d"
           }
          ],
          "scattercarpet": [
           {
            "marker": {
             "colorbar": {
              "outlinewidth": 0,
              "ticks": ""
             }
            },
            "type": "scattercarpet"
           }
          ],
          "scattergeo": [
           {
            "marker": {
             "colorbar": {
              "outlinewidth": 0,
              "ticks": ""
             }
            },
            "type": "scattergeo"
           }
          ],
          "scattergl": [
           {
            "marker": {
             "colorbar": {
              "outlinewidth": 0,
              "ticks": ""
             }
            },
            "type": "scattergl"
           }
          ],
          "scattermapbox": [
           {
            "marker": {
             "colorbar": {
              "outlinewidth": 0,
              "ticks": ""
             }
            },
            "type": "scattermapbox"
           }
          ],
          "scatterpolar": [
           {
            "marker": {
             "colorbar": {
              "outlinewidth": 0,
              "ticks": ""
             }
            },
            "type": "scatterpolar"
           }
          ],
          "scatterpolargl": [
           {
            "marker": {
             "colorbar": {
              "outlinewidth": 0,
              "ticks": ""
             }
            },
            "type": "scatterpolargl"
           }
          ],
          "scatterternary": [
           {
            "marker": {
             "colorbar": {
              "outlinewidth": 0,
              "ticks": ""
             }
            },
            "type": "scatterternary"
           }
          ],
          "surface": [
           {
            "colorbar": {
             "outlinewidth": 0,
             "ticks": ""
            },
            "colorscale": [
             [
              0,
              "#0d0887"
             ],
             [
              0.1111111111111111,
              "#46039f"
             ],
             [
              0.2222222222222222,
              "#7201a8"
             ],
             [
              0.3333333333333333,
              "#9c179e"
             ],
             [
              0.4444444444444444,
              "#bd3786"
             ],
             [
              0.5555555555555556,
              "#d8576b"
             ],
             [
              0.6666666666666666,
              "#ed7953"
             ],
             [
              0.7777777777777778,
              "#fb9f3a"
             ],
             [
              0.8888888888888888,
              "#fdca26"
             ],
             [
              1,
              "#f0f921"
             ]
            ],
            "type": "surface"
           }
          ],
          "table": [
           {
            "cells": {
             "fill": {
              "color": "#EBF0F8"
             },
             "line": {
              "color": "white"
             }
            },
            "header": {
             "fill": {
              "color": "#C8D4E3"
             },
             "line": {
              "color": "white"
             }
            },
            "type": "table"
           }
          ]
         },
         "layout": {
          "annotationdefaults": {
           "arrowcolor": "#2a3f5f",
           "arrowhead": 0,
           "arrowwidth": 1
          },
          "autotypenumbers": "strict",
          "coloraxis": {
           "colorbar": {
            "outlinewidth": 0,
            "ticks": ""
           }
          },
          "colorscale": {
           "diverging": [
            [
             0,
             "#8e0152"
            ],
            [
             0.1,
             "#c51b7d"
            ],
            [
             0.2,
             "#de77ae"
            ],
            [
             0.3,
             "#f1b6da"
            ],
            [
             0.4,
             "#fde0ef"
            ],
            [
             0.5,
             "#f7f7f7"
            ],
            [
             0.6,
             "#e6f5d0"
            ],
            [
             0.7,
             "#b8e186"
            ],
            [
             0.8,
             "#7fbc41"
            ],
            [
             0.9,
             "#4d9221"
            ],
            [
             1,
             "#276419"
            ]
           ],
           "sequential": [
            [
             0,
             "#0d0887"
            ],
            [
             0.1111111111111111,
             "#46039f"
            ],
            [
             0.2222222222222222,
             "#7201a8"
            ],
            [
             0.3333333333333333,
             "#9c179e"
            ],
            [
             0.4444444444444444,
             "#bd3786"
            ],
            [
             0.5555555555555556,
             "#d8576b"
            ],
            [
             0.6666666666666666,
             "#ed7953"
            ],
            [
             0.7777777777777778,
             "#fb9f3a"
            ],
            [
             0.8888888888888888,
             "#fdca26"
            ],
            [
             1,
             "#f0f921"
            ]
           ],
           "sequentialminus": [
            [
             0,
             "#0d0887"
            ],
            [
             0.1111111111111111,
             "#46039f"
            ],
            [
             0.2222222222222222,
             "#7201a8"
            ],
            [
             0.3333333333333333,
             "#9c179e"
            ],
            [
             0.4444444444444444,
             "#bd3786"
            ],
            [
             0.5555555555555556,
             "#d8576b"
            ],
            [
             0.6666666666666666,
             "#ed7953"
            ],
            [
             0.7777777777777778,
             "#fb9f3a"
            ],
            [
             0.8888888888888888,
             "#fdca26"
            ],
            [
             1,
             "#f0f921"
            ]
           ]
          },
          "colorway": [
           "#636efa",
           "#EF553B",
           "#00cc96",
           "#ab63fa",
           "#FFA15A",
           "#19d3f3",
           "#FF6692",
           "#B6E880",
           "#FF97FF",
           "#FECB52"
          ],
          "font": {
           "color": "#2a3f5f"
          },
          "geo": {
           "bgcolor": "white",
           "lakecolor": "white",
           "landcolor": "#E5ECF6",
           "showlakes": true,
           "showland": true,
           "subunitcolor": "white"
          },
          "hoverlabel": {
           "align": "left"
          },
          "hovermode": "closest",
          "mapbox": {
           "style": "light"
          },
          "paper_bgcolor": "white",
          "plot_bgcolor": "#E5ECF6",
          "polar": {
           "angularaxis": {
            "gridcolor": "white",
            "linecolor": "white",
            "ticks": ""
           },
           "bgcolor": "#E5ECF6",
           "radialaxis": {
            "gridcolor": "white",
            "linecolor": "white",
            "ticks": ""
           }
          },
          "scene": {
           "xaxis": {
            "backgroundcolor": "#E5ECF6",
            "gridcolor": "white",
            "gridwidth": 2,
            "linecolor": "white",
            "showbackground": true,
            "ticks": "",
            "zerolinecolor": "white"
           },
           "yaxis": {
            "backgroundcolor": "#E5ECF6",
            "gridcolor": "white",
            "gridwidth": 2,
            "linecolor": "white",
            "showbackground": true,
            "ticks": "",
            "zerolinecolor": "white"
           },
           "zaxis": {
            "backgroundcolor": "#E5ECF6",
            "gridcolor": "white",
            "gridwidth": 2,
            "linecolor": "white",
            "showbackground": true,
            "ticks": "",
            "zerolinecolor": "white"
           }
          },
          "shapedefaults": {
           "line": {
            "color": "#2a3f5f"
           }
          },
          "ternary": {
           "aaxis": {
            "gridcolor": "white",
            "linecolor": "white",
            "ticks": ""
           },
           "baxis": {
            "gridcolor": "white",
            "linecolor": "white",
            "ticks": ""
           },
           "bgcolor": "#E5ECF6",
           "caxis": {
            "gridcolor": "white",
            "linecolor": "white",
            "ticks": ""
           }
          },
          "title": {
           "x": 0.05
          },
          "xaxis": {
           "automargin": true,
           "gridcolor": "white",
           "linecolor": "white",
           "ticks": "",
           "title": {
            "standoff": 15
           },
           "zerolinecolor": "white",
           "zerolinewidth": 2
          },
          "yaxis": {
           "automargin": true,
           "gridcolor": "white",
           "linecolor": "white",
           "ticks": "",
           "title": {
            "standoff": 15
           },
           "zerolinecolor": "white",
           "zerolinewidth": 2
          }
         }
        },
        "xaxis": {
         "title": {
          "text": "periodo em dias"
         }
        },
        "yaxis": {
         "title": {
          "text": "Valor de Fechamento em R$"
         }
        }
       }
      },
      "text/html": [
       "<div>                            <div id=\"d9bd5235-0cb4-4075-ae23-6cfdef5c99bc\" class=\"plotly-graph-div\" style=\"height:525px; width:100%;\"></div>            <script type=\"text/javascript\">                require([\"plotly\"], function(Plotly) {                    window.PLOTLYENV=window.PLOTLYENV || {};                                    if (document.getElementById(\"d9bd5235-0cb4-4075-ae23-6cfdef5c99bc\")) {                    Plotly.newPlot(                        \"d9bd5235-0cb4-4075-ae23-6cfdef5c99bc\",                        [{\"name\":\"Real\",\"y\":[107.3499984741211,105.47000122070312,107.80000305175781,108.33000183105469,109.11000061035156,108.44999694824219,107.9000015258789,109.43000030517578,110.6500015258789,110.41999816894531],\"type\":\"scatter\"},{\"name\":\"LSTM\",\"y\":[107.3499984741211,105.47000122070312,107.80000305175781,108.33000183105469,109.11000061035156,108.44999694824219,107.9000015258789,109.43000030517578,110.6500015258789,108.4488868254358],\"type\":\"scatter\"},{\"name\":\"GRU\",\"y\":[107.3499984741211,105.47000122070312,107.80000305175781,108.33000183105469,109.11000061035156,108.44999694824219,107.9000015258789,109.43000030517578,110.6500015258789,109.39931518099661],\"type\":\"scatter\"}],                        {\"template\":{\"data\":{\"histogram2dcontour\":[{\"type\":\"histogram2dcontour\",\"colorbar\":{\"outlinewidth\":0,\"ticks\":\"\"},\"colorscale\":[[0.0,\"#0d0887\"],[0.1111111111111111,\"#46039f\"],[0.2222222222222222,\"#7201a8\"],[0.3333333333333333,\"#9c179e\"],[0.4444444444444444,\"#bd3786\"],[0.5555555555555556,\"#d8576b\"],[0.6666666666666666,\"#ed7953\"],[0.7777777777777778,\"#fb9f3a\"],[0.8888888888888888,\"#fdca26\"],[1.0,\"#f0f921\"]]}],\"choropleth\":[{\"type\":\"choropleth\",\"colorbar\":{\"outlinewidth\":0,\"ticks\":\"\"}}],\"histogram2d\":[{\"type\":\"histogram2d\",\"colorbar\":{\"outlinewidth\":0,\"ticks\":\"\"},\"colorscale\":[[0.0,\"#0d0887\"],[0.1111111111111111,\"#46039f\"],[0.2222222222222222,\"#7201a8\"],[0.3333333333333333,\"#9c179e\"],[0.4444444444444444,\"#bd3786\"],[0.5555555555555556,\"#d8576b\"],[0.6666666666666666,\"#ed7953\"],[0.7777777777777778,\"#fb9f3a\"],[0.8888888888888888,\"#fdca26\"],[1.0,\"#f0f921\"]]}],\"heatmap\":[{\"type\":\"heatmap\",\"colorbar\":{\"outlinewidth\":0,\"ticks\":\"\"},\"colorscale\":[[0.0,\"#0d0887\"],[0.1111111111111111,\"#46039f\"],[0.2222222222222222,\"#7201a8\"],[0.3333333333333333,\"#9c179e\"],[0.4444444444444444,\"#bd3786\"],[0.5555555555555556,\"#d8576b\"],[0.6666666666666666,\"#ed7953\"],[0.7777777777777778,\"#fb9f3a\"],[0.8888888888888888,\"#fdca26\"],[1.0,\"#f0f921\"]]}],\"heatmapgl\":[{\"type\":\"heatmapgl\",\"colorbar\":{\"outlinewidth\":0,\"ticks\":\"\"},\"colorscale\":[[0.0,\"#0d0887\"],[0.1111111111111111,\"#46039f\"],[0.2222222222222222,\"#7201a8\"],[0.3333333333333333,\"#9c179e\"],[0.4444444444444444,\"#bd3786\"],[0.5555555555555556,\"#d8576b\"],[0.6666666666666666,\"#ed7953\"],[0.7777777777777778,\"#fb9f3a\"],[0.8888888888888888,\"#fdca26\"],[1.0,\"#f0f921\"]]}],\"contourcarpet\":[{\"type\":\"contourcarpet\",\"colorbar\":{\"outlinewidth\":0,\"ticks\":\"\"}}],\"contour\":[{\"type\":\"contour\",\"colorbar\":{\"outlinewidth\":0,\"ticks\":\"\"},\"colorscale\":[[0.0,\"#0d0887\"],[0.1111111111111111,\"#46039f\"],[0.2222222222222222,\"#7201a8\"],[0.3333333333333333,\"#9c179e\"],[0.4444444444444444,\"#bd3786\"],[0.5555555555555556,\"#d8576b\"],[0.6666666666666666,\"#ed7953\"],[0.7777777777777778,\"#fb9f3a\"],[0.8888888888888888,\"#fdca26\"],[1.0,\"#f0f921\"]]}],\"surface\":[{\"type\":\"surface\",\"colorbar\":{\"outlinewidth\":0,\"ticks\":\"\"},\"colorscale\":[[0.0,\"#0d0887\"],[0.1111111111111111,\"#46039f\"],[0.2222222222222222,\"#7201a8\"],[0.3333333333333333,\"#9c179e\"],[0.4444444444444444,\"#bd3786\"],[0.5555555555555556,\"#d8576b\"],[0.6666666666666666,\"#ed7953\"],[0.7777777777777778,\"#fb9f3a\"],[0.8888888888888888,\"#fdca26\"],[1.0,\"#f0f921\"]]}],\"mesh3d\":[{\"type\":\"mesh3d\",\"colorbar\":{\"outlinewidth\":0,\"ticks\":\"\"}}],\"scatter\":[{\"fillpattern\":{\"fillmode\":\"overlay\",\"size\":10,\"solidity\":0.2},\"type\":\"scatter\"}],\"parcoords\":[{\"type\":\"parcoords\",\"line\":{\"colorbar\":{\"outlinewidth\":0,\"ticks\":\"\"}}}],\"scatterpolargl\":[{\"type\":\"scatterpolargl\",\"marker\":{\"colorbar\":{\"outlinewidth\":0,\"ticks\":\"\"}}}],\"bar\":[{\"error_x\":{\"color\":\"#2a3f5f\"},\"error_y\":{\"color\":\"#2a3f5f\"},\"marker\":{\"line\":{\"color\":\"#E5ECF6\",\"width\":0.5},\"pattern\":{\"fillmode\":\"overlay\",\"size\":10,\"solidity\":0.2}},\"type\":\"bar\"}],\"scattergeo\":[{\"type\":\"scattergeo\",\"marker\":{\"colorbar\":{\"outlinewidth\":0,\"ticks\":\"\"}}}],\"scatterpolar\":[{\"type\":\"scatterpolar\",\"marker\":{\"colorbar\":{\"outlinewidth\":0,\"ticks\":\"\"}}}],\"histogram\":[{\"marker\":{\"pattern\":{\"fillmode\":\"overlay\",\"size\":10,\"solidity\":0.2}},\"type\":\"histogram\"}],\"scattergl\":[{\"type\":\"scattergl\",\"marker\":{\"colorbar\":{\"outlinewidth\":0,\"ticks\":\"\"}}}],\"scatter3d\":[{\"type\":\"scatter3d\",\"line\":{\"colorbar\":{\"outlinewidth\":0,\"ticks\":\"\"}},\"marker\":{\"colorbar\":{\"outlinewidth\":0,\"ticks\":\"\"}}}],\"scattermapbox\":[{\"type\":\"scattermapbox\",\"marker\":{\"colorbar\":{\"outlinewidth\":0,\"ticks\":\"\"}}}],\"scatterternary\":[{\"type\":\"scatterternary\",\"marker\":{\"colorbar\":{\"outlinewidth\":0,\"ticks\":\"\"}}}],\"scattercarpet\":[{\"type\":\"scattercarpet\",\"marker\":{\"colorbar\":{\"outlinewidth\":0,\"ticks\":\"\"}}}],\"carpet\":[{\"aaxis\":{\"endlinecolor\":\"#2a3f5f\",\"gridcolor\":\"white\",\"linecolor\":\"white\",\"minorgridcolor\":\"white\",\"startlinecolor\":\"#2a3f5f\"},\"baxis\":{\"endlinecolor\":\"#2a3f5f\",\"gridcolor\":\"white\",\"linecolor\":\"white\",\"minorgridcolor\":\"white\",\"startlinecolor\":\"#2a3f5f\"},\"type\":\"carpet\"}],\"table\":[{\"cells\":{\"fill\":{\"color\":\"#EBF0F8\"},\"line\":{\"color\":\"white\"}},\"header\":{\"fill\":{\"color\":\"#C8D4E3\"},\"line\":{\"color\":\"white\"}},\"type\":\"table\"}],\"barpolar\":[{\"marker\":{\"line\":{\"color\":\"#E5ECF6\",\"width\":0.5},\"pattern\":{\"fillmode\":\"overlay\",\"size\":10,\"solidity\":0.2}},\"type\":\"barpolar\"}],\"pie\":[{\"automargin\":true,\"type\":\"pie\"}]},\"layout\":{\"autotypenumbers\":\"strict\",\"colorway\":[\"#636efa\",\"#EF553B\",\"#00cc96\",\"#ab63fa\",\"#FFA15A\",\"#19d3f3\",\"#FF6692\",\"#B6E880\",\"#FF97FF\",\"#FECB52\"],\"font\":{\"color\":\"#2a3f5f\"},\"hovermode\":\"closest\",\"hoverlabel\":{\"align\":\"left\"},\"paper_bgcolor\":\"white\",\"plot_bgcolor\":\"#E5ECF6\",\"polar\":{\"bgcolor\":\"#E5ECF6\",\"angularaxis\":{\"gridcolor\":\"white\",\"linecolor\":\"white\",\"ticks\":\"\"},\"radialaxis\":{\"gridcolor\":\"white\",\"linecolor\":\"white\",\"ticks\":\"\"}},\"ternary\":{\"bgcolor\":\"#E5ECF6\",\"aaxis\":{\"gridcolor\":\"white\",\"linecolor\":\"white\",\"ticks\":\"\"},\"baxis\":{\"gridcolor\":\"white\",\"linecolor\":\"white\",\"ticks\":\"\"},\"caxis\":{\"gridcolor\":\"white\",\"linecolor\":\"white\",\"ticks\":\"\"}},\"coloraxis\":{\"colorbar\":{\"outlinewidth\":0,\"ticks\":\"\"}},\"colorscale\":{\"sequential\":[[0.0,\"#0d0887\"],[0.1111111111111111,\"#46039f\"],[0.2222222222222222,\"#7201a8\"],[0.3333333333333333,\"#9c179e\"],[0.4444444444444444,\"#bd3786\"],[0.5555555555555556,\"#d8576b\"],[0.6666666666666666,\"#ed7953\"],[0.7777777777777778,\"#fb9f3a\"],[0.8888888888888888,\"#fdca26\"],[1.0,\"#f0f921\"]],\"sequentialminus\":[[0.0,\"#0d0887\"],[0.1111111111111111,\"#46039f\"],[0.2222222222222222,\"#7201a8\"],[0.3333333333333333,\"#9c179e\"],[0.4444444444444444,\"#bd3786\"],[0.5555555555555556,\"#d8576b\"],[0.6666666666666666,\"#ed7953\"],[0.7777777777777778,\"#fb9f3a\"],[0.8888888888888888,\"#fdca26\"],[1.0,\"#f0f921\"]],\"diverging\":[[0,\"#8e0152\"],[0.1,\"#c51b7d\"],[0.2,\"#de77ae\"],[0.3,\"#f1b6da\"],[0.4,\"#fde0ef\"],[0.5,\"#f7f7f7\"],[0.6,\"#e6f5d0\"],[0.7,\"#b8e186\"],[0.8,\"#7fbc41\"],[0.9,\"#4d9221\"],[1,\"#276419\"]]},\"xaxis\":{\"gridcolor\":\"white\",\"linecolor\":\"white\",\"ticks\":\"\",\"title\":{\"standoff\":15},\"zerolinecolor\":\"white\",\"automargin\":true,\"zerolinewidth\":2},\"yaxis\":{\"gridcolor\":\"white\",\"linecolor\":\"white\",\"ticks\":\"\",\"title\":{\"standoff\":15},\"zerolinecolor\":\"white\",\"automargin\":true,\"zerolinewidth\":2},\"scene\":{\"xaxis\":{\"backgroundcolor\":\"#E5ECF6\",\"gridcolor\":\"white\",\"linecolor\":\"white\",\"showbackground\":true,\"ticks\":\"\",\"zerolinecolor\":\"white\",\"gridwidth\":2},\"yaxis\":{\"backgroundcolor\":\"#E5ECF6\",\"gridcolor\":\"white\",\"linecolor\":\"white\",\"showbackground\":true,\"ticks\":\"\",\"zerolinecolor\":\"white\",\"gridwidth\":2},\"zaxis\":{\"backgroundcolor\":\"#E5ECF6\",\"gridcolor\":\"white\",\"linecolor\":\"white\",\"showbackground\":true,\"ticks\":\"\",\"zerolinecolor\":\"white\",\"gridwidth\":2}},\"shapedefaults\":{\"line\":{\"color\":\"#2a3f5f\"}},\"annotationdefaults\":{\"arrowcolor\":\"#2a3f5f\",\"arrowhead\":0,\"arrowwidth\":1},\"geo\":{\"bgcolor\":\"white\",\"landcolor\":\"#E5ECF6\",\"subunitcolor\":\"white\",\"showland\":true,\"showlakes\":true,\"lakecolor\":\"white\"},\"title\":{\"x\":0.05},\"mapbox\":{\"style\":\"light\"}}},\"yaxis\":{\"title\":{\"text\":\"Valor de Fechamento em R$\"}},\"xaxis\":{\"title\":{\"text\":\"periodo em dias\"}}},                        {\"responsive\": true}                    ).then(function(){\n",
       "                            \n",
       "var gd = document.getElementById('d9bd5235-0cb4-4075-ae23-6cfdef5c99bc');\n",
       "var x = new MutationObserver(function (mutations, observer) {{\n",
       "        var display = window.getComputedStyle(gd).display;\n",
       "        if (!display || display === 'none') {{\n",
       "            console.log([gd, 'removed!']);\n",
       "            Plotly.purge(gd);\n",
       "            observer.disconnect();\n",
       "        }}\n",
       "}});\n",
       "\n",
       "// Listen for the removal of the full notebook cells\n",
       "var notebookContainer = gd.closest('#notebook-container');\n",
       "if (notebookContainer) {{\n",
       "    x.observe(notebookContainer, {childList: true});\n",
       "}}\n",
       "\n",
       "// Listen for the clearing of the current output cell\n",
       "var outputEl = gd.closest('.output');\n",
       "if (outputEl) {{\n",
       "    x.observe(outputEl, {childList: true});\n",
       "}}\n",
       "\n",
       "                        })                };                });            </script>        </div>"
      ]
     },
     "metadata": {},
     "output_type": "display_data"
    }
   ],
   "source": [
    "import plotly.graph_objs as go\n",
    "fig = go.Figure()\n",
    "\n",
    "fig.add_trace(go.Scatter(\n",
    "   y=bova11['close'][-10:],\n",
    "   name=\"Real\")\n",
    ")\n",
    "\n",
    "fig.add_trace(go.Scatter(\n",
    "   y=pred_1_lstm['close'][-10:],\n",
    "   name=\"LSTM\")\n",
    ")\n",
    "\n",
    "fig.add_trace(go.Scatter(\n",
    "   y=pred_1_gru.close[-10:],\n",
    "   name=\"GRU\")\n",
    ")\n",
    "\n",
    "fig.update_layout(\n",
    "   #title=\"Banda de Bollinger superior e inferior dos ultimos 60 dias de fechamento de 2009 a Fev 2023\",\n",
    "    yaxis_title=\"Valor de Fechamento em R$\",\n",
    "    xaxis_title=\"periodo em dias\",\n",
    "   #legend_title=\"legend\",\n",
    ")\n",
    "fig.show()"
   ]
  },
  {
   "cell_type": "code",
   "execution_count": 107,
   "id": "ff1e70c4",
   "metadata": {},
   "outputs": [
    {
     "data": {
      "text/html": [
       "<div>\n",
       "<style scoped>\n",
       "    .dataframe tbody tr th:only-of-type {\n",
       "        vertical-align: middle;\n",
       "    }\n",
       "\n",
       "    .dataframe tbody tr th {\n",
       "        vertical-align: top;\n",
       "    }\n",
       "\n",
       "    .dataframe thead th {\n",
       "        text-align: right;\n",
       "    }\n",
       "</style>\n",
       "<table border=\"1\" class=\"dataframe\">\n",
       "  <thead>\n",
       "    <tr style=\"text-align: right;\">\n",
       "      <th></th>\n",
       "      <th>open</th>\n",
       "      <th>high</th>\n",
       "      <th>low</th>\n",
       "      <th>close</th>\n",
       "      <th>close_change</th>\n",
       "      <th>ma_3d</th>\n",
       "      <th>ma_10d</th>\n",
       "      <th>ma_30d</th>\n",
       "      <th>ma_60d</th>\n",
       "      <th>std_7</th>\n",
       "      <th>...</th>\n",
       "      <th>std_60</th>\n",
       "      <th>upper3</th>\n",
       "      <th>lower3</th>\n",
       "      <th>upper30</th>\n",
       "      <th>lower30</th>\n",
       "      <th>upper60</th>\n",
       "      <th>lower60</th>\n",
       "      <th>RSI</th>\n",
       "      <th>target</th>\n",
       "      <th>targetNextClose</th>\n",
       "    </tr>\n",
       "  </thead>\n",
       "  <tbody>\n",
       "    <tr>\n",
       "      <th>0</th>\n",
       "      <td>38.279999</td>\n",
       "      <td>40.320000</td>\n",
       "      <td>37.939999</td>\n",
       "      <td>40.320000</td>\n",
       "      <td>0.000000</td>\n",
       "      <td>41.160000</td>\n",
       "      <td>41.496000</td>\n",
       "      <td>40.072667</td>\n",
       "      <td>40.216334</td>\n",
       "      <td>0.987387</td>\n",
       "      <td>...</td>\n",
       "      <td>1.394817</td>\n",
       "      <td>43.535879</td>\n",
       "      <td>38.784121</td>\n",
       "      <td>42.992476</td>\n",
       "      <td>37.152858</td>\n",
       "      <td>43.005967</td>\n",
       "      <td>37.426700</td>\n",
       "      <td>NaN</td>\n",
       "      <td>2.040001</td>\n",
       "      <td>42.000000</td>\n",
       "    </tr>\n",
       "    <tr>\n",
       "      <th>1</th>\n",
       "      <td>40.200001</td>\n",
       "      <td>42.000000</td>\n",
       "      <td>39.700001</td>\n",
       "      <td>42.000000</td>\n",
       "      <td>1.680000</td>\n",
       "      <td>41.546666</td>\n",
       "      <td>41.580000</td>\n",
       "      <td>39.948125</td>\n",
       "      <td>40.269033</td>\n",
       "      <td>0.941319</td>\n",
       "      <td>...</td>\n",
       "      <td>1.402411</td>\n",
       "      <td>43.695279</td>\n",
       "      <td>39.398054</td>\n",
       "      <td>42.939715</td>\n",
       "      <td>36.956536</td>\n",
       "      <td>43.073854</td>\n",
       "      <td>37.464211</td>\n",
       "      <td>NaN</td>\n",
       "      <td>1.799999</td>\n",
       "      <td>42.320000</td>\n",
       "    </tr>\n",
       "    <tr>\n",
       "      <th>2</th>\n",
       "      <td>42.060001</td>\n",
       "      <td>42.320000</td>\n",
       "      <td>41.549999</td>\n",
       "      <td>42.320000</td>\n",
       "      <td>0.320000</td>\n",
       "      <td>41.653333</td>\n",
       "      <td>41.311429</td>\n",
       "      <td>39.892353</td>\n",
       "      <td>40.322813</td>\n",
       "      <td>0.866718</td>\n",
       "      <td>...</td>\n",
       "      <td>1.412751</td>\n",
       "      <td>43.437411</td>\n",
       "      <td>39.869255</td>\n",
       "      <td>42.825231</td>\n",
       "      <td>36.959475</td>\n",
       "      <td>43.148315</td>\n",
       "      <td>37.497311</td>\n",
       "      <td>NaN</td>\n",
       "      <td>0.259998</td>\n",
       "      <td>40.639999</td>\n",
       "    </tr>\n",
       "    <tr>\n",
       "      <th>3</th>\n",
       "      <td>41.750000</td>\n",
       "      <td>41.770000</td>\n",
       "      <td>40.450001</td>\n",
       "      <td>40.639999</td>\n",
       "      <td>-1.680000</td>\n",
       "      <td>41.720000</td>\n",
       "      <td>41.147500</td>\n",
       "      <td>39.842223</td>\n",
       "      <td>40.313031</td>\n",
       "      <td>1.063445</td>\n",
       "      <td>...</td>\n",
       "      <td>1.391637</td>\n",
       "      <td>43.594461</td>\n",
       "      <td>39.845539</td>\n",
       "      <td>42.719153</td>\n",
       "      <td>36.965292</td>\n",
       "      <td>43.096304</td>\n",
       "      <td>37.529757</td>\n",
       "      <td>NaN</td>\n",
       "      <td>-1.110001</td>\n",
       "      <td>42.200001</td>\n",
       "    </tr>\n",
       "    <tr>\n",
       "      <th>4</th>\n",
       "      <td>40.150002</td>\n",
       "      <td>42.200001</td>\n",
       "      <td>40.150002</td>\n",
       "      <td>42.200001</td>\n",
       "      <td>1.560001</td>\n",
       "      <td>41.613333</td>\n",
       "      <td>40.801111</td>\n",
       "      <td>39.897895</td>\n",
       "      <td>40.303530</td>\n",
       "      <td>1.118613</td>\n",
       "      <td>...</td>\n",
       "      <td>1.371508</td>\n",
       "      <td>43.311019</td>\n",
       "      <td>39.915647</td>\n",
       "      <td>42.735582</td>\n",
       "      <td>37.060208</td>\n",
       "      <td>43.046547</td>\n",
       "      <td>37.560513</td>\n",
       "      <td>NaN</td>\n",
       "      <td>2.049999</td>\n",
       "      <td>42.000000</td>\n",
       "    </tr>\n",
       "    <tr>\n",
       "      <th>...</th>\n",
       "      <td>...</td>\n",
       "      <td>...</td>\n",
       "      <td>...</td>\n",
       "      <td>...</td>\n",
       "      <td>...</td>\n",
       "      <td>...</td>\n",
       "      <td>...</td>\n",
       "      <td>...</td>\n",
       "      <td>...</td>\n",
       "      <td>...</td>\n",
       "      <td>...</td>\n",
       "      <td>...</td>\n",
       "      <td>...</td>\n",
       "      <td>...</td>\n",
       "      <td>...</td>\n",
       "      <td>...</td>\n",
       "      <td>...</td>\n",
       "      <td>...</td>\n",
       "      <td>...</td>\n",
       "      <td>...</td>\n",
       "      <td>...</td>\n",
       "    </tr>\n",
       "    <tr>\n",
       "      <th>3394</th>\n",
       "      <td>109.110001</td>\n",
       "      <td>109.150002</td>\n",
       "      <td>108.010002</td>\n",
       "      <td>108.449997</td>\n",
       "      <td>-0.660004</td>\n",
       "      <td>108.486666</td>\n",
       "      <td>108.491000</td>\n",
       "      <td>107.087600</td>\n",
       "      <td>105.573250</td>\n",
       "      <td>1.005667</td>\n",
       "      <td>...</td>\n",
       "      <td>3.157294</td>\n",
       "      <td>109.698331</td>\n",
       "      <td>107.275002</td>\n",
       "      <td>112.336505</td>\n",
       "      <td>101.838694</td>\n",
       "      <td>111.887839</td>\n",
       "      <td>99.258662</td>\n",
       "      <td>56.314016</td>\n",
       "      <td>-0.660004</td>\n",
       "      <td>107.900002</td>\n",
       "    </tr>\n",
       "    <tr>\n",
       "      <th>3395</th>\n",
       "      <td>108.889999</td>\n",
       "      <td>109.330002</td>\n",
       "      <td>107.879997</td>\n",
       "      <td>107.900002</td>\n",
       "      <td>-0.549995</td>\n",
       "      <td>108.593333</td>\n",
       "      <td>108.596001</td>\n",
       "      <td>107.135000</td>\n",
       "      <td>105.624616</td>\n",
       "      <td>1.053531</td>\n",
       "      <td>...</td>\n",
       "      <td>3.181591</td>\n",
       "      <td>110.143343</td>\n",
       "      <td>107.043323</td>\n",
       "      <td>112.474891</td>\n",
       "      <td>101.795109</td>\n",
       "      <td>111.987798</td>\n",
       "      <td>99.261433</td>\n",
       "      <td>54.687174</td>\n",
       "      <td>-0.989998</td>\n",
       "      <td>109.430000</td>\n",
       "    </tr>\n",
       "    <tr>\n",
       "      <th>3396</th>\n",
       "      <td>108.709999</td>\n",
       "      <td>109.430000</td>\n",
       "      <td>107.970001</td>\n",
       "      <td>109.430000</td>\n",
       "      <td>1.529999</td>\n",
       "      <td>109.326668</td>\n",
       "      <td>108.919000</td>\n",
       "      <td>107.330870</td>\n",
       "      <td>105.670000</td>\n",
       "      <td>1.044363</td>\n",
       "      <td>...</td>\n",
       "      <td>3.211480</td>\n",
       "      <td>112.082486</td>\n",
       "      <td>106.570850</td>\n",
       "      <td>112.425975</td>\n",
       "      <td>102.235764</td>\n",
       "      <td>112.092960</td>\n",
       "      <td>99.247041</td>\n",
       "      <td>58.279485</td>\n",
       "      <td>0.720001</td>\n",
       "      <td>110.650002</td>\n",
       "    </tr>\n",
       "    <tr>\n",
       "      <th>3397</th>\n",
       "      <td>109.000000</td>\n",
       "      <td>110.680000</td>\n",
       "      <td>108.209999</td>\n",
       "      <td>110.650002</td>\n",
       "      <td>1.220001</td>\n",
       "      <td>110.166667</td>\n",
       "      <td>109.123000</td>\n",
       "      <td>107.642273</td>\n",
       "      <td>105.774595</td>\n",
       "      <td>1.061239</td>\n",
       "      <td>...</td>\n",
       "      <td>3.189486</td>\n",
       "      <td>111.463175</td>\n",
       "      <td>108.870158</td>\n",
       "      <td>111.867206</td>\n",
       "      <td>103.417340</td>\n",
       "      <td>112.153568</td>\n",
       "      <td>99.395622</td>\n",
       "      <td>60.925992</td>\n",
       "      <td>1.650002</td>\n",
       "      <td>110.419998</td>\n",
       "    </tr>\n",
       "    <tr>\n",
       "      <th>3398</th>\n",
       "      <td>110.699997</td>\n",
       "      <td>111.099998</td>\n",
       "      <td>109.860001</td>\n",
       "      <td>110.419998</td>\n",
       "      <td>-0.230003</td>\n",
       "      <td>109.823334</td>\n",
       "      <td>109.130000</td>\n",
       "      <td>107.914762</td>\n",
       "      <td>105.926667</td>\n",
       "      <td>1.041406</td>\n",
       "      <td>...</td>\n",
       "      <td>3.095702</td>\n",
       "      <td>112.299324</td>\n",
       "      <td>107.347344</td>\n",
       "      <td>111.361764</td>\n",
       "      <td>104.467760</td>\n",
       "      <td>112.118071</td>\n",
       "      <td>99.735263</td>\n",
       "      <td>60.155206</td>\n",
       "      <td>-0.279999</td>\n",
       "      <td>108.400002</td>\n",
       "    </tr>\n",
       "  </tbody>\n",
       "</table>\n",
       "<p>3399 rows × 21 columns</p>\n",
       "</div>"
      ],
      "text/plain": [
       "            open        high         low       close  close_change  \\\n",
       "0      38.279999   40.320000   37.939999   40.320000      0.000000   \n",
       "1      40.200001   42.000000   39.700001   42.000000      1.680000   \n",
       "2      42.060001   42.320000   41.549999   42.320000      0.320000   \n",
       "3      41.750000   41.770000   40.450001   40.639999     -1.680000   \n",
       "4      40.150002   42.200001   40.150002   42.200001      1.560001   \n",
       "...          ...         ...         ...         ...           ...   \n",
       "3394  109.110001  109.150002  108.010002  108.449997     -0.660004   \n",
       "3395  108.889999  109.330002  107.879997  107.900002     -0.549995   \n",
       "3396  108.709999  109.430000  107.970001  109.430000      1.529999   \n",
       "3397  109.000000  110.680000  108.209999  110.650002      1.220001   \n",
       "3398  110.699997  111.099998  109.860001  110.419998     -0.230003   \n",
       "\n",
       "           ma_3d      ma_10d      ma_30d      ma_60d     std_7  ...    std_60  \\\n",
       "0      41.160000   41.496000   40.072667   40.216334  0.987387  ...  1.394817   \n",
       "1      41.546666   41.580000   39.948125   40.269033  0.941319  ...  1.402411   \n",
       "2      41.653333   41.311429   39.892353   40.322813  0.866718  ...  1.412751   \n",
       "3      41.720000   41.147500   39.842223   40.313031  1.063445  ...  1.391637   \n",
       "4      41.613333   40.801111   39.897895   40.303530  1.118613  ...  1.371508   \n",
       "...          ...         ...         ...         ...       ...  ...       ...   \n",
       "3394  108.486666  108.491000  107.087600  105.573250  1.005667  ...  3.157294   \n",
       "3395  108.593333  108.596001  107.135000  105.624616  1.053531  ...  3.181591   \n",
       "3396  109.326668  108.919000  107.330870  105.670000  1.044363  ...  3.211480   \n",
       "3397  110.166667  109.123000  107.642273  105.774595  1.061239  ...  3.189486   \n",
       "3398  109.823334  109.130000  107.914762  105.926667  1.041406  ...  3.095702   \n",
       "\n",
       "          upper3      lower3     upper30     lower30     upper60    lower60  \\\n",
       "0      43.535879   38.784121   42.992476   37.152858   43.005967  37.426700   \n",
       "1      43.695279   39.398054   42.939715   36.956536   43.073854  37.464211   \n",
       "2      43.437411   39.869255   42.825231   36.959475   43.148315  37.497311   \n",
       "3      43.594461   39.845539   42.719153   36.965292   43.096304  37.529757   \n",
       "4      43.311019   39.915647   42.735582   37.060208   43.046547  37.560513   \n",
       "...          ...         ...         ...         ...         ...        ...   \n",
       "3394  109.698331  107.275002  112.336505  101.838694  111.887839  99.258662   \n",
       "3395  110.143343  107.043323  112.474891  101.795109  111.987798  99.261433   \n",
       "3396  112.082486  106.570850  112.425975  102.235764  112.092960  99.247041   \n",
       "3397  111.463175  108.870158  111.867206  103.417340  112.153568  99.395622   \n",
       "3398  112.299324  107.347344  111.361764  104.467760  112.118071  99.735263   \n",
       "\n",
       "            RSI    target  targetNextClose  \n",
       "0           NaN  2.040001        42.000000  \n",
       "1           NaN  1.799999        42.320000  \n",
       "2           NaN  0.259998        40.639999  \n",
       "3           NaN -1.110001        42.200001  \n",
       "4           NaN  2.049999        42.000000  \n",
       "...         ...       ...              ...  \n",
       "3394  56.314016 -0.660004       107.900002  \n",
       "3395  54.687174 -0.989998       109.430000  \n",
       "3396  58.279485  0.720001       110.650002  \n",
       "3397  60.925992  1.650002       110.419998  \n",
       "3398  60.155206 -0.279999       108.400002  \n",
       "\n",
       "[3399 rows x 21 columns]"
      ]
     },
     "execution_count": 107,
     "metadata": {},
     "output_type": "execute_result"
    }
   ],
   "source": [
    "bova11"
   ]
  },
  {
   "cell_type": "code",
   "execution_count": 122,
   "id": "723c0268",
   "metadata": {},
   "outputs": [
    {
     "data": {
      "application/vnd.plotly.v1+json": {
       "config": {
        "plotlyServerURL": "https://plot.ly"
       },
       "data": [
        {
         "name": "Real",
         "type": "scatter",
         "y": [
          0.5,
          1.3600006103515625,
          -2.5,
          0.23000335693359375,
          2.220001220703125,
          1.0400009155273438,
          -2.4599990844726562,
          -0.23000335693359375,
          -0.6399993896484375,
          -0.5100021362304688,
          2.6200027465820312,
          0.6299972534179688,
          -0.6899948120117188,
          1.9699935913085938,
          -2.2900009155273438,
          -2.7099990844726562,
          -0.4499969482421875,
          0.1399993896484375,
          -1.0199966430664062,
          2.6599960327148438,
          5.94000244140625,
          -0.0500030517578125,
          0.970001220703125,
          0.15000152587890625,
          -0.69000244140625,
          -0.6999969482421875,
          -1.19000244140625,
          -0.6299972534179688,
          -2.0400009155273438,
          1.6800003051757812,
          2.0400009155273438,
          0.40999603271484375,
          0.5500030517578125,
          3.529998779296875,
          -4.290000915527344,
          -1.6599960327148438,
          -1.7000045776367188,
          1.220001220703125,
          3,
          -0.8499984741210938,
          0.6599960327148438,
          0.29000091552734375,
          0.9000015258789062,
          -2.779998779296875,
          1.0800018310546875,
          -2.5500030517578125,
          -3.6500015258789062,
          2.4500045776367188,
          0.6899948120117188,
          -3.1999969482421875,
          -0.34999847412109375,
          -0.8400039672851562,
          1.2300033569335938,
          -1.0100021362304688,
          0.1699981689453125,
          2.9599990844726562,
          -3.1299972534179688,
          0.0800018310546875,
          2.1399993896484375,
          1.2900009155273438,
          -1.5200042724609375,
          0.8899993896484375,
          -2.3199996948242188,
          1.1100006103515625,
          -1.1500015258789062,
          -2.0199966430664062,
          0.3300018310546875,
          -2.0999984741210938,
          -1.5,
          0.399993896484375,
          -0.1999969482421875,
          -1.0999984741210938,
          1.970001220703125,
          2.1800003051757812,
          0.31999969482421875,
          0.05999755859375,
          2.0699996948242188,
          -0.8499984741210938,
          -0.25,
          1.9000015258789062,
          -0.850006103515625,
          -3.3199996948242188,
          -2.149993896484375,
          1.4399948120117188,
          2.3499984741210938,
          1.2300033569335938,
          -0.15000152587890625,
          1.8300018310546875,
          1.9199981689453125,
          -0.839996337890625,
          -0.910003662109375,
          -1.8799972534179688,
          2.3300018310546875,
          0.529998779296875,
          0.779998779296875,
          -0.660003662109375,
          -0.5499954223632812,
          1.529998779296875,
          1.220001220703125,
          -0.23000335693359375
         ]
        },
        {
         "name": "LSTM",
         "type": "scatter",
         "y": [
          0.5,
          1.3600006103515625,
          -2.5,
          0.23000335693359375,
          2.220001220703125,
          1.0400009155273438,
          -2.4599990844726562,
          -0.23000335693359375,
          -0.6399993896484375,
          -0.5100021362304688,
          1.8270587072585158,
          0.23280934492527194,
          0.3232552351752247,
          0.35319273170080123,
          0.3012458924544035,
          0.23340282538799784,
          0.2477874079038429,
          0.24008014593050575,
          0.19533225131044674,
          0.30692786908184644,
          0.33703303049151145,
          0.30672826802936015,
          0.4147949391928023,
          0.4012194062763683,
          0.37842762742980085,
          0.3172698649480026,
          0.20052986271718964,
          0.13544661286982773,
          0.08253902722412931,
          0.1895784183041087,
          0.16747060573072758,
          0.07011319637001634,
          -0.03937197293976169,
          0.11369009814882247,
          0.11502077183206438,
          0.08949046654538506,
          0.10010125849555607,
          0.1703475222338966,
          0.21054451285726827,
          0.0645270282477668,
          0.1079442491845839,
          0.08356364596022559,
          0.04221163057979993,
          -0.018514993628627963,
          -0.01443514811580826,
          -0.1836090161610855,
          -0.20535222414525833,
          -0.18277335308800957,
          -0.4583745023189749,
          -0.640562358986358,
          -0.6526768121985924,
          -0.8499784605602372,
          -0.8479797886880078,
          -0.9704816079672582,
          -0.9178933840055379,
          -0.9728369003865964,
          -0.9173637758796076,
          -0.8104601135153189,
          -0.8377974736638407,
          -0.7696696424292213,
          -0.7966051391254041,
          -0.731713506288429,
          -0.7308099788575078,
          -0.673472580520297,
          -0.6844426543649433,
          -0.6423095335324547,
          -0.5755203600231766,
          -0.5049840094218894,
          -0.4397304333430725,
          -0.34263649737164315,
          -0.3451434865908709,
          -0.3022878099483819,
          -0.2276769365290079,
          -0.2050554839138954,
          -0.1488598035969062,
          -0.07746117644887818,
          -0.17090773585454144,
          0.11922836201847531,
          0.008464415299101802,
          -0.4578555395825106,
          0.07589098150265272,
          0.36202308226279456,
          0.10830353107905921,
          0.06744120361406658,
          0.028167700526864792,
          0.03823025491954013,
          0.06473328266866929,
          -0.4219792464086254,
          -0.8323550182993813,
          -0.24516864209522282,
          -0.10332415015636798,
          0.21384192224434173,
          -0.9865188871976898,
          -0.9653744823709758,
          -1.1073413962886889,
          -0.9361176254343775,
          -1.0377272025498883,
          -1.5706214271409351,
          -1.580767148638813,
          -1.423913322889831
         ]
        },
        {
         "name": "GRU",
         "type": "scatter",
         "y": [
          0.5,
          1.3600006103515625,
          -2.5,
          0.23000335693359375,
          2.220001220703125,
          1.0400009155273438,
          -2.4599990844726562,
          -0.23000335693359375,
          -0.6399993896484375,
          -0.5100021362304688,
          1.719758504136621,
          0.7826623402723953,
          0.5467977685704,
          0.2943157439120796,
          0.1087160399208642,
          -0.27298770611707823,
          -0.2750316208945378,
          -0.04952767449026396,
          -0.1292669642848523,
          0.3211820455767338,
          0.5085967884718912,
          0.5251769825650854,
          0.5671091716714045,
          0.5154098377300897,
          0.5598570000977361,
          0.4943612414085692,
          0.09844057773887016,
          -0.059648778525001944,
          -0.13967017114043756,
          0.3884688910435443,
          0.5560140145005334,
          -0.0658577019310087,
          -0.02275984267816966,
          -0.005618104290647352,
          0.027225583559129518,
          -0.19728834162481235,
          -0.2773549771454782,
          0.09157696288070838,
          0.45855015124516285,
          0.18328433178237447,
          -0.000694611662652278,
          -0.04126951361206466,
          -0.12261093452127625,
          -0.34640895726363397,
          -0.9659706241810682,
          -1.1925231414477366,
          -1.119080599522249,
          -0.7227926699159752,
          -0.7532491291780161,
          -0.605280876948882,
          -0.29351467835476797,
          -0.34792326391516326,
          -0.03250037403950046,
          -0.27836362779737556,
          -0.2596304036846959,
          -0.24777410116701049,
          -0.16739608800446604,
          -0.374539398927368,
          -0.44260868051992475,
          -0.5240645393658951,
          -0.5044823454433072,
          -0.4941177281245359,
          -0.36486140922914956,
          -0.3834708806892877,
          -0.2445485481588321,
          -0.20270551418929017,
          -0.32636768092032753,
          -0.1675025418991254,
          -0.13927629173019795,
          -0.06396947597448843,
          -0.17404147237857615,
          -0.24946139539736123,
          -0.16724838322562618,
          -0.08981382025041285,
          -0.11711126018843743,
          -0.02881307726323712,
          0.049968127479417035,
          0.03408387572255833,
          -0.08613450751624896,
          -0.06175523496557389,
          0.1728970930109881,
          0.6451518525198594,
          0.4951902511132289,
          0.5019101532136006,
          0.6803069205574275,
          0.8635167346135404,
          0.8469285564782467,
          0.8774222746034184,
          0.8766850813829024,
          1.0362062425299428,
          0.8393437164837678,
          0.3990637149095164,
          0.46775042909109743,
          0.36900379640508163,
          0.3565007864773406,
          0.1082236906580647,
          0.010033279571644016,
          0.3034441653791191,
          0.15340538489886058,
          0.19733890722477554
         ]
        }
       ],
       "layout": {
        "template": {
         "data": {
          "bar": [
           {
            "error_x": {
             "color": "#2a3f5f"
            },
            "error_y": {
             "color": "#2a3f5f"
            },
            "marker": {
             "line": {
              "color": "#E5ECF6",
              "width": 0.5
             },
             "pattern": {
              "fillmode": "overlay",
              "size": 10,
              "solidity": 0.2
             }
            },
            "type": "bar"
           }
          ],
          "barpolar": [
           {
            "marker": {
             "line": {
              "color": "#E5ECF6",
              "width": 0.5
             },
             "pattern": {
              "fillmode": "overlay",
              "size": 10,
              "solidity": 0.2
             }
            },
            "type": "barpolar"
           }
          ],
          "carpet": [
           {
            "aaxis": {
             "endlinecolor": "#2a3f5f",
             "gridcolor": "white",
             "linecolor": "white",
             "minorgridcolor": "white",
             "startlinecolor": "#2a3f5f"
            },
            "baxis": {
             "endlinecolor": "#2a3f5f",
             "gridcolor": "white",
             "linecolor": "white",
             "minorgridcolor": "white",
             "startlinecolor": "#2a3f5f"
            },
            "type": "carpet"
           }
          ],
          "choropleth": [
           {
            "colorbar": {
             "outlinewidth": 0,
             "ticks": ""
            },
            "type": "choropleth"
           }
          ],
          "contour": [
           {
            "colorbar": {
             "outlinewidth": 0,
             "ticks": ""
            },
            "colorscale": [
             [
              0,
              "#0d0887"
             ],
             [
              0.1111111111111111,
              "#46039f"
             ],
             [
              0.2222222222222222,
              "#7201a8"
             ],
             [
              0.3333333333333333,
              "#9c179e"
             ],
             [
              0.4444444444444444,
              "#bd3786"
             ],
             [
              0.5555555555555556,
              "#d8576b"
             ],
             [
              0.6666666666666666,
              "#ed7953"
             ],
             [
              0.7777777777777778,
              "#fb9f3a"
             ],
             [
              0.8888888888888888,
              "#fdca26"
             ],
             [
              1,
              "#f0f921"
             ]
            ],
            "type": "contour"
           }
          ],
          "contourcarpet": [
           {
            "colorbar": {
             "outlinewidth": 0,
             "ticks": ""
            },
            "type": "contourcarpet"
           }
          ],
          "heatmap": [
           {
            "colorbar": {
             "outlinewidth": 0,
             "ticks": ""
            },
            "colorscale": [
             [
              0,
              "#0d0887"
             ],
             [
              0.1111111111111111,
              "#46039f"
             ],
             [
              0.2222222222222222,
              "#7201a8"
             ],
             [
              0.3333333333333333,
              "#9c179e"
             ],
             [
              0.4444444444444444,
              "#bd3786"
             ],
             [
              0.5555555555555556,
              "#d8576b"
             ],
             [
              0.6666666666666666,
              "#ed7953"
             ],
             [
              0.7777777777777778,
              "#fb9f3a"
             ],
             [
              0.8888888888888888,
              "#fdca26"
             ],
             [
              1,
              "#f0f921"
             ]
            ],
            "type": "heatmap"
           }
          ],
          "heatmapgl": [
           {
            "colorbar": {
             "outlinewidth": 0,
             "ticks": ""
            },
            "colorscale": [
             [
              0,
              "#0d0887"
             ],
             [
              0.1111111111111111,
              "#46039f"
             ],
             [
              0.2222222222222222,
              "#7201a8"
             ],
             [
              0.3333333333333333,
              "#9c179e"
             ],
             [
              0.4444444444444444,
              "#bd3786"
             ],
             [
              0.5555555555555556,
              "#d8576b"
             ],
             [
              0.6666666666666666,
              "#ed7953"
             ],
             [
              0.7777777777777778,
              "#fb9f3a"
             ],
             [
              0.8888888888888888,
              "#fdca26"
             ],
             [
              1,
              "#f0f921"
             ]
            ],
            "type": "heatmapgl"
           }
          ],
          "histogram": [
           {
            "marker": {
             "pattern": {
              "fillmode": "overlay",
              "size": 10,
              "solidity": 0.2
             }
            },
            "type": "histogram"
           }
          ],
          "histogram2d": [
           {
            "colorbar": {
             "outlinewidth": 0,
             "ticks": ""
            },
            "colorscale": [
             [
              0,
              "#0d0887"
             ],
             [
              0.1111111111111111,
              "#46039f"
             ],
             [
              0.2222222222222222,
              "#7201a8"
             ],
             [
              0.3333333333333333,
              "#9c179e"
             ],
             [
              0.4444444444444444,
              "#bd3786"
             ],
             [
              0.5555555555555556,
              "#d8576b"
             ],
             [
              0.6666666666666666,
              "#ed7953"
             ],
             [
              0.7777777777777778,
              "#fb9f3a"
             ],
             [
              0.8888888888888888,
              "#fdca26"
             ],
             [
              1,
              "#f0f921"
             ]
            ],
            "type": "histogram2d"
           }
          ],
          "histogram2dcontour": [
           {
            "colorbar": {
             "outlinewidth": 0,
             "ticks": ""
            },
            "colorscale": [
             [
              0,
              "#0d0887"
             ],
             [
              0.1111111111111111,
              "#46039f"
             ],
             [
              0.2222222222222222,
              "#7201a8"
             ],
             [
              0.3333333333333333,
              "#9c179e"
             ],
             [
              0.4444444444444444,
              "#bd3786"
             ],
             [
              0.5555555555555556,
              "#d8576b"
             ],
             [
              0.6666666666666666,
              "#ed7953"
             ],
             [
              0.7777777777777778,
              "#fb9f3a"
             ],
             [
              0.8888888888888888,
              "#fdca26"
             ],
             [
              1,
              "#f0f921"
             ]
            ],
            "type": "histogram2dcontour"
           }
          ],
          "mesh3d": [
           {
            "colorbar": {
             "outlinewidth": 0,
             "ticks": ""
            },
            "type": "mesh3d"
           }
          ],
          "parcoords": [
           {
            "line": {
             "colorbar": {
              "outlinewidth": 0,
              "ticks": ""
             }
            },
            "type": "parcoords"
           }
          ],
          "pie": [
           {
            "automargin": true,
            "type": "pie"
           }
          ],
          "scatter": [
           {
            "fillpattern": {
             "fillmode": "overlay",
             "size": 10,
             "solidity": 0.2
            },
            "type": "scatter"
           }
          ],
          "scatter3d": [
           {
            "line": {
             "colorbar": {
              "outlinewidth": 0,
              "ticks": ""
             }
            },
            "marker": {
             "colorbar": {
              "outlinewidth": 0,
              "ticks": ""
             }
            },
            "type": "scatter3d"
           }
          ],
          "scattercarpet": [
           {
            "marker": {
             "colorbar": {
              "outlinewidth": 0,
              "ticks": ""
             }
            },
            "type": "scattercarpet"
           }
          ],
          "scattergeo": [
           {
            "marker": {
             "colorbar": {
              "outlinewidth": 0,
              "ticks": ""
             }
            },
            "type": "scattergeo"
           }
          ],
          "scattergl": [
           {
            "marker": {
             "colorbar": {
              "outlinewidth": 0,
              "ticks": ""
             }
            },
            "type": "scattergl"
           }
          ],
          "scattermapbox": [
           {
            "marker": {
             "colorbar": {
              "outlinewidth": 0,
              "ticks": ""
             }
            },
            "type": "scattermapbox"
           }
          ],
          "scatterpolar": [
           {
            "marker": {
             "colorbar": {
              "outlinewidth": 0,
              "ticks": ""
             }
            },
            "type": "scatterpolar"
           }
          ],
          "scatterpolargl": [
           {
            "marker": {
             "colorbar": {
              "outlinewidth": 0,
              "ticks": ""
             }
            },
            "type": "scatterpolargl"
           }
          ],
          "scatterternary": [
           {
            "marker": {
             "colorbar": {
              "outlinewidth": 0,
              "ticks": ""
             }
            },
            "type": "scatterternary"
           }
          ],
          "surface": [
           {
            "colorbar": {
             "outlinewidth": 0,
             "ticks": ""
            },
            "colorscale": [
             [
              0,
              "#0d0887"
             ],
             [
              0.1111111111111111,
              "#46039f"
             ],
             [
              0.2222222222222222,
              "#7201a8"
             ],
             [
              0.3333333333333333,
              "#9c179e"
             ],
             [
              0.4444444444444444,
              "#bd3786"
             ],
             [
              0.5555555555555556,
              "#d8576b"
             ],
             [
              0.6666666666666666,
              "#ed7953"
             ],
             [
              0.7777777777777778,
              "#fb9f3a"
             ],
             [
              0.8888888888888888,
              "#fdca26"
             ],
             [
              1,
              "#f0f921"
             ]
            ],
            "type": "surface"
           }
          ],
          "table": [
           {
            "cells": {
             "fill": {
              "color": "#EBF0F8"
             },
             "line": {
              "color": "white"
             }
            },
            "header": {
             "fill": {
              "color": "#C8D4E3"
             },
             "line": {
              "color": "white"
             }
            },
            "type": "table"
           }
          ]
         },
         "layout": {
          "annotationdefaults": {
           "arrowcolor": "#2a3f5f",
           "arrowhead": 0,
           "arrowwidth": 1
          },
          "autotypenumbers": "strict",
          "coloraxis": {
           "colorbar": {
            "outlinewidth": 0,
            "ticks": ""
           }
          },
          "colorscale": {
           "diverging": [
            [
             0,
             "#8e0152"
            ],
            [
             0.1,
             "#c51b7d"
            ],
            [
             0.2,
             "#de77ae"
            ],
            [
             0.3,
             "#f1b6da"
            ],
            [
             0.4,
             "#fde0ef"
            ],
            [
             0.5,
             "#f7f7f7"
            ],
            [
             0.6,
             "#e6f5d0"
            ],
            [
             0.7,
             "#b8e186"
            ],
            [
             0.8,
             "#7fbc41"
            ],
            [
             0.9,
             "#4d9221"
            ],
            [
             1,
             "#276419"
            ]
           ],
           "sequential": [
            [
             0,
             "#0d0887"
            ],
            [
             0.1111111111111111,
             "#46039f"
            ],
            [
             0.2222222222222222,
             "#7201a8"
            ],
            [
             0.3333333333333333,
             "#9c179e"
            ],
            [
             0.4444444444444444,
             "#bd3786"
            ],
            [
             0.5555555555555556,
             "#d8576b"
            ],
            [
             0.6666666666666666,
             "#ed7953"
            ],
            [
             0.7777777777777778,
             "#fb9f3a"
            ],
            [
             0.8888888888888888,
             "#fdca26"
            ],
            [
             1,
             "#f0f921"
            ]
           ],
           "sequentialminus": [
            [
             0,
             "#0d0887"
            ],
            [
             0.1111111111111111,
             "#46039f"
            ],
            [
             0.2222222222222222,
             "#7201a8"
            ],
            [
             0.3333333333333333,
             "#9c179e"
            ],
            [
             0.4444444444444444,
             "#bd3786"
            ],
            [
             0.5555555555555556,
             "#d8576b"
            ],
            [
             0.6666666666666666,
             "#ed7953"
            ],
            [
             0.7777777777777778,
             "#fb9f3a"
            ],
            [
             0.8888888888888888,
             "#fdca26"
            ],
            [
             1,
             "#f0f921"
            ]
           ]
          },
          "colorway": [
           "#636efa",
           "#EF553B",
           "#00cc96",
           "#ab63fa",
           "#FFA15A",
           "#19d3f3",
           "#FF6692",
           "#B6E880",
           "#FF97FF",
           "#FECB52"
          ],
          "font": {
           "color": "#2a3f5f"
          },
          "geo": {
           "bgcolor": "white",
           "lakecolor": "white",
           "landcolor": "#E5ECF6",
           "showlakes": true,
           "showland": true,
           "subunitcolor": "white"
          },
          "hoverlabel": {
           "align": "left"
          },
          "hovermode": "closest",
          "mapbox": {
           "style": "light"
          },
          "paper_bgcolor": "white",
          "plot_bgcolor": "#E5ECF6",
          "polar": {
           "angularaxis": {
            "gridcolor": "white",
            "linecolor": "white",
            "ticks": ""
           },
           "bgcolor": "#E5ECF6",
           "radialaxis": {
            "gridcolor": "white",
            "linecolor": "white",
            "ticks": ""
           }
          },
          "scene": {
           "xaxis": {
            "backgroundcolor": "#E5ECF6",
            "gridcolor": "white",
            "gridwidth": 2,
            "linecolor": "white",
            "showbackground": true,
            "ticks": "",
            "zerolinecolor": "white"
           },
           "yaxis": {
            "backgroundcolor": "#E5ECF6",
            "gridcolor": "white",
            "gridwidth": 2,
            "linecolor": "white",
            "showbackground": true,
            "ticks": "",
            "zerolinecolor": "white"
           },
           "zaxis": {
            "backgroundcolor": "#E5ECF6",
            "gridcolor": "white",
            "gridwidth": 2,
            "linecolor": "white",
            "showbackground": true,
            "ticks": "",
            "zerolinecolor": "white"
           }
          },
          "shapedefaults": {
           "line": {
            "color": "#2a3f5f"
           }
          },
          "ternary": {
           "aaxis": {
            "gridcolor": "white",
            "linecolor": "white",
            "ticks": ""
           },
           "baxis": {
            "gridcolor": "white",
            "linecolor": "white",
            "ticks": ""
           },
           "bgcolor": "#E5ECF6",
           "caxis": {
            "gridcolor": "white",
            "linecolor": "white",
            "ticks": ""
           }
          },
          "title": {
           "x": 0.05
          },
          "xaxis": {
           "automargin": true,
           "gridcolor": "white",
           "linecolor": "white",
           "ticks": "",
           "title": {
            "standoff": 15
           },
           "zerolinecolor": "white",
           "zerolinewidth": 2
          },
          "yaxis": {
           "automargin": true,
           "gridcolor": "white",
           "linecolor": "white",
           "ticks": "",
           "title": {
            "standoff": 15
           },
           "zerolinecolor": "white",
           "zerolinewidth": 2
          }
         }
        },
        "xaxis": {
         "title": {
          "text": "periodo em dias"
         }
        },
        "yaxis": {
         "title": {
          "text": "Variação entre o fechamento e fechamento anterior em R$"
         }
        }
       }
      },
      "text/html": [
       "<div>                            <div id=\"598450ac-fd9d-4905-b034-ca722b93660f\" class=\"plotly-graph-div\" style=\"height:525px; width:100%;\"></div>            <script type=\"text/javascript\">                require([\"plotly\"], function(Plotly) {                    window.PLOTLYENV=window.PLOTLYENV || {};                                    if (document.getElementById(\"598450ac-fd9d-4905-b034-ca722b93660f\")) {                    Plotly.newPlot(                        \"598450ac-fd9d-4905-b034-ca722b93660f\",                        [{\"name\":\"Real\",\"y\":[0.5,1.3600006103515625,-2.5,0.23000335693359375,2.220001220703125,1.0400009155273438,-2.4599990844726562,-0.23000335693359375,-0.6399993896484375,-0.5100021362304688,2.6200027465820312,0.6299972534179688,-0.6899948120117188,1.9699935913085938,-2.2900009155273438,-2.7099990844726562,-0.4499969482421875,0.1399993896484375,-1.0199966430664062,2.6599960327148438,5.94000244140625,-0.0500030517578125,0.970001220703125,0.15000152587890625,-0.69000244140625,-0.6999969482421875,-1.19000244140625,-0.6299972534179688,-2.0400009155273438,1.6800003051757812,2.0400009155273438,0.40999603271484375,0.5500030517578125,3.529998779296875,-4.290000915527344,-1.6599960327148438,-1.7000045776367188,1.220001220703125,3.0,-0.8499984741210938,0.6599960327148438,0.29000091552734375,0.9000015258789062,-2.779998779296875,1.0800018310546875,-2.5500030517578125,-3.6500015258789062,2.4500045776367188,0.6899948120117188,-3.1999969482421875,-0.34999847412109375,-0.8400039672851562,1.2300033569335938,-1.0100021362304688,0.1699981689453125,2.9599990844726562,-3.1299972534179688,0.0800018310546875,2.1399993896484375,1.2900009155273438,-1.5200042724609375,0.8899993896484375,-2.3199996948242188,1.1100006103515625,-1.1500015258789062,-2.0199966430664062,0.3300018310546875,-2.0999984741210938,-1.5,0.399993896484375,-0.1999969482421875,-1.0999984741210938,1.970001220703125,2.1800003051757812,0.31999969482421875,0.05999755859375,2.0699996948242188,-0.8499984741210938,-0.25,1.9000015258789062,-0.850006103515625,-3.3199996948242188,-2.149993896484375,1.4399948120117188,2.3499984741210938,1.2300033569335938,-0.15000152587890625,1.8300018310546875,1.9199981689453125,-0.839996337890625,-0.910003662109375,-1.8799972534179688,2.3300018310546875,0.529998779296875,0.779998779296875,-0.660003662109375,-0.5499954223632812,1.529998779296875,1.220001220703125,-0.23000335693359375],\"type\":\"scatter\"},{\"name\":\"LSTM\",\"y\":[0.5,1.3600006103515625,-2.5,0.23000335693359375,2.220001220703125,1.0400009155273438,-2.4599990844726562,-0.23000335693359375,-0.6399993896484375,-0.5100021362304688,1.8270587072585158,0.23280934492527194,0.3232552351752247,0.35319273170080123,0.3012458924544035,0.23340282538799784,0.2477874079038429,0.24008014593050575,0.19533225131044674,0.30692786908184644,0.33703303049151145,0.30672826802936015,0.4147949391928023,0.4012194062763683,0.37842762742980085,0.3172698649480026,0.20052986271718964,0.13544661286982773,0.08253902722412931,0.1895784183041087,0.16747060573072758,0.07011319637001634,-0.03937197293976169,0.11369009814882247,0.11502077183206438,0.08949046654538506,0.10010125849555607,0.1703475222338966,0.21054451285726827,0.0645270282477668,0.1079442491845839,0.08356364596022559,0.04221163057979993,-0.018514993628627963,-0.01443514811580826,-0.1836090161610855,-0.20535222414525833,-0.18277335308800957,-0.4583745023189749,-0.640562358986358,-0.6526768121985924,-0.8499784605602372,-0.8479797886880078,-0.9704816079672582,-0.9178933840055379,-0.9728369003865964,-0.9173637758796076,-0.8104601135153189,-0.8377974736638407,-0.7696696424292213,-0.7966051391254041,-0.731713506288429,-0.7308099788575078,-0.673472580520297,-0.6844426543649433,-0.6423095335324547,-0.5755203600231766,-0.5049840094218894,-0.4397304333430725,-0.34263649737164315,-0.3451434865908709,-0.3022878099483819,-0.2276769365290079,-0.2050554839138954,-0.1488598035969062,-0.07746117644887818,-0.17090773585454144,0.11922836201847531,0.008464415299101802,-0.4578555395825106,0.07589098150265272,0.36202308226279456,0.10830353107905921,0.06744120361406658,0.028167700526864792,0.03823025491954013,0.06473328266866929,-0.4219792464086254,-0.8323550182993813,-0.24516864209522282,-0.10332415015636798,0.21384192224434173,-0.9865188871976898,-0.9653744823709758,-1.1073413962886889,-0.9361176254343775,-1.0377272025498883,-1.5706214271409351,-1.580767148638813,-1.423913322889831],\"type\":\"scatter\"},{\"name\":\"GRU\",\"y\":[0.5,1.3600006103515625,-2.5,0.23000335693359375,2.220001220703125,1.0400009155273438,-2.4599990844726562,-0.23000335693359375,-0.6399993896484375,-0.5100021362304688,1.719758504136621,0.7826623402723953,0.5467977685704,0.2943157439120796,0.1087160399208642,-0.27298770611707823,-0.2750316208945378,-0.04952767449026396,-0.1292669642848523,0.3211820455767338,0.5085967884718912,0.5251769825650854,0.5671091716714045,0.5154098377300897,0.5598570000977361,0.4943612414085692,0.09844057773887016,-0.059648778525001944,-0.13967017114043756,0.3884688910435443,0.5560140145005334,-0.0658577019310087,-0.02275984267816966,-0.005618104290647352,0.027225583559129518,-0.19728834162481235,-0.2773549771454782,0.09157696288070838,0.45855015124516285,0.18328433178237447,-0.000694611662652278,-0.04126951361206466,-0.12261093452127625,-0.34640895726363397,-0.9659706241810682,-1.1925231414477366,-1.119080599522249,-0.7227926699159752,-0.7532491291780161,-0.605280876948882,-0.29351467835476797,-0.34792326391516326,-0.03250037403950046,-0.27836362779737556,-0.2596304036846959,-0.24777410116701049,-0.16739608800446604,-0.374539398927368,-0.44260868051992475,-0.5240645393658951,-0.5044823454433072,-0.4941177281245359,-0.36486140922914956,-0.3834708806892877,-0.2445485481588321,-0.20270551418929017,-0.32636768092032753,-0.1675025418991254,-0.13927629173019795,-0.06396947597448843,-0.17404147237857615,-0.24946139539736123,-0.16724838322562618,-0.08981382025041285,-0.11711126018843743,-0.02881307726323712,0.049968127479417035,0.03408387572255833,-0.08613450751624896,-0.06175523496557389,0.1728970930109881,0.6451518525198594,0.4951902511132289,0.5019101532136006,0.6803069205574275,0.8635167346135404,0.8469285564782467,0.8774222746034184,0.8766850813829024,1.0362062425299428,0.8393437164837678,0.3990637149095164,0.46775042909109743,0.36900379640508163,0.3565007864773406,0.1082236906580647,0.010033279571644016,0.3034441653791191,0.15340538489886058,0.19733890722477554],\"type\":\"scatter\"}],                        {\"template\":{\"data\":{\"histogram2dcontour\":[{\"type\":\"histogram2dcontour\",\"colorbar\":{\"outlinewidth\":0,\"ticks\":\"\"},\"colorscale\":[[0.0,\"#0d0887\"],[0.1111111111111111,\"#46039f\"],[0.2222222222222222,\"#7201a8\"],[0.3333333333333333,\"#9c179e\"],[0.4444444444444444,\"#bd3786\"],[0.5555555555555556,\"#d8576b\"],[0.6666666666666666,\"#ed7953\"],[0.7777777777777778,\"#fb9f3a\"],[0.8888888888888888,\"#fdca26\"],[1.0,\"#f0f921\"]]}],\"choropleth\":[{\"type\":\"choropleth\",\"colorbar\":{\"outlinewidth\":0,\"ticks\":\"\"}}],\"histogram2d\":[{\"type\":\"histogram2d\",\"colorbar\":{\"outlinewidth\":0,\"ticks\":\"\"},\"colorscale\":[[0.0,\"#0d0887\"],[0.1111111111111111,\"#46039f\"],[0.2222222222222222,\"#7201a8\"],[0.3333333333333333,\"#9c179e\"],[0.4444444444444444,\"#bd3786\"],[0.5555555555555556,\"#d8576b\"],[0.6666666666666666,\"#ed7953\"],[0.7777777777777778,\"#fb9f3a\"],[0.8888888888888888,\"#fdca26\"],[1.0,\"#f0f921\"]]}],\"heatmap\":[{\"type\":\"heatmap\",\"colorbar\":{\"outlinewidth\":0,\"ticks\":\"\"},\"colorscale\":[[0.0,\"#0d0887\"],[0.1111111111111111,\"#46039f\"],[0.2222222222222222,\"#7201a8\"],[0.3333333333333333,\"#9c179e\"],[0.4444444444444444,\"#bd3786\"],[0.5555555555555556,\"#d8576b\"],[0.6666666666666666,\"#ed7953\"],[0.7777777777777778,\"#fb9f3a\"],[0.8888888888888888,\"#fdca26\"],[1.0,\"#f0f921\"]]}],\"heatmapgl\":[{\"type\":\"heatmapgl\",\"colorbar\":{\"outlinewidth\":0,\"ticks\":\"\"},\"colorscale\":[[0.0,\"#0d0887\"],[0.1111111111111111,\"#46039f\"],[0.2222222222222222,\"#7201a8\"],[0.3333333333333333,\"#9c179e\"],[0.4444444444444444,\"#bd3786\"],[0.5555555555555556,\"#d8576b\"],[0.6666666666666666,\"#ed7953\"],[0.7777777777777778,\"#fb9f3a\"],[0.8888888888888888,\"#fdca26\"],[1.0,\"#f0f921\"]]}],\"contourcarpet\":[{\"type\":\"contourcarpet\",\"colorbar\":{\"outlinewidth\":0,\"ticks\":\"\"}}],\"contour\":[{\"type\":\"contour\",\"colorbar\":{\"outlinewidth\":0,\"ticks\":\"\"},\"colorscale\":[[0.0,\"#0d0887\"],[0.1111111111111111,\"#46039f\"],[0.2222222222222222,\"#7201a8\"],[0.3333333333333333,\"#9c179e\"],[0.4444444444444444,\"#bd3786\"],[0.5555555555555556,\"#d8576b\"],[0.6666666666666666,\"#ed7953\"],[0.7777777777777778,\"#fb9f3a\"],[0.8888888888888888,\"#fdca26\"],[1.0,\"#f0f921\"]]}],\"surface\":[{\"type\":\"surface\",\"colorbar\":{\"outlinewidth\":0,\"ticks\":\"\"},\"colorscale\":[[0.0,\"#0d0887\"],[0.1111111111111111,\"#46039f\"],[0.2222222222222222,\"#7201a8\"],[0.3333333333333333,\"#9c179e\"],[0.4444444444444444,\"#bd3786\"],[0.5555555555555556,\"#d8576b\"],[0.6666666666666666,\"#ed7953\"],[0.7777777777777778,\"#fb9f3a\"],[0.8888888888888888,\"#fdca26\"],[1.0,\"#f0f921\"]]}],\"mesh3d\":[{\"type\":\"mesh3d\",\"colorbar\":{\"outlinewidth\":0,\"ticks\":\"\"}}],\"scatter\":[{\"fillpattern\":{\"fillmode\":\"overlay\",\"size\":10,\"solidity\":0.2},\"type\":\"scatter\"}],\"parcoords\":[{\"type\":\"parcoords\",\"line\":{\"colorbar\":{\"outlinewidth\":0,\"ticks\":\"\"}}}],\"scatterpolargl\":[{\"type\":\"scatterpolargl\",\"marker\":{\"colorbar\":{\"outlinewidth\":0,\"ticks\":\"\"}}}],\"bar\":[{\"error_x\":{\"color\":\"#2a3f5f\"},\"error_y\":{\"color\":\"#2a3f5f\"},\"marker\":{\"line\":{\"color\":\"#E5ECF6\",\"width\":0.5},\"pattern\":{\"fillmode\":\"overlay\",\"size\":10,\"solidity\":0.2}},\"type\":\"bar\"}],\"scattergeo\":[{\"type\":\"scattergeo\",\"marker\":{\"colorbar\":{\"outlinewidth\":0,\"ticks\":\"\"}}}],\"scatterpolar\":[{\"type\":\"scatterpolar\",\"marker\":{\"colorbar\":{\"outlinewidth\":0,\"ticks\":\"\"}}}],\"histogram\":[{\"marker\":{\"pattern\":{\"fillmode\":\"overlay\",\"size\":10,\"solidity\":0.2}},\"type\":\"histogram\"}],\"scattergl\":[{\"type\":\"scattergl\",\"marker\":{\"colorbar\":{\"outlinewidth\":0,\"ticks\":\"\"}}}],\"scatter3d\":[{\"type\":\"scatter3d\",\"line\":{\"colorbar\":{\"outlinewidth\":0,\"ticks\":\"\"}},\"marker\":{\"colorbar\":{\"outlinewidth\":0,\"ticks\":\"\"}}}],\"scattermapbox\":[{\"type\":\"scattermapbox\",\"marker\":{\"colorbar\":{\"outlinewidth\":0,\"ticks\":\"\"}}}],\"scatterternary\":[{\"type\":\"scatterternary\",\"marker\":{\"colorbar\":{\"outlinewidth\":0,\"ticks\":\"\"}}}],\"scattercarpet\":[{\"type\":\"scattercarpet\",\"marker\":{\"colorbar\":{\"outlinewidth\":0,\"ticks\":\"\"}}}],\"carpet\":[{\"aaxis\":{\"endlinecolor\":\"#2a3f5f\",\"gridcolor\":\"white\",\"linecolor\":\"white\",\"minorgridcolor\":\"white\",\"startlinecolor\":\"#2a3f5f\"},\"baxis\":{\"endlinecolor\":\"#2a3f5f\",\"gridcolor\":\"white\",\"linecolor\":\"white\",\"minorgridcolor\":\"white\",\"startlinecolor\":\"#2a3f5f\"},\"type\":\"carpet\"}],\"table\":[{\"cells\":{\"fill\":{\"color\":\"#EBF0F8\"},\"line\":{\"color\":\"white\"}},\"header\":{\"fill\":{\"color\":\"#C8D4E3\"},\"line\":{\"color\":\"white\"}},\"type\":\"table\"}],\"barpolar\":[{\"marker\":{\"line\":{\"color\":\"#E5ECF6\",\"width\":0.5},\"pattern\":{\"fillmode\":\"overlay\",\"size\":10,\"solidity\":0.2}},\"type\":\"barpolar\"}],\"pie\":[{\"automargin\":true,\"type\":\"pie\"}]},\"layout\":{\"autotypenumbers\":\"strict\",\"colorway\":[\"#636efa\",\"#EF553B\",\"#00cc96\",\"#ab63fa\",\"#FFA15A\",\"#19d3f3\",\"#FF6692\",\"#B6E880\",\"#FF97FF\",\"#FECB52\"],\"font\":{\"color\":\"#2a3f5f\"},\"hovermode\":\"closest\",\"hoverlabel\":{\"align\":\"left\"},\"paper_bgcolor\":\"white\",\"plot_bgcolor\":\"#E5ECF6\",\"polar\":{\"bgcolor\":\"#E5ECF6\",\"angularaxis\":{\"gridcolor\":\"white\",\"linecolor\":\"white\",\"ticks\":\"\"},\"radialaxis\":{\"gridcolor\":\"white\",\"linecolor\":\"white\",\"ticks\":\"\"}},\"ternary\":{\"bgcolor\":\"#E5ECF6\",\"aaxis\":{\"gridcolor\":\"white\",\"linecolor\":\"white\",\"ticks\":\"\"},\"baxis\":{\"gridcolor\":\"white\",\"linecolor\":\"white\",\"ticks\":\"\"},\"caxis\":{\"gridcolor\":\"white\",\"linecolor\":\"white\",\"ticks\":\"\"}},\"coloraxis\":{\"colorbar\":{\"outlinewidth\":0,\"ticks\":\"\"}},\"colorscale\":{\"sequential\":[[0.0,\"#0d0887\"],[0.1111111111111111,\"#46039f\"],[0.2222222222222222,\"#7201a8\"],[0.3333333333333333,\"#9c179e\"],[0.4444444444444444,\"#bd3786\"],[0.5555555555555556,\"#d8576b\"],[0.6666666666666666,\"#ed7953\"],[0.7777777777777778,\"#fb9f3a\"],[0.8888888888888888,\"#fdca26\"],[1.0,\"#f0f921\"]],\"sequentialminus\":[[0.0,\"#0d0887\"],[0.1111111111111111,\"#46039f\"],[0.2222222222222222,\"#7201a8\"],[0.3333333333333333,\"#9c179e\"],[0.4444444444444444,\"#bd3786\"],[0.5555555555555556,\"#d8576b\"],[0.6666666666666666,\"#ed7953\"],[0.7777777777777778,\"#fb9f3a\"],[0.8888888888888888,\"#fdca26\"],[1.0,\"#f0f921\"]],\"diverging\":[[0,\"#8e0152\"],[0.1,\"#c51b7d\"],[0.2,\"#de77ae\"],[0.3,\"#f1b6da\"],[0.4,\"#fde0ef\"],[0.5,\"#f7f7f7\"],[0.6,\"#e6f5d0\"],[0.7,\"#b8e186\"],[0.8,\"#7fbc41\"],[0.9,\"#4d9221\"],[1,\"#276419\"]]},\"xaxis\":{\"gridcolor\":\"white\",\"linecolor\":\"white\",\"ticks\":\"\",\"title\":{\"standoff\":15},\"zerolinecolor\":\"white\",\"automargin\":true,\"zerolinewidth\":2},\"yaxis\":{\"gridcolor\":\"white\",\"linecolor\":\"white\",\"ticks\":\"\",\"title\":{\"standoff\":15},\"zerolinecolor\":\"white\",\"automargin\":true,\"zerolinewidth\":2},\"scene\":{\"xaxis\":{\"backgroundcolor\":\"#E5ECF6\",\"gridcolor\":\"white\",\"linecolor\":\"white\",\"showbackground\":true,\"ticks\":\"\",\"zerolinecolor\":\"white\",\"gridwidth\":2},\"yaxis\":{\"backgroundcolor\":\"#E5ECF6\",\"gridcolor\":\"white\",\"linecolor\":\"white\",\"showbackground\":true,\"ticks\":\"\",\"zerolinecolor\":\"white\",\"gridwidth\":2},\"zaxis\":{\"backgroundcolor\":\"#E5ECF6\",\"gridcolor\":\"white\",\"linecolor\":\"white\",\"showbackground\":true,\"ticks\":\"\",\"zerolinecolor\":\"white\",\"gridwidth\":2}},\"shapedefaults\":{\"line\":{\"color\":\"#2a3f5f\"}},\"annotationdefaults\":{\"arrowcolor\":\"#2a3f5f\",\"arrowhead\":0,\"arrowwidth\":1},\"geo\":{\"bgcolor\":\"white\",\"landcolor\":\"#E5ECF6\",\"subunitcolor\":\"white\",\"showland\":true,\"showlakes\":true,\"lakecolor\":\"white\"},\"title\":{\"x\":0.05},\"mapbox\":{\"style\":\"light\"}}},\"yaxis\":{\"title\":{\"text\":\"Varia\\u00e7\\u00e3o entre o fechamento e fechamento anterior em R$\"}},\"xaxis\":{\"title\":{\"text\":\"periodo em dias\"}}},                        {\"responsive\": true}                    ).then(function(){\n",
       "                            \n",
       "var gd = document.getElementById('598450ac-fd9d-4905-b034-ca722b93660f');\n",
       "var x = new MutationObserver(function (mutations, observer) {{\n",
       "        var display = window.getComputedStyle(gd).display;\n",
       "        if (!display || display === 'none') {{\n",
       "            console.log([gd, 'removed!']);\n",
       "            Plotly.purge(gd);\n",
       "            observer.disconnect();\n",
       "        }}\n",
       "}});\n",
       "\n",
       "// Listen for the removal of the full notebook cells\n",
       "var notebookContainer = gd.closest('#notebook-container');\n",
       "if (notebookContainer) {{\n",
       "    x.observe(notebookContainer, {childList: true});\n",
       "}}\n",
       "\n",
       "// Listen for the clearing of the current output cell\n",
       "var outputEl = gd.closest('.output');\n",
       "if (outputEl) {{\n",
       "    x.observe(outputEl, {childList: true});\n",
       "}}\n",
       "\n",
       "                        })                };                });            </script>        </div>"
      ]
     },
     "metadata": {},
     "output_type": "display_data"
    }
   ],
   "source": [
    "import plotly.graph_objs as go\n",
    "fig = go.Figure()\n",
    "\n",
    "fig.add_trace(go.Scatter(\n",
    "   y=bova11['close_change'][-100:],\n",
    "   name=\"Real\")\n",
    ")\n",
    "\n",
    "fig.add_trace(go.Scatter(\n",
    "   y=pred_90_lstm['close_change'][-100:],\n",
    "   name=\"LSTM\")\n",
    ")\n",
    "\n",
    "fig.add_trace(go.Scatter(\n",
    "   y=pred_90_gru.close_change[-100:],\n",
    "   name=\"GRU\")\n",
    ")\n",
    "\n",
    "fig.update_layout(\n",
    "   #title=\"Banda de Bollinger superior e inferior dos ultimos 60 dias de fechamento de 2009 a Fev 2023\",\n",
    "    yaxis_title=\"Variação entre o fechamento e fechamento anterior em R$\",\n",
    "    xaxis_title=\"periodo em dias\",\n",
    "   #legend_title=\"legend\",\n",
    ")\n",
    "fig.show()"
   ]
  },
  {
   "cell_type": "code",
   "execution_count": 123,
   "id": "4b064efc",
   "metadata": {},
   "outputs": [
    {
     "data": {
      "application/vnd.plotly.v1+json": {
       "config": {
        "plotlyServerURL": "https://plot.ly"
       },
       "data": [
        {
         "name": "Real",
         "type": "scatter",
         "y": [
          -0.34999847412109375,
          -0.8400039672851562,
          1.2300033569335938,
          -1.0100021362304688,
          0.1699981689453125,
          2.9599990844726562,
          -3.1299972534179688,
          0.0800018310546875,
          2.1399993896484375,
          1.2900009155273438,
          -1.5200042724609375,
          0.8899993896484375,
          -2.3199996948242188,
          1.1100006103515625,
          -1.1500015258789062,
          -2.0199966430664062,
          0.3300018310546875,
          -2.0999984741210938,
          -1.5,
          0.399993896484375,
          -0.1999969482421875,
          -1.0999984741210938,
          1.970001220703125,
          2.1800003051757812,
          0.31999969482421875,
          0.05999755859375,
          2.0699996948242188,
          -0.8499984741210938,
          -0.25,
          1.9000015258789062,
          -0.850006103515625,
          -3.3199996948242188,
          -2.149993896484375,
          1.4399948120117188,
          2.3499984741210938,
          1.2300033569335938,
          -0.15000152587890625,
          1.8300018310546875,
          1.9199981689453125,
          -0.839996337890625,
          -0.910003662109375,
          -1.8799972534179688,
          2.3300018310546875,
          0.529998779296875,
          0.779998779296875,
          -0.660003662109375,
          -0.5499954223632812,
          1.529998779296875,
          1.220001220703125,
          -0.23000335693359375
         ]
        },
        {
         "name": "LSTM",
         "type": "scatter",
         "y": [
          -0.34999847412109375,
          -0.8400039672851562,
          1.2300033569335938,
          -1.0100021362304688,
          0.1699981689453125,
          2.9599990844726562,
          -3.1299972534179688,
          0.0800018310546875,
          2.1399993896484375,
          1.2900009155273438,
          -1.5200042724609375,
          0.8899993896484375,
          -2.3199996948242188,
          1.1100006103515625,
          -1.1500015258789062,
          -2.0199966430664062,
          0.3300018310546875,
          -2.0999984741210938,
          -1.5,
          0.399993896484375,
          1.3190586716845019,
          0.24544675289502038,
          0.37826262389307885,
          0.33082277641182145,
          0.3048812929570204,
          0.3241627546271957,
          0.3357555837555992,
          0.2825525885522211,
          0.23457381822925072,
          0.1850248529600549,
          0.09318707803743109,
          0.05695283364275383,
          0.0554278816017586,
          0.16235815743971216,
          0.15737611516965444,
          0.10019174430601652,
          0.12491832268801772,
          0.2044180912196225,
          0.22415730463683303,
          0.2585658647381024,
          0.28276017364680683,
          0.2333921799985319,
          0.25449134192001566,
          0.1786562487120591,
          0.19830497631880917,
          0.16201484362943575,
          0.13266550487185214,
          0.13914854705660673,
          0.06751572134032813,
          0.0015941470725238105
         ]
        },
        {
         "name": "GRU",
         "type": "scatter",
         "y": [
          -0.34999847412109375,
          -0.8400039672851562,
          1.2300033569335938,
          -1.0100021362304688,
          0.1699981689453125,
          2.9599990844726562,
          -3.1299972534179688,
          0.0800018310546875,
          2.1399993896484375,
          1.2900009155273438,
          -1.5200042724609375,
          0.8899993896484375,
          -2.3199996948242188,
          1.1100006103515625,
          -1.1500015258789062,
          -2.0199966430664062,
          0.3300018310546875,
          -2.0999984741210938,
          -1.5,
          0.399993896484375,
          1.5645227233374044,
          0.8372718575589602,
          0.5805316771142657,
          0.4886153924443306,
          0.433435016147655,
          0.46480431755639984,
          0.50186890232942,
          0.28743349962235243,
          0.10719641057460194,
          -0.14100084482367947,
          -0.5143133626150984,
          -0.5486953092427029,
          -0.3863131996766924,
          0.20529633585056217,
          0.603141153666229,
          0.4001016403824451,
          0.18098492765773244,
          0.2701161123086422,
          0.34641427995836693,
          0.4939992981667274,
          0.44351619997189573,
          0.16228896240818358,
          0.31325655311934497,
          0.27966768800695263,
          0.3754123208635747,
          0.26212674751445775,
          0.036021336605358556,
          0.13848587156235226,
          0.10598815887021829,
          0.14985780885933764
         ]
        }
       ],
       "layout": {
        "template": {
         "data": {
          "bar": [
           {
            "error_x": {
             "color": "#2a3f5f"
            },
            "error_y": {
             "color": "#2a3f5f"
            },
            "marker": {
             "line": {
              "color": "#E5ECF6",
              "width": 0.5
             },
             "pattern": {
              "fillmode": "overlay",
              "size": 10,
              "solidity": 0.2
             }
            },
            "type": "bar"
           }
          ],
          "barpolar": [
           {
            "marker": {
             "line": {
              "color": "#E5ECF6",
              "width": 0.5
             },
             "pattern": {
              "fillmode": "overlay",
              "size": 10,
              "solidity": 0.2
             }
            },
            "type": "barpolar"
           }
          ],
          "carpet": [
           {
            "aaxis": {
             "endlinecolor": "#2a3f5f",
             "gridcolor": "white",
             "linecolor": "white",
             "minorgridcolor": "white",
             "startlinecolor": "#2a3f5f"
            },
            "baxis": {
             "endlinecolor": "#2a3f5f",
             "gridcolor": "white",
             "linecolor": "white",
             "minorgridcolor": "white",
             "startlinecolor": "#2a3f5f"
            },
            "type": "carpet"
           }
          ],
          "choropleth": [
           {
            "colorbar": {
             "outlinewidth": 0,
             "ticks": ""
            },
            "type": "choropleth"
           }
          ],
          "contour": [
           {
            "colorbar": {
             "outlinewidth": 0,
             "ticks": ""
            },
            "colorscale": [
             [
              0,
              "#0d0887"
             ],
             [
              0.1111111111111111,
              "#46039f"
             ],
             [
              0.2222222222222222,
              "#7201a8"
             ],
             [
              0.3333333333333333,
              "#9c179e"
             ],
             [
              0.4444444444444444,
              "#bd3786"
             ],
             [
              0.5555555555555556,
              "#d8576b"
             ],
             [
              0.6666666666666666,
              "#ed7953"
             ],
             [
              0.7777777777777778,
              "#fb9f3a"
             ],
             [
              0.8888888888888888,
              "#fdca26"
             ],
             [
              1,
              "#f0f921"
             ]
            ],
            "type": "contour"
           }
          ],
          "contourcarpet": [
           {
            "colorbar": {
             "outlinewidth": 0,
             "ticks": ""
            },
            "type": "contourcarpet"
           }
          ],
          "heatmap": [
           {
            "colorbar": {
             "outlinewidth": 0,
             "ticks": ""
            },
            "colorscale": [
             [
              0,
              "#0d0887"
             ],
             [
              0.1111111111111111,
              "#46039f"
             ],
             [
              0.2222222222222222,
              "#7201a8"
             ],
             [
              0.3333333333333333,
              "#9c179e"
             ],
             [
              0.4444444444444444,
              "#bd3786"
             ],
             [
              0.5555555555555556,
              "#d8576b"
             ],
             [
              0.6666666666666666,
              "#ed7953"
             ],
             [
              0.7777777777777778,
              "#fb9f3a"
             ],
             [
              0.8888888888888888,
              "#fdca26"
             ],
             [
              1,
              "#f0f921"
             ]
            ],
            "type": "heatmap"
           }
          ],
          "heatmapgl": [
           {
            "colorbar": {
             "outlinewidth": 0,
             "ticks": ""
            },
            "colorscale": [
             [
              0,
              "#0d0887"
             ],
             [
              0.1111111111111111,
              "#46039f"
             ],
             [
              0.2222222222222222,
              "#7201a8"
             ],
             [
              0.3333333333333333,
              "#9c179e"
             ],
             [
              0.4444444444444444,
              "#bd3786"
             ],
             [
              0.5555555555555556,
              "#d8576b"
             ],
             [
              0.6666666666666666,
              "#ed7953"
             ],
             [
              0.7777777777777778,
              "#fb9f3a"
             ],
             [
              0.8888888888888888,
              "#fdca26"
             ],
             [
              1,
              "#f0f921"
             ]
            ],
            "type": "heatmapgl"
           }
          ],
          "histogram": [
           {
            "marker": {
             "pattern": {
              "fillmode": "overlay",
              "size": 10,
              "solidity": 0.2
             }
            },
            "type": "histogram"
           }
          ],
          "histogram2d": [
           {
            "colorbar": {
             "outlinewidth": 0,
             "ticks": ""
            },
            "colorscale": [
             [
              0,
              "#0d0887"
             ],
             [
              0.1111111111111111,
              "#46039f"
             ],
             [
              0.2222222222222222,
              "#7201a8"
             ],
             [
              0.3333333333333333,
              "#9c179e"
             ],
             [
              0.4444444444444444,
              "#bd3786"
             ],
             [
              0.5555555555555556,
              "#d8576b"
             ],
             [
              0.6666666666666666,
              "#ed7953"
             ],
             [
              0.7777777777777778,
              "#fb9f3a"
             ],
             [
              0.8888888888888888,
              "#fdca26"
             ],
             [
              1,
              "#f0f921"
             ]
            ],
            "type": "histogram2d"
           }
          ],
          "histogram2dcontour": [
           {
            "colorbar": {
             "outlinewidth": 0,
             "ticks": ""
            },
            "colorscale": [
             [
              0,
              "#0d0887"
             ],
             [
              0.1111111111111111,
              "#46039f"
             ],
             [
              0.2222222222222222,
              "#7201a8"
             ],
             [
              0.3333333333333333,
              "#9c179e"
             ],
             [
              0.4444444444444444,
              "#bd3786"
             ],
             [
              0.5555555555555556,
              "#d8576b"
             ],
             [
              0.6666666666666666,
              "#ed7953"
             ],
             [
              0.7777777777777778,
              "#fb9f3a"
             ],
             [
              0.8888888888888888,
              "#fdca26"
             ],
             [
              1,
              "#f0f921"
             ]
            ],
            "type": "histogram2dcontour"
           }
          ],
          "mesh3d": [
           {
            "colorbar": {
             "outlinewidth": 0,
             "ticks": ""
            },
            "type": "mesh3d"
           }
          ],
          "parcoords": [
           {
            "line": {
             "colorbar": {
              "outlinewidth": 0,
              "ticks": ""
             }
            },
            "type": "parcoords"
           }
          ],
          "pie": [
           {
            "automargin": true,
            "type": "pie"
           }
          ],
          "scatter": [
           {
            "fillpattern": {
             "fillmode": "overlay",
             "size": 10,
             "solidity": 0.2
            },
            "type": "scatter"
           }
          ],
          "scatter3d": [
           {
            "line": {
             "colorbar": {
              "outlinewidth": 0,
              "ticks": ""
             }
            },
            "marker": {
             "colorbar": {
              "outlinewidth": 0,
              "ticks": ""
             }
            },
            "type": "scatter3d"
           }
          ],
          "scattercarpet": [
           {
            "marker": {
             "colorbar": {
              "outlinewidth": 0,
              "ticks": ""
             }
            },
            "type": "scattercarpet"
           }
          ],
          "scattergeo": [
           {
            "marker": {
             "colorbar": {
              "outlinewidth": 0,
              "ticks": ""
             }
            },
            "type": "scattergeo"
           }
          ],
          "scattergl": [
           {
            "marker": {
             "colorbar": {
              "outlinewidth": 0,
              "ticks": ""
             }
            },
            "type": "scattergl"
           }
          ],
          "scattermapbox": [
           {
            "marker": {
             "colorbar": {
              "outlinewidth": 0,
              "ticks": ""
             }
            },
            "type": "scattermapbox"
           }
          ],
          "scatterpolar": [
           {
            "marker": {
             "colorbar": {
              "outlinewidth": 0,
              "ticks": ""
             }
            },
            "type": "scatterpolar"
           }
          ],
          "scatterpolargl": [
           {
            "marker": {
             "colorbar": {
              "outlinewidth": 0,
              "ticks": ""
             }
            },
            "type": "scatterpolargl"
           }
          ],
          "scatterternary": [
           {
            "marker": {
             "colorbar": {
              "outlinewidth": 0,
              "ticks": ""
             }
            },
            "type": "scatterternary"
           }
          ],
          "surface": [
           {
            "colorbar": {
             "outlinewidth": 0,
             "ticks": ""
            },
            "colorscale": [
             [
              0,
              "#0d0887"
             ],
             [
              0.1111111111111111,
              "#46039f"
             ],
             [
              0.2222222222222222,
              "#7201a8"
             ],
             [
              0.3333333333333333,
              "#9c179e"
             ],
             [
              0.4444444444444444,
              "#bd3786"
             ],
             [
              0.5555555555555556,
              "#d8576b"
             ],
             [
              0.6666666666666666,
              "#ed7953"
             ],
             [
              0.7777777777777778,
              "#fb9f3a"
             ],
             [
              0.8888888888888888,
              "#fdca26"
             ],
             [
              1,
              "#f0f921"
             ]
            ],
            "type": "surface"
           }
          ],
          "table": [
           {
            "cells": {
             "fill": {
              "color": "#EBF0F8"
             },
             "line": {
              "color": "white"
             }
            },
            "header": {
             "fill": {
              "color": "#C8D4E3"
             },
             "line": {
              "color": "white"
             }
            },
            "type": "table"
           }
          ]
         },
         "layout": {
          "annotationdefaults": {
           "arrowcolor": "#2a3f5f",
           "arrowhead": 0,
           "arrowwidth": 1
          },
          "autotypenumbers": "strict",
          "coloraxis": {
           "colorbar": {
            "outlinewidth": 0,
            "ticks": ""
           }
          },
          "colorscale": {
           "diverging": [
            [
             0,
             "#8e0152"
            ],
            [
             0.1,
             "#c51b7d"
            ],
            [
             0.2,
             "#de77ae"
            ],
            [
             0.3,
             "#f1b6da"
            ],
            [
             0.4,
             "#fde0ef"
            ],
            [
             0.5,
             "#f7f7f7"
            ],
            [
             0.6,
             "#e6f5d0"
            ],
            [
             0.7,
             "#b8e186"
            ],
            [
             0.8,
             "#7fbc41"
            ],
            [
             0.9,
             "#4d9221"
            ],
            [
             1,
             "#276419"
            ]
           ],
           "sequential": [
            [
             0,
             "#0d0887"
            ],
            [
             0.1111111111111111,
             "#46039f"
            ],
            [
             0.2222222222222222,
             "#7201a8"
            ],
            [
             0.3333333333333333,
             "#9c179e"
            ],
            [
             0.4444444444444444,
             "#bd3786"
            ],
            [
             0.5555555555555556,
             "#d8576b"
            ],
            [
             0.6666666666666666,
             "#ed7953"
            ],
            [
             0.7777777777777778,
             "#fb9f3a"
            ],
            [
             0.8888888888888888,
             "#fdca26"
            ],
            [
             1,
             "#f0f921"
            ]
           ],
           "sequentialminus": [
            [
             0,
             "#0d0887"
            ],
            [
             0.1111111111111111,
             "#46039f"
            ],
            [
             0.2222222222222222,
             "#7201a8"
            ],
            [
             0.3333333333333333,
             "#9c179e"
            ],
            [
             0.4444444444444444,
             "#bd3786"
            ],
            [
             0.5555555555555556,
             "#d8576b"
            ],
            [
             0.6666666666666666,
             "#ed7953"
            ],
            [
             0.7777777777777778,
             "#fb9f3a"
            ],
            [
             0.8888888888888888,
             "#fdca26"
            ],
            [
             1,
             "#f0f921"
            ]
           ]
          },
          "colorway": [
           "#636efa",
           "#EF553B",
           "#00cc96",
           "#ab63fa",
           "#FFA15A",
           "#19d3f3",
           "#FF6692",
           "#B6E880",
           "#FF97FF",
           "#FECB52"
          ],
          "font": {
           "color": "#2a3f5f"
          },
          "geo": {
           "bgcolor": "white",
           "lakecolor": "white",
           "landcolor": "#E5ECF6",
           "showlakes": true,
           "showland": true,
           "subunitcolor": "white"
          },
          "hoverlabel": {
           "align": "left"
          },
          "hovermode": "closest",
          "mapbox": {
           "style": "light"
          },
          "paper_bgcolor": "white",
          "plot_bgcolor": "#E5ECF6",
          "polar": {
           "angularaxis": {
            "gridcolor": "white",
            "linecolor": "white",
            "ticks": ""
           },
           "bgcolor": "#E5ECF6",
           "radialaxis": {
            "gridcolor": "white",
            "linecolor": "white",
            "ticks": ""
           }
          },
          "scene": {
           "xaxis": {
            "backgroundcolor": "#E5ECF6",
            "gridcolor": "white",
            "gridwidth": 2,
            "linecolor": "white",
            "showbackground": true,
            "ticks": "",
            "zerolinecolor": "white"
           },
           "yaxis": {
            "backgroundcolor": "#E5ECF6",
            "gridcolor": "white",
            "gridwidth": 2,
            "linecolor": "white",
            "showbackground": true,
            "ticks": "",
            "zerolinecolor": "white"
           },
           "zaxis": {
            "backgroundcolor": "#E5ECF6",
            "gridcolor": "white",
            "gridwidth": 2,
            "linecolor": "white",
            "showbackground": true,
            "ticks": "",
            "zerolinecolor": "white"
           }
          },
          "shapedefaults": {
           "line": {
            "color": "#2a3f5f"
           }
          },
          "ternary": {
           "aaxis": {
            "gridcolor": "white",
            "linecolor": "white",
            "ticks": ""
           },
           "baxis": {
            "gridcolor": "white",
            "linecolor": "white",
            "ticks": ""
           },
           "bgcolor": "#E5ECF6",
           "caxis": {
            "gridcolor": "white",
            "linecolor": "white",
            "ticks": ""
           }
          },
          "title": {
           "x": 0.05
          },
          "xaxis": {
           "automargin": true,
           "gridcolor": "white",
           "linecolor": "white",
           "ticks": "",
           "title": {
            "standoff": 15
           },
           "zerolinecolor": "white",
           "zerolinewidth": 2
          },
          "yaxis": {
           "automargin": true,
           "gridcolor": "white",
           "linecolor": "white",
           "ticks": "",
           "title": {
            "standoff": 15
           },
           "zerolinecolor": "white",
           "zerolinewidth": 2
          }
         }
        },
        "xaxis": {
         "title": {
          "text": "periodo em dias"
         }
        },
        "yaxis": {
         "title": {
          "text": "Variação entre o fechamento e fechamento anterior em R$"
         }
        }
       }
      },
      "text/html": [
       "<div>                            <div id=\"28c3d7af-9884-47c9-9793-95fede1bb163\" class=\"plotly-graph-div\" style=\"height:525px; width:100%;\"></div>            <script type=\"text/javascript\">                require([\"plotly\"], function(Plotly) {                    window.PLOTLYENV=window.PLOTLYENV || {};                                    if (document.getElementById(\"28c3d7af-9884-47c9-9793-95fede1bb163\")) {                    Plotly.newPlot(                        \"28c3d7af-9884-47c9-9793-95fede1bb163\",                        [{\"name\":\"Real\",\"y\":[-0.34999847412109375,-0.8400039672851562,1.2300033569335938,-1.0100021362304688,0.1699981689453125,2.9599990844726562,-3.1299972534179688,0.0800018310546875,2.1399993896484375,1.2900009155273438,-1.5200042724609375,0.8899993896484375,-2.3199996948242188,1.1100006103515625,-1.1500015258789062,-2.0199966430664062,0.3300018310546875,-2.0999984741210938,-1.5,0.399993896484375,-0.1999969482421875,-1.0999984741210938,1.970001220703125,2.1800003051757812,0.31999969482421875,0.05999755859375,2.0699996948242188,-0.8499984741210938,-0.25,1.9000015258789062,-0.850006103515625,-3.3199996948242188,-2.149993896484375,1.4399948120117188,2.3499984741210938,1.2300033569335938,-0.15000152587890625,1.8300018310546875,1.9199981689453125,-0.839996337890625,-0.910003662109375,-1.8799972534179688,2.3300018310546875,0.529998779296875,0.779998779296875,-0.660003662109375,-0.5499954223632812,1.529998779296875,1.220001220703125,-0.23000335693359375],\"type\":\"scatter\"},{\"name\":\"LSTM\",\"y\":[-0.34999847412109375,-0.8400039672851562,1.2300033569335938,-1.0100021362304688,0.1699981689453125,2.9599990844726562,-3.1299972534179688,0.0800018310546875,2.1399993896484375,1.2900009155273438,-1.5200042724609375,0.8899993896484375,-2.3199996948242188,1.1100006103515625,-1.1500015258789062,-2.0199966430664062,0.3300018310546875,-2.0999984741210938,-1.5,0.399993896484375,1.3190586716845019,0.24544675289502038,0.37826262389307885,0.33082277641182145,0.3048812929570204,0.3241627546271957,0.3357555837555992,0.2825525885522211,0.23457381822925072,0.1850248529600549,0.09318707803743109,0.05695283364275383,0.0554278816017586,0.16235815743971216,0.15737611516965444,0.10019174430601652,0.12491832268801772,0.2044180912196225,0.22415730463683303,0.2585658647381024,0.28276017364680683,0.2333921799985319,0.25449134192001566,0.1786562487120591,0.19830497631880917,0.16201484362943575,0.13266550487185214,0.13914854705660673,0.06751572134032813,0.0015941470725238105],\"type\":\"scatter\"},{\"name\":\"GRU\",\"y\":[-0.34999847412109375,-0.8400039672851562,1.2300033569335938,-1.0100021362304688,0.1699981689453125,2.9599990844726562,-3.1299972534179688,0.0800018310546875,2.1399993896484375,1.2900009155273438,-1.5200042724609375,0.8899993896484375,-2.3199996948242188,1.1100006103515625,-1.1500015258789062,-2.0199966430664062,0.3300018310546875,-2.0999984741210938,-1.5,0.399993896484375,1.5645227233374044,0.8372718575589602,0.5805316771142657,0.4886153924443306,0.433435016147655,0.46480431755639984,0.50186890232942,0.28743349962235243,0.10719641057460194,-0.14100084482367947,-0.5143133626150984,-0.5486953092427029,-0.3863131996766924,0.20529633585056217,0.603141153666229,0.4001016403824451,0.18098492765773244,0.2701161123086422,0.34641427995836693,0.4939992981667274,0.44351619997189573,0.16228896240818358,0.31325655311934497,0.27966768800695263,0.3754123208635747,0.26212674751445775,0.036021336605358556,0.13848587156235226,0.10598815887021829,0.14985780885933764],\"type\":\"scatter\"}],                        {\"template\":{\"data\":{\"histogram2dcontour\":[{\"type\":\"histogram2dcontour\",\"colorbar\":{\"outlinewidth\":0,\"ticks\":\"\"},\"colorscale\":[[0.0,\"#0d0887\"],[0.1111111111111111,\"#46039f\"],[0.2222222222222222,\"#7201a8\"],[0.3333333333333333,\"#9c179e\"],[0.4444444444444444,\"#bd3786\"],[0.5555555555555556,\"#d8576b\"],[0.6666666666666666,\"#ed7953\"],[0.7777777777777778,\"#fb9f3a\"],[0.8888888888888888,\"#fdca26\"],[1.0,\"#f0f921\"]]}],\"choropleth\":[{\"type\":\"choropleth\",\"colorbar\":{\"outlinewidth\":0,\"ticks\":\"\"}}],\"histogram2d\":[{\"type\":\"histogram2d\",\"colorbar\":{\"outlinewidth\":0,\"ticks\":\"\"},\"colorscale\":[[0.0,\"#0d0887\"],[0.1111111111111111,\"#46039f\"],[0.2222222222222222,\"#7201a8\"],[0.3333333333333333,\"#9c179e\"],[0.4444444444444444,\"#bd3786\"],[0.5555555555555556,\"#d8576b\"],[0.6666666666666666,\"#ed7953\"],[0.7777777777777778,\"#fb9f3a\"],[0.8888888888888888,\"#fdca26\"],[1.0,\"#f0f921\"]]}],\"heatmap\":[{\"type\":\"heatmap\",\"colorbar\":{\"outlinewidth\":0,\"ticks\":\"\"},\"colorscale\":[[0.0,\"#0d0887\"],[0.1111111111111111,\"#46039f\"],[0.2222222222222222,\"#7201a8\"],[0.3333333333333333,\"#9c179e\"],[0.4444444444444444,\"#bd3786\"],[0.5555555555555556,\"#d8576b\"],[0.6666666666666666,\"#ed7953\"],[0.7777777777777778,\"#fb9f3a\"],[0.8888888888888888,\"#fdca26\"],[1.0,\"#f0f921\"]]}],\"heatmapgl\":[{\"type\":\"heatmapgl\",\"colorbar\":{\"outlinewidth\":0,\"ticks\":\"\"},\"colorscale\":[[0.0,\"#0d0887\"],[0.1111111111111111,\"#46039f\"],[0.2222222222222222,\"#7201a8\"],[0.3333333333333333,\"#9c179e\"],[0.4444444444444444,\"#bd3786\"],[0.5555555555555556,\"#d8576b\"],[0.6666666666666666,\"#ed7953\"],[0.7777777777777778,\"#fb9f3a\"],[0.8888888888888888,\"#fdca26\"],[1.0,\"#f0f921\"]]}],\"contourcarpet\":[{\"type\":\"contourcarpet\",\"colorbar\":{\"outlinewidth\":0,\"ticks\":\"\"}}],\"contour\":[{\"type\":\"contour\",\"colorbar\":{\"outlinewidth\":0,\"ticks\":\"\"},\"colorscale\":[[0.0,\"#0d0887\"],[0.1111111111111111,\"#46039f\"],[0.2222222222222222,\"#7201a8\"],[0.3333333333333333,\"#9c179e\"],[0.4444444444444444,\"#bd3786\"],[0.5555555555555556,\"#d8576b\"],[0.6666666666666666,\"#ed7953\"],[0.7777777777777778,\"#fb9f3a\"],[0.8888888888888888,\"#fdca26\"],[1.0,\"#f0f921\"]]}],\"surface\":[{\"type\":\"surface\",\"colorbar\":{\"outlinewidth\":0,\"ticks\":\"\"},\"colorscale\":[[0.0,\"#0d0887\"],[0.1111111111111111,\"#46039f\"],[0.2222222222222222,\"#7201a8\"],[0.3333333333333333,\"#9c179e\"],[0.4444444444444444,\"#bd3786\"],[0.5555555555555556,\"#d8576b\"],[0.6666666666666666,\"#ed7953\"],[0.7777777777777778,\"#fb9f3a\"],[0.8888888888888888,\"#fdca26\"],[1.0,\"#f0f921\"]]}],\"mesh3d\":[{\"type\":\"mesh3d\",\"colorbar\":{\"outlinewidth\":0,\"ticks\":\"\"}}],\"scatter\":[{\"fillpattern\":{\"fillmode\":\"overlay\",\"size\":10,\"solidity\":0.2},\"type\":\"scatter\"}],\"parcoords\":[{\"type\":\"parcoords\",\"line\":{\"colorbar\":{\"outlinewidth\":0,\"ticks\":\"\"}}}],\"scatterpolargl\":[{\"type\":\"scatterpolargl\",\"marker\":{\"colorbar\":{\"outlinewidth\":0,\"ticks\":\"\"}}}],\"bar\":[{\"error_x\":{\"color\":\"#2a3f5f\"},\"error_y\":{\"color\":\"#2a3f5f\"},\"marker\":{\"line\":{\"color\":\"#E5ECF6\",\"width\":0.5},\"pattern\":{\"fillmode\":\"overlay\",\"size\":10,\"solidity\":0.2}},\"type\":\"bar\"}],\"scattergeo\":[{\"type\":\"scattergeo\",\"marker\":{\"colorbar\":{\"outlinewidth\":0,\"ticks\":\"\"}}}],\"scatterpolar\":[{\"type\":\"scatterpolar\",\"marker\":{\"colorbar\":{\"outlinewidth\":0,\"ticks\":\"\"}}}],\"histogram\":[{\"marker\":{\"pattern\":{\"fillmode\":\"overlay\",\"size\":10,\"solidity\":0.2}},\"type\":\"histogram\"}],\"scattergl\":[{\"type\":\"scattergl\",\"marker\":{\"colorbar\":{\"outlinewidth\":0,\"ticks\":\"\"}}}],\"scatter3d\":[{\"type\":\"scatter3d\",\"line\":{\"colorbar\":{\"outlinewidth\":0,\"ticks\":\"\"}},\"marker\":{\"colorbar\":{\"outlinewidth\":0,\"ticks\":\"\"}}}],\"scattermapbox\":[{\"type\":\"scattermapbox\",\"marker\":{\"colorbar\":{\"outlinewidth\":0,\"ticks\":\"\"}}}],\"scatterternary\":[{\"type\":\"scatterternary\",\"marker\":{\"colorbar\":{\"outlinewidth\":0,\"ticks\":\"\"}}}],\"scattercarpet\":[{\"type\":\"scattercarpet\",\"marker\":{\"colorbar\":{\"outlinewidth\":0,\"ticks\":\"\"}}}],\"carpet\":[{\"aaxis\":{\"endlinecolor\":\"#2a3f5f\",\"gridcolor\":\"white\",\"linecolor\":\"white\",\"minorgridcolor\":\"white\",\"startlinecolor\":\"#2a3f5f\"},\"baxis\":{\"endlinecolor\":\"#2a3f5f\",\"gridcolor\":\"white\",\"linecolor\":\"white\",\"minorgridcolor\":\"white\",\"startlinecolor\":\"#2a3f5f\"},\"type\":\"carpet\"}],\"table\":[{\"cells\":{\"fill\":{\"color\":\"#EBF0F8\"},\"line\":{\"color\":\"white\"}},\"header\":{\"fill\":{\"color\":\"#C8D4E3\"},\"line\":{\"color\":\"white\"}},\"type\":\"table\"}],\"barpolar\":[{\"marker\":{\"line\":{\"color\":\"#E5ECF6\",\"width\":0.5},\"pattern\":{\"fillmode\":\"overlay\",\"size\":10,\"solidity\":0.2}},\"type\":\"barpolar\"}],\"pie\":[{\"automargin\":true,\"type\":\"pie\"}]},\"layout\":{\"autotypenumbers\":\"strict\",\"colorway\":[\"#636efa\",\"#EF553B\",\"#00cc96\",\"#ab63fa\",\"#FFA15A\",\"#19d3f3\",\"#FF6692\",\"#B6E880\",\"#FF97FF\",\"#FECB52\"],\"font\":{\"color\":\"#2a3f5f\"},\"hovermode\":\"closest\",\"hoverlabel\":{\"align\":\"left\"},\"paper_bgcolor\":\"white\",\"plot_bgcolor\":\"#E5ECF6\",\"polar\":{\"bgcolor\":\"#E5ECF6\",\"angularaxis\":{\"gridcolor\":\"white\",\"linecolor\":\"white\",\"ticks\":\"\"},\"radialaxis\":{\"gridcolor\":\"white\",\"linecolor\":\"white\",\"ticks\":\"\"}},\"ternary\":{\"bgcolor\":\"#E5ECF6\",\"aaxis\":{\"gridcolor\":\"white\",\"linecolor\":\"white\",\"ticks\":\"\"},\"baxis\":{\"gridcolor\":\"white\",\"linecolor\":\"white\",\"ticks\":\"\"},\"caxis\":{\"gridcolor\":\"white\",\"linecolor\":\"white\",\"ticks\":\"\"}},\"coloraxis\":{\"colorbar\":{\"outlinewidth\":0,\"ticks\":\"\"}},\"colorscale\":{\"sequential\":[[0.0,\"#0d0887\"],[0.1111111111111111,\"#46039f\"],[0.2222222222222222,\"#7201a8\"],[0.3333333333333333,\"#9c179e\"],[0.4444444444444444,\"#bd3786\"],[0.5555555555555556,\"#d8576b\"],[0.6666666666666666,\"#ed7953\"],[0.7777777777777778,\"#fb9f3a\"],[0.8888888888888888,\"#fdca26\"],[1.0,\"#f0f921\"]],\"sequentialminus\":[[0.0,\"#0d0887\"],[0.1111111111111111,\"#46039f\"],[0.2222222222222222,\"#7201a8\"],[0.3333333333333333,\"#9c179e\"],[0.4444444444444444,\"#bd3786\"],[0.5555555555555556,\"#d8576b\"],[0.6666666666666666,\"#ed7953\"],[0.7777777777777778,\"#fb9f3a\"],[0.8888888888888888,\"#fdca26\"],[1.0,\"#f0f921\"]],\"diverging\":[[0,\"#8e0152\"],[0.1,\"#c51b7d\"],[0.2,\"#de77ae\"],[0.3,\"#f1b6da\"],[0.4,\"#fde0ef\"],[0.5,\"#f7f7f7\"],[0.6,\"#e6f5d0\"],[0.7,\"#b8e186\"],[0.8,\"#7fbc41\"],[0.9,\"#4d9221\"],[1,\"#276419\"]]},\"xaxis\":{\"gridcolor\":\"white\",\"linecolor\":\"white\",\"ticks\":\"\",\"title\":{\"standoff\":15},\"zerolinecolor\":\"white\",\"automargin\":true,\"zerolinewidth\":2},\"yaxis\":{\"gridcolor\":\"white\",\"linecolor\":\"white\",\"ticks\":\"\",\"title\":{\"standoff\":15},\"zerolinecolor\":\"white\",\"automargin\":true,\"zerolinewidth\":2},\"scene\":{\"xaxis\":{\"backgroundcolor\":\"#E5ECF6\",\"gridcolor\":\"white\",\"linecolor\":\"white\",\"showbackground\":true,\"ticks\":\"\",\"zerolinecolor\":\"white\",\"gridwidth\":2},\"yaxis\":{\"backgroundcolor\":\"#E5ECF6\",\"gridcolor\":\"white\",\"linecolor\":\"white\",\"showbackground\":true,\"ticks\":\"\",\"zerolinecolor\":\"white\",\"gridwidth\":2},\"zaxis\":{\"backgroundcolor\":\"#E5ECF6\",\"gridcolor\":\"white\",\"linecolor\":\"white\",\"showbackground\":true,\"ticks\":\"\",\"zerolinecolor\":\"white\",\"gridwidth\":2}},\"shapedefaults\":{\"line\":{\"color\":\"#2a3f5f\"}},\"annotationdefaults\":{\"arrowcolor\":\"#2a3f5f\",\"arrowhead\":0,\"arrowwidth\":1},\"geo\":{\"bgcolor\":\"white\",\"landcolor\":\"#E5ECF6\",\"subunitcolor\":\"white\",\"showland\":true,\"showlakes\":true,\"lakecolor\":\"white\"},\"title\":{\"x\":0.05},\"mapbox\":{\"style\":\"light\"}}},\"yaxis\":{\"title\":{\"text\":\"Varia\\u00e7\\u00e3o entre o fechamento e fechamento anterior em R$\"}},\"xaxis\":{\"title\":{\"text\":\"periodo em dias\"}}},                        {\"responsive\": true}                    ).then(function(){\n",
       "                            \n",
       "var gd = document.getElementById('28c3d7af-9884-47c9-9793-95fede1bb163');\n",
       "var x = new MutationObserver(function (mutations, observer) {{\n",
       "        var display = window.getComputedStyle(gd).display;\n",
       "        if (!display || display === 'none') {{\n",
       "            console.log([gd, 'removed!']);\n",
       "            Plotly.purge(gd);\n",
       "            observer.disconnect();\n",
       "        }}\n",
       "}});\n",
       "\n",
       "// Listen for the removal of the full notebook cells\n",
       "var notebookContainer = gd.closest('#notebook-container');\n",
       "if (notebookContainer) {{\n",
       "    x.observe(notebookContainer, {childList: true});\n",
       "}}\n",
       "\n",
       "// Listen for the clearing of the current output cell\n",
       "var outputEl = gd.closest('.output');\n",
       "if (outputEl) {{\n",
       "    x.observe(outputEl, {childList: true});\n",
       "}}\n",
       "\n",
       "                        })                };                });            </script>        </div>"
      ]
     },
     "metadata": {},
     "output_type": "display_data"
    }
   ],
   "source": [
    "import plotly.graph_objs as go\n",
    "fig = go.Figure()\n",
    "\n",
    "fig.add_trace(go.Scatter(\n",
    "   y=bova11['close_change'][-50:],\n",
    "   name=\"Real\")\n",
    ")\n",
    "\n",
    "fig.add_trace(go.Scatter(\n",
    "   y=pred_30_lstm['close_change'][-50:],\n",
    "   name=\"LSTM\")\n",
    ")\n",
    "\n",
    "fig.add_trace(go.Scatter(\n",
    "   y=pred_30_gru.close_change[-50:],\n",
    "   name=\"GRU\")\n",
    ")\n",
    "\n",
    "fig.update_layout(\n",
    "   #title=\"Banda de Bollinger superior e inferior dos ultimos 60 dias de fechamento de 2009 a Fev 2023\",\n",
    "    yaxis_title=\"Variação entre o fechamento e fechamento anterior em R$\",\n",
    "    xaxis_title=\"periodo em dias\",\n",
    "   #legend_title=\"legend\",\n",
    ")\n",
    "fig.show()"
   ]
  },
  {
   "cell_type": "code",
   "execution_count": 124,
   "id": "96fc0df8",
   "metadata": {},
   "outputs": [
    {
     "data": {
      "application/vnd.plotly.v1+json": {
       "config": {
        "plotlyServerURL": "https://plot.ly"
       },
       "data": [
        {
         "name": "Real",
         "type": "scatter",
         "y": [
          -0.910003662109375,
          -1.8799972534179688,
          2.3300018310546875,
          0.529998779296875,
          0.779998779296875,
          -0.660003662109375,
          -0.5499954223632812,
          1.529998779296875,
          1.220001220703125,
          -0.23000335693359375
         ]
        },
        {
         "name": "LSTM",
         "type": "scatter",
         "y": [
          -0.910003662109375,
          -1.8799972534179688,
          2.3300018310546875,
          0.529998779296875,
          0.779998779296875,
          -1.2285662703974367,
          -0.2794068759650372,
          -0.1328704286190714,
          -0.2045165610721824,
          -0.24183663519238507
         ]
        },
        {
         "name": "GRU",
         "type": "scatter",
         "y": [
          -0.910003662109375,
          -1.8799972534179688,
          2.3300018310546875,
          0.529998779296875,
          0.779998779296875,
          -0.5843285906979645,
          -0.32327918730152305,
          -0.06673594656194837,
          -0.10901411082591039,
          -0.10449248165025438
         ]
        }
       ],
       "layout": {
        "template": {
         "data": {
          "bar": [
           {
            "error_x": {
             "color": "#2a3f5f"
            },
            "error_y": {
             "color": "#2a3f5f"
            },
            "marker": {
             "line": {
              "color": "#E5ECF6",
              "width": 0.5
             },
             "pattern": {
              "fillmode": "overlay",
              "size": 10,
              "solidity": 0.2
             }
            },
            "type": "bar"
           }
          ],
          "barpolar": [
           {
            "marker": {
             "line": {
              "color": "#E5ECF6",
              "width": 0.5
             },
             "pattern": {
              "fillmode": "overlay",
              "size": 10,
              "solidity": 0.2
             }
            },
            "type": "barpolar"
           }
          ],
          "carpet": [
           {
            "aaxis": {
             "endlinecolor": "#2a3f5f",
             "gridcolor": "white",
             "linecolor": "white",
             "minorgridcolor": "white",
             "startlinecolor": "#2a3f5f"
            },
            "baxis": {
             "endlinecolor": "#2a3f5f",
             "gridcolor": "white",
             "linecolor": "white",
             "minorgridcolor": "white",
             "startlinecolor": "#2a3f5f"
            },
            "type": "carpet"
           }
          ],
          "choropleth": [
           {
            "colorbar": {
             "outlinewidth": 0,
             "ticks": ""
            },
            "type": "choropleth"
           }
          ],
          "contour": [
           {
            "colorbar": {
             "outlinewidth": 0,
             "ticks": ""
            },
            "colorscale": [
             [
              0,
              "#0d0887"
             ],
             [
              0.1111111111111111,
              "#46039f"
             ],
             [
              0.2222222222222222,
              "#7201a8"
             ],
             [
              0.3333333333333333,
              "#9c179e"
             ],
             [
              0.4444444444444444,
              "#bd3786"
             ],
             [
              0.5555555555555556,
              "#d8576b"
             ],
             [
              0.6666666666666666,
              "#ed7953"
             ],
             [
              0.7777777777777778,
              "#fb9f3a"
             ],
             [
              0.8888888888888888,
              "#fdca26"
             ],
             [
              1,
              "#f0f921"
             ]
            ],
            "type": "contour"
           }
          ],
          "contourcarpet": [
           {
            "colorbar": {
             "outlinewidth": 0,
             "ticks": ""
            },
            "type": "contourcarpet"
           }
          ],
          "heatmap": [
           {
            "colorbar": {
             "outlinewidth": 0,
             "ticks": ""
            },
            "colorscale": [
             [
              0,
              "#0d0887"
             ],
             [
              0.1111111111111111,
              "#46039f"
             ],
             [
              0.2222222222222222,
              "#7201a8"
             ],
             [
              0.3333333333333333,
              "#9c179e"
             ],
             [
              0.4444444444444444,
              "#bd3786"
             ],
             [
              0.5555555555555556,
              "#d8576b"
             ],
             [
              0.6666666666666666,
              "#ed7953"
             ],
             [
              0.7777777777777778,
              "#fb9f3a"
             ],
             [
              0.8888888888888888,
              "#fdca26"
             ],
             [
              1,
              "#f0f921"
             ]
            ],
            "type": "heatmap"
           }
          ],
          "heatmapgl": [
           {
            "colorbar": {
             "outlinewidth": 0,
             "ticks": ""
            },
            "colorscale": [
             [
              0,
              "#0d0887"
             ],
             [
              0.1111111111111111,
              "#46039f"
             ],
             [
              0.2222222222222222,
              "#7201a8"
             ],
             [
              0.3333333333333333,
              "#9c179e"
             ],
             [
              0.4444444444444444,
              "#bd3786"
             ],
             [
              0.5555555555555556,
              "#d8576b"
             ],
             [
              0.6666666666666666,
              "#ed7953"
             ],
             [
              0.7777777777777778,
              "#fb9f3a"
             ],
             [
              0.8888888888888888,
              "#fdca26"
             ],
             [
              1,
              "#f0f921"
             ]
            ],
            "type": "heatmapgl"
           }
          ],
          "histogram": [
           {
            "marker": {
             "pattern": {
              "fillmode": "overlay",
              "size": 10,
              "solidity": 0.2
             }
            },
            "type": "histogram"
           }
          ],
          "histogram2d": [
           {
            "colorbar": {
             "outlinewidth": 0,
             "ticks": ""
            },
            "colorscale": [
             [
              0,
              "#0d0887"
             ],
             [
              0.1111111111111111,
              "#46039f"
             ],
             [
              0.2222222222222222,
              "#7201a8"
             ],
             [
              0.3333333333333333,
              "#9c179e"
             ],
             [
              0.4444444444444444,
              "#bd3786"
             ],
             [
              0.5555555555555556,
              "#d8576b"
             ],
             [
              0.6666666666666666,
              "#ed7953"
             ],
             [
              0.7777777777777778,
              "#fb9f3a"
             ],
             [
              0.8888888888888888,
              "#fdca26"
             ],
             [
              1,
              "#f0f921"
             ]
            ],
            "type": "histogram2d"
           }
          ],
          "histogram2dcontour": [
           {
            "colorbar": {
             "outlinewidth": 0,
             "ticks": ""
            },
            "colorscale": [
             [
              0,
              "#0d0887"
             ],
             [
              0.1111111111111111,
              "#46039f"
             ],
             [
              0.2222222222222222,
              "#7201a8"
             ],
             [
              0.3333333333333333,
              "#9c179e"
             ],
             [
              0.4444444444444444,
              "#bd3786"
             ],
             [
              0.5555555555555556,
              "#d8576b"
             ],
             [
              0.6666666666666666,
              "#ed7953"
             ],
             [
              0.7777777777777778,
              "#fb9f3a"
             ],
             [
              0.8888888888888888,
              "#fdca26"
             ],
             [
              1,
              "#f0f921"
             ]
            ],
            "type": "histogram2dcontour"
           }
          ],
          "mesh3d": [
           {
            "colorbar": {
             "outlinewidth": 0,
             "ticks": ""
            },
            "type": "mesh3d"
           }
          ],
          "parcoords": [
           {
            "line": {
             "colorbar": {
              "outlinewidth": 0,
              "ticks": ""
             }
            },
            "type": "parcoords"
           }
          ],
          "pie": [
           {
            "automargin": true,
            "type": "pie"
           }
          ],
          "scatter": [
           {
            "fillpattern": {
             "fillmode": "overlay",
             "size": 10,
             "solidity": 0.2
            },
            "type": "scatter"
           }
          ],
          "scatter3d": [
           {
            "line": {
             "colorbar": {
              "outlinewidth": 0,
              "ticks": ""
             }
            },
            "marker": {
             "colorbar": {
              "outlinewidth": 0,
              "ticks": ""
             }
            },
            "type": "scatter3d"
           }
          ],
          "scattercarpet": [
           {
            "marker": {
             "colorbar": {
              "outlinewidth": 0,
              "ticks": ""
             }
            },
            "type": "scattercarpet"
           }
          ],
          "scattergeo": [
           {
            "marker": {
             "colorbar": {
              "outlinewidth": 0,
              "ticks": ""
             }
            },
            "type": "scattergeo"
           }
          ],
          "scattergl": [
           {
            "marker": {
             "colorbar": {
              "outlinewidth": 0,
              "ticks": ""
             }
            },
            "type": "scattergl"
           }
          ],
          "scattermapbox": [
           {
            "marker": {
             "colorbar": {
              "outlinewidth": 0,
              "ticks": ""
             }
            },
            "type": "scattermapbox"
           }
          ],
          "scatterpolar": [
           {
            "marker": {
             "colorbar": {
              "outlinewidth": 0,
              "ticks": ""
             }
            },
            "type": "scatterpolar"
           }
          ],
          "scatterpolargl": [
           {
            "marker": {
             "colorbar": {
              "outlinewidth": 0,
              "ticks": ""
             }
            },
            "type": "scatterpolargl"
           }
          ],
          "scatterternary": [
           {
            "marker": {
             "colorbar": {
              "outlinewidth": 0,
              "ticks": ""
             }
            },
            "type": "scatterternary"
           }
          ],
          "surface": [
           {
            "colorbar": {
             "outlinewidth": 0,
             "ticks": ""
            },
            "colorscale": [
             [
              0,
              "#0d0887"
             ],
             [
              0.1111111111111111,
              "#46039f"
             ],
             [
              0.2222222222222222,
              "#7201a8"
             ],
             [
              0.3333333333333333,
              "#9c179e"
             ],
             [
              0.4444444444444444,
              "#bd3786"
             ],
             [
              0.5555555555555556,
              "#d8576b"
             ],
             [
              0.6666666666666666,
              "#ed7953"
             ],
             [
              0.7777777777777778,
              "#fb9f3a"
             ],
             [
              0.8888888888888888,
              "#fdca26"
             ],
             [
              1,
              "#f0f921"
             ]
            ],
            "type": "surface"
           }
          ],
          "table": [
           {
            "cells": {
             "fill": {
              "color": "#EBF0F8"
             },
             "line": {
              "color": "white"
             }
            },
            "header": {
             "fill": {
              "color": "#C8D4E3"
             },
             "line": {
              "color": "white"
             }
            },
            "type": "table"
           }
          ]
         },
         "layout": {
          "annotationdefaults": {
           "arrowcolor": "#2a3f5f",
           "arrowhead": 0,
           "arrowwidth": 1
          },
          "autotypenumbers": "strict",
          "coloraxis": {
           "colorbar": {
            "outlinewidth": 0,
            "ticks": ""
           }
          },
          "colorscale": {
           "diverging": [
            [
             0,
             "#8e0152"
            ],
            [
             0.1,
             "#c51b7d"
            ],
            [
             0.2,
             "#de77ae"
            ],
            [
             0.3,
             "#f1b6da"
            ],
            [
             0.4,
             "#fde0ef"
            ],
            [
             0.5,
             "#f7f7f7"
            ],
            [
             0.6,
             "#e6f5d0"
            ],
            [
             0.7,
             "#b8e186"
            ],
            [
             0.8,
             "#7fbc41"
            ],
            [
             0.9,
             "#4d9221"
            ],
            [
             1,
             "#276419"
            ]
           ],
           "sequential": [
            [
             0,
             "#0d0887"
            ],
            [
             0.1111111111111111,
             "#46039f"
            ],
            [
             0.2222222222222222,
             "#7201a8"
            ],
            [
             0.3333333333333333,
             "#9c179e"
            ],
            [
             0.4444444444444444,
             "#bd3786"
            ],
            [
             0.5555555555555556,
             "#d8576b"
            ],
            [
             0.6666666666666666,
             "#ed7953"
            ],
            [
             0.7777777777777778,
             "#fb9f3a"
            ],
            [
             0.8888888888888888,
             "#fdca26"
            ],
            [
             1,
             "#f0f921"
            ]
           ],
           "sequentialminus": [
            [
             0,
             "#0d0887"
            ],
            [
             0.1111111111111111,
             "#46039f"
            ],
            [
             0.2222222222222222,
             "#7201a8"
            ],
            [
             0.3333333333333333,
             "#9c179e"
            ],
            [
             0.4444444444444444,
             "#bd3786"
            ],
            [
             0.5555555555555556,
             "#d8576b"
            ],
            [
             0.6666666666666666,
             "#ed7953"
            ],
            [
             0.7777777777777778,
             "#fb9f3a"
            ],
            [
             0.8888888888888888,
             "#fdca26"
            ],
            [
             1,
             "#f0f921"
            ]
           ]
          },
          "colorway": [
           "#636efa",
           "#EF553B",
           "#00cc96",
           "#ab63fa",
           "#FFA15A",
           "#19d3f3",
           "#FF6692",
           "#B6E880",
           "#FF97FF",
           "#FECB52"
          ],
          "font": {
           "color": "#2a3f5f"
          },
          "geo": {
           "bgcolor": "white",
           "lakecolor": "white",
           "landcolor": "#E5ECF6",
           "showlakes": true,
           "showland": true,
           "subunitcolor": "white"
          },
          "hoverlabel": {
           "align": "left"
          },
          "hovermode": "closest",
          "mapbox": {
           "style": "light"
          },
          "paper_bgcolor": "white",
          "plot_bgcolor": "#E5ECF6",
          "polar": {
           "angularaxis": {
            "gridcolor": "white",
            "linecolor": "white",
            "ticks": ""
           },
           "bgcolor": "#E5ECF6",
           "radialaxis": {
            "gridcolor": "white",
            "linecolor": "white",
            "ticks": ""
           }
          },
          "scene": {
           "xaxis": {
            "backgroundcolor": "#E5ECF6",
            "gridcolor": "white",
            "gridwidth": 2,
            "linecolor": "white",
            "showbackground": true,
            "ticks": "",
            "zerolinecolor": "white"
           },
           "yaxis": {
            "backgroundcolor": "#E5ECF6",
            "gridcolor": "white",
            "gridwidth": 2,
            "linecolor": "white",
            "showbackground": true,
            "ticks": "",
            "zerolinecolor": "white"
           },
           "zaxis": {
            "backgroundcolor": "#E5ECF6",
            "gridcolor": "white",
            "gridwidth": 2,
            "linecolor": "white",
            "showbackground": true,
            "ticks": "",
            "zerolinecolor": "white"
           }
          },
          "shapedefaults": {
           "line": {
            "color": "#2a3f5f"
           }
          },
          "ternary": {
           "aaxis": {
            "gridcolor": "white",
            "linecolor": "white",
            "ticks": ""
           },
           "baxis": {
            "gridcolor": "white",
            "linecolor": "white",
            "ticks": ""
           },
           "bgcolor": "#E5ECF6",
           "caxis": {
            "gridcolor": "white",
            "linecolor": "white",
            "ticks": ""
           }
          },
          "title": {
           "x": 0.05
          },
          "xaxis": {
           "automargin": true,
           "gridcolor": "white",
           "linecolor": "white",
           "ticks": "",
           "title": {
            "standoff": 15
           },
           "zerolinecolor": "white",
           "zerolinewidth": 2
          },
          "yaxis": {
           "automargin": true,
           "gridcolor": "white",
           "linecolor": "white",
           "ticks": "",
           "title": {
            "standoff": 15
           },
           "zerolinecolor": "white",
           "zerolinewidth": 2
          }
         }
        },
        "xaxis": {
         "title": {
          "text": "periodo em dias"
         }
        },
        "yaxis": {
         "title": {
          "text": "Variação entre o fechamento e fechamento anterior em R$"
         }
        }
       }
      },
      "text/html": [
       "<div>                            <div id=\"07b8e3c7-35a6-47e4-bd35-e0123d862ddc\" class=\"plotly-graph-div\" style=\"height:525px; width:100%;\"></div>            <script type=\"text/javascript\">                require([\"plotly\"], function(Plotly) {                    window.PLOTLYENV=window.PLOTLYENV || {};                                    if (document.getElementById(\"07b8e3c7-35a6-47e4-bd35-e0123d862ddc\")) {                    Plotly.newPlot(                        \"07b8e3c7-35a6-47e4-bd35-e0123d862ddc\",                        [{\"name\":\"Real\",\"y\":[-0.910003662109375,-1.8799972534179688,2.3300018310546875,0.529998779296875,0.779998779296875,-0.660003662109375,-0.5499954223632812,1.529998779296875,1.220001220703125,-0.23000335693359375],\"type\":\"scatter\"},{\"name\":\"LSTM\",\"y\":[-0.910003662109375,-1.8799972534179688,2.3300018310546875,0.529998779296875,0.779998779296875,-1.2285662703974367,-0.2794068759650372,-0.1328704286190714,-0.2045165610721824,-0.24183663519238507],\"type\":\"scatter\"},{\"name\":\"GRU\",\"y\":[-0.910003662109375,-1.8799972534179688,2.3300018310546875,0.529998779296875,0.779998779296875,-0.5843285906979645,-0.32327918730152305,-0.06673594656194837,-0.10901411082591039,-0.10449248165025438],\"type\":\"scatter\"}],                        {\"template\":{\"data\":{\"histogram2dcontour\":[{\"type\":\"histogram2dcontour\",\"colorbar\":{\"outlinewidth\":0,\"ticks\":\"\"},\"colorscale\":[[0.0,\"#0d0887\"],[0.1111111111111111,\"#46039f\"],[0.2222222222222222,\"#7201a8\"],[0.3333333333333333,\"#9c179e\"],[0.4444444444444444,\"#bd3786\"],[0.5555555555555556,\"#d8576b\"],[0.6666666666666666,\"#ed7953\"],[0.7777777777777778,\"#fb9f3a\"],[0.8888888888888888,\"#fdca26\"],[1.0,\"#f0f921\"]]}],\"choropleth\":[{\"type\":\"choropleth\",\"colorbar\":{\"outlinewidth\":0,\"ticks\":\"\"}}],\"histogram2d\":[{\"type\":\"histogram2d\",\"colorbar\":{\"outlinewidth\":0,\"ticks\":\"\"},\"colorscale\":[[0.0,\"#0d0887\"],[0.1111111111111111,\"#46039f\"],[0.2222222222222222,\"#7201a8\"],[0.3333333333333333,\"#9c179e\"],[0.4444444444444444,\"#bd3786\"],[0.5555555555555556,\"#d8576b\"],[0.6666666666666666,\"#ed7953\"],[0.7777777777777778,\"#fb9f3a\"],[0.8888888888888888,\"#fdca26\"],[1.0,\"#f0f921\"]]}],\"heatmap\":[{\"type\":\"heatmap\",\"colorbar\":{\"outlinewidth\":0,\"ticks\":\"\"},\"colorscale\":[[0.0,\"#0d0887\"],[0.1111111111111111,\"#46039f\"],[0.2222222222222222,\"#7201a8\"],[0.3333333333333333,\"#9c179e\"],[0.4444444444444444,\"#bd3786\"],[0.5555555555555556,\"#d8576b\"],[0.6666666666666666,\"#ed7953\"],[0.7777777777777778,\"#fb9f3a\"],[0.8888888888888888,\"#fdca26\"],[1.0,\"#f0f921\"]]}],\"heatmapgl\":[{\"type\":\"heatmapgl\",\"colorbar\":{\"outlinewidth\":0,\"ticks\":\"\"},\"colorscale\":[[0.0,\"#0d0887\"],[0.1111111111111111,\"#46039f\"],[0.2222222222222222,\"#7201a8\"],[0.3333333333333333,\"#9c179e\"],[0.4444444444444444,\"#bd3786\"],[0.5555555555555556,\"#d8576b\"],[0.6666666666666666,\"#ed7953\"],[0.7777777777777778,\"#fb9f3a\"],[0.8888888888888888,\"#fdca26\"],[1.0,\"#f0f921\"]]}],\"contourcarpet\":[{\"type\":\"contourcarpet\",\"colorbar\":{\"outlinewidth\":0,\"ticks\":\"\"}}],\"contour\":[{\"type\":\"contour\",\"colorbar\":{\"outlinewidth\":0,\"ticks\":\"\"},\"colorscale\":[[0.0,\"#0d0887\"],[0.1111111111111111,\"#46039f\"],[0.2222222222222222,\"#7201a8\"],[0.3333333333333333,\"#9c179e\"],[0.4444444444444444,\"#bd3786\"],[0.5555555555555556,\"#d8576b\"],[0.6666666666666666,\"#ed7953\"],[0.7777777777777778,\"#fb9f3a\"],[0.8888888888888888,\"#fdca26\"],[1.0,\"#f0f921\"]]}],\"surface\":[{\"type\":\"surface\",\"colorbar\":{\"outlinewidth\":0,\"ticks\":\"\"},\"colorscale\":[[0.0,\"#0d0887\"],[0.1111111111111111,\"#46039f\"],[0.2222222222222222,\"#7201a8\"],[0.3333333333333333,\"#9c179e\"],[0.4444444444444444,\"#bd3786\"],[0.5555555555555556,\"#d8576b\"],[0.6666666666666666,\"#ed7953\"],[0.7777777777777778,\"#fb9f3a\"],[0.8888888888888888,\"#fdca26\"],[1.0,\"#f0f921\"]]}],\"mesh3d\":[{\"type\":\"mesh3d\",\"colorbar\":{\"outlinewidth\":0,\"ticks\":\"\"}}],\"scatter\":[{\"fillpattern\":{\"fillmode\":\"overlay\",\"size\":10,\"solidity\":0.2},\"type\":\"scatter\"}],\"parcoords\":[{\"type\":\"parcoords\",\"line\":{\"colorbar\":{\"outlinewidth\":0,\"ticks\":\"\"}}}],\"scatterpolargl\":[{\"type\":\"scatterpolargl\",\"marker\":{\"colorbar\":{\"outlinewidth\":0,\"ticks\":\"\"}}}],\"bar\":[{\"error_x\":{\"color\":\"#2a3f5f\"},\"error_y\":{\"color\":\"#2a3f5f\"},\"marker\":{\"line\":{\"color\":\"#E5ECF6\",\"width\":0.5},\"pattern\":{\"fillmode\":\"overlay\",\"size\":10,\"solidity\":0.2}},\"type\":\"bar\"}],\"scattergeo\":[{\"type\":\"scattergeo\",\"marker\":{\"colorbar\":{\"outlinewidth\":0,\"ticks\":\"\"}}}],\"scatterpolar\":[{\"type\":\"scatterpolar\",\"marker\":{\"colorbar\":{\"outlinewidth\":0,\"ticks\":\"\"}}}],\"histogram\":[{\"marker\":{\"pattern\":{\"fillmode\":\"overlay\",\"size\":10,\"solidity\":0.2}},\"type\":\"histogram\"}],\"scattergl\":[{\"type\":\"scattergl\",\"marker\":{\"colorbar\":{\"outlinewidth\":0,\"ticks\":\"\"}}}],\"scatter3d\":[{\"type\":\"scatter3d\",\"line\":{\"colorbar\":{\"outlinewidth\":0,\"ticks\":\"\"}},\"marker\":{\"colorbar\":{\"outlinewidth\":0,\"ticks\":\"\"}}}],\"scattermapbox\":[{\"type\":\"scattermapbox\",\"marker\":{\"colorbar\":{\"outlinewidth\":0,\"ticks\":\"\"}}}],\"scatterternary\":[{\"type\":\"scatterternary\",\"marker\":{\"colorbar\":{\"outlinewidth\":0,\"ticks\":\"\"}}}],\"scattercarpet\":[{\"type\":\"scattercarpet\",\"marker\":{\"colorbar\":{\"outlinewidth\":0,\"ticks\":\"\"}}}],\"carpet\":[{\"aaxis\":{\"endlinecolor\":\"#2a3f5f\",\"gridcolor\":\"white\",\"linecolor\":\"white\",\"minorgridcolor\":\"white\",\"startlinecolor\":\"#2a3f5f\"},\"baxis\":{\"endlinecolor\":\"#2a3f5f\",\"gridcolor\":\"white\",\"linecolor\":\"white\",\"minorgridcolor\":\"white\",\"startlinecolor\":\"#2a3f5f\"},\"type\":\"carpet\"}],\"table\":[{\"cells\":{\"fill\":{\"color\":\"#EBF0F8\"},\"line\":{\"color\":\"white\"}},\"header\":{\"fill\":{\"color\":\"#C8D4E3\"},\"line\":{\"color\":\"white\"}},\"type\":\"table\"}],\"barpolar\":[{\"marker\":{\"line\":{\"color\":\"#E5ECF6\",\"width\":0.5},\"pattern\":{\"fillmode\":\"overlay\",\"size\":10,\"solidity\":0.2}},\"type\":\"barpolar\"}],\"pie\":[{\"automargin\":true,\"type\":\"pie\"}]},\"layout\":{\"autotypenumbers\":\"strict\",\"colorway\":[\"#636efa\",\"#EF553B\",\"#00cc96\",\"#ab63fa\",\"#FFA15A\",\"#19d3f3\",\"#FF6692\",\"#B6E880\",\"#FF97FF\",\"#FECB52\"],\"font\":{\"color\":\"#2a3f5f\"},\"hovermode\":\"closest\",\"hoverlabel\":{\"align\":\"left\"},\"paper_bgcolor\":\"white\",\"plot_bgcolor\":\"#E5ECF6\",\"polar\":{\"bgcolor\":\"#E5ECF6\",\"angularaxis\":{\"gridcolor\":\"white\",\"linecolor\":\"white\",\"ticks\":\"\"},\"radialaxis\":{\"gridcolor\":\"white\",\"linecolor\":\"white\",\"ticks\":\"\"}},\"ternary\":{\"bgcolor\":\"#E5ECF6\",\"aaxis\":{\"gridcolor\":\"white\",\"linecolor\":\"white\",\"ticks\":\"\"},\"baxis\":{\"gridcolor\":\"white\",\"linecolor\":\"white\",\"ticks\":\"\"},\"caxis\":{\"gridcolor\":\"white\",\"linecolor\":\"white\",\"ticks\":\"\"}},\"coloraxis\":{\"colorbar\":{\"outlinewidth\":0,\"ticks\":\"\"}},\"colorscale\":{\"sequential\":[[0.0,\"#0d0887\"],[0.1111111111111111,\"#46039f\"],[0.2222222222222222,\"#7201a8\"],[0.3333333333333333,\"#9c179e\"],[0.4444444444444444,\"#bd3786\"],[0.5555555555555556,\"#d8576b\"],[0.6666666666666666,\"#ed7953\"],[0.7777777777777778,\"#fb9f3a\"],[0.8888888888888888,\"#fdca26\"],[1.0,\"#f0f921\"]],\"sequentialminus\":[[0.0,\"#0d0887\"],[0.1111111111111111,\"#46039f\"],[0.2222222222222222,\"#7201a8\"],[0.3333333333333333,\"#9c179e\"],[0.4444444444444444,\"#bd3786\"],[0.5555555555555556,\"#d8576b\"],[0.6666666666666666,\"#ed7953\"],[0.7777777777777778,\"#fb9f3a\"],[0.8888888888888888,\"#fdca26\"],[1.0,\"#f0f921\"]],\"diverging\":[[0,\"#8e0152\"],[0.1,\"#c51b7d\"],[0.2,\"#de77ae\"],[0.3,\"#f1b6da\"],[0.4,\"#fde0ef\"],[0.5,\"#f7f7f7\"],[0.6,\"#e6f5d0\"],[0.7,\"#b8e186\"],[0.8,\"#7fbc41\"],[0.9,\"#4d9221\"],[1,\"#276419\"]]},\"xaxis\":{\"gridcolor\":\"white\",\"linecolor\":\"white\",\"ticks\":\"\",\"title\":{\"standoff\":15},\"zerolinecolor\":\"white\",\"automargin\":true,\"zerolinewidth\":2},\"yaxis\":{\"gridcolor\":\"white\",\"linecolor\":\"white\",\"ticks\":\"\",\"title\":{\"standoff\":15},\"zerolinecolor\":\"white\",\"automargin\":true,\"zerolinewidth\":2},\"scene\":{\"xaxis\":{\"backgroundcolor\":\"#E5ECF6\",\"gridcolor\":\"white\",\"linecolor\":\"white\",\"showbackground\":true,\"ticks\":\"\",\"zerolinecolor\":\"white\",\"gridwidth\":2},\"yaxis\":{\"backgroundcolor\":\"#E5ECF6\",\"gridcolor\":\"white\",\"linecolor\":\"white\",\"showbackground\":true,\"ticks\":\"\",\"zerolinecolor\":\"white\",\"gridwidth\":2},\"zaxis\":{\"backgroundcolor\":\"#E5ECF6\",\"gridcolor\":\"white\",\"linecolor\":\"white\",\"showbackground\":true,\"ticks\":\"\",\"zerolinecolor\":\"white\",\"gridwidth\":2}},\"shapedefaults\":{\"line\":{\"color\":\"#2a3f5f\"}},\"annotationdefaults\":{\"arrowcolor\":\"#2a3f5f\",\"arrowhead\":0,\"arrowwidth\":1},\"geo\":{\"bgcolor\":\"white\",\"landcolor\":\"#E5ECF6\",\"subunitcolor\":\"white\",\"showland\":true,\"showlakes\":true,\"lakecolor\":\"white\"},\"title\":{\"x\":0.05},\"mapbox\":{\"style\":\"light\"}}},\"yaxis\":{\"title\":{\"text\":\"Varia\\u00e7\\u00e3o entre o fechamento e fechamento anterior em R$\"}},\"xaxis\":{\"title\":{\"text\":\"periodo em dias\"}}},                        {\"responsive\": true}                    ).then(function(){\n",
       "                            \n",
       "var gd = document.getElementById('07b8e3c7-35a6-47e4-bd35-e0123d862ddc');\n",
       "var x = new MutationObserver(function (mutations, observer) {{\n",
       "        var display = window.getComputedStyle(gd).display;\n",
       "        if (!display || display === 'none') {{\n",
       "            console.log([gd, 'removed!']);\n",
       "            Plotly.purge(gd);\n",
       "            observer.disconnect();\n",
       "        }}\n",
       "}});\n",
       "\n",
       "// Listen for the removal of the full notebook cells\n",
       "var notebookContainer = gd.closest('#notebook-container');\n",
       "if (notebookContainer) {{\n",
       "    x.observe(notebookContainer, {childList: true});\n",
       "}}\n",
       "\n",
       "// Listen for the clearing of the current output cell\n",
       "var outputEl = gd.closest('.output');\n",
       "if (outputEl) {{\n",
       "    x.observe(outputEl, {childList: true});\n",
       "}}\n",
       "\n",
       "                        })                };                });            </script>        </div>"
      ]
     },
     "metadata": {},
     "output_type": "display_data"
    }
   ],
   "source": [
    "import plotly.graph_objs as go\n",
    "fig = go.Figure()\n",
    "\n",
    "fig.add_trace(go.Scatter(\n",
    "   y=bova11['close_change'][-10:],\n",
    "   name=\"Real\")\n",
    ")\n",
    "\n",
    "fig.add_trace(go.Scatter(\n",
    "   y=pred_5_lstm['close_change'][-10:],\n",
    "   name=\"LSTM\")\n",
    ")\n",
    "\n",
    "fig.add_trace(go.Scatter(\n",
    "   y=pred_5_gru.close_change[-10:],\n",
    "   name=\"GRU\")\n",
    ")\n",
    "\n",
    "fig.update_layout(\n",
    "   #title=\"Banda de Bollinger superior e inferior dos ultimos 60 dias de fechamento de 2009 a Fev 2023\",\n",
    "    yaxis_title=\"Variação entre o fechamento e fechamento anterior em R$\",\n",
    "    xaxis_title=\"periodo em dias\",\n",
    "   #legend_title=\"legend\",\n",
    ")\n",
    "fig.show()"
   ]
  },
  {
   "cell_type": "code",
   "execution_count": 125,
   "id": "6e13fa33",
   "metadata": {},
   "outputs": [
    {
     "data": {
      "text/html": [
       "<div>\n",
       "<style scoped>\n",
       "    .dataframe tbody tr th:only-of-type {\n",
       "        vertical-align: middle;\n",
       "    }\n",
       "\n",
       "    .dataframe tbody tr th {\n",
       "        vertical-align: top;\n",
       "    }\n",
       "\n",
       "    .dataframe thead th {\n",
       "        text-align: right;\n",
       "    }\n",
       "</style>\n",
       "<table border=\"1\" class=\"dataframe\">\n",
       "  <thead>\n",
       "    <tr style=\"text-align: right;\">\n",
       "      <th></th>\n",
       "      <th>open</th>\n",
       "      <th>high</th>\n",
       "      <th>low</th>\n",
       "      <th>close</th>\n",
       "      <th>close_change</th>\n",
       "      <th>ma_3d</th>\n",
       "      <th>ma_10d</th>\n",
       "      <th>ma_30d</th>\n",
       "      <th>ma_60d</th>\n",
       "      <th>std_7</th>\n",
       "      <th>...</th>\n",
       "      <th>std_60</th>\n",
       "      <th>upper3</th>\n",
       "      <th>lower3</th>\n",
       "      <th>upper30</th>\n",
       "      <th>lower30</th>\n",
       "      <th>upper60</th>\n",
       "      <th>lower60</th>\n",
       "      <th>RSI</th>\n",
       "      <th>target</th>\n",
       "      <th>targetNextClose</th>\n",
       "    </tr>\n",
       "  </thead>\n",
       "  <tbody>\n",
       "    <tr>\n",
       "      <th>3379</th>\n",
       "      <td>107.169998</td>\n",
       "      <td>107.500000</td>\n",
       "      <td>105.760002</td>\n",
       "      <td>105.949997</td>\n",
       "      <td>-0.850006</td>\n",
       "      <td>105.126666</td>\n",
       "      <td>104.203000</td>\n",
       "      <td>104.481334</td>\n",
       "      <td>105.765818</td>\n",
       "      <td>2.322519</td>\n",
       "      <td>...</td>\n",
       "      <td>2.777003</td>\n",
       "      <td>109.533770</td>\n",
       "      <td>100.719561</td>\n",
       "      <td>110.122123</td>\n",
       "      <td>98.840545</td>\n",
       "      <td>111.319824</td>\n",
       "      <td>100.211813</td>\n",
       "      <td>52.564852</td>\n",
       "      <td>-1.220001</td>\n",
       "      <td>102.629997</td>\n",
       "    </tr>\n",
       "    <tr>\n",
       "      <th>3380</th>\n",
       "      <td>104.360001</td>\n",
       "      <td>104.449997</td>\n",
       "      <td>102.290001</td>\n",
       "      <td>102.629997</td>\n",
       "      <td>-3.320000</td>\n",
       "      <td>103.019999</td>\n",
       "      <td>104.360000</td>\n",
       "      <td>104.644000</td>\n",
       "      <td>105.767222</td>\n",
       "      <td>2.271622</td>\n",
       "      <td>...</td>\n",
       "      <td>2.803059</td>\n",
       "      <td>108.531545</td>\n",
       "      <td>97.508454</td>\n",
       "      <td>110.454930</td>\n",
       "      <td>98.833071</td>\n",
       "      <td>111.373340</td>\n",
       "      <td>100.161105</td>\n",
       "      <td>44.152421</td>\n",
       "      <td>-1.730003</td>\n",
       "      <td>100.480003</td>\n",
       "    </tr>\n",
       "    <tr>\n",
       "      <th>3381</th>\n",
       "      <td>103.000000</td>\n",
       "      <td>103.000000</td>\n",
       "      <td>100.349998</td>\n",
       "      <td>100.480003</td>\n",
       "      <td>-2.149994</td>\n",
       "      <td>101.676666</td>\n",
       "      <td>104.295000</td>\n",
       "      <td>104.777334</td>\n",
       "      <td>105.784528</td>\n",
       "      <td>2.328453</td>\n",
       "      <td>...</td>\n",
       "      <td>2.826969</td>\n",
       "      <td>103.867580</td>\n",
       "      <td>99.485752</td>\n",
       "      <td>110.700110</td>\n",
       "      <td>98.854558</td>\n",
       "      <td>111.438466</td>\n",
       "      <td>100.130590</td>\n",
       "      <td>39.739640</td>\n",
       "      <td>-2.519997</td>\n",
       "      <td>101.919998</td>\n",
       "    </tr>\n",
       "    <tr>\n",
       "      <th>3382</th>\n",
       "      <td>101.209999</td>\n",
       "      <td>102.180000</td>\n",
       "      <td>100.410004</td>\n",
       "      <td>101.919998</td>\n",
       "      <td>1.439995</td>\n",
       "      <td>102.223333</td>\n",
       "      <td>104.498000</td>\n",
       "      <td>105.031667</td>\n",
       "      <td>105.778846</td>\n",
       "      <td>2.082701</td>\n",
       "      <td>...</td>\n",
       "      <td>2.854244</td>\n",
       "      <td>106.049569</td>\n",
       "      <td>98.397096</td>\n",
       "      <td>111.079374</td>\n",
       "      <td>98.983960</td>\n",
       "      <td>111.487335</td>\n",
       "      <td>100.070358</td>\n",
       "      <td>43.772331</td>\n",
       "      <td>0.709999</td>\n",
       "      <td>104.269997</td>\n",
       "    </tr>\n",
       "    <tr>\n",
       "      <th>3383</th>\n",
       "      <td>102.540001</td>\n",
       "      <td>104.269997</td>\n",
       "      <td>101.830002</td>\n",
       "      <td>104.269997</td>\n",
       "      <td>2.349998</td>\n",
       "      <td>103.896665</td>\n",
       "      <td>104.917999</td>\n",
       "      <td>105.376667</td>\n",
       "      <td>105.792745</td>\n",
       "      <td>2.337640</td>\n",
       "      <td>...</td>\n",
       "      <td>2.880868</td>\n",
       "      <td>107.534596</td>\n",
       "      <td>100.258734</td>\n",
       "      <td>111.487971</td>\n",
       "      <td>99.265363</td>\n",
       "      <td>111.554480</td>\n",
       "      <td>100.031010</td>\n",
       "      <td>49.662462</td>\n",
       "      <td>1.729996</td>\n",
       "      <td>105.500000</td>\n",
       "    </tr>\n",
       "    <tr>\n",
       "      <th>3384</th>\n",
       "      <td>104.480003</td>\n",
       "      <td>105.800003</td>\n",
       "      <td>104.199997</td>\n",
       "      <td>105.500000</td>\n",
       "      <td>1.230003</td>\n",
       "      <td>105.039998</td>\n",
       "      <td>105.063999</td>\n",
       "      <td>105.700667</td>\n",
       "      <td>105.803800</td>\n",
       "      <td>2.948979</td>\n",
       "      <td>...</td>\n",
       "      <td>2.909023</td>\n",
       "      <td>106.382089</td>\n",
       "      <td>103.697907</td>\n",
       "      <td>111.816649</td>\n",
       "      <td>99.584685</td>\n",
       "      <td>111.621845</td>\n",
       "      <td>99.985755</td>\n",
       "      <td>52.455502</td>\n",
       "      <td>1.019997</td>\n",
       "      <td>105.349998</td>\n",
       "    </tr>\n",
       "    <tr>\n",
       "      <th>3385</th>\n",
       "      <td>104.940002</td>\n",
       "      <td>106.320000</td>\n",
       "      <td>104.680000</td>\n",
       "      <td>105.349998</td>\n",
       "      <td>-0.150002</td>\n",
       "      <td>106.010000</td>\n",
       "      <td>105.203999</td>\n",
       "      <td>105.964000</td>\n",
       "      <td>105.754898</td>\n",
       "      <td>2.462946</td>\n",
       "      <td>...</td>\n",
       "      <td>2.918330</td>\n",
       "      <td>108.042044</td>\n",
       "      <td>103.977955</td>\n",
       "      <td>111.828529</td>\n",
       "      <td>100.099471</td>\n",
       "      <td>111.591559</td>\n",
       "      <td>99.918237</td>\n",
       "      <td>52.077937</td>\n",
       "      <td>0.409996</td>\n",
       "      <td>107.180000</td>\n",
       "    </tr>\n",
       "    <tr>\n",
       "      <th>3386</th>\n",
       "      <td>104.849998</td>\n",
       "      <td>107.540001</td>\n",
       "      <td>104.720001</td>\n",
       "      <td>107.180000</td>\n",
       "      <td>1.830002</td>\n",
       "      <td>107.209999</td>\n",
       "      <td>105.488000</td>\n",
       "      <td>106.274000</td>\n",
       "      <td>105.769167</td>\n",
       "      <td>1.732637</td>\n",
       "      <td>...</td>\n",
       "      <td>2.947485</td>\n",
       "      <td>110.960359</td>\n",
       "      <td>103.459639</td>\n",
       "      <td>111.667018</td>\n",
       "      <td>100.880982</td>\n",
       "      <td>111.664137</td>\n",
       "      <td>99.874196</td>\n",
       "      <td>56.198950</td>\n",
       "      <td>2.330002</td>\n",
       "      <td>109.099998</td>\n",
       "    </tr>\n",
       "    <tr>\n",
       "      <th>3387</th>\n",
       "      <td>107.400002</td>\n",
       "      <td>109.099998</td>\n",
       "      <td>107.110001</td>\n",
       "      <td>109.099998</td>\n",
       "      <td>1.919998</td>\n",
       "      <td>108.180000</td>\n",
       "      <td>106.220000</td>\n",
       "      <td>106.556333</td>\n",
       "      <td>105.782341</td>\n",
       "      <td>1.493137</td>\n",
       "      <td>...</td>\n",
       "      <td>2.977922</td>\n",
       "      <td>110.104992</td>\n",
       "      <td>106.255008</td>\n",
       "      <td>111.770895</td>\n",
       "      <td>101.341772</td>\n",
       "      <td>111.738185</td>\n",
       "      <td>99.826496</td>\n",
       "      <td>60.059868</td>\n",
       "      <td>1.699997</td>\n",
       "      <td>108.260002</td>\n",
       "    </tr>\n",
       "    <tr>\n",
       "      <th>3388</th>\n",
       "      <td>108.500000</td>\n",
       "      <td>109.180000</td>\n",
       "      <td>106.940002</td>\n",
       "      <td>108.260002</td>\n",
       "      <td>-0.839996</td>\n",
       "      <td>108.236666</td>\n",
       "      <td>106.861000</td>\n",
       "      <td>106.718000</td>\n",
       "      <td>105.749565</td>\n",
       "      <td>1.386252</td>\n",
       "      <td>...</td>\n",
       "      <td>3.002245</td>\n",
       "      <td>109.987133</td>\n",
       "      <td>106.486200</td>\n",
       "      <td>111.846910</td>\n",
       "      <td>101.589090</td>\n",
       "      <td>111.754056</td>\n",
       "      <td>99.745075</td>\n",
       "      <td>57.676745</td>\n",
       "      <td>-0.239998</td>\n",
       "      <td>107.349998</td>\n",
       "    </tr>\n",
       "    <tr>\n",
       "      <th>3389</th>\n",
       "      <td>106.940002</td>\n",
       "      <td>107.639999</td>\n",
       "      <td>106.690002</td>\n",
       "      <td>107.349998</td>\n",
       "      <td>-0.910004</td>\n",
       "      <td>107.026667</td>\n",
       "      <td>107.345000</td>\n",
       "      <td>106.799000</td>\n",
       "      <td>105.686667</td>\n",
       "      <td>1.156308</td>\n",
       "      <td>...</td>\n",
       "      <td>3.005363</td>\n",
       "      <td>109.872319</td>\n",
       "      <td>104.181015</td>\n",
       "      <td>111.817356</td>\n",
       "      <td>101.780644</td>\n",
       "      <td>111.697392</td>\n",
       "      <td>99.675941</td>\n",
       "      <td>55.137312</td>\n",
       "      <td>0.409996</td>\n",
       "      <td>105.470001</td>\n",
       "    </tr>\n",
       "    <tr>\n",
       "      <th>3390</th>\n",
       "      <td>106.949997</td>\n",
       "      <td>106.949997</td>\n",
       "      <td>105.129997</td>\n",
       "      <td>105.470001</td>\n",
       "      <td>-1.879997</td>\n",
       "      <td>106.873334</td>\n",
       "      <td>107.640000</td>\n",
       "      <td>106.897931</td>\n",
       "      <td>105.655455</td>\n",
       "      <td>1.253923</td>\n",
       "      <td>...</td>\n",
       "      <td>3.032721</td>\n",
       "      <td>109.345284</td>\n",
       "      <td>104.401385</td>\n",
       "      <td>111.884603</td>\n",
       "      <td>101.911259</td>\n",
       "      <td>111.720897</td>\n",
       "      <td>99.590012</td>\n",
       "      <td>50.240974</td>\n",
       "      <td>-1.479996</td>\n",
       "      <td>107.800003</td>\n",
       "    </tr>\n",
       "    <tr>\n",
       "      <th>3391</th>\n",
       "      <td>106.239998</td>\n",
       "      <td>107.980003</td>\n",
       "      <td>106.220001</td>\n",
       "      <td>107.800003</td>\n",
       "      <td>2.330002</td>\n",
       "      <td>107.200002</td>\n",
       "      <td>107.895000</td>\n",
       "      <td>106.930000</td>\n",
       "      <td>105.602093</td>\n",
       "      <td>1.173199</td>\n",
       "      <td>...</td>\n",
       "      <td>3.047641</td>\n",
       "      <td>110.242962</td>\n",
       "      <td>104.157042</td>\n",
       "      <td>111.995982</td>\n",
       "      <td>101.864018</td>\n",
       "      <td>111.697375</td>\n",
       "      <td>99.506812</td>\n",
       "      <td>55.489642</td>\n",
       "      <td>1.560005</td>\n",
       "      <td>108.330002</td>\n",
       "    </tr>\n",
       "    <tr>\n",
       "      <th>3392</th>\n",
       "      <td>108.830002</td>\n",
       "      <td>109.599998</td>\n",
       "      <td>108.330002</td>\n",
       "      <td>108.330002</td>\n",
       "      <td>0.529999</td>\n",
       "      <td>108.413335</td>\n",
       "      <td>108.120000</td>\n",
       "      <td>106.995926</td>\n",
       "      <td>105.601429</td>\n",
       "      <td>1.158716</td>\n",
       "      <td>...</td>\n",
       "      <td>3.084580</td>\n",
       "      <td>109.731260</td>\n",
       "      <td>107.095410</td>\n",
       "      <td>112.109218</td>\n",
       "      <td>101.882633</td>\n",
       "      <td>111.770589</td>\n",
       "      <td>99.432269</td>\n",
       "      <td>56.605212</td>\n",
       "      <td>-0.500000</td>\n",
       "      <td>109.110001</td>\n",
       "    </tr>\n",
       "    <tr>\n",
       "      <th>3393</th>\n",
       "      <td>107.699997</td>\n",
       "      <td>109.540001</td>\n",
       "      <td>107.610001</td>\n",
       "      <td>109.110001</td>\n",
       "      <td>0.779999</td>\n",
       "      <td>108.630000</td>\n",
       "      <td>108.275001</td>\n",
       "      <td>107.076538</td>\n",
       "      <td>105.573659</td>\n",
       "      <td>1.291317</td>\n",
       "      <td>...</td>\n",
       "      <td>3.117579</td>\n",
       "      <td>109.470000</td>\n",
       "      <td>107.789999</td>\n",
       "      <td>112.220632</td>\n",
       "      <td>101.932445</td>\n",
       "      <td>111.808818</td>\n",
       "      <td>99.338500</td>\n",
       "      <td>58.254979</td>\n",
       "      <td>1.410004</td>\n",
       "      <td>108.449997</td>\n",
       "    </tr>\n",
       "    <tr>\n",
       "      <th>3394</th>\n",
       "      <td>109.110001</td>\n",
       "      <td>109.150002</td>\n",
       "      <td>108.010002</td>\n",
       "      <td>108.449997</td>\n",
       "      <td>-0.660004</td>\n",
       "      <td>108.486666</td>\n",
       "      <td>108.491000</td>\n",
       "      <td>107.087600</td>\n",
       "      <td>105.573250</td>\n",
       "      <td>1.005667</td>\n",
       "      <td>...</td>\n",
       "      <td>3.157294</td>\n",
       "      <td>109.698331</td>\n",
       "      <td>107.275002</td>\n",
       "      <td>112.336505</td>\n",
       "      <td>101.838694</td>\n",
       "      <td>111.887839</td>\n",
       "      <td>99.258662</td>\n",
       "      <td>56.314016</td>\n",
       "      <td>-0.660004</td>\n",
       "      <td>107.900002</td>\n",
       "    </tr>\n",
       "    <tr>\n",
       "      <th>3395</th>\n",
       "      <td>108.889999</td>\n",
       "      <td>109.330002</td>\n",
       "      <td>107.879997</td>\n",
       "      <td>107.900002</td>\n",
       "      <td>-0.549995</td>\n",
       "      <td>108.593333</td>\n",
       "      <td>108.596001</td>\n",
       "      <td>107.135000</td>\n",
       "      <td>105.624616</td>\n",
       "      <td>1.053531</td>\n",
       "      <td>...</td>\n",
       "      <td>3.181591</td>\n",
       "      <td>110.143343</td>\n",
       "      <td>107.043323</td>\n",
       "      <td>112.474891</td>\n",
       "      <td>101.795109</td>\n",
       "      <td>111.987798</td>\n",
       "      <td>99.261433</td>\n",
       "      <td>54.687174</td>\n",
       "      <td>-0.989998</td>\n",
       "      <td>109.430000</td>\n",
       "    </tr>\n",
       "    <tr>\n",
       "      <th>3396</th>\n",
       "      <td>108.709999</td>\n",
       "      <td>109.430000</td>\n",
       "      <td>107.970001</td>\n",
       "      <td>109.430000</td>\n",
       "      <td>1.529999</td>\n",
       "      <td>109.326668</td>\n",
       "      <td>108.919000</td>\n",
       "      <td>107.330870</td>\n",
       "      <td>105.670000</td>\n",
       "      <td>1.044363</td>\n",
       "      <td>...</td>\n",
       "      <td>3.211480</td>\n",
       "      <td>112.082486</td>\n",
       "      <td>106.570850</td>\n",
       "      <td>112.425975</td>\n",
       "      <td>102.235764</td>\n",
       "      <td>112.092960</td>\n",
       "      <td>99.247041</td>\n",
       "      <td>58.279485</td>\n",
       "      <td>0.720001</td>\n",
       "      <td>110.650002</td>\n",
       "    </tr>\n",
       "    <tr>\n",
       "      <th>3397</th>\n",
       "      <td>109.000000</td>\n",
       "      <td>110.680000</td>\n",
       "      <td>108.209999</td>\n",
       "      <td>110.650002</td>\n",
       "      <td>1.220001</td>\n",
       "      <td>110.166667</td>\n",
       "      <td>109.123000</td>\n",
       "      <td>107.642273</td>\n",
       "      <td>105.774595</td>\n",
       "      <td>1.061239</td>\n",
       "      <td>...</td>\n",
       "      <td>3.189486</td>\n",
       "      <td>111.463175</td>\n",
       "      <td>108.870158</td>\n",
       "      <td>111.867206</td>\n",
       "      <td>103.417340</td>\n",
       "      <td>112.153568</td>\n",
       "      <td>99.395622</td>\n",
       "      <td>60.925992</td>\n",
       "      <td>1.650002</td>\n",
       "      <td>110.419998</td>\n",
       "    </tr>\n",
       "    <tr>\n",
       "      <th>3398</th>\n",
       "      <td>110.699997</td>\n",
       "      <td>111.099998</td>\n",
       "      <td>109.860001</td>\n",
       "      <td>110.419998</td>\n",
       "      <td>-0.230003</td>\n",
       "      <td>109.823334</td>\n",
       "      <td>109.130000</td>\n",
       "      <td>107.914762</td>\n",
       "      <td>105.926667</td>\n",
       "      <td>1.041406</td>\n",
       "      <td>...</td>\n",
       "      <td>3.095702</td>\n",
       "      <td>112.299324</td>\n",
       "      <td>107.347344</td>\n",
       "      <td>111.361764</td>\n",
       "      <td>104.467760</td>\n",
       "      <td>112.118071</td>\n",
       "      <td>99.735263</td>\n",
       "      <td>60.155206</td>\n",
       "      <td>-0.279999</td>\n",
       "      <td>108.400002</td>\n",
       "    </tr>\n",
       "  </tbody>\n",
       "</table>\n",
       "<p>20 rows × 21 columns</p>\n",
       "</div>"
      ],
      "text/plain": [
       "            open        high         low       close  close_change  \\\n",
       "3379  107.169998  107.500000  105.760002  105.949997     -0.850006   \n",
       "3380  104.360001  104.449997  102.290001  102.629997     -3.320000   \n",
       "3381  103.000000  103.000000  100.349998  100.480003     -2.149994   \n",
       "3382  101.209999  102.180000  100.410004  101.919998      1.439995   \n",
       "3383  102.540001  104.269997  101.830002  104.269997      2.349998   \n",
       "3384  104.480003  105.800003  104.199997  105.500000      1.230003   \n",
       "3385  104.940002  106.320000  104.680000  105.349998     -0.150002   \n",
       "3386  104.849998  107.540001  104.720001  107.180000      1.830002   \n",
       "3387  107.400002  109.099998  107.110001  109.099998      1.919998   \n",
       "3388  108.500000  109.180000  106.940002  108.260002     -0.839996   \n",
       "3389  106.940002  107.639999  106.690002  107.349998     -0.910004   \n",
       "3390  106.949997  106.949997  105.129997  105.470001     -1.879997   \n",
       "3391  106.239998  107.980003  106.220001  107.800003      2.330002   \n",
       "3392  108.830002  109.599998  108.330002  108.330002      0.529999   \n",
       "3393  107.699997  109.540001  107.610001  109.110001      0.779999   \n",
       "3394  109.110001  109.150002  108.010002  108.449997     -0.660004   \n",
       "3395  108.889999  109.330002  107.879997  107.900002     -0.549995   \n",
       "3396  108.709999  109.430000  107.970001  109.430000      1.529999   \n",
       "3397  109.000000  110.680000  108.209999  110.650002      1.220001   \n",
       "3398  110.699997  111.099998  109.860001  110.419998     -0.230003   \n",
       "\n",
       "           ma_3d      ma_10d      ma_30d      ma_60d     std_7  ...    std_60  \\\n",
       "3379  105.126666  104.203000  104.481334  105.765818  2.322519  ...  2.777003   \n",
       "3380  103.019999  104.360000  104.644000  105.767222  2.271622  ...  2.803059   \n",
       "3381  101.676666  104.295000  104.777334  105.784528  2.328453  ...  2.826969   \n",
       "3382  102.223333  104.498000  105.031667  105.778846  2.082701  ...  2.854244   \n",
       "3383  103.896665  104.917999  105.376667  105.792745  2.337640  ...  2.880868   \n",
       "3384  105.039998  105.063999  105.700667  105.803800  2.948979  ...  2.909023   \n",
       "3385  106.010000  105.203999  105.964000  105.754898  2.462946  ...  2.918330   \n",
       "3386  107.209999  105.488000  106.274000  105.769167  1.732637  ...  2.947485   \n",
       "3387  108.180000  106.220000  106.556333  105.782341  1.493137  ...  2.977922   \n",
       "3388  108.236666  106.861000  106.718000  105.749565  1.386252  ...  3.002245   \n",
       "3389  107.026667  107.345000  106.799000  105.686667  1.156308  ...  3.005363   \n",
       "3390  106.873334  107.640000  106.897931  105.655455  1.253923  ...  3.032721   \n",
       "3391  107.200002  107.895000  106.930000  105.602093  1.173199  ...  3.047641   \n",
       "3392  108.413335  108.120000  106.995926  105.601429  1.158716  ...  3.084580   \n",
       "3393  108.630000  108.275001  107.076538  105.573659  1.291317  ...  3.117579   \n",
       "3394  108.486666  108.491000  107.087600  105.573250  1.005667  ...  3.157294   \n",
       "3395  108.593333  108.596001  107.135000  105.624616  1.053531  ...  3.181591   \n",
       "3396  109.326668  108.919000  107.330870  105.670000  1.044363  ...  3.211480   \n",
       "3397  110.166667  109.123000  107.642273  105.774595  1.061239  ...  3.189486   \n",
       "3398  109.823334  109.130000  107.914762  105.926667  1.041406  ...  3.095702   \n",
       "\n",
       "          upper3      lower3     upper30     lower30     upper60     lower60  \\\n",
       "3379  109.533770  100.719561  110.122123   98.840545  111.319824  100.211813   \n",
       "3380  108.531545   97.508454  110.454930   98.833071  111.373340  100.161105   \n",
       "3381  103.867580   99.485752  110.700110   98.854558  111.438466  100.130590   \n",
       "3382  106.049569   98.397096  111.079374   98.983960  111.487335  100.070358   \n",
       "3383  107.534596  100.258734  111.487971   99.265363  111.554480  100.031010   \n",
       "3384  106.382089  103.697907  111.816649   99.584685  111.621845   99.985755   \n",
       "3385  108.042044  103.977955  111.828529  100.099471  111.591559   99.918237   \n",
       "3386  110.960359  103.459639  111.667018  100.880982  111.664137   99.874196   \n",
       "3387  110.104992  106.255008  111.770895  101.341772  111.738185   99.826496   \n",
       "3388  109.987133  106.486200  111.846910  101.589090  111.754056   99.745075   \n",
       "3389  109.872319  104.181015  111.817356  101.780644  111.697392   99.675941   \n",
       "3390  109.345284  104.401385  111.884603  101.911259  111.720897   99.590012   \n",
       "3391  110.242962  104.157042  111.995982  101.864018  111.697375   99.506812   \n",
       "3392  109.731260  107.095410  112.109218  101.882633  111.770589   99.432269   \n",
       "3393  109.470000  107.789999  112.220632  101.932445  111.808818   99.338500   \n",
       "3394  109.698331  107.275002  112.336505  101.838694  111.887839   99.258662   \n",
       "3395  110.143343  107.043323  112.474891  101.795109  111.987798   99.261433   \n",
       "3396  112.082486  106.570850  112.425975  102.235764  112.092960   99.247041   \n",
       "3397  111.463175  108.870158  111.867206  103.417340  112.153568   99.395622   \n",
       "3398  112.299324  107.347344  111.361764  104.467760  112.118071   99.735263   \n",
       "\n",
       "            RSI    target  targetNextClose  \n",
       "3379  52.564852 -1.220001       102.629997  \n",
       "3380  44.152421 -1.730003       100.480003  \n",
       "3381  39.739640 -2.519997       101.919998  \n",
       "3382  43.772331  0.709999       104.269997  \n",
       "3383  49.662462  1.729996       105.500000  \n",
       "3384  52.455502  1.019997       105.349998  \n",
       "3385  52.077937  0.409996       107.180000  \n",
       "3386  56.198950  2.330002       109.099998  \n",
       "3387  60.059868  1.699997       108.260002  \n",
       "3388  57.676745 -0.239998       107.349998  \n",
       "3389  55.137312  0.409996       105.470001  \n",
       "3390  50.240974 -1.479996       107.800003  \n",
       "3391  55.489642  1.560005       108.330002  \n",
       "3392  56.605212 -0.500000       109.110001  \n",
       "3393  58.254979  1.410004       108.449997  \n",
       "3394  56.314016 -0.660004       107.900002  \n",
       "3395  54.687174 -0.989998       109.430000  \n",
       "3396  58.279485  0.720001       110.650002  \n",
       "3397  60.925992  1.650002       110.419998  \n",
       "3398  60.155206 -0.279999       108.400002  \n",
       "\n",
       "[20 rows x 21 columns]"
      ]
     },
     "execution_count": 125,
     "metadata": {},
     "output_type": "execute_result"
    }
   ],
   "source": [
    "bova11.tail(20)"
   ]
  },
  {
   "cell_type": "code",
   "execution_count": 112,
   "id": "d9fb96f9",
   "metadata": {},
   "outputs": [
    {
     "data": {
      "text/html": [
       "<div>\n",
       "<style scoped>\n",
       "    .dataframe tbody tr th:only-of-type {\n",
       "        vertical-align: middle;\n",
       "    }\n",
       "\n",
       "    .dataframe tbody tr th {\n",
       "        vertical-align: top;\n",
       "    }\n",
       "\n",
       "    .dataframe thead th {\n",
       "        text-align: right;\n",
       "    }\n",
       "</style>\n",
       "<table border=\"1\" class=\"dataframe\">\n",
       "  <thead>\n",
       "    <tr style=\"text-align: right;\">\n",
       "      <th></th>\n",
       "      <th>open</th>\n",
       "      <th>high</th>\n",
       "      <th>low</th>\n",
       "      <th>close</th>\n",
       "      <th>close_change</th>\n",
       "      <th>ma_3d</th>\n",
       "      <th>ma_10d</th>\n",
       "      <th>ma_30d</th>\n",
       "      <th>ma_60d</th>\n",
       "      <th>std_7</th>\n",
       "      <th>...</th>\n",
       "      <th>upper3</th>\n",
       "      <th>lower3</th>\n",
       "      <th>upper30</th>\n",
       "      <th>lower30</th>\n",
       "      <th>upper60</th>\n",
       "      <th>lower60</th>\n",
       "      <th>RSI</th>\n",
       "      <th>target</th>\n",
       "      <th>targetNextClose</th>\n",
       "      <th>prev_close</th>\n",
       "    </tr>\n",
       "  </thead>\n",
       "  <tbody>\n",
       "    <tr>\n",
       "      <th>3379</th>\n",
       "      <td>107.169998</td>\n",
       "      <td>107.500000</td>\n",
       "      <td>105.760002</td>\n",
       "      <td>95.815662</td>\n",
       "      <td>0.075891</td>\n",
       "      <td>95.911040</td>\n",
       "      <td>96.145170</td>\n",
       "      <td>96.182399</td>\n",
       "      <td>98.204688</td>\n",
       "      <td>0.235388</td>\n",
       "      <td>...</td>\n",
       "      <td>96.379078</td>\n",
       "      <td>95.443002</td>\n",
       "      <td>99.182656</td>\n",
       "      <td>93.182143</td>\n",
       "      <td>109.932250</td>\n",
       "      <td>86.477126</td>\n",
       "      <td>7.297111</td>\n",
       "      <td>-11.354336</td>\n",
       "      <td>96.177686</td>\n",
       "      <td>95.739772</td>\n",
       "    </tr>\n",
       "    <tr>\n",
       "      <th>3380</th>\n",
       "      <td>104.360001</td>\n",
       "      <td>104.449997</td>\n",
       "      <td>102.290001</td>\n",
       "      <td>96.177686</td>\n",
       "      <td>0.362023</td>\n",
       "      <td>96.093112</td>\n",
       "      <td>96.163069</td>\n",
       "      <td>95.905400</td>\n",
       "      <td>97.932049</td>\n",
       "      <td>0.256658</td>\n",
       "      <td>...</td>\n",
       "      <td>96.585723</td>\n",
       "      <td>95.600502</td>\n",
       "      <td>99.193186</td>\n",
       "      <td>92.617614</td>\n",
       "      <td>109.122441</td>\n",
       "      <td>86.741656</td>\n",
       "      <td>13.402153</td>\n",
       "      <td>-8.182315</td>\n",
       "      <td>96.285989</td>\n",
       "      <td>95.815662</td>\n",
       "    </tr>\n",
       "    <tr>\n",
       "      <th>3381</th>\n",
       "      <td>103.000000</td>\n",
       "      <td>103.000000</td>\n",
       "      <td>100.349998</td>\n",
       "      <td>96.285989</td>\n",
       "      <td>0.108304</td>\n",
       "      <td>96.272368</td>\n",
       "      <td>96.204532</td>\n",
       "      <td>95.612994</td>\n",
       "      <td>97.665757</td>\n",
       "      <td>0.278377</td>\n",
       "      <td>...</td>\n",
       "      <td>96.449689</td>\n",
       "      <td>96.095047</td>\n",
       "      <td>99.352124</td>\n",
       "      <td>91.873864</td>\n",
       "      <td>108.328541</td>\n",
       "      <td>87.002974</td>\n",
       "      <td>15.192347</td>\n",
       "      <td>-6.714011</td>\n",
       "      <td>96.353430</td>\n",
       "      <td>96.177686</td>\n",
       "    </tr>\n",
       "    <tr>\n",
       "      <th>3382</th>\n",
       "      <td>101.209999</td>\n",
       "      <td>102.180000</td>\n",
       "      <td>100.410004</td>\n",
       "      <td>96.353430</td>\n",
       "      <td>0.067441</td>\n",
       "      <td>96.340339</td>\n",
       "      <td>96.191874</td>\n",
       "      <td>95.285067</td>\n",
       "      <td>97.406177</td>\n",
       "      <td>0.224715</td>\n",
       "      <td>...</td>\n",
       "      <td>96.438600</td>\n",
       "      <td>96.242078</td>\n",
       "      <td>99.702379</td>\n",
       "      <td>90.867754</td>\n",
       "      <td>107.552504</td>\n",
       "      <td>87.259849</td>\n",
       "      <td>16.346132</td>\n",
       "      <td>-4.856569</td>\n",
       "      <td>96.381598</td>\n",
       "      <td>96.285989</td>\n",
       "    </tr>\n",
       "    <tr>\n",
       "      <th>3383</th>\n",
       "      <td>102.540001</td>\n",
       "      <td>104.269997</td>\n",
       "      <td>101.830002</td>\n",
       "      <td>96.381598</td>\n",
       "      <td>0.028168</td>\n",
       "      <td>96.384952</td>\n",
       "      <td>96.095134</td>\n",
       "      <td>94.919105</td>\n",
       "      <td>97.156407</td>\n",
       "      <td>0.146539</td>\n",
       "      <td>...</td>\n",
       "      <td>96.451604</td>\n",
       "      <td>96.318301</td>\n",
       "      <td>100.181680</td>\n",
       "      <td>89.656530</td>\n",
       "      <td>106.812841</td>\n",
       "      <td>87.499973</td>\n",
       "      <td>16.852340</td>\n",
       "      <td>-6.158403</td>\n",
       "      <td>96.419828</td>\n",
       "      <td>96.353430</td>\n",
       "    </tr>\n",
       "    <tr>\n",
       "      <th>3384</th>\n",
       "      <td>104.480003</td>\n",
       "      <td>105.800003</td>\n",
       "      <td>104.199997</td>\n",
       "      <td>96.419828</td>\n",
       "      <td>0.038230</td>\n",
       "      <td>96.428663</td>\n",
       "      <td>96.019662</td>\n",
       "      <td>94.517101</td>\n",
       "      <td>96.915934</td>\n",
       "      <td>0.437385</td>\n",
       "      <td>...</td>\n",
       "      <td>96.532757</td>\n",
       "      <td>96.324568</td>\n",
       "      <td>100.709328</td>\n",
       "      <td>88.324873</td>\n",
       "      <td>106.107450</td>\n",
       "      <td>87.724419</td>\n",
       "      <td>17.577623</td>\n",
       "      <td>-8.060175</td>\n",
       "      <td>96.484562</td>\n",
       "      <td>96.381598</td>\n",
       "    </tr>\n",
       "    <tr>\n",
       "      <th>3385</th>\n",
       "      <td>104.940002</td>\n",
       "      <td>106.320000</td>\n",
       "      <td>104.680000</td>\n",
       "      <td>96.484562</td>\n",
       "      <td>0.064733</td>\n",
       "      <td>96.322324</td>\n",
       "      <td>95.926270</td>\n",
       "      <td>94.424512</td>\n",
       "      <td>96.686641</td>\n",
       "      <td>0.620105</td>\n",
       "      <td>...</td>\n",
       "      <td>96.776843</td>\n",
       "      <td>95.867805</td>\n",
       "      <td>100.641234</td>\n",
       "      <td>88.207789</td>\n",
       "      <td>105.448207</td>\n",
       "      <td>87.925075</td>\n",
       "      <td>18.861629</td>\n",
       "      <td>-8.455441</td>\n",
       "      <td>96.062582</td>\n",
       "      <td>96.419828</td>\n",
       "    </tr>\n",
       "    <tr>\n",
       "      <th>3386</th>\n",
       "      <td>104.849998</td>\n",
       "      <td>107.540001</td>\n",
       "      <td>104.720001</td>\n",
       "      <td>96.062582</td>\n",
       "      <td>-0.421979</td>\n",
       "      <td>95.925790</td>\n",
       "      <td>95.818059</td>\n",
       "      <td>94.336105</td>\n",
       "      <td>96.468017</td>\n",
       "      <td>0.717472</td>\n",
       "      <td>...</td>\n",
       "      <td>97.202305</td>\n",
       "      <td>94.649275</td>\n",
       "      <td>100.592208</td>\n",
       "      <td>88.080002</td>\n",
       "      <td>104.833440</td>\n",
       "      <td>88.102594</td>\n",
       "      <td>17.010773</td>\n",
       "      <td>-8.787416</td>\n",
       "      <td>95.230227</td>\n",
       "      <td>96.484562</td>\n",
       "    </tr>\n",
       "    <tr>\n",
       "      <th>3387</th>\n",
       "      <td>107.400002</td>\n",
       "      <td>109.099998</td>\n",
       "      <td>107.110001</td>\n",
       "      <td>95.230227</td>\n",
       "      <td>-0.832355</td>\n",
       "      <td>95.425956</td>\n",
       "      <td>95.600365</td>\n",
       "      <td>94.249582</td>\n",
       "      <td>96.258279</td>\n",
       "      <td>0.701611</td>\n",
       "      <td>...</td>\n",
       "      <td>96.555552</td>\n",
       "      <td>94.296360</td>\n",
       "      <td>100.556203</td>\n",
       "      <td>87.942961</td>\n",
       "      <td>104.254296</td>\n",
       "      <td>88.262261</td>\n",
       "      <td>14.088955</td>\n",
       "      <td>-12.169774</td>\n",
       "      <td>94.985059</td>\n",
       "      <td>96.062582</td>\n",
       "    </tr>\n",
       "    <tr>\n",
       "      <th>3388</th>\n",
       "      <td>108.500000</td>\n",
       "      <td>109.180000</td>\n",
       "      <td>106.940002</td>\n",
       "      <td>94.985059</td>\n",
       "      <td>-0.245169</td>\n",
       "      <td>95.032340</td>\n",
       "      <td>95.279391</td>\n",
       "      <td>94.164291</td>\n",
       "      <td>96.058744</td>\n",
       "      <td>0.786854</td>\n",
       "      <td>...</td>\n",
       "      <td>95.390326</td>\n",
       "      <td>94.674354</td>\n",
       "      <td>100.531968</td>\n",
       "      <td>87.796613</td>\n",
       "      <td>103.718945</td>\n",
       "      <td>88.398542</td>\n",
       "      <td>13.364516</td>\n",
       "      <td>-13.514941</td>\n",
       "      <td>94.881734</td>\n",
       "      <td>95.230227</td>\n",
       "    </tr>\n",
       "    <tr>\n",
       "      <th>3389</th>\n",
       "      <td>106.940002</td>\n",
       "      <td>107.639999</td>\n",
       "      <td>106.690002</td>\n",
       "      <td>94.881734</td>\n",
       "      <td>-0.103324</td>\n",
       "      <td>94.987457</td>\n",
       "      <td>94.844865</td>\n",
       "      <td>94.078130</td>\n",
       "      <td>95.868473</td>\n",
       "      <td>0.924399</td>\n",
       "      <td>...</td>\n",
       "      <td>95.201339</td>\n",
       "      <td>94.773574</td>\n",
       "      <td>100.514943</td>\n",
       "      <td>87.641317</td>\n",
       "      <td>103.223320</td>\n",
       "      <td>88.513626</td>\n",
       "      <td>13.061261</td>\n",
       "      <td>-12.058268</td>\n",
       "      <td>95.095576</td>\n",
       "      <td>94.985059</td>\n",
       "    </tr>\n",
       "    <tr>\n",
       "      <th>3390</th>\n",
       "      <td>106.949997</td>\n",
       "      <td>106.949997</td>\n",
       "      <td>105.129997</td>\n",
       "      <td>95.095576</td>\n",
       "      <td>0.213842</td>\n",
       "      <td>94.695456</td>\n",
       "      <td>94.312905</td>\n",
       "      <td>93.988017</td>\n",
       "      <td>95.688872</td>\n",
       "      <td>1.207549</td>\n",
       "      <td>...</td>\n",
       "      <td>95.733396</td>\n",
       "      <td>93.657517</td>\n",
       "      <td>100.498519</td>\n",
       "      <td>87.477515</td>\n",
       "      <td>102.775506</td>\n",
       "      <td>88.602237</td>\n",
       "      <td>17.226141</td>\n",
       "      <td>-11.854421</td>\n",
       "      <td>94.109058</td>\n",
       "      <td>94.881734</td>\n",
       "    </tr>\n",
       "    <tr>\n",
       "      <th>3391</th>\n",
       "      <td>106.239998</td>\n",
       "      <td>107.980003</td>\n",
       "      <td>106.220001</td>\n",
       "      <td>94.109058</td>\n",
       "      <td>-0.986519</td>\n",
       "      <td>94.116106</td>\n",
       "      <td>93.670698</td>\n",
       "      <td>93.897499</td>\n",
       "      <td>95.519073</td>\n",
       "      <td>1.578816</td>\n",
       "      <td>...</td>\n",
       "      <td>96.068037</td>\n",
       "      <td>92.164174</td>\n",
       "      <td>100.492267</td>\n",
       "      <td>87.302731</td>\n",
       "      <td>102.371691</td>\n",
       "      <td>88.666454</td>\n",
       "      <td>13.928095</td>\n",
       "      <td>-12.130940</td>\n",
       "      <td>93.143683</td>\n",
       "      <td>95.095576</td>\n",
       "    </tr>\n",
       "    <tr>\n",
       "      <th>3392</th>\n",
       "      <td>108.830002</td>\n",
       "      <td>109.599998</td>\n",
       "      <td>108.330002</td>\n",
       "      <td>93.143683</td>\n",
       "      <td>-0.965374</td>\n",
       "      <td>93.096361</td>\n",
       "      <td>92.913628</td>\n",
       "      <td>93.793332</td>\n",
       "      <td>95.359847</td>\n",
       "      <td>1.928003</td>\n",
       "      <td>...</td>\n",
       "      <td>95.170697</td>\n",
       "      <td>91.022025</td>\n",
       "      <td>100.465376</td>\n",
       "      <td>87.121289</td>\n",
       "      <td>102.015830</td>\n",
       "      <td>88.703864</td>\n",
       "      <td>11.599645</td>\n",
       "      <td>-15.686319</td>\n",
       "      <td>92.036342</td>\n",
       "      <td>94.109058</td>\n",
       "    </tr>\n",
       "    <tr>\n",
       "      <th>3393</th>\n",
       "      <td>107.699997</td>\n",
       "      <td>109.540001</td>\n",
       "      <td>107.610001</td>\n",
       "      <td>92.036342</td>\n",
       "      <td>-1.107341</td>\n",
       "      <td>92.093416</td>\n",
       "      <td>92.081716</td>\n",
       "      <td>93.678842</td>\n",
       "      <td>95.210483</td>\n",
       "      <td>2.316977</td>\n",
       "      <td>...</td>\n",
       "      <td>94.139265</td>\n",
       "      <td>90.047567</td>\n",
       "      <td>100.426494</td>\n",
       "      <td>86.931191</td>\n",
       "      <td>101.704459</td>\n",
       "      <td>88.716507</td>\n",
       "      <td>9.622599</td>\n",
       "      <td>-15.663655</td>\n",
       "      <td>91.100224</td>\n",
       "      <td>93.143683</td>\n",
       "    </tr>\n",
       "    <tr>\n",
       "      <th>3394</th>\n",
       "      <td>109.110001</td>\n",
       "      <td>109.150002</td>\n",
       "      <td>108.010002</td>\n",
       "      <td>91.100224</td>\n",
       "      <td>-0.936118</td>\n",
       "      <td>91.066354</td>\n",
       "      <td>91.131929</td>\n",
       "      <td>93.575796</td>\n",
       "      <td>95.072139</td>\n",
       "      <td>2.551044</td>\n",
       "      <td>...</td>\n",
       "      <td>93.041071</td>\n",
       "      <td>89.091638</td>\n",
       "      <td>100.430593</td>\n",
       "      <td>86.720998</td>\n",
       "      <td>101.441991</td>\n",
       "      <td>88.702288</td>\n",
       "      <td>8.335747</td>\n",
       "      <td>-18.009777</td>\n",
       "      <td>90.062497</td>\n",
       "      <td>92.036342</td>\n",
       "    </tr>\n",
       "    <tr>\n",
       "      <th>3395</th>\n",
       "      <td>108.889999</td>\n",
       "      <td>109.330002</td>\n",
       "      <td>107.879997</td>\n",
       "      <td>90.062497</td>\n",
       "      <td>-1.037727</td>\n",
       "      <td>89.884865</td>\n",
       "      <td>90.715284</td>\n",
       "      <td>93.457908</td>\n",
       "      <td>94.944549</td>\n",
       "      <td>2.778822</td>\n",
       "      <td>...</td>\n",
       "      <td>92.511297</td>\n",
       "      <td>87.258434</td>\n",
       "      <td>100.416726</td>\n",
       "      <td>86.499091</td>\n",
       "      <td>101.225982</td>\n",
       "      <td>88.663116</td>\n",
       "      <td>7.193200</td>\n",
       "      <td>-18.827503</td>\n",
       "      <td>88.491875</td>\n",
       "      <td>91.100224</td>\n",
       "    </tr>\n",
       "    <tr>\n",
       "      <th>3396</th>\n",
       "      <td>108.709999</td>\n",
       "      <td>109.430000</td>\n",
       "      <td>107.970001</td>\n",
       "      <td>88.491875</td>\n",
       "      <td>-1.570621</td>\n",
       "      <td>88.488493</td>\n",
       "      <td>90.167748</td>\n",
       "      <td>93.306809</td>\n",
       "      <td>94.826667</td>\n",
       "      <td>2.518704</td>\n",
       "      <td>...</td>\n",
       "      <td>91.639888</td>\n",
       "      <td>85.337099</td>\n",
       "      <td>100.337916</td>\n",
       "      <td>86.275702</td>\n",
       "      <td>101.050850</td>\n",
       "      <td>88.602484</td>\n",
       "      <td>5.885114</td>\n",
       "      <td>-20.218124</td>\n",
       "      <td>86.911108</td>\n",
       "      <td>90.062497</td>\n",
       "    </tr>\n",
       "    <tr>\n",
       "      <th>3397</th>\n",
       "      <td>109.000000</td>\n",
       "      <td>110.680000</td>\n",
       "      <td>108.209999</td>\n",
       "      <td>86.911108</td>\n",
       "      <td>-1.580767</td>\n",
       "      <td>86.963393</td>\n",
       "      <td>89.604703</td>\n",
       "      <td>93.131563</td>\n",
       "      <td>94.717197</td>\n",
       "      <td>2.278389</td>\n",
       "      <td>...</td>\n",
       "      <td>89.969438</td>\n",
       "      <td>83.957348</td>\n",
       "      <td>100.215125</td>\n",
       "      <td>86.048002</td>\n",
       "      <td>100.910523</td>\n",
       "      <td>88.523871</td>\n",
       "      <td>4.920260</td>\n",
       "      <td>-22.088892</td>\n",
       "      <td>85.487195</td>\n",
       "      <td>88.491875</td>\n",
       "    </tr>\n",
       "    <tr>\n",
       "      <th>3398</th>\n",
       "      <td>110.699997</td>\n",
       "      <td>111.099998</td>\n",
       "      <td>109.860001</td>\n",
       "      <td>85.487195</td>\n",
       "      <td>-1.423913</td>\n",
       "      <td>86.199152</td>\n",
       "      <td>89.014874</td>\n",
       "      <td>92.930197</td>\n",
       "      <td>94.614850</td>\n",
       "      <td>1.976654</td>\n",
       "      <td>...</td>\n",
       "      <td>88.212869</td>\n",
       "      <td>84.185434</td>\n",
       "      <td>100.042218</td>\n",
       "      <td>85.818175</td>\n",
       "      <td>100.799538</td>\n",
       "      <td>88.430161</td>\n",
       "      <td>4.248089</td>\n",
       "      <td>-25.212802</td>\n",
       "      <td>NaN</td>\n",
       "      <td>86.911108</td>\n",
       "    </tr>\n",
       "  </tbody>\n",
       "</table>\n",
       "<p>20 rows × 22 columns</p>\n",
       "</div>"
      ],
      "text/plain": [
       "            open        high         low      close  close_change      ma_3d  \\\n",
       "3379  107.169998  107.500000  105.760002  95.815662      0.075891  95.911040   \n",
       "3380  104.360001  104.449997  102.290001  96.177686      0.362023  96.093112   \n",
       "3381  103.000000  103.000000  100.349998  96.285989      0.108304  96.272368   \n",
       "3382  101.209999  102.180000  100.410004  96.353430      0.067441  96.340339   \n",
       "3383  102.540001  104.269997  101.830002  96.381598      0.028168  96.384952   \n",
       "3384  104.480003  105.800003  104.199997  96.419828      0.038230  96.428663   \n",
       "3385  104.940002  106.320000  104.680000  96.484562      0.064733  96.322324   \n",
       "3386  104.849998  107.540001  104.720001  96.062582     -0.421979  95.925790   \n",
       "3387  107.400002  109.099998  107.110001  95.230227     -0.832355  95.425956   \n",
       "3388  108.500000  109.180000  106.940002  94.985059     -0.245169  95.032340   \n",
       "3389  106.940002  107.639999  106.690002  94.881734     -0.103324  94.987457   \n",
       "3390  106.949997  106.949997  105.129997  95.095576      0.213842  94.695456   \n",
       "3391  106.239998  107.980003  106.220001  94.109058     -0.986519  94.116106   \n",
       "3392  108.830002  109.599998  108.330002  93.143683     -0.965374  93.096361   \n",
       "3393  107.699997  109.540001  107.610001  92.036342     -1.107341  92.093416   \n",
       "3394  109.110001  109.150002  108.010002  91.100224     -0.936118  91.066354   \n",
       "3395  108.889999  109.330002  107.879997  90.062497     -1.037727  89.884865   \n",
       "3396  108.709999  109.430000  107.970001  88.491875     -1.570621  88.488493   \n",
       "3397  109.000000  110.680000  108.209999  86.911108     -1.580767  86.963393   \n",
       "3398  110.699997  111.099998  109.860001  85.487195     -1.423913  86.199152   \n",
       "\n",
       "         ma_10d     ma_30d     ma_60d     std_7  ...     upper3     lower3  \\\n",
       "3379  96.145170  96.182399  98.204688  0.235388  ...  96.379078  95.443002   \n",
       "3380  96.163069  95.905400  97.932049  0.256658  ...  96.585723  95.600502   \n",
       "3381  96.204532  95.612994  97.665757  0.278377  ...  96.449689  96.095047   \n",
       "3382  96.191874  95.285067  97.406177  0.224715  ...  96.438600  96.242078   \n",
       "3383  96.095134  94.919105  97.156407  0.146539  ...  96.451604  96.318301   \n",
       "3384  96.019662  94.517101  96.915934  0.437385  ...  96.532757  96.324568   \n",
       "3385  95.926270  94.424512  96.686641  0.620105  ...  96.776843  95.867805   \n",
       "3386  95.818059  94.336105  96.468017  0.717472  ...  97.202305  94.649275   \n",
       "3387  95.600365  94.249582  96.258279  0.701611  ...  96.555552  94.296360   \n",
       "3388  95.279391  94.164291  96.058744  0.786854  ...  95.390326  94.674354   \n",
       "3389  94.844865  94.078130  95.868473  0.924399  ...  95.201339  94.773574   \n",
       "3390  94.312905  93.988017  95.688872  1.207549  ...  95.733396  93.657517   \n",
       "3391  93.670698  93.897499  95.519073  1.578816  ...  96.068037  92.164174   \n",
       "3392  92.913628  93.793332  95.359847  1.928003  ...  95.170697  91.022025   \n",
       "3393  92.081716  93.678842  95.210483  2.316977  ...  94.139265  90.047567   \n",
       "3394  91.131929  93.575796  95.072139  2.551044  ...  93.041071  89.091638   \n",
       "3395  90.715284  93.457908  94.944549  2.778822  ...  92.511297  87.258434   \n",
       "3396  90.167748  93.306809  94.826667  2.518704  ...  91.639888  85.337099   \n",
       "3397  89.604703  93.131563  94.717197  2.278389  ...  89.969438  83.957348   \n",
       "3398  89.014874  92.930197  94.614850  1.976654  ...  88.212869  84.185434   \n",
       "\n",
       "         upper30    lower30     upper60    lower60        RSI     target  \\\n",
       "3379   99.182656  93.182143  109.932250  86.477126   7.297111 -11.354336   \n",
       "3380   99.193186  92.617614  109.122441  86.741656  13.402153  -8.182315   \n",
       "3381   99.352124  91.873864  108.328541  87.002974  15.192347  -6.714011   \n",
       "3382   99.702379  90.867754  107.552504  87.259849  16.346132  -4.856569   \n",
       "3383  100.181680  89.656530  106.812841  87.499973  16.852340  -6.158403   \n",
       "3384  100.709328  88.324873  106.107450  87.724419  17.577623  -8.060175   \n",
       "3385  100.641234  88.207789  105.448207  87.925075  18.861629  -8.455441   \n",
       "3386  100.592208  88.080002  104.833440  88.102594  17.010773  -8.787416   \n",
       "3387  100.556203  87.942961  104.254296  88.262261  14.088955 -12.169774   \n",
       "3388  100.531968  87.796613  103.718945  88.398542  13.364516 -13.514941   \n",
       "3389  100.514943  87.641317  103.223320  88.513626  13.061261 -12.058268   \n",
       "3390  100.498519  87.477515  102.775506  88.602237  17.226141 -11.854421   \n",
       "3391  100.492267  87.302731  102.371691  88.666454  13.928095 -12.130940   \n",
       "3392  100.465376  87.121289  102.015830  88.703864  11.599645 -15.686319   \n",
       "3393  100.426494  86.931191  101.704459  88.716507   9.622599 -15.663655   \n",
       "3394  100.430593  86.720998  101.441991  88.702288   8.335747 -18.009777   \n",
       "3395  100.416726  86.499091  101.225982  88.663116   7.193200 -18.827503   \n",
       "3396  100.337916  86.275702  101.050850  88.602484   5.885114 -20.218124   \n",
       "3397  100.215125  86.048002  100.910523  88.523871   4.920260 -22.088892   \n",
       "3398  100.042218  85.818175  100.799538  88.430161   4.248089 -25.212802   \n",
       "\n",
       "      targetNextClose  prev_close  \n",
       "3379        96.177686   95.739772  \n",
       "3380        96.285989   95.815662  \n",
       "3381        96.353430   96.177686  \n",
       "3382        96.381598   96.285989  \n",
       "3383        96.419828   96.353430  \n",
       "3384        96.484562   96.381598  \n",
       "3385        96.062582   96.419828  \n",
       "3386        95.230227   96.484562  \n",
       "3387        94.985059   96.062582  \n",
       "3388        94.881734   95.230227  \n",
       "3389        95.095576   94.985059  \n",
       "3390        94.109058   94.881734  \n",
       "3391        93.143683   95.095576  \n",
       "3392        92.036342   94.109058  \n",
       "3393        91.100224   93.143683  \n",
       "3394        90.062497   92.036342  \n",
       "3395        88.491875   91.100224  \n",
       "3396        86.911108   90.062497  \n",
       "3397        85.487195   88.491875  \n",
       "3398              NaN   86.911108  \n",
       "\n",
       "[20 rows x 22 columns]"
      ]
     },
     "execution_count": 112,
     "metadata": {},
     "output_type": "execute_result"
    }
   ],
   "source": [
    "pred_90_lstm.tail(20)"
   ]
  },
  {
   "cell_type": "code",
   "execution_count": null,
   "id": "a91f5f7d",
   "metadata": {},
   "outputs": [],
   "source": []
  },
  {
   "cell_type": "code",
   "execution_count": null,
   "id": "28a5fa7b",
   "metadata": {},
   "outputs": [],
   "source": []
  },
  {
   "cell_type": "code",
   "execution_count": null,
   "id": "ad77959b",
   "metadata": {},
   "outputs": [],
   "source": []
  }
 ],
 "metadata": {
  "kernelspec": {
   "display_name": "Python 3 (ipykernel)",
   "language": "python",
   "name": "python3"
  },
  "language_info": {
   "codemirror_mode": {
    "name": "ipython",
    "version": 3
   },
   "file_extension": ".py",
   "mimetype": "text/x-python",
   "name": "python",
   "nbconvert_exporter": "python",
   "pygments_lexer": "ipython3",
   "version": "3.10.6"
  }
 },
 "nbformat": 4,
 "nbformat_minor": 5
}
