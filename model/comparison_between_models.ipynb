{
 "cells": [
  {
   "cell_type": "code",
   "execution_count": 1,
   "id": "522a3564",
   "metadata": {},
   "outputs": [],
   "source": [
    "import pandas as pd\n",
    "import pandas_ta as ta\n",
    "import numpy as np\n",
    "import datetime as dt\n",
    "import pandas_datareader as web\n",
    "from tqdm import tqdm\n",
    "import matplotlib.pyplot as plt\n",
    "from matplotlib import rcParams\n",
    "import seaborn as sns\n",
    "import matplotlib.ticker as ticker\n",
    "import itertools\n",
    "\n",
    "from sklearn.preprocessing import MinMaxScaler\n",
    "from sklearn.metrics import mean_absolute_error, mean_squared_error\n",
    "from sklearn.model_selection import GridSearchCV\n",
    "\n",
    "import tensorflow as tf\n",
    "from tensorflow.keras.models import Model, Sequential\n",
    "from tensorflow.keras.layers import Dense, Dropout, GRU, LSTM, Input, Activation, concatenate\n",
    "from tensorflow.keras.callbacks import History, EarlyStopping\n",
    "from tensorflow.keras import optimizers\n",
    "\n",
    "import keras_tuner as kt\n",
    "from keras_tuner.tuners import RandomSearch\n",
    "from keras_tuner.engine.hyperparameters import HyperParameters\n",
    "from keras.callbacks import EarlyStopping\n",
    "from keras.callbacks import ModelCheckpoint\n"
   ]
  },
  {
   "cell_type": "code",
   "execution_count": 2,
   "id": "198584fe",
   "metadata": {},
   "outputs": [],
   "source": [
    "%matplotlib inline\n",
    "\n",
    "\n",
    "tqdm.pandas()\n",
    "sns.set(style='whitegrid',palette='muted')\n",
    "rcParams['figure.figsize'] = 14, 10"
   ]
  },
  {
   "cell_type": "markdown",
   "id": "a37ef5b3",
   "metadata": {},
   "source": [
    "### Getting the data"
   ]
  },
  {
   "cell_type": "code",
   "execution_count": 3,
   "id": "123b920d",
   "metadata": {},
   "outputs": [],
   "source": [
    "import yfinance as yf\n",
    "ticket = yf.Ticker('BOVA11.SA')\n",
    "start = dt.datetime(2009, 1, 2) # First register data\n",
    "end = dt.datetime(dt.datetime.now().year,dt.datetime.now().month,dt.datetime.now().day - 1)\n",
    "\n",
    "bova11 = ticket.history(interval= '1d', start = start, end = end).reset_index()\n",
    "bova11\n",
    "bova11_copy = bova11.copy()"
   ]
  },
  {
   "cell_type": "markdown",
   "id": "6209b36e",
   "metadata": {},
   "source": [
    "### Pre-processing"
   ]
  },
  {
   "cell_type": "code",
   "execution_count": 4,
   "id": "5d9b5584",
   "metadata": {},
   "outputs": [],
   "source": [
    "bova11.columns = bova11.columns.str.lower()\n",
    "bova11.date = pd.to_datetime(bova11.date)\n",
    "bova11 = bova11.loc[(bova11.volume != 0)].reset_index()\n",
    "bova11.drop(columns='index', axis = 1, inplace = True)\n",
    "bova11 = bova11.sort_values(by='date').reset_index(drop=True)"
   ]
  },
  {
   "cell_type": "code",
   "execution_count": 5,
   "id": "050a4239",
   "metadata": {},
   "outputs": [
    {
     "name": "stderr",
     "output_type": "stream",
     "text": [
      "100%|██████████| 3405/3405 [00:00<00:00, 7403.66it/s]\n"
     ]
    },
    {
     "name": "stdout",
     "output_type": "stream",
     "text": [
      "[[-0.39030025 -0.91719676 -0.95032594 ...         nan -0.78570428\n",
      "  -0.8756999 ]\n",
      " [-0.35971966 -0.87970094 -0.91076644 ...         nan -0.79239236\n",
      "  -0.86853306]\n",
      " [-0.33009474 -0.87255889 -0.86918409 ...         nan -0.83530725\n",
      "  -0.90615904]\n",
      " ...\n",
      " [ 0.74388784  0.63486217  0.6032816  ...  0.13341511 -0.87292727\n",
      "   0.56438976]\n",
      " [ 0.7120331   0.62169391  0.58080464 ... -0.04127008 -0.87571391\n",
      "   0.53236288]\n",
      " [ 0.69069048  0.56902137  0.54663973 ... -0.1462717  -0.87822203\n",
      "          nan]]\n"
     ]
    }
   ],
   "source": [
    "# Adding columns\n",
    "\n",
    "bova11[\"prev_close\"] = bova11.shift(1)[\"close\"]\n",
    "bova11[\"close_change\"]= bova11.progress_apply(\n",
    "    lambda row: 0 if np.isnan(row.prev_close) else row.close - row.prev_close,\n",
    "    axis = 1\n",
    ")\n",
    "\n",
    "# Adding move Averages columns\n",
    "bova11['ma_3d'] = bova11['close'].rolling(3, center = True, min_periods=1).mean()\n",
    "bova11['ma_10d'] = bova11['close'].rolling(10, center = True,min_periods=1).mean()\n",
    "bova11['ma_30d'] = bova11['close'].rolling(30, center=True, min_periods=1).mean()\n",
    "bova11['ma_60d'] = bova11['close'].rolling(60, center = True, min_periods = 1).mean()\n",
    "\n",
    "# Adding standard deviation columns\n",
    "bova11['std_7'] = bova11['close'].rolling(7, center = True, min_periods = 1).std()\n",
    "bova11['std_30'] = bova11['close'].rolling(30, center = True, min_periods = 1).std()\n",
    "bova11['std_60'] = bova11['close'].rolling(60, center = True, min_periods = 1).std()\n",
    "\n",
    "# Adding the bollinger bands\n",
    "bova11['upper3'] = bova11['ma_3d'] + 2*bova11['close'].rolling(3, center = True, min_periods = 1).std()\n",
    "bova11['lower3'] = bova11['ma_3d'] - 2*bova11['close'].rolling(3, center = True, min_periods = 1).std()\n",
    "\n",
    "bova11['upper30'] = bova11['ma_30d'] + 2*bova11['std_30']\n",
    "bova11['lower30'] = bova11['ma_30d'] - 2*bova11['std_30']\n",
    "\n",
    "bova11['upper60'] = bova11['ma_60d'] + 2*bova11['std_60']\n",
    "bova11['lower60'] = bova11['ma_60d'] - 2*bova11['std_60']\n",
    "\n",
    "# Adding tecnical indicator RSI\n",
    "bova11['RSI'] = ta.rsi(bova11['close'], length = 15)\n",
    "\n",
    "bova11.drop(['date', 'volume', 'dividends', 'stock splits', 'prev_close'],\n",
    "            axis = 1,\n",
    "           inplace = True)\n",
    "\n",
    "bova11['target'] = bova11.close - bova11.open\n",
    "#bova11['targetClass'] = [1 if bova11.target[i] > 0 else 0 for i in range(len(bova11))]\n",
    "bova11['targetNextClose'] = bova11['close'].shift(-1)\n",
    "\n",
    "scaler = MinMaxScaler(feature_range = (-1, 1))\n",
    "bova11_scaled = scaler.fit_transform(bova11)\n",
    "print(bova11_scaled)"
   ]
  },
  {
   "cell_type": "markdown",
   "id": "c3d47469",
   "metadata": {},
   "source": [
    "### Importing the functions"
   ]
  },
  {
   "cell_type": "code",
   "execution_count": 6,
   "id": "b77c99cb",
   "metadata": {},
   "outputs": [],
   "source": [
    "def MAPE(actual, pred):\n",
    "    actual, pred = np.array(actual), np.array(pred)\n",
    "    MAPE = np.nanmean(np.abs((actual - pred) / actual)) * 100\n",
    "    return MAPE\n",
    "\n",
    "def MAE(actual, pred):\n",
    "    MAE = mean_absolute_error(actual, pred)\n",
    "    return MAE\n",
    "\n",
    "def RMSE(actual, pred):\n",
    "    RMSE = mean_squared_error(actual, pred, squared = False)\n",
    "    return RMSE"
   ]
  },
  {
   "cell_type": "code",
   "execution_count": 7,
   "id": "ba8cc2fa",
   "metadata": {},
   "outputs": [],
   "source": [
    "def feature_calc(df):\n",
    "    # Adding close change\n",
    "    df[\"prev_close\"] = df.shift(1)[\"close\"]\n",
    "    df[\"close_change\"]= df.progress_apply(\n",
    "        lambda row: 0 if np.isnan(row.prev_close) else row.close - row.prev_close,\n",
    "        axis = 1\n",
    "    )\n",
    "    # Adding move Averages columns\n",
    "    df['ma_3d'] = df['close'].rolling(3, center = True, min_periods=1).mean()\n",
    "    df['ma_10d'] = df['close'].rolling(10, center = True,min_periods=1).mean()\n",
    "    df['ma_30d'] = df['close'].rolling(30, center=True, min_periods=1).mean()\n",
    "    df['ma_60d'] = df['close'].rolling(60, center = True, min_periods = 1).mean()\n",
    "    # Adding standard deviation columns\n",
    "    df['std_7'] = df['close'].rolling(7, center = True, min_periods = 1).std()\n",
    "    df['std_30'] = df['close'].rolling(30, center = True, min_periods = 1).std()\n",
    "    df['std_60'] = df['close'].rolling(60, center = True, min_periods = 1).std()\n",
    "    # Adding the bollinger bands\n",
    "    df['upper3'] = df['ma_3d'] + 2*df['close'].rolling(3, center = True, min_periods = 1).std()\n",
    "    df['lower3'] = df['ma_3d'] - 2*df['close'].rolling(3, center = True, min_periods = 1).std()\n",
    "    df['upper30'] = df['ma_30d'] + 2*df['std_30']\n",
    "    df['lower30'] = df['ma_30d'] - 2*df['std_30']\n",
    "    df['upper60'] = df['ma_60d'] + 2*df['std_60']\n",
    "    df['lower60'] = df['ma_60d'] - 2*df['std_60']\n",
    "    # Adding tecnical indicator RSI\n",
    "    df['RSI'] = ta.rsi(df['close'], length = 15)\n",
    "    df['target'] = df.close - df.open\n",
    "    df['targetNextClose'] = df['close'].shift(-1)\n",
    "    \n",
    "    return df"
   ]
  },
  {
   "cell_type": "code",
   "execution_count": 110,
   "id": "14d10b4c",
   "metadata": {},
   "outputs": [],
   "source": [
    "def predict(df, days, pass_days, model):\n",
    "    # copy the dataframe to edit\n",
    "    df_ = df.copy()\n",
    "    \n",
    "    for i in reversed(range(days+1)):\n",
    "        if days > 0:\n",
    "            # scale the features for the model prediction\n",
    "            scaler = MinMaxScaler(feature_range = (-1, 1))\n",
    "            df_scaled = scaler.fit_transform(df_)\n",
    "\n",
    "            backcandles = pass_days #Defined by hyperparameters testing\n",
    "            X = []\n",
    "            for j in range(19): # range is the number of feature columns you will use\n",
    "                X.append([])\n",
    "                for k in range(backcandles, df_scaled.shape[0]):\n",
    "                    X[j].append(df_scaled[k-backcandles:k, j])\n",
    "\n",
    "            #move axis from 0 to position 2\n",
    "            X = np.moveaxis(X, [0], [2])\n",
    "\n",
    "            X, yi = np.array(X), np.array(df_scaled[backcandles:, -1]) # Chosing the last column as the pred. target\n",
    "            y = np.reshape(yi, (len(yi), 1))\n",
    "\n",
    "            splitlimit = int(len(X) * 0.9)\n",
    "            x_test = X[splitlimit+1:] # take the last 10% of the original database\n",
    "\n",
    "            if days > 1:\n",
    "                x_test = x_test[-days:-(days-1)] \n",
    "            else:\n",
    "                x_test = x_test[-days:]\n",
    "            \n",
    "            y_pred = model.predict(x_test) # make the prediction on the day to replace\n",
    "            #print(y_pred)\n",
    "            #print(df_scaled[-days][3])\n",
    "            df_scaled[-days][3] = y_pred[0]\n",
    "            #print(df_scaled[-days][3])\n",
    "            predict_value = scaler.inverse_transform(df_scaled)[-days][3]\n",
    "            \n",
    "            #print(df_.loc[(len(df_) - days) : (len(df_) - days)].close)\n",
    "            df_.loc[(len(df_) - days) : (len(df_) - days), 'close'] = predict_value\n",
    "            #print(df_.loc[(len(df_) - days) : (len(df_) - days)].close)\n",
    "            \n",
    "            df_ = feature_calc(df_)\n",
    "            print(days)\n",
    "            days = days -1\n",
    "    \n",
    "    return df_"
   ]
  },
  {
   "cell_type": "markdown",
   "id": "a02b88b5",
   "metadata": {},
   "source": [
    "### Creating the models"
   ]
  },
  {
   "cell_type": "markdown",
   "id": "294c2dde",
   "metadata": {},
   "source": [
    "#### GRU"
   ]
  },
  {
   "cell_type": "code",
   "execution_count": 38,
   "id": "b747e298",
   "metadata": {},
   "outputs": [],
   "source": [
    "n_neurons = 256\n",
    "n_batch_size = 32\n",
    "dropout = 0.1\n",
    "pass_days = 100"
   ]
  },
  {
   "cell_type": "code",
   "execution_count": 39,
   "id": "256a8cb0",
   "metadata": {},
   "outputs": [],
   "source": [
    "backcandles = pass_days\n",
    "X = []\n",
    "for j in range(19): # range is the number of feature columns you will use\n",
    "    X.append([])\n",
    "    for k in range(backcandles, bova11_scaled.shape[0]):\n",
    "        X[j].append(bova11_scaled[k-backcandles:k, j])\n",
    "\n",
    "#move axis from 0 to position 2\n",
    "X = np.moveaxis(X, [0], [2])\n",
    "\n",
    "X, yi = np.array(X), np.array(bova11_scaled[backcandles:, -1]) # Chosing the last column as the pred. target\n",
    "y = np.reshape(yi, (len(yi), 1))\n",
    "\n",
    "splitlimit = int(len(X) * 0.9)\n",
    "x_train, x_test = X[:splitlimit], X[splitlimit+1:]\n",
    "y_train, y_test = y[:splitlimit], y[splitlimit+1:]"
   ]
  },
  {
   "cell_type": "code",
   "execution_count": 40,
   "id": "cb195495",
   "metadata": {},
   "outputs": [],
   "source": [
    "from keras.models import load_model\n",
    "\n",
    "model_gru = load_model('GRU/best_model.h5')\n",
    "model_lstm = load_model('lstm/best_model.h5')"
   ]
  },
  {
   "cell_type": "code",
   "execution_count": 41,
   "id": "e5846d03",
   "metadata": {},
   "outputs": [
    {
     "name": "stdout",
     "output_type": "stream",
     "text": [
      "11/11 [==============================] - 52s 40ms/step\n"
     ]
    },
    {
     "data": {
      "image/png": "[encoded data removed]",
      "text/plain": [
       "<Figure size 1400x1000 with 1 Axes>"
      ]
     },
     "metadata": {},
     "output_type": "display_data"
    }
   ],
   "source": [
    "y_pred = model_gru.predict(x_test)\n",
    "\n",
    "plt.plot(y_test, color = 'blue', label = 'Test')\n",
    "plt.plot(y_pred, color = 'red', label = 'pred')\n",
    "plt.legend()\n",
    "plt.show()"
   ]
  },
  {
   "cell_type": "code",
   "execution_count": 44,
   "id": "db5fb1a3",
   "metadata": {},
   "outputs": [
    {
     "data": {
      "text/plain": [
       "((329, 1), (329, 1))"
      ]
     },
     "execution_count": 44,
     "metadata": {},
     "output_type": "execute_result"
    }
   ],
   "source": [
    "y_test.shape, y_pred.shape"
   ]
  },
  {
   "cell_type": "code",
   "execution_count": 43,
   "id": "1d2407b0",
   "metadata": {},
   "outputs": [],
   "source": [
    "y_test = y_test[:-1]\n",
    "y_pred = y_pred[:-1]"
   ]
  },
  {
   "cell_type": "code",
   "execution_count": 45,
   "id": "8fd8a2ad",
   "metadata": {},
   "outputs": [
    {
     "data": {
      "text/plain": [
       "(0.033059551925435644, 6.376395971612607, 0.040430070404137215)"
      ]
     },
     "execution_count": 45,
     "metadata": {},
     "output_type": "execute_result"
    }
   ],
   "source": [
    "MAE(y_test,y_pred), MAPE(y_test, y_pred), RMSE(y_test, y_pred)"
   ]
  },
  {
   "cell_type": "markdown",
   "id": "e77aba08",
   "metadata": {},
   "source": [
    "#### LSTM"
   ]
  },
  {
   "cell_type": "code",
   "execution_count": 46,
   "id": "0afcf8e1",
   "metadata": {},
   "outputs": [],
   "source": [
    "n_neurons = 256\n",
    "n_batch_size = 32\n",
    "dropout = 0.1\n",
    "pass_days = 50"
   ]
  },
  {
   "cell_type": "code",
   "execution_count": 47,
   "id": "90959751",
   "metadata": {},
   "outputs": [],
   "source": [
    "backcandles = pass_days\n",
    "X = []\n",
    "for j in range(19): # range is the number of feature columns you will use\n",
    "    X.append([])\n",
    "    for k in range(backcandles, bova11_scaled.shape[0]):\n",
    "        X[j].append(bova11_scaled[k-backcandles:k, j])\n",
    "\n",
    "#move axis from 0 to position 2\n",
    "X = np.moveaxis(X, [0], [2])\n",
    "\n",
    "X, yi = np.array(X), np.array(bova11_scaled[backcandles:, -1]) # Chosing the last column as the pred. target\n",
    "y = np.reshape(yi, (len(yi), 1))\n",
    "\n",
    "splitlimit = int(len(X) * 0.9)\n",
    "x_train, x_test = X[:splitlimit], X[splitlimit+1:]\n",
    "y_train, y_test = y[:splitlimit], y[splitlimit+1:]"
   ]
  },
  {
   "cell_type": "code",
   "execution_count": 50,
   "id": "7b5d73f9",
   "metadata": {},
   "outputs": [
    {
     "name": "stdout",
     "output_type": "stream",
     "text": [
      "11/11 [==============================] - 3s 258ms/step\n"
     ]
    },
    {
     "data": {
      "image/png": "[encoded data removed]",
      "text/plain": [
       "<Figure size 1400x1000 with 1 Axes>"
      ]
     },
     "metadata": {},
     "output_type": "display_data"
    }
   ],
   "source": [
    "y_pred = model_lstm.predict(x_test)\n",
    "\n",
    "plt.plot(y_test, color = 'blue', label = 'Test')\n",
    "plt.plot(y_pred, color = 'red', label = 'pred')\n",
    "plt.legend()\n",
    "plt.show()"
   ]
  },
  {
   "cell_type": "code",
   "execution_count": 52,
   "id": "800da5b9",
   "metadata": {},
   "outputs": [
    {
     "data": {
      "text/plain": [
       "((335, 1), (335, 1))"
      ]
     },
     "execution_count": 52,
     "metadata": {},
     "output_type": "execute_result"
    }
   ],
   "source": [
    "y_test.shape, y_pred.shape"
   ]
  },
  {
   "cell_type": "code",
   "execution_count": 53,
   "id": "295df981",
   "metadata": {},
   "outputs": [],
   "source": [
    "y_test = y_test[:-1]\n",
    "y_pred = y_pred[:-1]"
   ]
  },
  {
   "cell_type": "code",
   "execution_count": 54,
   "id": "f8c6cd31",
   "metadata": {},
   "outputs": [
    {
     "data": {
      "text/plain": [
       "(0.03293875943199257, 6.21215559446155, 0.040970769106127056)"
      ]
     },
     "execution_count": 54,
     "metadata": {},
     "output_type": "execute_result"
    }
   ],
   "source": [
    "MAE(y_test,y_pred), MAPE(y_test, y_pred), RMSE(y_test, y_pred)"
   ]
  },
  {
   "cell_type": "markdown",
   "id": "716d34b1",
   "metadata": {},
   "source": [
    "### Making the predictions"
   ]
  },
  {
   "cell_type": "code",
   "execution_count": 55,
   "id": "b99a5f61",
   "metadata": {},
   "outputs": [],
   "source": [
    "bova11.reset_index(drop = True, inplace = True)"
   ]
  },
  {
   "cell_type": "code",
   "execution_count": 162,
   "id": "6ff24ba2",
   "metadata": {},
   "outputs": [],
   "source": [
    "bova11_backup = bova11.copy()"
   ]
  },
  {
   "cell_type": "code",
   "execution_count": 184,
   "id": "00a74e68",
   "metadata": {},
   "outputs": [],
   "source": [
    "bova11 = bova11[:-5]"
   ]
  },
  {
   "cell_type": "code",
   "execution_count": 185,
   "id": "e5227fc6",
   "metadata": {},
   "outputs": [
    {
     "name": "stdout",
     "output_type": "stream",
     "text": [
      "1/1 [==============================] - 0s 31ms/step\n"
     ]
    },
    {
     "name": "stderr",
     "output_type": "stream",
     "text": [
      "100%|██████████| 3399/3399 [00:00<00:00, 7994.92it/s]\n"
     ]
    },
    {
     "name": "stdout",
     "output_type": "stream",
     "text": [
      "1\n",
      "1/1 [==============================] - 0s 78ms/step\n"
     ]
    },
    {
     "name": "stderr",
     "output_type": "stream",
     "text": [
      "100%|██████████| 3399/3399 [00:00<00:00, 9169.40it/s]\n"
     ]
    },
    {
     "name": "stdout",
     "output_type": "stream",
     "text": [
      "1\n",
      "1/1 [==============================] - 0s 46ms/step\n"
     ]
    },
    {
     "name": "stderr",
     "output_type": "stream",
     "text": [
      "100%|██████████| 3399/3399 [00:00<00:00, 7709.12it/s]\n"
     ]
    },
    {
     "name": "stdout",
     "output_type": "stream",
     "text": [
      "5\n",
      "1/1 [==============================] - 0s 47ms/step\n"
     ]
    },
    {
     "name": "stderr",
     "output_type": "stream",
     "text": [
      "100%|██████████| 3399/3399 [00:00<00:00, 9145.95it/s] \n"
     ]
    },
    {
     "name": "stdout",
     "output_type": "stream",
     "text": [
      "4\n",
      "1/1 [==============================] - 0s 35ms/step\n"
     ]
    },
    {
     "name": "stderr",
     "output_type": "stream",
     "text": [
      "100%|██████████| 3399/3399 [00:00<00:00, 7241.39it/s]\n"
     ]
    },
    {
     "name": "stdout",
     "output_type": "stream",
     "text": [
      "3\n",
      "1/1 [==============================] - 0s 47ms/step\n"
     ]
    },
    {
     "name": "stderr",
     "output_type": "stream",
     "text": [
      "100%|██████████| 3399/3399 [00:00<00:00, 13192.92it/s]\n"
     ]
    },
    {
     "name": "stdout",
     "output_type": "stream",
     "text": [
      "2\n",
      "1/1 [==============================] - 0s 47ms/step\n"
     ]
    },
    {
     "name": "stderr",
     "output_type": "stream",
     "text": [
      "100%|██████████| 3399/3399 [00:00<00:00, 10322.92it/s]\n"
     ]
    },
    {
     "name": "stdout",
     "output_type": "stream",
     "text": [
      "1\n",
      "1/1 [==============================] - 0s 119ms/step\n"
     ]
    },
    {
     "name": "stderr",
     "output_type": "stream",
     "text": [
      "100%|██████████| 3399/3399 [00:00<00:00, 12519.60it/s]\n"
     ]
    },
    {
     "name": "stdout",
     "output_type": "stream",
     "text": [
      "5\n",
      "1/1 [==============================] - 0s 57ms/step\n"
     ]
    },
    {
     "name": "stderr",
     "output_type": "stream",
     "text": [
      "100%|██████████| 3399/3399 [00:00<00:00, 10627.78it/s]\n"
     ]
    },
    {
     "name": "stdout",
     "output_type": "stream",
     "text": [
      "4\n",
      "1/1 [==============================] - 0s 55ms/step\n"
     ]
    },
    {
     "name": "stderr",
     "output_type": "stream",
     "text": [
      "100%|██████████| 3399/3399 [00:00<00:00, 5862.35it/s]\n"
     ]
    },
    {
     "name": "stdout",
     "output_type": "stream",
     "text": [
      "3\n",
      "1/1 [==============================] - 0s 47ms/step\n"
     ]
    },
    {
     "name": "stderr",
     "output_type": "stream",
     "text": [
      "100%|██████████| 3399/3399 [00:00<00:00, 9775.68it/s]\n"
     ]
    },
    {
     "name": "stdout",
     "output_type": "stream",
     "text": [
      "2\n",
      "1/1 [==============================] - 0s 63ms/step\n"
     ]
    },
    {
     "name": "stderr",
     "output_type": "stream",
     "text": [
      "100%|██████████| 3399/3399 [00:00<00:00, 12416.54it/s]\n"
     ]
    },
    {
     "name": "stdout",
     "output_type": "stream",
     "text": [
      "1\n",
      "1/1 [==============================] - 0s 93ms/step\n"
     ]
    },
    {
     "name": "stderr",
     "output_type": "stream",
     "text": [
      "100%|██████████| 3399/3399 [00:00<00:00, 8617.03it/s]\n"
     ]
    },
    {
     "name": "stdout",
     "output_type": "stream",
     "text": [
      "30\n",
      "1/1 [==============================] - 0s 60ms/step\n"
     ]
    },
    {
     "name": "stderr",
     "output_type": "stream",
     "text": [
      "100%|██████████| 3399/3399 [00:00<00:00, 6679.52it/s]\n"
     ]
    },
    {
     "name": "stdout",
     "output_type": "stream",
     "text": [
      "29\n",
      "1/1 [==============================] - 0s 61ms/step\n"
     ]
    },
    {
     "name": "stderr",
     "output_type": "stream",
     "text": [
      "100%|██████████| 3399/3399 [00:00<00:00, 9056.61it/s]\n"
     ]
    },
    {
     "name": "stdout",
     "output_type": "stream",
     "text": [
      "28\n",
      "1/1 [==============================] - 0s 73ms/step\n"
     ]
    },
    {
     "name": "stderr",
     "output_type": "stream",
     "text": [
      "100%|██████████| 3399/3399 [00:00<00:00, 6268.86it/s]\n"
     ]
    },
    {
     "name": "stdout",
     "output_type": "stream",
     "text": [
      "27\n",
      "1/1 [==============================] - 0s 71ms/step\n"
     ]
    },
    {
     "name": "stderr",
     "output_type": "stream",
     "text": [
      "100%|██████████| 3399/3399 [00:00<00:00, 7722.78it/s]\n"
     ]
    },
    {
     "name": "stdout",
     "output_type": "stream",
     "text": [
      "26\n",
      "1/1 [==============================] - 0s 47ms/step\n"
     ]
    },
    {
     "name": "stderr",
     "output_type": "stream",
     "text": [
      "100%|██████████| 3399/3399 [00:00<00:00, 8234.66it/s]\n"
     ]
    },
    {
     "name": "stdout",
     "output_type": "stream",
     "text": [
      "25\n",
      "1/1 [==============================] - 0s 47ms/step\n"
     ]
    },
    {
     "name": "stderr",
     "output_type": "stream",
     "text": [
      "100%|██████████| 3399/3399 [00:00<00:00, 8247.07it/s]\n"
     ]
    },
    {
     "name": "stdout",
     "output_type": "stream",
     "text": [
      "24\n",
      "1/1 [==============================] - 0s 62ms/step\n"
     ]
    },
    {
     "name": "stderr",
     "output_type": "stream",
     "text": [
      "100%|██████████| 3399/3399 [00:00<00:00, 8362.08it/s]\n"
     ]
    },
    {
     "name": "stdout",
     "output_type": "stream",
     "text": [
      "23\n",
      "1/1 [==============================] - 0s 31ms/step\n"
     ]
    },
    {
     "name": "stderr",
     "output_type": "stream",
     "text": [
      "100%|██████████| 3399/3399 [00:00<00:00, 7765.96it/s]\n"
     ]
    },
    {
     "name": "stdout",
     "output_type": "stream",
     "text": [
      "22\n",
      "1/1 [==============================] - 0s 62ms/step\n"
     ]
    },
    {
     "name": "stderr",
     "output_type": "stream",
     "text": [
      "100%|██████████| 3399/3399 [00:00<00:00, 10077.89it/s]\n"
     ]
    },
    {
     "name": "stdout",
     "output_type": "stream",
     "text": [
      "21\n",
      "1/1 [==============================] - 0s 31ms/step\n"
     ]
    },
    {
     "name": "stderr",
     "output_type": "stream",
     "text": [
      "100%|██████████| 3399/3399 [00:00<00:00, 12277.56it/s]\n"
     ]
    },
    {
     "name": "stdout",
     "output_type": "stream",
     "text": [
      "20\n",
      "1/1 [==============================] - 0s 47ms/step\n"
     ]
    },
    {
     "name": "stderr",
     "output_type": "stream",
     "text": [
      "100%|██████████| 3399/3399 [00:00<00:00, 10457.99it/s]\n"
     ]
    },
    {
     "name": "stdout",
     "output_type": "stream",
     "text": [
      "19\n",
      "1/1 [==============================] - 0s 59ms/step\n"
     ]
    },
    {
     "name": "stderr",
     "output_type": "stream",
     "text": [
      "100%|██████████| 3399/3399 [00:00<00:00, 15024.81it/s]\n"
     ]
    },
    {
     "name": "stdout",
     "output_type": "stream",
     "text": [
      "18\n",
      "1/1 [==============================] - 0s 54ms/step\n"
     ]
    },
    {
     "name": "stderr",
     "output_type": "stream",
     "text": [
      "100%|██████████| 3399/3399 [00:00<00:00, 14630.23it/s]\n"
     ]
    },
    {
     "name": "stdout",
     "output_type": "stream",
     "text": [
      "17\n",
      "1/1 [==============================] - 0s 55ms/step\n"
     ]
    },
    {
     "name": "stderr",
     "output_type": "stream",
     "text": [
      "100%|██████████| 3399/3399 [00:00<00:00, 13193.30it/s]\n"
     ]
    },
    {
     "name": "stdout",
     "output_type": "stream",
     "text": [
      "16\n",
      "1/1 [==============================] - 0s 31ms/step\n"
     ]
    },
    {
     "name": "stderr",
     "output_type": "stream",
     "text": [
      "100%|██████████| 3399/3399 [00:00<00:00, 15218.52it/s]\n"
     ]
    },
    {
     "name": "stdout",
     "output_type": "stream",
     "text": [
      "15\n",
      "1/1 [==============================] - 0s 102ms/step\n"
     ]
    },
    {
     "name": "stderr",
     "output_type": "stream",
     "text": [
      "100%|██████████| 3399/3399 [00:00<00:00, 10567.07it/s]\n"
     ]
    },
    {
     "name": "stdout",
     "output_type": "stream",
     "text": [
      "14\n",
      "1/1 [==============================] - 0s 53ms/step\n"
     ]
    },
    {
     "name": "stderr",
     "output_type": "stream",
     "text": [
      "100%|██████████| 3399/3399 [00:00<00:00, 14917.45it/s]\n"
     ]
    },
    {
     "name": "stdout",
     "output_type": "stream",
     "text": [
      "13\n",
      "1/1 [==============================] - 0s 58ms/step\n"
     ]
    },
    {
     "name": "stderr",
     "output_type": "stream",
     "text": [
      "100%|██████████| 3399/3399 [00:00<00:00, 11586.83it/s]\n"
     ]
    },
    {
     "name": "stdout",
     "output_type": "stream",
     "text": [
      "12\n",
      "1/1 [==============================] - 0s 42ms/step\n"
     ]
    },
    {
     "name": "stderr",
     "output_type": "stream",
     "text": [
      "100%|██████████| 3399/3399 [00:00<00:00, 12954.04it/s]\n"
     ]
    },
    {
     "name": "stdout",
     "output_type": "stream",
     "text": [
      "11\n",
      "1/1 [==============================] - 0s 47ms/step\n"
     ]
    },
    {
     "name": "stderr",
     "output_type": "stream",
     "text": [
      "100%|██████████| 3399/3399 [00:00<00:00, 13426.54it/s]\n"
     ]
    },
    {
     "name": "stdout",
     "output_type": "stream",
     "text": [
      "10\n",
      "1/1 [==============================] - 0s 31ms/step\n"
     ]
    },
    {
     "name": "stderr",
     "output_type": "stream",
     "text": [
      "100%|██████████| 3399/3399 [00:00<00:00, 10415.59it/s]\n"
     ]
    },
    {
     "name": "stdout",
     "output_type": "stream",
     "text": [
      "9\n",
      "1/1 [==============================] - 0s 52ms/step\n"
     ]
    },
    {
     "name": "stderr",
     "output_type": "stream",
     "text": [
      "100%|██████████| 3399/3399 [00:00<00:00, 13180.84it/s]\n"
     ]
    },
    {
     "name": "stdout",
     "output_type": "stream",
     "text": [
      "8\n",
      "1/1 [==============================] - 0s 56ms/step\n"
     ]
    },
    {
     "name": "stderr",
     "output_type": "stream",
     "text": [
      "100%|██████████| 3399/3399 [00:00<00:00, 12361.06it/s]\n"
     ]
    },
    {
     "name": "stdout",
     "output_type": "stream",
     "text": [
      "7\n",
      "1/1 [==============================] - 0s 53ms/step\n"
     ]
    },
    {
     "name": "stderr",
     "output_type": "stream",
     "text": [
      "100%|██████████| 3399/3399 [00:00<00:00, 13822.21it/s]\n"
     ]
    },
    {
     "name": "stdout",
     "output_type": "stream",
     "text": [
      "6\n",
      "1/1 [==============================] - 0s 47ms/step\n"
     ]
    },
    {
     "name": "stderr",
     "output_type": "stream",
     "text": [
      "100%|██████████| 3399/3399 [00:00<00:00, 13881.73it/s]\n"
     ]
    },
    {
     "name": "stdout",
     "output_type": "stream",
     "text": [
      "5\n",
      "1/1 [==============================] - 0s 44ms/step\n"
     ]
    },
    {
     "name": "stderr",
     "output_type": "stream",
     "text": [
      "100%|██████████| 3399/3399 [00:00<00:00, 11663.88it/s]\n"
     ]
    },
    {
     "name": "stdout",
     "output_type": "stream",
     "text": [
      "4\n",
      "1/1 [==============================] - 0s 47ms/step\n"
     ]
    },
    {
     "name": "stderr",
     "output_type": "stream",
     "text": [
      "100%|██████████| 3399/3399 [00:00<00:00, 8967.88it/s]\n"
     ]
    },
    {
     "name": "stdout",
     "output_type": "stream",
     "text": [
      "3\n",
      "1/1 [==============================] - 0s 62ms/step\n"
     ]
    },
    {
     "name": "stderr",
     "output_type": "stream",
     "text": [
      "100%|██████████| 3399/3399 [00:00<00:00, 9147.15it/s]\n"
     ]
    },
    {
     "name": "stdout",
     "output_type": "stream",
     "text": [
      "2\n",
      "1/1 [==============================] - 0s 78ms/step\n"
     ]
    },
    {
     "name": "stderr",
     "output_type": "stream",
     "text": [
      "100%|██████████| 3399/3399 [00:00<00:00, 8267.79it/s]\n"
     ]
    },
    {
     "name": "stdout",
     "output_type": "stream",
     "text": [
      "1\n",
      "1/1 [==============================] - 0s 56ms/step\n"
     ]
    },
    {
     "name": "stderr",
     "output_type": "stream",
     "text": [
      "100%|██████████| 3399/3399 [00:00<00:00, 6840.06it/s]\n"
     ]
    },
    {
     "name": "stdout",
     "output_type": "stream",
     "text": [
      "30\n",
      "1/1 [==============================] - 0s 109ms/step\n"
     ]
    },
    {
     "name": "stderr",
     "output_type": "stream",
     "text": [
      "100%|██████████| 3399/3399 [00:00<00:00, 13172.82it/s]\n"
     ]
    },
    {
     "name": "stdout",
     "output_type": "stream",
     "text": [
      "29\n",
      "1/1 [==============================] - 0s 47ms/step\n"
     ]
    },
    {
     "name": "stderr",
     "output_type": "stream",
     "text": [
      "100%|██████████| 3399/3399 [00:00<00:00, 9179.60it/s] \n"
     ]
    },
    {
     "name": "stdout",
     "output_type": "stream",
     "text": [
      "28\n",
      "1/1 [==============================] - 0s 47ms/step\n"
     ]
    },
    {
     "name": "stderr",
     "output_type": "stream",
     "text": [
      "100%|██████████| 3399/3399 [00:00<00:00, 11272.46it/s]\n"
     ]
    },
    {
     "name": "stdout",
     "output_type": "stream",
     "text": [
      "27\n",
      "1/1 [==============================] - 0s 50ms/step\n"
     ]
    },
    {
     "name": "stderr",
     "output_type": "stream",
     "text": [
      "100%|██████████| 3399/3399 [00:00<00:00, 11149.42it/s]\n"
     ]
    },
    {
     "name": "stdout",
     "output_type": "stream",
     "text": [
      "26\n",
      "1/1 [==============================] - 0s 62ms/step\n"
     ]
    },
    {
     "name": "stderr",
     "output_type": "stream",
     "text": [
      "100%|██████████| 3399/3399 [00:00<00:00, 12328.26it/s]\n"
     ]
    },
    {
     "name": "stdout",
     "output_type": "stream",
     "text": [
      "25\n",
      "1/1 [==============================] - 0s 47ms/step\n"
     ]
    },
    {
     "name": "stderr",
     "output_type": "stream",
     "text": [
      "100%|██████████| 3399/3399 [00:00<00:00, 13095.83it/s]\n"
     ]
    },
    {
     "name": "stdout",
     "output_type": "stream",
     "text": [
      "24\n",
      "1/1 [==============================] - 0s 113ms/step\n"
     ]
    },
    {
     "name": "stderr",
     "output_type": "stream",
     "text": [
      "100%|██████████| 3399/3399 [00:00<00:00, 12322.19it/s]\n"
     ]
    },
    {
     "name": "stdout",
     "output_type": "stream",
     "text": [
      "23\n",
      "1/1 [==============================] - 0s 62ms/step\n"
     ]
    },
    {
     "name": "stderr",
     "output_type": "stream",
     "text": [
      "100%|██████████| 3399/3399 [00:00<00:00, 8631.10it/s] \n"
     ]
    },
    {
     "name": "stdout",
     "output_type": "stream",
     "text": [
      "22\n",
      "1/1 [==============================] - 0s 47ms/step\n"
     ]
    },
    {
     "name": "stderr",
     "output_type": "stream",
     "text": [
      "100%|██████████| 3399/3399 [00:00<00:00, 9829.30it/s] \n"
     ]
    },
    {
     "name": "stdout",
     "output_type": "stream",
     "text": [
      "21\n",
      "1/1 [==============================] - 0s 109ms/step\n"
     ]
    },
    {
     "name": "stderr",
     "output_type": "stream",
     "text": [
      "100%|██████████| 3399/3399 [00:00<00:00, 7880.20it/s]\n"
     ]
    },
    {
     "name": "stdout",
     "output_type": "stream",
     "text": [
      "20\n",
      "1/1 [==============================] - 0s 62ms/step\n"
     ]
    },
    {
     "name": "stderr",
     "output_type": "stream",
     "text": [
      "100%|██████████| 3399/3399 [00:00<00:00, 8244.40it/s]\n"
     ]
    },
    {
     "name": "stdout",
     "output_type": "stream",
     "text": [
      "19\n",
      "1/1 [==============================] - 0s 62ms/step\n"
     ]
    },
    {
     "name": "stderr",
     "output_type": "stream",
     "text": [
      "100%|██████████| 3399/3399 [00:00<00:00, 11410.24it/s]\n"
     ]
    },
    {
     "name": "stdout",
     "output_type": "stream",
     "text": [
      "18\n",
      "1/1 [==============================] - 0s 35ms/step\n"
     ]
    },
    {
     "name": "stderr",
     "output_type": "stream",
     "text": [
      "100%|██████████| 3399/3399 [00:00<00:00, 12769.32it/s]\n"
     ]
    },
    {
     "name": "stdout",
     "output_type": "stream",
     "text": [
      "17\n",
      "1/1 [==============================] - 0s 61ms/step\n"
     ]
    },
    {
     "name": "stderr",
     "output_type": "stream",
     "text": [
      "100%|██████████| 3399/3399 [00:00<00:00, 10895.50it/s]\n"
     ]
    },
    {
     "name": "stdout",
     "output_type": "stream",
     "text": [
      "16\n",
      "1/1 [==============================] - 0s 52ms/step\n"
     ]
    },
    {
     "name": "stderr",
     "output_type": "stream",
     "text": [
      "100%|██████████| 3399/3399 [00:00<00:00, 15423.56it/s]\n"
     ]
    },
    {
     "name": "stdout",
     "output_type": "stream",
     "text": [
      "15\n",
      "1/1 [==============================] - 0s 31ms/step\n"
     ]
    },
    {
     "name": "stderr",
     "output_type": "stream",
     "text": [
      "100%|██████████| 3399/3399 [00:00<00:00, 11506.76it/s]\n"
     ]
    },
    {
     "name": "stdout",
     "output_type": "stream",
     "text": [
      "14\n",
      "1/1 [==============================] - 0s 61ms/step\n"
     ]
    },
    {
     "name": "stderr",
     "output_type": "stream",
     "text": [
      "100%|██████████| 3399/3399 [00:00<00:00, 15607.06it/s]\n"
     ]
    },
    {
     "name": "stdout",
     "output_type": "stream",
     "text": [
      "13\n",
      "1/1 [==============================] - 0s 47ms/step\n"
     ]
    },
    {
     "name": "stderr",
     "output_type": "stream",
     "text": [
      "100%|██████████| 3399/3399 [00:00<00:00, 11468.65it/s]\n"
     ]
    },
    {
     "name": "stdout",
     "output_type": "stream",
     "text": [
      "12\n",
      "1/1 [==============================] - 0s 48ms/step\n"
     ]
    },
    {
     "name": "stderr",
     "output_type": "stream",
     "text": [
      "100%|██████████| 3399/3399 [00:00<00:00, 14039.57it/s]\n"
     ]
    },
    {
     "name": "stdout",
     "output_type": "stream",
     "text": [
      "11\n",
      "1/1 [==============================] - 0s 49ms/step\n"
     ]
    },
    {
     "name": "stderr",
     "output_type": "stream",
     "text": [
      "100%|██████████| 3399/3399 [00:00<00:00, 9221.76it/s] \n"
     ]
    },
    {
     "name": "stdout",
     "output_type": "stream",
     "text": [
      "10\n",
      "1/1 [==============================] - 0s 51ms/step\n"
     ]
    },
    {
     "name": "stderr",
     "output_type": "stream",
     "text": [
      "100%|██████████| 3399/3399 [00:00<00:00, 7412.87it/s]\n"
     ]
    },
    {
     "name": "stdout",
     "output_type": "stream",
     "text": [
      "9\n",
      "1/1 [==============================] - 0s 53ms/step\n"
     ]
    },
    {
     "name": "stderr",
     "output_type": "stream",
     "text": [
      "100%|██████████| 3399/3399 [00:00<00:00, 9836.85it/s] \n"
     ]
    },
    {
     "name": "stdout",
     "output_type": "stream",
     "text": [
      "8\n",
      "1/1 [==============================] - 0s 78ms/step\n"
     ]
    },
    {
     "name": "stderr",
     "output_type": "stream",
     "text": [
      "100%|██████████| 3399/3399 [00:00<00:00, 9295.95it/s] \n"
     ]
    },
    {
     "name": "stdout",
     "output_type": "stream",
     "text": [
      "7\n",
      "1/1 [==============================] - 0s 78ms/step\n"
     ]
    },
    {
     "name": "stderr",
     "output_type": "stream",
     "text": [
      "100%|██████████| 3399/3399 [00:00<00:00, 8328.34it/s]\n"
     ]
    },
    {
     "name": "stdout",
     "output_type": "stream",
     "text": [
      "6\n",
      "1/1 [==============================] - 0s 47ms/step\n"
     ]
    },
    {
     "name": "stderr",
     "output_type": "stream",
     "text": [
      "100%|██████████| 3399/3399 [00:00<00:00, 9214.40it/s]\n"
     ]
    },
    {
     "name": "stdout",
     "output_type": "stream",
     "text": [
      "5\n",
      "1/1 [==============================] - 0s 141ms/step\n"
     ]
    },
    {
     "name": "stderr",
     "output_type": "stream",
     "text": [
      "100%|██████████| 3399/3399 [00:00<00:00, 9195.13it/s]\n"
     ]
    },
    {
     "name": "stdout",
     "output_type": "stream",
     "text": [
      "4\n",
      "1/1 [==============================] - 0s 139ms/step\n"
     ]
    },
    {
     "name": "stderr",
     "output_type": "stream",
     "text": [
      "100%|██████████| 3399/3399 [00:00<00:00, 13999.48it/s]\n"
     ]
    },
    {
     "name": "stdout",
     "output_type": "stream",
     "text": [
      "3\n",
      "1/1 [==============================] - 0s 56ms/step\n"
     ]
    },
    {
     "name": "stderr",
     "output_type": "stream",
     "text": [
      "100%|██████████| 3399/3399 [00:00<00:00, 10824.77it/s]\n"
     ]
    },
    {
     "name": "stdout",
     "output_type": "stream",
     "text": [
      "2\n",
      "1/1 [==============================] - 0s 47ms/step\n"
     ]
    },
    {
     "name": "stderr",
     "output_type": "stream",
     "text": [
      "100%|██████████| 3399/3399 [00:00<00:00, 15470.55it/s]\n"
     ]
    },
    {
     "name": "stdout",
     "output_type": "stream",
     "text": [
      "1\n",
      "1/1 [==============================] - 0s 53ms/step\n"
     ]
    },
    {
     "name": "stderr",
     "output_type": "stream",
     "text": [
      "100%|██████████| 3399/3399 [00:00<00:00, 11771.11it/s]\n"
     ]
    },
    {
     "name": "stdout",
     "output_type": "stream",
     "text": [
      "90\n",
      "1/1 [==============================] - 0s 30ms/step\n"
     ]
    },
    {
     "name": "stderr",
     "output_type": "stream",
     "text": [
      "100%|██████████| 3399/3399 [00:00<00:00, 14779.44it/s]\n"
     ]
    },
    {
     "name": "stdout",
     "output_type": "stream",
     "text": [
      "89\n",
      "1/1 [==============================] - 0s 47ms/step\n"
     ]
    },
    {
     "name": "stderr",
     "output_type": "stream",
     "text": [
      "100%|██████████| 3399/3399 [00:00<00:00, 12221.88it/s]\n"
     ]
    },
    {
     "name": "stdout",
     "output_type": "stream",
     "text": [
      "88\n",
      "1/1 [==============================] - 0s 50ms/step\n"
     ]
    },
    {
     "name": "stderr",
     "output_type": "stream",
     "text": [
      "100%|██████████| 3399/3399 [00:00<00:00, 13235.55it/s]\n"
     ]
    },
    {
     "name": "stdout",
     "output_type": "stream",
     "text": [
      "87\n",
      "1/1 [==============================] - 0s 47ms/step\n"
     ]
    },
    {
     "name": "stderr",
     "output_type": "stream",
     "text": [
      "100%|██████████| 3399/3399 [00:00<00:00, 14152.08it/s]\n"
     ]
    },
    {
     "name": "stdout",
     "output_type": "stream",
     "text": [
      "86\n",
      "1/1 [==============================] - 0s 22ms/step\n"
     ]
    },
    {
     "name": "stderr",
     "output_type": "stream",
     "text": [
      "100%|██████████| 3399/3399 [00:00<00:00, 8304.92it/s] \n"
     ]
    },
    {
     "name": "stdout",
     "output_type": "stream",
     "text": [
      "85\n",
      "1/1 [==============================] - 0s 46ms/step\n"
     ]
    },
    {
     "name": "stderr",
     "output_type": "stream",
     "text": [
      "100%|██████████| 3399/3399 [00:00<00:00, 14799.97it/s]\n"
     ]
    },
    {
     "name": "stdout",
     "output_type": "stream",
     "text": [
      "84\n",
      "1/1 [==============================] - 0s 47ms/step\n"
     ]
    },
    {
     "name": "stderr",
     "output_type": "stream",
     "text": [
      "100%|██████████| 3399/3399 [00:00<00:00, 14720.97it/s]\n"
     ]
    },
    {
     "name": "stdout",
     "output_type": "stream",
     "text": [
      "83\n",
      "1/1 [==============================] - 0s 45ms/step\n"
     ]
    },
    {
     "name": "stderr",
     "output_type": "stream",
     "text": [
      "100%|██████████| 3399/3399 [00:00<00:00, 13739.01it/s]\n"
     ]
    },
    {
     "name": "stdout",
     "output_type": "stream",
     "text": [
      "82\n",
      "1/1 [==============================] - 0s 34ms/step\n"
     ]
    },
    {
     "name": "stderr",
     "output_type": "stream",
     "text": [
      "100%|██████████| 3399/3399 [00:00<00:00, 14191.43it/s]\n"
     ]
    },
    {
     "name": "stdout",
     "output_type": "stream",
     "text": [
      "81\n",
      "1/1 [==============================] - 0s 87ms/step\n"
     ]
    },
    {
     "name": "stderr",
     "output_type": "stream",
     "text": [
      "100%|██████████| 3399/3399 [00:00<00:00, 10941.29it/s]\n"
     ]
    },
    {
     "name": "stdout",
     "output_type": "stream",
     "text": [
      "80\n",
      "1/1 [==============================] - 0s 51ms/step\n"
     ]
    },
    {
     "name": "stderr",
     "output_type": "stream",
     "text": [
      "100%|██████████| 3399/3399 [00:00<00:00, 15561.11it/s]\n"
     ]
    },
    {
     "name": "stdout",
     "output_type": "stream",
     "text": [
      "79\n",
      "1/1 [==============================] - 0s 63ms/step\n"
     ]
    },
    {
     "name": "stderr",
     "output_type": "stream",
     "text": [
      "100%|██████████| 3399/3399 [00:00<00:00, 11499.96it/s]\n"
     ]
    },
    {
     "name": "stdout",
     "output_type": "stream",
     "text": [
      "78\n",
      "1/1 [==============================] - 0s 31ms/step\n"
     ]
    },
    {
     "name": "stderr",
     "output_type": "stream",
     "text": [
      "100%|██████████| 3399/3399 [00:00<00:00, 14723.56it/s]\n"
     ]
    },
    {
     "name": "stdout",
     "output_type": "stream",
     "text": [
      "77\n",
      "1/1 [==============================] - 0s 34ms/step\n"
     ]
    },
    {
     "name": "stderr",
     "output_type": "stream",
     "text": [
      "100%|██████████| 3399/3399 [00:00<00:00, 10778.12it/s]\n"
     ]
    },
    {
     "name": "stdout",
     "output_type": "stream",
     "text": [
      "76\n",
      "1/1 [==============================] - 0s 47ms/step\n"
     ]
    },
    {
     "name": "stderr",
     "output_type": "stream",
     "text": [
      "100%|██████████| 3399/3399 [00:00<00:00, 13565.43it/s]\n"
     ]
    },
    {
     "name": "stdout",
     "output_type": "stream",
     "text": [
      "75\n",
      "1/1 [==============================] - 0s 109ms/step\n"
     ]
    },
    {
     "name": "stderr",
     "output_type": "stream",
     "text": [
      "100%|██████████| 3399/3399 [00:00<00:00, 9091.92it/s]\n"
     ]
    },
    {
     "name": "stdout",
     "output_type": "stream",
     "text": [
      "74\n",
      "1/1 [==============================] - 0s 47ms/step\n"
     ]
    },
    {
     "name": "stderr",
     "output_type": "stream",
     "text": [
      "100%|██████████| 3399/3399 [00:00<00:00, 6403.90it/s]\n"
     ]
    },
    {
     "name": "stdout",
     "output_type": "stream",
     "text": [
      "73\n",
      "1/1 [==============================] - 0s 47ms/step\n"
     ]
    },
    {
     "name": "stderr",
     "output_type": "stream",
     "text": [
      "100%|██████████| 3399/3399 [00:00<00:00, 8216.60it/s]\n"
     ]
    },
    {
     "name": "stdout",
     "output_type": "stream",
     "text": [
      "72\n",
      "1/1 [==============================] - 0s 47ms/step\n"
     ]
    },
    {
     "name": "stderr",
     "output_type": "stream",
     "text": [
      "100%|██████████| 3399/3399 [00:00<00:00, 8814.04it/s]\n"
     ]
    },
    {
     "name": "stdout",
     "output_type": "stream",
     "text": [
      "71\n",
      "1/1 [==============================] - 0s 47ms/step\n"
     ]
    },
    {
     "name": "stderr",
     "output_type": "stream",
     "text": [
      "100%|██████████| 3399/3399 [00:00<00:00, 9279.60it/s]\n"
     ]
    },
    {
     "name": "stdout",
     "output_type": "stream",
     "text": [
      "70\n",
      "1/1 [==============================] - 0s 62ms/step\n"
     ]
    },
    {
     "name": "stderr",
     "output_type": "stream",
     "text": [
      "100%|██████████| 3399/3399 [00:00<00:00, 8525.57it/s]\n"
     ]
    },
    {
     "name": "stdout",
     "output_type": "stream",
     "text": [
      "69\n",
      "1/1 [==============================] - 0s 32ms/step\n"
     ]
    },
    {
     "name": "stderr",
     "output_type": "stream",
     "text": [
      "100%|██████████| 3399/3399 [00:00<00:00, 10893.25it/s]\n"
     ]
    },
    {
     "name": "stdout",
     "output_type": "stream",
     "text": [
      "68\n",
      "1/1 [==============================] - 0s 106ms/step\n"
     ]
    },
    {
     "name": "stderr",
     "output_type": "stream",
     "text": [
      "100%|██████████| 3399/3399 [00:00<00:00, 13724.28it/s]\n"
     ]
    },
    {
     "name": "stdout",
     "output_type": "stream",
     "text": [
      "67\n",
      "1/1 [==============================] - 0s 63ms/step\n"
     ]
    },
    {
     "name": "stderr",
     "output_type": "stream",
     "text": [
      "100%|██████████| 3399/3399 [00:00<00:00, 11818.65it/s]\n"
     ]
    },
    {
     "name": "stdout",
     "output_type": "stream",
     "text": [
      "66\n",
      "1/1 [==============================] - 0s 56ms/step\n"
     ]
    },
    {
     "name": "stderr",
     "output_type": "stream",
     "text": [
      "100%|██████████| 3399/3399 [00:00<00:00, 13490.08it/s]\n"
     ]
    },
    {
     "name": "stdout",
     "output_type": "stream",
     "text": [
      "65\n",
      "1/1 [==============================] - 0s 53ms/step\n"
     ]
    },
    {
     "name": "stderr",
     "output_type": "stream",
     "text": [
      "100%|██████████| 3399/3399 [00:00<00:00, 12663.59it/s]\n"
     ]
    },
    {
     "name": "stdout",
     "output_type": "stream",
     "text": [
      "64\n",
      "1/1 [==============================] - 0s 50ms/step\n"
     ]
    },
    {
     "name": "stderr",
     "output_type": "stream",
     "text": [
      "100%|██████████| 3399/3399 [00:00<00:00, 12921.07it/s]\n"
     ]
    },
    {
     "name": "stdout",
     "output_type": "stream",
     "text": [
      "63\n",
      "1/1 [==============================] - 0s 34ms/step\n"
     ]
    },
    {
     "name": "stderr",
     "output_type": "stream",
     "text": [
      "100%|██████████| 3399/3399 [00:00<00:00, 12637.56it/s]\n"
     ]
    },
    {
     "name": "stdout",
     "output_type": "stream",
     "text": [
      "62\n",
      "1/1 [==============================] - 0s 58ms/step\n"
     ]
    },
    {
     "name": "stderr",
     "output_type": "stream",
     "text": [
      "100%|██████████| 3399/3399 [00:00<00:00, 12823.40it/s]\n"
     ]
    },
    {
     "name": "stdout",
     "output_type": "stream",
     "text": [
      "61\n",
      "1/1 [==============================] - 0s 42ms/step\n"
     ]
    },
    {
     "name": "stderr",
     "output_type": "stream",
     "text": [
      "100%|██████████| 3399/3399 [00:00<00:00, 14180.29it/s]\n"
     ]
    },
    {
     "name": "stdout",
     "output_type": "stream",
     "text": [
      "60\n",
      "1/1 [==============================] - 0s 44ms/step\n"
     ]
    },
    {
     "name": "stderr",
     "output_type": "stream",
     "text": [
      "100%|██████████| 3399/3399 [00:00<00:00, 11699.21it/s]\n"
     ]
    },
    {
     "name": "stdout",
     "output_type": "stream",
     "text": [
      "59\n",
      "1/1 [==============================] - 0s 25ms/step\n"
     ]
    },
    {
     "name": "stderr",
     "output_type": "stream",
     "text": [
      "100%|██████████| 3399/3399 [00:00<00:00, 15087.94it/s]\n"
     ]
    },
    {
     "name": "stdout",
     "output_type": "stream",
     "text": [
      "58\n",
      "1/1 [==============================] - 0s 105ms/step\n"
     ]
    },
    {
     "name": "stderr",
     "output_type": "stream",
     "text": [
      "100%|██████████| 3399/3399 [00:00<00:00, 9832.32it/s] \n"
     ]
    },
    {
     "name": "stdout",
     "output_type": "stream",
     "text": [
      "57\n",
      "1/1 [==============================] - 0s 38ms/step\n"
     ]
    },
    {
     "name": "stderr",
     "output_type": "stream",
     "text": [
      "100%|██████████| 3399/3399 [00:00<00:00, 13024.93it/s]\n"
     ]
    },
    {
     "name": "stdout",
     "output_type": "stream",
     "text": [
      "56\n",
      "1/1 [==============================] - 0s 47ms/step\n"
     ]
    },
    {
     "name": "stderr",
     "output_type": "stream",
     "text": [
      "100%|██████████| 3399/3399 [00:00<00:00, 13044.43it/s]\n"
     ]
    },
    {
     "name": "stdout",
     "output_type": "stream",
     "text": [
      "55\n",
      "1/1 [==============================] - 0s 50ms/step\n"
     ]
    },
    {
     "name": "stderr",
     "output_type": "stream",
     "text": [
      "100%|██████████| 3399/3399 [00:00<00:00, 14908.04it/s]\n"
     ]
    },
    {
     "name": "stdout",
     "output_type": "stream",
     "text": [
      "54\n",
      "1/1 [==============================] - 0s 42ms/step\n"
     ]
    },
    {
     "name": "stderr",
     "output_type": "stream",
     "text": [
      "100%|██████████| 3399/3399 [00:00<00:00, 12235.47it/s]\n"
     ]
    },
    {
     "name": "stdout",
     "output_type": "stream",
     "text": [
      "53\n",
      "1/1 [==============================] - 0s 39ms/step\n"
     ]
    },
    {
     "name": "stderr",
     "output_type": "stream",
     "text": [
      "100%|██████████| 3399/3399 [00:00<00:00, 14050.61it/s]\n"
     ]
    },
    {
     "name": "stdout",
     "output_type": "stream",
     "text": [
      "52\n",
      "1/1 [==============================] - 0s 31ms/step\n"
     ]
    },
    {
     "name": "stderr",
     "output_type": "stream",
     "text": [
      "100%|██████████| 3399/3399 [00:00<00:00, 14247.25it/s]\n"
     ]
    },
    {
     "name": "stdout",
     "output_type": "stream",
     "text": [
      "51\n",
      "1/1 [==============================] - 0s 31ms/step\n"
     ]
    },
    {
     "name": "stderr",
     "output_type": "stream",
     "text": [
      "100%|██████████| 3399/3399 [00:00<00:00, 12523.85it/s]\n"
     ]
    },
    {
     "name": "stdout",
     "output_type": "stream",
     "text": [
      "50\n",
      "1/1 [==============================] - 0s 47ms/step\n"
     ]
    },
    {
     "name": "stderr",
     "output_type": "stream",
     "text": [
      "100%|██████████| 3399/3399 [00:00<00:00, 8644.66it/s]\n"
     ]
    },
    {
     "name": "stdout",
     "output_type": "stream",
     "text": [
      "49\n",
      "1/1 [==============================] - 0s 62ms/step\n"
     ]
    },
    {
     "name": "stderr",
     "output_type": "stream",
     "text": [
      "100%|██████████| 3399/3399 [00:00<00:00, 9196.85it/s]\n"
     ]
    },
    {
     "name": "stdout",
     "output_type": "stream",
     "text": [
      "48\n",
      "1/1 [==============================] - 0s 52ms/step\n"
     ]
    },
    {
     "name": "stderr",
     "output_type": "stream",
     "text": [
      "100%|██████████| 3399/3399 [00:00<00:00, 7649.11it/s]\n"
     ]
    },
    {
     "name": "stdout",
     "output_type": "stream",
     "text": [
      "47\n",
      "1/1 [==============================] - 0s 47ms/step\n"
     ]
    },
    {
     "name": "stderr",
     "output_type": "stream",
     "text": [
      "100%|██████████| 3399/3399 [00:00<00:00, 7494.53it/s]\n"
     ]
    },
    {
     "name": "stdout",
     "output_type": "stream",
     "text": [
      "46\n",
      "1/1 [==============================] - 0s 62ms/step\n"
     ]
    },
    {
     "name": "stderr",
     "output_type": "stream",
     "text": [
      "100%|██████████| 3399/3399 [00:00<00:00, 9973.80it/s] \n"
     ]
    },
    {
     "name": "stdout",
     "output_type": "stream",
     "text": [
      "45\n",
      "1/1 [==============================] - 0s 47ms/step\n"
     ]
    },
    {
     "name": "stderr",
     "output_type": "stream",
     "text": [
      "100%|██████████| 3399/3399 [00:00<00:00, 8561.57it/s]\n"
     ]
    },
    {
     "name": "stdout",
     "output_type": "stream",
     "text": [
      "44\n",
      "1/1 [==============================] - 0s 33ms/step\n"
     ]
    },
    {
     "name": "stderr",
     "output_type": "stream",
     "text": [
      "100%|██████████| 3399/3399 [00:00<00:00, 11011.61it/s]\n"
     ]
    },
    {
     "name": "stdout",
     "output_type": "stream",
     "text": [
      "43\n",
      "1/1 [==============================] - 0s 40ms/step\n"
     ]
    },
    {
     "name": "stderr",
     "output_type": "stream",
     "text": [
      "100%|██████████| 3399/3399 [00:00<00:00, 13959.33it/s]\n"
     ]
    },
    {
     "name": "stdout",
     "output_type": "stream",
     "text": [
      "42\n",
      "1/1 [==============================] - 0s 62ms/step\n"
     ]
    },
    {
     "name": "stderr",
     "output_type": "stream",
     "text": [
      "100%|██████████| 3399/3399 [00:00<00:00, 13761.23it/s]\n"
     ]
    },
    {
     "name": "stdout",
     "output_type": "stream",
     "text": [
      "41\n",
      "1/1 [==============================] - 0s 45ms/step\n"
     ]
    },
    {
     "name": "stderr",
     "output_type": "stream",
     "text": [
      "100%|██████████| 3399/3399 [00:00<00:00, 13691.88it/s]\n"
     ]
    },
    {
     "name": "stdout",
     "output_type": "stream",
     "text": [
      "40\n",
      "1/1 [==============================] - 0s 33ms/step\n"
     ]
    },
    {
     "name": "stderr",
     "output_type": "stream",
     "text": [
      "100%|██████████| 3399/3399 [00:00<00:00, 11063.91it/s]\n"
     ]
    },
    {
     "name": "stdout",
     "output_type": "stream",
     "text": [
      "39\n",
      "1/1 [==============================] - 0s 70ms/step\n"
     ]
    },
    {
     "name": "stderr",
     "output_type": "stream",
     "text": [
      "100%|██████████| 3399/3399 [00:00<00:00, 12095.29it/s]\n"
     ]
    },
    {
     "name": "stdout",
     "output_type": "stream",
     "text": [
      "38\n",
      "1/1 [==============================] - 0s 31ms/step\n"
     ]
    },
    {
     "name": "stderr",
     "output_type": "stream",
     "text": [
      "100%|██████████| 3399/3399 [00:00<00:00, 9737.59it/s] \n"
     ]
    },
    {
     "name": "stdout",
     "output_type": "stream",
     "text": [
      "37\n",
      "1/1 [==============================] - 0s 47ms/step\n"
     ]
    },
    {
     "name": "stderr",
     "output_type": "stream",
     "text": [
      "100%|██████████| 3399/3399 [00:00<00:00, 10481.02it/s]\n"
     ]
    },
    {
     "name": "stdout",
     "output_type": "stream",
     "text": [
      "36\n",
      "1/1 [==============================] - 0s 57ms/step\n"
     ]
    },
    {
     "name": "stderr",
     "output_type": "stream",
     "text": [
      "100%|██████████| 3399/3399 [00:00<00:00, 10413.98it/s]\n"
     ]
    },
    {
     "name": "stdout",
     "output_type": "stream",
     "text": [
      "35\n",
      "1/1 [==============================] - 0s 50ms/step\n"
     ]
    },
    {
     "name": "stderr",
     "output_type": "stream",
     "text": [
      "100%|██████████| 3399/3399 [00:00<00:00, 11893.48it/s]\n"
     ]
    },
    {
     "name": "stdout",
     "output_type": "stream",
     "text": [
      "34\n",
      "1/1 [==============================] - 0s 43ms/step\n"
     ]
    },
    {
     "name": "stderr",
     "output_type": "stream",
     "text": [
      "100%|██████████| 3399/3399 [00:00<00:00, 12736.61it/s]\n"
     ]
    },
    {
     "name": "stdout",
     "output_type": "stream",
     "text": [
      "33\n",
      "1/1 [==============================] - 0s 44ms/step\n"
     ]
    },
    {
     "name": "stderr",
     "output_type": "stream",
     "text": [
      "100%|██████████| 3399/3399 [00:00<00:00, 15860.31it/s]\n"
     ]
    },
    {
     "name": "stdout",
     "output_type": "stream",
     "text": [
      "32\n",
      "1/1 [==============================] - 0s 79ms/step\n"
     ]
    },
    {
     "name": "stderr",
     "output_type": "stream",
     "text": [
      "100%|██████████| 3399/3399 [00:00<00:00, 13779.49it/s]\n"
     ]
    },
    {
     "name": "stdout",
     "output_type": "stream",
     "text": [
      "31\n",
      "1/1 [==============================] - 0s 130ms/step\n"
     ]
    },
    {
     "name": "stderr",
     "output_type": "stream",
     "text": [
      "100%|██████████| 3399/3399 [00:00<00:00, 8433.78it/s]\n"
     ]
    },
    {
     "name": "stdout",
     "output_type": "stream",
     "text": [
      "30\n",
      "1/1 [==============================] - 0s 70ms/step\n"
     ]
    },
    {
     "name": "stderr",
     "output_type": "stream",
     "text": [
      "100%|██████████| 3399/3399 [00:00<00:00, 6325.87it/s]\n"
     ]
    },
    {
     "name": "stdout",
     "output_type": "stream",
     "text": [
      "29\n",
      "1/1 [==============================] - 0s 49ms/step\n"
     ]
    },
    {
     "name": "stderr",
     "output_type": "stream",
     "text": [
      "100%|██████████| 3399/3399 [00:00<00:00, 6033.77it/s]\n"
     ]
    },
    {
     "name": "stdout",
     "output_type": "stream",
     "text": [
      "28\n",
      "1/1 [==============================] - 0s 74ms/step\n"
     ]
    },
    {
     "name": "stderr",
     "output_type": "stream",
     "text": [
      "100%|██████████| 3399/3399 [00:00<00:00, 5099.82it/s]\n"
     ]
    },
    {
     "name": "stdout",
     "output_type": "stream",
     "text": [
      "27\n",
      "1/1 [==============================] - 0s 98ms/step\n"
     ]
    },
    {
     "name": "stderr",
     "output_type": "stream",
     "text": [
      "100%|██████████| 3399/3399 [00:00<00:00, 6158.15it/s]\n"
     ]
    },
    {
     "name": "stdout",
     "output_type": "stream",
     "text": [
      "26\n",
      "1/1 [==============================] - 0s 62ms/step\n"
     ]
    },
    {
     "name": "stderr",
     "output_type": "stream",
     "text": [
      "100%|██████████| 3399/3399 [00:00<00:00, 5800.19it/s]\n"
     ]
    },
    {
     "name": "stdout",
     "output_type": "stream",
     "text": [
      "25\n",
      "1/1 [==============================] - 0s 47ms/step\n"
     ]
    },
    {
     "name": "stderr",
     "output_type": "stream",
     "text": [
      "100%|██████████| 3399/3399 [00:00<00:00, 5654.17it/s]\n"
     ]
    },
    {
     "name": "stdout",
     "output_type": "stream",
     "text": [
      "24\n",
      "1/1 [==============================] - 0s 62ms/step\n"
     ]
    },
    {
     "name": "stderr",
     "output_type": "stream",
     "text": [
      "100%|██████████| 3399/3399 [00:00<00:00, 7355.11it/s]\n"
     ]
    },
    {
     "name": "stdout",
     "output_type": "stream",
     "text": [
      "23\n",
      "1/1 [==============================] - 0s 47ms/step\n"
     ]
    },
    {
     "name": "stderr",
     "output_type": "stream",
     "text": [
      "100%|██████████| 3399/3399 [00:00<00:00, 9994.36it/s] \n"
     ]
    },
    {
     "name": "stdout",
     "output_type": "stream",
     "text": [
      "22\n",
      "1/1 [==============================] - 0s 62ms/step\n"
     ]
    },
    {
     "name": "stderr",
     "output_type": "stream",
     "text": [
      "100%|██████████| 3399/3399 [00:00<00:00, 7627.85it/s]\n"
     ]
    },
    {
     "name": "stdout",
     "output_type": "stream",
     "text": [
      "21\n",
      "1/1 [==============================] - 0s 37ms/step\n"
     ]
    },
    {
     "name": "stderr",
     "output_type": "stream",
     "text": [
      "100%|██████████| 3399/3399 [00:00<00:00, 11209.09it/s]\n"
     ]
    },
    {
     "name": "stdout",
     "output_type": "stream",
     "text": [
      "20\n",
      "1/1 [==============================] - 0s 62ms/step\n"
     ]
    },
    {
     "name": "stderr",
     "output_type": "stream",
     "text": [
      "100%|██████████| 3399/3399 [00:00<00:00, 8930.07it/s]\n"
     ]
    },
    {
     "name": "stdout",
     "output_type": "stream",
     "text": [
      "19\n",
      "1/1 [==============================] - 0s 68ms/step\n"
     ]
    },
    {
     "name": "stderr",
     "output_type": "stream",
     "text": [
      "100%|██████████| 3399/3399 [00:00<00:00, 10424.40it/s]\n"
     ]
    },
    {
     "name": "stdout",
     "output_type": "stream",
     "text": [
      "18\n",
      "1/1 [==============================] - 0s 31ms/step\n"
     ]
    },
    {
     "name": "stderr",
     "output_type": "stream",
     "text": [
      "100%|██████████| 3399/3399 [00:00<00:00, 11993.30it/s]\n"
     ]
    },
    {
     "name": "stdout",
     "output_type": "stream",
     "text": [
      "17\n",
      "1/1 [==============================] - 0s 35ms/step\n"
     ]
    },
    {
     "name": "stderr",
     "output_type": "stream",
     "text": [
      "100%|██████████| 3399/3399 [00:00<00:00, 10467.57it/s]\n"
     ]
    },
    {
     "name": "stdout",
     "output_type": "stream",
     "text": [
      "16\n",
      "1/1 [==============================] - 0s 33ms/step\n"
     ]
    },
    {
     "name": "stderr",
     "output_type": "stream",
     "text": [
      "100%|██████████| 3399/3399 [00:00<00:00, 11368.62it/s]\n"
     ]
    },
    {
     "name": "stdout",
     "output_type": "stream",
     "text": [
      "15\n",
      "1/1 [==============================] - 0s 62ms/step\n"
     ]
    },
    {
     "name": "stderr",
     "output_type": "stream",
     "text": [
      "100%|██████████| 3399/3399 [00:00<00:00, 8871.84it/s]\n"
     ]
    },
    {
     "name": "stdout",
     "output_type": "stream",
     "text": [
      "14\n",
      "1/1 [==============================] - 0s 92ms/step\n"
     ]
    },
    {
     "name": "stderr",
     "output_type": "stream",
     "text": [
      "100%|██████████| 3399/3399 [00:00<00:00, 10297.46it/s]\n"
     ]
    },
    {
     "name": "stdout",
     "output_type": "stream",
     "text": [
      "13\n",
      "1/1 [==============================] - 0s 66ms/step\n"
     ]
    },
    {
     "name": "stderr",
     "output_type": "stream",
     "text": [
      "100%|██████████| 3399/3399 [00:00<00:00, 8529.36it/s] \n"
     ]
    },
    {
     "name": "stdout",
     "output_type": "stream",
     "text": [
      "12\n",
      "1/1 [==============================] - 0s 41ms/step\n"
     ]
    },
    {
     "name": "stderr",
     "output_type": "stream",
     "text": [
      "100%|██████████| 3399/3399 [00:00<00:00, 13081.71it/s]\n"
     ]
    },
    {
     "name": "stdout",
     "output_type": "stream",
     "text": [
      "11\n",
      "1/1 [==============================] - 0s 43ms/step\n"
     ]
    },
    {
     "name": "stderr",
     "output_type": "stream",
     "text": [
      "100%|██████████| 3399/3399 [00:00<00:00, 10411.26it/s]\n"
     ]
    },
    {
     "name": "stdout",
     "output_type": "stream",
     "text": [
      "10\n",
      "1/1 [==============================] - 0s 46ms/step\n"
     ]
    },
    {
     "name": "stderr",
     "output_type": "stream",
     "text": [
      "100%|██████████| 3399/3399 [00:00<00:00, 12386.97it/s]\n"
     ]
    },
    {
     "name": "stdout",
     "output_type": "stream",
     "text": [
      "9\n",
      "1/1 [==============================] - 0s 35ms/step\n"
     ]
    },
    {
     "name": "stderr",
     "output_type": "stream",
     "text": [
      "100%|██████████| 3399/3399 [00:00<00:00, 13771.66it/s]\n"
     ]
    },
    {
     "name": "stdout",
     "output_type": "stream",
     "text": [
      "8\n",
      "1/1 [==============================] - 0s 126ms/step\n"
     ]
    },
    {
     "name": "stderr",
     "output_type": "stream",
     "text": [
      "100%|██████████| 3399/3399 [00:00<00:00, 7286.96it/s]\n"
     ]
    },
    {
     "name": "stdout",
     "output_type": "stream",
     "text": [
      "7\n",
      "1/1 [==============================] - 0s 53ms/step\n"
     ]
    },
    {
     "name": "stderr",
     "output_type": "stream",
     "text": [
      "100%|██████████| 3399/3399 [00:00<00:00, 6600.50it/s]\n"
     ]
    },
    {
     "name": "stdout",
     "output_type": "stream",
     "text": [
      "6\n",
      "1/1 [==============================] - 0s 62ms/step\n"
     ]
    },
    {
     "name": "stderr",
     "output_type": "stream",
     "text": [
      "100%|██████████| 3399/3399 [00:00<00:00, 7263.28it/s]\n"
     ]
    },
    {
     "name": "stdout",
     "output_type": "stream",
     "text": [
      "5\n",
      "1/1 [==============================] - 0s 47ms/step\n"
     ]
    },
    {
     "name": "stderr",
     "output_type": "stream",
     "text": [
      "100%|██████████| 3399/3399 [00:00<00:00, 8600.99it/s]\n"
     ]
    },
    {
     "name": "stdout",
     "output_type": "stream",
     "text": [
      "4\n",
      "1/1 [==============================] - 0s 62ms/step\n"
     ]
    },
    {
     "name": "stderr",
     "output_type": "stream",
     "text": [
      "100%|██████████| 3399/3399 [00:00<00:00, 7666.55it/s]\n"
     ]
    },
    {
     "name": "stdout",
     "output_type": "stream",
     "text": [
      "3\n",
      "1/1 [==============================] - 0s 87ms/step\n"
     ]
    },
    {
     "name": "stderr",
     "output_type": "stream",
     "text": [
      "100%|██████████| 3399/3399 [00:00<00:00, 7966.29it/s] \n"
     ]
    },
    {
     "name": "stdout",
     "output_type": "stream",
     "text": [
      "2\n",
      "1/1 [==============================] - 0s 151ms/step\n"
     ]
    },
    {
     "name": "stderr",
     "output_type": "stream",
     "text": [
      "100%|██████████| 3399/3399 [00:00<00:00, 6969.08it/s]\n"
     ]
    },
    {
     "name": "stdout",
     "output_type": "stream",
     "text": [
      "1\n",
      "1/1 [==============================] - 0s 59ms/step\n"
     ]
    },
    {
     "name": "stderr",
     "output_type": "stream",
     "text": [
      "100%|██████████| 3399/3399 [00:00<00:00, 14626.98it/s]\n"
     ]
    },
    {
     "name": "stdout",
     "output_type": "stream",
     "text": [
      "90\n",
      "1/1 [==============================] - 0s 54ms/step\n"
     ]
    },
    {
     "name": "stderr",
     "output_type": "stream",
     "text": [
      "100%|██████████| 3399/3399 [00:00<00:00, 7906.80it/s] \n"
     ]
    },
    {
     "name": "stdout",
     "output_type": "stream",
     "text": [
      "89\n",
      "1/1 [==============================] - 0s 52ms/step\n"
     ]
    },
    {
     "name": "stderr",
     "output_type": "stream",
     "text": [
      "100%|██████████| 3399/3399 [00:00<00:00, 11374.71it/s]\n"
     ]
    },
    {
     "name": "stdout",
     "output_type": "stream",
     "text": [
      "88\n",
      "1/1 [==============================] - 0s 61ms/step\n"
     ]
    },
    {
     "name": "stderr",
     "output_type": "stream",
     "text": [
      "100%|██████████| 3399/3399 [00:00<00:00, 8571.61it/s]\n"
     ]
    },
    {
     "name": "stdout",
     "output_type": "stream",
     "text": [
      "87\n",
      "1/1 [==============================] - 0s 114ms/step\n"
     ]
    },
    {
     "name": "stderr",
     "output_type": "stream",
     "text": [
      "100%|██████████| 3399/3399 [00:00<00:00, 7444.79it/s]\n"
     ]
    },
    {
     "name": "stdout",
     "output_type": "stream",
     "text": [
      "86\n",
      "1/1 [==============================] - 0s 105ms/step\n"
     ]
    },
    {
     "name": "stderr",
     "output_type": "stream",
     "text": [
      "100%|██████████| 3399/3399 [00:00<00:00, 9531.13it/s]\n"
     ]
    },
    {
     "name": "stdout",
     "output_type": "stream",
     "text": [
      "85\n",
      "1/1 [==============================] - 0s 40ms/step\n"
     ]
    },
    {
     "name": "stderr",
     "output_type": "stream",
     "text": [
      "100%|██████████| 3399/3399 [00:00<00:00, 8757.01it/s]\n"
     ]
    },
    {
     "name": "stdout",
     "output_type": "stream",
     "text": [
      "84\n",
      "1/1 [==============================] - 0s 73ms/step\n"
     ]
    },
    {
     "name": "stderr",
     "output_type": "stream",
     "text": [
      "100%|██████████| 3399/3399 [00:00<00:00, 9038.71it/s]\n"
     ]
    },
    {
     "name": "stdout",
     "output_type": "stream",
     "text": [
      "83\n",
      "1/1 [==============================] - 0s 69ms/step\n"
     ]
    },
    {
     "name": "stderr",
     "output_type": "stream",
     "text": [
      "100%|██████████| 3399/3399 [00:00<00:00, 15372.02it/s]\n"
     ]
    },
    {
     "name": "stdout",
     "output_type": "stream",
     "text": [
      "82\n",
      "1/1 [==============================] - 0s 61ms/step\n"
     ]
    },
    {
     "name": "stderr",
     "output_type": "stream",
     "text": [
      "100%|██████████| 3399/3399 [00:00<00:00, 14372.92it/s]\n"
     ]
    },
    {
     "name": "stdout",
     "output_type": "stream",
     "text": [
      "81\n",
      "1/1 [==============================] - 0s 64ms/step\n"
     ]
    },
    {
     "name": "stderr",
     "output_type": "stream",
     "text": [
      "100%|██████████| 3399/3399 [00:00<00:00, 15068.97it/s]\n"
     ]
    },
    {
     "name": "stdout",
     "output_type": "stream",
     "text": [
      "80\n",
      "1/1 [==============================] - 0s 66ms/step\n"
     ]
    },
    {
     "name": "stderr",
     "output_type": "stream",
     "text": [
      "100%|██████████| 3399/3399 [00:00<00:00, 13277.45it/s]\n"
     ]
    },
    {
     "name": "stdout",
     "output_type": "stream",
     "text": [
      "79\n",
      "1/1 [==============================] - 0s 51ms/step\n"
     ]
    },
    {
     "name": "stderr",
     "output_type": "stream",
     "text": [
      "100%|██████████| 3399/3399 [00:00<00:00, 13825.74it/s]\n"
     ]
    },
    {
     "name": "stdout",
     "output_type": "stream",
     "text": [
      "78\n",
      "1/1 [==============================] - 0s 40ms/step\n"
     ]
    },
    {
     "name": "stderr",
     "output_type": "stream",
     "text": [
      "100%|██████████| 3399/3399 [00:00<00:00, 13777.76it/s]\n"
     ]
    },
    {
     "name": "stdout",
     "output_type": "stream",
     "text": [
      "77\n",
      "1/1 [==============================] - 0s 60ms/step\n"
     ]
    },
    {
     "name": "stderr",
     "output_type": "stream",
     "text": [
      "100%|██████████| 3399/3399 [00:00<00:00, 12180.99it/s]\n"
     ]
    },
    {
     "name": "stdout",
     "output_type": "stream",
     "text": [
      "76\n",
      "1/1 [==============================] - 0s 62ms/step\n"
     ]
    },
    {
     "name": "stderr",
     "output_type": "stream",
     "text": [
      "100%|██████████| 3399/3399 [00:00<00:00, 7671.29it/s]\n"
     ]
    },
    {
     "name": "stdout",
     "output_type": "stream",
     "text": [
      "75\n",
      "1/1 [==============================] - 0s 78ms/step\n"
     ]
    },
    {
     "name": "stderr",
     "output_type": "stream",
     "text": [
      "100%|██████████| 3399/3399 [00:00<00:00, 9160.51it/s]\n"
     ]
    },
    {
     "name": "stdout",
     "output_type": "stream",
     "text": [
      "74\n",
      "1/1 [==============================] - 0s 53ms/step\n"
     ]
    },
    {
     "name": "stderr",
     "output_type": "stream",
     "text": [
      "100%|██████████| 3399/3399 [00:00<00:00, 8086.00it/s]\n"
     ]
    },
    {
     "name": "stdout",
     "output_type": "stream",
     "text": [
      "73\n",
      "1/1 [==============================] - 0s 60ms/step\n"
     ]
    },
    {
     "name": "stderr",
     "output_type": "stream",
     "text": [
      "100%|██████████| 3399/3399 [00:00<00:00, 8289.58it/s]\n"
     ]
    },
    {
     "name": "stdout",
     "output_type": "stream",
     "text": [
      "72\n",
      "1/1 [==============================] - 0s 109ms/step\n"
     ]
    },
    {
     "name": "stderr",
     "output_type": "stream",
     "text": [
      "100%|██████████| 3399/3399 [00:00<00:00, 10102.70it/s]\n"
     ]
    },
    {
     "name": "stdout",
     "output_type": "stream",
     "text": [
      "71\n",
      "1/1 [==============================] - 0s 73ms/step\n"
     ]
    },
    {
     "name": "stderr",
     "output_type": "stream",
     "text": [
      "100%|██████████| 3399/3399 [00:00<00:00, 9953.22it/s] \n"
     ]
    },
    {
     "name": "stdout",
     "output_type": "stream",
     "text": [
      "70\n",
      "1/1 [==============================] - 0s 39ms/step\n"
     ]
    },
    {
     "name": "stderr",
     "output_type": "stream",
     "text": [
      "100%|██████████| 3399/3399 [00:00<00:00, 10873.17it/s]\n"
     ]
    },
    {
     "name": "stdout",
     "output_type": "stream",
     "text": [
      "69\n",
      "1/1 [==============================] - 0s 55ms/step\n"
     ]
    },
    {
     "name": "stderr",
     "output_type": "stream",
     "text": [
      "100%|██████████| 3399/3399 [00:00<00:00, 13255.44it/s]\n"
     ]
    },
    {
     "name": "stdout",
     "output_type": "stream",
     "text": [
      "68\n",
      "1/1 [==============================] - 0s 61ms/step\n"
     ]
    },
    {
     "name": "stderr",
     "output_type": "stream",
     "text": [
      "100%|██████████| 3399/3399 [00:00<00:00, 11815.48it/s]\n"
     ]
    },
    {
     "name": "stdout",
     "output_type": "stream",
     "text": [
      "67\n",
      "1/1 [==============================] - 0s 50ms/step\n"
     ]
    },
    {
     "name": "stderr",
     "output_type": "stream",
     "text": [
      "100%|██████████| 3399/3399 [00:00<00:00, 13332.42it/s]\n"
     ]
    },
    {
     "name": "stdout",
     "output_type": "stream",
     "text": [
      "66\n",
      "1/1 [==============================] - 0s 59ms/step\n"
     ]
    },
    {
     "name": "stderr",
     "output_type": "stream",
     "text": [
      "100%|██████████| 3399/3399 [00:00<00:00, 13391.23it/s]\n"
     ]
    },
    {
     "name": "stdout",
     "output_type": "stream",
     "text": [
      "65\n",
      "1/1 [==============================] - 0s 56ms/step\n"
     ]
    },
    {
     "name": "stderr",
     "output_type": "stream",
     "text": [
      "100%|██████████| 3399/3399 [00:00<00:00, 13384.13it/s]\n"
     ]
    },
    {
     "name": "stdout",
     "output_type": "stream",
     "text": [
      "64\n",
      "1/1 [==============================] - 0s 59ms/step\n"
     ]
    },
    {
     "name": "stderr",
     "output_type": "stream",
     "text": [
      "100%|██████████| 3399/3399 [00:00<00:00, 14435.66it/s]\n"
     ]
    },
    {
     "name": "stdout",
     "output_type": "stream",
     "text": [
      "63\n",
      "1/1 [==============================] - 0s 63ms/step\n"
     ]
    },
    {
     "name": "stderr",
     "output_type": "stream",
     "text": [
      "100%|██████████| 3399/3399 [00:00<00:00, 12942.61it/s]\n"
     ]
    },
    {
     "name": "stdout",
     "output_type": "stream",
     "text": [
      "62\n",
      "1/1 [==============================] - 0s 46ms/step\n"
     ]
    },
    {
     "name": "stderr",
     "output_type": "stream",
     "text": [
      "100%|██████████| 3399/3399 [00:00<00:00, 14870.32it/s]\n"
     ]
    },
    {
     "name": "stdout",
     "output_type": "stream",
     "text": [
      "61\n",
      "1/1 [==============================] - 0s 31ms/step\n"
     ]
    },
    {
     "name": "stderr",
     "output_type": "stream",
     "text": [
      "100%|██████████| 3399/3399 [00:00<00:00, 13751.54it/s]\n"
     ]
    },
    {
     "name": "stdout",
     "output_type": "stream",
     "text": [
      "60\n",
      "1/1 [==============================] - 0s 33ms/step\n"
     ]
    },
    {
     "name": "stderr",
     "output_type": "stream",
     "text": [
      "100%|██████████| 3399/3399 [00:00<00:00, 12500.65it/s]\n"
     ]
    },
    {
     "name": "stdout",
     "output_type": "stream",
     "text": [
      "59\n",
      "1/1 [==============================] - 0s 62ms/step\n"
     ]
    },
    {
     "name": "stderr",
     "output_type": "stream",
     "text": [
      "100%|██████████| 3399/3399 [00:00<00:00, 7966.94it/s]\n"
     ]
    },
    {
     "name": "stdout",
     "output_type": "stream",
     "text": [
      "58\n",
      "1/1 [==============================] - 0s 83ms/step\n"
     ]
    },
    {
     "name": "stderr",
     "output_type": "stream",
     "text": [
      "100%|██████████| 3399/3399 [00:00<00:00, 13175.90it/s]\n"
     ]
    },
    {
     "name": "stdout",
     "output_type": "stream",
     "text": [
      "57\n",
      "1/1 [==============================] - 0s 75ms/step\n"
     ]
    },
    {
     "name": "stderr",
     "output_type": "stream",
     "text": [
      "100%|██████████| 3399/3399 [00:00<00:00, 10798.98it/s]\n"
     ]
    },
    {
     "name": "stdout",
     "output_type": "stream",
     "text": [
      "56\n",
      "1/1 [==============================] - 0s 61ms/step\n"
     ]
    },
    {
     "name": "stderr",
     "output_type": "stream",
     "text": [
      "100%|██████████| 3399/3399 [00:00<00:00, 12958.46it/s]\n"
     ]
    },
    {
     "name": "stdout",
     "output_type": "stream",
     "text": [
      "55\n",
      "1/1 [==============================] - 0s 54ms/step\n"
     ]
    },
    {
     "name": "stderr",
     "output_type": "stream",
     "text": [
      "100%|██████████| 3399/3399 [00:00<00:00, 12782.30it/s]\n"
     ]
    },
    {
     "name": "stdout",
     "output_type": "stream",
     "text": [
      "54\n",
      "1/1 [==============================] - 0s 45ms/step\n"
     ]
    },
    {
     "name": "stderr",
     "output_type": "stream",
     "text": [
      "100%|██████████| 3399/3399 [00:00<00:00, 12987.06it/s]\n"
     ]
    },
    {
     "name": "stdout",
     "output_type": "stream",
     "text": [
      "53\n",
      "1/1 [==============================] - 0s 39ms/step\n"
     ]
    },
    {
     "name": "stderr",
     "output_type": "stream",
     "text": [
      "100%|██████████| 3399/3399 [00:00<00:00, 13074.43it/s]\n"
     ]
    },
    {
     "name": "stdout",
     "output_type": "stream",
     "text": [
      "52\n",
      "1/1 [==============================] - 0s 47ms/step\n"
     ]
    },
    {
     "name": "stderr",
     "output_type": "stream",
     "text": [
      "100%|██████████| 3399/3399 [00:00<00:00, 11732.85it/s]\n"
     ]
    },
    {
     "name": "stdout",
     "output_type": "stream",
     "text": [
      "51\n",
      "1/1 [==============================] - 0s 62ms/step\n"
     ]
    },
    {
     "name": "stderr",
     "output_type": "stream",
     "text": [
      "100%|██████████| 3399/3399 [00:00<00:00, 9086.04it/s]\n"
     ]
    },
    {
     "name": "stdout",
     "output_type": "stream",
     "text": [
      "50\n",
      "1/1 [==============================] - 0s 62ms/step\n"
     ]
    },
    {
     "name": "stderr",
     "output_type": "stream",
     "text": [
      "100%|██████████| 3399/3399 [00:00<00:00, 8720.38it/s]\n"
     ]
    },
    {
     "name": "stdout",
     "output_type": "stream",
     "text": [
      "49\n",
      "1/1 [==============================] - 0s 51ms/step\n"
     ]
    },
    {
     "name": "stderr",
     "output_type": "stream",
     "text": [
      "100%|██████████| 3399/3399 [00:00<00:00, 7131.74it/s]\n"
     ]
    },
    {
     "name": "stdout",
     "output_type": "stream",
     "text": [
      "48\n",
      "1/1 [==============================] - 0s 57ms/step\n"
     ]
    },
    {
     "name": "stderr",
     "output_type": "stream",
     "text": [
      "100%|██████████| 3399/3399 [00:00<00:00, 7356.80it/s]\n"
     ]
    },
    {
     "name": "stdout",
     "output_type": "stream",
     "text": [
      "47\n",
      "1/1 [==============================] - 0s 78ms/step\n"
     ]
    },
    {
     "name": "stderr",
     "output_type": "stream",
     "text": [
      "100%|██████████| 3399/3399 [00:00<00:00, 6806.94it/s]\n"
     ]
    },
    {
     "name": "stdout",
     "output_type": "stream",
     "text": [
      "46\n",
      "1/1 [==============================] - 0s 94ms/step\n"
     ]
    },
    {
     "name": "stderr",
     "output_type": "stream",
     "text": [
      "100%|██████████| 3399/3399 [00:00<00:00, 8334.32it/s]\n"
     ]
    },
    {
     "name": "stdout",
     "output_type": "stream",
     "text": [
      "45\n",
      "1/1 [==============================] - 0s 62ms/step\n"
     ]
    },
    {
     "name": "stderr",
     "output_type": "stream",
     "text": [
      "100%|██████████| 3399/3399 [00:00<00:00, 10409.43it/s]\n"
     ]
    },
    {
     "name": "stdout",
     "output_type": "stream",
     "text": [
      "44\n",
      "1/1 [==============================] - 0s 70ms/step\n"
     ]
    },
    {
     "name": "stderr",
     "output_type": "stream",
     "text": [
      "100%|██████████| 3399/3399 [00:00<00:00, 10256.69it/s]\n"
     ]
    },
    {
     "name": "stdout",
     "output_type": "stream",
     "text": [
      "43\n",
      "1/1 [==============================] - 0s 53ms/step\n"
     ]
    },
    {
     "name": "stderr",
     "output_type": "stream",
     "text": [
      "100%|██████████| 3399/3399 [00:00<00:00, 13566.57it/s]\n"
     ]
    },
    {
     "name": "stdout",
     "output_type": "stream",
     "text": [
      "42\n",
      "1/1 [==============================] - 0s 64ms/step\n"
     ]
    },
    {
     "name": "stderr",
     "output_type": "stream",
     "text": [
      "100%|██████████| 3399/3399 [00:00<00:00, 14095.12it/s]\n"
     ]
    },
    {
     "name": "stdout",
     "output_type": "stream",
     "text": [
      "41\n",
      "1/1 [==============================] - 0s 41ms/step\n"
     ]
    },
    {
     "name": "stderr",
     "output_type": "stream",
     "text": [
      "100%|██████████| 3399/3399 [00:00<00:00, 11032.19it/s]\n"
     ]
    },
    {
     "name": "stdout",
     "output_type": "stream",
     "text": [
      "40\n",
      "1/1 [==============================] - 0s 64ms/step\n"
     ]
    },
    {
     "name": "stderr",
     "output_type": "stream",
     "text": [
      "100%|██████████| 3399/3399 [00:00<00:00, 14825.27it/s]\n"
     ]
    },
    {
     "name": "stdout",
     "output_type": "stream",
     "text": [
      "39\n",
      "1/1 [==============================] - 0s 31ms/step\n"
     ]
    },
    {
     "name": "stderr",
     "output_type": "stream",
     "text": [
      "100%|██████████| 3399/3399 [00:00<00:00, 10326.23it/s]\n"
     ]
    },
    {
     "name": "stdout",
     "output_type": "stream",
     "text": [
      "38\n",
      "1/1 [==============================] - 0s 61ms/step\n"
     ]
    },
    {
     "name": "stderr",
     "output_type": "stream",
     "text": [
      "100%|██████████| 3399/3399 [00:00<00:00, 10649.78it/s]\n"
     ]
    },
    {
     "name": "stdout",
     "output_type": "stream",
     "text": [
      "37\n",
      "1/1 [==============================] - 0s 47ms/step\n"
     ]
    },
    {
     "name": "stderr",
     "output_type": "stream",
     "text": [
      "100%|██████████| 3399/3399 [00:00<00:00, 9905.55it/s] \n"
     ]
    },
    {
     "name": "stdout",
     "output_type": "stream",
     "text": [
      "36\n",
      "1/1 [==============================] - 0s 53ms/step\n"
     ]
    },
    {
     "name": "stderr",
     "output_type": "stream",
     "text": [
      "100%|██████████| 3399/3399 [00:00<00:00, 14391.45it/s]\n"
     ]
    },
    {
     "name": "stdout",
     "output_type": "stream",
     "text": [
      "35\n",
      "1/1 [==============================] - 0s 77ms/step\n"
     ]
    },
    {
     "name": "stderr",
     "output_type": "stream",
     "text": [
      "100%|██████████| 3399/3399 [00:00<00:00, 12000.34it/s]\n"
     ]
    },
    {
     "name": "stdout",
     "output_type": "stream",
     "text": [
      "34\n",
      "1/1 [==============================] - 0s 39ms/step\n"
     ]
    },
    {
     "name": "stderr",
     "output_type": "stream",
     "text": [
      "100%|██████████| 3399/3399 [00:00<00:00, 12287.77it/s]\n"
     ]
    },
    {
     "name": "stdout",
     "output_type": "stream",
     "text": [
      "33\n",
      "1/1 [==============================] - 0s 50ms/step\n"
     ]
    },
    {
     "name": "stderr",
     "output_type": "stream",
     "text": [
      "100%|██████████| 3399/3399 [00:00<00:00, 13114.95it/s]\n"
     ]
    },
    {
     "name": "stdout",
     "output_type": "stream",
     "text": [
      "32\n",
      "1/1 [==============================] - 0s 82ms/step\n"
     ]
    },
    {
     "name": "stderr",
     "output_type": "stream",
     "text": [
      "100%|██████████| 3399/3399 [00:00<00:00, 12146.29it/s]\n"
     ]
    },
    {
     "name": "stdout",
     "output_type": "stream",
     "text": [
      "31\n",
      "1/1 [==============================] - 0s 43ms/step\n"
     ]
    },
    {
     "name": "stderr",
     "output_type": "stream",
     "text": [
      "100%|██████████| 3399/3399 [00:00<00:00, 19888.62it/s]\n"
     ]
    },
    {
     "name": "stdout",
     "output_type": "stream",
     "text": [
      "30\n",
      "1/1 [==============================] - 0s 81ms/step\n"
     ]
    },
    {
     "name": "stderr",
     "output_type": "stream",
     "text": [
      "100%|██████████| 3399/3399 [00:01<00:00, 3337.54it/s]\n"
     ]
    },
    {
     "name": "stdout",
     "output_type": "stream",
     "text": [
      "29\n",
      "1/1 [==============================] - 0s 64ms/step\n"
     ]
    },
    {
     "name": "stderr",
     "output_type": "stream",
     "text": [
      "100%|██████████| 3399/3399 [00:00<00:00, 6603.78it/s]\n"
     ]
    },
    {
     "name": "stdout",
     "output_type": "stream",
     "text": [
      "28\n",
      "1/1 [==============================] - 0s 67ms/step\n"
     ]
    },
    {
     "name": "stderr",
     "output_type": "stream",
     "text": [
      "100%|██████████| 3399/3399 [00:00<00:00, 7997.71it/s]\n"
     ]
    },
    {
     "name": "stdout",
     "output_type": "stream",
     "text": [
      "27\n",
      "1/1 [==============================] - 0s 53ms/step\n"
     ]
    },
    {
     "name": "stderr",
     "output_type": "stream",
     "text": [
      "100%|██████████| 3399/3399 [00:00<00:00, 9241.83it/s] \n"
     ]
    },
    {
     "name": "stdout",
     "output_type": "stream",
     "text": [
      "26\n",
      "1/1 [==============================] - 0s 47ms/step\n"
     ]
    },
    {
     "name": "stderr",
     "output_type": "stream",
     "text": [
      "100%|██████████| 3399/3399 [00:00<00:00, 9879.17it/s]\n"
     ]
    },
    {
     "name": "stdout",
     "output_type": "stream",
     "text": [
      "25\n",
      "1/1 [==============================] - 0s 57ms/step\n"
     ]
    },
    {
     "name": "stderr",
     "output_type": "stream",
     "text": [
      "100%|██████████| 3399/3399 [00:00<00:00, 7457.95it/s]\n"
     ]
    },
    {
     "name": "stdout",
     "output_type": "stream",
     "text": [
      "24\n",
      "1/1 [==============================] - 0s 71ms/step\n"
     ]
    },
    {
     "name": "stderr",
     "output_type": "stream",
     "text": [
      "100%|██████████| 3399/3399 [00:00<00:00, 7794.98it/s]\n"
     ]
    },
    {
     "name": "stdout",
     "output_type": "stream",
     "text": [
      "23\n",
      "1/1 [==============================] - 0s 67ms/step\n"
     ]
    },
    {
     "name": "stderr",
     "output_type": "stream",
     "text": [
      "100%|██████████| 3399/3399 [00:00<00:00, 8973.49it/s]\n"
     ]
    },
    {
     "name": "stdout",
     "output_type": "stream",
     "text": [
      "22\n",
      "1/1 [==============================] - 0s 51ms/step\n"
     ]
    },
    {
     "name": "stderr",
     "output_type": "stream",
     "text": [
      "100%|██████████| 3399/3399 [00:00<00:00, 9886.55it/s] \n"
     ]
    },
    {
     "name": "stdout",
     "output_type": "stream",
     "text": [
      "21\n",
      "1/1 [==============================] - 0s 57ms/step\n"
     ]
    },
    {
     "name": "stderr",
     "output_type": "stream",
     "text": [
      "100%|██████████| 3399/3399 [00:00<00:00, 8116.86it/s]\n"
     ]
    },
    {
     "name": "stdout",
     "output_type": "stream",
     "text": [
      "20\n",
      "1/1 [==============================] - 0s 98ms/step\n"
     ]
    },
    {
     "name": "stderr",
     "output_type": "stream",
     "text": [
      "100%|██████████| 3399/3399 [00:00<00:00, 8096.40it/s]\n"
     ]
    },
    {
     "name": "stdout",
     "output_type": "stream",
     "text": [
      "19\n",
      "1/1 [==============================] - 0s 101ms/step\n"
     ]
    },
    {
     "name": "stderr",
     "output_type": "stream",
     "text": [
      "100%|██████████| 3399/3399 [00:00<00:00, 11561.23it/s]\n"
     ]
    },
    {
     "name": "stdout",
     "output_type": "stream",
     "text": [
      "18\n",
      "1/1 [==============================] - 0s 55ms/step\n"
     ]
    },
    {
     "name": "stderr",
     "output_type": "stream",
     "text": [
      "100%|██████████| 3399/3399 [00:00<00:00, 12736.79it/s]\n"
     ]
    },
    {
     "name": "stdout",
     "output_type": "stream",
     "text": [
      "17\n",
      "1/1 [==============================] - 0s 70ms/step\n"
     ]
    },
    {
     "name": "stderr",
     "output_type": "stream",
     "text": [
      "100%|██████████| 3399/3399 [00:00<00:00, 9514.21it/s] \n"
     ]
    },
    {
     "name": "stdout",
     "output_type": "stream",
     "text": [
      "16\n",
      "1/1 [==============================] - 0s 54ms/step\n"
     ]
    },
    {
     "name": "stderr",
     "output_type": "stream",
     "text": [
      "100%|██████████| 3399/3399 [00:00<00:00, 12748.12it/s]\n"
     ]
    },
    {
     "name": "stdout",
     "output_type": "stream",
     "text": [
      "15\n",
      "1/1 [==============================] - 0s 75ms/step\n"
     ]
    },
    {
     "name": "stderr",
     "output_type": "stream",
     "text": [
      "100%|██████████| 3399/3399 [00:00<00:00, 10230.98it/s]\n"
     ]
    },
    {
     "name": "stdout",
     "output_type": "stream",
     "text": [
      "14\n",
      "1/1 [==============================] - 0s 57ms/step\n"
     ]
    },
    {
     "name": "stderr",
     "output_type": "stream",
     "text": [
      "100%|██████████| 3399/3399 [00:00<00:00, 12835.94it/s]\n"
     ]
    },
    {
     "name": "stdout",
     "output_type": "stream",
     "text": [
      "13\n",
      "1/1 [==============================] - 0s 47ms/step\n"
     ]
    },
    {
     "name": "stderr",
     "output_type": "stream",
     "text": [
      "100%|██████████| 3399/3399 [00:00<00:00, 12331.14it/s]\n"
     ]
    },
    {
     "name": "stdout",
     "output_type": "stream",
     "text": [
      "12\n",
      "1/1 [==============================] - 0s 69ms/step\n"
     ]
    },
    {
     "name": "stderr",
     "output_type": "stream",
     "text": [
      "100%|██████████| 3399/3399 [00:00<00:00, 11361.78it/s]\n"
     ]
    },
    {
     "name": "stdout",
     "output_type": "stream",
     "text": [
      "11\n",
      "1/1 [==============================] - 0s 31ms/step\n"
     ]
    },
    {
     "name": "stderr",
     "output_type": "stream",
     "text": [
      "100%|██████████| 3399/3399 [00:00<00:00, 9999.43it/s] \n"
     ]
    },
    {
     "name": "stdout",
     "output_type": "stream",
     "text": [
      "10\n",
      "1/1 [==============================] - 0s 85ms/step\n"
     ]
    },
    {
     "name": "stderr",
     "output_type": "stream",
     "text": [
      "100%|██████████| 3399/3399 [00:00<00:00, 5432.81it/s]\n"
     ]
    },
    {
     "name": "stdout",
     "output_type": "stream",
     "text": [
      "9\n",
      "1/1 [==============================] - 0s 127ms/step\n"
     ]
    },
    {
     "name": "stderr",
     "output_type": "stream",
     "text": [
      "100%|██████████| 3399/3399 [00:00<00:00, 4872.41it/s]\n"
     ]
    },
    {
     "name": "stdout",
     "output_type": "stream",
     "text": [
      "8\n",
      "1/1 [==============================] - 0s 116ms/step\n"
     ]
    },
    {
     "name": "stderr",
     "output_type": "stream",
     "text": [
      "100%|██████████| 3399/3399 [00:00<00:00, 4601.44it/s]\n"
     ]
    },
    {
     "name": "stdout",
     "output_type": "stream",
     "text": [
      "7\n",
      "1/1 [==============================] - 0s 92ms/step\n"
     ]
    },
    {
     "name": "stderr",
     "output_type": "stream",
     "text": [
      "100%|██████████| 3399/3399 [00:00<00:00, 6013.58it/s]\n"
     ]
    },
    {
     "name": "stdout",
     "output_type": "stream",
     "text": [
      "6\n",
      "1/1 [==============================] - 0s 67ms/step\n"
     ]
    },
    {
     "name": "stderr",
     "output_type": "stream",
     "text": [
      "100%|██████████| 3399/3399 [00:00<00:00, 4349.08it/s]\n"
     ]
    },
    {
     "name": "stdout",
     "output_type": "stream",
     "text": [
      "5\n",
      "1/1 [==============================] - 0s 110ms/step\n"
     ]
    },
    {
     "name": "stderr",
     "output_type": "stream",
     "text": [
      "100%|██████████| 3399/3399 [00:00<00:00, 7051.95it/s]\n"
     ]
    },
    {
     "name": "stdout",
     "output_type": "stream",
     "text": [
      "4\n",
      "1/1 [==============================] - 0s 102ms/step\n"
     ]
    },
    {
     "name": "stderr",
     "output_type": "stream",
     "text": [
      "100%|██████████| 3399/3399 [00:00<00:00, 8740.24it/s]\n"
     ]
    },
    {
     "name": "stdout",
     "output_type": "stream",
     "text": [
      "3\n",
      "1/1 [==============================] - 0s 69ms/step\n"
     ]
    },
    {
     "name": "stderr",
     "output_type": "stream",
     "text": [
      "100%|██████████| 3399/3399 [00:00<00:00, 6515.73it/s]\n"
     ]
    },
    {
     "name": "stdout",
     "output_type": "stream",
     "text": [
      "2\n",
      "1/1 [==============================] - 0s 67ms/step\n"
     ]
    },
    {
     "name": "stderr",
     "output_type": "stream",
     "text": [
      "100%|██████████| 3399/3399 [00:00<00:00, 12366.51it/s]\n"
     ]
    },
    {
     "name": "stdout",
     "output_type": "stream",
     "text": [
      "1\n"
     ]
    }
   ],
   "source": [
    "pred_1_gru = predict(bova11, 1, 100, model_gru)\n",
    "pred_1_lstm = predict(bova11, 1, 50, model_lstm)\n",
    "\n",
    "pred_5_gru = predict(bova11, 5, 100, model_gru)\n",
    "pred_5_lstm = predict(bova11, 5, 50, model_lstm)\n",
    "\n",
    "pred_30_gru = predict(bova11, 30, 100, model_gru)\n",
    "pred_30_lstm = predict(bova11, 30, 50, model_lstm)\n",
    "\n",
    "pred_90_gru = predict(bova11, 90, 100, model_gru)\n",
    "pred_90_lstm = predict(bova11, 90, 50, model_lstm)\n"
   ]
  },
  {
   "cell_type": "markdown",
   "id": "35feb8fe",
   "metadata": {},
   "source": [
    "### Error metrics Calc"
   ]
  },
  {
   "cell_type": "markdown",
   "id": "1753ea08",
   "metadata": {},
   "source": [
    "#### 1 day"
   ]
  },
  {
   "cell_type": "code",
   "execution_count": 186,
   "id": "1afbd2a3",
   "metadata": {},
   "outputs": [],
   "source": [
    "scaler = MinMaxScaler(feature_range = (-1, 1))\n",
    "pred_1_gru_scaled = scaler.fit_transform(pred_1_gru)\n",
    "\n",
    "scaler = MinMaxScaler(feature_range = (-1, 1))\n",
    "pred_1_lstm_scaled = scaler.fit_transform(pred_1_lstm)\n",
    "\n",
    "y_pred_1_gru = np.array([pred_1_gru_scaled[-1][3]])\n",
    "y_pred_1_lstm = np.array([pred_1_lstm_scaled[-1][3]])\n",
    "y_test_1 = np.array([bova11_scaled[-1][3]])"
   ]
  },
  {
   "cell_type": "code",
   "execution_count": 187,
   "id": "58c6d4fe",
   "metadata": {},
   "outputs": [
    {
     "data": {
      "text/plain": [
       "(14.02132552393301, 0.08681726341268625, 0.08681726341268625)"
      ]
     },
     "execution_count": 187,
     "metadata": {},
     "output_type": "execute_result"
    }
   ],
   "source": [
    "MAPE(y_pred_1_gru, y_test_1), MAE(y_pred_1_gru, y_test_1), RMSE(y_pred_1_gru, y_test_1)"
   ]
  },
  {
   "cell_type": "code",
   "execution_count": 188,
   "id": "fe8b8aef",
   "metadata": {},
   "outputs": [
    {
     "data": {
      "text/plain": [
       "(12.9272116415248, 0.07903694992086496, 0.07903694992086496)"
      ]
     },
     "execution_count": 188,
     "metadata": {},
     "output_type": "execute_result"
    }
   ],
   "source": [
    "MAPE(y_pred_1_lstm, y_test_1), MAE(y_pred_1_lstm, y_test_1), RMSE(y_pred_1_lstm, y_test_1)"
   ]
  },
  {
   "cell_type": "markdown",
   "id": "27dafbea",
   "metadata": {},
   "source": [
    "#### 5 days"
   ]
  },
  {
   "cell_type": "code",
   "execution_count": 189,
   "id": "5297bdfb",
   "metadata": {},
   "outputs": [
    {
     "data": {
      "text/plain": [
       "(array([0.61814103, 0.64367293, 0.6114222 , 0.56438976, 0.53236288]),\n",
       " array([0.60338742, 0.59424937, 0.58869934, 0.58041471, 0.57326525]),\n",
       " array([0.59910393, 0.59338957, 0.59040713, 0.58584046, 0.58043993]))"
      ]
     },
     "execution_count": 189,
     "metadata": {},
     "output_type": "execute_result"
    }
   ],
   "source": [
    "scaler = MinMaxScaler(feature_range = (-1, 1))\n",
    "pred_5_gru_scaled = scaler.fit_transform(pred_5_gru)\n",
    "pred_5_lstm_scaled = scaler.fit_transform(pred_5_lstm)\n",
    "\n",
    "y_pred_5_gru = []\n",
    "y_pred_5_lstm = []\n",
    "y_test_5 = []\n",
    "\n",
    "for i in range (5):\n",
    "    y_pred_5_gru.append(pred_5_gru_scaled[-5:][i][3])\n",
    "    y_pred_5_lstm.append(pred_5_lstm_scaled[-5:][i][3])\n",
    "    y_test_5.append(bova11_scaled[-5:][i][3])\n",
    "    \n",
    "y_pred_5_gru = np.array(y_pred_5_gru)\n",
    "y_pred_5_lstm = np.array(y_pred_5_lstm)\n",
    "y_test_5 = np.array(y_test_5)\n",
    "\n",
    "y_test_5, y_pred_5_gru, y_pred_5_lstm"
   ]
  },
  {
   "cell_type": "code",
   "execution_count": 190,
   "id": "8f0f0605",
   "metadata": {},
   "outputs": [
    {
     "data": {
      "text/plain": [
       "(4.903575200856066, 0.02876547152344484, 0.031957750383605564)"
      ]
     },
     "execution_count": 190,
     "metadata": {},
     "output_type": "execute_result"
    }
   ],
   "source": [
    "MAPE(y_pred_5_gru, y_test_5), MAE(y_pred_5_gru, y_test_5), RMSE(y_pred_5_gru, y_test_5)"
   ]
  },
  {
   "cell_type": "code",
   "execution_count": 191,
   "id": "164886e8",
   "metadata": {},
   "outputs": [
    {
     "data": {
      "text/plain": [
       "(5.431064929485511, 0.03197265440766115, 0.034939934583826)"
      ]
     },
     "execution_count": 191,
     "metadata": {},
     "output_type": "execute_result"
    }
   ],
   "source": [
    "MAPE(y_pred_5_lstm, y_test_5), MAE(y_pred_5_lstm, y_test_5), RMSE(y_pred_5_lstm, y_test_5)"
   ]
  },
  {
   "cell_type": "markdown",
   "id": "8f5ab70b",
   "metadata": {},
   "source": [
    "#### 30 days"
   ]
  },
  {
   "cell_type": "code",
   "execution_count": 192,
   "id": "b3c7f079",
   "metadata": {},
   "outputs": [],
   "source": [
    "scaler = MinMaxScaler(feature_range = (-1, 1))\n",
    "pred_30_gru_scaled = scaler.fit_transform(pred_30_gru)\n",
    "pred_30_lstm_scaled = scaler.fit_transform(pred_30_lstm)\n",
    "\n",
    "y_pred_30_gru = []\n",
    "y_pred_30_lstm = []\n",
    "y_test_30 = []\n",
    "\n",
    "for i in range (30):\n",
    "    y_pred_30_gru.append(pred_30_gru_scaled[-30:][i][3])\n",
    "    y_pred_30_lstm.append(pred_30_lstm_scaled[-30:][i][3])\n",
    "    y_test_30.append(bova11_scaled[-30:][i][3])\n",
    "    \n",
    "y_pred_30_gru = np.array(y_pred_30_gru)\n",
    "y_pred_30_lstm = np.array(y_pred_30_lstm)\n",
    "y_test_30 = np.array(y_test_30)"
   ]
  },
  {
   "cell_type": "code",
   "execution_count": 193,
   "id": "f7eadf2c",
   "metadata": {},
   "outputs": [
    {
     "data": {
      "text/plain": [
       "(13.17917287750418, 0.06921805971034029, 0.07640837959568667)"
      ]
     },
     "execution_count": 193,
     "metadata": {},
     "output_type": "execute_result"
    }
   ],
   "source": [
    "MAPE(y_pred_30_gru, y_test_30), MAE(y_pred_30_gru, y_test_30), RMSE(y_pred_30_gru, y_test_30)"
   ]
  },
  {
   "cell_type": "code",
   "execution_count": 194,
   "id": "045ac89d",
   "metadata": {},
   "outputs": [
    {
     "data": {
      "text/plain": [
       "(9.559050938573762, 0.05114215061602493, 0.05709013806338097)"
      ]
     },
     "execution_count": 194,
     "metadata": {},
     "output_type": "execute_result"
    }
   ],
   "source": [
    "MAPE(y_pred_30_lstm, y_test_30), MAE(y_pred_30_lstm, y_test_30), RMSE(y_pred_30_lstm, y_test_30)"
   ]
  },
  {
   "cell_type": "markdown",
   "id": "3ae58a6b",
   "metadata": {},
   "source": [
    "### 90 days"
   ]
  },
  {
   "cell_type": "code",
   "execution_count": 195,
   "id": "53f2ed49",
   "metadata": {},
   "outputs": [],
   "source": [
    "scaler = MinMaxScaler(feature_range = (-1, 1))\n",
    "pred_90_gru_scaled = scaler.fit_transform(pred_90_gru)\n",
    "pred_90_lstm_scaled = scaler.fit_transform(pred_90_lstm)\n",
    "\n",
    "y_pred_90_gru = []\n",
    "y_pred_90_lstm = []\n",
    "y_test_90 = []\n",
    "\n",
    "for i in range (90):\n",
    "    y_pred_90_gru.append(pred_90_gru_scaled[-90:][i][3])\n",
    "    y_pred_90_lstm.append(pred_90_lstm_scaled[-90:][i][3])\n",
    "    y_test_90.append(bova11_scaled[-90:][i][3])\n",
    "    \n",
    "y_pred_90_gru = np.array(y_pred_90_gru)\n",
    "y_pred_90_lstm = np.array(y_pred_90_lstm)\n",
    "y_test_90 = np.array(y_test_90)"
   ]
  },
  {
   "cell_type": "code",
   "execution_count": 196,
   "id": "c46677ea",
   "metadata": {},
   "outputs": [
    {
     "data": {
      "text/plain": [
       "(79.23426907213519, 0.11675930826651712, 0.16351275108543398)"
      ]
     },
     "execution_count": 196,
     "metadata": {},
     "output_type": "execute_result"
    }
   ],
   "source": [
    "MAPE(y_pred_90_gru, y_test_90), MAE(y_pred_90_gru, y_test_90), RMSE(y_pred_90_gru, y_test_90)"
   ]
  },
  {
   "cell_type": "code",
   "execution_count": 197,
   "id": "6beb5a76",
   "metadata": {},
   "outputs": [
    {
     "data": {
      "text/plain": [
       "(44.34319261664525, 0.13542167480762027, 0.18297006650887448)"
      ]
     },
     "execution_count": 197,
     "metadata": {},
     "output_type": "execute_result"
    }
   ],
   "source": [
    "MAPE(y_pred_90_lstm, y_test_90), MAE(y_pred_90_lstm, y_test_90), RMSE(y_pred_90_lstm, y_test_90)"
   ]
  },
  {
   "cell_type": "markdown",
   "id": "36ef852e",
   "metadata": {},
   "source": [
    "#### Generating visualizations"
   ]
  },
  {
   "cell_type": "code",
   "execution_count": 198,
   "id": "f160be21",
   "metadata": {},
   "outputs": [],
   "source": [
    "import plotly.express as px\n",
    "import plotly.graph_objs as go"
   ]
  },
  {
   "cell_type": "code",
   "execution_count": 199,
   "id": "8f017d97",
   "metadata": {},
   "outputs": [
    {
     "data": {
      "application/vnd.plotly.v1+json": {
       "config": {
        "plotlyServerURL": "https://plot.ly"
       },
       "data": [
        {
         "name": "Real",
         "type": "scatter",
         "y": [
          107.08999633789062,
          108.44999694824219,
          105.94999694824219,
          106.18000030517578,
          108.4000015258789,
          109.44000244140625,
          106.9800033569336,
          106.75,
          106.11000061035156,
          105.5999984741211,
          108.22000122070312,
          108.8499984741211,
          108.16000366210938,
          110.12999725341797,
          107.83999633789062,
          105.12999725341797,
          104.68000030517578,
          104.81999969482422,
          103.80000305175781,
          106.45999908447266,
          112.4000015258789,
          112.3499984741211,
          113.31999969482422,
          113.47000122070312,
          112.77999877929688,
          112.08000183105469,
          110.88999938964844,
          110.26000213623047,
          108.22000122070312,
          109.9000015258789,
          111.94000244140625,
          112.3499984741211,
          112.9000015258789,
          116.43000030517578,
          112.13999938964844,
          110.4800033569336,
          108.77999877929688,
          110,
          113,
          112.1500015258789,
          112.80999755859375,
          113.0999984741211,
          114,
          111.22000122070312,
          112.30000305175781,
          109.75,
          106.0999984741211,
          108.55000305175781,
          109.23999786376953,
          106.04000091552734,
          105.69000244140625,
          104.8499984741211,
          106.08000183105469,
          105.06999969482422,
          105.23999786376953,
          108.19999694824219,
          105.06999969482422,
          105.1500015258789,
          107.29000091552734,
          108.58000183105469,
          107.05999755859375,
          107.94999694824219,
          105.62999725341797,
          106.73999786376953,
          105.58999633789062,
          103.56999969482422,
          103.9000015258789,
          101.80000305175781,
          100.30000305175781,
          100.69999694824219,
          100.5,
          99.4000015258789,
          101.37000274658203,
          103.55000305175781,
          103.87000274658203,
          103.93000030517578,
          106,
          105.1500015258789,
          104.9000015258789,
          106.80000305175781,
          105.94999694824219,
          102.62999725341797,
          100.4800033569336,
          101.91999816894531,
          104.2699966430664,
          105.5,
          105.3499984741211,
          107.18000030517578,
          109.0999984741211,
          108.26000213623047,
          107.3499984741211,
          105.47000122070312,
          107.80000305175781,
          108.33000183105469,
          109.11000061035156,
          108.44999694824219,
          107.9000015258789,
          109.43000030517578,
          110.6500015258789,
          110.41999816894531
         ]
        },
        {
         "name": "LSTM",
         "type": "scatter",
         "y": [
          107.08999633789062,
          108.44999694824219,
          105.94999694824219,
          106.18000030517578,
          108.4000015258789,
          109.44000244140625,
          106.9800033569336,
          106.75,
          106.11000061035156,
          105.5999984741211,
          107.42705718137961,
          107.65986652630488,
          107.9831217614801,
          108.33631449318091,
          108.63756038563531,
          108.87096321102331,
          109.11875061892715,
          109.35883076485766,
          109.5541630161681,
          109.86109088524995,
          110.19812391574146,
          110.50485218377082,
          110.91964712296362,
          111.32086652923999,
          111.6992941566698,
          112.0165640216178,
          112.21709388433499,
          112.35254049720481,
          112.43507952442894,
          112.62465794273305,
          112.79212854846378,
          112.8622417448338,
          112.82286977189403,
          112.93655987004286,
          113.05158064187492,
          113.1410711084203,
          113.24117236691586,
          113.41151988914976,
          113.62206440200703,
          113.6865914302548,
          113.79453567943938,
          113.8780993253996,
          113.9203109559794,
          113.90179596235077,
          113.88736081423497,
          113.70375179807388,
          113.49839957392862,
          113.31562622084061,
          112.85725171852164,
          112.21668935953528,
          111.56401254733669,
          110.71403408677645,
          109.86605429808844,
          108.89557269012118,
          107.97767930611565,
          107.00484240572905,
          106.08747862984944,
          105.27701851633412,
          104.43922104267028,
          103.66955140024106,
          102.87294626111566,
          102.14123275482723,
          101.41042277596972,
          100.73695019544942,
          100.05250754108448,
          99.41019800755203,
          98.83467764752885,
          98.32969363810696,
          97.88996320476389,
          97.54732670739224,
          97.20218322080137,
          96.89989541085299,
          96.67221847432398,
          96.46716299041009,
          96.31830318681318,
          96.2408420103643,
          96.06993427450976,
          96.18916263652824,
          96.19762705182734,
          95.73977151224483,
          95.81566249374748,
          96.17768557601028,
          96.28598910708934,
          96.3534303107034,
          96.38159801123027,
          96.4198282661498,
          96.48456154881848,
          96.06258230240985,
          95.23022728411047,
          94.98505864201525,
          94.88173449185888,
          95.09557641410322,
          94.10905752690553,
          93.14368304453455,
          92.03634164824587,
          91.10022402281149,
          90.0624968202616,
          88.49187539312067,
          86.91110824448185,
          85.48719492159202
         ]
        },
        {
         "name": "GRU",
         "type": "scatter",
         "y": [
          107.08999633789062,
          108.44999694824219,
          105.94999694824219,
          106.18000030517578,
          108.4000015258789,
          109.44000244140625,
          106.9800033569336,
          106.75,
          106.11000061035156,
          105.5999984741211,
          107.36449156614094,
          107.91421681681447,
          108.27408154636305,
          108.43142040266957,
          108.57959890134066,
          108.3776771539508,
          108.24888124814981,
          108.30675756932874,
          108.17675607317074,
          108.52072191355194,
          108.81952468912391,
          108.9069259979866,
          108.92441637287914,
          109.0245016632905,
          109.23685589235697,
          109.55258217583241,
          109.90990265729863,
          110.2537993026483,
          110.36925653544847,
          110.71965751376183,
          110.90104696621927,
          110.67328087455348,
          110.4761096322128,
          110.26489978251391,
          110.7312370361534,
          110.89264243123591,
          110.69575595306344,
          110.77192903738694,
          110.86144079471126,
          110.88231640345396,
          110.72050382222437,
          110.43859261838747,
          110.11243917593015,
          109.83526250905823,
          108.95492872043587,
          108.23479207519165,
          107.51221497441236,
          107.17878806960243,
          106.57692170132475,
          106.07328832569135,
          105.758586660952,
          105.47370273210674,
          105.39350036787039,
          104.95491298322122,
          104.49297227543116,
          104.01752256840882,
          103.77274514437647,
          103.03616137240738,
          102.24055157719704,
          101.52514281554937,
          100.97325788148794,
          100.34912801181594,
          99.9554175971341,
          99.5091229505116,
          99.29745135704462,
          99.19484710135089,
          99.10280573335473,
          99.32205817479513,
          99.54029265086785,
          99.7100094337759,
          99.84451392967799,
          99.71020504280733,
          99.51774305463164,
          99.29246000005878,
          99.00577700039378,
          98.64484107853019,
          98.29549399377396,
          97.98934057677576,
          97.53355423477069,
          97.16277798101953,
          97.26066366783249,
          97.80669496836134,
          98.15262621377269,
          98.26905616903531,
          98.41133046857385,
          98.60716970655761,
          98.66371269270593,
          98.56188155842216,
          97.93097323700772,
          97.87861655026688,
          98.06664473373002,
          97.82559186533706,
          96.95661670727486,
          95.57718847095265,
          93.68432777799364,
          91.83364079141447,
          89.65300794238073,
          86.69407004405036,
          84.25672096669823,
          81.71820426222763
         ]
        }
       ],
       "layout": {
        "template": {
         "data": {
          "bar": [
           {
            "error_x": {
             "color": "#2a3f5f"
            },
            "error_y": {
             "color": "#2a3f5f"
            },
            "marker": {
             "line": {
              "color": "#E5ECF6",
              "width": 0.5
             },
             "pattern": {
              "fillmode": "overlay",
              "size": 10,
              "solidity": 0.2
             }
            },
            "type": "bar"
           }
          ],
          "barpolar": [
           {
            "marker": {
             "line": {
              "color": "#E5ECF6",
              "width": 0.5
             },
             "pattern": {
              "fillmode": "overlay",
              "size": 10,
              "solidity": 0.2
             }
            },
            "type": "barpolar"
           }
          ],
          "carpet": [
           {
            "aaxis": {
             "endlinecolor": "#2a3f5f",
             "gridcolor": "white",
             "linecolor": "white",
             "minorgridcolor": "white",
             "startlinecolor": "#2a3f5f"
            },
            "baxis": {
             "endlinecolor": "#2a3f5f",
             "gridcolor": "white",
             "linecolor": "white",
             "minorgridcolor": "white",
             "startlinecolor": "#2a3f5f"
            },
            "type": "carpet"
           }
          ],
          "choropleth": [
           {
            "colorbar": {
             "outlinewidth": 0,
             "ticks": ""
            },
            "type": "choropleth"
           }
          ],
          "contour": [
           {
            "colorbar": {
             "outlinewidth": 0,
             "ticks": ""
            },
            "colorscale": [
             [
              0,
              "#0d0887"
             ],
             [
              0.1111111111111111,
              "#46039f"
             ],
             [
              0.2222222222222222,
              "#7201a8"
             ],
             [
              0.3333333333333333,
              "#9c179e"
             ],
             [
              0.4444444444444444,
              "#bd3786"
             ],
             [
              0.5555555555555556,
              "#d8576b"
             ],
             [
              0.6666666666666666,
              "#ed7953"
             ],
             [
              0.7777777777777778,
              "#fb9f3a"
             ],
             [
              0.8888888888888888,
              "#fdca26"
             ],
             [
              1,
              "#f0f921"
             ]
            ],
            "type": "contour"
           }
          ],
          "contourcarpet": [
           {
            "colorbar": {
             "outlinewidth": 0,
             "ticks": ""
            },
            "type": "contourcarpet"
           }
          ],
          "heatmap": [
           {
            "colorbar": {
             "outlinewidth": 0,
             "ticks": ""
            },
            "colorscale": [
             [
              0,
              "#0d0887"
             ],
             [
              0.1111111111111111,
              "#46039f"
             ],
             [
              0.2222222222222222,
              "#7201a8"
             ],
             [
              0.3333333333333333,
              "#9c179e"
             ],
             [
              0.4444444444444444,
              "#bd3786"
             ],
             [
              0.5555555555555556,
              "#d8576b"
             ],
             [
              0.6666666666666666,
              "#ed7953"
             ],
             [
              0.7777777777777778,
              "#fb9f3a"
             ],
             [
              0.8888888888888888,
              "#fdca26"
             ],
             [
              1,
              "#f0f921"
             ]
            ],
            "type": "heatmap"
           }
          ],
          "heatmapgl": [
           {
            "colorbar": {
             "outlinewidth": 0,
             "ticks": ""
            },
            "colorscale": [
             [
              0,
              "#0d0887"
             ],
             [
              0.1111111111111111,
              "#46039f"
             ],
             [
              0.2222222222222222,
              "#7201a8"
             ],
             [
              0.3333333333333333,
              "#9c179e"
             ],
             [
              0.4444444444444444,
              "#bd3786"
             ],
             [
              0.5555555555555556,
              "#d8576b"
             ],
             [
              0.6666666666666666,
              "#ed7953"
             ],
             [
              0.7777777777777778,
              "#fb9f3a"
             ],
             [
              0.8888888888888888,
              "#fdca26"
             ],
             [
              1,
              "#f0f921"
             ]
            ],
            "type": "heatmapgl"
           }
          ],
          "histogram": [
           {
            "marker": {
             "pattern": {
              "fillmode": "overlay",
              "size": 10,
              "solidity": 0.2
             }
            },
            "type": "histogram"
           }
          ],
          "histogram2d": [
           {
            "colorbar": {
             "outlinewidth": 0,
             "ticks": ""
            },
            "colorscale": [
             [
              0,
              "#0d0887"
             ],
             [
              0.1111111111111111,
              "#46039f"
             ],
             [
              0.2222222222222222,
              "#7201a8"
             ],
             [
              0.3333333333333333,
              "#9c179e"
             ],
             [
              0.4444444444444444,
              "#bd3786"
             ],
             [
              0.5555555555555556,
              "#d8576b"
             ],
             [
              0.6666666666666666,
              "#ed7953"
             ],
             [
              0.7777777777777778,
              "#fb9f3a"
             ],
             [
              0.8888888888888888,
              "#fdca26"
             ],
             [
              1,
              "#f0f921"
             ]
            ],
            "type": "histogram2d"
           }
          ],
          "histogram2dcontour": [
           {
            "colorbar": {
             "outlinewidth": 0,
             "ticks": ""
            },
            "colorscale": [
             [
              0,
              "#0d0887"
             ],
             [
              0.1111111111111111,
              "#46039f"
             ],
             [
              0.2222222222222222,
              "#7201a8"
             ],
             [
              0.3333333333333333,
              "#9c179e"
             ],
             [
              0.4444444444444444,
              "#bd3786"
             ],
             [
              0.5555555555555556,
              "#d8576b"
             ],
             [
              0.6666666666666666,
              "#ed7953"
             ],
             [
              0.7777777777777778,
              "#fb9f3a"
             ],
             [
              0.8888888888888888,
              "#fdca26"
             ],
             [
              1,
              "#f0f921"
             ]
            ],
            "type": "histogram2dcontour"
           }
          ],
          "mesh3d": [
           {
            "colorbar": {
             "outlinewidth": 0,
             "ticks": ""
            },
            "type": "mesh3d"
           }
          ],
          "parcoords": [
           {
            "line": {
             "colorbar": {
              "outlinewidth": 0,
              "ticks": ""
             }
            },
            "type": "parcoords"
           }
          ],
          "pie": [
           {
            "automargin": true,
            "type": "pie"
           }
          ],
          "scatter": [
           {
            "fillpattern": {
             "fillmode": "overlay",
             "size": 10,
             "solidity": 0.2
            },
            "type": "scatter"
           }
          ],
          "scatter3d": [
           {
            "line": {
             "colorbar": {
              "outlinewidth": 0,
              "ticks": ""
             }
            },
            "marker": {
             "colorbar": {
              "outlinewidth": 0,
              "ticks": ""
             }
            },
            "type": "scatter3d"
           }
          ],
          "scattercarpet": [
           {
            "marker": {
             "colorbar": {
              "outlinewidth": 0,
              "ticks": ""
             }
            },
            "type": "scattercarpet"
           }
          ],
          "scattergeo": [
           {
            "marker": {
             "colorbar": {
              "outlinewidth": 0,
              "ticks": ""
             }
            },
            "type": "scattergeo"
           }
          ],
          "scattergl": [
           {
            "marker": {
             "colorbar": {
              "outlinewidth": 0,
              "ticks": ""
             }
            },
            "type": "scattergl"
           }
          ],
          "scattermapbox": [
           {
            "marker": {
             "colorbar": {
              "outlinewidth": 0,
              "ticks": ""
             }
            },
            "type": "scattermapbox"
           }
          ],
          "scatterpolar": [
           {
            "marker": {
             "colorbar": {
              "outlinewidth": 0,
              "ticks": ""
             }
            },
            "type": "scatterpolar"
           }
          ],
          "scatterpolargl": [
           {
            "marker": {
             "colorbar": {
              "outlinewidth": 0,
              "ticks": ""
             }
            },
            "type": "scatterpolargl"
           }
          ],
          "scatterternary": [
           {
            "marker": {
             "colorbar": {
              "outlinewidth": 0,
              "ticks": ""
             }
            },
            "type": "scatterternary"
           }
          ],
          "surface": [
           {
            "colorbar": {
             "outlinewidth": 0,
             "ticks": ""
            },
            "colorscale": [
             [
              0,
              "#0d0887"
             ],
             [
              0.1111111111111111,
              "#46039f"
             ],
             [
              0.2222222222222222,
              "#7201a8"
             ],
             [
              0.3333333333333333,
              "#9c179e"
             ],
             [
              0.4444444444444444,
              "#bd3786"
             ],
             [
              0.5555555555555556,
              "#d8576b"
             ],
             [
              0.6666666666666666,
              "#ed7953"
             ],
             [
              0.7777777777777778,
              "#fb9f3a"
             ],
             [
              0.8888888888888888,
              "#fdca26"
             ],
             [
              1,
              "#f0f921"
             ]
            ],
            "type": "surface"
           }
          ],
          "table": [
           {
            "cells": {
             "fill": {
              "color": "#EBF0F8"
             },
             "line": {
              "color": "white"
             }
            },
            "header": {
             "fill": {
              "color": "#C8D4E3"
             },
             "line": {
              "color": "white"
             }
            },
            "type": "table"
           }
          ]
         },
         "layout": {
          "annotationdefaults": {
           "arrowcolor": "#2a3f5f",
           "arrowhead": 0,
           "arrowwidth": 1
          },
          "autotypenumbers": "strict",
          "coloraxis": {
           "colorbar": {
            "outlinewidth": 0,
            "ticks": ""
           }
          },
          "colorscale": {
           "diverging": [
            [
             0,
             "#8e0152"
            ],
            [
             0.1,
             "#c51b7d"
            ],
            [
             0.2,
             "#de77ae"
            ],
            [
             0.3,
             "#f1b6da"
            ],
            [
             0.4,
             "#fde0ef"
            ],
            [
             0.5,
             "#f7f7f7"
            ],
            [
             0.6,
             "#e6f5d0"
            ],
            [
             0.7,
             "#b8e186"
            ],
            [
             0.8,
             "#7fbc41"
            ],
            [
             0.9,
             "#4d9221"
            ],
            [
             1,
             "#276419"
            ]
           ],
           "sequential": [
            [
             0,
             "#0d0887"
            ],
            [
             0.1111111111111111,
             "#46039f"
            ],
            [
             0.2222222222222222,
             "#7201a8"
            ],
            [
             0.3333333333333333,
             "#9c179e"
            ],
            [
             0.4444444444444444,
             "#bd3786"
            ],
            [
             0.5555555555555556,
             "#d8576b"
            ],
            [
             0.6666666666666666,
             "#ed7953"
            ],
            [
             0.7777777777777778,
             "#fb9f3a"
            ],
            [
             0.8888888888888888,
             "#fdca26"
            ],
            [
             1,
             "#f0f921"
            ]
           ],
           "sequentialminus": [
            [
             0,
             "#0d0887"
            ],
            [
             0.1111111111111111,
             "#46039f"
            ],
            [
             0.2222222222222222,
             "#7201a8"
            ],
            [
             0.3333333333333333,
             "#9c179e"
            ],
            [
             0.4444444444444444,
             "#bd3786"
            ],
            [
             0.5555555555555556,
             "#d8576b"
            ],
            [
             0.6666666666666666,
             "#ed7953"
            ],
            [
             0.7777777777777778,
             "#fb9f3a"
            ],
            [
             0.8888888888888888,
             "#fdca26"
            ],
            [
             1,
             "#f0f921"
            ]
           ]
          },
          "colorway": [
           "#636efa",
           "#EF553B",
           "#00cc96",
           "#ab63fa",
           "#FFA15A",
           "#19d3f3",
           "#FF6692",
           "#B6E880",
           "#FF97FF",
           "#FECB52"
          ],
          "font": {
           "color": "#2a3f5f"
          },
          "geo": {
           "bgcolor": "white",
           "lakecolor": "white",
           "landcolor": "#E5ECF6",
           "showlakes": true,
           "showland": true,
           "subunitcolor": "white"
          },
          "hoverlabel": {
           "align": "left"
          },
          "hovermode": "closest",
          "mapbox": {
           "style": "light"
          },
          "paper_bgcolor": "white",
          "plot_bgcolor": "#E5ECF6",
          "polar": {
           "angularaxis": {
            "gridcolor": "white",
            "linecolor": "white",
            "ticks": ""
           },
           "bgcolor": "#E5ECF6",
           "radialaxis": {
            "gridcolor": "white",
            "linecolor": "white",
            "ticks": ""
           }
          },
          "scene": {
           "xaxis": {
            "backgroundcolor": "#E5ECF6",
            "gridcolor": "white",
            "gridwidth": 2,
            "linecolor": "white",
            "showbackground": true,
            "ticks": "",
            "zerolinecolor": "white"
           },
           "yaxis": {
            "backgroundcolor": "#E5ECF6",
            "gridcolor": "white",
            "gridwidth": 2,
            "linecolor": "white",
            "showbackground": true,
            "ticks": "",
            "zerolinecolor": "white"
           },
           "zaxis": {
            "backgroundcolor": "#E5ECF6",
            "gridcolor": "white",
            "gridwidth": 2,
            "linecolor": "white",
            "showbackground": true,
            "ticks": "",
            "zerolinecolor": "white"
           }
          },
          "shapedefaults": {
           "line": {
            "color": "#2a3f5f"
           }
          },
          "ternary": {
           "aaxis": {
            "gridcolor": "white",
            "linecolor": "white",
            "ticks": ""
           },
           "baxis": {
            "gridcolor": "white",
            "linecolor": "white",
            "ticks": ""
           },
           "bgcolor": "#E5ECF6",
           "caxis": {
            "gridcolor": "white",
            "linecolor": "white",
            "ticks": ""
           }
          },
          "title": {
           "x": 0.05
          },
          "xaxis": {
           "automargin": true,
           "gridcolor": "white",
           "linecolor": "white",
           "ticks": "",
           "title": {
            "standoff": 15
           },
           "zerolinecolor": "white",
           "zerolinewidth": 2
          },
          "yaxis": {
           "automargin": true,
           "gridcolor": "white",
           "linecolor": "white",
           "ticks": "",
           "title": {
            "standoff": 15
           },
           "zerolinecolor": "white",
           "zerolinewidth": 2
          }
         }
        },
        "xaxis": {
         "title": {
          "text": "periodo"
         }
        },
        "yaxis": {
         "title": {
          "text": "Valor de Fechamento"
         }
        }
       }
      },
      "text/html": [
       "<div>                            <div id=\"6d833db3-76be-4ce4-8d0d-79a4d3af9422\" class=\"plotly-graph-div\" style=\"height:525px; width:100%;\"></div>            <script type=\"text/javascript\">                require([\"plotly\"], function(Plotly) {                    window.PLOTLYENV=window.PLOTLYENV || {};                                    if (document.getElementById(\"6d833db3-76be-4ce4-8d0d-79a4d3af9422\")) {                    Plotly.newPlot(                        \"6d833db3-76be-4ce4-8d0d-79a4d3af9422\",                        [{\"name\":\"Real\",\"y\":[107.08999633789062,108.44999694824219,105.94999694824219,106.18000030517578,108.4000015258789,109.44000244140625,106.9800033569336,106.75,106.11000061035156,105.5999984741211,108.22000122070312,108.8499984741211,108.16000366210938,110.12999725341797,107.83999633789062,105.12999725341797,104.68000030517578,104.81999969482422,103.80000305175781,106.45999908447266,112.4000015258789,112.3499984741211,113.31999969482422,113.47000122070312,112.77999877929688,112.08000183105469,110.88999938964844,110.26000213623047,108.22000122070312,109.9000015258789,111.94000244140625,112.3499984741211,112.9000015258789,116.43000030517578,112.13999938964844,110.4800033569336,108.77999877929688,110.0,113.0,112.1500015258789,112.80999755859375,113.0999984741211,114.0,111.22000122070312,112.30000305175781,109.75,106.0999984741211,108.55000305175781,109.23999786376953,106.04000091552734,105.69000244140625,104.8499984741211,106.08000183105469,105.06999969482422,105.23999786376953,108.19999694824219,105.06999969482422,105.1500015258789,107.29000091552734,108.58000183105469,107.05999755859375,107.94999694824219,105.62999725341797,106.73999786376953,105.58999633789062,103.56999969482422,103.9000015258789,101.80000305175781,100.30000305175781,100.69999694824219,100.5,99.4000015258789,101.37000274658203,103.55000305175781,103.87000274658203,103.93000030517578,106.0,105.1500015258789,104.9000015258789,106.80000305175781,105.94999694824219,102.62999725341797,100.4800033569336,101.91999816894531,104.2699966430664,105.5,105.3499984741211,107.18000030517578,109.0999984741211,108.26000213623047,107.3499984741211,105.47000122070312,107.80000305175781,108.33000183105469,109.11000061035156,108.44999694824219,107.9000015258789,109.43000030517578,110.6500015258789,110.41999816894531],\"type\":\"scatter\"},{\"name\":\"LSTM\",\"y\":[107.08999633789062,108.44999694824219,105.94999694824219,106.18000030517578,108.4000015258789,109.44000244140625,106.9800033569336,106.75,106.11000061035156,105.5999984741211,107.42705718137961,107.65986652630488,107.9831217614801,108.33631449318091,108.63756038563531,108.87096321102331,109.11875061892715,109.35883076485766,109.5541630161681,109.86109088524995,110.19812391574146,110.50485218377082,110.91964712296362,111.32086652923999,111.6992941566698,112.0165640216178,112.21709388433499,112.35254049720481,112.43507952442894,112.62465794273305,112.79212854846378,112.8622417448338,112.82286977189403,112.93655987004286,113.05158064187492,113.1410711084203,113.24117236691586,113.41151988914976,113.62206440200703,113.6865914302548,113.79453567943938,113.8780993253996,113.9203109559794,113.90179596235077,113.88736081423497,113.70375179807388,113.49839957392862,113.31562622084061,112.85725171852164,112.21668935953528,111.56401254733669,110.71403408677645,109.86605429808844,108.89557269012118,107.97767930611565,107.00484240572905,106.08747862984944,105.27701851633412,104.43922104267028,103.66955140024106,102.87294626111566,102.14123275482723,101.41042277596972,100.73695019544942,100.05250754108448,99.41019800755203,98.83467764752885,98.32969363810696,97.88996320476389,97.54732670739224,97.20218322080137,96.89989541085299,96.67221847432398,96.46716299041009,96.31830318681318,96.2408420103643,96.06993427450976,96.18916263652824,96.19762705182734,95.73977151224483,95.81566249374748,96.17768557601028,96.28598910708934,96.3534303107034,96.38159801123027,96.4198282661498,96.48456154881848,96.06258230240985,95.23022728411047,94.98505864201525,94.88173449185888,95.09557641410322,94.10905752690553,93.14368304453455,92.03634164824587,91.10022402281149,90.0624968202616,88.49187539312067,86.91110824448185,85.48719492159202],\"type\":\"scatter\"},{\"name\":\"GRU\",\"y\":[107.08999633789062,108.44999694824219,105.94999694824219,106.18000030517578,108.4000015258789,109.44000244140625,106.9800033569336,106.75,106.11000061035156,105.5999984741211,107.36449156614094,107.91421681681447,108.27408154636305,108.43142040266957,108.57959890134066,108.3776771539508,108.24888124814981,108.30675756932874,108.17675607317074,108.52072191355194,108.81952468912391,108.9069259979866,108.92441637287914,109.0245016632905,109.23685589235697,109.55258217583241,109.90990265729863,110.2537993026483,110.36925653544847,110.71965751376183,110.90104696621927,110.67328087455348,110.4761096322128,110.26489978251391,110.7312370361534,110.89264243123591,110.69575595306344,110.77192903738694,110.86144079471126,110.88231640345396,110.72050382222437,110.43859261838747,110.11243917593015,109.83526250905823,108.95492872043587,108.23479207519165,107.51221497441236,107.17878806960243,106.57692170132475,106.07328832569135,105.758586660952,105.47370273210674,105.39350036787039,104.95491298322122,104.49297227543116,104.01752256840882,103.77274514437647,103.03616137240738,102.24055157719704,101.52514281554937,100.97325788148794,100.34912801181594,99.9554175971341,99.5091229505116,99.29745135704462,99.19484710135089,99.10280573335473,99.32205817479513,99.54029265086785,99.7100094337759,99.84451392967799,99.71020504280733,99.51774305463164,99.29246000005878,99.00577700039378,98.64484107853019,98.29549399377396,97.98934057677576,97.53355423477069,97.16277798101953,97.26066366783249,97.80669496836134,98.15262621377269,98.26905616903531,98.41133046857385,98.60716970655761,98.66371269270593,98.56188155842216,97.93097323700772,97.87861655026688,98.06664473373002,97.82559186533706,96.95661670727486,95.57718847095265,93.68432777799364,91.83364079141447,89.65300794238073,86.69407004405036,84.25672096669823,81.71820426222763],\"type\":\"scatter\"}],                        {\"template\":{\"data\":{\"histogram2dcontour\":[{\"type\":\"histogram2dcontour\",\"colorbar\":{\"outlinewidth\":0,\"ticks\":\"\"},\"colorscale\":[[0.0,\"#0d0887\"],[0.1111111111111111,\"#46039f\"],[0.2222222222222222,\"#7201a8\"],[0.3333333333333333,\"#9c179e\"],[0.4444444444444444,\"#bd3786\"],[0.5555555555555556,\"#d8576b\"],[0.6666666666666666,\"#ed7953\"],[0.7777777777777778,\"#fb9f3a\"],[0.8888888888888888,\"#fdca26\"],[1.0,\"#f0f921\"]]}],\"choropleth\":[{\"type\":\"choropleth\",\"colorbar\":{\"outlinewidth\":0,\"ticks\":\"\"}}],\"histogram2d\":[{\"type\":\"histogram2d\",\"colorbar\":{\"outlinewidth\":0,\"ticks\":\"\"},\"colorscale\":[[0.0,\"#0d0887\"],[0.1111111111111111,\"#46039f\"],[0.2222222222222222,\"#7201a8\"],[0.3333333333333333,\"#9c179e\"],[0.4444444444444444,\"#bd3786\"],[0.5555555555555556,\"#d8576b\"],[0.6666666666666666,\"#ed7953\"],[0.7777777777777778,\"#fb9f3a\"],[0.8888888888888888,\"#fdca26\"],[1.0,\"#f0f921\"]]}],\"heatmap\":[{\"type\":\"heatmap\",\"colorbar\":{\"outlinewidth\":0,\"ticks\":\"\"},\"colorscale\":[[0.0,\"#0d0887\"],[0.1111111111111111,\"#46039f\"],[0.2222222222222222,\"#7201a8\"],[0.3333333333333333,\"#9c179e\"],[0.4444444444444444,\"#bd3786\"],[0.5555555555555556,\"#d8576b\"],[0.6666666666666666,\"#ed7953\"],[0.7777777777777778,\"#fb9f3a\"],[0.8888888888888888,\"#fdca26\"],[1.0,\"#f0f921\"]]}],\"heatmapgl\":[{\"type\":\"heatmapgl\",\"colorbar\":{\"outlinewidth\":0,\"ticks\":\"\"},\"colorscale\":[[0.0,\"#0d0887\"],[0.1111111111111111,\"#46039f\"],[0.2222222222222222,\"#7201a8\"],[0.3333333333333333,\"#9c179e\"],[0.4444444444444444,\"#bd3786\"],[0.5555555555555556,\"#d8576b\"],[0.6666666666666666,\"#ed7953\"],[0.7777777777777778,\"#fb9f3a\"],[0.8888888888888888,\"#fdca26\"],[1.0,\"#f0f921\"]]}],\"contourcarpet\":[{\"type\":\"contourcarpet\",\"colorbar\":{\"outlinewidth\":0,\"ticks\":\"\"}}],\"contour\":[{\"type\":\"contour\",\"colorbar\":{\"outlinewidth\":0,\"ticks\":\"\"},\"colorscale\":[[0.0,\"#0d0887\"],[0.1111111111111111,\"#46039f\"],[0.2222222222222222,\"#7201a8\"],[0.3333333333333333,\"#9c179e\"],[0.4444444444444444,\"#bd3786\"],[0.5555555555555556,\"#d8576b\"],[0.6666666666666666,\"#ed7953\"],[0.7777777777777778,\"#fb9f3a\"],[0.8888888888888888,\"#fdca26\"],[1.0,\"#f0f921\"]]}],\"surface\":[{\"type\":\"surface\",\"colorbar\":{\"outlinewidth\":0,\"ticks\":\"\"},\"colorscale\":[[0.0,\"#0d0887\"],[0.1111111111111111,\"#46039f\"],[0.2222222222222222,\"#7201a8\"],[0.3333333333333333,\"#9c179e\"],[0.4444444444444444,\"#bd3786\"],[0.5555555555555556,\"#d8576b\"],[0.6666666666666666,\"#ed7953\"],[0.7777777777777778,\"#fb9f3a\"],[0.8888888888888888,\"#fdca26\"],[1.0,\"#f0f921\"]]}],\"mesh3d\":[{\"type\":\"mesh3d\",\"colorbar\":{\"outlinewidth\":0,\"ticks\":\"\"}}],\"scatter\":[{\"fillpattern\":{\"fillmode\":\"overlay\",\"size\":10,\"solidity\":0.2},\"type\":\"scatter\"}],\"parcoords\":[{\"type\":\"parcoords\",\"line\":{\"colorbar\":{\"outlinewidth\":0,\"ticks\":\"\"}}}],\"scatterpolargl\":[{\"type\":\"scatterpolargl\",\"marker\":{\"colorbar\":{\"outlinewidth\":0,\"ticks\":\"\"}}}],\"bar\":[{\"error_x\":{\"color\":\"#2a3f5f\"},\"error_y\":{\"color\":\"#2a3f5f\"},\"marker\":{\"line\":{\"color\":\"#E5ECF6\",\"width\":0.5},\"pattern\":{\"fillmode\":\"overlay\",\"size\":10,\"solidity\":0.2}},\"type\":\"bar\"}],\"scattergeo\":[{\"type\":\"scattergeo\",\"marker\":{\"colorbar\":{\"outlinewidth\":0,\"ticks\":\"\"}}}],\"scatterpolar\":[{\"type\":\"scatterpolar\",\"marker\":{\"colorbar\":{\"outlinewidth\":0,\"ticks\":\"\"}}}],\"histogram\":[{\"marker\":{\"pattern\":{\"fillmode\":\"overlay\",\"size\":10,\"solidity\":0.2}},\"type\":\"histogram\"}],\"scattergl\":[{\"type\":\"scattergl\",\"marker\":{\"colorbar\":{\"outlinewidth\":0,\"ticks\":\"\"}}}],\"scatter3d\":[{\"type\":\"scatter3d\",\"line\":{\"colorbar\":{\"outlinewidth\":0,\"ticks\":\"\"}},\"marker\":{\"colorbar\":{\"outlinewidth\":0,\"ticks\":\"\"}}}],\"scattermapbox\":[{\"type\":\"scattermapbox\",\"marker\":{\"colorbar\":{\"outlinewidth\":0,\"ticks\":\"\"}}}],\"scatterternary\":[{\"type\":\"scatterternary\",\"marker\":{\"colorbar\":{\"outlinewidth\":0,\"ticks\":\"\"}}}],\"scattercarpet\":[{\"type\":\"scattercarpet\",\"marker\":{\"colorbar\":{\"outlinewidth\":0,\"ticks\":\"\"}}}],\"carpet\":[{\"aaxis\":{\"endlinecolor\":\"#2a3f5f\",\"gridcolor\":\"white\",\"linecolor\":\"white\",\"minorgridcolor\":\"white\",\"startlinecolor\":\"#2a3f5f\"},\"baxis\":{\"endlinecolor\":\"#2a3f5f\",\"gridcolor\":\"white\",\"linecolor\":\"white\",\"minorgridcolor\":\"white\",\"startlinecolor\":\"#2a3f5f\"},\"type\":\"carpet\"}],\"table\":[{\"cells\":{\"fill\":{\"color\":\"#EBF0F8\"},\"line\":{\"color\":\"white\"}},\"header\":{\"fill\":{\"color\":\"#C8D4E3\"},\"line\":{\"color\":\"white\"}},\"type\":\"table\"}],\"barpolar\":[{\"marker\":{\"line\":{\"color\":\"#E5ECF6\",\"width\":0.5},\"pattern\":{\"fillmode\":\"overlay\",\"size\":10,\"solidity\":0.2}},\"type\":\"barpolar\"}],\"pie\":[{\"automargin\":true,\"type\":\"pie\"}]},\"layout\":{\"autotypenumbers\":\"strict\",\"colorway\":[\"#636efa\",\"#EF553B\",\"#00cc96\",\"#ab63fa\",\"#FFA15A\",\"#19d3f3\",\"#FF6692\",\"#B6E880\",\"#FF97FF\",\"#FECB52\"],\"font\":{\"color\":\"#2a3f5f\"},\"hovermode\":\"closest\",\"hoverlabel\":{\"align\":\"left\"},\"paper_bgcolor\":\"white\",\"plot_bgcolor\":\"#E5ECF6\",\"polar\":{\"bgcolor\":\"#E5ECF6\",\"angularaxis\":{\"gridcolor\":\"white\",\"linecolor\":\"white\",\"ticks\":\"\"},\"radialaxis\":{\"gridcolor\":\"white\",\"linecolor\":\"white\",\"ticks\":\"\"}},\"ternary\":{\"bgcolor\":\"#E5ECF6\",\"aaxis\":{\"gridcolor\":\"white\",\"linecolor\":\"white\",\"ticks\":\"\"},\"baxis\":{\"gridcolor\":\"white\",\"linecolor\":\"white\",\"ticks\":\"\"},\"caxis\":{\"gridcolor\":\"white\",\"linecolor\":\"white\",\"ticks\":\"\"}},\"coloraxis\":{\"colorbar\":{\"outlinewidth\":0,\"ticks\":\"\"}},\"colorscale\":{\"sequential\":[[0.0,\"#0d0887\"],[0.1111111111111111,\"#46039f\"],[0.2222222222222222,\"#7201a8\"],[0.3333333333333333,\"#9c179e\"],[0.4444444444444444,\"#bd3786\"],[0.5555555555555556,\"#d8576b\"],[0.6666666666666666,\"#ed7953\"],[0.7777777777777778,\"#fb9f3a\"],[0.8888888888888888,\"#fdca26\"],[1.0,\"#f0f921\"]],\"sequentialminus\":[[0.0,\"#0d0887\"],[0.1111111111111111,\"#46039f\"],[0.2222222222222222,\"#7201a8\"],[0.3333333333333333,\"#9c179e\"],[0.4444444444444444,\"#bd3786\"],[0.5555555555555556,\"#d8576b\"],[0.6666666666666666,\"#ed7953\"],[0.7777777777777778,\"#fb9f3a\"],[0.8888888888888888,\"#fdca26\"],[1.0,\"#f0f921\"]],\"diverging\":[[0,\"#8e0152\"],[0.1,\"#c51b7d\"],[0.2,\"#de77ae\"],[0.3,\"#f1b6da\"],[0.4,\"#fde0ef\"],[0.5,\"#f7f7f7\"],[0.6,\"#e6f5d0\"],[0.7,\"#b8e186\"],[0.8,\"#7fbc41\"],[0.9,\"#4d9221\"],[1,\"#276419\"]]},\"xaxis\":{\"gridcolor\":\"white\",\"linecolor\":\"white\",\"ticks\":\"\",\"title\":{\"standoff\":15},\"zerolinecolor\":\"white\",\"automargin\":true,\"zerolinewidth\":2},\"yaxis\":{\"gridcolor\":\"white\",\"linecolor\":\"white\",\"ticks\":\"\",\"title\":{\"standoff\":15},\"zerolinecolor\":\"white\",\"automargin\":true,\"zerolinewidth\":2},\"scene\":{\"xaxis\":{\"backgroundcolor\":\"#E5ECF6\",\"gridcolor\":\"white\",\"linecolor\":\"white\",\"showbackground\":true,\"ticks\":\"\",\"zerolinecolor\":\"white\",\"gridwidth\":2},\"yaxis\":{\"backgroundcolor\":\"#E5ECF6\",\"gridcolor\":\"white\",\"linecolor\":\"white\",\"showbackground\":true,\"ticks\":\"\",\"zerolinecolor\":\"white\",\"gridwidth\":2},\"zaxis\":{\"backgroundcolor\":\"#E5ECF6\",\"gridcolor\":\"white\",\"linecolor\":\"white\",\"showbackground\":true,\"ticks\":\"\",\"zerolinecolor\":\"white\",\"gridwidth\":2}},\"shapedefaults\":{\"line\":{\"color\":\"#2a3f5f\"}},\"annotationdefaults\":{\"arrowcolor\":\"#2a3f5f\",\"arrowhead\":0,\"arrowwidth\":1},\"geo\":{\"bgcolor\":\"white\",\"landcolor\":\"#E5ECF6\",\"subunitcolor\":\"white\",\"showland\":true,\"showlakes\":true,\"lakecolor\":\"white\"},\"title\":{\"x\":0.05},\"mapbox\":{\"style\":\"light\"}}},\"yaxis\":{\"title\":{\"text\":\"Valor de Fechamento\"}},\"xaxis\":{\"title\":{\"text\":\"periodo\"}}},                        {\"responsive\": true}                    ).then(function(){\n",
       "                            \n",
       "var gd = document.getElementById('6d833db3-76be-4ce4-8d0d-79a4d3af9422');\n",
       "var x = new MutationObserver(function (mutations, observer) {{\n",
       "        var display = window.getComputedStyle(gd).display;\n",
       "        if (!display || display === 'none') {{\n",
       "            console.log([gd, 'removed!']);\n",
       "            Plotly.purge(gd);\n",
       "            observer.disconnect();\n",
       "        }}\n",
       "}});\n",
       "\n",
       "// Listen for the removal of the full notebook cells\n",
       "var notebookContainer = gd.closest('#notebook-container');\n",
       "if (notebookContainer) {{\n",
       "    x.observe(notebookContainer, {childList: true});\n",
       "}}\n",
       "\n",
       "// Listen for the clearing of the current output cell\n",
       "var outputEl = gd.closest('.output');\n",
       "if (outputEl) {{\n",
       "    x.observe(outputEl, {childList: true});\n",
       "}}\n",
       "\n",
       "                        })                };                });            </script>        </div>"
      ]
     },
     "metadata": {},
     "output_type": "display_data"
    }
   ],
   "source": [
    "import plotly.graph_objs as go\n",
    "fig = go.Figure()\n",
    "\n",
    "fig.add_trace(go.Scatter(\n",
    "   y=bova11['close'][-100:],\n",
    "   name=\"Real\")\n",
    ")\n",
    "\n",
    "fig.add_trace(go.Scatter(\n",
    "   y=pred_90_lstm['close'][-100:],\n",
    "   name=\"LSTM\")\n",
    ")\n",
    "\n",
    "fig.add_trace(go.Scatter(\n",
    "   y=pred_90_gru.close[-100:],\n",
    "   name=\"GRU\")\n",
    ")\n",
    "\n",
    "fig.update_layout(\n",
    "   #title=\"Banda de Bollinger superior e inferior dos ultimos 60 dias de fechamento de 2009 a Fev 2023\",\n",
    "    yaxis_title=\"Valor de Fechamento\",\n",
    "    xaxis_title=\"periodo\",\n",
    "   #legend_title=\"legend\",\n",
    ")\n",
    "fig.show()"
   ]
  },
  {
   "cell_type": "code",
   "execution_count": 200,
   "id": "0af3f134",
   "metadata": {},
   "outputs": [
    {
     "data": {
      "application/vnd.plotly.v1+json": {
       "config": {
        "plotlyServerURL": "https://plot.ly"
       },
       "data": [
        {
         "name": "Real",
         "type": "scatter",
         "y": [
          105.69000244140625,
          104.8499984741211,
          106.08000183105469,
          105.06999969482422,
          105.23999786376953,
          108.19999694824219,
          105.06999969482422,
          105.1500015258789,
          107.29000091552734,
          108.58000183105469,
          107.05999755859375,
          107.94999694824219,
          105.62999725341797,
          106.73999786376953,
          105.58999633789062,
          103.56999969482422,
          103.9000015258789,
          101.80000305175781,
          100.30000305175781,
          100.69999694824219,
          100.5,
          99.4000015258789,
          101.37000274658203,
          103.55000305175781,
          103.87000274658203,
          103.93000030517578,
          106,
          105.1500015258789,
          104.9000015258789,
          106.80000305175781,
          105.94999694824219,
          102.62999725341797,
          100.4800033569336,
          101.91999816894531,
          104.2699966430664,
          105.5,
          105.3499984741211,
          107.18000030517578,
          109.0999984741211,
          108.26000213623047,
          107.3499984741211,
          105.47000122070312,
          107.80000305175781,
          108.33000183105469,
          109.11000061035156,
          108.44999694824219,
          107.9000015258789,
          109.43000030517578,
          110.6500015258789,
          110.41999816894531
         ]
        },
        {
         "name": "LSTM",
         "type": "scatter",
         "y": [
          105.69000244140625,
          104.8499984741211,
          106.08000183105469,
          105.06999969482422,
          105.23999786376953,
          108.19999694824219,
          105.06999969482422,
          105.1500015258789,
          107.29000091552734,
          108.58000183105469,
          107.05999755859375,
          107.94999694824219,
          105.62999725341797,
          106.73999786376953,
          105.58999633789062,
          103.56999969482422,
          103.9000015258789,
          101.80000305175781,
          100.30000305175781,
          100.69999694824219,
          102.01905561992669,
          102.26450237282171,
          102.64276499671479,
          102.97358777312661,
          103.27846906608363,
          103.60263182071083,
          103.93838740446643,
          104.22093999301865,
          104.4555138112479,
          104.64053866420795,
          104.73372574224538,
          104.79067857588814,
          104.8461064574899,
          105.00846461492961,
          105.16584073009926,
          105.26603247440528,
          105.3909507970933,
          105.59536888831292,
          105.81952619294975,
          106.07809205768785,
          106.36085223133466,
          106.5942444113332,
          106.84873575325321,
          107.02739200196527,
          107.22569697828408,
          107.38771182191351,
          107.52037732678536,
          107.65952587384197,
          107.7270415951823,
          107.72863574225482
         ]
        },
        {
         "name": "GRU",
         "type": "scatter",
         "y": [
          105.69000244140625,
          104.8499984741211,
          106.08000183105469,
          105.06999969482422,
          105.23999786376953,
          108.19999694824219,
          105.06999969482422,
          105.1500015258789,
          107.29000091552734,
          108.58000183105469,
          107.05999755859375,
          107.94999694824219,
          105.62999725341797,
          106.73999786376953,
          105.58999633789062,
          103.56999969482422,
          103.9000015258789,
          101.80000305175781,
          100.30000305175781,
          100.69999694824219,
          102.43580398808649,
          103.20836385375571,
          103.8484950744687,
          104.35427615742685,
          104.76026735953133,
          105.09341482286777,
          105.44721966446286,
          105.59796370199524,
          105.56415926774616,
          105.29182359173387,
          104.65221399510472,
          103.99767690109695,
          103.66351812576124,
          104.00820785262613,
          104.57156452451079,
          104.81130667932575,
          104.78908176746825,
          104.77795201278161,
          104.85490221053612,
          105.11947473628038,
          105.37806987583951,
          105.43586103390271,
          105.37810447335528,
          105.29921149202323,
          105.21573034783137,
          105.09265900021569,
          104.65556729278649,
          104.00557578008068,
          103.21060736958566,
          102.4788645884762
         ]
        }
       ],
       "layout": {
        "template": {
         "data": {
          "bar": [
           {
            "error_x": {
             "color": "#2a3f5f"
            },
            "error_y": {
             "color": "#2a3f5f"
            },
            "marker": {
             "line": {
              "color": "#E5ECF6",
              "width": 0.5
             },
             "pattern": {
              "fillmode": "overlay",
              "size": 10,
              "solidity": 0.2
             }
            },
            "type": "bar"
           }
          ],
          "barpolar": [
           {
            "marker": {
             "line": {
              "color": "#E5ECF6",
              "width": 0.5
             },
             "pattern": {
              "fillmode": "overlay",
              "size": 10,
              "solidity": 0.2
             }
            },
            "type": "barpolar"
           }
          ],
          "carpet": [
           {
            "aaxis": {
             "endlinecolor": "#2a3f5f",
             "gridcolor": "white",
             "linecolor": "white",
             "minorgridcolor": "white",
             "startlinecolor": "#2a3f5f"
            },
            "baxis": {
             "endlinecolor": "#2a3f5f",
             "gridcolor": "white",
             "linecolor": "white",
             "minorgridcolor": "white",
             "startlinecolor": "#2a3f5f"
            },
            "type": "carpet"
           }
          ],
          "choropleth": [
           {
            "colorbar": {
             "outlinewidth": 0,
             "ticks": ""
            },
            "type": "choropleth"
           }
          ],
          "contour": [
           {
            "colorbar": {
             "outlinewidth": 0,
             "ticks": ""
            },
            "colorscale": [
             [
              0,
              "#0d0887"
             ],
             [
              0.1111111111111111,
              "#46039f"
             ],
             [
              0.2222222222222222,
              "#7201a8"
             ],
             [
              0.3333333333333333,
              "#9c179e"
             ],
             [
              0.4444444444444444,
              "#bd3786"
             ],
             [
              0.5555555555555556,
              "#d8576b"
             ],
             [
              0.6666666666666666,
              "#ed7953"
             ],
             [
              0.7777777777777778,
              "#fb9f3a"
             ],
             [
              0.8888888888888888,
              "#fdca26"
             ],
             [
              1,
              "#f0f921"
             ]
            ],
            "type": "contour"
           }
          ],
          "contourcarpet": [
           {
            "colorbar": {
             "outlinewidth": 0,
             "ticks": ""
            },
            "type": "contourcarpet"
           }
          ],
          "heatmap": [
           {
            "colorbar": {
             "outlinewidth": 0,
             "ticks": ""
            },
            "colorscale": [
             [
              0,
              "#0d0887"
             ],
             [
              0.1111111111111111,
              "#46039f"
             ],
             [
              0.2222222222222222,
              "#7201a8"
             ],
             [
              0.3333333333333333,
              "#9c179e"
             ],
             [
              0.4444444444444444,
              "#bd3786"
             ],
             [
              0.5555555555555556,
              "#d8576b"
             ],
             [
              0.6666666666666666,
              "#ed7953"
             ],
             [
              0.7777777777777778,
              "#fb9f3a"
             ],
             [
              0.8888888888888888,
              "#fdca26"
             ],
             [
              1,
              "#f0f921"
             ]
            ],
            "type": "heatmap"
           }
          ],
          "heatmapgl": [
           {
            "colorbar": {
             "outlinewidth": 0,
             "ticks": ""
            },
            "colorscale": [
             [
              0,
              "#0d0887"
             ],
             [
              0.1111111111111111,
              "#46039f"
             ],
             [
              0.2222222222222222,
              "#7201a8"
             ],
             [
              0.3333333333333333,
              "#9c179e"
             ],
             [
              0.4444444444444444,
              "#bd3786"
             ],
             [
              0.5555555555555556,
              "#d8576b"
             ],
             [
              0.6666666666666666,
              "#ed7953"
             ],
             [
              0.7777777777777778,
              "#fb9f3a"
             ],
             [
              0.8888888888888888,
              "#fdca26"
             ],
             [
              1,
              "#f0f921"
             ]
            ],
            "type": "heatmapgl"
           }
          ],
          "histogram": [
           {
            "marker": {
             "pattern": {
              "fillmode": "overlay",
              "size": 10,
              "solidity": 0.2
             }
            },
            "type": "histogram"
           }
          ],
          "histogram2d": [
           {
            "colorbar": {
             "outlinewidth": 0,
             "ticks": ""
            },
            "colorscale": [
             [
              0,
              "#0d0887"
             ],
             [
              0.1111111111111111,
              "#46039f"
             ],
             [
              0.2222222222222222,
              "#7201a8"
             ],
             [
              0.3333333333333333,
              "#9c179e"
             ],
             [
              0.4444444444444444,
              "#bd3786"
             ],
             [
              0.5555555555555556,
              "#d8576b"
             ],
             [
              0.6666666666666666,
              "#ed7953"
             ],
             [
              0.7777777777777778,
              "#fb9f3a"
             ],
             [
              0.8888888888888888,
              "#fdca26"
             ],
             [
              1,
              "#f0f921"
             ]
            ],
            "type": "histogram2d"
           }
          ],
          "histogram2dcontour": [
           {
            "colorbar": {
             "outlinewidth": 0,
             "ticks": ""
            },
            "colorscale": [
             [
              0,
              "#0d0887"
             ],
             [
              0.1111111111111111,
              "#46039f"
             ],
             [
              0.2222222222222222,
              "#7201a8"
             ],
             [
              0.3333333333333333,
              "#9c179e"
             ],
             [
              0.4444444444444444,
              "#bd3786"
             ],
             [
              0.5555555555555556,
              "#d8576b"
             ],
             [
              0.6666666666666666,
              "#ed7953"
             ],
             [
              0.7777777777777778,
              "#fb9f3a"
             ],
             [
              0.8888888888888888,
              "#fdca26"
             ],
             [
              1,
              "#f0f921"
             ]
            ],
            "type": "histogram2dcontour"
           }
          ],
          "mesh3d": [
           {
            "colorbar": {
             "outlinewidth": 0,
             "ticks": ""
            },
            "type": "mesh3d"
           }
          ],
          "parcoords": [
           {
            "line": {
             "colorbar": {
              "outlinewidth": 0,
              "ticks": ""
             }
            },
            "type": "parcoords"
           }
          ],
          "pie": [
           {
            "automargin": true,
            "type": "pie"
           }
          ],
          "scatter": [
           {
            "fillpattern": {
             "fillmode": "overlay",
             "size": 10,
             "solidity": 0.2
            },
            "type": "scatter"
           }
          ],
          "scatter3d": [
           {
            "line": {
             "colorbar": {
              "outlinewidth": 0,
              "ticks": ""
             }
            },
            "marker": {
             "colorbar": {
              "outlinewidth": 0,
              "ticks": ""
             }
            },
            "type": "scatter3d"
           }
          ],
          "scattercarpet": [
           {
            "marker": {
             "colorbar": {
              "outlinewidth": 0,
              "ticks": ""
             }
            },
            "type": "scattercarpet"
           }
          ],
          "scattergeo": [
           {
            "marker": {
             "colorbar": {
              "outlinewidth": 0,
              "ticks": ""
             }
            },
            "type": "scattergeo"
           }
          ],
          "scattergl": [
           {
            "marker": {
             "colorbar": {
              "outlinewidth": 0,
              "ticks": ""
             }
            },
            "type": "scattergl"
           }
          ],
          "scattermapbox": [
           {
            "marker": {
             "colorbar": {
              "outlinewidth": 0,
              "ticks": ""
             }
            },
            "type": "scattermapbox"
           }
          ],
          "scatterpolar": [
           {
            "marker": {
             "colorbar": {
              "outlinewidth": 0,
              "ticks": ""
             }
            },
            "type": "scatterpolar"
           }
          ],
          "scatterpolargl": [
           {
            "marker": {
             "colorbar": {
              "outlinewidth": 0,
              "ticks": ""
             }
            },
            "type": "scatterpolargl"
           }
          ],
          "scatterternary": [
           {
            "marker": {
             "colorbar": {
              "outlinewidth": 0,
              "ticks": ""
             }
            },
            "type": "scatterternary"
           }
          ],
          "surface": [
           {
            "colorbar": {
             "outlinewidth": 0,
             "ticks": ""
            },
            "colorscale": [
             [
              0,
              "#0d0887"
             ],
             [
              0.1111111111111111,
              "#46039f"
             ],
             [
              0.2222222222222222,
              "#7201a8"
             ],
             [
              0.3333333333333333,
              "#9c179e"
             ],
             [
              0.4444444444444444,
              "#bd3786"
             ],
             [
              0.5555555555555556,
              "#d8576b"
             ],
             [
              0.6666666666666666,
              "#ed7953"
             ],
             [
              0.7777777777777778,
              "#fb9f3a"
             ],
             [
              0.8888888888888888,
              "#fdca26"
             ],
             [
              1,
              "#f0f921"
             ]
            ],
            "type": "surface"
           }
          ],
          "table": [
           {
            "cells": {
             "fill": {
              "color": "#EBF0F8"
             },
             "line": {
              "color": "white"
             }
            },
            "header": {
             "fill": {
              "color": "#C8D4E3"
             },
             "line": {
              "color": "white"
             }
            },
            "type": "table"
           }
          ]
         },
         "layout": {
          "annotationdefaults": {
           "arrowcolor": "#2a3f5f",
           "arrowhead": 0,
           "arrowwidth": 1
          },
          "autotypenumbers": "strict",
          "coloraxis": {
           "colorbar": {
            "outlinewidth": 0,
            "ticks": ""
           }
          },
          "colorscale": {
           "diverging": [
            [
             0,
             "#8e0152"
            ],
            [
             0.1,
             "#c51b7d"
            ],
            [
             0.2,
             "#de77ae"
            ],
            [
             0.3,
             "#f1b6da"
            ],
            [
             0.4,
             "#fde0ef"
            ],
            [
             0.5,
             "#f7f7f7"
            ],
            [
             0.6,
             "#e6f5d0"
            ],
            [
             0.7,
             "#b8e186"
            ],
            [
             0.8,
             "#7fbc41"
            ],
            [
             0.9,
             "#4d9221"
            ],
            [
             1,
             "#276419"
            ]
           ],
           "sequential": [
            [
             0,
             "#0d0887"
            ],
            [
             0.1111111111111111,
             "#46039f"
            ],
            [
             0.2222222222222222,
             "#7201a8"
            ],
            [
             0.3333333333333333,
             "#9c179e"
            ],
            [
             0.4444444444444444,
             "#bd3786"
            ],
            [
             0.5555555555555556,
             "#d8576b"
            ],
            [
             0.6666666666666666,
             "#ed7953"
            ],
            [
             0.7777777777777778,
             "#fb9f3a"
            ],
            [
             0.8888888888888888,
             "#fdca26"
            ],
            [
             1,
             "#f0f921"
            ]
           ],
           "sequentialminus": [
            [
             0,
             "#0d0887"
            ],
            [
             0.1111111111111111,
             "#46039f"
            ],
            [
             0.2222222222222222,
             "#7201a8"
            ],
            [
             0.3333333333333333,
             "#9c179e"
            ],
            [
             0.4444444444444444,
             "#bd3786"
            ],
            [
             0.5555555555555556,
             "#d8576b"
            ],
            [
             0.6666666666666666,
             "#ed7953"
            ],
            [
             0.7777777777777778,
             "#fb9f3a"
            ],
            [
             0.8888888888888888,
             "#fdca26"
            ],
            [
             1,
             "#f0f921"
            ]
           ]
          },
          "colorway": [
           "#636efa",
           "#EF553B",
           "#00cc96",
           "#ab63fa",
           "#FFA15A",
           "#19d3f3",
           "#FF6692",
           "#B6E880",
           "#FF97FF",
           "#FECB52"
          ],
          "font": {
           "color": "#2a3f5f"
          },
          "geo": {
           "bgcolor": "white",
           "lakecolor": "white",
           "landcolor": "#E5ECF6",
           "showlakes": true,
           "showland": true,
           "subunitcolor": "white"
          },
          "hoverlabel": {
           "align": "left"
          },
          "hovermode": "closest",
          "mapbox": {
           "style": "light"
          },
          "paper_bgcolor": "white",
          "plot_bgcolor": "#E5ECF6",
          "polar": {
           "angularaxis": {
            "gridcolor": "white",
            "linecolor": "white",
            "ticks": ""
           },
           "bgcolor": "#E5ECF6",
           "radialaxis": {
            "gridcolor": "white",
            "linecolor": "white",
            "ticks": ""
           }
          },
          "scene": {
           "xaxis": {
            "backgroundcolor": "#E5ECF6",
            "gridcolor": "white",
            "gridwidth": 2,
            "linecolor": "white",
            "showbackground": true,
            "ticks": "",
            "zerolinecolor": "white"
           },
           "yaxis": {
            "backgroundcolor": "#E5ECF6",
            "gridcolor": "white",
            "gridwidth": 2,
            "linecolor": "white",
            "showbackground": true,
            "ticks": "",
            "zerolinecolor": "white"
           },
           "zaxis": {
            "backgroundcolor": "#E5ECF6",
            "gridcolor": "white",
            "gridwidth": 2,
            "linecolor": "white",
            "showbackground": true,
            "ticks": "",
            "zerolinecolor": "white"
           }
          },
          "shapedefaults": {
           "line": {
            "color": "#2a3f5f"
           }
          },
          "ternary": {
           "aaxis": {
            "gridcolor": "white",
            "linecolor": "white",
            "ticks": ""
           },
           "baxis": {
            "gridcolor": "white",
            "linecolor": "white",
            "ticks": ""
           },
           "bgcolor": "#E5ECF6",
           "caxis": {
            "gridcolor": "white",
            "linecolor": "white",
            "ticks": ""
           }
          },
          "title": {
           "x": 0.05
          },
          "xaxis": {
           "automargin": true,
           "gridcolor": "white",
           "linecolor": "white",
           "ticks": "",
           "title": {
            "standoff": 15
           },
           "zerolinecolor": "white",
           "zerolinewidth": 2
          },
          "yaxis": {
           "automargin": true,
           "gridcolor": "white",
           "linecolor": "white",
           "ticks": "",
           "title": {
            "standoff": 15
           },
           "zerolinecolor": "white",
           "zerolinewidth": 2
          }
         }
        },
        "xaxis": {
         "title": {
          "text": "periodo"
         }
        },
        "yaxis": {
         "title": {
          "text": "Valor de Fechamento"
         }
        }
       }
      },
      "text/html": [
       "<div>                            <div id=\"036eb88d-d1f8-46ee-92f6-047af835b991\" class=\"plotly-graph-div\" style=\"height:525px; width:100%;\"></div>            <script type=\"text/javascript\">                require([\"plotly\"], function(Plotly) {                    window.PLOTLYENV=window.PLOTLYENV || {};                                    if (document.getElementById(\"036eb88d-d1f8-46ee-92f6-047af835b991\")) {                    Plotly.newPlot(                        \"036eb88d-d1f8-46ee-92f6-047af835b991\",                        [{\"name\":\"Real\",\"y\":[105.69000244140625,104.8499984741211,106.08000183105469,105.06999969482422,105.23999786376953,108.19999694824219,105.06999969482422,105.1500015258789,107.29000091552734,108.58000183105469,107.05999755859375,107.94999694824219,105.62999725341797,106.73999786376953,105.58999633789062,103.56999969482422,103.9000015258789,101.80000305175781,100.30000305175781,100.69999694824219,100.5,99.4000015258789,101.37000274658203,103.55000305175781,103.87000274658203,103.93000030517578,106.0,105.1500015258789,104.9000015258789,106.80000305175781,105.94999694824219,102.62999725341797,100.4800033569336,101.91999816894531,104.2699966430664,105.5,105.3499984741211,107.18000030517578,109.0999984741211,108.26000213623047,107.3499984741211,105.47000122070312,107.80000305175781,108.33000183105469,109.11000061035156,108.44999694824219,107.9000015258789,109.43000030517578,110.6500015258789,110.41999816894531],\"type\":\"scatter\"},{\"name\":\"LSTM\",\"y\":[105.69000244140625,104.8499984741211,106.08000183105469,105.06999969482422,105.23999786376953,108.19999694824219,105.06999969482422,105.1500015258789,107.29000091552734,108.58000183105469,107.05999755859375,107.94999694824219,105.62999725341797,106.73999786376953,105.58999633789062,103.56999969482422,103.9000015258789,101.80000305175781,100.30000305175781,100.69999694824219,102.01905561992669,102.26450237282171,102.64276499671479,102.97358777312661,103.27846906608363,103.60263182071083,103.93838740446643,104.22093999301865,104.4555138112479,104.64053866420795,104.73372574224538,104.79067857588814,104.8461064574899,105.00846461492961,105.16584073009926,105.26603247440528,105.3909507970933,105.59536888831292,105.81952619294975,106.07809205768785,106.36085223133466,106.5942444113332,106.84873575325321,107.02739200196527,107.22569697828408,107.38771182191351,107.52037732678536,107.65952587384197,107.7270415951823,107.72863574225482],\"type\":\"scatter\"},{\"name\":\"GRU\",\"y\":[105.69000244140625,104.8499984741211,106.08000183105469,105.06999969482422,105.23999786376953,108.19999694824219,105.06999969482422,105.1500015258789,107.29000091552734,108.58000183105469,107.05999755859375,107.94999694824219,105.62999725341797,106.73999786376953,105.58999633789062,103.56999969482422,103.9000015258789,101.80000305175781,100.30000305175781,100.69999694824219,102.43580398808649,103.20836385375571,103.8484950744687,104.35427615742685,104.76026735953133,105.09341482286777,105.44721966446286,105.59796370199524,105.56415926774616,105.29182359173387,104.65221399510472,103.99767690109695,103.66351812576124,104.00820785262613,104.57156452451079,104.81130667932575,104.78908176746825,104.77795201278161,104.85490221053612,105.11947473628038,105.37806987583951,105.43586103390271,105.37810447335528,105.29921149202323,105.21573034783137,105.09265900021569,104.65556729278649,104.00557578008068,103.21060736958566,102.4788645884762],\"type\":\"scatter\"}],                        {\"template\":{\"data\":{\"histogram2dcontour\":[{\"type\":\"histogram2dcontour\",\"colorbar\":{\"outlinewidth\":0,\"ticks\":\"\"},\"colorscale\":[[0.0,\"#0d0887\"],[0.1111111111111111,\"#46039f\"],[0.2222222222222222,\"#7201a8\"],[0.3333333333333333,\"#9c179e\"],[0.4444444444444444,\"#bd3786\"],[0.5555555555555556,\"#d8576b\"],[0.6666666666666666,\"#ed7953\"],[0.7777777777777778,\"#fb9f3a\"],[0.8888888888888888,\"#fdca26\"],[1.0,\"#f0f921\"]]}],\"choropleth\":[{\"type\":\"choropleth\",\"colorbar\":{\"outlinewidth\":0,\"ticks\":\"\"}}],\"histogram2d\":[{\"type\":\"histogram2d\",\"colorbar\":{\"outlinewidth\":0,\"ticks\":\"\"},\"colorscale\":[[0.0,\"#0d0887\"],[0.1111111111111111,\"#46039f\"],[0.2222222222222222,\"#7201a8\"],[0.3333333333333333,\"#9c179e\"],[0.4444444444444444,\"#bd3786\"],[0.5555555555555556,\"#d8576b\"],[0.6666666666666666,\"#ed7953\"],[0.7777777777777778,\"#fb9f3a\"],[0.8888888888888888,\"#fdca26\"],[1.0,\"#f0f921\"]]}],\"heatmap\":[{\"type\":\"heatmap\",\"colorbar\":{\"outlinewidth\":0,\"ticks\":\"\"},\"colorscale\":[[0.0,\"#0d0887\"],[0.1111111111111111,\"#46039f\"],[0.2222222222222222,\"#7201a8\"],[0.3333333333333333,\"#9c179e\"],[0.4444444444444444,\"#bd3786\"],[0.5555555555555556,\"#d8576b\"],[0.6666666666666666,\"#ed7953\"],[0.7777777777777778,\"#fb9f3a\"],[0.8888888888888888,\"#fdca26\"],[1.0,\"#f0f921\"]]}],\"heatmapgl\":[{\"type\":\"heatmapgl\",\"colorbar\":{\"outlinewidth\":0,\"ticks\":\"\"},\"colorscale\":[[0.0,\"#0d0887\"],[0.1111111111111111,\"#46039f\"],[0.2222222222222222,\"#7201a8\"],[0.3333333333333333,\"#9c179e\"],[0.4444444444444444,\"#bd3786\"],[0.5555555555555556,\"#d8576b\"],[0.6666666666666666,\"#ed7953\"],[0.7777777777777778,\"#fb9f3a\"],[0.8888888888888888,\"#fdca26\"],[1.0,\"#f0f921\"]]}],\"contourcarpet\":[{\"type\":\"contourcarpet\",\"colorbar\":{\"outlinewidth\":0,\"ticks\":\"\"}}],\"contour\":[{\"type\":\"contour\",\"colorbar\":{\"outlinewidth\":0,\"ticks\":\"\"},\"colorscale\":[[0.0,\"#0d0887\"],[0.1111111111111111,\"#46039f\"],[0.2222222222222222,\"#7201a8\"],[0.3333333333333333,\"#9c179e\"],[0.4444444444444444,\"#bd3786\"],[0.5555555555555556,\"#d8576b\"],[0.6666666666666666,\"#ed7953\"],[0.7777777777777778,\"#fb9f3a\"],[0.8888888888888888,\"#fdca26\"],[1.0,\"#f0f921\"]]}],\"surface\":[{\"type\":\"surface\",\"colorbar\":{\"outlinewidth\":0,\"ticks\":\"\"},\"colorscale\":[[0.0,\"#0d0887\"],[0.1111111111111111,\"#46039f\"],[0.2222222222222222,\"#7201a8\"],[0.3333333333333333,\"#9c179e\"],[0.4444444444444444,\"#bd3786\"],[0.5555555555555556,\"#d8576b\"],[0.6666666666666666,\"#ed7953\"],[0.7777777777777778,\"#fb9f3a\"],[0.8888888888888888,\"#fdca26\"],[1.0,\"#f0f921\"]]}],\"mesh3d\":[{\"type\":\"mesh3d\",\"colorbar\":{\"outlinewidth\":0,\"ticks\":\"\"}}],\"scatter\":[{\"fillpattern\":{\"fillmode\":\"overlay\",\"size\":10,\"solidity\":0.2},\"type\":\"scatter\"}],\"parcoords\":[{\"type\":\"parcoords\",\"line\":{\"colorbar\":{\"outlinewidth\":0,\"ticks\":\"\"}}}],\"scatterpolargl\":[{\"type\":\"scatterpolargl\",\"marker\":{\"colorbar\":{\"outlinewidth\":0,\"ticks\":\"\"}}}],\"bar\":[{\"error_x\":{\"color\":\"#2a3f5f\"},\"error_y\":{\"color\":\"#2a3f5f\"},\"marker\":{\"line\":{\"color\":\"#E5ECF6\",\"width\":0.5},\"pattern\":{\"fillmode\":\"overlay\",\"size\":10,\"solidity\":0.2}},\"type\":\"bar\"}],\"scattergeo\":[{\"type\":\"scattergeo\",\"marker\":{\"colorbar\":{\"outlinewidth\":0,\"ticks\":\"\"}}}],\"scatterpolar\":[{\"type\":\"scatterpolar\",\"marker\":{\"colorbar\":{\"outlinewidth\":0,\"ticks\":\"\"}}}],\"histogram\":[{\"marker\":{\"pattern\":{\"fillmode\":\"overlay\",\"size\":10,\"solidity\":0.2}},\"type\":\"histogram\"}],\"scattergl\":[{\"type\":\"scattergl\",\"marker\":{\"colorbar\":{\"outlinewidth\":0,\"ticks\":\"\"}}}],\"scatter3d\":[{\"type\":\"scatter3d\",\"line\":{\"colorbar\":{\"outlinewidth\":0,\"ticks\":\"\"}},\"marker\":{\"colorbar\":{\"outlinewidth\":0,\"ticks\":\"\"}}}],\"scattermapbox\":[{\"type\":\"scattermapbox\",\"marker\":{\"colorbar\":{\"outlinewidth\":0,\"ticks\":\"\"}}}],\"scatterternary\":[{\"type\":\"scatterternary\",\"marker\":{\"colorbar\":{\"outlinewidth\":0,\"ticks\":\"\"}}}],\"scattercarpet\":[{\"type\":\"scattercarpet\",\"marker\":{\"colorbar\":{\"outlinewidth\":0,\"ticks\":\"\"}}}],\"carpet\":[{\"aaxis\":{\"endlinecolor\":\"#2a3f5f\",\"gridcolor\":\"white\",\"linecolor\":\"white\",\"minorgridcolor\":\"white\",\"startlinecolor\":\"#2a3f5f\"},\"baxis\":{\"endlinecolor\":\"#2a3f5f\",\"gridcolor\":\"white\",\"linecolor\":\"white\",\"minorgridcolor\":\"white\",\"startlinecolor\":\"#2a3f5f\"},\"type\":\"carpet\"}],\"table\":[{\"cells\":{\"fill\":{\"color\":\"#EBF0F8\"},\"line\":{\"color\":\"white\"}},\"header\":{\"fill\":{\"color\":\"#C8D4E3\"},\"line\":{\"color\":\"white\"}},\"type\":\"table\"}],\"barpolar\":[{\"marker\":{\"line\":{\"color\":\"#E5ECF6\",\"width\":0.5},\"pattern\":{\"fillmode\":\"overlay\",\"size\":10,\"solidity\":0.2}},\"type\":\"barpolar\"}],\"pie\":[{\"automargin\":true,\"type\":\"pie\"}]},\"layout\":{\"autotypenumbers\":\"strict\",\"colorway\":[\"#636efa\",\"#EF553B\",\"#00cc96\",\"#ab63fa\",\"#FFA15A\",\"#19d3f3\",\"#FF6692\",\"#B6E880\",\"#FF97FF\",\"#FECB52\"],\"font\":{\"color\":\"#2a3f5f\"},\"hovermode\":\"closest\",\"hoverlabel\":{\"align\":\"left\"},\"paper_bgcolor\":\"white\",\"plot_bgcolor\":\"#E5ECF6\",\"polar\":{\"bgcolor\":\"#E5ECF6\",\"angularaxis\":{\"gridcolor\":\"white\",\"linecolor\":\"white\",\"ticks\":\"\"},\"radialaxis\":{\"gridcolor\":\"white\",\"linecolor\":\"white\",\"ticks\":\"\"}},\"ternary\":{\"bgcolor\":\"#E5ECF6\",\"aaxis\":{\"gridcolor\":\"white\",\"linecolor\":\"white\",\"ticks\":\"\"},\"baxis\":{\"gridcolor\":\"white\",\"linecolor\":\"white\",\"ticks\":\"\"},\"caxis\":{\"gridcolor\":\"white\",\"linecolor\":\"white\",\"ticks\":\"\"}},\"coloraxis\":{\"colorbar\":{\"outlinewidth\":0,\"ticks\":\"\"}},\"colorscale\":{\"sequential\":[[0.0,\"#0d0887\"],[0.1111111111111111,\"#46039f\"],[0.2222222222222222,\"#7201a8\"],[0.3333333333333333,\"#9c179e\"],[0.4444444444444444,\"#bd3786\"],[0.5555555555555556,\"#d8576b\"],[0.6666666666666666,\"#ed7953\"],[0.7777777777777778,\"#fb9f3a\"],[0.8888888888888888,\"#fdca26\"],[1.0,\"#f0f921\"]],\"sequentialminus\":[[0.0,\"#0d0887\"],[0.1111111111111111,\"#46039f\"],[0.2222222222222222,\"#7201a8\"],[0.3333333333333333,\"#9c179e\"],[0.4444444444444444,\"#bd3786\"],[0.5555555555555556,\"#d8576b\"],[0.6666666666666666,\"#ed7953\"],[0.7777777777777778,\"#fb9f3a\"],[0.8888888888888888,\"#fdca26\"],[1.0,\"#f0f921\"]],\"diverging\":[[0,\"#8e0152\"],[0.1,\"#c51b7d\"],[0.2,\"#de77ae\"],[0.3,\"#f1b6da\"],[0.4,\"#fde0ef\"],[0.5,\"#f7f7f7\"],[0.6,\"#e6f5d0\"],[0.7,\"#b8e186\"],[0.8,\"#7fbc41\"],[0.9,\"#4d9221\"],[1,\"#276419\"]]},\"xaxis\":{\"gridcolor\":\"white\",\"linecolor\":\"white\",\"ticks\":\"\",\"title\":{\"standoff\":15},\"zerolinecolor\":\"white\",\"automargin\":true,\"zerolinewidth\":2},\"yaxis\":{\"gridcolor\":\"white\",\"linecolor\":\"white\",\"ticks\":\"\",\"title\":{\"standoff\":15},\"zerolinecolor\":\"white\",\"automargin\":true,\"zerolinewidth\":2},\"scene\":{\"xaxis\":{\"backgroundcolor\":\"#E5ECF6\",\"gridcolor\":\"white\",\"linecolor\":\"white\",\"showbackground\":true,\"ticks\":\"\",\"zerolinecolor\":\"white\",\"gridwidth\":2},\"yaxis\":{\"backgroundcolor\":\"#E5ECF6\",\"gridcolor\":\"white\",\"linecolor\":\"white\",\"showbackground\":true,\"ticks\":\"\",\"zerolinecolor\":\"white\",\"gridwidth\":2},\"zaxis\":{\"backgroundcolor\":\"#E5ECF6\",\"gridcolor\":\"white\",\"linecolor\":\"white\",\"showbackground\":true,\"ticks\":\"\",\"zerolinecolor\":\"white\",\"gridwidth\":2}},\"shapedefaults\":{\"line\":{\"color\":\"#2a3f5f\"}},\"annotationdefaults\":{\"arrowcolor\":\"#2a3f5f\",\"arrowhead\":0,\"arrowwidth\":1},\"geo\":{\"bgcolor\":\"white\",\"landcolor\":\"#E5ECF6\",\"subunitcolor\":\"white\",\"showland\":true,\"showlakes\":true,\"lakecolor\":\"white\"},\"title\":{\"x\":0.05},\"mapbox\":{\"style\":\"light\"}}},\"yaxis\":{\"title\":{\"text\":\"Valor de Fechamento\"}},\"xaxis\":{\"title\":{\"text\":\"periodo\"}}},                        {\"responsive\": true}                    ).then(function(){\n",
       "                            \n",
       "var gd = document.getElementById('036eb88d-d1f8-46ee-92f6-047af835b991');\n",
       "var x = new MutationObserver(function (mutations, observer) {{\n",
       "        var display = window.getComputedStyle(gd).display;\n",
       "        if (!display || display === 'none') {{\n",
       "            console.log([gd, 'removed!']);\n",
       "            Plotly.purge(gd);\n",
       "            observer.disconnect();\n",
       "        }}\n",
       "}});\n",
       "\n",
       "// Listen for the removal of the full notebook cells\n",
       "var notebookContainer = gd.closest('#notebook-container');\n",
       "if (notebookContainer) {{\n",
       "    x.observe(notebookContainer, {childList: true});\n",
       "}}\n",
       "\n",
       "// Listen for the clearing of the current output cell\n",
       "var outputEl = gd.closest('.output');\n",
       "if (outputEl) {{\n",
       "    x.observe(outputEl, {childList: true});\n",
       "}}\n",
       "\n",
       "                        })                };                });            </script>        </div>"
      ]
     },
     "metadata": {},
     "output_type": "display_data"
    }
   ],
   "source": [
    "import plotly.graph_objs as go\n",
    "fig = go.Figure()\n",
    "\n",
    "fig.add_trace(go.Scatter(\n",
    "   y=bova11['close'][-50:],\n",
    "   name=\"Real\")\n",
    ")\n",
    "\n",
    "fig.add_trace(go.Scatter(\n",
    "   y=pred_30_lstm['close'][-50:],\n",
    "   name=\"LSTM\")\n",
    ")\n",
    "\n",
    "fig.add_trace(go.Scatter(\n",
    "   y=pred_30_gru.close[-50:],\n",
    "   name=\"GRU\")\n",
    ")\n",
    "\n",
    "fig.update_layout(\n",
    "   #title=\"Banda de Bollinger superior e inferior dos ultimos 60 dias de fechamento de 2009 a Fev 2023\",\n",
    "    yaxis_title=\"Valor de Fechamento\",\n",
    "    xaxis_title=\"periodo\",\n",
    "   #legend_title=\"legend\",\n",
    ")\n",
    "fig.show()"
   ]
  },
  {
   "cell_type": "code",
   "execution_count": 201,
   "id": "0d0fabde",
   "metadata": {},
   "outputs": [
    {
     "data": {
      "application/vnd.plotly.v1+json": {
       "config": {
        "plotlyServerURL": "https://plot.ly"
       },
       "data": [
        {
         "name": "Real",
         "type": "scatter",
         "y": [
          107.3499984741211,
          105.47000122070312,
          107.80000305175781,
          108.33000183105469,
          109.11000061035156,
          108.44999694824219,
          107.9000015258789,
          109.43000030517578,
          110.6500015258789,
          110.41999816894531
         ]
        },
        {
         "name": "LSTM",
         "type": "scatter",
         "y": [
          107.3499984741211,
          105.47000122070312,
          107.80000305175781,
          108.33000183105469,
          109.11000061035156,
          107.84999052081912,
          107.59484448744695,
          107.4616786492702,
          107.25777685943967,
          107.01664281995204
         ]
        },
        {
         "name": "GRU",
         "type": "scatter",
         "y": [
          107.3499984741211,
          105.47000122070312,
          107.80000305175781,
          108.33000183105469,
          109.11000061035156,
          108.04124824931148,
          107.63323442320848,
          107.3854257245257,
          107.01551707001602,
          106.69629377610102
         ]
        }
       ],
       "layout": {
        "template": {
         "data": {
          "bar": [
           {
            "error_x": {
             "color": "#2a3f5f"
            },
            "error_y": {
             "color": "#2a3f5f"
            },
            "marker": {
             "line": {
              "color": "#E5ECF6",
              "width": 0.5
             },
             "pattern": {
              "fillmode": "overlay",
              "size": 10,
              "solidity": 0.2
             }
            },
            "type": "bar"
           }
          ],
          "barpolar": [
           {
            "marker": {
             "line": {
              "color": "#E5ECF6",
              "width": 0.5
             },
             "pattern": {
              "fillmode": "overlay",
              "size": 10,
              "solidity": 0.2
             }
            },
            "type": "barpolar"
           }
          ],
          "carpet": [
           {
            "aaxis": {
             "endlinecolor": "#2a3f5f",
             "gridcolor": "white",
             "linecolor": "white",
             "minorgridcolor": "white",
             "startlinecolor": "#2a3f5f"
            },
            "baxis": {
             "endlinecolor": "#2a3f5f",
             "gridcolor": "white",
             "linecolor": "white",
             "minorgridcolor": "white",
             "startlinecolor": "#2a3f5f"
            },
            "type": "carpet"
           }
          ],
          "choropleth": [
           {
            "colorbar": {
             "outlinewidth": 0,
             "ticks": ""
            },
            "type": "choropleth"
           }
          ],
          "contour": [
           {
            "colorbar": {
             "outlinewidth": 0,
             "ticks": ""
            },
            "colorscale": [
             [
              0,
              "#0d0887"
             ],
             [
              0.1111111111111111,
              "#46039f"
             ],
             [
              0.2222222222222222,
              "#7201a8"
             ],
             [
              0.3333333333333333,
              "#9c179e"
             ],
             [
              0.4444444444444444,
              "#bd3786"
             ],
             [
              0.5555555555555556,
              "#d8576b"
             ],
             [
              0.6666666666666666,
              "#ed7953"
             ],
             [
              0.7777777777777778,
              "#fb9f3a"
             ],
             [
              0.8888888888888888,
              "#fdca26"
             ],
             [
              1,
              "#f0f921"
             ]
            ],
            "type": "contour"
           }
          ],
          "contourcarpet": [
           {
            "colorbar": {
             "outlinewidth": 0,
             "ticks": ""
            },
            "type": "contourcarpet"
           }
          ],
          "heatmap": [
           {
            "colorbar": {
             "outlinewidth": 0,
             "ticks": ""
            },
            "colorscale": [
             [
              0,
              "#0d0887"
             ],
             [
              0.1111111111111111,
              "#46039f"
             ],
             [
              0.2222222222222222,
              "#7201a8"
             ],
             [
              0.3333333333333333,
              "#9c179e"
             ],
             [
              0.4444444444444444,
              "#bd3786"
             ],
             [
              0.5555555555555556,
              "#d8576b"
             ],
             [
              0.6666666666666666,
              "#ed7953"
             ],
             [
              0.7777777777777778,
              "#fb9f3a"
             ],
             [
              0.8888888888888888,
              "#fdca26"
             ],
             [
              1,
              "#f0f921"
             ]
            ],
            "type": "heatmap"
           }
          ],
          "heatmapgl": [
           {
            "colorbar": {
             "outlinewidth": 0,
             "ticks": ""
            },
            "colorscale": [
             [
              0,
              "#0d0887"
             ],
             [
              0.1111111111111111,
              "#46039f"
             ],
             [
              0.2222222222222222,
              "#7201a8"
             ],
             [
              0.3333333333333333,
              "#9c179e"
             ],
             [
              0.4444444444444444,
              "#bd3786"
             ],
             [
              0.5555555555555556,
              "#d8576b"
             ],
             [
              0.6666666666666666,
              "#ed7953"
             ],
             [
              0.7777777777777778,
              "#fb9f3a"
             ],
             [
              0.8888888888888888,
              "#fdca26"
             ],
             [
              1,
              "#f0f921"
             ]
            ],
            "type": "heatmapgl"
           }
          ],
          "histogram": [
           {
            "marker": {
             "pattern": {
              "fillmode": "overlay",
              "size": 10,
              "solidity": 0.2
             }
            },
            "type": "histogram"
           }
          ],
          "histogram2d": [
           {
            "colorbar": {
             "outlinewidth": 0,
             "ticks": ""
            },
            "colorscale": [
             [
              0,
              "#0d0887"
             ],
             [
              0.1111111111111111,
              "#46039f"
             ],
             [
              0.2222222222222222,
              "#7201a8"
             ],
             [
              0.3333333333333333,
              "#9c179e"
             ],
             [
              0.4444444444444444,
              "#bd3786"
             ],
             [
              0.5555555555555556,
              "#d8576b"
             ],
             [
              0.6666666666666666,
              "#ed7953"
             ],
             [
              0.7777777777777778,
              "#fb9f3a"
             ],
             [
              0.8888888888888888,
              "#fdca26"
             ],
             [
              1,
              "#f0f921"
             ]
            ],
            "type": "histogram2d"
           }
          ],
          "histogram2dcontour": [
           {
            "colorbar": {
             "outlinewidth": 0,
             "ticks": ""
            },
            "colorscale": [
             [
              0,
              "#0d0887"
             ],
             [
              0.1111111111111111,
              "#46039f"
             ],
             [
              0.2222222222222222,
              "#7201a8"
             ],
             [
              0.3333333333333333,
              "#9c179e"
             ],
             [
              0.4444444444444444,
              "#bd3786"
             ],
             [
              0.5555555555555556,
              "#d8576b"
             ],
             [
              0.6666666666666666,
              "#ed7953"
             ],
             [
              0.7777777777777778,
              "#fb9f3a"
             ],
             [
              0.8888888888888888,
              "#fdca26"
             ],
             [
              1,
              "#f0f921"
             ]
            ],
            "type": "histogram2dcontour"
           }
          ],
          "mesh3d": [
           {
            "colorbar": {
             "outlinewidth": 0,
             "ticks": ""
            },
            "type": "mesh3d"
           }
          ],
          "parcoords": [
           {
            "line": {
             "colorbar": {
              "outlinewidth": 0,
              "ticks": ""
             }
            },
            "type": "parcoords"
           }
          ],
          "pie": [
           {
            "automargin": true,
            "type": "pie"
           }
          ],
          "scatter": [
           {
            "fillpattern": {
             "fillmode": "overlay",
             "size": 10,
             "solidity": 0.2
            },
            "type": "scatter"
           }
          ],
          "scatter3d": [
           {
            "line": {
             "colorbar": {
              "outlinewidth": 0,
              "ticks": ""
             }
            },
            "marker": {
             "colorbar": {
              "outlinewidth": 0,
              "ticks": ""
             }
            },
            "type": "scatter3d"
           }
          ],
          "scattercarpet": [
           {
            "marker": {
             "colorbar": {
              "outlinewidth": 0,
              "ticks": ""
             }
            },
            "type": "scattercarpet"
           }
          ],
          "scattergeo": [
           {
            "marker": {
             "colorbar": {
              "outlinewidth": 0,
              "ticks": ""
             }
            },
            "type": "scattergeo"
           }
          ],
          "scattergl": [
           {
            "marker": {
             "colorbar": {
              "outlinewidth": 0,
              "ticks": ""
             }
            },
            "type": "scattergl"
           }
          ],
          "scattermapbox": [
           {
            "marker": {
             "colorbar": {
              "outlinewidth": 0,
              "ticks": ""
             }
            },
            "type": "scattermapbox"
           }
          ],
          "scatterpolar": [
           {
            "marker": {
             "colorbar": {
              "outlinewidth": 0,
              "ticks": ""
             }
            },
            "type": "scatterpolar"
           }
          ],
          "scatterpolargl": [
           {
            "marker": {
             "colorbar": {
              "outlinewidth": 0,
              "ticks": ""
             }
            },
            "type": "scatterpolargl"
           }
          ],
          "scatterternary": [
           {
            "marker": {
             "colorbar": {
              "outlinewidth": 0,
              "ticks": ""
             }
            },
            "type": "scatterternary"
           }
          ],
          "surface": [
           {
            "colorbar": {
             "outlinewidth": 0,
             "ticks": ""
            },
            "colorscale": [
             [
              0,
              "#0d0887"
             ],
             [
              0.1111111111111111,
              "#46039f"
             ],
             [
              0.2222222222222222,
              "#7201a8"
             ],
             [
              0.3333333333333333,
              "#9c179e"
             ],
             [
              0.4444444444444444,
              "#bd3786"
             ],
             [
              0.5555555555555556,
              "#d8576b"
             ],
             [
              0.6666666666666666,
              "#ed7953"
             ],
             [
              0.7777777777777778,
              "#fb9f3a"
             ],
             [
              0.8888888888888888,
              "#fdca26"
             ],
             [
              1,
              "#f0f921"
             ]
            ],
            "type": "surface"
           }
          ],
          "table": [
           {
            "cells": {
             "fill": {
              "color": "#EBF0F8"
             },
             "line": {
              "color": "white"
             }
            },
            "header": {
             "fill": {
              "color": "#C8D4E3"
             },
             "line": {
              "color": "white"
             }
            },
            "type": "table"
           }
          ]
         },
         "layout": {
          "annotationdefaults": {
           "arrowcolor": "#2a3f5f",
           "arrowhead": 0,
           "arrowwidth": 1
          },
          "autotypenumbers": "strict",
          "coloraxis": {
           "colorbar": {
            "outlinewidth": 0,
            "ticks": ""
           }
          },
          "colorscale": {
           "diverging": [
            [
             0,
             "#8e0152"
            ],
            [
             0.1,
             "#c51b7d"
            ],
            [
             0.2,
             "#de77ae"
            ],
            [
             0.3,
             "#f1b6da"
            ],
            [
             0.4,
             "#fde0ef"
            ],
            [
             0.5,
             "#f7f7f7"
            ],
            [
             0.6,
             "#e6f5d0"
            ],
            [
             0.7,
             "#b8e186"
            ],
            [
             0.8,
             "#7fbc41"
            ],
            [
             0.9,
             "#4d9221"
            ],
            [
             1,
             "#276419"
            ]
           ],
           "sequential": [
            [
             0,
             "#0d0887"
            ],
            [
             0.1111111111111111,
             "#46039f"
            ],
            [
             0.2222222222222222,
             "#7201a8"
            ],
            [
             0.3333333333333333,
             "#9c179e"
            ],
            [
             0.4444444444444444,
             "#bd3786"
            ],
            [
             0.5555555555555556,
             "#d8576b"
            ],
            [
             0.6666666666666666,
             "#ed7953"
            ],
            [
             0.7777777777777778,
             "#fb9f3a"
            ],
            [
             0.8888888888888888,
             "#fdca26"
            ],
            [
             1,
             "#f0f921"
            ]
           ],
           "sequentialminus": [
            [
             0,
             "#0d0887"
            ],
            [
             0.1111111111111111,
             "#46039f"
            ],
            [
             0.2222222222222222,
             "#7201a8"
            ],
            [
             0.3333333333333333,
             "#9c179e"
            ],
            [
             0.4444444444444444,
             "#bd3786"
            ],
            [
             0.5555555555555556,
             "#d8576b"
            ],
            [
             0.6666666666666666,
             "#ed7953"
            ],
            [
             0.7777777777777778,
             "#fb9f3a"
            ],
            [
             0.8888888888888888,
             "#fdca26"
            ],
            [
             1,
             "#f0f921"
            ]
           ]
          },
          "colorway": [
           "#636efa",
           "#EF553B",
           "#00cc96",
           "#ab63fa",
           "#FFA15A",
           "#19d3f3",
           "#FF6692",
           "#B6E880",
           "#FF97FF",
           "#FECB52"
          ],
          "font": {
           "color": "#2a3f5f"
          },
          "geo": {
           "bgcolor": "white",
           "lakecolor": "white",
           "landcolor": "#E5ECF6",
           "showlakes": true,
           "showland": true,
           "subunitcolor": "white"
          },
          "hoverlabel": {
           "align": "left"
          },
          "hovermode": "closest",
          "mapbox": {
           "style": "light"
          },
          "paper_bgcolor": "white",
          "plot_bgcolor": "#E5ECF6",
          "polar": {
           "angularaxis": {
            "gridcolor": "white",
            "linecolor": "white",
            "ticks": ""
           },
           "bgcolor": "#E5ECF6",
           "radialaxis": {
            "gridcolor": "white",
            "linecolor": "white",
            "ticks": ""
           }
          },
          "scene": {
           "xaxis": {
            "backgroundcolor": "#E5ECF6",
            "gridcolor": "white",
            "gridwidth": 2,
            "linecolor": "white",
            "showbackground": true,
            "ticks": "",
            "zerolinecolor": "white"
           },
           "yaxis": {
            "backgroundcolor": "#E5ECF6",
            "gridcolor": "white",
            "gridwidth": 2,
            "linecolor": "white",
            "showbackground": true,
            "ticks": "",
            "zerolinecolor": "white"
           },
           "zaxis": {
            "backgroundcolor": "#E5ECF6",
            "gridcolor": "white",
            "gridwidth": 2,
            "linecolor": "white",
            "showbackground": true,
            "ticks": "",
            "zerolinecolor": "white"
           }
          },
          "shapedefaults": {
           "line": {
            "color": "#2a3f5f"
           }
          },
          "ternary": {
           "aaxis": {
            "gridcolor": "white",
            "linecolor": "white",
            "ticks": ""
           },
           "baxis": {
            "gridcolor": "white",
            "linecolor": "white",
            "ticks": ""
           },
           "bgcolor": "#E5ECF6",
           "caxis": {
            "gridcolor": "white",
            "linecolor": "white",
            "ticks": ""
           }
          },
          "title": {
           "x": 0.05
          },
          "xaxis": {
           "automargin": true,
           "gridcolor": "white",
           "linecolor": "white",
           "ticks": "",
           "title": {
            "standoff": 15
           },
           "zerolinecolor": "white",
           "zerolinewidth": 2
          },
          "yaxis": {
           "automargin": true,
           "gridcolor": "white",
           "linecolor": "white",
           "ticks": "",
           "title": {
            "standoff": 15
           },
           "zerolinecolor": "white",
           "zerolinewidth": 2
          }
         }
        },
        "xaxis": {
         "title": {
          "text": "periodo"
         }
        },
        "yaxis": {
         "title": {
          "text": "Valor de Fechamento"
         }
        }
       }
      },
      "text/html": [
       "<div>                            <div id=\"4e035b70-4759-4194-a4d8-0a78d1eb9a4f\" class=\"plotly-graph-div\" style=\"height:525px; width:100%;\"></div>            <script type=\"text/javascript\">                require([\"plotly\"], function(Plotly) {                    window.PLOTLYENV=window.PLOTLYENV || {};                                    if (document.getElementById(\"4e035b70-4759-4194-a4d8-0a78d1eb9a4f\")) {                    Plotly.newPlot(                        \"4e035b70-4759-4194-a4d8-0a78d1eb9a4f\",                        [{\"name\":\"Real\",\"y\":[107.3499984741211,105.47000122070312,107.80000305175781,108.33000183105469,109.11000061035156,108.44999694824219,107.9000015258789,109.43000030517578,110.6500015258789,110.41999816894531],\"type\":\"scatter\"},{\"name\":\"LSTM\",\"y\":[107.3499984741211,105.47000122070312,107.80000305175781,108.33000183105469,109.11000061035156,107.84999052081912,107.59484448744695,107.4616786492702,107.25777685943967,107.01664281995204],\"type\":\"scatter\"},{\"name\":\"GRU\",\"y\":[107.3499984741211,105.47000122070312,107.80000305175781,108.33000183105469,109.11000061035156,108.04124824931148,107.63323442320848,107.3854257245257,107.01551707001602,106.69629377610102],\"type\":\"scatter\"}],                        {\"template\":{\"data\":{\"histogram2dcontour\":[{\"type\":\"histogram2dcontour\",\"colorbar\":{\"outlinewidth\":0,\"ticks\":\"\"},\"colorscale\":[[0.0,\"#0d0887\"],[0.1111111111111111,\"#46039f\"],[0.2222222222222222,\"#7201a8\"],[0.3333333333333333,\"#9c179e\"],[0.4444444444444444,\"#bd3786\"],[0.5555555555555556,\"#d8576b\"],[0.6666666666666666,\"#ed7953\"],[0.7777777777777778,\"#fb9f3a\"],[0.8888888888888888,\"#fdca26\"],[1.0,\"#f0f921\"]]}],\"choropleth\":[{\"type\":\"choropleth\",\"colorbar\":{\"outlinewidth\":0,\"ticks\":\"\"}}],\"histogram2d\":[{\"type\":\"histogram2d\",\"colorbar\":{\"outlinewidth\":0,\"ticks\":\"\"},\"colorscale\":[[0.0,\"#0d0887\"],[0.1111111111111111,\"#46039f\"],[0.2222222222222222,\"#7201a8\"],[0.3333333333333333,\"#9c179e\"],[0.4444444444444444,\"#bd3786\"],[0.5555555555555556,\"#d8576b\"],[0.6666666666666666,\"#ed7953\"],[0.7777777777777778,\"#fb9f3a\"],[0.8888888888888888,\"#fdca26\"],[1.0,\"#f0f921\"]]}],\"heatmap\":[{\"type\":\"heatmap\",\"colorbar\":{\"outlinewidth\":0,\"ticks\":\"\"},\"colorscale\":[[0.0,\"#0d0887\"],[0.1111111111111111,\"#46039f\"],[0.2222222222222222,\"#7201a8\"],[0.3333333333333333,\"#9c179e\"],[0.4444444444444444,\"#bd3786\"],[0.5555555555555556,\"#d8576b\"],[0.6666666666666666,\"#ed7953\"],[0.7777777777777778,\"#fb9f3a\"],[0.8888888888888888,\"#fdca26\"],[1.0,\"#f0f921\"]]}],\"heatmapgl\":[{\"type\":\"heatmapgl\",\"colorbar\":{\"outlinewidth\":0,\"ticks\":\"\"},\"colorscale\":[[0.0,\"#0d0887\"],[0.1111111111111111,\"#46039f\"],[0.2222222222222222,\"#7201a8\"],[0.3333333333333333,\"#9c179e\"],[0.4444444444444444,\"#bd3786\"],[0.5555555555555556,\"#d8576b\"],[0.6666666666666666,\"#ed7953\"],[0.7777777777777778,\"#fb9f3a\"],[0.8888888888888888,\"#fdca26\"],[1.0,\"#f0f921\"]]}],\"contourcarpet\":[{\"type\":\"contourcarpet\",\"colorbar\":{\"outlinewidth\":0,\"ticks\":\"\"}}],\"contour\":[{\"type\":\"contour\",\"colorbar\":{\"outlinewidth\":0,\"ticks\":\"\"},\"colorscale\":[[0.0,\"#0d0887\"],[0.1111111111111111,\"#46039f\"],[0.2222222222222222,\"#7201a8\"],[0.3333333333333333,\"#9c179e\"],[0.4444444444444444,\"#bd3786\"],[0.5555555555555556,\"#d8576b\"],[0.6666666666666666,\"#ed7953\"],[0.7777777777777778,\"#fb9f3a\"],[0.8888888888888888,\"#fdca26\"],[1.0,\"#f0f921\"]]}],\"surface\":[{\"type\":\"surface\",\"colorbar\":{\"outlinewidth\":0,\"ticks\":\"\"},\"colorscale\":[[0.0,\"#0d0887\"],[0.1111111111111111,\"#46039f\"],[0.2222222222222222,\"#7201a8\"],[0.3333333333333333,\"#9c179e\"],[0.4444444444444444,\"#bd3786\"],[0.5555555555555556,\"#d8576b\"],[0.6666666666666666,\"#ed7953\"],[0.7777777777777778,\"#fb9f3a\"],[0.8888888888888888,\"#fdca26\"],[1.0,\"#f0f921\"]]}],\"mesh3d\":[{\"type\":\"mesh3d\",\"colorbar\":{\"outlinewidth\":0,\"ticks\":\"\"}}],\"scatter\":[{\"fillpattern\":{\"fillmode\":\"overlay\",\"size\":10,\"solidity\":0.2},\"type\":\"scatter\"}],\"parcoords\":[{\"type\":\"parcoords\",\"line\":{\"colorbar\":{\"outlinewidth\":0,\"ticks\":\"\"}}}],\"scatterpolargl\":[{\"type\":\"scatterpolargl\",\"marker\":{\"colorbar\":{\"outlinewidth\":0,\"ticks\":\"\"}}}],\"bar\":[{\"error_x\":{\"color\":\"#2a3f5f\"},\"error_y\":{\"color\":\"#2a3f5f\"},\"marker\":{\"line\":{\"color\":\"#E5ECF6\",\"width\":0.5},\"pattern\":{\"fillmode\":\"overlay\",\"size\":10,\"solidity\":0.2}},\"type\":\"bar\"}],\"scattergeo\":[{\"type\":\"scattergeo\",\"marker\":{\"colorbar\":{\"outlinewidth\":0,\"ticks\":\"\"}}}],\"scatterpolar\":[{\"type\":\"scatterpolar\",\"marker\":{\"colorbar\":{\"outlinewidth\":0,\"ticks\":\"\"}}}],\"histogram\":[{\"marker\":{\"pattern\":{\"fillmode\":\"overlay\",\"size\":10,\"solidity\":0.2}},\"type\":\"histogram\"}],\"scattergl\":[{\"type\":\"scattergl\",\"marker\":{\"colorbar\":{\"outlinewidth\":0,\"ticks\":\"\"}}}],\"scatter3d\":[{\"type\":\"scatter3d\",\"line\":{\"colorbar\":{\"outlinewidth\":0,\"ticks\":\"\"}},\"marker\":{\"colorbar\":{\"outlinewidth\":0,\"ticks\":\"\"}}}],\"scattermapbox\":[{\"type\":\"scattermapbox\",\"marker\":{\"colorbar\":{\"outlinewidth\":0,\"ticks\":\"\"}}}],\"scatterternary\":[{\"type\":\"scatterternary\",\"marker\":{\"colorbar\":{\"outlinewidth\":0,\"ticks\":\"\"}}}],\"scattercarpet\":[{\"type\":\"scattercarpet\",\"marker\":{\"colorbar\":{\"outlinewidth\":0,\"ticks\":\"\"}}}],\"carpet\":[{\"aaxis\":{\"endlinecolor\":\"#2a3f5f\",\"gridcolor\":\"white\",\"linecolor\":\"white\",\"minorgridcolor\":\"white\",\"startlinecolor\":\"#2a3f5f\"},\"baxis\":{\"endlinecolor\":\"#2a3f5f\",\"gridcolor\":\"white\",\"linecolor\":\"white\",\"minorgridcolor\":\"white\",\"startlinecolor\":\"#2a3f5f\"},\"type\":\"carpet\"}],\"table\":[{\"cells\":{\"fill\":{\"color\":\"#EBF0F8\"},\"line\":{\"color\":\"white\"}},\"header\":{\"fill\":{\"color\":\"#C8D4E3\"},\"line\":{\"color\":\"white\"}},\"type\":\"table\"}],\"barpolar\":[{\"marker\":{\"line\":{\"color\":\"#E5ECF6\",\"width\":0.5},\"pattern\":{\"fillmode\":\"overlay\",\"size\":10,\"solidity\":0.2}},\"type\":\"barpolar\"}],\"pie\":[{\"automargin\":true,\"type\":\"pie\"}]},\"layout\":{\"autotypenumbers\":\"strict\",\"colorway\":[\"#636efa\",\"#EF553B\",\"#00cc96\",\"#ab63fa\",\"#FFA15A\",\"#19d3f3\",\"#FF6692\",\"#B6E880\",\"#FF97FF\",\"#FECB52\"],\"font\":{\"color\":\"#2a3f5f\"},\"hovermode\":\"closest\",\"hoverlabel\":{\"align\":\"left\"},\"paper_bgcolor\":\"white\",\"plot_bgcolor\":\"#E5ECF6\",\"polar\":{\"bgcolor\":\"#E5ECF6\",\"angularaxis\":{\"gridcolor\":\"white\",\"linecolor\":\"white\",\"ticks\":\"\"},\"radialaxis\":{\"gridcolor\":\"white\",\"linecolor\":\"white\",\"ticks\":\"\"}},\"ternary\":{\"bgcolor\":\"#E5ECF6\",\"aaxis\":{\"gridcolor\":\"white\",\"linecolor\":\"white\",\"ticks\":\"\"},\"baxis\":{\"gridcolor\":\"white\",\"linecolor\":\"white\",\"ticks\":\"\"},\"caxis\":{\"gridcolor\":\"white\",\"linecolor\":\"white\",\"ticks\":\"\"}},\"coloraxis\":{\"colorbar\":{\"outlinewidth\":0,\"ticks\":\"\"}},\"colorscale\":{\"sequential\":[[0.0,\"#0d0887\"],[0.1111111111111111,\"#46039f\"],[0.2222222222222222,\"#7201a8\"],[0.3333333333333333,\"#9c179e\"],[0.4444444444444444,\"#bd3786\"],[0.5555555555555556,\"#d8576b\"],[0.6666666666666666,\"#ed7953\"],[0.7777777777777778,\"#fb9f3a\"],[0.8888888888888888,\"#fdca26\"],[1.0,\"#f0f921\"]],\"sequentialminus\":[[0.0,\"#0d0887\"],[0.1111111111111111,\"#46039f\"],[0.2222222222222222,\"#7201a8\"],[0.3333333333333333,\"#9c179e\"],[0.4444444444444444,\"#bd3786\"],[0.5555555555555556,\"#d8576b\"],[0.6666666666666666,\"#ed7953\"],[0.7777777777777778,\"#fb9f3a\"],[0.8888888888888888,\"#fdca26\"],[1.0,\"#f0f921\"]],\"diverging\":[[0,\"#8e0152\"],[0.1,\"#c51b7d\"],[0.2,\"#de77ae\"],[0.3,\"#f1b6da\"],[0.4,\"#fde0ef\"],[0.5,\"#f7f7f7\"],[0.6,\"#e6f5d0\"],[0.7,\"#b8e186\"],[0.8,\"#7fbc41\"],[0.9,\"#4d9221\"],[1,\"#276419\"]]},\"xaxis\":{\"gridcolor\":\"white\",\"linecolor\":\"white\",\"ticks\":\"\",\"title\":{\"standoff\":15},\"zerolinecolor\":\"white\",\"automargin\":true,\"zerolinewidth\":2},\"yaxis\":{\"gridcolor\":\"white\",\"linecolor\":\"white\",\"ticks\":\"\",\"title\":{\"standoff\":15},\"zerolinecolor\":\"white\",\"automargin\":true,\"zerolinewidth\":2},\"scene\":{\"xaxis\":{\"backgroundcolor\":\"#E5ECF6\",\"gridcolor\":\"white\",\"linecolor\":\"white\",\"showbackground\":true,\"ticks\":\"\",\"zerolinecolor\":\"white\",\"gridwidth\":2},\"yaxis\":{\"backgroundcolor\":\"#E5ECF6\",\"gridcolor\":\"white\",\"linecolor\":\"white\",\"showbackground\":true,\"ticks\":\"\",\"zerolinecolor\":\"white\",\"gridwidth\":2},\"zaxis\":{\"backgroundcolor\":\"#E5ECF6\",\"gridcolor\":\"white\",\"linecolor\":\"white\",\"showbackground\":true,\"ticks\":\"\",\"zerolinecolor\":\"white\",\"gridwidth\":2}},\"shapedefaults\":{\"line\":{\"color\":\"#2a3f5f\"}},\"annotationdefaults\":{\"arrowcolor\":\"#2a3f5f\",\"arrowhead\":0,\"arrowwidth\":1},\"geo\":{\"bgcolor\":\"white\",\"landcolor\":\"#E5ECF6\",\"subunitcolor\":\"white\",\"showland\":true,\"showlakes\":true,\"lakecolor\":\"white\"},\"title\":{\"x\":0.05},\"mapbox\":{\"style\":\"light\"}}},\"yaxis\":{\"title\":{\"text\":\"Valor de Fechamento\"}},\"xaxis\":{\"title\":{\"text\":\"periodo\"}}},                        {\"responsive\": true}                    ).then(function(){\n",
       "                            \n",
       "var gd = document.getElementById('4e035b70-4759-4194-a4d8-0a78d1eb9a4f');\n",
       "var x = new MutationObserver(function (mutations, observer) {{\n",
       "        var display = window.getComputedStyle(gd).display;\n",
       "        if (!display || display === 'none') {{\n",
       "            console.log([gd, 'removed!']);\n",
       "            Plotly.purge(gd);\n",
       "            observer.disconnect();\n",
       "        }}\n",
       "}});\n",
       "\n",
       "// Listen for the removal of the full notebook cells\n",
       "var notebookContainer = gd.closest('#notebook-container');\n",
       "if (notebookContainer) {{\n",
       "    x.observe(notebookContainer, {childList: true});\n",
       "}}\n",
       "\n",
       "// Listen for the clearing of the current output cell\n",
       "var outputEl = gd.closest('.output');\n",
       "if (outputEl) {{\n",
       "    x.observe(outputEl, {childList: true});\n",
       "}}\n",
       "\n",
       "                        })                };                });            </script>        </div>"
      ]
     },
     "metadata": {},
     "output_type": "display_data"
    }
   ],
   "source": [
    "import plotly.graph_objs as go\n",
    "fig = go.Figure()\n",
    "\n",
    "fig.add_trace(go.Scatter(\n",
    "   y=bova11['close'][-10:],\n",
    "   name=\"Real\")\n",
    ")\n",
    "\n",
    "fig.add_trace(go.Scatter(\n",
    "   y=pred_5_lstm['close'][-10:],\n",
    "   name=\"LSTM\")\n",
    ")\n",
    "\n",
    "fig.add_trace(go.Scatter(\n",
    "   y=pred_5_gru.close[-10:],\n",
    "   name=\"GRU\")\n",
    ")\n",
    "\n",
    "fig.update_layout(\n",
    "   #title=\"Banda de Bollinger superior e inferior dos ultimos 60 dias de fechamento de 2009 a Fev 2023\",\n",
    "    yaxis_title=\"Valor de Fechamento\",\n",
    "    xaxis_title=\"periodo\",\n",
    "   #legend_title=\"legend\",\n",
    ")\n",
    "fig.show()"
   ]
  },
  {
   "cell_type": "code",
   "execution_count": 202,
   "id": "97132bc8",
   "metadata": {},
   "outputs": [
    {
     "data": {
      "application/vnd.plotly.v1+json": {
       "config": {
        "plotlyServerURL": "https://plot.ly"
       },
       "data": [
        {
         "name": "Real",
         "type": "scatter",
         "y": [
          107.3499984741211,
          105.47000122070312,
          107.80000305175781,
          108.33000183105469,
          109.11000061035156,
          108.44999694824219,
          107.9000015258789,
          109.43000030517578,
          110.6500015258789,
          110.41999816894531
         ]
        },
        {
         "name": "LSTM",
         "type": "scatter",
         "y": [
          107.3499984741211,
          105.47000122070312,
          107.80000305175781,
          108.33000183105469,
          109.11000061035156,
          108.44999694824219,
          107.9000015258789,
          109.43000030517578,
          110.6500015258789,
          108.39900253039843
         ]
        },
        {
         "name": "GRU",
         "type": "scatter",
         "y": [
          107.3499984741211,
          105.47000122070312,
          107.80000305175781,
          108.33000183105469,
          109.11000061035156,
          108.44999694824219,
          107.9000015258789,
          109.43000030517578,
          110.6500015258789,
          108.7463935248403
         ]
        }
       ],
       "layout": {
        "template": {
         "data": {
          "bar": [
           {
            "error_x": {
             "color": "#2a3f5f"
            },
            "error_y": {
             "color": "#2a3f5f"
            },
            "marker": {
             "line": {
              "color": "#E5ECF6",
              "width": 0.5
             },
             "pattern": {
              "fillmode": "overlay",
              "size": 10,
              "solidity": 0.2
             }
            },
            "type": "bar"
           }
          ],
          "barpolar": [
           {
            "marker": {
             "line": {
              "color": "#E5ECF6",
              "width": 0.5
             },
             "pattern": {
              "fillmode": "overlay",
              "size": 10,
              "solidity": 0.2
             }
            },
            "type": "barpolar"
           }
          ],
          "carpet": [
           {
            "aaxis": {
             "endlinecolor": "#2a3f5f",
             "gridcolor": "white",
             "linecolor": "white",
             "minorgridcolor": "white",
             "startlinecolor": "#2a3f5f"
            },
            "baxis": {
             "endlinecolor": "#2a3f5f",
             "gridcolor": "white",
             "linecolor": "white",
             "minorgridcolor": "white",
             "startlinecolor": "#2a3f5f"
            },
            "type": "carpet"
           }
          ],
          "choropleth": [
           {
            "colorbar": {
             "outlinewidth": 0,
             "ticks": ""
            },
            "type": "choropleth"
           }
          ],
          "contour": [
           {
            "colorbar": {
             "outlinewidth": 0,
             "ticks": ""
            },
            "colorscale": [
             [
              0,
              "#0d0887"
             ],
             [
              0.1111111111111111,
              "#46039f"
             ],
             [
              0.2222222222222222,
              "#7201a8"
             ],
             [
              0.3333333333333333,
              "#9c179e"
             ],
             [
              0.4444444444444444,
              "#bd3786"
             ],
             [
              0.5555555555555556,
              "#d8576b"
             ],
             [
              0.6666666666666666,
              "#ed7953"
             ],
             [
              0.7777777777777778,
              "#fb9f3a"
             ],
             [
              0.8888888888888888,
              "#fdca26"
             ],
             [
              1,
              "#f0f921"
             ]
            ],
            "type": "contour"
           }
          ],
          "contourcarpet": [
           {
            "colorbar": {
             "outlinewidth": 0,
             "ticks": ""
            },
            "type": "contourcarpet"
           }
          ],
          "heatmap": [
           {
            "colorbar": {
             "outlinewidth": 0,
             "ticks": ""
            },
            "colorscale": [
             [
              0,
              "#0d0887"
             ],
             [
              0.1111111111111111,
              "#46039f"
             ],
             [
              0.2222222222222222,
              "#7201a8"
             ],
             [
              0.3333333333333333,
              "#9c179e"
             ],
             [
              0.4444444444444444,
              "#bd3786"
             ],
             [
              0.5555555555555556,
              "#d8576b"
             ],
             [
              0.6666666666666666,
              "#ed7953"
             ],
             [
              0.7777777777777778,
              "#fb9f3a"
             ],
             [
              0.8888888888888888,
              "#fdca26"
             ],
             [
              1,
              "#f0f921"
             ]
            ],
            "type": "heatmap"
           }
          ],
          "heatmapgl": [
           {
            "colorbar": {
             "outlinewidth": 0,
             "ticks": ""
            },
            "colorscale": [
             [
              0,
              "#0d0887"
             ],
             [
              0.1111111111111111,
              "#46039f"
             ],
             [
              0.2222222222222222,
              "#7201a8"
             ],
             [
              0.3333333333333333,
              "#9c179e"
             ],
             [
              0.4444444444444444,
              "#bd3786"
             ],
             [
              0.5555555555555556,
              "#d8576b"
             ],
             [
              0.6666666666666666,
              "#ed7953"
             ],
             [
              0.7777777777777778,
              "#fb9f3a"
             ],
             [
              0.8888888888888888,
              "#fdca26"
             ],
             [
              1,
              "#f0f921"
             ]
            ],
            "type": "heatmapgl"
           }
          ],
          "histogram": [
           {
            "marker": {
             "pattern": {
              "fillmode": "overlay",
              "size": 10,
              "solidity": 0.2
             }
            },
            "type": "histogram"
           }
          ],
          "histogram2d": [
           {
            "colorbar": {
             "outlinewidth": 0,
             "ticks": ""
            },
            "colorscale": [
             [
              0,
              "#0d0887"
             ],
             [
              0.1111111111111111,
              "#46039f"
             ],
             [
              0.2222222222222222,
              "#7201a8"
             ],
             [
              0.3333333333333333,
              "#9c179e"
             ],
             [
              0.4444444444444444,
              "#bd3786"
             ],
             [
              0.5555555555555556,
              "#d8576b"
             ],
             [
              0.6666666666666666,
              "#ed7953"
             ],
             [
              0.7777777777777778,
              "#fb9f3a"
             ],
             [
              0.8888888888888888,
              "#fdca26"
             ],
             [
              1,
              "#f0f921"
             ]
            ],
            "type": "histogram2d"
           }
          ],
          "histogram2dcontour": [
           {
            "colorbar": {
             "outlinewidth": 0,
             "ticks": ""
            },
            "colorscale": [
             [
              0,
              "#0d0887"
             ],
             [
              0.1111111111111111,
              "#46039f"
             ],
             [
              0.2222222222222222,
              "#7201a8"
             ],
             [
              0.3333333333333333,
              "#9c179e"
             ],
             [
              0.4444444444444444,
              "#bd3786"
             ],
             [
              0.5555555555555556,
              "#d8576b"
             ],
             [
              0.6666666666666666,
              "#ed7953"
             ],
             [
              0.7777777777777778,
              "#fb9f3a"
             ],
             [
              0.8888888888888888,
              "#fdca26"
             ],
             [
              1,
              "#f0f921"
             ]
            ],
            "type": "histogram2dcontour"
           }
          ],
          "mesh3d": [
           {
            "colorbar": {
             "outlinewidth": 0,
             "ticks": ""
            },
            "type": "mesh3d"
           }
          ],
          "parcoords": [
           {
            "line": {
             "colorbar": {
              "outlinewidth": 0,
              "ticks": ""
             }
            },
            "type": "parcoords"
           }
          ],
          "pie": [
           {
            "automargin": true,
            "type": "pie"
           }
          ],
          "scatter": [
           {
            "fillpattern": {
             "fillmode": "overlay",
             "size": 10,
             "solidity": 0.2
            },
            "type": "scatter"
           }
          ],
          "scatter3d": [
           {
            "line": {
             "colorbar": {
              "outlinewidth": 0,
              "ticks": ""
             }
            },
            "marker": {
             "colorbar": {
              "outlinewidth": 0,
              "ticks": ""
             }
            },
            "type": "scatter3d"
           }
          ],
          "scattercarpet": [
           {
            "marker": {
             "colorbar": {
              "outlinewidth": 0,
              "ticks": ""
             }
            },
            "type": "scattercarpet"
           }
          ],
          "scattergeo": [
           {
            "marker": {
             "colorbar": {
              "outlinewidth": 0,
              "ticks": ""
             }
            },
            "type": "scattergeo"
           }
          ],
          "scattergl": [
           {
            "marker": {
             "colorbar": {
              "outlinewidth": 0,
              "ticks": ""
             }
            },
            "type": "scattergl"
           }
          ],
          "scattermapbox": [
           {
            "marker": {
             "colorbar": {
              "outlinewidth": 0,
              "ticks": ""
             }
            },
            "type": "scattermapbox"
           }
          ],
          "scatterpolar": [
           {
            "marker": {
             "colorbar": {
              "outlinewidth": 0,
              "ticks": ""
             }
            },
            "type": "scatterpolar"
           }
          ],
          "scatterpolargl": [
           {
            "marker": {
             "colorbar": {
              "outlinewidth": 0,
              "ticks": ""
             }
            },
            "type": "scatterpolargl"
           }
          ],
          "scatterternary": [
           {
            "marker": {
             "colorbar": {
              "outlinewidth": 0,
              "ticks": ""
             }
            },
            "type": "scatterternary"
           }
          ],
          "surface": [
           {
            "colorbar": {
             "outlinewidth": 0,
             "ticks": ""
            },
            "colorscale": [
             [
              0,
              "#0d0887"
             ],
             [
              0.1111111111111111,
              "#46039f"
             ],
             [
              0.2222222222222222,
              "#7201a8"
             ],
             [
              0.3333333333333333,
              "#9c179e"
             ],
             [
              0.4444444444444444,
              "#bd3786"
             ],
             [
              0.5555555555555556,
              "#d8576b"
             ],
             [
              0.6666666666666666,
              "#ed7953"
             ],
             [
              0.7777777777777778,
              "#fb9f3a"
             ],
             [
              0.8888888888888888,
              "#fdca26"
             ],
             [
              1,
              "#f0f921"
             ]
            ],
            "type": "surface"
           }
          ],
          "table": [
           {
            "cells": {
             "fill": {
              "color": "#EBF0F8"
             },
             "line": {
              "color": "white"
             }
            },
            "header": {
             "fill": {
              "color": "#C8D4E3"
             },
             "line": {
              "color": "white"
             }
            },
            "type": "table"
           }
          ]
         },
         "layout": {
          "annotationdefaults": {
           "arrowcolor": "#2a3f5f",
           "arrowhead": 0,
           "arrowwidth": 1
          },
          "autotypenumbers": "strict",
          "coloraxis": {
           "colorbar": {
            "outlinewidth": 0,
            "ticks": ""
           }
          },
          "colorscale": {
           "diverging": [
            [
             0,
             "#8e0152"
            ],
            [
             0.1,
             "#c51b7d"
            ],
            [
             0.2,
             "#de77ae"
            ],
            [
             0.3,
             "#f1b6da"
            ],
            [
             0.4,
             "#fde0ef"
            ],
            [
             0.5,
             "#f7f7f7"
            ],
            [
             0.6,
             "#e6f5d0"
            ],
            [
             0.7,
             "#b8e186"
            ],
            [
             0.8,
             "#7fbc41"
            ],
            [
             0.9,
             "#4d9221"
            ],
            [
             1,
             "#276419"
            ]
           ],
           "sequential": [
            [
             0,
             "#0d0887"
            ],
            [
             0.1111111111111111,
             "#46039f"
            ],
            [
             0.2222222222222222,
             "#7201a8"
            ],
            [
             0.3333333333333333,
             "#9c179e"
            ],
            [
             0.4444444444444444,
             "#bd3786"
            ],
            [
             0.5555555555555556,
             "#d8576b"
            ],
            [
             0.6666666666666666,
             "#ed7953"
            ],
            [
             0.7777777777777778,
             "#fb9f3a"
            ],
            [
             0.8888888888888888,
             "#fdca26"
            ],
            [
             1,
             "#f0f921"
            ]
           ],
           "sequentialminus": [
            [
             0,
             "#0d0887"
            ],
            [
             0.1111111111111111,
             "#46039f"
            ],
            [
             0.2222222222222222,
             "#7201a8"
            ],
            [
             0.3333333333333333,
             "#9c179e"
            ],
            [
             0.4444444444444444,
             "#bd3786"
            ],
            [
             0.5555555555555556,
             "#d8576b"
            ],
            [
             0.6666666666666666,
             "#ed7953"
            ],
            [
             0.7777777777777778,
             "#fb9f3a"
            ],
            [
             0.8888888888888888,
             "#fdca26"
            ],
            [
             1,
             "#f0f921"
            ]
           ]
          },
          "colorway": [
           "#636efa",
           "#EF553B",
           "#00cc96",
           "#ab63fa",
           "#FFA15A",
           "#19d3f3",
           "#FF6692",
           "#B6E880",
           "#FF97FF",
           "#FECB52"
          ],
          "font": {
           "color": "#2a3f5f"
          },
          "geo": {
           "bgcolor": "white",
           "lakecolor": "white",
           "landcolor": "#E5ECF6",
           "showlakes": true,
           "showland": true,
           "subunitcolor": "white"
          },
          "hoverlabel": {
           "align": "left"
          },
          "hovermode": "closest",
          "mapbox": {
           "style": "light"
          },
          "paper_bgcolor": "white",
          "plot_bgcolor": "#E5ECF6",
          "polar": {
           "angularaxis": {
            "gridcolor": "white",
            "linecolor": "white",
            "ticks": ""
           },
           "bgcolor": "#E5ECF6",
           "radialaxis": {
            "gridcolor": "white",
            "linecolor": "white",
            "ticks": ""
           }
          },
          "scene": {
           "xaxis": {
            "backgroundcolor": "#E5ECF6",
            "gridcolor": "white",
            "gridwidth": 2,
            "linecolor": "white",
            "showbackground": true,
            "ticks": "",
            "zerolinecolor": "white"
           },
           "yaxis": {
            "backgroundcolor": "#E5ECF6",
            "gridcolor": "white",
            "gridwidth": 2,
            "linecolor": "white",
            "showbackground": true,
            "ticks": "",
            "zerolinecolor": "white"
           },
           "zaxis": {
            "backgroundcolor": "#E5ECF6",
            "gridcolor": "white",
            "gridwidth": 2,
            "linecolor": "white",
            "showbackground": true,
            "ticks": "",
            "zerolinecolor": "white"
           }
          },
          "shapedefaults": {
           "line": {
            "color": "#2a3f5f"
           }
          },
          "ternary": {
           "aaxis": {
            "gridcolor": "white",
            "linecolor": "white",
            "ticks": ""
           },
           "baxis": {
            "gridcolor": "white",
            "linecolor": "white",
            "ticks": ""
           },
           "bgcolor": "#E5ECF6",
           "caxis": {
            "gridcolor": "white",
            "linecolor": "white",
            "ticks": ""
           }
          },
          "title": {
           "x": 0.05
          },
          "xaxis": {
           "automargin": true,
           "gridcolor": "white",
           "linecolor": "white",
           "ticks": "",
           "title": {
            "standoff": 15
           },
           "zerolinecolor": "white",
           "zerolinewidth": 2
          },
          "yaxis": {
           "automargin": true,
           "gridcolor": "white",
           "linecolor": "white",
           "ticks": "",
           "title": {
            "standoff": 15
           },
           "zerolinecolor": "white",
           "zerolinewidth": 2
          }
         }
        },
        "xaxis": {
         "title": {
          "text": "periodo"
         }
        },
        "yaxis": {
         "title": {
          "text": "Valor de Fechamento"
         }
        }
       }
      },
      "text/html": [
       "<div>                            <div id=\"d96a5791-4efb-4972-a914-8deb9d8eedac\" class=\"plotly-graph-div\" style=\"height:525px; width:100%;\"></div>            <script type=\"text/javascript\">                require([\"plotly\"], function(Plotly) {                    window.PLOTLYENV=window.PLOTLYENV || {};                                    if (document.getElementById(\"d96a5791-4efb-4972-a914-8deb9d8eedac\")) {                    Plotly.newPlot(                        \"d96a5791-4efb-4972-a914-8deb9d8eedac\",                        [{\"name\":\"Real\",\"y\":[107.3499984741211,105.47000122070312,107.80000305175781,108.33000183105469,109.11000061035156,108.44999694824219,107.9000015258789,109.43000030517578,110.6500015258789,110.41999816894531],\"type\":\"scatter\"},{\"name\":\"LSTM\",\"y\":[107.3499984741211,105.47000122070312,107.80000305175781,108.33000183105469,109.11000061035156,108.44999694824219,107.9000015258789,109.43000030517578,110.6500015258789,108.39900253039843],\"type\":\"scatter\"},{\"name\":\"GRU\",\"y\":[107.3499984741211,105.47000122070312,107.80000305175781,108.33000183105469,109.11000061035156,108.44999694824219,107.9000015258789,109.43000030517578,110.6500015258789,108.7463935248403],\"type\":\"scatter\"}],                        {\"template\":{\"data\":{\"histogram2dcontour\":[{\"type\":\"histogram2dcontour\",\"colorbar\":{\"outlinewidth\":0,\"ticks\":\"\"},\"colorscale\":[[0.0,\"#0d0887\"],[0.1111111111111111,\"#46039f\"],[0.2222222222222222,\"#7201a8\"],[0.3333333333333333,\"#9c179e\"],[0.4444444444444444,\"#bd3786\"],[0.5555555555555556,\"#d8576b\"],[0.6666666666666666,\"#ed7953\"],[0.7777777777777778,\"#fb9f3a\"],[0.8888888888888888,\"#fdca26\"],[1.0,\"#f0f921\"]]}],\"choropleth\":[{\"type\":\"choropleth\",\"colorbar\":{\"outlinewidth\":0,\"ticks\":\"\"}}],\"histogram2d\":[{\"type\":\"histogram2d\",\"colorbar\":{\"outlinewidth\":0,\"ticks\":\"\"},\"colorscale\":[[0.0,\"#0d0887\"],[0.1111111111111111,\"#46039f\"],[0.2222222222222222,\"#7201a8\"],[0.3333333333333333,\"#9c179e\"],[0.4444444444444444,\"#bd3786\"],[0.5555555555555556,\"#d8576b\"],[0.6666666666666666,\"#ed7953\"],[0.7777777777777778,\"#fb9f3a\"],[0.8888888888888888,\"#fdca26\"],[1.0,\"#f0f921\"]]}],\"heatmap\":[{\"type\":\"heatmap\",\"colorbar\":{\"outlinewidth\":0,\"ticks\":\"\"},\"colorscale\":[[0.0,\"#0d0887\"],[0.1111111111111111,\"#46039f\"],[0.2222222222222222,\"#7201a8\"],[0.3333333333333333,\"#9c179e\"],[0.4444444444444444,\"#bd3786\"],[0.5555555555555556,\"#d8576b\"],[0.6666666666666666,\"#ed7953\"],[0.7777777777777778,\"#fb9f3a\"],[0.8888888888888888,\"#fdca26\"],[1.0,\"#f0f921\"]]}],\"heatmapgl\":[{\"type\":\"heatmapgl\",\"colorbar\":{\"outlinewidth\":0,\"ticks\":\"\"},\"colorscale\":[[0.0,\"#0d0887\"],[0.1111111111111111,\"#46039f\"],[0.2222222222222222,\"#7201a8\"],[0.3333333333333333,\"#9c179e\"],[0.4444444444444444,\"#bd3786\"],[0.5555555555555556,\"#d8576b\"],[0.6666666666666666,\"#ed7953\"],[0.7777777777777778,\"#fb9f3a\"],[0.8888888888888888,\"#fdca26\"],[1.0,\"#f0f921\"]]}],\"contourcarpet\":[{\"type\":\"contourcarpet\",\"colorbar\":{\"outlinewidth\":0,\"ticks\":\"\"}}],\"contour\":[{\"type\":\"contour\",\"colorbar\":{\"outlinewidth\":0,\"ticks\":\"\"},\"colorscale\":[[0.0,\"#0d0887\"],[0.1111111111111111,\"#46039f\"],[0.2222222222222222,\"#7201a8\"],[0.3333333333333333,\"#9c179e\"],[0.4444444444444444,\"#bd3786\"],[0.5555555555555556,\"#d8576b\"],[0.6666666666666666,\"#ed7953\"],[0.7777777777777778,\"#fb9f3a\"],[0.8888888888888888,\"#fdca26\"],[1.0,\"#f0f921\"]]}],\"surface\":[{\"type\":\"surface\",\"colorbar\":{\"outlinewidth\":0,\"ticks\":\"\"},\"colorscale\":[[0.0,\"#0d0887\"],[0.1111111111111111,\"#46039f\"],[0.2222222222222222,\"#7201a8\"],[0.3333333333333333,\"#9c179e\"],[0.4444444444444444,\"#bd3786\"],[0.5555555555555556,\"#d8576b\"],[0.6666666666666666,\"#ed7953\"],[0.7777777777777778,\"#fb9f3a\"],[0.8888888888888888,\"#fdca26\"],[1.0,\"#f0f921\"]]}],\"mesh3d\":[{\"type\":\"mesh3d\",\"colorbar\":{\"outlinewidth\":0,\"ticks\":\"\"}}],\"scatter\":[{\"fillpattern\":{\"fillmode\":\"overlay\",\"size\":10,\"solidity\":0.2},\"type\":\"scatter\"}],\"parcoords\":[{\"type\":\"parcoords\",\"line\":{\"colorbar\":{\"outlinewidth\":0,\"ticks\":\"\"}}}],\"scatterpolargl\":[{\"type\":\"scatterpolargl\",\"marker\":{\"colorbar\":{\"outlinewidth\":0,\"ticks\":\"\"}}}],\"bar\":[{\"error_x\":{\"color\":\"#2a3f5f\"},\"error_y\":{\"color\":\"#2a3f5f\"},\"marker\":{\"line\":{\"color\":\"#E5ECF6\",\"width\":0.5},\"pattern\":{\"fillmode\":\"overlay\",\"size\":10,\"solidity\":0.2}},\"type\":\"bar\"}],\"scattergeo\":[{\"type\":\"scattergeo\",\"marker\":{\"colorbar\":{\"outlinewidth\":0,\"ticks\":\"\"}}}],\"scatterpolar\":[{\"type\":\"scatterpolar\",\"marker\":{\"colorbar\":{\"outlinewidth\":0,\"ticks\":\"\"}}}],\"histogram\":[{\"marker\":{\"pattern\":{\"fillmode\":\"overlay\",\"size\":10,\"solidity\":0.2}},\"type\":\"histogram\"}],\"scattergl\":[{\"type\":\"scattergl\",\"marker\":{\"colorbar\":{\"outlinewidth\":0,\"ticks\":\"\"}}}],\"scatter3d\":[{\"type\":\"scatter3d\",\"line\":{\"colorbar\":{\"outlinewidth\":0,\"ticks\":\"\"}},\"marker\":{\"colorbar\":{\"outlinewidth\":0,\"ticks\":\"\"}}}],\"scattermapbox\":[{\"type\":\"scattermapbox\",\"marker\":{\"colorbar\":{\"outlinewidth\":0,\"ticks\":\"\"}}}],\"scatterternary\":[{\"type\":\"scatterternary\",\"marker\":{\"colorbar\":{\"outlinewidth\":0,\"ticks\":\"\"}}}],\"scattercarpet\":[{\"type\":\"scattercarpet\",\"marker\":{\"colorbar\":{\"outlinewidth\":0,\"ticks\":\"\"}}}],\"carpet\":[{\"aaxis\":{\"endlinecolor\":\"#2a3f5f\",\"gridcolor\":\"white\",\"linecolor\":\"white\",\"minorgridcolor\":\"white\",\"startlinecolor\":\"#2a3f5f\"},\"baxis\":{\"endlinecolor\":\"#2a3f5f\",\"gridcolor\":\"white\",\"linecolor\":\"white\",\"minorgridcolor\":\"white\",\"startlinecolor\":\"#2a3f5f\"},\"type\":\"carpet\"}],\"table\":[{\"cells\":{\"fill\":{\"color\":\"#EBF0F8\"},\"line\":{\"color\":\"white\"}},\"header\":{\"fill\":{\"color\":\"#C8D4E3\"},\"line\":{\"color\":\"white\"}},\"type\":\"table\"}],\"barpolar\":[{\"marker\":{\"line\":{\"color\":\"#E5ECF6\",\"width\":0.5},\"pattern\":{\"fillmode\":\"overlay\",\"size\":10,\"solidity\":0.2}},\"type\":\"barpolar\"}],\"pie\":[{\"automargin\":true,\"type\":\"pie\"}]},\"layout\":{\"autotypenumbers\":\"strict\",\"colorway\":[\"#636efa\",\"#EF553B\",\"#00cc96\",\"#ab63fa\",\"#FFA15A\",\"#19d3f3\",\"#FF6692\",\"#B6E880\",\"#FF97FF\",\"#FECB52\"],\"font\":{\"color\":\"#2a3f5f\"},\"hovermode\":\"closest\",\"hoverlabel\":{\"align\":\"left\"},\"paper_bgcolor\":\"white\",\"plot_bgcolor\":\"#E5ECF6\",\"polar\":{\"bgcolor\":\"#E5ECF6\",\"angularaxis\":{\"gridcolor\":\"white\",\"linecolor\":\"white\",\"ticks\":\"\"},\"radialaxis\":{\"gridcolor\":\"white\",\"linecolor\":\"white\",\"ticks\":\"\"}},\"ternary\":{\"bgcolor\":\"#E5ECF6\",\"aaxis\":{\"gridcolor\":\"white\",\"linecolor\":\"white\",\"ticks\":\"\"},\"baxis\":{\"gridcolor\":\"white\",\"linecolor\":\"white\",\"ticks\":\"\"},\"caxis\":{\"gridcolor\":\"white\",\"linecolor\":\"white\",\"ticks\":\"\"}},\"coloraxis\":{\"colorbar\":{\"outlinewidth\":0,\"ticks\":\"\"}},\"colorscale\":{\"sequential\":[[0.0,\"#0d0887\"],[0.1111111111111111,\"#46039f\"],[0.2222222222222222,\"#7201a8\"],[0.3333333333333333,\"#9c179e\"],[0.4444444444444444,\"#bd3786\"],[0.5555555555555556,\"#d8576b\"],[0.6666666666666666,\"#ed7953\"],[0.7777777777777778,\"#fb9f3a\"],[0.8888888888888888,\"#fdca26\"],[1.0,\"#f0f921\"]],\"sequentialminus\":[[0.0,\"#0d0887\"],[0.1111111111111111,\"#46039f\"],[0.2222222222222222,\"#7201a8\"],[0.3333333333333333,\"#9c179e\"],[0.4444444444444444,\"#bd3786\"],[0.5555555555555556,\"#d8576b\"],[0.6666666666666666,\"#ed7953\"],[0.7777777777777778,\"#fb9f3a\"],[0.8888888888888888,\"#fdca26\"],[1.0,\"#f0f921\"]],\"diverging\":[[0,\"#8e0152\"],[0.1,\"#c51b7d\"],[0.2,\"#de77ae\"],[0.3,\"#f1b6da\"],[0.4,\"#fde0ef\"],[0.5,\"#f7f7f7\"],[0.6,\"#e6f5d0\"],[0.7,\"#b8e186\"],[0.8,\"#7fbc41\"],[0.9,\"#4d9221\"],[1,\"#276419\"]]},\"xaxis\":{\"gridcolor\":\"white\",\"linecolor\":\"white\",\"ticks\":\"\",\"title\":{\"standoff\":15},\"zerolinecolor\":\"white\",\"automargin\":true,\"zerolinewidth\":2},\"yaxis\":{\"gridcolor\":\"white\",\"linecolor\":\"white\",\"ticks\":\"\",\"title\":{\"standoff\":15},\"zerolinecolor\":\"white\",\"automargin\":true,\"zerolinewidth\":2},\"scene\":{\"xaxis\":{\"backgroundcolor\":\"#E5ECF6\",\"gridcolor\":\"white\",\"linecolor\":\"white\",\"showbackground\":true,\"ticks\":\"\",\"zerolinecolor\":\"white\",\"gridwidth\":2},\"yaxis\":{\"backgroundcolor\":\"#E5ECF6\",\"gridcolor\":\"white\",\"linecolor\":\"white\",\"showbackground\":true,\"ticks\":\"\",\"zerolinecolor\":\"white\",\"gridwidth\":2},\"zaxis\":{\"backgroundcolor\":\"#E5ECF6\",\"gridcolor\":\"white\",\"linecolor\":\"white\",\"showbackground\":true,\"ticks\":\"\",\"zerolinecolor\":\"white\",\"gridwidth\":2}},\"shapedefaults\":{\"line\":{\"color\":\"#2a3f5f\"}},\"annotationdefaults\":{\"arrowcolor\":\"#2a3f5f\",\"arrowhead\":0,\"arrowwidth\":1},\"geo\":{\"bgcolor\":\"white\",\"landcolor\":\"#E5ECF6\",\"subunitcolor\":\"white\",\"showland\":true,\"showlakes\":true,\"lakecolor\":\"white\"},\"title\":{\"x\":0.05},\"mapbox\":{\"style\":\"light\"}}},\"yaxis\":{\"title\":{\"text\":\"Valor de Fechamento\"}},\"xaxis\":{\"title\":{\"text\":\"periodo\"}}},                        {\"responsive\": true}                    ).then(function(){\n",
       "                            \n",
       "var gd = document.getElementById('d96a5791-4efb-4972-a914-8deb9d8eedac');\n",
       "var x = new MutationObserver(function (mutations, observer) {{\n",
       "        var display = window.getComputedStyle(gd).display;\n",
       "        if (!display || display === 'none') {{\n",
       "            console.log([gd, 'removed!']);\n",
       "            Plotly.purge(gd);\n",
       "            observer.disconnect();\n",
       "        }}\n",
       "}});\n",
       "\n",
       "// Listen for the removal of the full notebook cells\n",
       "var notebookContainer = gd.closest('#notebook-container');\n",
       "if (notebookContainer) {{\n",
       "    x.observe(notebookContainer, {childList: true});\n",
       "}}\n",
       "\n",
       "// Listen for the clearing of the current output cell\n",
       "var outputEl = gd.closest('.output');\n",
       "if (outputEl) {{\n",
       "    x.observe(outputEl, {childList: true});\n",
       "}}\n",
       "\n",
       "                        })                };                });            </script>        </div>"
      ]
     },
     "metadata": {},
     "output_type": "display_data"
    }
   ],
   "source": [
    "import plotly.graph_objs as go\n",
    "fig = go.Figure()\n",
    "\n",
    "fig.add_trace(go.Scatter(\n",
    "   y=bova11['close'][-10:],\n",
    "   name=\"Real\")\n",
    ")\n",
    "\n",
    "fig.add_trace(go.Scatter(\n",
    "   y=pred_1_lstm['close'][-10:],\n",
    "   name=\"LSTM\")\n",
    ")\n",
    "\n",
    "fig.add_trace(go.Scatter(\n",
    "   y=pred_1_gru.close[-10:],\n",
    "   name=\"GRU\")\n",
    ")\n",
    "\n",
    "fig.update_layout(\n",
    "   #title=\"Banda de Bollinger superior e inferior dos ultimos 60 dias de fechamento de 2009 a Fev 2023\",\n",
    "    yaxis_title=\"Valor de Fechamento\",\n",
    "    xaxis_title=\"periodo\",\n",
    "   #legend_title=\"legend\",\n",
    ")\n",
    "fig.show()"
   ]
  },
  {
   "cell_type": "code",
   "execution_count": 205,
   "id": "ff1e70c4",
   "metadata": {},
   "outputs": [
    {
     "data": {
      "text/html": [
       "<div>\n",
       "<style scoped>\n",
       "    .dataframe tbody tr th:only-of-type {\n",
       "        vertical-align: middle;\n",
       "    }\n",
       "\n",
       "    .dataframe tbody tr th {\n",
       "        vertical-align: top;\n",
       "    }\n",
       "\n",
       "    .dataframe thead th {\n",
       "        text-align: right;\n",
       "    }\n",
       "</style>\n",
       "<table border=\"1\" class=\"dataframe\">\n",
       "  <thead>\n",
       "    <tr style=\"text-align: right;\">\n",
       "      <th></th>\n",
       "      <th>open</th>\n",
       "      <th>high</th>\n",
       "      <th>low</th>\n",
       "      <th>close</th>\n",
       "      <th>close_change</th>\n",
       "      <th>ma_3d</th>\n",
       "      <th>ma_10d</th>\n",
       "      <th>ma_30d</th>\n",
       "      <th>ma_60d</th>\n",
       "      <th>std_7</th>\n",
       "      <th>...</th>\n",
       "      <th>std_60</th>\n",
       "      <th>upper3</th>\n",
       "      <th>lower3</th>\n",
       "      <th>upper30</th>\n",
       "      <th>lower30</th>\n",
       "      <th>upper60</th>\n",
       "      <th>lower60</th>\n",
       "      <th>RSI</th>\n",
       "      <th>target</th>\n",
       "      <th>targetNextClose</th>\n",
       "    </tr>\n",
       "  </thead>\n",
       "  <tbody>\n",
       "    <tr>\n",
       "      <th>0</th>\n",
       "      <td>38.279999</td>\n",
       "      <td>40.320000</td>\n",
       "      <td>37.939999</td>\n",
       "      <td>40.320000</td>\n",
       "      <td>0.000000</td>\n",
       "      <td>41.160000</td>\n",
       "      <td>41.496000</td>\n",
       "      <td>40.072667</td>\n",
       "      <td>40.216334</td>\n",
       "      <td>0.987387</td>\n",
       "      <td>...</td>\n",
       "      <td>1.394817</td>\n",
       "      <td>43.535879</td>\n",
       "      <td>38.784121</td>\n",
       "      <td>42.992476</td>\n",
       "      <td>37.152858</td>\n",
       "      <td>43.005967</td>\n",
       "      <td>37.426700</td>\n",
       "      <td>NaN</td>\n",
       "      <td>2.040001</td>\n",
       "      <td>42.000000</td>\n",
       "    </tr>\n",
       "    <tr>\n",
       "      <th>1</th>\n",
       "      <td>40.200001</td>\n",
       "      <td>42.000000</td>\n",
       "      <td>39.700001</td>\n",
       "      <td>42.000000</td>\n",
       "      <td>1.680000</td>\n",
       "      <td>41.546666</td>\n",
       "      <td>41.580000</td>\n",
       "      <td>39.948125</td>\n",
       "      <td>40.269033</td>\n",
       "      <td>0.941319</td>\n",
       "      <td>...</td>\n",
       "      <td>1.402411</td>\n",
       "      <td>43.695279</td>\n",
       "      <td>39.398054</td>\n",
       "      <td>42.939715</td>\n",
       "      <td>36.956536</td>\n",
       "      <td>43.073854</td>\n",
       "      <td>37.464211</td>\n",
       "      <td>NaN</td>\n",
       "      <td>1.799999</td>\n",
       "      <td>42.320000</td>\n",
       "    </tr>\n",
       "    <tr>\n",
       "      <th>2</th>\n",
       "      <td>42.060001</td>\n",
       "      <td>42.320000</td>\n",
       "      <td>41.549999</td>\n",
       "      <td>42.320000</td>\n",
       "      <td>0.320000</td>\n",
       "      <td>41.653333</td>\n",
       "      <td>41.311429</td>\n",
       "      <td>39.892353</td>\n",
       "      <td>40.322813</td>\n",
       "      <td>0.866718</td>\n",
       "      <td>...</td>\n",
       "      <td>1.412751</td>\n",
       "      <td>43.437411</td>\n",
       "      <td>39.869255</td>\n",
       "      <td>42.825231</td>\n",
       "      <td>36.959475</td>\n",
       "      <td>43.148315</td>\n",
       "      <td>37.497311</td>\n",
       "      <td>NaN</td>\n",
       "      <td>0.259998</td>\n",
       "      <td>40.639999</td>\n",
       "    </tr>\n",
       "    <tr>\n",
       "      <th>3</th>\n",
       "      <td>41.750000</td>\n",
       "      <td>41.770000</td>\n",
       "      <td>40.450001</td>\n",
       "      <td>40.639999</td>\n",
       "      <td>-1.680000</td>\n",
       "      <td>41.720000</td>\n",
       "      <td>41.147500</td>\n",
       "      <td>39.842223</td>\n",
       "      <td>40.313031</td>\n",
       "      <td>1.063445</td>\n",
       "      <td>...</td>\n",
       "      <td>1.391637</td>\n",
       "      <td>43.594461</td>\n",
       "      <td>39.845539</td>\n",
       "      <td>42.719153</td>\n",
       "      <td>36.965292</td>\n",
       "      <td>43.096304</td>\n",
       "      <td>37.529757</td>\n",
       "      <td>NaN</td>\n",
       "      <td>-1.110001</td>\n",
       "      <td>42.200001</td>\n",
       "    </tr>\n",
       "    <tr>\n",
       "      <th>4</th>\n",
       "      <td>40.150002</td>\n",
       "      <td>42.200001</td>\n",
       "      <td>40.150002</td>\n",
       "      <td>42.200001</td>\n",
       "      <td>1.560001</td>\n",
       "      <td>41.613333</td>\n",
       "      <td>40.801111</td>\n",
       "      <td>39.897895</td>\n",
       "      <td>40.303530</td>\n",
       "      <td>1.118613</td>\n",
       "      <td>...</td>\n",
       "      <td>1.371508</td>\n",
       "      <td>43.311019</td>\n",
       "      <td>39.915647</td>\n",
       "      <td>42.735582</td>\n",
       "      <td>37.060208</td>\n",
       "      <td>43.046547</td>\n",
       "      <td>37.560513</td>\n",
       "      <td>NaN</td>\n",
       "      <td>2.049999</td>\n",
       "      <td>42.000000</td>\n",
       "    </tr>\n",
       "    <tr>\n",
       "      <th>...</th>\n",
       "      <td>...</td>\n",
       "      <td>...</td>\n",
       "      <td>...</td>\n",
       "      <td>...</td>\n",
       "      <td>...</td>\n",
       "      <td>...</td>\n",
       "      <td>...</td>\n",
       "      <td>...</td>\n",
       "      <td>...</td>\n",
       "      <td>...</td>\n",
       "      <td>...</td>\n",
       "      <td>...</td>\n",
       "      <td>...</td>\n",
       "      <td>...</td>\n",
       "      <td>...</td>\n",
       "      <td>...</td>\n",
       "      <td>...</td>\n",
       "      <td>...</td>\n",
       "      <td>...</td>\n",
       "      <td>...</td>\n",
       "      <td>...</td>\n",
       "    </tr>\n",
       "    <tr>\n",
       "      <th>3394</th>\n",
       "      <td>109.110001</td>\n",
       "      <td>109.150002</td>\n",
       "      <td>108.010002</td>\n",
       "      <td>108.449997</td>\n",
       "      <td>-0.660004</td>\n",
       "      <td>108.486666</td>\n",
       "      <td>108.491000</td>\n",
       "      <td>107.002308</td>\n",
       "      <td>105.556098</td>\n",
       "      <td>1.005667</td>\n",
       "      <td>...</td>\n",
       "      <td>3.119512</td>\n",
       "      <td>109.698331</td>\n",
       "      <td>107.275002</td>\n",
       "      <td>112.218201</td>\n",
       "      <td>101.786414</td>\n",
       "      <td>111.795123</td>\n",
       "      <td>99.317073</td>\n",
       "      <td>56.314016</td>\n",
       "      <td>-0.660004</td>\n",
       "      <td>107.900002</td>\n",
       "    </tr>\n",
       "    <tr>\n",
       "      <th>3395</th>\n",
       "      <td>108.889999</td>\n",
       "      <td>109.330002</td>\n",
       "      <td>107.879997</td>\n",
       "      <td>107.900002</td>\n",
       "      <td>-0.549995</td>\n",
       "      <td>108.593333</td>\n",
       "      <td>108.596001</td>\n",
       "      <td>107.044400</td>\n",
       "      <td>105.605750</td>\n",
       "      <td>1.053531</td>\n",
       "      <td>...</td>\n",
       "      <td>3.142802</td>\n",
       "      <td>110.143343</td>\n",
       "      <td>107.043323</td>\n",
       "      <td>112.349790</td>\n",
       "      <td>101.739010</td>\n",
       "      <td>111.891355</td>\n",
       "      <td>99.320146</td>\n",
       "      <td>54.687174</td>\n",
       "      <td>-0.989998</td>\n",
       "      <td>109.430000</td>\n",
       "    </tr>\n",
       "    <tr>\n",
       "      <th>3396</th>\n",
       "      <td>108.709999</td>\n",
       "      <td>109.430000</td>\n",
       "      <td>107.970001</td>\n",
       "      <td>109.430000</td>\n",
       "      <td>1.529999</td>\n",
       "      <td>109.326668</td>\n",
       "      <td>108.919000</td>\n",
       "      <td>107.228333</td>\n",
       "      <td>105.649488</td>\n",
       "      <td>1.044363</td>\n",
       "      <td>...</td>\n",
       "      <td>3.171530</td>\n",
       "      <td>112.082486</td>\n",
       "      <td>106.570850</td>\n",
       "      <td>112.311709</td>\n",
       "      <td>102.144957</td>\n",
       "      <td>111.992548</td>\n",
       "      <td>99.306428</td>\n",
       "      <td>58.279485</td>\n",
       "      <td>0.720001</td>\n",
       "      <td>110.650002</td>\n",
       "    </tr>\n",
       "    <tr>\n",
       "      <th>3397</th>\n",
       "      <td>109.000000</td>\n",
       "      <td>110.680000</td>\n",
       "      <td>108.209999</td>\n",
       "      <td>110.650002</td>\n",
       "      <td>1.220001</td>\n",
       "      <td>110.166667</td>\n",
       "      <td>109.123000</td>\n",
       "      <td>107.521739</td>\n",
       "      <td>105.750790</td>\n",
       "      <td>1.061239</td>\n",
       "      <td>...</td>\n",
       "      <td>3.149510</td>\n",
       "      <td>111.463175</td>\n",
       "      <td>108.870158</td>\n",
       "      <td>111.808381</td>\n",
       "      <td>103.235097</td>\n",
       "      <td>112.049811</td>\n",
       "      <td>99.451769</td>\n",
       "      <td>60.925992</td>\n",
       "      <td>1.650002</td>\n",
       "      <td>110.419998</td>\n",
       "    </tr>\n",
       "    <tr>\n",
       "      <th>3398</th>\n",
       "      <td>110.699997</td>\n",
       "      <td>111.099998</td>\n",
       "      <td>109.860001</td>\n",
       "      <td>110.419998</td>\n",
       "      <td>-0.230003</td>\n",
       "      <td>109.823334</td>\n",
       "      <td>109.130000</td>\n",
       "      <td>107.776364</td>\n",
       "      <td>105.898108</td>\n",
       "      <td>1.041406</td>\n",
       "      <td>...</td>\n",
       "      <td>3.057342</td>\n",
       "      <td>112.299324</td>\n",
       "      <td>107.347344</td>\n",
       "      <td>111.382134</td>\n",
       "      <td>104.170593</td>\n",
       "      <td>112.012793</td>\n",
       "      <td>99.783424</td>\n",
       "      <td>60.155206</td>\n",
       "      <td>-0.279999</td>\n",
       "      <td>108.400002</td>\n",
       "    </tr>\n",
       "  </tbody>\n",
       "</table>\n",
       "<p>3399 rows × 21 columns</p>\n",
       "</div>"
      ],
      "text/plain": [
       "            open        high         low       close  close_change  \\\n",
       "0      38.279999   40.320000   37.939999   40.320000      0.000000   \n",
       "1      40.200001   42.000000   39.700001   42.000000      1.680000   \n",
       "2      42.060001   42.320000   41.549999   42.320000      0.320000   \n",
       "3      41.750000   41.770000   40.450001   40.639999     -1.680000   \n",
       "4      40.150002   42.200001   40.150002   42.200001      1.560001   \n",
       "...          ...         ...         ...         ...           ...   \n",
       "3394  109.110001  109.150002  108.010002  108.449997     -0.660004   \n",
       "3395  108.889999  109.330002  107.879997  107.900002     -0.549995   \n",
       "3396  108.709999  109.430000  107.970001  109.430000      1.529999   \n",
       "3397  109.000000  110.680000  108.209999  110.650002      1.220001   \n",
       "3398  110.699997  111.099998  109.860001  110.419998     -0.230003   \n",
       "\n",
       "           ma_3d      ma_10d      ma_30d      ma_60d     std_7  ...    std_60  \\\n",
       "0      41.160000   41.496000   40.072667   40.216334  0.987387  ...  1.394817   \n",
       "1      41.546666   41.580000   39.948125   40.269033  0.941319  ...  1.402411   \n",
       "2      41.653333   41.311429   39.892353   40.322813  0.866718  ...  1.412751   \n",
       "3      41.720000   41.147500   39.842223   40.313031  1.063445  ...  1.391637   \n",
       "4      41.613333   40.801111   39.897895   40.303530  1.118613  ...  1.371508   \n",
       "...          ...         ...         ...         ...       ...  ...       ...   \n",
       "3394  108.486666  108.491000  107.002308  105.556098  1.005667  ...  3.119512   \n",
       "3395  108.593333  108.596001  107.044400  105.605750  1.053531  ...  3.142802   \n",
       "3396  109.326668  108.919000  107.228333  105.649488  1.044363  ...  3.171530   \n",
       "3397  110.166667  109.123000  107.521739  105.750790  1.061239  ...  3.149510   \n",
       "3398  109.823334  109.130000  107.776364  105.898108  1.041406  ...  3.057342   \n",
       "\n",
       "          upper3      lower3     upper30     lower30     upper60    lower60  \\\n",
       "0      43.535879   38.784121   42.992476   37.152858   43.005967  37.426700   \n",
       "1      43.695279   39.398054   42.939715   36.956536   43.073854  37.464211   \n",
       "2      43.437411   39.869255   42.825231   36.959475   43.148315  37.497311   \n",
       "3      43.594461   39.845539   42.719153   36.965292   43.096304  37.529757   \n",
       "4      43.311019   39.915647   42.735582   37.060208   43.046547  37.560513   \n",
       "...          ...         ...         ...         ...         ...        ...   \n",
       "3394  109.698331  107.275002  112.218201  101.786414  111.795123  99.317073   \n",
       "3395  110.143343  107.043323  112.349790  101.739010  111.891355  99.320146   \n",
       "3396  112.082486  106.570850  112.311709  102.144957  111.992548  99.306428   \n",
       "3397  111.463175  108.870158  111.808381  103.235097  112.049811  99.451769   \n",
       "3398  112.299324  107.347344  111.382134  104.170593  112.012793  99.783424   \n",
       "\n",
       "            RSI    target  targetNextClose  \n",
       "0           NaN  2.040001        42.000000  \n",
       "1           NaN  1.799999        42.320000  \n",
       "2           NaN  0.259998        40.639999  \n",
       "3           NaN -1.110001        42.200001  \n",
       "4           NaN  2.049999        42.000000  \n",
       "...         ...       ...              ...  \n",
       "3394  56.314016 -0.660004       107.900002  \n",
       "3395  54.687174 -0.989998       109.430000  \n",
       "3396  58.279485  0.720001       110.650002  \n",
       "3397  60.925992  1.650002       110.419998  \n",
       "3398  60.155206 -0.279999       108.400002  \n",
       "\n",
       "[3399 rows x 21 columns]"
      ]
     },
     "execution_count": 205,
     "metadata": {},
     "output_type": "execute_result"
    }
   ],
   "source": [
    "bova11"
   ]
  },
  {
   "cell_type": "code",
   "execution_count": 208,
   "id": "723c0268",
   "metadata": {},
   "outputs": [
    {
     "data": {
      "application/vnd.plotly.v1+json": {
       "config": {
        "plotlyServerURL": "https://plot.ly"
       },
       "data": [
        {
         "name": "Real",
         "type": "scatter",
         "y": [
          0.5,
          1.3600006103515625,
          -2.5,
          0.23000335693359375,
          2.220001220703125,
          1.0400009155273438,
          -2.4599990844726562,
          -0.23000335693359375,
          -0.6399993896484375,
          -0.5100021362304688,
          2.6200027465820312,
          0.6299972534179688,
          -0.6899948120117188,
          1.9699935913085938,
          -2.2900009155273438,
          -2.7099990844726562,
          -0.4499969482421875,
          0.1399993896484375,
          -1.0199966430664062,
          2.6599960327148438,
          5.94000244140625,
          -0.0500030517578125,
          0.970001220703125,
          0.15000152587890625,
          -0.69000244140625,
          -0.6999969482421875,
          -1.19000244140625,
          -0.6299972534179688,
          -2.0400009155273438,
          1.6800003051757812,
          2.0400009155273438,
          0.40999603271484375,
          0.5500030517578125,
          3.529998779296875,
          -4.290000915527344,
          -1.6599960327148438,
          -1.7000045776367188,
          1.220001220703125,
          3,
          -0.8499984741210938,
          0.6599960327148438,
          0.29000091552734375,
          0.9000015258789062,
          -2.779998779296875,
          1.0800018310546875,
          -2.5500030517578125,
          -3.6500015258789062,
          2.4500045776367188,
          0.6899948120117188,
          -3.1999969482421875,
          -0.34999847412109375,
          -0.8400039672851562,
          1.2300033569335938,
          -1.0100021362304688,
          0.1699981689453125,
          2.9599990844726562,
          -3.1299972534179688,
          0.0800018310546875,
          2.1399993896484375,
          1.2900009155273438,
          -1.5200042724609375,
          0.8899993896484375,
          -2.3199996948242188,
          1.1100006103515625,
          -1.1500015258789062,
          -2.0199966430664062,
          0.3300018310546875,
          -2.0999984741210938,
          -1.5,
          0.399993896484375,
          -0.1999969482421875,
          -1.0999984741210938,
          1.970001220703125,
          2.1800003051757812,
          0.31999969482421875,
          0.05999755859375,
          2.0699996948242188,
          -0.8499984741210938,
          -0.25,
          1.9000015258789062,
          -0.850006103515625,
          -3.3199996948242188,
          -2.149993896484375,
          1.4399948120117188,
          2.3499984741210938,
          1.2300033569335938,
          -0.15000152587890625,
          1.8300018310546875,
          1.9199981689453125,
          -0.839996337890625,
          -0.910003662109375,
          -1.8799972534179688,
          2.3300018310546875,
          0.529998779296875,
          0.779998779296875,
          -0.660003662109375,
          -0.5499954223632812,
          1.529998779296875,
          1.220001220703125,
          -0.23000335693359375
         ]
        },
        {
         "name": "LSTM",
         "type": "scatter",
         "y": [
          0.5,
          1.3600006103515625,
          -2.5,
          0.23000335693359375,
          2.220001220703125,
          1.0400009155273438,
          -2.4599990844726562,
          -0.23000335693359375,
          -0.6399993896484375,
          -0.5100021362304688,
          1.8270587072585158,
          0.23280934492527194,
          0.3232552351752247,
          0.35319273170080123,
          0.3012458924544035,
          0.23340282538799784,
          0.2477874079038429,
          0.24008014593050575,
          0.19533225131044674,
          0.30692786908184644,
          0.33703303049151145,
          0.30672826802936015,
          0.4147949391928023,
          0.4012194062763683,
          0.37842762742980085,
          0.3172698649480026,
          0.20052986271718964,
          0.13544661286982773,
          0.08253902722412931,
          0.1895784183041087,
          0.16747060573072758,
          0.07011319637001634,
          -0.03937197293976169,
          0.11369009814882247,
          0.11502077183206438,
          0.08949046654538506,
          0.10010125849555607,
          0.1703475222338966,
          0.21054451285726827,
          0.0645270282477668,
          0.1079442491845839,
          0.08356364596022559,
          0.04221163057979993,
          -0.018514993628627963,
          -0.01443514811580826,
          -0.1836090161610855,
          -0.20535222414525833,
          -0.18277335308800957,
          -0.4583745023189749,
          -0.640562358986358,
          -0.6526768121985924,
          -0.8499784605602372,
          -0.8479797886880078,
          -0.9704816079672582,
          -0.9178933840055379,
          -0.9728369003865964,
          -0.9173637758796076,
          -0.8104601135153189,
          -0.8377974736638407,
          -0.7696696424292213,
          -0.7966051391254041,
          -0.731713506288429,
          -0.7308099788575078,
          -0.673472580520297,
          -0.6844426543649433,
          -0.6423095335324547,
          -0.5755203600231766,
          -0.5049840094218894,
          -0.4397304333430725,
          -0.34263649737164315,
          -0.3451434865908709,
          -0.3022878099483819,
          -0.2276769365290079,
          -0.2050554839138954,
          -0.1488598035969062,
          -0.07746117644887818,
          -0.17090773585454144,
          0.11922836201847531,
          0.008464415299101802,
          -0.4578555395825106,
          0.07589098150265272,
          0.36202308226279456,
          0.10830353107905921,
          0.06744120361406658,
          0.028167700526864792,
          0.03823025491954013,
          0.06473328266866929,
          -0.4219792464086254,
          -0.8323550182993813,
          -0.24516864209522282,
          -0.10332415015636798,
          0.21384192224434173,
          -0.9865188871976898,
          -0.9653744823709758,
          -1.1073413962886889,
          -0.9361176254343775,
          -1.0377272025498883,
          -1.5706214271409351,
          -1.580767148638813,
          -1.423913322889831
         ]
        },
        {
         "name": "GRU",
         "type": "scatter",
         "y": [
          0.5,
          1.3600006103515625,
          -2.5,
          0.23000335693359375,
          2.220001220703125,
          1.0400009155273438,
          -2.4599990844726562,
          -0.23000335693359375,
          -0.6399993896484375,
          -0.5100021362304688,
          1.7644930920198476,
          0.5497252506735322,
          0.3598647295485762,
          0.15733885630652367,
          0.14817849867108634,
          -0.20192174738986068,
          -0.12879590580098466,
          0.05787632117892372,
          -0.13000149615800183,
          0.3439658403812018,
          0.2988027755719713,
          0.08740130886269526,
          0.01749037489253169,
          0.10008529041135716,
          0.21235422906647727,
          0.31572628347544196,
          0.35732048146621764,
          0.34389664534967324,
          0.11545723280016773,
          0.3504009783133597,
          0.18138945245743798,
          -0.2277660916657851,
          -0.19717124234068706,
          -0.21120984969888923,
          0.4663372536394945,
          0.16140539508251095,
          -0.1968864781724733,
          0.0761730843235,
          0.08951175732431693,
          0.020875608742699114,
          -0.16181258122958297,
          -0.2819112038368985,
          -0.3261534424573256,
          -0.27717666687192377,
          -0.8803337886223517,
          -0.7201366452442244,
          -0.72257710077929,
          -0.3334269048099259,
          -0.6018663682776833,
          -0.5036333756333988,
          -0.3147016647393457,
          -0.2848839288452609,
          -0.08020236423635652,
          -0.4385873846491677,
          -0.46194070779006324,
          -0.47544970702233513,
          -0.2447774240323497,
          -0.7365837719690944,
          -0.7956097952103391,
          -0.7154087616476659,
          -0.5518849340614338,
          -0.6241298696720037,
          -0.3937104146818342,
          -0.44629464662250484,
          -0.21167159346697417,
          -0.1026042556937341,
          -0.0920413679961598,
          0.21925244144040335,
          0.21823447607272328,
          0.16971678290803993,
          0.13450449590209246,
          -0.1343088868706559,
          -0.19246198817569393,
          -0.2252830545728557,
          -0.286682999665004,
          -0.3609359218635859,
          -0.3493470847562321,
          -0.30615341699819965,
          -0.4557863420050694,
          -0.37077625375115986,
          0.09788568681295828,
          0.5460313005288526,
          0.3459312454113501,
          0.11642995526261757,
          0.14227429953854198,
          0.1958392379837619,
          0.05654298614831532,
          -0.10183113428377055,
          -0.630908321414438,
          -0.05235668674083627,
          0.18802818346313188,
          -0.2410528683929556,
          -0.8689751580621987,
          -1.3794282363222123,
          -1.8928606929590046,
          -1.850686986579177,
          -2.180632849033742,
          -2.958937898330362,
          -2.4373490773521382,
          -2.538516704470595
         ]
        }
       ],
       "layout": {
        "template": {
         "data": {
          "bar": [
           {
            "error_x": {
             "color": "#2a3f5f"
            },
            "error_y": {
             "color": "#2a3f5f"
            },
            "marker": {
             "line": {
              "color": "#E5ECF6",
              "width": 0.5
             },
             "pattern": {
              "fillmode": "overlay",
              "size": 10,
              "solidity": 0.2
             }
            },
            "type": "bar"
           }
          ],
          "barpolar": [
           {
            "marker": {
             "line": {
              "color": "#E5ECF6",
              "width": 0.5
             },
             "pattern": {
              "fillmode": "overlay",
              "size": 10,
              "solidity": 0.2
             }
            },
            "type": "barpolar"
           }
          ],
          "carpet": [
           {
            "aaxis": {
             "endlinecolor": "#2a3f5f",
             "gridcolor": "white",
             "linecolor": "white",
             "minorgridcolor": "white",
             "startlinecolor": "#2a3f5f"
            },
            "baxis": {
             "endlinecolor": "#2a3f5f",
             "gridcolor": "white",
             "linecolor": "white",
             "minorgridcolor": "white",
             "startlinecolor": "#2a3f5f"
            },
            "type": "carpet"
           }
          ],
          "choropleth": [
           {
            "colorbar": {
             "outlinewidth": 0,
             "ticks": ""
            },
            "type": "choropleth"
           }
          ],
          "contour": [
           {
            "colorbar": {
             "outlinewidth": 0,
             "ticks": ""
            },
            "colorscale": [
             [
              0,
              "#0d0887"
             ],
             [
              0.1111111111111111,
              "#46039f"
             ],
             [
              0.2222222222222222,
              "#7201a8"
             ],
             [
              0.3333333333333333,
              "#9c179e"
             ],
             [
              0.4444444444444444,
              "#bd3786"
             ],
             [
              0.5555555555555556,
              "#d8576b"
             ],
             [
              0.6666666666666666,
              "#ed7953"
             ],
             [
              0.7777777777777778,
              "#fb9f3a"
             ],
             [
              0.8888888888888888,
              "#fdca26"
             ],
             [
              1,
              "#f0f921"
             ]
            ],
            "type": "contour"
           }
          ],
          "contourcarpet": [
           {
            "colorbar": {
             "outlinewidth": 0,
             "ticks": ""
            },
            "type": "contourcarpet"
           }
          ],
          "heatmap": [
           {
            "colorbar": {
             "outlinewidth": 0,
             "ticks": ""
            },
            "colorscale": [
             [
              0,
              "#0d0887"
             ],
             [
              0.1111111111111111,
              "#46039f"
             ],
             [
              0.2222222222222222,
              "#7201a8"
             ],
             [
              0.3333333333333333,
              "#9c179e"
             ],
             [
              0.4444444444444444,
              "#bd3786"
             ],
             [
              0.5555555555555556,
              "#d8576b"
             ],
             [
              0.6666666666666666,
              "#ed7953"
             ],
             [
              0.7777777777777778,
              "#fb9f3a"
             ],
             [
              0.8888888888888888,
              "#fdca26"
             ],
             [
              1,
              "#f0f921"
             ]
            ],
            "type": "heatmap"
           }
          ],
          "heatmapgl": [
           {
            "colorbar": {
             "outlinewidth": 0,
             "ticks": ""
            },
            "colorscale": [
             [
              0,
              "#0d0887"
             ],
             [
              0.1111111111111111,
              "#46039f"
             ],
             [
              0.2222222222222222,
              "#7201a8"
             ],
             [
              0.3333333333333333,
              "#9c179e"
             ],
             [
              0.4444444444444444,
              "#bd3786"
             ],
             [
              0.5555555555555556,
              "#d8576b"
             ],
             [
              0.6666666666666666,
              "#ed7953"
             ],
             [
              0.7777777777777778,
              "#fb9f3a"
             ],
             [
              0.8888888888888888,
              "#fdca26"
             ],
             [
              1,
              "#f0f921"
             ]
            ],
            "type": "heatmapgl"
           }
          ],
          "histogram": [
           {
            "marker": {
             "pattern": {
              "fillmode": "overlay",
              "size": 10,
              "solidity": 0.2
             }
            },
            "type": "histogram"
           }
          ],
          "histogram2d": [
           {
            "colorbar": {
             "outlinewidth": 0,
             "ticks": ""
            },
            "colorscale": [
             [
              0,
              "#0d0887"
             ],
             [
              0.1111111111111111,
              "#46039f"
             ],
             [
              0.2222222222222222,
              "#7201a8"
             ],
             [
              0.3333333333333333,
              "#9c179e"
             ],
             [
              0.4444444444444444,
              "#bd3786"
             ],
             [
              0.5555555555555556,
              "#d8576b"
             ],
             [
              0.6666666666666666,
              "#ed7953"
             ],
             [
              0.7777777777777778,
              "#fb9f3a"
             ],
             [
              0.8888888888888888,
              "#fdca26"
             ],
             [
              1,
              "#f0f921"
             ]
            ],
            "type": "histogram2d"
           }
          ],
          "histogram2dcontour": [
           {
            "colorbar": {
             "outlinewidth": 0,
             "ticks": ""
            },
            "colorscale": [
             [
              0,
              "#0d0887"
             ],
             [
              0.1111111111111111,
              "#46039f"
             ],
             [
              0.2222222222222222,
              "#7201a8"
             ],
             [
              0.3333333333333333,
              "#9c179e"
             ],
             [
              0.4444444444444444,
              "#bd3786"
             ],
             [
              0.5555555555555556,
              "#d8576b"
             ],
             [
              0.6666666666666666,
              "#ed7953"
             ],
             [
              0.7777777777777778,
              "#fb9f3a"
             ],
             [
              0.8888888888888888,
              "#fdca26"
             ],
             [
              1,
              "#f0f921"
             ]
            ],
            "type": "histogram2dcontour"
           }
          ],
          "mesh3d": [
           {
            "colorbar": {
             "outlinewidth": 0,
             "ticks": ""
            },
            "type": "mesh3d"
           }
          ],
          "parcoords": [
           {
            "line": {
             "colorbar": {
              "outlinewidth": 0,
              "ticks": ""
             }
            },
            "type": "parcoords"
           }
          ],
          "pie": [
           {
            "automargin": true,
            "type": "pie"
           }
          ],
          "scatter": [
           {
            "fillpattern": {
             "fillmode": "overlay",
             "size": 10,
             "solidity": 0.2
            },
            "type": "scatter"
           }
          ],
          "scatter3d": [
           {
            "line": {
             "colorbar": {
              "outlinewidth": 0,
              "ticks": ""
             }
            },
            "marker": {
             "colorbar": {
              "outlinewidth": 0,
              "ticks": ""
             }
            },
            "type": "scatter3d"
           }
          ],
          "scattercarpet": [
           {
            "marker": {
             "colorbar": {
              "outlinewidth": 0,
              "ticks": ""
             }
            },
            "type": "scattercarpet"
           }
          ],
          "scattergeo": [
           {
            "marker": {
             "colorbar": {
              "outlinewidth": 0,
              "ticks": ""
             }
            },
            "type": "scattergeo"
           }
          ],
          "scattergl": [
           {
            "marker": {
             "colorbar": {
              "outlinewidth": 0,
              "ticks": ""
             }
            },
            "type": "scattergl"
           }
          ],
          "scattermapbox": [
           {
            "marker": {
             "colorbar": {
              "outlinewidth": 0,
              "ticks": ""
             }
            },
            "type": "scattermapbox"
           }
          ],
          "scatterpolar": [
           {
            "marker": {
             "colorbar": {
              "outlinewidth": 0,
              "ticks": ""
             }
            },
            "type": "scatterpolar"
           }
          ],
          "scatterpolargl": [
           {
            "marker": {
             "colorbar": {
              "outlinewidth": 0,
              "ticks": ""
             }
            },
            "type": "scatterpolargl"
           }
          ],
          "scatterternary": [
           {
            "marker": {
             "colorbar": {
              "outlinewidth": 0,
              "ticks": ""
             }
            },
            "type": "scatterternary"
           }
          ],
          "surface": [
           {
            "colorbar": {
             "outlinewidth": 0,
             "ticks": ""
            },
            "colorscale": [
             [
              0,
              "#0d0887"
             ],
             [
              0.1111111111111111,
              "#46039f"
             ],
             [
              0.2222222222222222,
              "#7201a8"
             ],
             [
              0.3333333333333333,
              "#9c179e"
             ],
             [
              0.4444444444444444,
              "#bd3786"
             ],
             [
              0.5555555555555556,
              "#d8576b"
             ],
             [
              0.6666666666666666,
              "#ed7953"
             ],
             [
              0.7777777777777778,
              "#fb9f3a"
             ],
             [
              0.8888888888888888,
              "#fdca26"
             ],
             [
              1,
              "#f0f921"
             ]
            ],
            "type": "surface"
           }
          ],
          "table": [
           {
            "cells": {
             "fill": {
              "color": "#EBF0F8"
             },
             "line": {
              "color": "white"
             }
            },
            "header": {
             "fill": {
              "color": "#C8D4E3"
             },
             "line": {
              "color": "white"
             }
            },
            "type": "table"
           }
          ]
         },
         "layout": {
          "annotationdefaults": {
           "arrowcolor": "#2a3f5f",
           "arrowhead": 0,
           "arrowwidth": 1
          },
          "autotypenumbers": "strict",
          "coloraxis": {
           "colorbar": {
            "outlinewidth": 0,
            "ticks": ""
           }
          },
          "colorscale": {
           "diverging": [
            [
             0,
             "#8e0152"
            ],
            [
             0.1,
             "#c51b7d"
            ],
            [
             0.2,
             "#de77ae"
            ],
            [
             0.3,
             "#f1b6da"
            ],
            [
             0.4,
             "#fde0ef"
            ],
            [
             0.5,
             "#f7f7f7"
            ],
            [
             0.6,
             "#e6f5d0"
            ],
            [
             0.7,
             "#b8e186"
            ],
            [
             0.8,
             "#7fbc41"
            ],
            [
             0.9,
             "#4d9221"
            ],
            [
             1,
             "#276419"
            ]
           ],
           "sequential": [
            [
             0,
             "#0d0887"
            ],
            [
             0.1111111111111111,
             "#46039f"
            ],
            [
             0.2222222222222222,
             "#7201a8"
            ],
            [
             0.3333333333333333,
             "#9c179e"
            ],
            [
             0.4444444444444444,
             "#bd3786"
            ],
            [
             0.5555555555555556,
             "#d8576b"
            ],
            [
             0.6666666666666666,
             "#ed7953"
            ],
            [
             0.7777777777777778,
             "#fb9f3a"
            ],
            [
             0.8888888888888888,
             "#fdca26"
            ],
            [
             1,
             "#f0f921"
            ]
           ],
           "sequentialminus": [
            [
             0,
             "#0d0887"
            ],
            [
             0.1111111111111111,
             "#46039f"
            ],
            [
             0.2222222222222222,
             "#7201a8"
            ],
            [
             0.3333333333333333,
             "#9c179e"
            ],
            [
             0.4444444444444444,
             "#bd3786"
            ],
            [
             0.5555555555555556,
             "#d8576b"
            ],
            [
             0.6666666666666666,
             "#ed7953"
            ],
            [
             0.7777777777777778,
             "#fb9f3a"
            ],
            [
             0.8888888888888888,
             "#fdca26"
            ],
            [
             1,
             "#f0f921"
            ]
           ]
          },
          "colorway": [
           "#636efa",
           "#EF553B",
           "#00cc96",
           "#ab63fa",
           "#FFA15A",
           "#19d3f3",
           "#FF6692",
           "#B6E880",
           "#FF97FF",
           "#FECB52"
          ],
          "font": {
           "color": "#2a3f5f"
          },
          "geo": {
           "bgcolor": "white",
           "lakecolor": "white",
           "landcolor": "#E5ECF6",
           "showlakes": true,
           "showland": true,
           "subunitcolor": "white"
          },
          "hoverlabel": {
           "align": "left"
          },
          "hovermode": "closest",
          "mapbox": {
           "style": "light"
          },
          "paper_bgcolor": "white",
          "plot_bgcolor": "#E5ECF6",
          "polar": {
           "angularaxis": {
            "gridcolor": "white",
            "linecolor": "white",
            "ticks": ""
           },
           "bgcolor": "#E5ECF6",
           "radialaxis": {
            "gridcolor": "white",
            "linecolor": "white",
            "ticks": ""
           }
          },
          "scene": {
           "xaxis": {
            "backgroundcolor": "#E5ECF6",
            "gridcolor": "white",
            "gridwidth": 2,
            "linecolor": "white",
            "showbackground": true,
            "ticks": "",
            "zerolinecolor": "white"
           },
           "yaxis": {
            "backgroundcolor": "#E5ECF6",
            "gridcolor": "white",
            "gridwidth": 2,
            "linecolor": "white",
            "showbackground": true,
            "ticks": "",
            "zerolinecolor": "white"
           },
           "zaxis": {
            "backgroundcolor": "#E5ECF6",
            "gridcolor": "white",
            "gridwidth": 2,
            "linecolor": "white",
            "showbackground": true,
            "ticks": "",
            "zerolinecolor": "white"
           }
          },
          "shapedefaults": {
           "line": {
            "color": "#2a3f5f"
           }
          },
          "ternary": {
           "aaxis": {
            "gridcolor": "white",
            "linecolor": "white",
            "ticks": ""
           },
           "baxis": {
            "gridcolor": "white",
            "linecolor": "white",
            "ticks": ""
           },
           "bgcolor": "#E5ECF6",
           "caxis": {
            "gridcolor": "white",
            "linecolor": "white",
            "ticks": ""
           }
          },
          "title": {
           "x": 0.05
          },
          "xaxis": {
           "automargin": true,
           "gridcolor": "white",
           "linecolor": "white",
           "ticks": "",
           "title": {
            "standoff": 15
           },
           "zerolinecolor": "white",
           "zerolinewidth": 2
          },
          "yaxis": {
           "automargin": true,
           "gridcolor": "white",
           "linecolor": "white",
           "ticks": "",
           "title": {
            "standoff": 15
           },
           "zerolinecolor": "white",
           "zerolinewidth": 2
          }
         }
        },
        "xaxis": {
         "title": {
          "text": "periodo"
         }
        },
        "yaxis": {
         "title": {
          "text": "Valor de Fechamento"
         }
        }
       }
      },
      "text/html": [
       "<div>                            <div id=\"acf8fe8b-7791-45f2-ab4e-60a5308ef541\" class=\"plotly-graph-div\" style=\"height:525px; width:100%;\"></div>            <script type=\"text/javascript\">                require([\"plotly\"], function(Plotly) {                    window.PLOTLYENV=window.PLOTLYENV || {};                                    if (document.getElementById(\"acf8fe8b-7791-45f2-ab4e-60a5308ef541\")) {                    Plotly.newPlot(                        \"acf8fe8b-7791-45f2-ab4e-60a5308ef541\",                        [{\"name\":\"Real\",\"y\":[0.5,1.3600006103515625,-2.5,0.23000335693359375,2.220001220703125,1.0400009155273438,-2.4599990844726562,-0.23000335693359375,-0.6399993896484375,-0.5100021362304688,2.6200027465820312,0.6299972534179688,-0.6899948120117188,1.9699935913085938,-2.2900009155273438,-2.7099990844726562,-0.4499969482421875,0.1399993896484375,-1.0199966430664062,2.6599960327148438,5.94000244140625,-0.0500030517578125,0.970001220703125,0.15000152587890625,-0.69000244140625,-0.6999969482421875,-1.19000244140625,-0.6299972534179688,-2.0400009155273438,1.6800003051757812,2.0400009155273438,0.40999603271484375,0.5500030517578125,3.529998779296875,-4.290000915527344,-1.6599960327148438,-1.7000045776367188,1.220001220703125,3.0,-0.8499984741210938,0.6599960327148438,0.29000091552734375,0.9000015258789062,-2.779998779296875,1.0800018310546875,-2.5500030517578125,-3.6500015258789062,2.4500045776367188,0.6899948120117188,-3.1999969482421875,-0.34999847412109375,-0.8400039672851562,1.2300033569335938,-1.0100021362304688,0.1699981689453125,2.9599990844726562,-3.1299972534179688,0.0800018310546875,2.1399993896484375,1.2900009155273438,-1.5200042724609375,0.8899993896484375,-2.3199996948242188,1.1100006103515625,-1.1500015258789062,-2.0199966430664062,0.3300018310546875,-2.0999984741210938,-1.5,0.399993896484375,-0.1999969482421875,-1.0999984741210938,1.970001220703125,2.1800003051757812,0.31999969482421875,0.05999755859375,2.0699996948242188,-0.8499984741210938,-0.25,1.9000015258789062,-0.850006103515625,-3.3199996948242188,-2.149993896484375,1.4399948120117188,2.3499984741210938,1.2300033569335938,-0.15000152587890625,1.8300018310546875,1.9199981689453125,-0.839996337890625,-0.910003662109375,-1.8799972534179688,2.3300018310546875,0.529998779296875,0.779998779296875,-0.660003662109375,-0.5499954223632812,1.529998779296875,1.220001220703125,-0.23000335693359375],\"type\":\"scatter\"},{\"name\":\"LSTM\",\"y\":[0.5,1.3600006103515625,-2.5,0.23000335693359375,2.220001220703125,1.0400009155273438,-2.4599990844726562,-0.23000335693359375,-0.6399993896484375,-0.5100021362304688,1.8270587072585158,0.23280934492527194,0.3232552351752247,0.35319273170080123,0.3012458924544035,0.23340282538799784,0.2477874079038429,0.24008014593050575,0.19533225131044674,0.30692786908184644,0.33703303049151145,0.30672826802936015,0.4147949391928023,0.4012194062763683,0.37842762742980085,0.3172698649480026,0.20052986271718964,0.13544661286982773,0.08253902722412931,0.1895784183041087,0.16747060573072758,0.07011319637001634,-0.03937197293976169,0.11369009814882247,0.11502077183206438,0.08949046654538506,0.10010125849555607,0.1703475222338966,0.21054451285726827,0.0645270282477668,0.1079442491845839,0.08356364596022559,0.04221163057979993,-0.018514993628627963,-0.01443514811580826,-0.1836090161610855,-0.20535222414525833,-0.18277335308800957,-0.4583745023189749,-0.640562358986358,-0.6526768121985924,-0.8499784605602372,-0.8479797886880078,-0.9704816079672582,-0.9178933840055379,-0.9728369003865964,-0.9173637758796076,-0.8104601135153189,-0.8377974736638407,-0.7696696424292213,-0.7966051391254041,-0.731713506288429,-0.7308099788575078,-0.673472580520297,-0.6844426543649433,-0.6423095335324547,-0.5755203600231766,-0.5049840094218894,-0.4397304333430725,-0.34263649737164315,-0.3451434865908709,-0.3022878099483819,-0.2276769365290079,-0.2050554839138954,-0.1488598035969062,-0.07746117644887818,-0.17090773585454144,0.11922836201847531,0.008464415299101802,-0.4578555395825106,0.07589098150265272,0.36202308226279456,0.10830353107905921,0.06744120361406658,0.028167700526864792,0.03823025491954013,0.06473328266866929,-0.4219792464086254,-0.8323550182993813,-0.24516864209522282,-0.10332415015636798,0.21384192224434173,-0.9865188871976898,-0.9653744823709758,-1.1073413962886889,-0.9361176254343775,-1.0377272025498883,-1.5706214271409351,-1.580767148638813,-1.423913322889831],\"type\":\"scatter\"},{\"name\":\"GRU\",\"y\":[0.5,1.3600006103515625,-2.5,0.23000335693359375,2.220001220703125,1.0400009155273438,-2.4599990844726562,-0.23000335693359375,-0.6399993896484375,-0.5100021362304688,1.7644930920198476,0.5497252506735322,0.3598647295485762,0.15733885630652367,0.14817849867108634,-0.20192174738986068,-0.12879590580098466,0.05787632117892372,-0.13000149615800183,0.3439658403812018,0.2988027755719713,0.08740130886269526,0.01749037489253169,0.10008529041135716,0.21235422906647727,0.31572628347544196,0.35732048146621764,0.34389664534967324,0.11545723280016773,0.3504009783133597,0.18138945245743798,-0.2277660916657851,-0.19717124234068706,-0.21120984969888923,0.4663372536394945,0.16140539508251095,-0.1968864781724733,0.0761730843235,0.08951175732431693,0.020875608742699114,-0.16181258122958297,-0.2819112038368985,-0.3261534424573256,-0.27717666687192377,-0.8803337886223517,-0.7201366452442244,-0.72257710077929,-0.3334269048099259,-0.6018663682776833,-0.5036333756333988,-0.3147016647393457,-0.2848839288452609,-0.08020236423635652,-0.4385873846491677,-0.46194070779006324,-0.47544970702233513,-0.2447774240323497,-0.7365837719690944,-0.7956097952103391,-0.7154087616476659,-0.5518849340614338,-0.6241298696720037,-0.3937104146818342,-0.44629464662250484,-0.21167159346697417,-0.1026042556937341,-0.0920413679961598,0.21925244144040335,0.21823447607272328,0.16971678290803993,0.13450449590209246,-0.1343088868706559,-0.19246198817569393,-0.2252830545728557,-0.286682999665004,-0.3609359218635859,-0.3493470847562321,-0.30615341699819965,-0.4557863420050694,-0.37077625375115986,0.09788568681295828,0.5460313005288526,0.3459312454113501,0.11642995526261757,0.14227429953854198,0.1958392379837619,0.05654298614831532,-0.10183113428377055,-0.630908321414438,-0.05235668674083627,0.18802818346313188,-0.2410528683929556,-0.8689751580621987,-1.3794282363222123,-1.8928606929590046,-1.850686986579177,-2.180632849033742,-2.958937898330362,-2.4373490773521382,-2.538516704470595],\"type\":\"scatter\"}],                        {\"template\":{\"data\":{\"histogram2dcontour\":[{\"type\":\"histogram2dcontour\",\"colorbar\":{\"outlinewidth\":0,\"ticks\":\"\"},\"colorscale\":[[0.0,\"#0d0887\"],[0.1111111111111111,\"#46039f\"],[0.2222222222222222,\"#7201a8\"],[0.3333333333333333,\"#9c179e\"],[0.4444444444444444,\"#bd3786\"],[0.5555555555555556,\"#d8576b\"],[0.6666666666666666,\"#ed7953\"],[0.7777777777777778,\"#fb9f3a\"],[0.8888888888888888,\"#fdca26\"],[1.0,\"#f0f921\"]]}],\"choropleth\":[{\"type\":\"choropleth\",\"colorbar\":{\"outlinewidth\":0,\"ticks\":\"\"}}],\"histogram2d\":[{\"type\":\"histogram2d\",\"colorbar\":{\"outlinewidth\":0,\"ticks\":\"\"},\"colorscale\":[[0.0,\"#0d0887\"],[0.1111111111111111,\"#46039f\"],[0.2222222222222222,\"#7201a8\"],[0.3333333333333333,\"#9c179e\"],[0.4444444444444444,\"#bd3786\"],[0.5555555555555556,\"#d8576b\"],[0.6666666666666666,\"#ed7953\"],[0.7777777777777778,\"#fb9f3a\"],[0.8888888888888888,\"#fdca26\"],[1.0,\"#f0f921\"]]}],\"heatmap\":[{\"type\":\"heatmap\",\"colorbar\":{\"outlinewidth\":0,\"ticks\":\"\"},\"colorscale\":[[0.0,\"#0d0887\"],[0.1111111111111111,\"#46039f\"],[0.2222222222222222,\"#7201a8\"],[0.3333333333333333,\"#9c179e\"],[0.4444444444444444,\"#bd3786\"],[0.5555555555555556,\"#d8576b\"],[0.6666666666666666,\"#ed7953\"],[0.7777777777777778,\"#fb9f3a\"],[0.8888888888888888,\"#fdca26\"],[1.0,\"#f0f921\"]]}],\"heatmapgl\":[{\"type\":\"heatmapgl\",\"colorbar\":{\"outlinewidth\":0,\"ticks\":\"\"},\"colorscale\":[[0.0,\"#0d0887\"],[0.1111111111111111,\"#46039f\"],[0.2222222222222222,\"#7201a8\"],[0.3333333333333333,\"#9c179e\"],[0.4444444444444444,\"#bd3786\"],[0.5555555555555556,\"#d8576b\"],[0.6666666666666666,\"#ed7953\"],[0.7777777777777778,\"#fb9f3a\"],[0.8888888888888888,\"#fdca26\"],[1.0,\"#f0f921\"]]}],\"contourcarpet\":[{\"type\":\"contourcarpet\",\"colorbar\":{\"outlinewidth\":0,\"ticks\":\"\"}}],\"contour\":[{\"type\":\"contour\",\"colorbar\":{\"outlinewidth\":0,\"ticks\":\"\"},\"colorscale\":[[0.0,\"#0d0887\"],[0.1111111111111111,\"#46039f\"],[0.2222222222222222,\"#7201a8\"],[0.3333333333333333,\"#9c179e\"],[0.4444444444444444,\"#bd3786\"],[0.5555555555555556,\"#d8576b\"],[0.6666666666666666,\"#ed7953\"],[0.7777777777777778,\"#fb9f3a\"],[0.8888888888888888,\"#fdca26\"],[1.0,\"#f0f921\"]]}],\"surface\":[{\"type\":\"surface\",\"colorbar\":{\"outlinewidth\":0,\"ticks\":\"\"},\"colorscale\":[[0.0,\"#0d0887\"],[0.1111111111111111,\"#46039f\"],[0.2222222222222222,\"#7201a8\"],[0.3333333333333333,\"#9c179e\"],[0.4444444444444444,\"#bd3786\"],[0.5555555555555556,\"#d8576b\"],[0.6666666666666666,\"#ed7953\"],[0.7777777777777778,\"#fb9f3a\"],[0.8888888888888888,\"#fdca26\"],[1.0,\"#f0f921\"]]}],\"mesh3d\":[{\"type\":\"mesh3d\",\"colorbar\":{\"outlinewidth\":0,\"ticks\":\"\"}}],\"scatter\":[{\"fillpattern\":{\"fillmode\":\"overlay\",\"size\":10,\"solidity\":0.2},\"type\":\"scatter\"}],\"parcoords\":[{\"type\":\"parcoords\",\"line\":{\"colorbar\":{\"outlinewidth\":0,\"ticks\":\"\"}}}],\"scatterpolargl\":[{\"type\":\"scatterpolargl\",\"marker\":{\"colorbar\":{\"outlinewidth\":0,\"ticks\":\"\"}}}],\"bar\":[{\"error_x\":{\"color\":\"#2a3f5f\"},\"error_y\":{\"color\":\"#2a3f5f\"},\"marker\":{\"line\":{\"color\":\"#E5ECF6\",\"width\":0.5},\"pattern\":{\"fillmode\":\"overlay\",\"size\":10,\"solidity\":0.2}},\"type\":\"bar\"}],\"scattergeo\":[{\"type\":\"scattergeo\",\"marker\":{\"colorbar\":{\"outlinewidth\":0,\"ticks\":\"\"}}}],\"scatterpolar\":[{\"type\":\"scatterpolar\",\"marker\":{\"colorbar\":{\"outlinewidth\":0,\"ticks\":\"\"}}}],\"histogram\":[{\"marker\":{\"pattern\":{\"fillmode\":\"overlay\",\"size\":10,\"solidity\":0.2}},\"type\":\"histogram\"}],\"scattergl\":[{\"type\":\"scattergl\",\"marker\":{\"colorbar\":{\"outlinewidth\":0,\"ticks\":\"\"}}}],\"scatter3d\":[{\"type\":\"scatter3d\",\"line\":{\"colorbar\":{\"outlinewidth\":0,\"ticks\":\"\"}},\"marker\":{\"colorbar\":{\"outlinewidth\":0,\"ticks\":\"\"}}}],\"scattermapbox\":[{\"type\":\"scattermapbox\",\"marker\":{\"colorbar\":{\"outlinewidth\":0,\"ticks\":\"\"}}}],\"scatterternary\":[{\"type\":\"scatterternary\",\"marker\":{\"colorbar\":{\"outlinewidth\":0,\"ticks\":\"\"}}}],\"scattercarpet\":[{\"type\":\"scattercarpet\",\"marker\":{\"colorbar\":{\"outlinewidth\":0,\"ticks\":\"\"}}}],\"carpet\":[{\"aaxis\":{\"endlinecolor\":\"#2a3f5f\",\"gridcolor\":\"white\",\"linecolor\":\"white\",\"minorgridcolor\":\"white\",\"startlinecolor\":\"#2a3f5f\"},\"baxis\":{\"endlinecolor\":\"#2a3f5f\",\"gridcolor\":\"white\",\"linecolor\":\"white\",\"minorgridcolor\":\"white\",\"startlinecolor\":\"#2a3f5f\"},\"type\":\"carpet\"}],\"table\":[{\"cells\":{\"fill\":{\"color\":\"#EBF0F8\"},\"line\":{\"color\":\"white\"}},\"header\":{\"fill\":{\"color\":\"#C8D4E3\"},\"line\":{\"color\":\"white\"}},\"type\":\"table\"}],\"barpolar\":[{\"marker\":{\"line\":{\"color\":\"#E5ECF6\",\"width\":0.5},\"pattern\":{\"fillmode\":\"overlay\",\"size\":10,\"solidity\":0.2}},\"type\":\"barpolar\"}],\"pie\":[{\"automargin\":true,\"type\":\"pie\"}]},\"layout\":{\"autotypenumbers\":\"strict\",\"colorway\":[\"#636efa\",\"#EF553B\",\"#00cc96\",\"#ab63fa\",\"#FFA15A\",\"#19d3f3\",\"#FF6692\",\"#B6E880\",\"#FF97FF\",\"#FECB52\"],\"font\":{\"color\":\"#2a3f5f\"},\"hovermode\":\"closest\",\"hoverlabel\":{\"align\":\"left\"},\"paper_bgcolor\":\"white\",\"plot_bgcolor\":\"#E5ECF6\",\"polar\":{\"bgcolor\":\"#E5ECF6\",\"angularaxis\":{\"gridcolor\":\"white\",\"linecolor\":\"white\",\"ticks\":\"\"},\"radialaxis\":{\"gridcolor\":\"white\",\"linecolor\":\"white\",\"ticks\":\"\"}},\"ternary\":{\"bgcolor\":\"#E5ECF6\",\"aaxis\":{\"gridcolor\":\"white\",\"linecolor\":\"white\",\"ticks\":\"\"},\"baxis\":{\"gridcolor\":\"white\",\"linecolor\":\"white\",\"ticks\":\"\"},\"caxis\":{\"gridcolor\":\"white\",\"linecolor\":\"white\",\"ticks\":\"\"}},\"coloraxis\":{\"colorbar\":{\"outlinewidth\":0,\"ticks\":\"\"}},\"colorscale\":{\"sequential\":[[0.0,\"#0d0887\"],[0.1111111111111111,\"#46039f\"],[0.2222222222222222,\"#7201a8\"],[0.3333333333333333,\"#9c179e\"],[0.4444444444444444,\"#bd3786\"],[0.5555555555555556,\"#d8576b\"],[0.6666666666666666,\"#ed7953\"],[0.7777777777777778,\"#fb9f3a\"],[0.8888888888888888,\"#fdca26\"],[1.0,\"#f0f921\"]],\"sequentialminus\":[[0.0,\"#0d0887\"],[0.1111111111111111,\"#46039f\"],[0.2222222222222222,\"#7201a8\"],[0.3333333333333333,\"#9c179e\"],[0.4444444444444444,\"#bd3786\"],[0.5555555555555556,\"#d8576b\"],[0.6666666666666666,\"#ed7953\"],[0.7777777777777778,\"#fb9f3a\"],[0.8888888888888888,\"#fdca26\"],[1.0,\"#f0f921\"]],\"diverging\":[[0,\"#8e0152\"],[0.1,\"#c51b7d\"],[0.2,\"#de77ae\"],[0.3,\"#f1b6da\"],[0.4,\"#fde0ef\"],[0.5,\"#f7f7f7\"],[0.6,\"#e6f5d0\"],[0.7,\"#b8e186\"],[0.8,\"#7fbc41\"],[0.9,\"#4d9221\"],[1,\"#276419\"]]},\"xaxis\":{\"gridcolor\":\"white\",\"linecolor\":\"white\",\"ticks\":\"\",\"title\":{\"standoff\":15},\"zerolinecolor\":\"white\",\"automargin\":true,\"zerolinewidth\":2},\"yaxis\":{\"gridcolor\":\"white\",\"linecolor\":\"white\",\"ticks\":\"\",\"title\":{\"standoff\":15},\"zerolinecolor\":\"white\",\"automargin\":true,\"zerolinewidth\":2},\"scene\":{\"xaxis\":{\"backgroundcolor\":\"#E5ECF6\",\"gridcolor\":\"white\",\"linecolor\":\"white\",\"showbackground\":true,\"ticks\":\"\",\"zerolinecolor\":\"white\",\"gridwidth\":2},\"yaxis\":{\"backgroundcolor\":\"#E5ECF6\",\"gridcolor\":\"white\",\"linecolor\":\"white\",\"showbackground\":true,\"ticks\":\"\",\"zerolinecolor\":\"white\",\"gridwidth\":2},\"zaxis\":{\"backgroundcolor\":\"#E5ECF6\",\"gridcolor\":\"white\",\"linecolor\":\"white\",\"showbackground\":true,\"ticks\":\"\",\"zerolinecolor\":\"white\",\"gridwidth\":2}},\"shapedefaults\":{\"line\":{\"color\":\"#2a3f5f\"}},\"annotationdefaults\":{\"arrowcolor\":\"#2a3f5f\",\"arrowhead\":0,\"arrowwidth\":1},\"geo\":{\"bgcolor\":\"white\",\"landcolor\":\"#E5ECF6\",\"subunitcolor\":\"white\",\"showland\":true,\"showlakes\":true,\"lakecolor\":\"white\"},\"title\":{\"x\":0.05},\"mapbox\":{\"style\":\"light\"}}},\"yaxis\":{\"title\":{\"text\":\"Valor de Fechamento\"}},\"xaxis\":{\"title\":{\"text\":\"periodo\"}}},                        {\"responsive\": true}                    ).then(function(){\n",
       "                            \n",
       "var gd = document.getElementById('acf8fe8b-7791-45f2-ab4e-60a5308ef541');\n",
       "var x = new MutationObserver(function (mutations, observer) {{\n",
       "        var display = window.getComputedStyle(gd).display;\n",
       "        if (!display || display === 'none') {{\n",
       "            console.log([gd, 'removed!']);\n",
       "            Plotly.purge(gd);\n",
       "            observer.disconnect();\n",
       "        }}\n",
       "}});\n",
       "\n",
       "// Listen for the removal of the full notebook cells\n",
       "var notebookContainer = gd.closest('#notebook-container');\n",
       "if (notebookContainer) {{\n",
       "    x.observe(notebookContainer, {childList: true});\n",
       "}}\n",
       "\n",
       "// Listen for the clearing of the current output cell\n",
       "var outputEl = gd.closest('.output');\n",
       "if (outputEl) {{\n",
       "    x.observe(outputEl, {childList: true});\n",
       "}}\n",
       "\n",
       "                        })                };                });            </script>        </div>"
      ]
     },
     "metadata": {},
     "output_type": "display_data"
    }
   ],
   "source": [
    "import plotly.graph_objs as go\n",
    "fig = go.Figure()\n",
    "\n",
    "fig.add_trace(go.Scatter(\n",
    "   y=bova11['close_change'][-100:],\n",
    "   name=\"Real\")\n",
    ")\n",
    "\n",
    "fig.add_trace(go.Scatter(\n",
    "   y=pred_90_lstm['close_change'][-100:],\n",
    "   name=\"LSTM\")\n",
    ")\n",
    "\n",
    "fig.add_trace(go.Scatter(\n",
    "   y=pred_90_gru.close_change[-100:],\n",
    "   name=\"GRU\")\n",
    ")\n",
    "\n",
    "fig.update_layout(\n",
    "   #title=\"Banda de Bollinger superior e inferior dos ultimos 60 dias de fechamento de 2009 a Fev 2023\",\n",
    "    yaxis_title=\"Valor de Fechamento\",\n",
    "    xaxis_title=\"periodo\",\n",
    "   #legend_title=\"legend\",\n",
    ")\n",
    "fig.show()"
   ]
  },
  {
   "cell_type": "code",
   "execution_count": 209,
   "id": "4b064efc",
   "metadata": {},
   "outputs": [
    {
     "data": {
      "application/vnd.plotly.v1+json": {
       "config": {
        "plotlyServerURL": "https://plot.ly"
       },
       "data": [
        {
         "name": "Real",
         "type": "scatter",
         "y": [
          -0.34999847412109375,
          -0.8400039672851562,
          1.2300033569335938,
          -1.0100021362304688,
          0.1699981689453125,
          2.9599990844726562,
          -3.1299972534179688,
          0.0800018310546875,
          2.1399993896484375,
          1.2900009155273438,
          -1.5200042724609375,
          0.8899993896484375,
          -2.3199996948242188,
          1.1100006103515625,
          -1.1500015258789062,
          -2.0199966430664062,
          0.3300018310546875,
          -2.0999984741210938,
          -1.5,
          0.399993896484375,
          -0.1999969482421875,
          -1.0999984741210938,
          1.970001220703125,
          2.1800003051757812,
          0.31999969482421875,
          0.05999755859375,
          2.0699996948242188,
          -0.8499984741210938,
          -0.25,
          1.9000015258789062,
          -0.850006103515625,
          -3.3199996948242188,
          -2.149993896484375,
          1.4399948120117188,
          2.3499984741210938,
          1.2300033569335938,
          -0.15000152587890625,
          1.8300018310546875,
          1.9199981689453125,
          -0.839996337890625,
          -0.910003662109375,
          -1.8799972534179688,
          2.3300018310546875,
          0.529998779296875,
          0.779998779296875,
          -0.660003662109375,
          -0.5499954223632812,
          1.529998779296875,
          1.220001220703125,
          -0.23000335693359375
         ]
        },
        {
         "name": "LSTM",
         "type": "scatter",
         "y": [
          -0.34999847412109375,
          -0.8400039672851562,
          1.2300033569335938,
          -1.0100021362304688,
          0.1699981689453125,
          2.9599990844726562,
          -3.1299972534179688,
          0.0800018310546875,
          2.1399993896484375,
          1.2900009155273438,
          -1.5200042724609375,
          0.8899993896484375,
          -2.3199996948242188,
          1.1100006103515625,
          -1.1500015258789062,
          -2.0199966430664062,
          0.3300018310546875,
          -2.0999984741210938,
          -1.5,
          0.399993896484375,
          1.3190586716845019,
          0.24544675289502038,
          0.37826262389307885,
          0.33082277641182145,
          0.3048812929570204,
          0.3241627546271957,
          0.3357555837555992,
          0.2825525885522211,
          0.23457381822925072,
          0.1850248529600549,
          0.09318707803743109,
          0.05695283364275383,
          0.0554278816017586,
          0.16235815743971216,
          0.15737611516965444,
          0.10019174430601652,
          0.12491832268801772,
          0.2044180912196225,
          0.22415730463683303,
          0.2585658647381024,
          0.28276017364680683,
          0.2333921799985319,
          0.25449134192001566,
          0.1786562487120591,
          0.19830497631880917,
          0.16201484362943575,
          0.13266550487185214,
          0.13914854705660673,
          0.06751572134032813,
          0.0015941470725238105
         ]
        },
        {
         "name": "GRU",
         "type": "scatter",
         "y": [
          -0.34999847412109375,
          -0.8400039672851562,
          1.2300033569335938,
          -1.0100021362304688,
          0.1699981689453125,
          2.9599990844726562,
          -3.1299972534179688,
          0.0800018310546875,
          2.1399993896484375,
          1.2900009155273438,
          -1.5200042724609375,
          0.8899993896484375,
          -2.3199996948242188,
          1.1100006103515625,
          -1.1500015258789062,
          -2.0199966430664062,
          0.3300018310546875,
          -2.0999984741210938,
          -1.5,
          0.399993896484375,
          1.7358070398443033,
          0.7725598656692227,
          0.6401312207129877,
          0.5057810829581513,
          0.4059912021044738,
          0.33314746333644507,
          0.3538048415950925,
          0.15074403753237675,
          -0.03380443424907753,
          -0.2723356760122897,
          -0.6396095966291568,
          -0.6545370940077646,
          -0.3341587753357089,
          0.3446897268648854,
          0.5633566718846623,
          0.2397421548149623,
          -0.022224911857506413,
          -0.011129754686635351,
          0.07695019775451328,
          0.2645725257442564,
          0.2585951395591337,
          0.057791158063196235,
          -0.057756560547431945,
          -0.07889298133204647,
          -0.08348114419186459,
          -0.12307134761567795,
          -0.4370917074292038,
          -0.6499915127058102,
          -0.7949684104950165,
          -0.7317427811094603
         ]
        }
       ],
       "layout": {
        "template": {
         "data": {
          "bar": [
           {
            "error_x": {
             "color": "#2a3f5f"
            },
            "error_y": {
             "color": "#2a3f5f"
            },
            "marker": {
             "line": {
              "color": "#E5ECF6",
              "width": 0.5
             },
             "pattern": {
              "fillmode": "overlay",
              "size": 10,
              "solidity": 0.2
             }
            },
            "type": "bar"
           }
          ],
          "barpolar": [
           {
            "marker": {
             "line": {
              "color": "#E5ECF6",
              "width": 0.5
             },
             "pattern": {
              "fillmode": "overlay",
              "size": 10,
              "solidity": 0.2
             }
            },
            "type": "barpolar"
           }
          ],
          "carpet": [
           {
            "aaxis": {
             "endlinecolor": "#2a3f5f",
             "gridcolor": "white",
             "linecolor": "white",
             "minorgridcolor": "white",
             "startlinecolor": "#2a3f5f"
            },
            "baxis": {
             "endlinecolor": "#2a3f5f",
             "gridcolor": "white",
             "linecolor": "white",
             "minorgridcolor": "white",
             "startlinecolor": "#2a3f5f"
            },
            "type": "carpet"
           }
          ],
          "choropleth": [
           {
            "colorbar": {
             "outlinewidth": 0,
             "ticks": ""
            },
            "type": "choropleth"
           }
          ],
          "contour": [
           {
            "colorbar": {
             "outlinewidth": 0,
             "ticks": ""
            },
            "colorscale": [
             [
              0,
              "#0d0887"
             ],
             [
              0.1111111111111111,
              "#46039f"
             ],
             [
              0.2222222222222222,
              "#7201a8"
             ],
             [
              0.3333333333333333,
              "#9c179e"
             ],
             [
              0.4444444444444444,
              "#bd3786"
             ],
             [
              0.5555555555555556,
              "#d8576b"
             ],
             [
              0.6666666666666666,
              "#ed7953"
             ],
             [
              0.7777777777777778,
              "#fb9f3a"
             ],
             [
              0.8888888888888888,
              "#fdca26"
             ],
             [
              1,
              "#f0f921"
             ]
            ],
            "type": "contour"
           }
          ],
          "contourcarpet": [
           {
            "colorbar": {
             "outlinewidth": 0,
             "ticks": ""
            },
            "type": "contourcarpet"
           }
          ],
          "heatmap": [
           {
            "colorbar": {
             "outlinewidth": 0,
             "ticks": ""
            },
            "colorscale": [
             [
              0,
              "#0d0887"
             ],
             [
              0.1111111111111111,
              "#46039f"
             ],
             [
              0.2222222222222222,
              "#7201a8"
             ],
             [
              0.3333333333333333,
              "#9c179e"
             ],
             [
              0.4444444444444444,
              "#bd3786"
             ],
             [
              0.5555555555555556,
              "#d8576b"
             ],
             [
              0.6666666666666666,
              "#ed7953"
             ],
             [
              0.7777777777777778,
              "#fb9f3a"
             ],
             [
              0.8888888888888888,
              "#fdca26"
             ],
             [
              1,
              "#f0f921"
             ]
            ],
            "type": "heatmap"
           }
          ],
          "heatmapgl": [
           {
            "colorbar": {
             "outlinewidth": 0,
             "ticks": ""
            },
            "colorscale": [
             [
              0,
              "#0d0887"
             ],
             [
              0.1111111111111111,
              "#46039f"
             ],
             [
              0.2222222222222222,
              "#7201a8"
             ],
             [
              0.3333333333333333,
              "#9c179e"
             ],
             [
              0.4444444444444444,
              "#bd3786"
             ],
             [
              0.5555555555555556,
              "#d8576b"
             ],
             [
              0.6666666666666666,
              "#ed7953"
             ],
             [
              0.7777777777777778,
              "#fb9f3a"
             ],
             [
              0.8888888888888888,
              "#fdca26"
             ],
             [
              1,
              "#f0f921"
             ]
            ],
            "type": "heatmapgl"
           }
          ],
          "histogram": [
           {
            "marker": {
             "pattern": {
              "fillmode": "overlay",
              "size": 10,
              "solidity": 0.2
             }
            },
            "type": "histogram"
           }
          ],
          "histogram2d": [
           {
            "colorbar": {
             "outlinewidth": 0,
             "ticks": ""
            },
            "colorscale": [
             [
              0,
              "#0d0887"
             ],
             [
              0.1111111111111111,
              "#46039f"
             ],
             [
              0.2222222222222222,
              "#7201a8"
             ],
             [
              0.3333333333333333,
              "#9c179e"
             ],
             [
              0.4444444444444444,
              "#bd3786"
             ],
             [
              0.5555555555555556,
              "#d8576b"
             ],
             [
              0.6666666666666666,
              "#ed7953"
             ],
             [
              0.7777777777777778,
              "#fb9f3a"
             ],
             [
              0.8888888888888888,
              "#fdca26"
             ],
             [
              1,
              "#f0f921"
             ]
            ],
            "type": "histogram2d"
           }
          ],
          "histogram2dcontour": [
           {
            "colorbar": {
             "outlinewidth": 0,
             "ticks": ""
            },
            "colorscale": [
             [
              0,
              "#0d0887"
             ],
             [
              0.1111111111111111,
              "#46039f"
             ],
             [
              0.2222222222222222,
              "#7201a8"
             ],
             [
              0.3333333333333333,
              "#9c179e"
             ],
             [
              0.4444444444444444,
              "#bd3786"
             ],
             [
              0.5555555555555556,
              "#d8576b"
             ],
             [
              0.6666666666666666,
              "#ed7953"
             ],
             [
              0.7777777777777778,
              "#fb9f3a"
             ],
             [
              0.8888888888888888,
              "#fdca26"
             ],
             [
              1,
              "#f0f921"
             ]
            ],
            "type": "histogram2dcontour"
           }
          ],
          "mesh3d": [
           {
            "colorbar": {
             "outlinewidth": 0,
             "ticks": ""
            },
            "type": "mesh3d"
           }
          ],
          "parcoords": [
           {
            "line": {
             "colorbar": {
              "outlinewidth": 0,
              "ticks": ""
             }
            },
            "type": "parcoords"
           }
          ],
          "pie": [
           {
            "automargin": true,
            "type": "pie"
           }
          ],
          "scatter": [
           {
            "fillpattern": {
             "fillmode": "overlay",
             "size": 10,
             "solidity": 0.2
            },
            "type": "scatter"
           }
          ],
          "scatter3d": [
           {
            "line": {
             "colorbar": {
              "outlinewidth": 0,
              "ticks": ""
             }
            },
            "marker": {
             "colorbar": {
              "outlinewidth": 0,
              "ticks": ""
             }
            },
            "type": "scatter3d"
           }
          ],
          "scattercarpet": [
           {
            "marker": {
             "colorbar": {
              "outlinewidth": 0,
              "ticks": ""
             }
            },
            "type": "scattercarpet"
           }
          ],
          "scattergeo": [
           {
            "marker": {
             "colorbar": {
              "outlinewidth": 0,
              "ticks": ""
             }
            },
            "type": "scattergeo"
           }
          ],
          "scattergl": [
           {
            "marker": {
             "colorbar": {
              "outlinewidth": 0,
              "ticks": ""
             }
            },
            "type": "scattergl"
           }
          ],
          "scattermapbox": [
           {
            "marker": {
             "colorbar": {
              "outlinewidth": 0,
              "ticks": ""
             }
            },
            "type": "scattermapbox"
           }
          ],
          "scatterpolar": [
           {
            "marker": {
             "colorbar": {
              "outlinewidth": 0,
              "ticks": ""
             }
            },
            "type": "scatterpolar"
           }
          ],
          "scatterpolargl": [
           {
            "marker": {
             "colorbar": {
              "outlinewidth": 0,
              "ticks": ""
             }
            },
            "type": "scatterpolargl"
           }
          ],
          "scatterternary": [
           {
            "marker": {
             "colorbar": {
              "outlinewidth": 0,
              "ticks": ""
             }
            },
            "type": "scatterternary"
           }
          ],
          "surface": [
           {
            "colorbar": {
             "outlinewidth": 0,
             "ticks": ""
            },
            "colorscale": [
             [
              0,
              "#0d0887"
             ],
             [
              0.1111111111111111,
              "#46039f"
             ],
             [
              0.2222222222222222,
              "#7201a8"
             ],
             [
              0.3333333333333333,
              "#9c179e"
             ],
             [
              0.4444444444444444,
              "#bd3786"
             ],
             [
              0.5555555555555556,
              "#d8576b"
             ],
             [
              0.6666666666666666,
              "#ed7953"
             ],
             [
              0.7777777777777778,
              "#fb9f3a"
             ],
             [
              0.8888888888888888,
              "#fdca26"
             ],
             [
              1,
              "#f0f921"
             ]
            ],
            "type": "surface"
           }
          ],
          "table": [
           {
            "cells": {
             "fill": {
              "color": "#EBF0F8"
             },
             "line": {
              "color": "white"
             }
            },
            "header": {
             "fill": {
              "color": "#C8D4E3"
             },
             "line": {
              "color": "white"
             }
            },
            "type": "table"
           }
          ]
         },
         "layout": {
          "annotationdefaults": {
           "arrowcolor": "#2a3f5f",
           "arrowhead": 0,
           "arrowwidth": 1
          },
          "autotypenumbers": "strict",
          "coloraxis": {
           "colorbar": {
            "outlinewidth": 0,
            "ticks": ""
           }
          },
          "colorscale": {
           "diverging": [
            [
             0,
             "#8e0152"
            ],
            [
             0.1,
             "#c51b7d"
            ],
            [
             0.2,
             "#de77ae"
            ],
            [
             0.3,
             "#f1b6da"
            ],
            [
             0.4,
             "#fde0ef"
            ],
            [
             0.5,
             "#f7f7f7"
            ],
            [
             0.6,
             "#e6f5d0"
            ],
            [
             0.7,
             "#b8e186"
            ],
            [
             0.8,
             "#7fbc41"
            ],
            [
             0.9,
             "#4d9221"
            ],
            [
             1,
             "#276419"
            ]
           ],
           "sequential": [
            [
             0,
             "#0d0887"
            ],
            [
             0.1111111111111111,
             "#46039f"
            ],
            [
             0.2222222222222222,
             "#7201a8"
            ],
            [
             0.3333333333333333,
             "#9c179e"
            ],
            [
             0.4444444444444444,
             "#bd3786"
            ],
            [
             0.5555555555555556,
             "#d8576b"
            ],
            [
             0.6666666666666666,
             "#ed7953"
            ],
            [
             0.7777777777777778,
             "#fb9f3a"
            ],
            [
             0.8888888888888888,
             "#fdca26"
            ],
            [
             1,
             "#f0f921"
            ]
           ],
           "sequentialminus": [
            [
             0,
             "#0d0887"
            ],
            [
             0.1111111111111111,
             "#46039f"
            ],
            [
             0.2222222222222222,
             "#7201a8"
            ],
            [
             0.3333333333333333,
             "#9c179e"
            ],
            [
             0.4444444444444444,
             "#bd3786"
            ],
            [
             0.5555555555555556,
             "#d8576b"
            ],
            [
             0.6666666666666666,
             "#ed7953"
            ],
            [
             0.7777777777777778,
             "#fb9f3a"
            ],
            [
             0.8888888888888888,
             "#fdca26"
            ],
            [
             1,
             "#f0f921"
            ]
           ]
          },
          "colorway": [
           "#636efa",
           "#EF553B",
           "#00cc96",
           "#ab63fa",
           "#FFA15A",
           "#19d3f3",
           "#FF6692",
           "#B6E880",
           "#FF97FF",
           "#FECB52"
          ],
          "font": {
           "color": "#2a3f5f"
          },
          "geo": {
           "bgcolor": "white",
           "lakecolor": "white",
           "landcolor": "#E5ECF6",
           "showlakes": true,
           "showland": true,
           "subunitcolor": "white"
          },
          "hoverlabel": {
           "align": "left"
          },
          "hovermode": "closest",
          "mapbox": {
           "style": "light"
          },
          "paper_bgcolor": "white",
          "plot_bgcolor": "#E5ECF6",
          "polar": {
           "angularaxis": {
            "gridcolor": "white",
            "linecolor": "white",
            "ticks": ""
           },
           "bgcolor": "#E5ECF6",
           "radialaxis": {
            "gridcolor": "white",
            "linecolor": "white",
            "ticks": ""
           }
          },
          "scene": {
           "xaxis": {
            "backgroundcolor": "#E5ECF6",
            "gridcolor": "white",
            "gridwidth": 2,
            "linecolor": "white",
            "showbackground": true,
            "ticks": "",
            "zerolinecolor": "white"
           },
           "yaxis": {
            "backgroundcolor": "#E5ECF6",
            "gridcolor": "white",
            "gridwidth": 2,
            "linecolor": "white",
            "showbackground": true,
            "ticks": "",
            "zerolinecolor": "white"
           },
           "zaxis": {
            "backgroundcolor": "#E5ECF6",
            "gridcolor": "white",
            "gridwidth": 2,
            "linecolor": "white",
            "showbackground": true,
            "ticks": "",
            "zerolinecolor": "white"
           }
          },
          "shapedefaults": {
           "line": {
            "color": "#2a3f5f"
           }
          },
          "ternary": {
           "aaxis": {
            "gridcolor": "white",
            "linecolor": "white",
            "ticks": ""
           },
           "baxis": {
            "gridcolor": "white",
            "linecolor": "white",
            "ticks": ""
           },
           "bgcolor": "#E5ECF6",
           "caxis": {
            "gridcolor": "white",
            "linecolor": "white",
            "ticks": ""
           }
          },
          "title": {
           "x": 0.05
          },
          "xaxis": {
           "automargin": true,
           "gridcolor": "white",
           "linecolor": "white",
           "ticks": "",
           "title": {
            "standoff": 15
           },
           "zerolinecolor": "white",
           "zerolinewidth": 2
          },
          "yaxis": {
           "automargin": true,
           "gridcolor": "white",
           "linecolor": "white",
           "ticks": "",
           "title": {
            "standoff": 15
           },
           "zerolinecolor": "white",
           "zerolinewidth": 2
          }
         }
        },
        "xaxis": {
         "title": {
          "text": "periodo"
         }
        },
        "yaxis": {
         "title": {
          "text": "Valor de Fechamento"
         }
        }
       }
      },
      "text/html": [
       "<div>                            <div id=\"0d2a9c3f-3cbf-4f40-86e3-a5def0221a1a\" class=\"plotly-graph-div\" style=\"height:525px; width:100%;\"></div>            <script type=\"text/javascript\">                require([\"plotly\"], function(Plotly) {                    window.PLOTLYENV=window.PLOTLYENV || {};                                    if (document.getElementById(\"0d2a9c3f-3cbf-4f40-86e3-a5def0221a1a\")) {                    Plotly.newPlot(                        \"0d2a9c3f-3cbf-4f40-86e3-a5def0221a1a\",                        [{\"name\":\"Real\",\"y\":[-0.34999847412109375,-0.8400039672851562,1.2300033569335938,-1.0100021362304688,0.1699981689453125,2.9599990844726562,-3.1299972534179688,0.0800018310546875,2.1399993896484375,1.2900009155273438,-1.5200042724609375,0.8899993896484375,-2.3199996948242188,1.1100006103515625,-1.1500015258789062,-2.0199966430664062,0.3300018310546875,-2.0999984741210938,-1.5,0.399993896484375,-0.1999969482421875,-1.0999984741210938,1.970001220703125,2.1800003051757812,0.31999969482421875,0.05999755859375,2.0699996948242188,-0.8499984741210938,-0.25,1.9000015258789062,-0.850006103515625,-3.3199996948242188,-2.149993896484375,1.4399948120117188,2.3499984741210938,1.2300033569335938,-0.15000152587890625,1.8300018310546875,1.9199981689453125,-0.839996337890625,-0.910003662109375,-1.8799972534179688,2.3300018310546875,0.529998779296875,0.779998779296875,-0.660003662109375,-0.5499954223632812,1.529998779296875,1.220001220703125,-0.23000335693359375],\"type\":\"scatter\"},{\"name\":\"LSTM\",\"y\":[-0.34999847412109375,-0.8400039672851562,1.2300033569335938,-1.0100021362304688,0.1699981689453125,2.9599990844726562,-3.1299972534179688,0.0800018310546875,2.1399993896484375,1.2900009155273438,-1.5200042724609375,0.8899993896484375,-2.3199996948242188,1.1100006103515625,-1.1500015258789062,-2.0199966430664062,0.3300018310546875,-2.0999984741210938,-1.5,0.399993896484375,1.3190586716845019,0.24544675289502038,0.37826262389307885,0.33082277641182145,0.3048812929570204,0.3241627546271957,0.3357555837555992,0.2825525885522211,0.23457381822925072,0.1850248529600549,0.09318707803743109,0.05695283364275383,0.0554278816017586,0.16235815743971216,0.15737611516965444,0.10019174430601652,0.12491832268801772,0.2044180912196225,0.22415730463683303,0.2585658647381024,0.28276017364680683,0.2333921799985319,0.25449134192001566,0.1786562487120591,0.19830497631880917,0.16201484362943575,0.13266550487185214,0.13914854705660673,0.06751572134032813,0.0015941470725238105],\"type\":\"scatter\"},{\"name\":\"GRU\",\"y\":[-0.34999847412109375,-0.8400039672851562,1.2300033569335938,-1.0100021362304688,0.1699981689453125,2.9599990844726562,-3.1299972534179688,0.0800018310546875,2.1399993896484375,1.2900009155273438,-1.5200042724609375,0.8899993896484375,-2.3199996948242188,1.1100006103515625,-1.1500015258789062,-2.0199966430664062,0.3300018310546875,-2.0999984741210938,-1.5,0.399993896484375,1.7358070398443033,0.7725598656692227,0.6401312207129877,0.5057810829581513,0.4059912021044738,0.33314746333644507,0.3538048415950925,0.15074403753237675,-0.03380443424907753,-0.2723356760122897,-0.6396095966291568,-0.6545370940077646,-0.3341587753357089,0.3446897268648854,0.5633566718846623,0.2397421548149623,-0.022224911857506413,-0.011129754686635351,0.07695019775451328,0.2645725257442564,0.2585951395591337,0.057791158063196235,-0.057756560547431945,-0.07889298133204647,-0.08348114419186459,-0.12307134761567795,-0.4370917074292038,-0.6499915127058102,-0.7949684104950165,-0.7317427811094603],\"type\":\"scatter\"}],                        {\"template\":{\"data\":{\"histogram2dcontour\":[{\"type\":\"histogram2dcontour\",\"colorbar\":{\"outlinewidth\":0,\"ticks\":\"\"},\"colorscale\":[[0.0,\"#0d0887\"],[0.1111111111111111,\"#46039f\"],[0.2222222222222222,\"#7201a8\"],[0.3333333333333333,\"#9c179e\"],[0.4444444444444444,\"#bd3786\"],[0.5555555555555556,\"#d8576b\"],[0.6666666666666666,\"#ed7953\"],[0.7777777777777778,\"#fb9f3a\"],[0.8888888888888888,\"#fdca26\"],[1.0,\"#f0f921\"]]}],\"choropleth\":[{\"type\":\"choropleth\",\"colorbar\":{\"outlinewidth\":0,\"ticks\":\"\"}}],\"histogram2d\":[{\"type\":\"histogram2d\",\"colorbar\":{\"outlinewidth\":0,\"ticks\":\"\"},\"colorscale\":[[0.0,\"#0d0887\"],[0.1111111111111111,\"#46039f\"],[0.2222222222222222,\"#7201a8\"],[0.3333333333333333,\"#9c179e\"],[0.4444444444444444,\"#bd3786\"],[0.5555555555555556,\"#d8576b\"],[0.6666666666666666,\"#ed7953\"],[0.7777777777777778,\"#fb9f3a\"],[0.8888888888888888,\"#fdca26\"],[1.0,\"#f0f921\"]]}],\"heatmap\":[{\"type\":\"heatmap\",\"colorbar\":{\"outlinewidth\":0,\"ticks\":\"\"},\"colorscale\":[[0.0,\"#0d0887\"],[0.1111111111111111,\"#46039f\"],[0.2222222222222222,\"#7201a8\"],[0.3333333333333333,\"#9c179e\"],[0.4444444444444444,\"#bd3786\"],[0.5555555555555556,\"#d8576b\"],[0.6666666666666666,\"#ed7953\"],[0.7777777777777778,\"#fb9f3a\"],[0.8888888888888888,\"#fdca26\"],[1.0,\"#f0f921\"]]}],\"heatmapgl\":[{\"type\":\"heatmapgl\",\"colorbar\":{\"outlinewidth\":0,\"ticks\":\"\"},\"colorscale\":[[0.0,\"#0d0887\"],[0.1111111111111111,\"#46039f\"],[0.2222222222222222,\"#7201a8\"],[0.3333333333333333,\"#9c179e\"],[0.4444444444444444,\"#bd3786\"],[0.5555555555555556,\"#d8576b\"],[0.6666666666666666,\"#ed7953\"],[0.7777777777777778,\"#fb9f3a\"],[0.8888888888888888,\"#fdca26\"],[1.0,\"#f0f921\"]]}],\"contourcarpet\":[{\"type\":\"contourcarpet\",\"colorbar\":{\"outlinewidth\":0,\"ticks\":\"\"}}],\"contour\":[{\"type\":\"contour\",\"colorbar\":{\"outlinewidth\":0,\"ticks\":\"\"},\"colorscale\":[[0.0,\"#0d0887\"],[0.1111111111111111,\"#46039f\"],[0.2222222222222222,\"#7201a8\"],[0.3333333333333333,\"#9c179e\"],[0.4444444444444444,\"#bd3786\"],[0.5555555555555556,\"#d8576b\"],[0.6666666666666666,\"#ed7953\"],[0.7777777777777778,\"#fb9f3a\"],[0.8888888888888888,\"#fdca26\"],[1.0,\"#f0f921\"]]}],\"surface\":[{\"type\":\"surface\",\"colorbar\":{\"outlinewidth\":0,\"ticks\":\"\"},\"colorscale\":[[0.0,\"#0d0887\"],[0.1111111111111111,\"#46039f\"],[0.2222222222222222,\"#7201a8\"],[0.3333333333333333,\"#9c179e\"],[0.4444444444444444,\"#bd3786\"],[0.5555555555555556,\"#d8576b\"],[0.6666666666666666,\"#ed7953\"],[0.7777777777777778,\"#fb9f3a\"],[0.8888888888888888,\"#fdca26\"],[1.0,\"#f0f921\"]]}],\"mesh3d\":[{\"type\":\"mesh3d\",\"colorbar\":{\"outlinewidth\":0,\"ticks\":\"\"}}],\"scatter\":[{\"fillpattern\":{\"fillmode\":\"overlay\",\"size\":10,\"solidity\":0.2},\"type\":\"scatter\"}],\"parcoords\":[{\"type\":\"parcoords\",\"line\":{\"colorbar\":{\"outlinewidth\":0,\"ticks\":\"\"}}}],\"scatterpolargl\":[{\"type\":\"scatterpolargl\",\"marker\":{\"colorbar\":{\"outlinewidth\":0,\"ticks\":\"\"}}}],\"bar\":[{\"error_x\":{\"color\":\"#2a3f5f\"},\"error_y\":{\"color\":\"#2a3f5f\"},\"marker\":{\"line\":{\"color\":\"#E5ECF6\",\"width\":0.5},\"pattern\":{\"fillmode\":\"overlay\",\"size\":10,\"solidity\":0.2}},\"type\":\"bar\"}],\"scattergeo\":[{\"type\":\"scattergeo\",\"marker\":{\"colorbar\":{\"outlinewidth\":0,\"ticks\":\"\"}}}],\"scatterpolar\":[{\"type\":\"scatterpolar\",\"marker\":{\"colorbar\":{\"outlinewidth\":0,\"ticks\":\"\"}}}],\"histogram\":[{\"marker\":{\"pattern\":{\"fillmode\":\"overlay\",\"size\":10,\"solidity\":0.2}},\"type\":\"histogram\"}],\"scattergl\":[{\"type\":\"scattergl\",\"marker\":{\"colorbar\":{\"outlinewidth\":0,\"ticks\":\"\"}}}],\"scatter3d\":[{\"type\":\"scatter3d\",\"line\":{\"colorbar\":{\"outlinewidth\":0,\"ticks\":\"\"}},\"marker\":{\"colorbar\":{\"outlinewidth\":0,\"ticks\":\"\"}}}],\"scattermapbox\":[{\"type\":\"scattermapbox\",\"marker\":{\"colorbar\":{\"outlinewidth\":0,\"ticks\":\"\"}}}],\"scatterternary\":[{\"type\":\"scatterternary\",\"marker\":{\"colorbar\":{\"outlinewidth\":0,\"ticks\":\"\"}}}],\"scattercarpet\":[{\"type\":\"scattercarpet\",\"marker\":{\"colorbar\":{\"outlinewidth\":0,\"ticks\":\"\"}}}],\"carpet\":[{\"aaxis\":{\"endlinecolor\":\"#2a3f5f\",\"gridcolor\":\"white\",\"linecolor\":\"white\",\"minorgridcolor\":\"white\",\"startlinecolor\":\"#2a3f5f\"},\"baxis\":{\"endlinecolor\":\"#2a3f5f\",\"gridcolor\":\"white\",\"linecolor\":\"white\",\"minorgridcolor\":\"white\",\"startlinecolor\":\"#2a3f5f\"},\"type\":\"carpet\"}],\"table\":[{\"cells\":{\"fill\":{\"color\":\"#EBF0F8\"},\"line\":{\"color\":\"white\"}},\"header\":{\"fill\":{\"color\":\"#C8D4E3\"},\"line\":{\"color\":\"white\"}},\"type\":\"table\"}],\"barpolar\":[{\"marker\":{\"line\":{\"color\":\"#E5ECF6\",\"width\":0.5},\"pattern\":{\"fillmode\":\"overlay\",\"size\":10,\"solidity\":0.2}},\"type\":\"barpolar\"}],\"pie\":[{\"automargin\":true,\"type\":\"pie\"}]},\"layout\":{\"autotypenumbers\":\"strict\",\"colorway\":[\"#636efa\",\"#EF553B\",\"#00cc96\",\"#ab63fa\",\"#FFA15A\",\"#19d3f3\",\"#FF6692\",\"#B6E880\",\"#FF97FF\",\"#FECB52\"],\"font\":{\"color\":\"#2a3f5f\"},\"hovermode\":\"closest\",\"hoverlabel\":{\"align\":\"left\"},\"paper_bgcolor\":\"white\",\"plot_bgcolor\":\"#E5ECF6\",\"polar\":{\"bgcolor\":\"#E5ECF6\",\"angularaxis\":{\"gridcolor\":\"white\",\"linecolor\":\"white\",\"ticks\":\"\"},\"radialaxis\":{\"gridcolor\":\"white\",\"linecolor\":\"white\",\"ticks\":\"\"}},\"ternary\":{\"bgcolor\":\"#E5ECF6\",\"aaxis\":{\"gridcolor\":\"white\",\"linecolor\":\"white\",\"ticks\":\"\"},\"baxis\":{\"gridcolor\":\"white\",\"linecolor\":\"white\",\"ticks\":\"\"},\"caxis\":{\"gridcolor\":\"white\",\"linecolor\":\"white\",\"ticks\":\"\"}},\"coloraxis\":{\"colorbar\":{\"outlinewidth\":0,\"ticks\":\"\"}},\"colorscale\":{\"sequential\":[[0.0,\"#0d0887\"],[0.1111111111111111,\"#46039f\"],[0.2222222222222222,\"#7201a8\"],[0.3333333333333333,\"#9c179e\"],[0.4444444444444444,\"#bd3786\"],[0.5555555555555556,\"#d8576b\"],[0.6666666666666666,\"#ed7953\"],[0.7777777777777778,\"#fb9f3a\"],[0.8888888888888888,\"#fdca26\"],[1.0,\"#f0f921\"]],\"sequentialminus\":[[0.0,\"#0d0887\"],[0.1111111111111111,\"#46039f\"],[0.2222222222222222,\"#7201a8\"],[0.3333333333333333,\"#9c179e\"],[0.4444444444444444,\"#bd3786\"],[0.5555555555555556,\"#d8576b\"],[0.6666666666666666,\"#ed7953\"],[0.7777777777777778,\"#fb9f3a\"],[0.8888888888888888,\"#fdca26\"],[1.0,\"#f0f921\"]],\"diverging\":[[0,\"#8e0152\"],[0.1,\"#c51b7d\"],[0.2,\"#de77ae\"],[0.3,\"#f1b6da\"],[0.4,\"#fde0ef\"],[0.5,\"#f7f7f7\"],[0.6,\"#e6f5d0\"],[0.7,\"#b8e186\"],[0.8,\"#7fbc41\"],[0.9,\"#4d9221\"],[1,\"#276419\"]]},\"xaxis\":{\"gridcolor\":\"white\",\"linecolor\":\"white\",\"ticks\":\"\",\"title\":{\"standoff\":15},\"zerolinecolor\":\"white\",\"automargin\":true,\"zerolinewidth\":2},\"yaxis\":{\"gridcolor\":\"white\",\"linecolor\":\"white\",\"ticks\":\"\",\"title\":{\"standoff\":15},\"zerolinecolor\":\"white\",\"automargin\":true,\"zerolinewidth\":2},\"scene\":{\"xaxis\":{\"backgroundcolor\":\"#E5ECF6\",\"gridcolor\":\"white\",\"linecolor\":\"white\",\"showbackground\":true,\"ticks\":\"\",\"zerolinecolor\":\"white\",\"gridwidth\":2},\"yaxis\":{\"backgroundcolor\":\"#E5ECF6\",\"gridcolor\":\"white\",\"linecolor\":\"white\",\"showbackground\":true,\"ticks\":\"\",\"zerolinecolor\":\"white\",\"gridwidth\":2},\"zaxis\":{\"backgroundcolor\":\"#E5ECF6\",\"gridcolor\":\"white\",\"linecolor\":\"white\",\"showbackground\":true,\"ticks\":\"\",\"zerolinecolor\":\"white\",\"gridwidth\":2}},\"shapedefaults\":{\"line\":{\"color\":\"#2a3f5f\"}},\"annotationdefaults\":{\"arrowcolor\":\"#2a3f5f\",\"arrowhead\":0,\"arrowwidth\":1},\"geo\":{\"bgcolor\":\"white\",\"landcolor\":\"#E5ECF6\",\"subunitcolor\":\"white\",\"showland\":true,\"showlakes\":true,\"lakecolor\":\"white\"},\"title\":{\"x\":0.05},\"mapbox\":{\"style\":\"light\"}}},\"yaxis\":{\"title\":{\"text\":\"Valor de Fechamento\"}},\"xaxis\":{\"title\":{\"text\":\"periodo\"}}},                        {\"responsive\": true}                    ).then(function(){\n",
       "                            \n",
       "var gd = document.getElementById('0d2a9c3f-3cbf-4f40-86e3-a5def0221a1a');\n",
       "var x = new MutationObserver(function (mutations, observer) {{\n",
       "        var display = window.getComputedStyle(gd).display;\n",
       "        if (!display || display === 'none') {{\n",
       "            console.log([gd, 'removed!']);\n",
       "            Plotly.purge(gd);\n",
       "            observer.disconnect();\n",
       "        }}\n",
       "}});\n",
       "\n",
       "// Listen for the removal of the full notebook cells\n",
       "var notebookContainer = gd.closest('#notebook-container');\n",
       "if (notebookContainer) {{\n",
       "    x.observe(notebookContainer, {childList: true});\n",
       "}}\n",
       "\n",
       "// Listen for the clearing of the current output cell\n",
       "var outputEl = gd.closest('.output');\n",
       "if (outputEl) {{\n",
       "    x.observe(outputEl, {childList: true});\n",
       "}}\n",
       "\n",
       "                        })                };                });            </script>        </div>"
      ]
     },
     "metadata": {},
     "output_type": "display_data"
    }
   ],
   "source": [
    "import plotly.graph_objs as go\n",
    "fig = go.Figure()\n",
    "\n",
    "fig.add_trace(go.Scatter(\n",
    "   y=bova11['close_change'][-50:],\n",
    "   name=\"Real\")\n",
    ")\n",
    "\n",
    "fig.add_trace(go.Scatter(\n",
    "   y=pred_30_lstm['close_change'][-50:],\n",
    "   name=\"LSTM\")\n",
    ")\n",
    "\n",
    "fig.add_trace(go.Scatter(\n",
    "   y=pred_30_gru.close_change[-50:],\n",
    "   name=\"GRU\")\n",
    ")\n",
    "\n",
    "fig.update_layout(\n",
    "   #title=\"Banda de Bollinger superior e inferior dos ultimos 60 dias de fechamento de 2009 a Fev 2023\",\n",
    "    yaxis_title=\"Valor de Fechamento\",\n",
    "    xaxis_title=\"periodo\",\n",
    "   #legend_title=\"legend\",\n",
    ")\n",
    "fig.show()"
   ]
  },
  {
   "cell_type": "code",
   "execution_count": 210,
   "id": "96fc0df8",
   "metadata": {},
   "outputs": [
    {
     "data": {
      "application/vnd.plotly.v1+json": {
       "config": {
        "plotlyServerURL": "https://plot.ly"
       },
       "data": [
        {
         "name": "Real",
         "type": "scatter",
         "y": [
          -0.910003662109375,
          -1.8799972534179688,
          2.3300018310546875,
          0.529998779296875,
          0.779998779296875,
          -0.660003662109375,
          -0.5499954223632812,
          1.529998779296875,
          1.220001220703125,
          -0.23000335693359375
         ]
        },
        {
         "name": "LSTM",
         "type": "scatter",
         "y": [
          -0.910003662109375,
          -1.8799972534179688,
          2.3300018310546875,
          0.529998779296875,
          0.779998779296875,
          -1.260010089532443,
          -0.2551460333721707,
          -0.1331658381767511,
          -0.20390178983052465,
          -0.24113403948763334
         ]
        },
        {
         "name": "GRU",
         "type": "scatter",
         "y": [
          -0.910003662109375,
          -1.8799972534179688,
          2.3300018310546875,
          0.529998779296875,
          0.779998779296875,
          -1.068752361040083,
          -0.4080138261030015,
          -0.24780869868277478,
          -0.36990865450968613,
          -0.3192232939150017
         ]
        }
       ],
       "layout": {
        "template": {
         "data": {
          "bar": [
           {
            "error_x": {
             "color": "#2a3f5f"
            },
            "error_y": {
             "color": "#2a3f5f"
            },
            "marker": {
             "line": {
              "color": "#E5ECF6",
              "width": 0.5
             },
             "pattern": {
              "fillmode": "overlay",
              "size": 10,
              "solidity": 0.2
             }
            },
            "type": "bar"
           }
          ],
          "barpolar": [
           {
            "marker": {
             "line": {
              "color": "#E5ECF6",
              "width": 0.5
             },
             "pattern": {
              "fillmode": "overlay",
              "size": 10,
              "solidity": 0.2
             }
            },
            "type": "barpolar"
           }
          ],
          "carpet": [
           {
            "aaxis": {
             "endlinecolor": "#2a3f5f",
             "gridcolor": "white",
             "linecolor": "white",
             "minorgridcolor": "white",
             "startlinecolor": "#2a3f5f"
            },
            "baxis": {
             "endlinecolor": "#2a3f5f",
             "gridcolor": "white",
             "linecolor": "white",
             "minorgridcolor": "white",
             "startlinecolor": "#2a3f5f"
            },
            "type": "carpet"
           }
          ],
          "choropleth": [
           {
            "colorbar": {
             "outlinewidth": 0,
             "ticks": ""
            },
            "type": "choropleth"
           }
          ],
          "contour": [
           {
            "colorbar": {
             "outlinewidth": 0,
             "ticks": ""
            },
            "colorscale": [
             [
              0,
              "#0d0887"
             ],
             [
              0.1111111111111111,
              "#46039f"
             ],
             [
              0.2222222222222222,
              "#7201a8"
             ],
             [
              0.3333333333333333,
              "#9c179e"
             ],
             [
              0.4444444444444444,
              "#bd3786"
             ],
             [
              0.5555555555555556,
              "#d8576b"
             ],
             [
              0.6666666666666666,
              "#ed7953"
             ],
             [
              0.7777777777777778,
              "#fb9f3a"
             ],
             [
              0.8888888888888888,
              "#fdca26"
             ],
             [
              1,
              "#f0f921"
             ]
            ],
            "type": "contour"
           }
          ],
          "contourcarpet": [
           {
            "colorbar": {
             "outlinewidth": 0,
             "ticks": ""
            },
            "type": "contourcarpet"
           }
          ],
          "heatmap": [
           {
            "colorbar": {
             "outlinewidth": 0,
             "ticks": ""
            },
            "colorscale": [
             [
              0,
              "#0d0887"
             ],
             [
              0.1111111111111111,
              "#46039f"
             ],
             [
              0.2222222222222222,
              "#7201a8"
             ],
             [
              0.3333333333333333,
              "#9c179e"
             ],
             [
              0.4444444444444444,
              "#bd3786"
             ],
             [
              0.5555555555555556,
              "#d8576b"
             ],
             [
              0.6666666666666666,
              "#ed7953"
             ],
             [
              0.7777777777777778,
              "#fb9f3a"
             ],
             [
              0.8888888888888888,
              "#fdca26"
             ],
             [
              1,
              "#f0f921"
             ]
            ],
            "type": "heatmap"
           }
          ],
          "heatmapgl": [
           {
            "colorbar": {
             "outlinewidth": 0,
             "ticks": ""
            },
            "colorscale": [
             [
              0,
              "#0d0887"
             ],
             [
              0.1111111111111111,
              "#46039f"
             ],
             [
              0.2222222222222222,
              "#7201a8"
             ],
             [
              0.3333333333333333,
              "#9c179e"
             ],
             [
              0.4444444444444444,
              "#bd3786"
             ],
             [
              0.5555555555555556,
              "#d8576b"
             ],
             [
              0.6666666666666666,
              "#ed7953"
             ],
             [
              0.7777777777777778,
              "#fb9f3a"
             ],
             [
              0.8888888888888888,
              "#fdca26"
             ],
             [
              1,
              "#f0f921"
             ]
            ],
            "type": "heatmapgl"
           }
          ],
          "histogram": [
           {
            "marker": {
             "pattern": {
              "fillmode": "overlay",
              "size": 10,
              "solidity": 0.2
             }
            },
            "type": "histogram"
           }
          ],
          "histogram2d": [
           {
            "colorbar": {
             "outlinewidth": 0,
             "ticks": ""
            },
            "colorscale": [
             [
              0,
              "#0d0887"
             ],
             [
              0.1111111111111111,
              "#46039f"
             ],
             [
              0.2222222222222222,
              "#7201a8"
             ],
             [
              0.3333333333333333,
              "#9c179e"
             ],
             [
              0.4444444444444444,
              "#bd3786"
             ],
             [
              0.5555555555555556,
              "#d8576b"
             ],
             [
              0.6666666666666666,
              "#ed7953"
             ],
             [
              0.7777777777777778,
              "#fb9f3a"
             ],
             [
              0.8888888888888888,
              "#fdca26"
             ],
             [
              1,
              "#f0f921"
             ]
            ],
            "type": "histogram2d"
           }
          ],
          "histogram2dcontour": [
           {
            "colorbar": {
             "outlinewidth": 0,
             "ticks": ""
            },
            "colorscale": [
             [
              0,
              "#0d0887"
             ],
             [
              0.1111111111111111,
              "#46039f"
             ],
             [
              0.2222222222222222,
              "#7201a8"
             ],
             [
              0.3333333333333333,
              "#9c179e"
             ],
             [
              0.4444444444444444,
              "#bd3786"
             ],
             [
              0.5555555555555556,
              "#d8576b"
             ],
             [
              0.6666666666666666,
              "#ed7953"
             ],
             [
              0.7777777777777778,
              "#fb9f3a"
             ],
             [
              0.8888888888888888,
              "#fdca26"
             ],
             [
              1,
              "#f0f921"
             ]
            ],
            "type": "histogram2dcontour"
           }
          ],
          "mesh3d": [
           {
            "colorbar": {
             "outlinewidth": 0,
             "ticks": ""
            },
            "type": "mesh3d"
           }
          ],
          "parcoords": [
           {
            "line": {
             "colorbar": {
              "outlinewidth": 0,
              "ticks": ""
             }
            },
            "type": "parcoords"
           }
          ],
          "pie": [
           {
            "automargin": true,
            "type": "pie"
           }
          ],
          "scatter": [
           {
            "fillpattern": {
             "fillmode": "overlay",
             "size": 10,
             "solidity": 0.2
            },
            "type": "scatter"
           }
          ],
          "scatter3d": [
           {
            "line": {
             "colorbar": {
              "outlinewidth": 0,
              "ticks": ""
             }
            },
            "marker": {
             "colorbar": {
              "outlinewidth": 0,
              "ticks": ""
             }
            },
            "type": "scatter3d"
           }
          ],
          "scattercarpet": [
           {
            "marker": {
             "colorbar": {
              "outlinewidth": 0,
              "ticks": ""
             }
            },
            "type": "scattercarpet"
           }
          ],
          "scattergeo": [
           {
            "marker": {
             "colorbar": {
              "outlinewidth": 0,
              "ticks": ""
             }
            },
            "type": "scattergeo"
           }
          ],
          "scattergl": [
           {
            "marker": {
             "colorbar": {
              "outlinewidth": 0,
              "ticks": ""
             }
            },
            "type": "scattergl"
           }
          ],
          "scattermapbox": [
           {
            "marker": {
             "colorbar": {
              "outlinewidth": 0,
              "ticks": ""
             }
            },
            "type": "scattermapbox"
           }
          ],
          "scatterpolar": [
           {
            "marker": {
             "colorbar": {
              "outlinewidth": 0,
              "ticks": ""
             }
            },
            "type": "scatterpolar"
           }
          ],
          "scatterpolargl": [
           {
            "marker": {
             "colorbar": {
              "outlinewidth": 0,
              "ticks": ""
             }
            },
            "type": "scatterpolargl"
           }
          ],
          "scatterternary": [
           {
            "marker": {
             "colorbar": {
              "outlinewidth": 0,
              "ticks": ""
             }
            },
            "type": "scatterternary"
           }
          ],
          "surface": [
           {
            "colorbar": {
             "outlinewidth": 0,
             "ticks": ""
            },
            "colorscale": [
             [
              0,
              "#0d0887"
             ],
             [
              0.1111111111111111,
              "#46039f"
             ],
             [
              0.2222222222222222,
              "#7201a8"
             ],
             [
              0.3333333333333333,
              "#9c179e"
             ],
             [
              0.4444444444444444,
              "#bd3786"
             ],
             [
              0.5555555555555556,
              "#d8576b"
             ],
             [
              0.6666666666666666,
              "#ed7953"
             ],
             [
              0.7777777777777778,
              "#fb9f3a"
             ],
             [
              0.8888888888888888,
              "#fdca26"
             ],
             [
              1,
              "#f0f921"
             ]
            ],
            "type": "surface"
           }
          ],
          "table": [
           {
            "cells": {
             "fill": {
              "color": "#EBF0F8"
             },
             "line": {
              "color": "white"
             }
            },
            "header": {
             "fill": {
              "color": "#C8D4E3"
             },
             "line": {
              "color": "white"
             }
            },
            "type": "table"
           }
          ]
         },
         "layout": {
          "annotationdefaults": {
           "arrowcolor": "#2a3f5f",
           "arrowhead": 0,
           "arrowwidth": 1
          },
          "autotypenumbers": "strict",
          "coloraxis": {
           "colorbar": {
            "outlinewidth": 0,
            "ticks": ""
           }
          },
          "colorscale": {
           "diverging": [
            [
             0,
             "#8e0152"
            ],
            [
             0.1,
             "#c51b7d"
            ],
            [
             0.2,
             "#de77ae"
            ],
            [
             0.3,
             "#f1b6da"
            ],
            [
             0.4,
             "#fde0ef"
            ],
            [
             0.5,
             "#f7f7f7"
            ],
            [
             0.6,
             "#e6f5d0"
            ],
            [
             0.7,
             "#b8e186"
            ],
            [
             0.8,
             "#7fbc41"
            ],
            [
             0.9,
             "#4d9221"
            ],
            [
             1,
             "#276419"
            ]
           ],
           "sequential": [
            [
             0,
             "#0d0887"
            ],
            [
             0.1111111111111111,
             "#46039f"
            ],
            [
             0.2222222222222222,
             "#7201a8"
            ],
            [
             0.3333333333333333,
             "#9c179e"
            ],
            [
             0.4444444444444444,
             "#bd3786"
            ],
            [
             0.5555555555555556,
             "#d8576b"
            ],
            [
             0.6666666666666666,
             "#ed7953"
            ],
            [
             0.7777777777777778,
             "#fb9f3a"
            ],
            [
             0.8888888888888888,
             "#fdca26"
            ],
            [
             1,
             "#f0f921"
            ]
           ],
           "sequentialminus": [
            [
             0,
             "#0d0887"
            ],
            [
             0.1111111111111111,
             "#46039f"
            ],
            [
             0.2222222222222222,
             "#7201a8"
            ],
            [
             0.3333333333333333,
             "#9c179e"
            ],
            [
             0.4444444444444444,
             "#bd3786"
            ],
            [
             0.5555555555555556,
             "#d8576b"
            ],
            [
             0.6666666666666666,
             "#ed7953"
            ],
            [
             0.7777777777777778,
             "#fb9f3a"
            ],
            [
             0.8888888888888888,
             "#fdca26"
            ],
            [
             1,
             "#f0f921"
            ]
           ]
          },
          "colorway": [
           "#636efa",
           "#EF553B",
           "#00cc96",
           "#ab63fa",
           "#FFA15A",
           "#19d3f3",
           "#FF6692",
           "#B6E880",
           "#FF97FF",
           "#FECB52"
          ],
          "font": {
           "color": "#2a3f5f"
          },
          "geo": {
           "bgcolor": "white",
           "lakecolor": "white",
           "landcolor": "#E5ECF6",
           "showlakes": true,
           "showland": true,
           "subunitcolor": "white"
          },
          "hoverlabel": {
           "align": "left"
          },
          "hovermode": "closest",
          "mapbox": {
           "style": "light"
          },
          "paper_bgcolor": "white",
          "plot_bgcolor": "#E5ECF6",
          "polar": {
           "angularaxis": {
            "gridcolor": "white",
            "linecolor": "white",
            "ticks": ""
           },
           "bgcolor": "#E5ECF6",
           "radialaxis": {
            "gridcolor": "white",
            "linecolor": "white",
            "ticks": ""
           }
          },
          "scene": {
           "xaxis": {
            "backgroundcolor": "#E5ECF6",
            "gridcolor": "white",
            "gridwidth": 2,
            "linecolor": "white",
            "showbackground": true,
            "ticks": "",
            "zerolinecolor": "white"
           },
           "yaxis": {
            "backgroundcolor": "#E5ECF6",
            "gridcolor": "white",
            "gridwidth": 2,
            "linecolor": "white",
            "showbackground": true,
            "ticks": "",
            "zerolinecolor": "white"
           },
           "zaxis": {
            "backgroundcolor": "#E5ECF6",
            "gridcolor": "white",
            "gridwidth": 2,
            "linecolor": "white",
            "showbackground": true,
            "ticks": "",
            "zerolinecolor": "white"
           }
          },
          "shapedefaults": {
           "line": {
            "color": "#2a3f5f"
           }
          },
          "ternary": {
           "aaxis": {
            "gridcolor": "white",
            "linecolor": "white",
            "ticks": ""
           },
           "baxis": {
            "gridcolor": "white",
            "linecolor": "white",
            "ticks": ""
           },
           "bgcolor": "#E5ECF6",
           "caxis": {
            "gridcolor": "white",
            "linecolor": "white",
            "ticks": ""
           }
          },
          "title": {
           "x": 0.05
          },
          "xaxis": {
           "automargin": true,
           "gridcolor": "white",
           "linecolor": "white",
           "ticks": "",
           "title": {
            "standoff": 15
           },
           "zerolinecolor": "white",
           "zerolinewidth": 2
          },
          "yaxis": {
           "automargin": true,
           "gridcolor": "white",
           "linecolor": "white",
           "ticks": "",
           "title": {
            "standoff": 15
           },
           "zerolinecolor": "white",
           "zerolinewidth": 2
          }
         }
        },
        "xaxis": {
         "title": {
          "text": "periodo"
         }
        },
        "yaxis": {
         "title": {
          "text": "Valor de Fechamento"
         }
        }
       }
      },
      "text/html": [
       "<div>                            <div id=\"2b422387-ecc0-4dd5-a1e6-d7e183357456\" class=\"plotly-graph-div\" style=\"height:525px; width:100%;\"></div>            <script type=\"text/javascript\">                require([\"plotly\"], function(Plotly) {                    window.PLOTLYENV=window.PLOTLYENV || {};                                    if (document.getElementById(\"2b422387-ecc0-4dd5-a1e6-d7e183357456\")) {                    Plotly.newPlot(                        \"2b422387-ecc0-4dd5-a1e6-d7e183357456\",                        [{\"name\":\"Real\",\"y\":[-0.910003662109375,-1.8799972534179688,2.3300018310546875,0.529998779296875,0.779998779296875,-0.660003662109375,-0.5499954223632812,1.529998779296875,1.220001220703125,-0.23000335693359375],\"type\":\"scatter\"},{\"name\":\"LSTM\",\"y\":[-0.910003662109375,-1.8799972534179688,2.3300018310546875,0.529998779296875,0.779998779296875,-1.260010089532443,-0.2551460333721707,-0.1331658381767511,-0.20390178983052465,-0.24113403948763334],\"type\":\"scatter\"},{\"name\":\"GRU\",\"y\":[-0.910003662109375,-1.8799972534179688,2.3300018310546875,0.529998779296875,0.779998779296875,-1.068752361040083,-0.4080138261030015,-0.24780869868277478,-0.36990865450968613,-0.3192232939150017],\"type\":\"scatter\"}],                        {\"template\":{\"data\":{\"histogram2dcontour\":[{\"type\":\"histogram2dcontour\",\"colorbar\":{\"outlinewidth\":0,\"ticks\":\"\"},\"colorscale\":[[0.0,\"#0d0887\"],[0.1111111111111111,\"#46039f\"],[0.2222222222222222,\"#7201a8\"],[0.3333333333333333,\"#9c179e\"],[0.4444444444444444,\"#bd3786\"],[0.5555555555555556,\"#d8576b\"],[0.6666666666666666,\"#ed7953\"],[0.7777777777777778,\"#fb9f3a\"],[0.8888888888888888,\"#fdca26\"],[1.0,\"#f0f921\"]]}],\"choropleth\":[{\"type\":\"choropleth\",\"colorbar\":{\"outlinewidth\":0,\"ticks\":\"\"}}],\"histogram2d\":[{\"type\":\"histogram2d\",\"colorbar\":{\"outlinewidth\":0,\"ticks\":\"\"},\"colorscale\":[[0.0,\"#0d0887\"],[0.1111111111111111,\"#46039f\"],[0.2222222222222222,\"#7201a8\"],[0.3333333333333333,\"#9c179e\"],[0.4444444444444444,\"#bd3786\"],[0.5555555555555556,\"#d8576b\"],[0.6666666666666666,\"#ed7953\"],[0.7777777777777778,\"#fb9f3a\"],[0.8888888888888888,\"#fdca26\"],[1.0,\"#f0f921\"]]}],\"heatmap\":[{\"type\":\"heatmap\",\"colorbar\":{\"outlinewidth\":0,\"ticks\":\"\"},\"colorscale\":[[0.0,\"#0d0887\"],[0.1111111111111111,\"#46039f\"],[0.2222222222222222,\"#7201a8\"],[0.3333333333333333,\"#9c179e\"],[0.4444444444444444,\"#bd3786\"],[0.5555555555555556,\"#d8576b\"],[0.6666666666666666,\"#ed7953\"],[0.7777777777777778,\"#fb9f3a\"],[0.8888888888888888,\"#fdca26\"],[1.0,\"#f0f921\"]]}],\"heatmapgl\":[{\"type\":\"heatmapgl\",\"colorbar\":{\"outlinewidth\":0,\"ticks\":\"\"},\"colorscale\":[[0.0,\"#0d0887\"],[0.1111111111111111,\"#46039f\"],[0.2222222222222222,\"#7201a8\"],[0.3333333333333333,\"#9c179e\"],[0.4444444444444444,\"#bd3786\"],[0.5555555555555556,\"#d8576b\"],[0.6666666666666666,\"#ed7953\"],[0.7777777777777778,\"#fb9f3a\"],[0.8888888888888888,\"#fdca26\"],[1.0,\"#f0f921\"]]}],\"contourcarpet\":[{\"type\":\"contourcarpet\",\"colorbar\":{\"outlinewidth\":0,\"ticks\":\"\"}}],\"contour\":[{\"type\":\"contour\",\"colorbar\":{\"outlinewidth\":0,\"ticks\":\"\"},\"colorscale\":[[0.0,\"#0d0887\"],[0.1111111111111111,\"#46039f\"],[0.2222222222222222,\"#7201a8\"],[0.3333333333333333,\"#9c179e\"],[0.4444444444444444,\"#bd3786\"],[0.5555555555555556,\"#d8576b\"],[0.6666666666666666,\"#ed7953\"],[0.7777777777777778,\"#fb9f3a\"],[0.8888888888888888,\"#fdca26\"],[1.0,\"#f0f921\"]]}],\"surface\":[{\"type\":\"surface\",\"colorbar\":{\"outlinewidth\":0,\"ticks\":\"\"},\"colorscale\":[[0.0,\"#0d0887\"],[0.1111111111111111,\"#46039f\"],[0.2222222222222222,\"#7201a8\"],[0.3333333333333333,\"#9c179e\"],[0.4444444444444444,\"#bd3786\"],[0.5555555555555556,\"#d8576b\"],[0.6666666666666666,\"#ed7953\"],[0.7777777777777778,\"#fb9f3a\"],[0.8888888888888888,\"#fdca26\"],[1.0,\"#f0f921\"]]}],\"mesh3d\":[{\"type\":\"mesh3d\",\"colorbar\":{\"outlinewidth\":0,\"ticks\":\"\"}}],\"scatter\":[{\"fillpattern\":{\"fillmode\":\"overlay\",\"size\":10,\"solidity\":0.2},\"type\":\"scatter\"}],\"parcoords\":[{\"type\":\"parcoords\",\"line\":{\"colorbar\":{\"outlinewidth\":0,\"ticks\":\"\"}}}],\"scatterpolargl\":[{\"type\":\"scatterpolargl\",\"marker\":{\"colorbar\":{\"outlinewidth\":0,\"ticks\":\"\"}}}],\"bar\":[{\"error_x\":{\"color\":\"#2a3f5f\"},\"error_y\":{\"color\":\"#2a3f5f\"},\"marker\":{\"line\":{\"color\":\"#E5ECF6\",\"width\":0.5},\"pattern\":{\"fillmode\":\"overlay\",\"size\":10,\"solidity\":0.2}},\"type\":\"bar\"}],\"scattergeo\":[{\"type\":\"scattergeo\",\"marker\":{\"colorbar\":{\"outlinewidth\":0,\"ticks\":\"\"}}}],\"scatterpolar\":[{\"type\":\"scatterpolar\",\"marker\":{\"colorbar\":{\"outlinewidth\":0,\"ticks\":\"\"}}}],\"histogram\":[{\"marker\":{\"pattern\":{\"fillmode\":\"overlay\",\"size\":10,\"solidity\":0.2}},\"type\":\"histogram\"}],\"scattergl\":[{\"type\":\"scattergl\",\"marker\":{\"colorbar\":{\"outlinewidth\":0,\"ticks\":\"\"}}}],\"scatter3d\":[{\"type\":\"scatter3d\",\"line\":{\"colorbar\":{\"outlinewidth\":0,\"ticks\":\"\"}},\"marker\":{\"colorbar\":{\"outlinewidth\":0,\"ticks\":\"\"}}}],\"scattermapbox\":[{\"type\":\"scattermapbox\",\"marker\":{\"colorbar\":{\"outlinewidth\":0,\"ticks\":\"\"}}}],\"scatterternary\":[{\"type\":\"scatterternary\",\"marker\":{\"colorbar\":{\"outlinewidth\":0,\"ticks\":\"\"}}}],\"scattercarpet\":[{\"type\":\"scattercarpet\",\"marker\":{\"colorbar\":{\"outlinewidth\":0,\"ticks\":\"\"}}}],\"carpet\":[{\"aaxis\":{\"endlinecolor\":\"#2a3f5f\",\"gridcolor\":\"white\",\"linecolor\":\"white\",\"minorgridcolor\":\"white\",\"startlinecolor\":\"#2a3f5f\"},\"baxis\":{\"endlinecolor\":\"#2a3f5f\",\"gridcolor\":\"white\",\"linecolor\":\"white\",\"minorgridcolor\":\"white\",\"startlinecolor\":\"#2a3f5f\"},\"type\":\"carpet\"}],\"table\":[{\"cells\":{\"fill\":{\"color\":\"#EBF0F8\"},\"line\":{\"color\":\"white\"}},\"header\":{\"fill\":{\"color\":\"#C8D4E3\"},\"line\":{\"color\":\"white\"}},\"type\":\"table\"}],\"barpolar\":[{\"marker\":{\"line\":{\"color\":\"#E5ECF6\",\"width\":0.5},\"pattern\":{\"fillmode\":\"overlay\",\"size\":10,\"solidity\":0.2}},\"type\":\"barpolar\"}],\"pie\":[{\"automargin\":true,\"type\":\"pie\"}]},\"layout\":{\"autotypenumbers\":\"strict\",\"colorway\":[\"#636efa\",\"#EF553B\",\"#00cc96\",\"#ab63fa\",\"#FFA15A\",\"#19d3f3\",\"#FF6692\",\"#B6E880\",\"#FF97FF\",\"#FECB52\"],\"font\":{\"color\":\"#2a3f5f\"},\"hovermode\":\"closest\",\"hoverlabel\":{\"align\":\"left\"},\"paper_bgcolor\":\"white\",\"plot_bgcolor\":\"#E5ECF6\",\"polar\":{\"bgcolor\":\"#E5ECF6\",\"angularaxis\":{\"gridcolor\":\"white\",\"linecolor\":\"white\",\"ticks\":\"\"},\"radialaxis\":{\"gridcolor\":\"white\",\"linecolor\":\"white\",\"ticks\":\"\"}},\"ternary\":{\"bgcolor\":\"#E5ECF6\",\"aaxis\":{\"gridcolor\":\"white\",\"linecolor\":\"white\",\"ticks\":\"\"},\"baxis\":{\"gridcolor\":\"white\",\"linecolor\":\"white\",\"ticks\":\"\"},\"caxis\":{\"gridcolor\":\"white\",\"linecolor\":\"white\",\"ticks\":\"\"}},\"coloraxis\":{\"colorbar\":{\"outlinewidth\":0,\"ticks\":\"\"}},\"colorscale\":{\"sequential\":[[0.0,\"#0d0887\"],[0.1111111111111111,\"#46039f\"],[0.2222222222222222,\"#7201a8\"],[0.3333333333333333,\"#9c179e\"],[0.4444444444444444,\"#bd3786\"],[0.5555555555555556,\"#d8576b\"],[0.6666666666666666,\"#ed7953\"],[0.7777777777777778,\"#fb9f3a\"],[0.8888888888888888,\"#fdca26\"],[1.0,\"#f0f921\"]],\"sequentialminus\":[[0.0,\"#0d0887\"],[0.1111111111111111,\"#46039f\"],[0.2222222222222222,\"#7201a8\"],[0.3333333333333333,\"#9c179e\"],[0.4444444444444444,\"#bd3786\"],[0.5555555555555556,\"#d8576b\"],[0.6666666666666666,\"#ed7953\"],[0.7777777777777778,\"#fb9f3a\"],[0.8888888888888888,\"#fdca26\"],[1.0,\"#f0f921\"]],\"diverging\":[[0,\"#8e0152\"],[0.1,\"#c51b7d\"],[0.2,\"#de77ae\"],[0.3,\"#f1b6da\"],[0.4,\"#fde0ef\"],[0.5,\"#f7f7f7\"],[0.6,\"#e6f5d0\"],[0.7,\"#b8e186\"],[0.8,\"#7fbc41\"],[0.9,\"#4d9221\"],[1,\"#276419\"]]},\"xaxis\":{\"gridcolor\":\"white\",\"linecolor\":\"white\",\"ticks\":\"\",\"title\":{\"standoff\":15},\"zerolinecolor\":\"white\",\"automargin\":true,\"zerolinewidth\":2},\"yaxis\":{\"gridcolor\":\"white\",\"linecolor\":\"white\",\"ticks\":\"\",\"title\":{\"standoff\":15},\"zerolinecolor\":\"white\",\"automargin\":true,\"zerolinewidth\":2},\"scene\":{\"xaxis\":{\"backgroundcolor\":\"#E5ECF6\",\"gridcolor\":\"white\",\"linecolor\":\"white\",\"showbackground\":true,\"ticks\":\"\",\"zerolinecolor\":\"white\",\"gridwidth\":2},\"yaxis\":{\"backgroundcolor\":\"#E5ECF6\",\"gridcolor\":\"white\",\"linecolor\":\"white\",\"showbackground\":true,\"ticks\":\"\",\"zerolinecolor\":\"white\",\"gridwidth\":2},\"zaxis\":{\"backgroundcolor\":\"#E5ECF6\",\"gridcolor\":\"white\",\"linecolor\":\"white\",\"showbackground\":true,\"ticks\":\"\",\"zerolinecolor\":\"white\",\"gridwidth\":2}},\"shapedefaults\":{\"line\":{\"color\":\"#2a3f5f\"}},\"annotationdefaults\":{\"arrowcolor\":\"#2a3f5f\",\"arrowhead\":0,\"arrowwidth\":1},\"geo\":{\"bgcolor\":\"white\",\"landcolor\":\"#E5ECF6\",\"subunitcolor\":\"white\",\"showland\":true,\"showlakes\":true,\"lakecolor\":\"white\"},\"title\":{\"x\":0.05},\"mapbox\":{\"style\":\"light\"}}},\"yaxis\":{\"title\":{\"text\":\"Valor de Fechamento\"}},\"xaxis\":{\"title\":{\"text\":\"periodo\"}}},                        {\"responsive\": true}                    ).then(function(){\n",
       "                            \n",
       "var gd = document.getElementById('2b422387-ecc0-4dd5-a1e6-d7e183357456');\n",
       "var x = new MutationObserver(function (mutations, observer) {{\n",
       "        var display = window.getComputedStyle(gd).display;\n",
       "        if (!display || display === 'none') {{\n",
       "            console.log([gd, 'removed!']);\n",
       "            Plotly.purge(gd);\n",
       "            observer.disconnect();\n",
       "        }}\n",
       "}});\n",
       "\n",
       "// Listen for the removal of the full notebook cells\n",
       "var notebookContainer = gd.closest('#notebook-container');\n",
       "if (notebookContainer) {{\n",
       "    x.observe(notebookContainer, {childList: true});\n",
       "}}\n",
       "\n",
       "// Listen for the clearing of the current output cell\n",
       "var outputEl = gd.closest('.output');\n",
       "if (outputEl) {{\n",
       "    x.observe(outputEl, {childList: true});\n",
       "}}\n",
       "\n",
       "                        })                };                });            </script>        </div>"
      ]
     },
     "metadata": {},
     "output_type": "display_data"
    }
   ],
   "source": [
    "import plotly.graph_objs as go\n",
    "fig = go.Figure()\n",
    "\n",
    "fig.add_trace(go.Scatter(\n",
    "   y=bova11['close_change'][-10:],\n",
    "   name=\"Real\")\n",
    ")\n",
    "\n",
    "fig.add_trace(go.Scatter(\n",
    "   y=pred_5_lstm['close_change'][-10:],\n",
    "   name=\"LSTM\")\n",
    ")\n",
    "\n",
    "fig.add_trace(go.Scatter(\n",
    "   y=pred_5_gru.close_change[-10:],\n",
    "   name=\"GRU\")\n",
    ")\n",
    "\n",
    "fig.update_layout(\n",
    "   #title=\"Banda de Bollinger superior e inferior dos ultimos 60 dias de fechamento de 2009 a Fev 2023\",\n",
    "    yaxis_title=\"Valor de Fechamento\",\n",
    "    xaxis_title=\"periodo\",\n",
    "   #legend_title=\"legend\",\n",
    ")\n",
    "fig.show()"
   ]
  },
  {
   "cell_type": "code",
   "execution_count": 213,
   "id": "6e13fa33",
   "metadata": {},
   "outputs": [
    {
     "data": {
      "text/html": [
       "<div>\n",
       "<style scoped>\n",
       "    .dataframe tbody tr th:only-of-type {\n",
       "        vertical-align: middle;\n",
       "    }\n",
       "\n",
       "    .dataframe tbody tr th {\n",
       "        vertical-align: top;\n",
       "    }\n",
       "\n",
       "    .dataframe thead th {\n",
       "        text-align: right;\n",
       "    }\n",
       "</style>\n",
       "<table border=\"1\" class=\"dataframe\">\n",
       "  <thead>\n",
       "    <tr style=\"text-align: right;\">\n",
       "      <th></th>\n",
       "      <th>open</th>\n",
       "      <th>high</th>\n",
       "      <th>low</th>\n",
       "      <th>close</th>\n",
       "      <th>close_change</th>\n",
       "      <th>ma_3d</th>\n",
       "      <th>ma_10d</th>\n",
       "      <th>ma_30d</th>\n",
       "      <th>ma_60d</th>\n",
       "      <th>std_7</th>\n",
       "      <th>...</th>\n",
       "      <th>std_60</th>\n",
       "      <th>upper3</th>\n",
       "      <th>lower3</th>\n",
       "      <th>upper30</th>\n",
       "      <th>lower30</th>\n",
       "      <th>upper60</th>\n",
       "      <th>lower60</th>\n",
       "      <th>RSI</th>\n",
       "      <th>target</th>\n",
       "      <th>targetNextClose</th>\n",
       "    </tr>\n",
       "  </thead>\n",
       "  <tbody>\n",
       "    <tr>\n",
       "      <th>3379</th>\n",
       "      <td>107.169998</td>\n",
       "      <td>107.500000</td>\n",
       "      <td>105.760002</td>\n",
       "      <td>105.949997</td>\n",
       "      <td>-0.850006</td>\n",
       "      <td>105.126666</td>\n",
       "      <td>104.203000</td>\n",
       "      <td>104.481334</td>\n",
       "      <td>105.749822</td>\n",
       "      <td>2.322519</td>\n",
       "      <td>...</td>\n",
       "      <td>2.754244</td>\n",
       "      <td>109.533770</td>\n",
       "      <td>100.719561</td>\n",
       "      <td>110.122123</td>\n",
       "      <td>98.840545</td>\n",
       "      <td>111.258310</td>\n",
       "      <td>100.241333</td>\n",
       "      <td>52.564852</td>\n",
       "      <td>-1.220001</td>\n",
       "      <td>102.629997</td>\n",
       "    </tr>\n",
       "    <tr>\n",
       "      <th>3380</th>\n",
       "      <td>104.360001</td>\n",
       "      <td>104.449997</td>\n",
       "      <td>102.290001</td>\n",
       "      <td>102.629997</td>\n",
       "      <td>-3.320000</td>\n",
       "      <td>103.019999</td>\n",
       "      <td>104.360000</td>\n",
       "      <td>104.644000</td>\n",
       "      <td>105.750909</td>\n",
       "      <td>2.271622</td>\n",
       "      <td>...</td>\n",
       "      <td>2.779617</td>\n",
       "      <td>108.531545</td>\n",
       "      <td>97.508454</td>\n",
       "      <td>110.454930</td>\n",
       "      <td>98.833071</td>\n",
       "      <td>111.310144</td>\n",
       "      <td>100.191674</td>\n",
       "      <td>44.152421</td>\n",
       "      <td>-1.730003</td>\n",
       "      <td>100.480003</td>\n",
       "    </tr>\n",
       "    <tr>\n",
       "      <th>3381</th>\n",
       "      <td>103.000000</td>\n",
       "      <td>103.000000</td>\n",
       "      <td>100.349998</td>\n",
       "      <td>100.480003</td>\n",
       "      <td>-2.149994</td>\n",
       "      <td>101.676666</td>\n",
       "      <td>104.295000</td>\n",
       "      <td>104.777334</td>\n",
       "      <td>105.767593</td>\n",
       "      <td>2.328453</td>\n",
       "      <td>...</td>\n",
       "      <td>2.802937</td>\n",
       "      <td>103.867580</td>\n",
       "      <td>99.485752</td>\n",
       "      <td>110.700110</td>\n",
       "      <td>98.854558</td>\n",
       "      <td>111.373466</td>\n",
       "      <td>100.161719</td>\n",
       "      <td>39.739640</td>\n",
       "      <td>-2.519997</td>\n",
       "      <td>101.919998</td>\n",
       "    </tr>\n",
       "    <tr>\n",
       "      <th>3382</th>\n",
       "      <td>101.209999</td>\n",
       "      <td>102.180000</td>\n",
       "      <td>100.410004</td>\n",
       "      <td>101.919998</td>\n",
       "      <td>1.439995</td>\n",
       "      <td>102.223333</td>\n",
       "      <td>104.498000</td>\n",
       "      <td>105.031667</td>\n",
       "      <td>105.761698</td>\n",
       "      <td>2.082701</td>\n",
       "      <td>...</td>\n",
       "      <td>2.829422</td>\n",
       "      <td>106.049569</td>\n",
       "      <td>98.397096</td>\n",
       "      <td>111.079374</td>\n",
       "      <td>98.983960</td>\n",
       "      <td>111.420542</td>\n",
       "      <td>100.102855</td>\n",
       "      <td>43.772331</td>\n",
       "      <td>0.709999</td>\n",
       "      <td>104.269997</td>\n",
       "    </tr>\n",
       "    <tr>\n",
       "      <th>3383</th>\n",
       "      <td>102.540001</td>\n",
       "      <td>104.269997</td>\n",
       "      <td>101.830002</td>\n",
       "      <td>104.269997</td>\n",
       "      <td>2.349998</td>\n",
       "      <td>103.896665</td>\n",
       "      <td>104.917999</td>\n",
       "      <td>105.376667</td>\n",
       "      <td>105.775000</td>\n",
       "      <td>2.337640</td>\n",
       "      <td>...</td>\n",
       "      <td>2.855353</td>\n",
       "      <td>107.534596</td>\n",
       "      <td>100.258734</td>\n",
       "      <td>111.487971</td>\n",
       "      <td>99.265363</td>\n",
       "      <td>111.485705</td>\n",
       "      <td>100.064295</td>\n",
       "      <td>49.662462</td>\n",
       "      <td>1.729996</td>\n",
       "      <td>105.500000</td>\n",
       "    </tr>\n",
       "    <tr>\n",
       "      <th>3384</th>\n",
       "      <td>104.480003</td>\n",
       "      <td>105.800003</td>\n",
       "      <td>104.199997</td>\n",
       "      <td>105.500000</td>\n",
       "      <td>1.230003</td>\n",
       "      <td>105.039998</td>\n",
       "      <td>105.063999</td>\n",
       "      <td>105.700667</td>\n",
       "      <td>105.785490</td>\n",
       "      <td>2.948979</td>\n",
       "      <td>...</td>\n",
       "      <td>2.882753</td>\n",
       "      <td>106.382089</td>\n",
       "      <td>103.697907</td>\n",
       "      <td>111.816649</td>\n",
       "      <td>99.584685</td>\n",
       "      <td>111.550995</td>\n",
       "      <td>100.019985</td>\n",
       "      <td>52.455502</td>\n",
       "      <td>1.019997</td>\n",
       "      <td>105.349998</td>\n",
       "    </tr>\n",
       "    <tr>\n",
       "      <th>3385</th>\n",
       "      <td>104.940002</td>\n",
       "      <td>106.320000</td>\n",
       "      <td>104.680000</td>\n",
       "      <td>105.349998</td>\n",
       "      <td>-0.150002</td>\n",
       "      <td>106.010000</td>\n",
       "      <td>105.203999</td>\n",
       "      <td>105.964000</td>\n",
       "      <td>105.737200</td>\n",
       "      <td>2.462946</td>\n",
       "      <td>...</td>\n",
       "      <td>2.891108</td>\n",
       "      <td>108.042044</td>\n",
       "      <td>103.977955</td>\n",
       "      <td>111.828529</td>\n",
       "      <td>100.099471</td>\n",
       "      <td>111.519416</td>\n",
       "      <td>99.954985</td>\n",
       "      <td>52.077937</td>\n",
       "      <td>0.409996</td>\n",
       "      <td>107.180000</td>\n",
       "    </tr>\n",
       "    <tr>\n",
       "      <th>3386</th>\n",
       "      <td>104.849998</td>\n",
       "      <td>107.540001</td>\n",
       "      <td>104.720001</td>\n",
       "      <td>107.180000</td>\n",
       "      <td>1.830002</td>\n",
       "      <td>107.209999</td>\n",
       "      <td>105.488000</td>\n",
       "      <td>106.274000</td>\n",
       "      <td>105.750817</td>\n",
       "      <td>1.732637</td>\n",
       "      <td>...</td>\n",
       "      <td>2.919448</td>\n",
       "      <td>110.960359</td>\n",
       "      <td>103.459639</td>\n",
       "      <td>111.667018</td>\n",
       "      <td>100.880982</td>\n",
       "      <td>111.589712</td>\n",
       "      <td>99.911921</td>\n",
       "      <td>56.198950</td>\n",
       "      <td>2.330002</td>\n",
       "      <td>109.099998</td>\n",
       "    </tr>\n",
       "    <tr>\n",
       "      <th>3387</th>\n",
       "      <td>107.400002</td>\n",
       "      <td>109.099998</td>\n",
       "      <td>107.110001</td>\n",
       "      <td>109.099998</td>\n",
       "      <td>1.919998</td>\n",
       "      <td>108.180000</td>\n",
       "      <td>106.220000</td>\n",
       "      <td>106.556333</td>\n",
       "      <td>105.763333</td>\n",
       "      <td>1.493137</td>\n",
       "      <td>...</td>\n",
       "      <td>2.949013</td>\n",
       "      <td>110.104992</td>\n",
       "      <td>106.255008</td>\n",
       "      <td>111.770895</td>\n",
       "      <td>101.341772</td>\n",
       "      <td>111.661360</td>\n",
       "      <td>99.865307</td>\n",
       "      <td>60.059868</td>\n",
       "      <td>1.699997</td>\n",
       "      <td>108.260002</td>\n",
       "    </tr>\n",
       "    <tr>\n",
       "      <th>3388</th>\n",
       "      <td>108.500000</td>\n",
       "      <td>109.180000</td>\n",
       "      <td>106.940002</td>\n",
       "      <td>108.260002</td>\n",
       "      <td>-0.839996</td>\n",
       "      <td>108.236666</td>\n",
       "      <td>106.861000</td>\n",
       "      <td>106.718000</td>\n",
       "      <td>105.730851</td>\n",
       "      <td>1.386252</td>\n",
       "      <td>...</td>\n",
       "      <td>2.972203</td>\n",
       "      <td>109.987133</td>\n",
       "      <td>106.486200</td>\n",
       "      <td>111.846910</td>\n",
       "      <td>101.589090</td>\n",
       "      <td>111.675258</td>\n",
       "      <td>99.786445</td>\n",
       "      <td>57.676745</td>\n",
       "      <td>-0.239998</td>\n",
       "      <td>107.349998</td>\n",
       "    </tr>\n",
       "    <tr>\n",
       "      <th>3389</th>\n",
       "      <td>106.940002</td>\n",
       "      <td>107.639999</td>\n",
       "      <td>106.690002</td>\n",
       "      <td>107.349998</td>\n",
       "      <td>-0.910004</td>\n",
       "      <td>107.026667</td>\n",
       "      <td>107.345000</td>\n",
       "      <td>106.799000</td>\n",
       "      <td>105.668913</td>\n",
       "      <td>1.156308</td>\n",
       "      <td>...</td>\n",
       "      <td>2.974221</td>\n",
       "      <td>109.872319</td>\n",
       "      <td>104.181015</td>\n",
       "      <td>111.817356</td>\n",
       "      <td>101.780644</td>\n",
       "      <td>111.617355</td>\n",
       "      <td>99.720472</td>\n",
       "      <td>55.137312</td>\n",
       "      <td>0.409996</td>\n",
       "      <td>105.470001</td>\n",
       "    </tr>\n",
       "    <tr>\n",
       "      <th>3390</th>\n",
       "      <td>106.949997</td>\n",
       "      <td>106.949997</td>\n",
       "      <td>105.129997</td>\n",
       "      <td>105.470001</td>\n",
       "      <td>-1.879997</td>\n",
       "      <td>106.873334</td>\n",
       "      <td>107.640000</td>\n",
       "      <td>106.830333</td>\n",
       "      <td>105.638000</td>\n",
       "      <td>1.253923</td>\n",
       "      <td>...</td>\n",
       "      <td>3.000346</td>\n",
       "      <td>109.345284</td>\n",
       "      <td>104.401385</td>\n",
       "      <td>111.785911</td>\n",
       "      <td>101.874756</td>\n",
       "      <td>111.638692</td>\n",
       "      <td>99.637308</td>\n",
       "      <td>50.240974</td>\n",
       "      <td>-1.479996</td>\n",
       "      <td>107.800003</td>\n",
       "    </tr>\n",
       "    <tr>\n",
       "      <th>3391</th>\n",
       "      <td>106.239998</td>\n",
       "      <td>107.980003</td>\n",
       "      <td>106.220001</td>\n",
       "      <td>107.800003</td>\n",
       "      <td>2.330002</td>\n",
       "      <td>107.200002</td>\n",
       "      <td>107.895000</td>\n",
       "      <td>106.858966</td>\n",
       "      <td>105.585455</td>\n",
       "      <td>1.173199</td>\n",
       "      <td>...</td>\n",
       "      <td>3.014016</td>\n",
       "      <td>110.242962</td>\n",
       "      <td>104.157042</td>\n",
       "      <td>111.892148</td>\n",
       "      <td>101.825784</td>\n",
       "      <td>111.613487</td>\n",
       "      <td>99.557423</td>\n",
       "      <td>55.489642</td>\n",
       "      <td>1.560005</td>\n",
       "      <td>108.330002</td>\n",
       "    </tr>\n",
       "    <tr>\n",
       "      <th>3392</th>\n",
       "      <td>108.830002</td>\n",
       "      <td>109.599998</td>\n",
       "      <td>108.330002</td>\n",
       "      <td>108.330002</td>\n",
       "      <td>0.529999</td>\n",
       "      <td>108.413335</td>\n",
       "      <td>108.120000</td>\n",
       "      <td>106.920000</td>\n",
       "      <td>105.584419</td>\n",
       "      <td>1.158716</td>\n",
       "      <td>...</td>\n",
       "      <td>3.049678</td>\n",
       "      <td>109.731260</td>\n",
       "      <td>107.095410</td>\n",
       "      <td>112.001639</td>\n",
       "      <td>101.838362</td>\n",
       "      <td>111.683775</td>\n",
       "      <td>99.485063</td>\n",
       "      <td>56.605212</td>\n",
       "      <td>-0.500000</td>\n",
       "      <td>109.110001</td>\n",
       "    </tr>\n",
       "    <tr>\n",
       "      <th>3393</th>\n",
       "      <td>107.699997</td>\n",
       "      <td>109.540001</td>\n",
       "      <td>107.610001</td>\n",
       "      <td>109.110001</td>\n",
       "      <td>0.779999</td>\n",
       "      <td>108.630000</td>\n",
       "      <td>108.275001</td>\n",
       "      <td>106.994815</td>\n",
       "      <td>105.556905</td>\n",
       "      <td>1.291317</td>\n",
       "      <td>...</td>\n",
       "      <td>3.081239</td>\n",
       "      <td>109.470000</td>\n",
       "      <td>107.789999</td>\n",
       "      <td>112.110012</td>\n",
       "      <td>101.879618</td>\n",
       "      <td>111.719383</td>\n",
       "      <td>99.394427</td>\n",
       "      <td>58.254979</td>\n",
       "      <td>1.410004</td>\n",
       "      <td>108.449997</td>\n",
       "    </tr>\n",
       "    <tr>\n",
       "      <th>3394</th>\n",
       "      <td>109.110001</td>\n",
       "      <td>109.150002</td>\n",
       "      <td>108.010002</td>\n",
       "      <td>108.449997</td>\n",
       "      <td>-0.660004</td>\n",
       "      <td>108.486666</td>\n",
       "      <td>108.491000</td>\n",
       "      <td>107.002308</td>\n",
       "      <td>105.556098</td>\n",
       "      <td>1.005667</td>\n",
       "      <td>...</td>\n",
       "      <td>3.119512</td>\n",
       "      <td>109.698331</td>\n",
       "      <td>107.275002</td>\n",
       "      <td>112.218201</td>\n",
       "      <td>101.786414</td>\n",
       "      <td>111.795123</td>\n",
       "      <td>99.317073</td>\n",
       "      <td>56.314016</td>\n",
       "      <td>-0.660004</td>\n",
       "      <td>107.900002</td>\n",
       "    </tr>\n",
       "    <tr>\n",
       "      <th>3395</th>\n",
       "      <td>108.889999</td>\n",
       "      <td>109.330002</td>\n",
       "      <td>107.879997</td>\n",
       "      <td>107.900002</td>\n",
       "      <td>-0.549995</td>\n",
       "      <td>108.593333</td>\n",
       "      <td>108.596001</td>\n",
       "      <td>107.044400</td>\n",
       "      <td>105.605750</td>\n",
       "      <td>1.053531</td>\n",
       "      <td>...</td>\n",
       "      <td>3.142802</td>\n",
       "      <td>110.143343</td>\n",
       "      <td>107.043323</td>\n",
       "      <td>112.349790</td>\n",
       "      <td>101.739010</td>\n",
       "      <td>111.891355</td>\n",
       "      <td>99.320146</td>\n",
       "      <td>54.687174</td>\n",
       "      <td>-0.989998</td>\n",
       "      <td>109.430000</td>\n",
       "    </tr>\n",
       "    <tr>\n",
       "      <th>3396</th>\n",
       "      <td>108.709999</td>\n",
       "      <td>109.430000</td>\n",
       "      <td>107.970001</td>\n",
       "      <td>109.430000</td>\n",
       "      <td>1.529999</td>\n",
       "      <td>109.326668</td>\n",
       "      <td>108.919000</td>\n",
       "      <td>107.228333</td>\n",
       "      <td>105.649488</td>\n",
       "      <td>1.044363</td>\n",
       "      <td>...</td>\n",
       "      <td>3.171530</td>\n",
       "      <td>112.082486</td>\n",
       "      <td>106.570850</td>\n",
       "      <td>112.311709</td>\n",
       "      <td>102.144957</td>\n",
       "      <td>111.992548</td>\n",
       "      <td>99.306428</td>\n",
       "      <td>58.279485</td>\n",
       "      <td>0.720001</td>\n",
       "      <td>110.650002</td>\n",
       "    </tr>\n",
       "    <tr>\n",
       "      <th>3397</th>\n",
       "      <td>109.000000</td>\n",
       "      <td>110.680000</td>\n",
       "      <td>108.209999</td>\n",
       "      <td>110.650002</td>\n",
       "      <td>1.220001</td>\n",
       "      <td>110.166667</td>\n",
       "      <td>109.123000</td>\n",
       "      <td>107.521739</td>\n",
       "      <td>105.750790</td>\n",
       "      <td>1.061239</td>\n",
       "      <td>...</td>\n",
       "      <td>3.149510</td>\n",
       "      <td>111.463175</td>\n",
       "      <td>108.870158</td>\n",
       "      <td>111.808381</td>\n",
       "      <td>103.235097</td>\n",
       "      <td>112.049811</td>\n",
       "      <td>99.451769</td>\n",
       "      <td>60.925992</td>\n",
       "      <td>1.650002</td>\n",
       "      <td>110.419998</td>\n",
       "    </tr>\n",
       "    <tr>\n",
       "      <th>3398</th>\n",
       "      <td>110.699997</td>\n",
       "      <td>111.099998</td>\n",
       "      <td>109.860001</td>\n",
       "      <td>110.419998</td>\n",
       "      <td>-0.230003</td>\n",
       "      <td>109.823334</td>\n",
       "      <td>109.130000</td>\n",
       "      <td>107.776364</td>\n",
       "      <td>105.898108</td>\n",
       "      <td>1.041406</td>\n",
       "      <td>...</td>\n",
       "      <td>3.057342</td>\n",
       "      <td>112.299324</td>\n",
       "      <td>107.347344</td>\n",
       "      <td>111.382134</td>\n",
       "      <td>104.170593</td>\n",
       "      <td>112.012793</td>\n",
       "      <td>99.783424</td>\n",
       "      <td>60.155206</td>\n",
       "      <td>-0.279999</td>\n",
       "      <td>108.400002</td>\n",
       "    </tr>\n",
       "  </tbody>\n",
       "</table>\n",
       "<p>20 rows × 21 columns</p>\n",
       "</div>"
      ],
      "text/plain": [
       "            open        high         low       close  close_change  \\\n",
       "3379  107.169998  107.500000  105.760002  105.949997     -0.850006   \n",
       "3380  104.360001  104.449997  102.290001  102.629997     -3.320000   \n",
       "3381  103.000000  103.000000  100.349998  100.480003     -2.149994   \n",
       "3382  101.209999  102.180000  100.410004  101.919998      1.439995   \n",
       "3383  102.540001  104.269997  101.830002  104.269997      2.349998   \n",
       "3384  104.480003  105.800003  104.199997  105.500000      1.230003   \n",
       "3385  104.940002  106.320000  104.680000  105.349998     -0.150002   \n",
       "3386  104.849998  107.540001  104.720001  107.180000      1.830002   \n",
       "3387  107.400002  109.099998  107.110001  109.099998      1.919998   \n",
       "3388  108.500000  109.180000  106.940002  108.260002     -0.839996   \n",
       "3389  106.940002  107.639999  106.690002  107.349998     -0.910004   \n",
       "3390  106.949997  106.949997  105.129997  105.470001     -1.879997   \n",
       "3391  106.239998  107.980003  106.220001  107.800003      2.330002   \n",
       "3392  108.830002  109.599998  108.330002  108.330002      0.529999   \n",
       "3393  107.699997  109.540001  107.610001  109.110001      0.779999   \n",
       "3394  109.110001  109.150002  108.010002  108.449997     -0.660004   \n",
       "3395  108.889999  109.330002  107.879997  107.900002     -0.549995   \n",
       "3396  108.709999  109.430000  107.970001  109.430000      1.529999   \n",
       "3397  109.000000  110.680000  108.209999  110.650002      1.220001   \n",
       "3398  110.699997  111.099998  109.860001  110.419998     -0.230003   \n",
       "\n",
       "           ma_3d      ma_10d      ma_30d      ma_60d     std_7  ...    std_60  \\\n",
       "3379  105.126666  104.203000  104.481334  105.749822  2.322519  ...  2.754244   \n",
       "3380  103.019999  104.360000  104.644000  105.750909  2.271622  ...  2.779617   \n",
       "3381  101.676666  104.295000  104.777334  105.767593  2.328453  ...  2.802937   \n",
       "3382  102.223333  104.498000  105.031667  105.761698  2.082701  ...  2.829422   \n",
       "3383  103.896665  104.917999  105.376667  105.775000  2.337640  ...  2.855353   \n",
       "3384  105.039998  105.063999  105.700667  105.785490  2.948979  ...  2.882753   \n",
       "3385  106.010000  105.203999  105.964000  105.737200  2.462946  ...  2.891108   \n",
       "3386  107.209999  105.488000  106.274000  105.750817  1.732637  ...  2.919448   \n",
       "3387  108.180000  106.220000  106.556333  105.763333  1.493137  ...  2.949013   \n",
       "3388  108.236666  106.861000  106.718000  105.730851  1.386252  ...  2.972203   \n",
       "3389  107.026667  107.345000  106.799000  105.668913  1.156308  ...  2.974221   \n",
       "3390  106.873334  107.640000  106.830333  105.638000  1.253923  ...  3.000346   \n",
       "3391  107.200002  107.895000  106.858966  105.585455  1.173199  ...  3.014016   \n",
       "3392  108.413335  108.120000  106.920000  105.584419  1.158716  ...  3.049678   \n",
       "3393  108.630000  108.275001  106.994815  105.556905  1.291317  ...  3.081239   \n",
       "3394  108.486666  108.491000  107.002308  105.556098  1.005667  ...  3.119512   \n",
       "3395  108.593333  108.596001  107.044400  105.605750  1.053531  ...  3.142802   \n",
       "3396  109.326668  108.919000  107.228333  105.649488  1.044363  ...  3.171530   \n",
       "3397  110.166667  109.123000  107.521739  105.750790  1.061239  ...  3.149510   \n",
       "3398  109.823334  109.130000  107.776364  105.898108  1.041406  ...  3.057342   \n",
       "\n",
       "          upper3      lower3     upper30     lower30     upper60     lower60  \\\n",
       "3379  109.533770  100.719561  110.122123   98.840545  111.258310  100.241333   \n",
       "3380  108.531545   97.508454  110.454930   98.833071  111.310144  100.191674   \n",
       "3381  103.867580   99.485752  110.700110   98.854558  111.373466  100.161719   \n",
       "3382  106.049569   98.397096  111.079374   98.983960  111.420542  100.102855   \n",
       "3383  107.534596  100.258734  111.487971   99.265363  111.485705  100.064295   \n",
       "3384  106.382089  103.697907  111.816649   99.584685  111.550995  100.019985   \n",
       "3385  108.042044  103.977955  111.828529  100.099471  111.519416   99.954985   \n",
       "3386  110.960359  103.459639  111.667018  100.880982  111.589712   99.911921   \n",
       "3387  110.104992  106.255008  111.770895  101.341772  111.661360   99.865307   \n",
       "3388  109.987133  106.486200  111.846910  101.589090  111.675258   99.786445   \n",
       "3389  109.872319  104.181015  111.817356  101.780644  111.617355   99.720472   \n",
       "3390  109.345284  104.401385  111.785911  101.874756  111.638692   99.637308   \n",
       "3391  110.242962  104.157042  111.892148  101.825784  111.613487   99.557423   \n",
       "3392  109.731260  107.095410  112.001639  101.838362  111.683775   99.485063   \n",
       "3393  109.470000  107.789999  112.110012  101.879618  111.719383   99.394427   \n",
       "3394  109.698331  107.275002  112.218201  101.786414  111.795123   99.317073   \n",
       "3395  110.143343  107.043323  112.349790  101.739010  111.891355   99.320146   \n",
       "3396  112.082486  106.570850  112.311709  102.144957  111.992548   99.306428   \n",
       "3397  111.463175  108.870158  111.808381  103.235097  112.049811   99.451769   \n",
       "3398  112.299324  107.347344  111.382134  104.170593  112.012793   99.783424   \n",
       "\n",
       "            RSI    target  targetNextClose  \n",
       "3379  52.564852 -1.220001       102.629997  \n",
       "3380  44.152421 -1.730003       100.480003  \n",
       "3381  39.739640 -2.519997       101.919998  \n",
       "3382  43.772331  0.709999       104.269997  \n",
       "3383  49.662462  1.729996       105.500000  \n",
       "3384  52.455502  1.019997       105.349998  \n",
       "3385  52.077937  0.409996       107.180000  \n",
       "3386  56.198950  2.330002       109.099998  \n",
       "3387  60.059868  1.699997       108.260002  \n",
       "3388  57.676745 -0.239998       107.349998  \n",
       "3389  55.137312  0.409996       105.470001  \n",
       "3390  50.240974 -1.479996       107.800003  \n",
       "3391  55.489642  1.560005       108.330002  \n",
       "3392  56.605212 -0.500000       109.110001  \n",
       "3393  58.254979  1.410004       108.449997  \n",
       "3394  56.314016 -0.660004       107.900002  \n",
       "3395  54.687174 -0.989998       109.430000  \n",
       "3396  58.279485  0.720001       110.650002  \n",
       "3397  60.925992  1.650002       110.419998  \n",
       "3398  60.155206 -0.279999       108.400002  \n",
       "\n",
       "[20 rows x 21 columns]"
      ]
     },
     "execution_count": 213,
     "metadata": {},
     "output_type": "execute_result"
    }
   ],
   "source": [
    "bova11.tail(20)"
   ]
  },
  {
   "cell_type": "code",
   "execution_count": 214,
   "id": "d9fb96f9",
   "metadata": {},
   "outputs": [
    {
     "data": {
      "text/html": [
       "<div>\n",
       "<style scoped>\n",
       "    .dataframe tbody tr th:only-of-type {\n",
       "        vertical-align: middle;\n",
       "    }\n",
       "\n",
       "    .dataframe tbody tr th {\n",
       "        vertical-align: top;\n",
       "    }\n",
       "\n",
       "    .dataframe thead th {\n",
       "        text-align: right;\n",
       "    }\n",
       "</style>\n",
       "<table border=\"1\" class=\"dataframe\">\n",
       "  <thead>\n",
       "    <tr style=\"text-align: right;\">\n",
       "      <th></th>\n",
       "      <th>open</th>\n",
       "      <th>high</th>\n",
       "      <th>low</th>\n",
       "      <th>close</th>\n",
       "      <th>close_change</th>\n",
       "      <th>ma_3d</th>\n",
       "      <th>ma_10d</th>\n",
       "      <th>ma_30d</th>\n",
       "      <th>ma_60d</th>\n",
       "      <th>std_7</th>\n",
       "      <th>...</th>\n",
       "      <th>upper3</th>\n",
       "      <th>lower3</th>\n",
       "      <th>upper30</th>\n",
       "      <th>lower30</th>\n",
       "      <th>upper60</th>\n",
       "      <th>lower60</th>\n",
       "      <th>RSI</th>\n",
       "      <th>target</th>\n",
       "      <th>targetNextClose</th>\n",
       "      <th>prev_close</th>\n",
       "    </tr>\n",
       "  </thead>\n",
       "  <tbody>\n",
       "    <tr>\n",
       "      <th>3379</th>\n",
       "      <td>107.169998</td>\n",
       "      <td>107.500000</td>\n",
       "      <td>105.760002</td>\n",
       "      <td>95.815662</td>\n",
       "      <td>0.075891</td>\n",
       "      <td>95.911040</td>\n",
       "      <td>96.145170</td>\n",
       "      <td>96.182399</td>\n",
       "      <td>98.204688</td>\n",
       "      <td>0.235388</td>\n",
       "      <td>...</td>\n",
       "      <td>96.379078</td>\n",
       "      <td>95.443002</td>\n",
       "      <td>99.182656</td>\n",
       "      <td>93.182143</td>\n",
       "      <td>109.932250</td>\n",
       "      <td>86.477126</td>\n",
       "      <td>7.297111</td>\n",
       "      <td>-11.354336</td>\n",
       "      <td>96.177686</td>\n",
       "      <td>95.739772</td>\n",
       "    </tr>\n",
       "    <tr>\n",
       "      <th>3380</th>\n",
       "      <td>104.360001</td>\n",
       "      <td>104.449997</td>\n",
       "      <td>102.290001</td>\n",
       "      <td>96.177686</td>\n",
       "      <td>0.362023</td>\n",
       "      <td>96.093112</td>\n",
       "      <td>96.163069</td>\n",
       "      <td>95.905400</td>\n",
       "      <td>97.932049</td>\n",
       "      <td>0.256658</td>\n",
       "      <td>...</td>\n",
       "      <td>96.585723</td>\n",
       "      <td>95.600502</td>\n",
       "      <td>99.193186</td>\n",
       "      <td>92.617614</td>\n",
       "      <td>109.122441</td>\n",
       "      <td>86.741656</td>\n",
       "      <td>13.402153</td>\n",
       "      <td>-8.182315</td>\n",
       "      <td>96.285989</td>\n",
       "      <td>95.815662</td>\n",
       "    </tr>\n",
       "    <tr>\n",
       "      <th>3381</th>\n",
       "      <td>103.000000</td>\n",
       "      <td>103.000000</td>\n",
       "      <td>100.349998</td>\n",
       "      <td>96.285989</td>\n",
       "      <td>0.108304</td>\n",
       "      <td>96.272368</td>\n",
       "      <td>96.204532</td>\n",
       "      <td>95.612994</td>\n",
       "      <td>97.665757</td>\n",
       "      <td>0.278377</td>\n",
       "      <td>...</td>\n",
       "      <td>96.449689</td>\n",
       "      <td>96.095047</td>\n",
       "      <td>99.352124</td>\n",
       "      <td>91.873864</td>\n",
       "      <td>108.328541</td>\n",
       "      <td>87.002974</td>\n",
       "      <td>15.192347</td>\n",
       "      <td>-6.714011</td>\n",
       "      <td>96.353430</td>\n",
       "      <td>96.177686</td>\n",
       "    </tr>\n",
       "    <tr>\n",
       "      <th>3382</th>\n",
       "      <td>101.209999</td>\n",
       "      <td>102.180000</td>\n",
       "      <td>100.410004</td>\n",
       "      <td>96.353430</td>\n",
       "      <td>0.067441</td>\n",
       "      <td>96.340339</td>\n",
       "      <td>96.191874</td>\n",
       "      <td>95.285067</td>\n",
       "      <td>97.406177</td>\n",
       "      <td>0.224715</td>\n",
       "      <td>...</td>\n",
       "      <td>96.438600</td>\n",
       "      <td>96.242078</td>\n",
       "      <td>99.702379</td>\n",
       "      <td>90.867754</td>\n",
       "      <td>107.552504</td>\n",
       "      <td>87.259849</td>\n",
       "      <td>16.346132</td>\n",
       "      <td>-4.856569</td>\n",
       "      <td>96.381598</td>\n",
       "      <td>96.285989</td>\n",
       "    </tr>\n",
       "    <tr>\n",
       "      <th>3383</th>\n",
       "      <td>102.540001</td>\n",
       "      <td>104.269997</td>\n",
       "      <td>101.830002</td>\n",
       "      <td>96.381598</td>\n",
       "      <td>0.028168</td>\n",
       "      <td>96.384952</td>\n",
       "      <td>96.095134</td>\n",
       "      <td>94.919105</td>\n",
       "      <td>97.156407</td>\n",
       "      <td>0.146539</td>\n",
       "      <td>...</td>\n",
       "      <td>96.451604</td>\n",
       "      <td>96.318301</td>\n",
       "      <td>100.181680</td>\n",
       "      <td>89.656530</td>\n",
       "      <td>106.812841</td>\n",
       "      <td>87.499973</td>\n",
       "      <td>16.852340</td>\n",
       "      <td>-6.158403</td>\n",
       "      <td>96.419828</td>\n",
       "      <td>96.353430</td>\n",
       "    </tr>\n",
       "    <tr>\n",
       "      <th>3384</th>\n",
       "      <td>104.480003</td>\n",
       "      <td>105.800003</td>\n",
       "      <td>104.199997</td>\n",
       "      <td>96.419828</td>\n",
       "      <td>0.038230</td>\n",
       "      <td>96.428663</td>\n",
       "      <td>96.019662</td>\n",
       "      <td>94.517101</td>\n",
       "      <td>96.915934</td>\n",
       "      <td>0.437385</td>\n",
       "      <td>...</td>\n",
       "      <td>96.532757</td>\n",
       "      <td>96.324568</td>\n",
       "      <td>100.709328</td>\n",
       "      <td>88.324873</td>\n",
       "      <td>106.107450</td>\n",
       "      <td>87.724419</td>\n",
       "      <td>17.577623</td>\n",
       "      <td>-8.060175</td>\n",
       "      <td>96.484562</td>\n",
       "      <td>96.381598</td>\n",
       "    </tr>\n",
       "    <tr>\n",
       "      <th>3385</th>\n",
       "      <td>104.940002</td>\n",
       "      <td>106.320000</td>\n",
       "      <td>104.680000</td>\n",
       "      <td>96.484562</td>\n",
       "      <td>0.064733</td>\n",
       "      <td>96.322324</td>\n",
       "      <td>95.926270</td>\n",
       "      <td>94.424512</td>\n",
       "      <td>96.686641</td>\n",
       "      <td>0.620105</td>\n",
       "      <td>...</td>\n",
       "      <td>96.776843</td>\n",
       "      <td>95.867805</td>\n",
       "      <td>100.641234</td>\n",
       "      <td>88.207789</td>\n",
       "      <td>105.448207</td>\n",
       "      <td>87.925075</td>\n",
       "      <td>18.861629</td>\n",
       "      <td>-8.455441</td>\n",
       "      <td>96.062582</td>\n",
       "      <td>96.419828</td>\n",
       "    </tr>\n",
       "    <tr>\n",
       "      <th>3386</th>\n",
       "      <td>104.849998</td>\n",
       "      <td>107.540001</td>\n",
       "      <td>104.720001</td>\n",
       "      <td>96.062582</td>\n",
       "      <td>-0.421979</td>\n",
       "      <td>95.925790</td>\n",
       "      <td>95.818059</td>\n",
       "      <td>94.336105</td>\n",
       "      <td>96.468017</td>\n",
       "      <td>0.717472</td>\n",
       "      <td>...</td>\n",
       "      <td>97.202305</td>\n",
       "      <td>94.649275</td>\n",
       "      <td>100.592208</td>\n",
       "      <td>88.080002</td>\n",
       "      <td>104.833440</td>\n",
       "      <td>88.102594</td>\n",
       "      <td>17.010773</td>\n",
       "      <td>-8.787416</td>\n",
       "      <td>95.230227</td>\n",
       "      <td>96.484562</td>\n",
       "    </tr>\n",
       "    <tr>\n",
       "      <th>3387</th>\n",
       "      <td>107.400002</td>\n",
       "      <td>109.099998</td>\n",
       "      <td>107.110001</td>\n",
       "      <td>95.230227</td>\n",
       "      <td>-0.832355</td>\n",
       "      <td>95.425956</td>\n",
       "      <td>95.600365</td>\n",
       "      <td>94.249582</td>\n",
       "      <td>96.258279</td>\n",
       "      <td>0.701611</td>\n",
       "      <td>...</td>\n",
       "      <td>96.555552</td>\n",
       "      <td>94.296360</td>\n",
       "      <td>100.556203</td>\n",
       "      <td>87.942961</td>\n",
       "      <td>104.254296</td>\n",
       "      <td>88.262261</td>\n",
       "      <td>14.088955</td>\n",
       "      <td>-12.169774</td>\n",
       "      <td>94.985059</td>\n",
       "      <td>96.062582</td>\n",
       "    </tr>\n",
       "    <tr>\n",
       "      <th>3388</th>\n",
       "      <td>108.500000</td>\n",
       "      <td>109.180000</td>\n",
       "      <td>106.940002</td>\n",
       "      <td>94.985059</td>\n",
       "      <td>-0.245169</td>\n",
       "      <td>95.032340</td>\n",
       "      <td>95.279391</td>\n",
       "      <td>94.164291</td>\n",
       "      <td>96.058744</td>\n",
       "      <td>0.786854</td>\n",
       "      <td>...</td>\n",
       "      <td>95.390326</td>\n",
       "      <td>94.674354</td>\n",
       "      <td>100.531968</td>\n",
       "      <td>87.796613</td>\n",
       "      <td>103.718945</td>\n",
       "      <td>88.398542</td>\n",
       "      <td>13.364516</td>\n",
       "      <td>-13.514941</td>\n",
       "      <td>94.881734</td>\n",
       "      <td>95.230227</td>\n",
       "    </tr>\n",
       "    <tr>\n",
       "      <th>3389</th>\n",
       "      <td>106.940002</td>\n",
       "      <td>107.639999</td>\n",
       "      <td>106.690002</td>\n",
       "      <td>94.881734</td>\n",
       "      <td>-0.103324</td>\n",
       "      <td>94.987457</td>\n",
       "      <td>94.844865</td>\n",
       "      <td>94.078130</td>\n",
       "      <td>95.868473</td>\n",
       "      <td>0.924399</td>\n",
       "      <td>...</td>\n",
       "      <td>95.201339</td>\n",
       "      <td>94.773574</td>\n",
       "      <td>100.514943</td>\n",
       "      <td>87.641317</td>\n",
       "      <td>103.223320</td>\n",
       "      <td>88.513626</td>\n",
       "      <td>13.061261</td>\n",
       "      <td>-12.058268</td>\n",
       "      <td>95.095576</td>\n",
       "      <td>94.985059</td>\n",
       "    </tr>\n",
       "    <tr>\n",
       "      <th>3390</th>\n",
       "      <td>106.949997</td>\n",
       "      <td>106.949997</td>\n",
       "      <td>105.129997</td>\n",
       "      <td>95.095576</td>\n",
       "      <td>0.213842</td>\n",
       "      <td>94.695456</td>\n",
       "      <td>94.312905</td>\n",
       "      <td>93.988017</td>\n",
       "      <td>95.688872</td>\n",
       "      <td>1.207549</td>\n",
       "      <td>...</td>\n",
       "      <td>95.733396</td>\n",
       "      <td>93.657517</td>\n",
       "      <td>100.498519</td>\n",
       "      <td>87.477515</td>\n",
       "      <td>102.775506</td>\n",
       "      <td>88.602237</td>\n",
       "      <td>17.226141</td>\n",
       "      <td>-11.854421</td>\n",
       "      <td>94.109058</td>\n",
       "      <td>94.881734</td>\n",
       "    </tr>\n",
       "    <tr>\n",
       "      <th>3391</th>\n",
       "      <td>106.239998</td>\n",
       "      <td>107.980003</td>\n",
       "      <td>106.220001</td>\n",
       "      <td>94.109058</td>\n",
       "      <td>-0.986519</td>\n",
       "      <td>94.116106</td>\n",
       "      <td>93.670698</td>\n",
       "      <td>93.897499</td>\n",
       "      <td>95.519073</td>\n",
       "      <td>1.578816</td>\n",
       "      <td>...</td>\n",
       "      <td>96.068037</td>\n",
       "      <td>92.164174</td>\n",
       "      <td>100.492267</td>\n",
       "      <td>87.302731</td>\n",
       "      <td>102.371691</td>\n",
       "      <td>88.666454</td>\n",
       "      <td>13.928095</td>\n",
       "      <td>-12.130940</td>\n",
       "      <td>93.143683</td>\n",
       "      <td>95.095576</td>\n",
       "    </tr>\n",
       "    <tr>\n",
       "      <th>3392</th>\n",
       "      <td>108.830002</td>\n",
       "      <td>109.599998</td>\n",
       "      <td>108.330002</td>\n",
       "      <td>93.143683</td>\n",
       "      <td>-0.965374</td>\n",
       "      <td>93.096361</td>\n",
       "      <td>92.913628</td>\n",
       "      <td>93.793332</td>\n",
       "      <td>95.359847</td>\n",
       "      <td>1.928003</td>\n",
       "      <td>...</td>\n",
       "      <td>95.170697</td>\n",
       "      <td>91.022025</td>\n",
       "      <td>100.465376</td>\n",
       "      <td>87.121289</td>\n",
       "      <td>102.015830</td>\n",
       "      <td>88.703864</td>\n",
       "      <td>11.599645</td>\n",
       "      <td>-15.686319</td>\n",
       "      <td>92.036342</td>\n",
       "      <td>94.109058</td>\n",
       "    </tr>\n",
       "    <tr>\n",
       "      <th>3393</th>\n",
       "      <td>107.699997</td>\n",
       "      <td>109.540001</td>\n",
       "      <td>107.610001</td>\n",
       "      <td>92.036342</td>\n",
       "      <td>-1.107341</td>\n",
       "      <td>92.093416</td>\n",
       "      <td>92.081716</td>\n",
       "      <td>93.678842</td>\n",
       "      <td>95.210483</td>\n",
       "      <td>2.316977</td>\n",
       "      <td>...</td>\n",
       "      <td>94.139265</td>\n",
       "      <td>90.047567</td>\n",
       "      <td>100.426494</td>\n",
       "      <td>86.931191</td>\n",
       "      <td>101.704459</td>\n",
       "      <td>88.716507</td>\n",
       "      <td>9.622599</td>\n",
       "      <td>-15.663655</td>\n",
       "      <td>91.100224</td>\n",
       "      <td>93.143683</td>\n",
       "    </tr>\n",
       "    <tr>\n",
       "      <th>3394</th>\n",
       "      <td>109.110001</td>\n",
       "      <td>109.150002</td>\n",
       "      <td>108.010002</td>\n",
       "      <td>91.100224</td>\n",
       "      <td>-0.936118</td>\n",
       "      <td>91.066354</td>\n",
       "      <td>91.131929</td>\n",
       "      <td>93.575796</td>\n",
       "      <td>95.072139</td>\n",
       "      <td>2.551044</td>\n",
       "      <td>...</td>\n",
       "      <td>93.041071</td>\n",
       "      <td>89.091638</td>\n",
       "      <td>100.430593</td>\n",
       "      <td>86.720998</td>\n",
       "      <td>101.441991</td>\n",
       "      <td>88.702288</td>\n",
       "      <td>8.335747</td>\n",
       "      <td>-18.009777</td>\n",
       "      <td>90.062497</td>\n",
       "      <td>92.036342</td>\n",
       "    </tr>\n",
       "    <tr>\n",
       "      <th>3395</th>\n",
       "      <td>108.889999</td>\n",
       "      <td>109.330002</td>\n",
       "      <td>107.879997</td>\n",
       "      <td>90.062497</td>\n",
       "      <td>-1.037727</td>\n",
       "      <td>89.884865</td>\n",
       "      <td>90.715284</td>\n",
       "      <td>93.457908</td>\n",
       "      <td>94.944549</td>\n",
       "      <td>2.778822</td>\n",
       "      <td>...</td>\n",
       "      <td>92.511297</td>\n",
       "      <td>87.258434</td>\n",
       "      <td>100.416726</td>\n",
       "      <td>86.499091</td>\n",
       "      <td>101.225982</td>\n",
       "      <td>88.663116</td>\n",
       "      <td>7.193200</td>\n",
       "      <td>-18.827503</td>\n",
       "      <td>88.491875</td>\n",
       "      <td>91.100224</td>\n",
       "    </tr>\n",
       "    <tr>\n",
       "      <th>3396</th>\n",
       "      <td>108.709999</td>\n",
       "      <td>109.430000</td>\n",
       "      <td>107.970001</td>\n",
       "      <td>88.491875</td>\n",
       "      <td>-1.570621</td>\n",
       "      <td>88.488493</td>\n",
       "      <td>90.167748</td>\n",
       "      <td>93.306809</td>\n",
       "      <td>94.826667</td>\n",
       "      <td>2.518704</td>\n",
       "      <td>...</td>\n",
       "      <td>91.639888</td>\n",
       "      <td>85.337099</td>\n",
       "      <td>100.337916</td>\n",
       "      <td>86.275702</td>\n",
       "      <td>101.050850</td>\n",
       "      <td>88.602484</td>\n",
       "      <td>5.885114</td>\n",
       "      <td>-20.218124</td>\n",
       "      <td>86.911108</td>\n",
       "      <td>90.062497</td>\n",
       "    </tr>\n",
       "    <tr>\n",
       "      <th>3397</th>\n",
       "      <td>109.000000</td>\n",
       "      <td>110.680000</td>\n",
       "      <td>108.209999</td>\n",
       "      <td>86.911108</td>\n",
       "      <td>-1.580767</td>\n",
       "      <td>86.963393</td>\n",
       "      <td>89.604703</td>\n",
       "      <td>93.131563</td>\n",
       "      <td>94.717197</td>\n",
       "      <td>2.278389</td>\n",
       "      <td>...</td>\n",
       "      <td>89.969438</td>\n",
       "      <td>83.957348</td>\n",
       "      <td>100.215125</td>\n",
       "      <td>86.048002</td>\n",
       "      <td>100.910523</td>\n",
       "      <td>88.523871</td>\n",
       "      <td>4.920260</td>\n",
       "      <td>-22.088892</td>\n",
       "      <td>85.487195</td>\n",
       "      <td>88.491875</td>\n",
       "    </tr>\n",
       "    <tr>\n",
       "      <th>3398</th>\n",
       "      <td>110.699997</td>\n",
       "      <td>111.099998</td>\n",
       "      <td>109.860001</td>\n",
       "      <td>85.487195</td>\n",
       "      <td>-1.423913</td>\n",
       "      <td>86.199152</td>\n",
       "      <td>89.014874</td>\n",
       "      <td>92.930197</td>\n",
       "      <td>94.614850</td>\n",
       "      <td>1.976654</td>\n",
       "      <td>...</td>\n",
       "      <td>88.212869</td>\n",
       "      <td>84.185434</td>\n",
       "      <td>100.042218</td>\n",
       "      <td>85.818175</td>\n",
       "      <td>100.799538</td>\n",
       "      <td>88.430161</td>\n",
       "      <td>4.248089</td>\n",
       "      <td>-25.212802</td>\n",
       "      <td>NaN</td>\n",
       "      <td>86.911108</td>\n",
       "    </tr>\n",
       "  </tbody>\n",
       "</table>\n",
       "<p>20 rows × 22 columns</p>\n",
       "</div>"
      ],
      "text/plain": [
       "            open        high         low      close  close_change      ma_3d  \\\n",
       "3379  107.169998  107.500000  105.760002  95.815662      0.075891  95.911040   \n",
       "3380  104.360001  104.449997  102.290001  96.177686      0.362023  96.093112   \n",
       "3381  103.000000  103.000000  100.349998  96.285989      0.108304  96.272368   \n",
       "3382  101.209999  102.180000  100.410004  96.353430      0.067441  96.340339   \n",
       "3383  102.540001  104.269997  101.830002  96.381598      0.028168  96.384952   \n",
       "3384  104.480003  105.800003  104.199997  96.419828      0.038230  96.428663   \n",
       "3385  104.940002  106.320000  104.680000  96.484562      0.064733  96.322324   \n",
       "3386  104.849998  107.540001  104.720001  96.062582     -0.421979  95.925790   \n",
       "3387  107.400002  109.099998  107.110001  95.230227     -0.832355  95.425956   \n",
       "3388  108.500000  109.180000  106.940002  94.985059     -0.245169  95.032340   \n",
       "3389  106.940002  107.639999  106.690002  94.881734     -0.103324  94.987457   \n",
       "3390  106.949997  106.949997  105.129997  95.095576      0.213842  94.695456   \n",
       "3391  106.239998  107.980003  106.220001  94.109058     -0.986519  94.116106   \n",
       "3392  108.830002  109.599998  108.330002  93.143683     -0.965374  93.096361   \n",
       "3393  107.699997  109.540001  107.610001  92.036342     -1.107341  92.093416   \n",
       "3394  109.110001  109.150002  108.010002  91.100224     -0.936118  91.066354   \n",
       "3395  108.889999  109.330002  107.879997  90.062497     -1.037727  89.884865   \n",
       "3396  108.709999  109.430000  107.970001  88.491875     -1.570621  88.488493   \n",
       "3397  109.000000  110.680000  108.209999  86.911108     -1.580767  86.963393   \n",
       "3398  110.699997  111.099998  109.860001  85.487195     -1.423913  86.199152   \n",
       "\n",
       "         ma_10d     ma_30d     ma_60d     std_7  ...     upper3     lower3  \\\n",
       "3379  96.145170  96.182399  98.204688  0.235388  ...  96.379078  95.443002   \n",
       "3380  96.163069  95.905400  97.932049  0.256658  ...  96.585723  95.600502   \n",
       "3381  96.204532  95.612994  97.665757  0.278377  ...  96.449689  96.095047   \n",
       "3382  96.191874  95.285067  97.406177  0.224715  ...  96.438600  96.242078   \n",
       "3383  96.095134  94.919105  97.156407  0.146539  ...  96.451604  96.318301   \n",
       "3384  96.019662  94.517101  96.915934  0.437385  ...  96.532757  96.324568   \n",
       "3385  95.926270  94.424512  96.686641  0.620105  ...  96.776843  95.867805   \n",
       "3386  95.818059  94.336105  96.468017  0.717472  ...  97.202305  94.649275   \n",
       "3387  95.600365  94.249582  96.258279  0.701611  ...  96.555552  94.296360   \n",
       "3388  95.279391  94.164291  96.058744  0.786854  ...  95.390326  94.674354   \n",
       "3389  94.844865  94.078130  95.868473  0.924399  ...  95.201339  94.773574   \n",
       "3390  94.312905  93.988017  95.688872  1.207549  ...  95.733396  93.657517   \n",
       "3391  93.670698  93.897499  95.519073  1.578816  ...  96.068037  92.164174   \n",
       "3392  92.913628  93.793332  95.359847  1.928003  ...  95.170697  91.022025   \n",
       "3393  92.081716  93.678842  95.210483  2.316977  ...  94.139265  90.047567   \n",
       "3394  91.131929  93.575796  95.072139  2.551044  ...  93.041071  89.091638   \n",
       "3395  90.715284  93.457908  94.944549  2.778822  ...  92.511297  87.258434   \n",
       "3396  90.167748  93.306809  94.826667  2.518704  ...  91.639888  85.337099   \n",
       "3397  89.604703  93.131563  94.717197  2.278389  ...  89.969438  83.957348   \n",
       "3398  89.014874  92.930197  94.614850  1.976654  ...  88.212869  84.185434   \n",
       "\n",
       "         upper30    lower30     upper60    lower60        RSI     target  \\\n",
       "3379   99.182656  93.182143  109.932250  86.477126   7.297111 -11.354336   \n",
       "3380   99.193186  92.617614  109.122441  86.741656  13.402153  -8.182315   \n",
       "3381   99.352124  91.873864  108.328541  87.002974  15.192347  -6.714011   \n",
       "3382   99.702379  90.867754  107.552504  87.259849  16.346132  -4.856569   \n",
       "3383  100.181680  89.656530  106.812841  87.499973  16.852340  -6.158403   \n",
       "3384  100.709328  88.324873  106.107450  87.724419  17.577623  -8.060175   \n",
       "3385  100.641234  88.207789  105.448207  87.925075  18.861629  -8.455441   \n",
       "3386  100.592208  88.080002  104.833440  88.102594  17.010773  -8.787416   \n",
       "3387  100.556203  87.942961  104.254296  88.262261  14.088955 -12.169774   \n",
       "3388  100.531968  87.796613  103.718945  88.398542  13.364516 -13.514941   \n",
       "3389  100.514943  87.641317  103.223320  88.513626  13.061261 -12.058268   \n",
       "3390  100.498519  87.477515  102.775506  88.602237  17.226141 -11.854421   \n",
       "3391  100.492267  87.302731  102.371691  88.666454  13.928095 -12.130940   \n",
       "3392  100.465376  87.121289  102.015830  88.703864  11.599645 -15.686319   \n",
       "3393  100.426494  86.931191  101.704459  88.716507   9.622599 -15.663655   \n",
       "3394  100.430593  86.720998  101.441991  88.702288   8.335747 -18.009777   \n",
       "3395  100.416726  86.499091  101.225982  88.663116   7.193200 -18.827503   \n",
       "3396  100.337916  86.275702  101.050850  88.602484   5.885114 -20.218124   \n",
       "3397  100.215125  86.048002  100.910523  88.523871   4.920260 -22.088892   \n",
       "3398  100.042218  85.818175  100.799538  88.430161   4.248089 -25.212802   \n",
       "\n",
       "      targetNextClose  prev_close  \n",
       "3379        96.177686   95.739772  \n",
       "3380        96.285989   95.815662  \n",
       "3381        96.353430   96.177686  \n",
       "3382        96.381598   96.285989  \n",
       "3383        96.419828   96.353430  \n",
       "3384        96.484562   96.381598  \n",
       "3385        96.062582   96.419828  \n",
       "3386        95.230227   96.484562  \n",
       "3387        94.985059   96.062582  \n",
       "3388        94.881734   95.230227  \n",
       "3389        95.095576   94.985059  \n",
       "3390        94.109058   94.881734  \n",
       "3391        93.143683   95.095576  \n",
       "3392        92.036342   94.109058  \n",
       "3393        91.100224   93.143683  \n",
       "3394        90.062497   92.036342  \n",
       "3395        88.491875   91.100224  \n",
       "3396        86.911108   90.062497  \n",
       "3397        85.487195   88.491875  \n",
       "3398              NaN   86.911108  \n",
       "\n",
       "[20 rows x 22 columns]"
      ]
     },
     "execution_count": 214,
     "metadata": {},
     "output_type": "execute_result"
    }
   ],
   "source": [
    "pred_90_lstm.tail(20)"
   ]
  },
  {
   "cell_type": "code",
   "execution_count": null,
   "id": "a91f5f7d",
   "metadata": {},
   "outputs": [],
   "source": []
  }
 ],
 "metadata": {
  "kernelspec": {
   "display_name": "Python 3 (ipykernel)",
   "language": "python",
   "name": "python3"
  },
  "language_info": {
   "codemirror_mode": {
    "name": "ipython",
    "version": 3
   },
   "file_extension": ".py",
   "mimetype": "text/x-python",
   "name": "python",
   "nbconvert_exporter": "python",
   "pygments_lexer": "ipython3",
   "version": "3.10.6"
  }
 },
 "nbformat": 4,
 "nbformat_minor": 5
}
