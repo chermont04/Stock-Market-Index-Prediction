{
 "cells": [
  {
   "cell_type": "markdown",
   "metadata": {},
   "source": [
    "## 1. importing packages"
   ]
  },
  {
   "cell_type": "code",
   "execution_count": 1,
   "metadata": {},
   "outputs": [],
   "source": [
    "import pandas as pd\n",
    "import pandas_ta as ta\n",
    "import numpy as np\n",
    "import datetime as dt\n",
    "import pandas_datareader as web\n",
    "from tqdm import tqdm\n",
    "import matplotlib.pyplot as plt\n",
    "from matplotlib import rcParams\n",
    "import seaborn as sns\n",
    "import matplotlib.ticker as ticker\n",
    "import itertools\n",
    "\n",
    "from sklearn.preprocessing import MinMaxScaler\n",
    "from sklearn.metrics import mean_absolute_error, mean_squared_error\n",
    "from sklearn.model_selection import GridSearchCV\n",
    "\n",
    "import tensorflow as tf\n",
    "from tensorflow.keras.models import Model, Sequential\n",
    "from tensorflow.keras.layers import Dense, Dropout, LSTM, Input, Activation, concatenate\n",
    "from tensorflow.keras.callbacks import History, EarlyStopping\n",
    "from tensorflow.keras import optimizers\n",
    "\n",
    "import keras_tuner as kt\n",
    "from keras_tuner.tuners import RandomSearch\n",
    "from keras_tuner.engine.hyperparameters import HyperParameters\n",
    "from keras.callbacks import EarlyStopping\n",
    "from keras.callbacks import ModelCheckpoint\n"
   ]
  },
  {
   "cell_type": "markdown",
   "metadata": {},
   "source": [
    "## 2. overall configurations"
   ]
  },
  {
   "cell_type": "code",
   "execution_count": 2,
   "metadata": {},
   "outputs": [],
   "source": [
    "%matplotlib inline\n",
    "\n",
    "\n",
    "tqdm.pandas()\n",
    "sns.set(style='whitegrid',palette='muted')\n",
    "rcParams['figure.figsize'] = 14, 10"
   ]
  },
  {
   "cell_type": "markdown",
   "metadata": {},
   "source": [
    "## 3. Getting the Data"
   ]
  },
  {
   "cell_type": "code",
   "execution_count": 5,
   "metadata": {},
   "outputs": [],
   "source": [
    "import yfinance as yf\n",
    "ticket = yf.Ticker('BOVA11.SA')\n",
    "start = dt.datetime(2009, 1, 2) # First register data\n",
    "end = dt.datetime(dt.datetime.now().year,dt.datetime.now().month,dt.datetime.now().day - 1)\n",
    "\n",
    "bova11 = ticket.history(interval= '1d', start = start, end = end).reset_index()\n",
    "bova11\n",
    "bova11_copy = bova11.copy()"
   ]
  },
  {
   "cell_type": "code",
   "execution_count": 6,
   "metadata": {},
   "outputs": [
    {
     "data": {
      "text/plain": [
       "3495"
      ]
     },
     "execution_count": 6,
     "metadata": {},
     "output_type": "execute_result"
    }
   ],
   "source": [
    "len(bova11)"
   ]
  },
  {
   "cell_type": "markdown",
   "metadata": {},
   "source": [
    "## 4. Pre-processing"
   ]
  },
  {
   "cell_type": "markdown",
   "metadata": {},
   "source": [
    "Adjust the columns name and type"
   ]
  },
  {
   "cell_type": "code",
   "execution_count": 7,
   "metadata": {},
   "outputs": [],
   "source": [
    "bova11.columns = bova11.columns.str.lower()"
   ]
  },
  {
   "cell_type": "code",
   "execution_count": 8,
   "metadata": {},
   "outputs": [],
   "source": [
    "bova11.date = pd.to_datetime(bova11.date)"
   ]
  },
  {
   "cell_type": "code",
   "execution_count": 9,
   "metadata": {},
   "outputs": [
    {
     "data": {
      "text/plain": [
       "date            0\n",
       "open            0\n",
       "high            0\n",
       "low             0\n",
       "close           0\n",
       "volume          0\n",
       "dividends       0\n",
       "stock splits    0\n",
       "dtype: int64"
      ]
     },
     "execution_count": 9,
     "metadata": {},
     "output_type": "execute_result"
    }
   ],
   "source": [
    "bova11.isna().sum()"
   ]
  },
  {
   "cell_type": "markdown",
   "metadata": {},
   "source": [
    "Removing rows with volume 0"
   ]
  },
  {
   "cell_type": "code",
   "execution_count": 10,
   "metadata": {},
   "outputs": [
    {
     "data": {
      "text/html": [
       "<div>\n",
       "<style scoped>\n",
       "    .dataframe tbody tr th:only-of-type {\n",
       "        vertical-align: middle;\n",
       "    }\n",
       "\n",
       "    .dataframe tbody tr th {\n",
       "        vertical-align: top;\n",
       "    }\n",
       "\n",
       "    .dataframe thead th {\n",
       "        text-align: right;\n",
       "    }\n",
       "</style>\n",
       "<table border=\"1\" class=\"dataframe\">\n",
       "  <thead>\n",
       "    <tr style=\"text-align: right;\">\n",
       "      <th></th>\n",
       "      <th>date</th>\n",
       "      <th>open</th>\n",
       "      <th>high</th>\n",
       "      <th>low</th>\n",
       "      <th>close</th>\n",
       "      <th>volume</th>\n",
       "      <th>dividends</th>\n",
       "      <th>stock splits</th>\n",
       "    </tr>\n",
       "  </thead>\n",
       "  <tbody>\n",
       "    <tr>\n",
       "      <th>0</th>\n",
       "      <td>2009-01-02 00:00:00-02:00</td>\n",
       "      <td>38.279999</td>\n",
       "      <td>40.320000</td>\n",
       "      <td>37.939999</td>\n",
       "      <td>40.320000</td>\n",
       "      <td>119900</td>\n",
       "      <td>0</td>\n",
       "      <td>0</td>\n",
       "    </tr>\n",
       "    <tr>\n",
       "      <th>1</th>\n",
       "      <td>2009-01-05 00:00:00-02:00</td>\n",
       "      <td>40.200001</td>\n",
       "      <td>42.000000</td>\n",
       "      <td>39.700001</td>\n",
       "      <td>42.000000</td>\n",
       "      <td>341700</td>\n",
       "      <td>0</td>\n",
       "      <td>0</td>\n",
       "    </tr>\n",
       "    <tr>\n",
       "      <th>2</th>\n",
       "      <td>2009-01-06 00:00:00-02:00</td>\n",
       "      <td>42.060001</td>\n",
       "      <td>42.320000</td>\n",
       "      <td>41.549999</td>\n",
       "      <td>42.320000</td>\n",
       "      <td>178300</td>\n",
       "      <td>0</td>\n",
       "      <td>0</td>\n",
       "    </tr>\n",
       "    <tr>\n",
       "      <th>3</th>\n",
       "      <td>2009-01-07 00:00:00-02:00</td>\n",
       "      <td>41.750000</td>\n",
       "      <td>41.770000</td>\n",
       "      <td>40.450001</td>\n",
       "      <td>40.639999</td>\n",
       "      <td>73400</td>\n",
       "      <td>0</td>\n",
       "      <td>0</td>\n",
       "    </tr>\n",
       "    <tr>\n",
       "      <th>4</th>\n",
       "      <td>2009-01-08 00:00:00-02:00</td>\n",
       "      <td>40.150002</td>\n",
       "      <td>42.200001</td>\n",
       "      <td>40.150002</td>\n",
       "      <td>42.200001</td>\n",
       "      <td>195300</td>\n",
       "      <td>0</td>\n",
       "      <td>0</td>\n",
       "    </tr>\n",
       "    <tr>\n",
       "      <th>...</th>\n",
       "      <td>...</td>\n",
       "      <td>...</td>\n",
       "      <td>...</td>\n",
       "      <td>...</td>\n",
       "      <td>...</td>\n",
       "      <td>...</td>\n",
       "      <td>...</td>\n",
       "      <td>...</td>\n",
       "    </tr>\n",
       "    <tr>\n",
       "      <th>3397</th>\n",
       "      <td>2023-01-25 00:00:00-03:00</td>\n",
       "      <td>109.000000</td>\n",
       "      <td>110.680000</td>\n",
       "      <td>108.209999</td>\n",
       "      <td>110.650002</td>\n",
       "      <td>6427546</td>\n",
       "      <td>0</td>\n",
       "      <td>0</td>\n",
       "    </tr>\n",
       "    <tr>\n",
       "      <th>3398</th>\n",
       "      <td>2023-01-26 00:00:00-03:00</td>\n",
       "      <td>110.699997</td>\n",
       "      <td>111.099998</td>\n",
       "      <td>109.860001</td>\n",
       "      <td>110.419998</td>\n",
       "      <td>4382206</td>\n",
       "      <td>0</td>\n",
       "      <td>0</td>\n",
       "    </tr>\n",
       "    <tr>\n",
       "      <th>3399</th>\n",
       "      <td>2023-01-27 00:00:00-03:00</td>\n",
       "      <td>110.279999</td>\n",
       "      <td>110.290001</td>\n",
       "      <td>108.339996</td>\n",
       "      <td>108.400002</td>\n",
       "      <td>5294651</td>\n",
       "      <td>0</td>\n",
       "      <td>0</td>\n",
       "    </tr>\n",
       "    <tr>\n",
       "      <th>3400</th>\n",
       "      <td>2023-01-30 00:00:00-03:00</td>\n",
       "      <td>109.010002</td>\n",
       "      <td>109.320000</td>\n",
       "      <td>108.129997</td>\n",
       "      <td>108.699997</td>\n",
       "      <td>2905618</td>\n",
       "      <td>0</td>\n",
       "      <td>0</td>\n",
       "    </tr>\n",
       "    <tr>\n",
       "      <th>3401</th>\n",
       "      <td>2023-01-31 00:00:00-03:00</td>\n",
       "      <td>108.709999</td>\n",
       "      <td>109.959999</td>\n",
       "      <td>108.709999</td>\n",
       "      <td>109.839996</td>\n",
       "      <td>5733562</td>\n",
       "      <td>0</td>\n",
       "      <td>0</td>\n",
       "    </tr>\n",
       "  </tbody>\n",
       "</table>\n",
       "<p>3402 rows × 8 columns</p>\n",
       "</div>"
      ],
      "text/plain": [
       "                          date        open        high         low  \\\n",
       "0    2009-01-02 00:00:00-02:00   38.279999   40.320000   37.939999   \n",
       "1    2009-01-05 00:00:00-02:00   40.200001   42.000000   39.700001   \n",
       "2    2009-01-06 00:00:00-02:00   42.060001   42.320000   41.549999   \n",
       "3    2009-01-07 00:00:00-02:00   41.750000   41.770000   40.450001   \n",
       "4    2009-01-08 00:00:00-02:00   40.150002   42.200001   40.150002   \n",
       "...                        ...         ...         ...         ...   \n",
       "3397 2023-01-25 00:00:00-03:00  109.000000  110.680000  108.209999   \n",
       "3398 2023-01-26 00:00:00-03:00  110.699997  111.099998  109.860001   \n",
       "3399 2023-01-27 00:00:00-03:00  110.279999  110.290001  108.339996   \n",
       "3400 2023-01-30 00:00:00-03:00  109.010002  109.320000  108.129997   \n",
       "3401 2023-01-31 00:00:00-03:00  108.709999  109.959999  108.709999   \n",
       "\n",
       "           close   volume  dividends  stock splits  \n",
       "0      40.320000   119900          0             0  \n",
       "1      42.000000   341700          0             0  \n",
       "2      42.320000   178300          0             0  \n",
       "3      40.639999    73400          0             0  \n",
       "4      42.200001   195300          0             0  \n",
       "...          ...      ...        ...           ...  \n",
       "3397  110.650002  6427546          0             0  \n",
       "3398  110.419998  4382206          0             0  \n",
       "3399  108.400002  5294651          0             0  \n",
       "3400  108.699997  2905618          0             0  \n",
       "3401  109.839996  5733562          0             0  \n",
       "\n",
       "[3402 rows x 8 columns]"
      ]
     },
     "execution_count": 10,
     "metadata": {},
     "output_type": "execute_result"
    }
   ],
   "source": [
    "bova11 = bova11.loc[(bova11.volume != 0)].reset_index()\n",
    "bova11.drop(columns='index', axis = 1, inplace = True)\n",
    "bova11"
   ]
  },
  {
   "cell_type": "markdown",
   "metadata": {},
   "source": [
    "Sorting the data by date"
   ]
  },
  {
   "cell_type": "code",
   "execution_count": 11,
   "metadata": {},
   "outputs": [],
   "source": [
    "bova11 = bova11.sort_values(by='date').reset_index(drop=True)"
   ]
  },
  {
   "cell_type": "markdown",
   "metadata": {},
   "source": [
    "Adding a column with the previous close value"
   ]
  },
  {
   "cell_type": "code",
   "execution_count": 12,
   "metadata": {},
   "outputs": [],
   "source": [
    "bova11[\"prev_close\"] = bova11.shift(1)[\"close\"]"
   ]
  },
  {
   "cell_type": "code",
   "execution_count": 13,
   "metadata": {},
   "outputs": [
    {
     "data": {
      "text/html": [
       "<div>\n",
       "<style scoped>\n",
       "    .dataframe tbody tr th:only-of-type {\n",
       "        vertical-align: middle;\n",
       "    }\n",
       "\n",
       "    .dataframe tbody tr th {\n",
       "        vertical-align: top;\n",
       "    }\n",
       "\n",
       "    .dataframe thead th {\n",
       "        text-align: right;\n",
       "    }\n",
       "</style>\n",
       "<table border=\"1\" class=\"dataframe\">\n",
       "  <thead>\n",
       "    <tr style=\"text-align: right;\">\n",
       "      <th></th>\n",
       "      <th>date</th>\n",
       "      <th>open</th>\n",
       "      <th>high</th>\n",
       "      <th>low</th>\n",
       "      <th>close</th>\n",
       "      <th>volume</th>\n",
       "      <th>dividends</th>\n",
       "      <th>stock splits</th>\n",
       "      <th>prev_close</th>\n",
       "    </tr>\n",
       "  </thead>\n",
       "  <tbody>\n",
       "    <tr>\n",
       "      <th>0</th>\n",
       "      <td>2009-01-02 00:00:00-02:00</td>\n",
       "      <td>38.279999</td>\n",
       "      <td>40.320000</td>\n",
       "      <td>37.939999</td>\n",
       "      <td>40.320000</td>\n",
       "      <td>119900</td>\n",
       "      <td>0</td>\n",
       "      <td>0</td>\n",
       "      <td>NaN</td>\n",
       "    </tr>\n",
       "    <tr>\n",
       "      <th>1</th>\n",
       "      <td>2009-01-05 00:00:00-02:00</td>\n",
       "      <td>40.200001</td>\n",
       "      <td>42.000000</td>\n",
       "      <td>39.700001</td>\n",
       "      <td>42.000000</td>\n",
       "      <td>341700</td>\n",
       "      <td>0</td>\n",
       "      <td>0</td>\n",
       "      <td>40.320000</td>\n",
       "    </tr>\n",
       "    <tr>\n",
       "      <th>2</th>\n",
       "      <td>2009-01-06 00:00:00-02:00</td>\n",
       "      <td>42.060001</td>\n",
       "      <td>42.320000</td>\n",
       "      <td>41.549999</td>\n",
       "      <td>42.320000</td>\n",
       "      <td>178300</td>\n",
       "      <td>0</td>\n",
       "      <td>0</td>\n",
       "      <td>42.000000</td>\n",
       "    </tr>\n",
       "    <tr>\n",
       "      <th>3</th>\n",
       "      <td>2009-01-07 00:00:00-02:00</td>\n",
       "      <td>41.750000</td>\n",
       "      <td>41.770000</td>\n",
       "      <td>40.450001</td>\n",
       "      <td>40.639999</td>\n",
       "      <td>73400</td>\n",
       "      <td>0</td>\n",
       "      <td>0</td>\n",
       "      <td>42.320000</td>\n",
       "    </tr>\n",
       "    <tr>\n",
       "      <th>4</th>\n",
       "      <td>2009-01-08 00:00:00-02:00</td>\n",
       "      <td>40.150002</td>\n",
       "      <td>42.200001</td>\n",
       "      <td>40.150002</td>\n",
       "      <td>42.200001</td>\n",
       "      <td>195300</td>\n",
       "      <td>0</td>\n",
       "      <td>0</td>\n",
       "      <td>40.639999</td>\n",
       "    </tr>\n",
       "  </tbody>\n",
       "</table>\n",
       "</div>"
      ],
      "text/plain": [
       "                       date       open       high        low      close  \\\n",
       "0 2009-01-02 00:00:00-02:00  38.279999  40.320000  37.939999  40.320000   \n",
       "1 2009-01-05 00:00:00-02:00  40.200001  42.000000  39.700001  42.000000   \n",
       "2 2009-01-06 00:00:00-02:00  42.060001  42.320000  41.549999  42.320000   \n",
       "3 2009-01-07 00:00:00-02:00  41.750000  41.770000  40.450001  40.639999   \n",
       "4 2009-01-08 00:00:00-02:00  40.150002  42.200001  40.150002  42.200001   \n",
       "\n",
       "   volume  dividends  stock splits  prev_close  \n",
       "0  119900          0             0         NaN  \n",
       "1  341700          0             0   40.320000  \n",
       "2  178300          0             0   42.000000  \n",
       "3   73400          0             0   42.320000  \n",
       "4  195300          0             0   40.639999  "
      ]
     },
     "execution_count": 13,
     "metadata": {},
     "output_type": "execute_result"
    }
   ],
   "source": [
    "bova11.head()"
   ]
  },
  {
   "cell_type": "markdown",
   "metadata": {},
   "source": [
    "Adding the close difference between dates"
   ]
  },
  {
   "cell_type": "code",
   "execution_count": 14,
   "metadata": {},
   "outputs": [
    {
     "name": "stderr",
     "output_type": "stream",
     "text": [
      "100%|██████████| 3402/3402 [00:00<00:00, 12547.10it/s]\n"
     ]
    }
   ],
   "source": [
    "bova11[\"close_change\"]= bova11.progress_apply(\n",
    "    lambda row: 0 if np.isnan(row.prev_close) else row.close - row.prev_close,\n",
    "    axis = 1\n",
    ")"
   ]
  },
  {
   "cell_type": "code",
   "execution_count": 15,
   "metadata": {},
   "outputs": [
    {
     "data": {
      "text/html": [
       "<div>\n",
       "<style scoped>\n",
       "    .dataframe tbody tr th:only-of-type {\n",
       "        vertical-align: middle;\n",
       "    }\n",
       "\n",
       "    .dataframe tbody tr th {\n",
       "        vertical-align: top;\n",
       "    }\n",
       "\n",
       "    .dataframe thead th {\n",
       "        text-align: right;\n",
       "    }\n",
       "</style>\n",
       "<table border=\"1\" class=\"dataframe\">\n",
       "  <thead>\n",
       "    <tr style=\"text-align: right;\">\n",
       "      <th></th>\n",
       "      <th>date</th>\n",
       "      <th>open</th>\n",
       "      <th>high</th>\n",
       "      <th>low</th>\n",
       "      <th>close</th>\n",
       "      <th>volume</th>\n",
       "      <th>dividends</th>\n",
       "      <th>stock splits</th>\n",
       "      <th>prev_close</th>\n",
       "      <th>close_change</th>\n",
       "    </tr>\n",
       "  </thead>\n",
       "  <tbody>\n",
       "    <tr>\n",
       "      <th>0</th>\n",
       "      <td>2009-01-02 00:00:00-02:00</td>\n",
       "      <td>38.279999</td>\n",
       "      <td>40.320000</td>\n",
       "      <td>37.939999</td>\n",
       "      <td>40.320000</td>\n",
       "      <td>119900</td>\n",
       "      <td>0</td>\n",
       "      <td>0</td>\n",
       "      <td>NaN</td>\n",
       "      <td>0.000000</td>\n",
       "    </tr>\n",
       "    <tr>\n",
       "      <th>1</th>\n",
       "      <td>2009-01-05 00:00:00-02:00</td>\n",
       "      <td>40.200001</td>\n",
       "      <td>42.000000</td>\n",
       "      <td>39.700001</td>\n",
       "      <td>42.000000</td>\n",
       "      <td>341700</td>\n",
       "      <td>0</td>\n",
       "      <td>0</td>\n",
       "      <td>40.320000</td>\n",
       "      <td>1.680000</td>\n",
       "    </tr>\n",
       "    <tr>\n",
       "      <th>2</th>\n",
       "      <td>2009-01-06 00:00:00-02:00</td>\n",
       "      <td>42.060001</td>\n",
       "      <td>42.320000</td>\n",
       "      <td>41.549999</td>\n",
       "      <td>42.320000</td>\n",
       "      <td>178300</td>\n",
       "      <td>0</td>\n",
       "      <td>0</td>\n",
       "      <td>42.000000</td>\n",
       "      <td>0.320000</td>\n",
       "    </tr>\n",
       "    <tr>\n",
       "      <th>3</th>\n",
       "      <td>2009-01-07 00:00:00-02:00</td>\n",
       "      <td>41.750000</td>\n",
       "      <td>41.770000</td>\n",
       "      <td>40.450001</td>\n",
       "      <td>40.639999</td>\n",
       "      <td>73400</td>\n",
       "      <td>0</td>\n",
       "      <td>0</td>\n",
       "      <td>42.320000</td>\n",
       "      <td>-1.680000</td>\n",
       "    </tr>\n",
       "    <tr>\n",
       "      <th>4</th>\n",
       "      <td>2009-01-08 00:00:00-02:00</td>\n",
       "      <td>40.150002</td>\n",
       "      <td>42.200001</td>\n",
       "      <td>40.150002</td>\n",
       "      <td>42.200001</td>\n",
       "      <td>195300</td>\n",
       "      <td>0</td>\n",
       "      <td>0</td>\n",
       "      <td>40.639999</td>\n",
       "      <td>1.560001</td>\n",
       "    </tr>\n",
       "  </tbody>\n",
       "</table>\n",
       "</div>"
      ],
      "text/plain": [
       "                       date       open       high        low      close  \\\n",
       "0 2009-01-02 00:00:00-02:00  38.279999  40.320000  37.939999  40.320000   \n",
       "1 2009-01-05 00:00:00-02:00  40.200001  42.000000  39.700001  42.000000   \n",
       "2 2009-01-06 00:00:00-02:00  42.060001  42.320000  41.549999  42.320000   \n",
       "3 2009-01-07 00:00:00-02:00  41.750000  41.770000  40.450001  40.639999   \n",
       "4 2009-01-08 00:00:00-02:00  40.150002  42.200001  40.150002  42.200001   \n",
       "\n",
       "   volume  dividends  stock splits  prev_close  close_change  \n",
       "0  119900          0             0         NaN      0.000000  \n",
       "1  341700          0             0   40.320000      1.680000  \n",
       "2  178300          0             0   42.000000      0.320000  \n",
       "3   73400          0             0   42.320000     -1.680000  \n",
       "4  195300          0             0   40.639999      1.560001  "
      ]
     },
     "execution_count": 15,
     "metadata": {},
     "output_type": "execute_result"
    }
   ],
   "source": [
    "bova11.head()"
   ]
  },
  {
   "cell_type": "markdown",
   "metadata": {},
   "source": [
    "Checking the dataseries over time"
   ]
  },
  {
   "cell_type": "code",
   "execution_count": 16,
   "metadata": {},
   "outputs": [
    {
     "data": {
      "image/png": "[encoded data removed]",
      "text/plain": [
       "<Figure size 1400x1000 with 1 Axes>"
      ]
     },
     "metadata": {},
     "output_type": "display_data"
    }
   ],
   "source": [
    "daily_closing = bova11[['date','close']]\n",
    "daily_closing = daily_closing.set_index('date')\n",
    "ax = daily_closing.plot()\n",
    "plt.title('Valor de fechamento do BOVA11 ao longo dos anos')\n",
    "ax.yaxis.set_major_formatter(ticker.StrMethodFormatter(\"R${x:,.2f}\"))"
   ]
  },
  {
   "cell_type": "markdown",
   "metadata": {},
   "source": [
    "#### Feature Engineering\n",
    "Add auxiliar columns that can improve our model, like moving averages,standard deviation, techinical indicators and others\n",
    "Let's add:\n",
    "- Moving_average for 3, 10, 30 and 60 days\n",
    "- Standard deviation for 7, 30 and 60 days\n",
    "- Bollinger limits for Upper and lowers 3, 30 and 60\n",
    "- Add RSI indicator"
   ]
  },
  {
   "cell_type": "code",
   "execution_count": 17,
   "metadata": {},
   "outputs": [],
   "source": [
    "# Adding move Averages columns\n",
    "bova11['ma_3d'] = bova11['close'].rolling(3, center = True, min_periods=1).mean()\n",
    "bova11['ma_10d'] = bova11['close'].rolling(10, center = True,min_periods=1).mean()\n",
    "bova11['ma_30d'] = bova11['close'].rolling(30, center=True, min_periods=1).mean()\n",
    "bova11['ma_60d'] = bova11['close'].rolling(60, center = True, min_periods = 1).mean()"
   ]
  },
  {
   "cell_type": "code",
   "execution_count": 18,
   "metadata": {},
   "outputs": [],
   "source": [
    "# Adding standard deviation columns\n",
    "bova11['std_7'] = bova11['close'].rolling(7, center = True, min_periods = 1).std()\n",
    "bova11['std_30'] = bova11['close'].rolling(30, center = True, min_periods = 1).std()\n",
    "bova11['std_60'] = bova11['close'].rolling(60, center = True, min_periods = 1).std()"
   ]
  },
  {
   "cell_type": "code",
   "execution_count": 19,
   "metadata": {},
   "outputs": [],
   "source": [
    "# Adding the bollinger bands\n",
    "bova11['upper3'] = bova11['ma_3d'] + 2*bova11['close'].rolling(3, center = True, min_periods = 1).std()\n",
    "bova11['lower3'] = bova11['ma_3d'] - 2*bova11['close'].rolling(3, center = True, min_periods = 1).std()\n",
    "\n",
    "bova11['upper30'] = bova11['ma_30d'] + 2*bova11['std_30']\n",
    "bova11['lower30'] = bova11['ma_30d'] - 2*bova11['std_30']\n",
    "\n",
    "bova11['upper60'] = bova11['ma_60d'] + 2*bova11['std_60']\n",
    "bova11['lower60'] = bova11['ma_60d'] - 2*bova11['std_60']\n",
    "\n",
    "# Adding tecnical indicator RSI\n",
    "bova11['RSI'] = ta.rsi(bova11['close'], length = 15)"
   ]
  },
  {
   "cell_type": "code",
   "execution_count": 20,
   "metadata": {},
   "outputs": [
    {
     "data": {
      "image/png": "[encoded data removed]",
      "text/plain": [
       "<Figure size 1400x1000 with 1 Axes>"
      ]
     },
     "metadata": {},
     "output_type": "display_data"
    }
   ],
   "source": [
    "moving_avg = bova11[['date','ma_30d']]\n",
    "moving_avg = moving_avg.set_index('date')\n",
    "ax = moving_avg.plot()\n",
    "plt.title('Valor de fechamento do IBOVESPA ao longo dos anos')\n",
    "ax.yaxis.set_major_formatter(ticker.StrMethodFormatter(\"R${x:,.2f}\"))"
   ]
  },
  {
   "cell_type": "markdown",
   "metadata": {},
   "source": [
    "Select the features and the predict columns"
   ]
  },
  {
   "cell_type": "code",
   "execution_count": 21,
   "metadata": {},
   "outputs": [],
   "source": [
    "bova11.drop(['date', 'volume', 'dividends', 'stock splits', 'prev_close'],\n",
    "            axis = 1,\n",
    "           inplace = True)\n"
   ]
  },
  {
   "cell_type": "code",
   "execution_count": 22,
   "metadata": {},
   "outputs": [
    {
     "data": {
      "text/html": [
       "<div>\n",
       "<style scoped>\n",
       "    .dataframe tbody tr th:only-of-type {\n",
       "        vertical-align: middle;\n",
       "    }\n",
       "\n",
       "    .dataframe tbody tr th {\n",
       "        vertical-align: top;\n",
       "    }\n",
       "\n",
       "    .dataframe thead th {\n",
       "        text-align: right;\n",
       "    }\n",
       "</style>\n",
       "<table border=\"1\" class=\"dataframe\">\n",
       "  <thead>\n",
       "    <tr style=\"text-align: right;\">\n",
       "      <th></th>\n",
       "      <th>open</th>\n",
       "      <th>high</th>\n",
       "      <th>low</th>\n",
       "      <th>close</th>\n",
       "      <th>close_change</th>\n",
       "      <th>ma_3d</th>\n",
       "      <th>ma_10d</th>\n",
       "      <th>ma_30d</th>\n",
       "      <th>ma_60d</th>\n",
       "      <th>std_7</th>\n",
       "      <th>std_30</th>\n",
       "      <th>std_60</th>\n",
       "      <th>upper3</th>\n",
       "      <th>lower3</th>\n",
       "      <th>upper30</th>\n",
       "      <th>lower30</th>\n",
       "      <th>upper60</th>\n",
       "      <th>lower60</th>\n",
       "      <th>RSI</th>\n",
       "    </tr>\n",
       "  </thead>\n",
       "  <tbody>\n",
       "    <tr>\n",
       "      <th>0</th>\n",
       "      <td>38.279999</td>\n",
       "      <td>40.320000</td>\n",
       "      <td>37.939999</td>\n",
       "      <td>40.320000</td>\n",
       "      <td>0.000000</td>\n",
       "      <td>41.160000</td>\n",
       "      <td>41.496000</td>\n",
       "      <td>40.072667</td>\n",
       "      <td>40.216334</td>\n",
       "      <td>0.987387</td>\n",
       "      <td>1.459904</td>\n",
       "      <td>1.394817</td>\n",
       "      <td>43.535879</td>\n",
       "      <td>38.784121</td>\n",
       "      <td>42.992476</td>\n",
       "      <td>37.152858</td>\n",
       "      <td>43.005967</td>\n",
       "      <td>37.426700</td>\n",
       "      <td>NaN</td>\n",
       "    </tr>\n",
       "    <tr>\n",
       "      <th>1</th>\n",
       "      <td>40.200001</td>\n",
       "      <td>42.000000</td>\n",
       "      <td>39.700001</td>\n",
       "      <td>42.000000</td>\n",
       "      <td>1.680000</td>\n",
       "      <td>41.546666</td>\n",
       "      <td>41.580000</td>\n",
       "      <td>39.948125</td>\n",
       "      <td>40.269033</td>\n",
       "      <td>0.941319</td>\n",
       "      <td>1.495795</td>\n",
       "      <td>1.402411</td>\n",
       "      <td>43.695279</td>\n",
       "      <td>39.398054</td>\n",
       "      <td>42.939715</td>\n",
       "      <td>36.956536</td>\n",
       "      <td>43.073854</td>\n",
       "      <td>37.464211</td>\n",
       "      <td>NaN</td>\n",
       "    </tr>\n",
       "    <tr>\n",
       "      <th>2</th>\n",
       "      <td>42.060001</td>\n",
       "      <td>42.320000</td>\n",
       "      <td>41.549999</td>\n",
       "      <td>42.320000</td>\n",
       "      <td>0.320000</td>\n",
       "      <td>41.653333</td>\n",
       "      <td>41.311429</td>\n",
       "      <td>39.892353</td>\n",
       "      <td>40.322813</td>\n",
       "      <td>0.866718</td>\n",
       "      <td>1.466439</td>\n",
       "      <td>1.412751</td>\n",
       "      <td>43.437411</td>\n",
       "      <td>39.869255</td>\n",
       "      <td>42.825231</td>\n",
       "      <td>36.959475</td>\n",
       "      <td>43.148315</td>\n",
       "      <td>37.497311</td>\n",
       "      <td>NaN</td>\n",
       "    </tr>\n",
       "    <tr>\n",
       "      <th>3</th>\n",
       "      <td>41.750000</td>\n",
       "      <td>41.770000</td>\n",
       "      <td>40.450001</td>\n",
       "      <td>40.639999</td>\n",
       "      <td>-1.680000</td>\n",
       "      <td>41.720000</td>\n",
       "      <td>41.147500</td>\n",
       "      <td>39.842223</td>\n",
       "      <td>40.313031</td>\n",
       "      <td>1.063445</td>\n",
       "      <td>1.438465</td>\n",
       "      <td>1.391637</td>\n",
       "      <td>43.594461</td>\n",
       "      <td>39.845539</td>\n",
       "      <td>42.719153</td>\n",
       "      <td>36.965292</td>\n",
       "      <td>43.096304</td>\n",
       "      <td>37.529757</td>\n",
       "      <td>NaN</td>\n",
       "    </tr>\n",
       "    <tr>\n",
       "      <th>4</th>\n",
       "      <td>40.150002</td>\n",
       "      <td>42.200001</td>\n",
       "      <td>40.150002</td>\n",
       "      <td>42.200001</td>\n",
       "      <td>1.560001</td>\n",
       "      <td>41.613333</td>\n",
       "      <td>40.801111</td>\n",
       "      <td>39.897895</td>\n",
       "      <td>40.303530</td>\n",
       "      <td>1.118613</td>\n",
       "      <td>1.418844</td>\n",
       "      <td>1.371508</td>\n",
       "      <td>43.311019</td>\n",
       "      <td>39.915647</td>\n",
       "      <td>42.735582</td>\n",
       "      <td>37.060208</td>\n",
       "      <td>43.046547</td>\n",
       "      <td>37.560513</td>\n",
       "      <td>NaN</td>\n",
       "    </tr>\n",
       "    <tr>\n",
       "      <th>...</th>\n",
       "      <td>...</td>\n",
       "      <td>...</td>\n",
       "      <td>...</td>\n",
       "      <td>...</td>\n",
       "      <td>...</td>\n",
       "      <td>...</td>\n",
       "      <td>...</td>\n",
       "      <td>...</td>\n",
       "      <td>...</td>\n",
       "      <td>...</td>\n",
       "      <td>...</td>\n",
       "      <td>...</td>\n",
       "      <td>...</td>\n",
       "      <td>...</td>\n",
       "      <td>...</td>\n",
       "      <td>...</td>\n",
       "      <td>...</td>\n",
       "      <td>...</td>\n",
       "      <td>...</td>\n",
       "    </tr>\n",
       "    <tr>\n",
       "      <th>3397</th>\n",
       "      <td>109.000000</td>\n",
       "      <td>110.680000</td>\n",
       "      <td>108.209999</td>\n",
       "      <td>110.650002</td>\n",
       "      <td>1.220001</td>\n",
       "      <td>110.166667</td>\n",
       "      <td>109.123000</td>\n",
       "      <td>107.671500</td>\n",
       "      <td>105.684572</td>\n",
       "      <td>1.061239</td>\n",
       "      <td>2.192330</td>\n",
       "      <td>3.248390</td>\n",
       "      <td>111.463175</td>\n",
       "      <td>108.870158</td>\n",
       "      <td>112.056159</td>\n",
       "      <td>103.286840</td>\n",
       "      <td>112.181351</td>\n",
       "      <td>99.187793</td>\n",
       "      <td>60.925992</td>\n",
       "    </tr>\n",
       "    <tr>\n",
       "      <th>3398</th>\n",
       "      <td>110.699997</td>\n",
       "      <td>111.099998</td>\n",
       "      <td>109.860001</td>\n",
       "      <td>110.419998</td>\n",
       "      <td>-0.230003</td>\n",
       "      <td>109.823334</td>\n",
       "      <td>109.211110</td>\n",
       "      <td>107.974210</td>\n",
       "      <td>105.842941</td>\n",
       "      <td>1.041406</td>\n",
       "      <td>1.771676</td>\n",
       "      <td>3.157112</td>\n",
       "      <td>112.299324</td>\n",
       "      <td>107.347344</td>\n",
       "      <td>111.517563</td>\n",
       "      <td>104.430857</td>\n",
       "      <td>112.157166</td>\n",
       "      <td>99.528716</td>\n",
       "      <td>60.155206</td>\n",
       "    </tr>\n",
       "    <tr>\n",
       "      <th>3399</th>\n",
       "      <td>110.279999</td>\n",
       "      <td>110.290001</td>\n",
       "      <td>108.339996</td>\n",
       "      <td>108.400002</td>\n",
       "      <td>-2.019997</td>\n",
       "      <td>109.173332</td>\n",
       "      <td>109.223749</td>\n",
       "      <td>108.180000</td>\n",
       "      <td>105.998788</td>\n",
       "      <td>0.906326</td>\n",
       "      <td>1.572102</td>\n",
       "      <td>3.070380</td>\n",
       "      <td>111.353361</td>\n",
       "      <td>106.993303</td>\n",
       "      <td>111.324204</td>\n",
       "      <td>105.035796</td>\n",
       "      <td>112.139548</td>\n",
       "      <td>99.858028</td>\n",
       "      <td>53.755845</td>\n",
       "    </tr>\n",
       "    <tr>\n",
       "      <th>3400</th>\n",
       "      <td>109.010002</td>\n",
       "      <td>109.320000</td>\n",
       "      <td>108.129997</td>\n",
       "      <td>108.699997</td>\n",
       "      <td>0.299995</td>\n",
       "      <td>108.979998</td>\n",
       "      <td>109.334285</td>\n",
       "      <td>108.337647</td>\n",
       "      <td>106.170625</td>\n",
       "      <td>1.010257</td>\n",
       "      <td>1.466516</td>\n",
       "      <td>2.953892</td>\n",
       "      <td>110.499468</td>\n",
       "      <td>107.460529</td>\n",
       "      <td>111.270678</td>\n",
       "      <td>105.404616</td>\n",
       "      <td>112.078410</td>\n",
       "      <td>100.262840</td>\n",
       "      <td>54.525609</td>\n",
       "    </tr>\n",
       "    <tr>\n",
       "      <th>3401</th>\n",
       "      <td>108.709999</td>\n",
       "      <td>109.959999</td>\n",
       "      <td>108.709999</td>\n",
       "      <td>109.839996</td>\n",
       "      <td>1.139999</td>\n",
       "      <td>109.269997</td>\n",
       "      <td>109.573332</td>\n",
       "      <td>108.524375</td>\n",
       "      <td>106.389032</td>\n",
       "      <td>0.950367</td>\n",
       "      <td>1.289102</td>\n",
       "      <td>2.727452</td>\n",
       "      <td>110.882199</td>\n",
       "      <td>107.657794</td>\n",
       "      <td>111.102579</td>\n",
       "      <td>105.946170</td>\n",
       "      <td>111.843936</td>\n",
       "      <td>100.934129</td>\n",
       "      <td>57.411912</td>\n",
       "    </tr>\n",
       "  </tbody>\n",
       "</table>\n",
       "<p>3402 rows × 19 columns</p>\n",
       "</div>"
      ],
      "text/plain": [
       "            open        high         low       close  close_change  \\\n",
       "0      38.279999   40.320000   37.939999   40.320000      0.000000   \n",
       "1      40.200001   42.000000   39.700001   42.000000      1.680000   \n",
       "2      42.060001   42.320000   41.549999   42.320000      0.320000   \n",
       "3      41.750000   41.770000   40.450001   40.639999     -1.680000   \n",
       "4      40.150002   42.200001   40.150002   42.200001      1.560001   \n",
       "...          ...         ...         ...         ...           ...   \n",
       "3397  109.000000  110.680000  108.209999  110.650002      1.220001   \n",
       "3398  110.699997  111.099998  109.860001  110.419998     -0.230003   \n",
       "3399  110.279999  110.290001  108.339996  108.400002     -2.019997   \n",
       "3400  109.010002  109.320000  108.129997  108.699997      0.299995   \n",
       "3401  108.709999  109.959999  108.709999  109.839996      1.139999   \n",
       "\n",
       "           ma_3d      ma_10d      ma_30d      ma_60d     std_7    std_30  \\\n",
       "0      41.160000   41.496000   40.072667   40.216334  0.987387  1.459904   \n",
       "1      41.546666   41.580000   39.948125   40.269033  0.941319  1.495795   \n",
       "2      41.653333   41.311429   39.892353   40.322813  0.866718  1.466439   \n",
       "3      41.720000   41.147500   39.842223   40.313031  1.063445  1.438465   \n",
       "4      41.613333   40.801111   39.897895   40.303530  1.118613  1.418844   \n",
       "...          ...         ...         ...         ...       ...       ...   \n",
       "3397  110.166667  109.123000  107.671500  105.684572  1.061239  2.192330   \n",
       "3398  109.823334  109.211110  107.974210  105.842941  1.041406  1.771676   \n",
       "3399  109.173332  109.223749  108.180000  105.998788  0.906326  1.572102   \n",
       "3400  108.979998  109.334285  108.337647  106.170625  1.010257  1.466516   \n",
       "3401  109.269997  109.573332  108.524375  106.389032  0.950367  1.289102   \n",
       "\n",
       "        std_60      upper3      lower3     upper30     lower30     upper60  \\\n",
       "0     1.394817   43.535879   38.784121   42.992476   37.152858   43.005967   \n",
       "1     1.402411   43.695279   39.398054   42.939715   36.956536   43.073854   \n",
       "2     1.412751   43.437411   39.869255   42.825231   36.959475   43.148315   \n",
       "3     1.391637   43.594461   39.845539   42.719153   36.965292   43.096304   \n",
       "4     1.371508   43.311019   39.915647   42.735582   37.060208   43.046547   \n",
       "...        ...         ...         ...         ...         ...         ...   \n",
       "3397  3.248390  111.463175  108.870158  112.056159  103.286840  112.181351   \n",
       "3398  3.157112  112.299324  107.347344  111.517563  104.430857  112.157166   \n",
       "3399  3.070380  111.353361  106.993303  111.324204  105.035796  112.139548   \n",
       "3400  2.953892  110.499468  107.460529  111.270678  105.404616  112.078410   \n",
       "3401  2.727452  110.882199  107.657794  111.102579  105.946170  111.843936   \n",
       "\n",
       "         lower60        RSI  \n",
       "0      37.426700        NaN  \n",
       "1      37.464211        NaN  \n",
       "2      37.497311        NaN  \n",
       "3      37.529757        NaN  \n",
       "4      37.560513        NaN  \n",
       "...          ...        ...  \n",
       "3397   99.187793  60.925992  \n",
       "3398   99.528716  60.155206  \n",
       "3399   99.858028  53.755845  \n",
       "3400  100.262840  54.525609  \n",
       "3401  100.934129  57.411912  \n",
       "\n",
       "[3402 rows x 19 columns]"
      ]
     },
     "execution_count": 22,
     "metadata": {},
     "output_type": "execute_result"
    }
   ],
   "source": [
    "bova11"
   ]
  },
  {
   "cell_type": "code",
   "execution_count": 23,
   "metadata": {},
   "outputs": [],
   "source": [
    "bova11['target'] = bova11.close - bova11.open\n",
    "#bova11['targetClass'] = [1 if bova11.target[i] > 0 else 0 for i in range(len(bova11))]\n",
    "bova11['targetNextClose'] = bova11['close'].shift(-1)"
   ]
  },
  {
   "cell_type": "code",
   "execution_count": 24,
   "metadata": {},
   "outputs": [
    {
     "data": {
      "text/html": [
       "<div>\n",
       "<style scoped>\n",
       "    .dataframe tbody tr th:only-of-type {\n",
       "        vertical-align: middle;\n",
       "    }\n",
       "\n",
       "    .dataframe tbody tr th {\n",
       "        vertical-align: top;\n",
       "    }\n",
       "\n",
       "    .dataframe thead th {\n",
       "        text-align: right;\n",
       "    }\n",
       "</style>\n",
       "<table border=\"1\" class=\"dataframe\">\n",
       "  <thead>\n",
       "    <tr style=\"text-align: right;\">\n",
       "      <th></th>\n",
       "      <th>open</th>\n",
       "      <th>high</th>\n",
       "      <th>low</th>\n",
       "      <th>close</th>\n",
       "      <th>close_change</th>\n",
       "      <th>ma_3d</th>\n",
       "      <th>ma_10d</th>\n",
       "      <th>ma_30d</th>\n",
       "      <th>ma_60d</th>\n",
       "      <th>std_7</th>\n",
       "      <th>...</th>\n",
       "      <th>std_60</th>\n",
       "      <th>upper3</th>\n",
       "      <th>lower3</th>\n",
       "      <th>upper30</th>\n",
       "      <th>lower30</th>\n",
       "      <th>upper60</th>\n",
       "      <th>lower60</th>\n",
       "      <th>RSI</th>\n",
       "      <th>target</th>\n",
       "      <th>targetNextClose</th>\n",
       "    </tr>\n",
       "  </thead>\n",
       "  <tbody>\n",
       "    <tr>\n",
       "      <th>0</th>\n",
       "      <td>38.279999</td>\n",
       "      <td>40.320000</td>\n",
       "      <td>37.939999</td>\n",
       "      <td>40.320000</td>\n",
       "      <td>0.000000</td>\n",
       "      <td>41.160000</td>\n",
       "      <td>41.496000</td>\n",
       "      <td>40.072667</td>\n",
       "      <td>40.216334</td>\n",
       "      <td>0.987387</td>\n",
       "      <td>...</td>\n",
       "      <td>1.394817</td>\n",
       "      <td>43.535879</td>\n",
       "      <td>38.784121</td>\n",
       "      <td>42.992476</td>\n",
       "      <td>37.152858</td>\n",
       "      <td>43.005967</td>\n",
       "      <td>37.426700</td>\n",
       "      <td>NaN</td>\n",
       "      <td>2.040001</td>\n",
       "      <td>42.000000</td>\n",
       "    </tr>\n",
       "    <tr>\n",
       "      <th>1</th>\n",
       "      <td>40.200001</td>\n",
       "      <td>42.000000</td>\n",
       "      <td>39.700001</td>\n",
       "      <td>42.000000</td>\n",
       "      <td>1.680000</td>\n",
       "      <td>41.546666</td>\n",
       "      <td>41.580000</td>\n",
       "      <td>39.948125</td>\n",
       "      <td>40.269033</td>\n",
       "      <td>0.941319</td>\n",
       "      <td>...</td>\n",
       "      <td>1.402411</td>\n",
       "      <td>43.695279</td>\n",
       "      <td>39.398054</td>\n",
       "      <td>42.939715</td>\n",
       "      <td>36.956536</td>\n",
       "      <td>43.073854</td>\n",
       "      <td>37.464211</td>\n",
       "      <td>NaN</td>\n",
       "      <td>1.799999</td>\n",
       "      <td>42.320000</td>\n",
       "    </tr>\n",
       "    <tr>\n",
       "      <th>2</th>\n",
       "      <td>42.060001</td>\n",
       "      <td>42.320000</td>\n",
       "      <td>41.549999</td>\n",
       "      <td>42.320000</td>\n",
       "      <td>0.320000</td>\n",
       "      <td>41.653333</td>\n",
       "      <td>41.311429</td>\n",
       "      <td>39.892353</td>\n",
       "      <td>40.322813</td>\n",
       "      <td>0.866718</td>\n",
       "      <td>...</td>\n",
       "      <td>1.412751</td>\n",
       "      <td>43.437411</td>\n",
       "      <td>39.869255</td>\n",
       "      <td>42.825231</td>\n",
       "      <td>36.959475</td>\n",
       "      <td>43.148315</td>\n",
       "      <td>37.497311</td>\n",
       "      <td>NaN</td>\n",
       "      <td>0.259998</td>\n",
       "      <td>40.639999</td>\n",
       "    </tr>\n",
       "    <tr>\n",
       "      <th>3</th>\n",
       "      <td>41.750000</td>\n",
       "      <td>41.770000</td>\n",
       "      <td>40.450001</td>\n",
       "      <td>40.639999</td>\n",
       "      <td>-1.680000</td>\n",
       "      <td>41.720000</td>\n",
       "      <td>41.147500</td>\n",
       "      <td>39.842223</td>\n",
       "      <td>40.313031</td>\n",
       "      <td>1.063445</td>\n",
       "      <td>...</td>\n",
       "      <td>1.391637</td>\n",
       "      <td>43.594461</td>\n",
       "      <td>39.845539</td>\n",
       "      <td>42.719153</td>\n",
       "      <td>36.965292</td>\n",
       "      <td>43.096304</td>\n",
       "      <td>37.529757</td>\n",
       "      <td>NaN</td>\n",
       "      <td>-1.110001</td>\n",
       "      <td>42.200001</td>\n",
       "    </tr>\n",
       "    <tr>\n",
       "      <th>4</th>\n",
       "      <td>40.150002</td>\n",
       "      <td>42.200001</td>\n",
       "      <td>40.150002</td>\n",
       "      <td>42.200001</td>\n",
       "      <td>1.560001</td>\n",
       "      <td>41.613333</td>\n",
       "      <td>40.801111</td>\n",
       "      <td>39.897895</td>\n",
       "      <td>40.303530</td>\n",
       "      <td>1.118613</td>\n",
       "      <td>...</td>\n",
       "      <td>1.371508</td>\n",
       "      <td>43.311019</td>\n",
       "      <td>39.915647</td>\n",
       "      <td>42.735582</td>\n",
       "      <td>37.060208</td>\n",
       "      <td>43.046547</td>\n",
       "      <td>37.560513</td>\n",
       "      <td>NaN</td>\n",
       "      <td>2.049999</td>\n",
       "      <td>42.000000</td>\n",
       "    </tr>\n",
       "    <tr>\n",
       "      <th>...</th>\n",
       "      <td>...</td>\n",
       "      <td>...</td>\n",
       "      <td>...</td>\n",
       "      <td>...</td>\n",
       "      <td>...</td>\n",
       "      <td>...</td>\n",
       "      <td>...</td>\n",
       "      <td>...</td>\n",
       "      <td>...</td>\n",
       "      <td>...</td>\n",
       "      <td>...</td>\n",
       "      <td>...</td>\n",
       "      <td>...</td>\n",
       "      <td>...</td>\n",
       "      <td>...</td>\n",
       "      <td>...</td>\n",
       "      <td>...</td>\n",
       "      <td>...</td>\n",
       "      <td>...</td>\n",
       "      <td>...</td>\n",
       "      <td>...</td>\n",
       "    </tr>\n",
       "    <tr>\n",
       "      <th>3397</th>\n",
       "      <td>109.000000</td>\n",
       "      <td>110.680000</td>\n",
       "      <td>108.209999</td>\n",
       "      <td>110.650002</td>\n",
       "      <td>1.220001</td>\n",
       "      <td>110.166667</td>\n",
       "      <td>109.123000</td>\n",
       "      <td>107.671500</td>\n",
       "      <td>105.684572</td>\n",
       "      <td>1.061239</td>\n",
       "      <td>...</td>\n",
       "      <td>3.248390</td>\n",
       "      <td>111.463175</td>\n",
       "      <td>108.870158</td>\n",
       "      <td>112.056159</td>\n",
       "      <td>103.286840</td>\n",
       "      <td>112.181351</td>\n",
       "      <td>99.187793</td>\n",
       "      <td>60.925992</td>\n",
       "      <td>1.650002</td>\n",
       "      <td>110.419998</td>\n",
       "    </tr>\n",
       "    <tr>\n",
       "      <th>3398</th>\n",
       "      <td>110.699997</td>\n",
       "      <td>111.099998</td>\n",
       "      <td>109.860001</td>\n",
       "      <td>110.419998</td>\n",
       "      <td>-0.230003</td>\n",
       "      <td>109.823334</td>\n",
       "      <td>109.211110</td>\n",
       "      <td>107.974210</td>\n",
       "      <td>105.842941</td>\n",
       "      <td>1.041406</td>\n",
       "      <td>...</td>\n",
       "      <td>3.157112</td>\n",
       "      <td>112.299324</td>\n",
       "      <td>107.347344</td>\n",
       "      <td>111.517563</td>\n",
       "      <td>104.430857</td>\n",
       "      <td>112.157166</td>\n",
       "      <td>99.528716</td>\n",
       "      <td>60.155206</td>\n",
       "      <td>-0.279999</td>\n",
       "      <td>108.400002</td>\n",
       "    </tr>\n",
       "    <tr>\n",
       "      <th>3399</th>\n",
       "      <td>110.279999</td>\n",
       "      <td>110.290001</td>\n",
       "      <td>108.339996</td>\n",
       "      <td>108.400002</td>\n",
       "      <td>-2.019997</td>\n",
       "      <td>109.173332</td>\n",
       "      <td>109.223749</td>\n",
       "      <td>108.180000</td>\n",
       "      <td>105.998788</td>\n",
       "      <td>0.906326</td>\n",
       "      <td>...</td>\n",
       "      <td>3.070380</td>\n",
       "      <td>111.353361</td>\n",
       "      <td>106.993303</td>\n",
       "      <td>111.324204</td>\n",
       "      <td>105.035796</td>\n",
       "      <td>112.139548</td>\n",
       "      <td>99.858028</td>\n",
       "      <td>53.755845</td>\n",
       "      <td>-1.879997</td>\n",
       "      <td>108.699997</td>\n",
       "    </tr>\n",
       "    <tr>\n",
       "      <th>3400</th>\n",
       "      <td>109.010002</td>\n",
       "      <td>109.320000</td>\n",
       "      <td>108.129997</td>\n",
       "      <td>108.699997</td>\n",
       "      <td>0.299995</td>\n",
       "      <td>108.979998</td>\n",
       "      <td>109.334285</td>\n",
       "      <td>108.337647</td>\n",
       "      <td>106.170625</td>\n",
       "      <td>1.010257</td>\n",
       "      <td>...</td>\n",
       "      <td>2.953892</td>\n",
       "      <td>110.499468</td>\n",
       "      <td>107.460529</td>\n",
       "      <td>111.270678</td>\n",
       "      <td>105.404616</td>\n",
       "      <td>112.078410</td>\n",
       "      <td>100.262840</td>\n",
       "      <td>54.525609</td>\n",
       "      <td>-0.310005</td>\n",
       "      <td>109.839996</td>\n",
       "    </tr>\n",
       "    <tr>\n",
       "      <th>3401</th>\n",
       "      <td>108.709999</td>\n",
       "      <td>109.959999</td>\n",
       "      <td>108.709999</td>\n",
       "      <td>109.839996</td>\n",
       "      <td>1.139999</td>\n",
       "      <td>109.269997</td>\n",
       "      <td>109.573332</td>\n",
       "      <td>108.524375</td>\n",
       "      <td>106.389032</td>\n",
       "      <td>0.950367</td>\n",
       "      <td>...</td>\n",
       "      <td>2.727452</td>\n",
       "      <td>110.882199</td>\n",
       "      <td>107.657794</td>\n",
       "      <td>111.102579</td>\n",
       "      <td>105.946170</td>\n",
       "      <td>111.843936</td>\n",
       "      <td>100.934129</td>\n",
       "      <td>57.411912</td>\n",
       "      <td>1.129997</td>\n",
       "      <td>NaN</td>\n",
       "    </tr>\n",
       "  </tbody>\n",
       "</table>\n",
       "<p>3402 rows × 21 columns</p>\n",
       "</div>"
      ],
      "text/plain": [
       "            open        high         low       close  close_change  \\\n",
       "0      38.279999   40.320000   37.939999   40.320000      0.000000   \n",
       "1      40.200001   42.000000   39.700001   42.000000      1.680000   \n",
       "2      42.060001   42.320000   41.549999   42.320000      0.320000   \n",
       "3      41.750000   41.770000   40.450001   40.639999     -1.680000   \n",
       "4      40.150002   42.200001   40.150002   42.200001      1.560001   \n",
       "...          ...         ...         ...         ...           ...   \n",
       "3397  109.000000  110.680000  108.209999  110.650002      1.220001   \n",
       "3398  110.699997  111.099998  109.860001  110.419998     -0.230003   \n",
       "3399  110.279999  110.290001  108.339996  108.400002     -2.019997   \n",
       "3400  109.010002  109.320000  108.129997  108.699997      0.299995   \n",
       "3401  108.709999  109.959999  108.709999  109.839996      1.139999   \n",
       "\n",
       "           ma_3d      ma_10d      ma_30d      ma_60d     std_7  ...    std_60  \\\n",
       "0      41.160000   41.496000   40.072667   40.216334  0.987387  ...  1.394817   \n",
       "1      41.546666   41.580000   39.948125   40.269033  0.941319  ...  1.402411   \n",
       "2      41.653333   41.311429   39.892353   40.322813  0.866718  ...  1.412751   \n",
       "3      41.720000   41.147500   39.842223   40.313031  1.063445  ...  1.391637   \n",
       "4      41.613333   40.801111   39.897895   40.303530  1.118613  ...  1.371508   \n",
       "...          ...         ...         ...         ...       ...  ...       ...   \n",
       "3397  110.166667  109.123000  107.671500  105.684572  1.061239  ...  3.248390   \n",
       "3398  109.823334  109.211110  107.974210  105.842941  1.041406  ...  3.157112   \n",
       "3399  109.173332  109.223749  108.180000  105.998788  0.906326  ...  3.070380   \n",
       "3400  108.979998  109.334285  108.337647  106.170625  1.010257  ...  2.953892   \n",
       "3401  109.269997  109.573332  108.524375  106.389032  0.950367  ...  2.727452   \n",
       "\n",
       "          upper3      lower3     upper30     lower30     upper60     lower60  \\\n",
       "0      43.535879   38.784121   42.992476   37.152858   43.005967   37.426700   \n",
       "1      43.695279   39.398054   42.939715   36.956536   43.073854   37.464211   \n",
       "2      43.437411   39.869255   42.825231   36.959475   43.148315   37.497311   \n",
       "3      43.594461   39.845539   42.719153   36.965292   43.096304   37.529757   \n",
       "4      43.311019   39.915647   42.735582   37.060208   43.046547   37.560513   \n",
       "...          ...         ...         ...         ...         ...         ...   \n",
       "3397  111.463175  108.870158  112.056159  103.286840  112.181351   99.187793   \n",
       "3398  112.299324  107.347344  111.517563  104.430857  112.157166   99.528716   \n",
       "3399  111.353361  106.993303  111.324204  105.035796  112.139548   99.858028   \n",
       "3400  110.499468  107.460529  111.270678  105.404616  112.078410  100.262840   \n",
       "3401  110.882199  107.657794  111.102579  105.946170  111.843936  100.934129   \n",
       "\n",
       "            RSI    target  targetNextClose  \n",
       "0           NaN  2.040001        42.000000  \n",
       "1           NaN  1.799999        42.320000  \n",
       "2           NaN  0.259998        40.639999  \n",
       "3           NaN -1.110001        42.200001  \n",
       "4           NaN  2.049999        42.000000  \n",
       "...         ...       ...              ...  \n",
       "3397  60.925992  1.650002       110.419998  \n",
       "3398  60.155206 -0.279999       108.400002  \n",
       "3399  53.755845 -1.879997       108.699997  \n",
       "3400  54.525609 -0.310005       109.839996  \n",
       "3401  57.411912  1.129997              NaN  \n",
       "\n",
       "[3402 rows x 21 columns]"
      ]
     },
     "execution_count": 24,
     "metadata": {},
     "output_type": "execute_result"
    }
   ],
   "source": [
    "bova11"
   ]
  },
  {
   "cell_type": "code",
   "execution_count": 25,
   "metadata": {},
   "outputs": [],
   "source": [
    "bova11.dropna(inplace = True)"
   ]
  },
  {
   "cell_type": "code",
   "execution_count": 26,
   "metadata": {},
   "outputs": [
    {
     "name": "stdout",
     "output_type": "stream",
     "text": [
      "[[-0.41052802 -0.95937954 -0.97594966 ... -0.34158244 -0.812735\n",
      "  -0.94288915]\n",
      " [-0.39380423 -0.93549828 -0.95100022 ... -0.1145866  -0.81635782\n",
      "  -0.94311308]\n",
      " [-0.38663696 -0.9468809  -0.94178467 ... -0.11645738 -0.82917641\n",
      "  -0.90033593]\n",
      " ...\n",
      " [ 0.76315995  0.6625376   0.66621716 ...  0.35221771 -0.85035523\n",
      "   0.6114222 ]\n",
      " [ 0.75647048  0.64445932  0.63205208 ...  0.16001159 -0.89494206\n",
      "   0.61814103]\n",
      " [ 0.73624277  0.62280992  0.62733194 ...  0.1831316  -0.85119142\n",
      "   0.64367293]]\n"
     ]
    }
   ],
   "source": [
    "scaler = MinMaxScaler(feature_range = (-1, 1))\n",
    "bova11_scaled = scaler.fit_transform(bova11)\n",
    "print(bova11_scaled)"
   ]
  },
  {
   "cell_type": "markdown",
   "metadata": {},
   "source": [
    "Select the features and prediction target columns"
   ]
  },
  {
   "cell_type": "markdown",
   "metadata": {},
   "source": [
    "### 6. Calculating Error metrics"
   ]
  },
  {
   "cell_type": "code",
   "execution_count": 27,
   "metadata": {},
   "outputs": [],
   "source": [
    "def MAPE(actual, pred):\n",
    "    actual, pred = np.array(actual), np.array(pred)\n",
    "    MAPE = np.nanmean(np.abs((actual - pred) / actual)) * 100\n",
    "    return MAPE\n",
    "\n",
    "def MAE(actual, pred):\n",
    "    MAE = mean_absolute_error(actual, pred)\n",
    "    return MAE\n",
    "\n",
    "def RMSE(actual, pred):\n",
    "    RMSE = mean_squared_error(actual, pred, squared = False)\n",
    "    return RMSE"
   ]
  },
  {
   "cell_type": "code",
   "execution_count": 28,
   "metadata": {},
   "outputs": [],
   "source": [
    "n_neurons = 256\n",
    "n_batch_size = 32\n",
    "dropout = 0.2\n",
    "pass_days = 100"
   ]
  },
  {
   "cell_type": "code",
   "execution_count": 29,
   "metadata": {},
   "outputs": [],
   "source": [
    "backcandles = pass_days\n",
    "X = []\n",
    "for j in range(19): # range is the number of feature columns you will use\n",
    "    X.append([])\n",
    "    for k in range(backcandles, bova11_scaled.shape[0]):\n",
    "        X[j].append(bova11_scaled[k-backcandles:k, j])\n",
    "\n",
    "#move axis from 0 to position 2\n",
    "X = np.moveaxis(X, [0], [2])\n",
    "\n",
    "X, yi = np.array(X), np.array(bova11_scaled[backcandles:, -1]) # Chosing the last column as the pred. target\n",
    "y = np.reshape(yi, (len(yi), 1))\n",
    "\n",
    "splitlimit = int(len(X) * 0.9)\n",
    "x_train, x_test = X[:splitlimit], X[splitlimit+1:]\n",
    "y_train, y_test = y[:splitlimit], y[splitlimit+1:]"
   ]
  },
  {
   "cell_type": "code",
   "execution_count": 30,
   "metadata": {},
   "outputs": [
    {
     "name": "stdout",
     "output_type": "stream",
     "text": [
      "\n",
      "Epoch 1: val_loss improved from inf to 0.00211, saving model to best_model.h5\n",
      "\n",
      "Epoch 2: val_loss improved from 0.00211 to 0.00179, saving model to best_model.h5\n",
      "\n",
      "Epoch 3: val_loss improved from 0.00179 to 0.00176, saving model to best_model.h5\n",
      "\n",
      "Epoch 4: val_loss did not improve from 0.00176\n",
      "\n",
      "Epoch 5: val_loss did not improve from 0.00176\n",
      "\n",
      "Epoch 6: val_loss did not improve from 0.00176\n",
      "\n",
      "Epoch 7: val_loss did not improve from 0.00176\n",
      "\n",
      "Epoch 8: val_loss improved from 0.00176 to 0.00164, saving model to best_model.h5\n",
      "\n",
      "Epoch 9: val_loss improved from 0.00164 to 0.00160, saving model to best_model.h5\n",
      "\n",
      "Epoch 10: val_loss improved from 0.00160 to 0.00151, saving model to best_model.h5\n",
      "\n",
      "Epoch 11: val_loss did not improve from 0.00151\n",
      "\n",
      "Epoch 12: val_loss did not improve from 0.00151\n",
      "\n",
      "Epoch 13: val_loss did not improve from 0.00151\n",
      "\n",
      "Epoch 14: val_loss improved from 0.00151 to 0.00130, saving model to best_model.h5\n",
      "\n",
      "Epoch 15: val_loss did not improve from 0.00130\n",
      "\n",
      "Epoch 16: val_loss did not improve from 0.00130\n",
      "\n",
      "Epoch 17: val_loss did not improve from 0.00130\n",
      "\n",
      "Epoch 18: val_loss improved from 0.00130 to 0.00126, saving model to best_model.h5\n",
      "\n",
      "Epoch 19: val_loss did not improve from 0.00126\n",
      "\n",
      "Epoch 20: val_loss did not improve from 0.00126\n",
      "\n",
      "Epoch 21: val_loss did not improve from 0.00126\n",
      "\n",
      "Epoch 22: val_loss did not improve from 0.00126\n",
      "\n",
      "Epoch 23: val_loss did not improve from 0.00126\n",
      "\n",
      "Epoch 24: val_loss improved from 0.00126 to 0.00124, saving model to best_model.h5\n",
      "\n",
      "Epoch 25: val_loss did not improve from 0.00124\n",
      "\n",
      "Epoch 26: val_loss did not improve from 0.00124\n",
      "\n",
      "Epoch 27: val_loss did not improve from 0.00124\n",
      "\n",
      "Epoch 28: val_loss did not improve from 0.00124\n",
      "\n",
      "Epoch 29: val_loss did not improve from 0.00124\n",
      "\n",
      "Epoch 30: val_loss did not improve from 0.00124\n",
      "\n",
      "Epoch 31: val_loss did not improve from 0.00124\n",
      "Epoch 31: early stopping\n"
     ]
    },
    {
     "data": {
      "text/plain": [
       "<keras.callbacks.History at 0x274c4fc9cc0>"
      ]
     },
     "execution_count": 30,
     "metadata": {},
     "output_type": "execute_result"
    }
   ],
   "source": [
    "model = Sequential()\n",
    "model.add(LSTM(units = n_neurons, \n",
    "               return_sequences = True,\n",
    "               input_shape = (x_train.shape[1],\n",
    "                             x_train.shape[2])))\n",
    "model.add(Dropout(dropout))\n",
    "\n",
    "model.add(LSTM(units = n_neurons, return_sequences = False))\n",
    "model.add(Dropout(dropout))\n",
    "model.add(Dense(units = 1, activation = 'linear'))\n",
    "model.compile(optimizer = 'adam', loss = 'mse')\n",
    "\n",
    "es = EarlyStopping(monitor = 'val_loss', mode = 'min', verbose = 1, patience = 7)\n",
    "\n",
    "file_path = 'best_model.h5'\n",
    "\n",
    "mc = ModelCheckpoint(file_path, monitor = 'val_loss', mode = 'min', verbose = 1, save_best_only = True)\n",
    "\n",
    "model.fit(x_train, y_train, \n",
    "          validation_split = 0.1, \n",
    "          epochs = 50, batch_size = n_batch_size,\n",
    "         callbacks = [es, mc], verbose = 0)"
   ]
  },
  {
   "cell_type": "code",
   "execution_count": 31,
   "metadata": {},
   "outputs": [
    {
     "name": "stdout",
     "output_type": "stream",
     "text": [
      "11/11 [==============================] - 6s 394ms/step\n"
     ]
    },
    {
     "data": {
      "image/png": "[encoded data removed]",
      "text/plain": [
       "<Figure size 1400x1000 with 1 Axes>"
      ]
     },
     "metadata": {},
     "output_type": "display_data"
    }
   ],
   "source": [
    "y_pred = model.predict(x_test)\n",
    "\n",
    "plt.plot(y_test, color = 'blue', label = 'Test')\n",
    "plt.plot(y_pred, color = 'red', label = 'pred')\n",
    "plt.legend()\n",
    "plt.show()"
   ]
  },
  {
   "cell_type": "code",
   "execution_count": 32,
   "metadata": {},
   "outputs": [
    {
     "data": {
      "text/plain": [
       "(0.031592506458406375, 6.2265770829328035, 0.03946957844603179)"
      ]
     },
     "execution_count": 32,
     "metadata": {},
     "output_type": "execute_result"
    }
   ],
   "source": [
    "MAE(y_test,y_pred), MAPE(y_test, y_pred), RMSE(y_test, y_pred)"
   ]
  },
  {
   "cell_type": "markdown",
   "metadata": {},
   "source": [
    "### 2. try a different method:\n",
    "- Separete the last 90 values from the bova_11 values\n",
    "- Format them with the same features as the prediction\n",
    "- Do the predict on the next value\n",
    "- invert the transformation to get the original values\n",
    "- Recreate the dataframe with the same values and the prediction value\n",
    "- Complete all the feature columns for the next input to predict\n",
    "- make the next prediction\n",
    "- put it into a for loop for n days\n",
    "- predict for 1,5,30 and 90 days\n",
    "- calculate the error metrics from all the predictions"
   ]
  },
  {
   "cell_type": "code",
   "execution_count": 33,
   "metadata": {},
   "outputs": [],
   "source": [
    "def feature_calc(df):\n",
    "    # Adding close change\n",
    "    df[\"prev_close\"] = df.shift(1)[\"close\"]\n",
    "    df[\"close_change\"]= df.progress_apply(\n",
    "        lambda row: 0 if np.isnan(row.prev_close) else row.close - row.prev_close,\n",
    "        axis = 1\n",
    "    )\n",
    "    # Adding move Averages columns\n",
    "    df['ma_3d'] = df['close'].rolling(3, center = True, min_periods=1).mean()\n",
    "    df['ma_10d'] = df['close'].rolling(10, center = True,min_periods=1).mean()\n",
    "    df['ma_30d'] = df['close'].rolling(30, center=True, min_periods=1).mean()\n",
    "    df['ma_60d'] = df['close'].rolling(60, center = True, min_periods = 1).mean()\n",
    "    # Adding standard deviation columns\n",
    "    df['std_7'] = df['close'].rolling(7, center = True, min_periods = 1).std()\n",
    "    df['std_30'] = df['close'].rolling(30, center = True, min_periods = 1).std()\n",
    "    df['std_60'] = df['close'].rolling(60, center = True, min_periods = 1).std()\n",
    "    # Adding the bollinger bands\n",
    "    df['upper3'] = df['ma_3d'] + 2*df['close'].rolling(3, center = True, min_periods = 1).std()\n",
    "    df['lower3'] = df['ma_3d'] - 2*df['close'].rolling(3, center = True, min_periods = 1).std()\n",
    "    df['upper30'] = df['ma_30d'] + 2*df['std_30']\n",
    "    df['lower30'] = df['ma_30d'] - 2*df['std_30']\n",
    "    df['upper60'] = df['ma_60d'] + 2*df['std_60']\n",
    "    df['lower60'] = df['ma_60d'] - 2*df['std_60']\n",
    "    # Adding tecnical indicator RSI\n",
    "    df['RSI'] = ta.rsi(df['close'], length = 15)\n",
    "    df['target'] = df.close - df.open\n",
    "    df['targetNextClose'] = df['close'].shift(-1)\n",
    "    \n",
    "    return df"
   ]
  },
  {
   "cell_type": "code",
   "execution_count": 34,
   "metadata": {},
   "outputs": [],
   "source": [
    "def predict(df, days):\n",
    "    # copy the dataframe to edit\n",
    "    df_ = df.copy()\n",
    "    \n",
    "    for i in reversed(range(days+1)):\n",
    "        if days > 0:\n",
    "            # scale the features for the model prediction\n",
    "            scaler = MinMaxScaler(feature_range = (-1, 1))\n",
    "            df_scaled = scaler.fit_transform(df_)\n",
    "\n",
    "            backcandles = pass_days #Defined by hyperparameters testing\n",
    "            X = []\n",
    "            for j in range(19): # range is the number of feature columns you will use\n",
    "                X.append([])\n",
    "                for k in range(backcandles, df_scaled.shape[0]):\n",
    "                    X[j].append(df_scaled[k-backcandles:k, j])\n",
    "\n",
    "            #move axis from 0 to position 2\n",
    "            X = np.moveaxis(X, [0], [2])\n",
    "\n",
    "            X, yi = np.array(X), np.array(df_scaled[backcandles:, -1]) # Chosing the last column as the pred. target\n",
    "            y = np.reshape(yi, (len(yi), 1))\n",
    "\n",
    "            splitlimit = int(len(X) * 0.9)\n",
    "            x_test = X[splitlimit+1:] # take the last 10% of the original database\n",
    "\n",
    "            if days > 1:\n",
    "                x_test = x_test[-days:-(days-1)] \n",
    "            else:\n",
    "                x_test = x_test[-days:]\n",
    "            \n",
    "            y_pred = model.predict(x_test) # make the prediction on the day to replace\n",
    "            #print(y_pred)\n",
    "            #print(df_scaled[-days][3])\n",
    "            df_scaled[-days][3] = y_pred[0]\n",
    "            \n",
    "            predict_value = scaler.inverse_transform(df_scaled)[-days][3]\n",
    "            #print(predict_value)\n",
    "            df_.loc[(len(df_) - days) : (len(df_) - days), 'close'] = predict_value\n",
    "            #print(df_.loc[(len(df_) - days) : (len(df_) - days)].close)\n",
    "            \n",
    "            df_ = feature_calc(df_)\n",
    "            #print(days)\n",
    "            days = days -1\n",
    "    \n",
    "    return df_"
   ]
  },
  {
   "cell_type": "code",
   "execution_count": 35,
   "metadata": {},
   "outputs": [],
   "source": [
    "bova11.reset_index(drop = True, inplace = True)"
   ]
  },
  {
   "cell_type": "code",
   "execution_count": 36,
   "metadata": {
    "scrolled": true
   },
   "outputs": [
    {
     "name": "stdout",
     "output_type": "stream",
     "text": [
      "1/1 [==============================] - 0s 101ms/step\n"
     ]
    },
    {
     "name": "stderr",
     "output_type": "stream",
     "text": [
      "100%|██████████| 3386/3386 [00:00<00:00, 13542.70it/s]\n"
     ]
    }
   ],
   "source": [
    "pred_1 = predict(bova11, 1)"
   ]
  },
  {
   "cell_type": "code",
   "execution_count": 37,
   "metadata": {},
   "outputs": [
    {
     "name": "stdout",
     "output_type": "stream",
     "text": [
      "1/1 [==============================] - 0s 63ms/step\n"
     ]
    },
    {
     "name": "stderr",
     "output_type": "stream",
     "text": [
      "100%|██████████| 3386/3386 [00:00<00:00, 11887.54it/s]\n"
     ]
    },
    {
     "name": "stdout",
     "output_type": "stream",
     "text": [
      "1/1 [==============================] - 0s 67ms/step\n"
     ]
    },
    {
     "name": "stderr",
     "output_type": "stream",
     "text": [
      "100%|██████████| 3386/3386 [00:00<00:00, 14858.06it/s]\n"
     ]
    },
    {
     "name": "stdout",
     "output_type": "stream",
     "text": [
      "1/1 [==============================] - 0s 61ms/step\n"
     ]
    },
    {
     "name": "stderr",
     "output_type": "stream",
     "text": [
      "100%|██████████| 3386/3386 [00:00<00:00, 9820.06it/s] \n"
     ]
    },
    {
     "name": "stdout",
     "output_type": "stream",
     "text": [
      "1/1 [==============================] - 0s 69ms/step\n"
     ]
    },
    {
     "name": "stderr",
     "output_type": "stream",
     "text": [
      "100%|██████████| 3386/3386 [00:00<00:00, 13771.98it/s]\n"
     ]
    },
    {
     "name": "stdout",
     "output_type": "stream",
     "text": [
      "1/1 [==============================] - 0s 61ms/step\n"
     ]
    },
    {
     "name": "stderr",
     "output_type": "stream",
     "text": [
      "100%|██████████| 3386/3386 [00:00<00:00, 15470.11it/s]\n"
     ]
    }
   ],
   "source": [
    "pred_5 = predict (bova11, 5)"
   ]
  },
  {
   "cell_type": "code",
   "execution_count": 38,
   "metadata": {},
   "outputs": [
    {
     "name": "stdout",
     "output_type": "stream",
     "text": [
      "1/1 [==============================] - 0s 68ms/step\n"
     ]
    },
    {
     "name": "stderr",
     "output_type": "stream",
     "text": [
      "100%|██████████| 3386/3386 [00:00<00:00, 10893.68it/s]\n"
     ]
    },
    {
     "name": "stdout",
     "output_type": "stream",
     "text": [
      "1/1 [==============================] - 0s 62ms/step\n"
     ]
    },
    {
     "name": "stderr",
     "output_type": "stream",
     "text": [
      "100%|██████████| 3386/3386 [00:00<00:00, 12736.58it/s]\n"
     ]
    },
    {
     "name": "stdout",
     "output_type": "stream",
     "text": [
      "1/1 [==============================] - 0s 58ms/step\n"
     ]
    },
    {
     "name": "stderr",
     "output_type": "stream",
     "text": [
      "100%|██████████| 3386/3386 [00:00<00:00, 13497.67it/s]\n"
     ]
    },
    {
     "name": "stdout",
     "output_type": "stream",
     "text": [
      "1/1 [==============================] - 0s 49ms/step\n"
     ]
    },
    {
     "name": "stderr",
     "output_type": "stream",
     "text": [
      "100%|██████████| 3386/3386 [00:00<00:00, 17197.22it/s]\n"
     ]
    },
    {
     "name": "stdout",
     "output_type": "stream",
     "text": [
      "1/1 [==============================] - 0s 65ms/step\n"
     ]
    },
    {
     "name": "stderr",
     "output_type": "stream",
     "text": [
      "100%|██████████| 3386/3386 [00:00<00:00, 13249.01it/s]\n"
     ]
    },
    {
     "name": "stdout",
     "output_type": "stream",
     "text": [
      "1/1 [==============================] - 0s 51ms/step\n"
     ]
    },
    {
     "name": "stderr",
     "output_type": "stream",
     "text": [
      "100%|██████████| 3386/3386 [00:00<00:00, 16939.77it/s]\n"
     ]
    },
    {
     "name": "stdout",
     "output_type": "stream",
     "text": [
      "1/1 [==============================] - 0s 51ms/step\n"
     ]
    },
    {
     "name": "stderr",
     "output_type": "stream",
     "text": [
      "100%|██████████| 3386/3386 [00:00<00:00, 16133.00it/s]\n"
     ]
    },
    {
     "name": "stdout",
     "output_type": "stream",
     "text": [
      "1/1 [==============================] - 0s 51ms/step\n"
     ]
    },
    {
     "name": "stderr",
     "output_type": "stream",
     "text": [
      "100%|██████████| 3386/3386 [00:00<00:00, 18513.46it/s]\n"
     ]
    },
    {
     "name": "stdout",
     "output_type": "stream",
     "text": [
      "1/1 [==============================] - 0s 73ms/step\n"
     ]
    },
    {
     "name": "stderr",
     "output_type": "stream",
     "text": [
      "100%|██████████| 3386/3386 [00:00<00:00, 12640.90it/s]\n"
     ]
    },
    {
     "name": "stdout",
     "output_type": "stream",
     "text": [
      "1/1 [==============================] - 0s 48ms/step\n"
     ]
    },
    {
     "name": "stderr",
     "output_type": "stream",
     "text": [
      "100%|██████████| 3386/3386 [00:00<00:00, 16854.57it/s]\n"
     ]
    },
    {
     "name": "stdout",
     "output_type": "stream",
     "text": [
      "1/1 [==============================] - 0s 52ms/step\n"
     ]
    },
    {
     "name": "stderr",
     "output_type": "stream",
     "text": [
      "100%|██████████| 3386/3386 [00:00<00:00, 14294.79it/s]\n"
     ]
    },
    {
     "name": "stdout",
     "output_type": "stream",
     "text": [
      "1/1 [==============================] - 0s 50ms/step\n"
     ]
    },
    {
     "name": "stderr",
     "output_type": "stream",
     "text": [
      "100%|██████████| 3386/3386 [00:00<00:00, 18868.89it/s]\n"
     ]
    },
    {
     "name": "stdout",
     "output_type": "stream",
     "text": [
      "1/1 [==============================] - 0s 55ms/step\n"
     ]
    },
    {
     "name": "stderr",
     "output_type": "stream",
     "text": [
      "100%|██████████| 3386/3386 [00:00<00:00, 14514.78it/s]\n"
     ]
    },
    {
     "name": "stdout",
     "output_type": "stream",
     "text": [
      "1/1 [==============================] - 0s 49ms/step\n"
     ]
    },
    {
     "name": "stderr",
     "output_type": "stream",
     "text": [
      "100%|██████████| 3386/3386 [00:00<00:00, 17643.09it/s]\n"
     ]
    },
    {
     "name": "stdout",
     "output_type": "stream",
     "text": [
      "1/1 [==============================] - 0s 51ms/step\n"
     ]
    },
    {
     "name": "stderr",
     "output_type": "stream",
     "text": [
      "100%|██████████| 3386/3386 [00:00<00:00, 18021.06it/s]\n"
     ]
    },
    {
     "name": "stdout",
     "output_type": "stream",
     "text": [
      "1/1 [==============================] - 0s 47ms/step\n"
     ]
    },
    {
     "name": "stderr",
     "output_type": "stream",
     "text": [
      "100%|██████████| 3386/3386 [00:00<00:00, 17553.88it/s]\n"
     ]
    },
    {
     "name": "stdout",
     "output_type": "stream",
     "text": [
      "1/1 [==============================] - 0s 53ms/step\n"
     ]
    },
    {
     "name": "stderr",
     "output_type": "stream",
     "text": [
      "100%|██████████| 3386/3386 [00:00<00:00, 18313.23it/s]\n"
     ]
    },
    {
     "name": "stdout",
     "output_type": "stream",
     "text": [
      "1/1 [==============================] - 0s 69ms/step\n"
     ]
    },
    {
     "name": "stderr",
     "output_type": "stream",
     "text": [
      "100%|██████████| 3386/3386 [00:00<00:00, 17373.94it/s]\n"
     ]
    },
    {
     "name": "stdout",
     "output_type": "stream",
     "text": [
      "1/1 [==============================] - 0s 53ms/step\n"
     ]
    },
    {
     "name": "stderr",
     "output_type": "stream",
     "text": [
      "100%|██████████| 3386/3386 [00:00<00:00, 17110.84it/s]\n"
     ]
    },
    {
     "name": "stdout",
     "output_type": "stream",
     "text": [
      "1/1 [==============================] - 0s 64ms/step\n"
     ]
    },
    {
     "name": "stderr",
     "output_type": "stream",
     "text": [
      "100%|██████████| 3386/3386 [00:00<00:00, 18261.19it/s]\n"
     ]
    },
    {
     "name": "stdout",
     "output_type": "stream",
     "text": [
      "1/1 [==============================] - 0s 52ms/step\n"
     ]
    },
    {
     "name": "stderr",
     "output_type": "stream",
     "text": [
      "100%|██████████| 3386/3386 [00:00<00:00, 18412.96it/s]\n"
     ]
    },
    {
     "name": "stdout",
     "output_type": "stream",
     "text": [
      "1/1 [==============================] - 0s 53ms/step\n"
     ]
    },
    {
     "name": "stderr",
     "output_type": "stream",
     "text": [
      "100%|██████████| 3386/3386 [00:00<00:00, 14294.87it/s]\n"
     ]
    },
    {
     "name": "stdout",
     "output_type": "stream",
     "text": [
      "1/1 [==============================] - 0s 54ms/step\n"
     ]
    },
    {
     "name": "stderr",
     "output_type": "stream",
     "text": [
      "100%|██████████| 3386/3386 [00:00<00:00, 18311.18it/s]\n"
     ]
    },
    {
     "name": "stdout",
     "output_type": "stream",
     "text": [
      "1/1 [==============================] - 0s 63ms/step\n"
     ]
    },
    {
     "name": "stderr",
     "output_type": "stream",
     "text": [
      "100%|██████████| 3386/3386 [00:00<00:00, 14116.06it/s]\n"
     ]
    },
    {
     "name": "stdout",
     "output_type": "stream",
     "text": [
      "1/1 [==============================] - 0s 51ms/step\n"
     ]
    },
    {
     "name": "stderr",
     "output_type": "stream",
     "text": [
      "100%|██████████| 3386/3386 [00:00<00:00, 18662.76it/s]\n"
     ]
    },
    {
     "name": "stdout",
     "output_type": "stream",
     "text": [
      "1/1 [==============================] - 0s 62ms/step\n"
     ]
    },
    {
     "name": "stderr",
     "output_type": "stream",
     "text": [
      "100%|██████████| 3386/3386 [00:00<00:00, 16689.28it/s]\n"
     ]
    },
    {
     "name": "stdout",
     "output_type": "stream",
     "text": [
      "1/1 [==============================] - 0s 57ms/step\n"
     ]
    },
    {
     "name": "stderr",
     "output_type": "stream",
     "text": [
      "100%|██████████| 3386/3386 [00:00<00:00, 18612.99it/s]\n"
     ]
    },
    {
     "name": "stdout",
     "output_type": "stream",
     "text": [
      "1/1 [==============================] - 0s 64ms/step\n"
     ]
    },
    {
     "name": "stderr",
     "output_type": "stream",
     "text": [
      "100%|██████████| 3386/3386 [00:00<00:00, 10687.34it/s]\n"
     ]
    },
    {
     "name": "stdout",
     "output_type": "stream",
     "text": [
      "1/1 [==============================] - 0s 64ms/step\n"
     ]
    },
    {
     "name": "stderr",
     "output_type": "stream",
     "text": [
      "100%|██████████| 3386/3386 [00:00<00:00, 14540.59it/s]\n"
     ]
    },
    {
     "name": "stdout",
     "output_type": "stream",
     "text": [
      "1/1 [==============================] - 0s 59ms/step\n"
     ]
    },
    {
     "name": "stderr",
     "output_type": "stream",
     "text": [
      "100%|██████████| 3386/3386 [00:00<00:00, 11468.97it/s]\n"
     ]
    }
   ],
   "source": [
    "pred_30 = predict(bova11, 30)"
   ]
  },
  {
   "cell_type": "code",
   "execution_count": 39,
   "metadata": {},
   "outputs": [
    {
     "name": "stdout",
     "output_type": "stream",
     "text": [
      "1/1 [==============================] - 0s 79ms/step\n"
     ]
    },
    {
     "name": "stderr",
     "output_type": "stream",
     "text": [
      "100%|██████████| 3386/3386 [00:00<00:00, 14794.34it/s]\n"
     ]
    },
    {
     "name": "stdout",
     "output_type": "stream",
     "text": [
      "1/1 [==============================] - 0s 92ms/step\n"
     ]
    },
    {
     "name": "stderr",
     "output_type": "stream",
     "text": [
      "100%|██████████| 3386/3386 [00:00<00:00, 14924.97it/s]\n"
     ]
    },
    {
     "name": "stdout",
     "output_type": "stream",
     "text": [
      "1/1 [==============================] - 0s 87ms/step\n"
     ]
    },
    {
     "name": "stderr",
     "output_type": "stream",
     "text": [
      "100%|██████████| 3386/3386 [00:00<00:00, 8035.52it/s] \n"
     ]
    },
    {
     "name": "stdout",
     "output_type": "stream",
     "text": [
      "1/1 [==============================] - 0s 98ms/step\n"
     ]
    },
    {
     "name": "stderr",
     "output_type": "stream",
     "text": [
      "100%|██████████| 3386/3386 [00:00<00:00, 9107.37it/s]\n"
     ]
    },
    {
     "name": "stdout",
     "output_type": "stream",
     "text": [
      "1/1 [==============================] - 0s 75ms/step\n"
     ]
    },
    {
     "name": "stderr",
     "output_type": "stream",
     "text": [
      "100%|██████████| 3386/3386 [00:00<00:00, 12186.96it/s]\n"
     ]
    },
    {
     "name": "stdout",
     "output_type": "stream",
     "text": [
      "1/1 [==============================] - 0s 99ms/step\n"
     ]
    },
    {
     "name": "stderr",
     "output_type": "stream",
     "text": [
      "100%|██████████| 3386/3386 [00:00<00:00, 10928.96it/s]\n"
     ]
    },
    {
     "name": "stdout",
     "output_type": "stream",
     "text": [
      "1/1 [==============================] - 0s 70ms/step\n"
     ]
    },
    {
     "name": "stderr",
     "output_type": "stream",
     "text": [
      "100%|██████████| 3386/3386 [00:00<00:00, 10174.03it/s]\n"
     ]
    },
    {
     "name": "stdout",
     "output_type": "stream",
     "text": [
      "1/1 [==============================] - 0s 67ms/step\n"
     ]
    },
    {
     "name": "stderr",
     "output_type": "stream",
     "text": [
      "100%|██████████| 3386/3386 [00:00<00:00, 12410.09it/s]\n"
     ]
    },
    {
     "name": "stdout",
     "output_type": "stream",
     "text": [
      "1/1 [==============================] - 0s 101ms/step\n"
     ]
    },
    {
     "name": "stderr",
     "output_type": "stream",
     "text": [
      "100%|██████████| 3386/3386 [00:00<00:00, 10999.80it/s]\n"
     ]
    },
    {
     "name": "stdout",
     "output_type": "stream",
     "text": [
      "1/1 [==============================] - 0s 51ms/step\n"
     ]
    },
    {
     "name": "stderr",
     "output_type": "stream",
     "text": [
      "100%|██████████| 3386/3386 [00:00<00:00, 17110.90it/s]\n"
     ]
    },
    {
     "name": "stdout",
     "output_type": "stream",
     "text": [
      "1/1 [==============================] - 0s 64ms/step\n"
     ]
    },
    {
     "name": "stderr",
     "output_type": "stream",
     "text": [
      "100%|██████████| 3386/3386 [00:00<00:00, 17464.00it/s]\n"
     ]
    },
    {
     "name": "stdout",
     "output_type": "stream",
     "text": [
      "1/1 [==============================] - 0s 61ms/step\n"
     ]
    },
    {
     "name": "stderr",
     "output_type": "stream",
     "text": [
      "100%|██████████| 3386/3386 [00:00<00:00, 18709.52it/s]\n"
     ]
    },
    {
     "name": "stdout",
     "output_type": "stream",
     "text": [
      "1/1 [==============================] - 0s 55ms/step\n"
     ]
    },
    {
     "name": "stderr",
     "output_type": "stream",
     "text": [
      "100%|██████████| 3386/3386 [00:00<00:00, 12930.23it/s]\n"
     ]
    },
    {
     "name": "stdout",
     "output_type": "stream",
     "text": [
      "1/1 [==============================] - 0s 56ms/step\n"
     ]
    },
    {
     "name": "stderr",
     "output_type": "stream",
     "text": [
      "100%|██████████| 3386/3386 [00:00<00:00, 16938.09it/s]\n"
     ]
    },
    {
     "name": "stdout",
     "output_type": "stream",
     "text": [
      "1/1 [==============================] - 0s 51ms/step\n"
     ]
    },
    {
     "name": "stderr",
     "output_type": "stream",
     "text": [
      "100%|██████████| 3386/3386 [00:00<00:00, 13080.48it/s]\n"
     ]
    },
    {
     "name": "stdout",
     "output_type": "stream",
     "text": [
      "1/1 [==============================] - 0s 55ms/step\n"
     ]
    },
    {
     "name": "stderr",
     "output_type": "stream",
     "text": [
      "100%|██████████| 3386/3386 [00:00<00:00, 17023.92it/s]\n"
     ]
    },
    {
     "name": "stdout",
     "output_type": "stream",
     "text": [
      "1/1 [==============================] - 0s 50ms/step\n"
     ]
    },
    {
     "name": "stderr",
     "output_type": "stream",
     "text": [
      "100%|██████████| 3386/3386 [00:00<00:00, 15721.07it/s]\n"
     ]
    },
    {
     "name": "stdout",
     "output_type": "stream",
     "text": [
      "1/1 [==============================] - 0s 69ms/step\n"
     ]
    },
    {
     "name": "stderr",
     "output_type": "stream",
     "text": [
      "100%|██████████| 3386/3386 [00:00<00:00, 17107.61it/s]\n"
     ]
    },
    {
     "name": "stdout",
     "output_type": "stream",
     "text": [
      "1/1 [==============================] - 0s 50ms/step\n"
     ]
    },
    {
     "name": "stderr",
     "output_type": "stream",
     "text": [
      "100%|██████████| 3386/3386 [00:00<00:00, 15831.37it/s]\n"
     ]
    },
    {
     "name": "stdout",
     "output_type": "stream",
     "text": [
      "1/1 [==============================] - 0s 51ms/step\n"
     ]
    },
    {
     "name": "stderr",
     "output_type": "stream",
     "text": [
      "100%|██████████| 3386/3386 [00:00<00:00, 16244.05it/s]\n"
     ]
    },
    {
     "name": "stdout",
     "output_type": "stream",
     "text": [
      "1/1 [==============================] - 0s 53ms/step\n"
     ]
    },
    {
     "name": "stderr",
     "output_type": "stream",
     "text": [
      "100%|██████████| 3386/3386 [00:00<00:00, 17644.67it/s]\n"
     ]
    },
    {
     "name": "stdout",
     "output_type": "stream",
     "text": [
      "1/1 [==============================] - 0s 51ms/step\n"
     ]
    },
    {
     "name": "stderr",
     "output_type": "stream",
     "text": [
      "100%|██████████| 3386/3386 [00:00<00:00, 15822.62it/s]\n"
     ]
    },
    {
     "name": "stdout",
     "output_type": "stream",
     "text": [
      "1/1 [==============================] - 0s 51ms/step\n"
     ]
    },
    {
     "name": "stderr",
     "output_type": "stream",
     "text": [
      "100%|██████████| 3386/3386 [00:00<00:00, 19020.00it/s]\n"
     ]
    },
    {
     "name": "stdout",
     "output_type": "stream",
     "text": [
      "1/1 [==============================] - 0s 52ms/step\n"
     ]
    },
    {
     "name": "stderr",
     "output_type": "stream",
     "text": [
      "100%|██████████| 3386/3386 [00:00<00:00, 16208.73it/s]\n"
     ]
    },
    {
     "name": "stdout",
     "output_type": "stream",
     "text": [
      "1/1 [==============================] - 0s 48ms/step\n"
     ]
    },
    {
     "name": "stderr",
     "output_type": "stream",
     "text": [
      "100%|██████████| 3386/3386 [00:00<00:00, 16207.79it/s]\n"
     ]
    },
    {
     "name": "stdout",
     "output_type": "stream",
     "text": [
      "1/1 [==============================] - 0s 69ms/step\n"
     ]
    },
    {
     "name": "stderr",
     "output_type": "stream",
     "text": [
      "100%|██████████| 3386/3386 [00:00<00:00, 11562.96it/s]\n"
     ]
    },
    {
     "name": "stdout",
     "output_type": "stream",
     "text": [
      "1/1 [==============================] - 0s 59ms/step\n"
     ]
    },
    {
     "name": "stderr",
     "output_type": "stream",
     "text": [
      "100%|██████████| 3386/3386 [00:00<00:00, 13444.01it/s]\n"
     ]
    },
    {
     "name": "stdout",
     "output_type": "stream",
     "text": [
      "1/1 [==============================] - 0s 78ms/step\n"
     ]
    },
    {
     "name": "stderr",
     "output_type": "stream",
     "text": [
      "100%|██████████| 3386/3386 [00:00<00:00, 13285.98it/s]\n"
     ]
    },
    {
     "name": "stdout",
     "output_type": "stream",
     "text": [
      "1/1 [==============================] - 0s 69ms/step\n"
     ]
    },
    {
     "name": "stderr",
     "output_type": "stream",
     "text": [
      "100%|██████████| 3386/3386 [00:00<00:00, 12641.53it/s]\n"
     ]
    },
    {
     "name": "stdout",
     "output_type": "stream",
     "text": [
      "1/1 [==============================] - 0s 61ms/step\n"
     ]
    },
    {
     "name": "stderr",
     "output_type": "stream",
     "text": [
      "100%|██████████| 3386/3386 [00:00<00:00, 12544.57it/s]\n"
     ]
    },
    {
     "name": "stdout",
     "output_type": "stream",
     "text": [
      "1/1 [==============================] - 0s 66ms/step\n"
     ]
    },
    {
     "name": "stderr",
     "output_type": "stream",
     "text": [
      "100%|██████████| 3386/3386 [00:00<00:00, 12676.40it/s]\n"
     ]
    },
    {
     "name": "stdout",
     "output_type": "stream",
     "text": [
      "1/1 [==============================] - 0s 67ms/step\n"
     ]
    },
    {
     "name": "stderr",
     "output_type": "stream",
     "text": [
      "100%|██████████| 3386/3386 [00:00<00:00, 10329.08it/s]\n"
     ]
    },
    {
     "name": "stdout",
     "output_type": "stream",
     "text": [
      "1/1 [==============================] - 0s 75ms/step\n"
     ]
    },
    {
     "name": "stderr",
     "output_type": "stream",
     "text": [
      "100%|██████████| 3386/3386 [00:00<00:00, 7579.29it/s]\n"
     ]
    },
    {
     "name": "stdout",
     "output_type": "stream",
     "text": [
      "1/1 [==============================] - 0s 65ms/step\n"
     ]
    },
    {
     "name": "stderr",
     "output_type": "stream",
     "text": [
      "100%|██████████| 3386/3386 [00:00<00:00, 12687.79it/s]\n"
     ]
    },
    {
     "name": "stdout",
     "output_type": "stream",
     "text": [
      "1/1 [==============================] - 0s 52ms/step\n"
     ]
    },
    {
     "name": "stderr",
     "output_type": "stream",
     "text": [
      "100%|██████████| 3386/3386 [00:00<00:00, 16770.00it/s]\n"
     ]
    },
    {
     "name": "stdout",
     "output_type": "stream",
     "text": [
      "1/1 [==============================] - 0s 52ms/step\n"
     ]
    },
    {
     "name": "stderr",
     "output_type": "stream",
     "text": [
      "100%|██████████| 3386/3386 [00:00<00:00, 15124.67it/s]\n"
     ]
    },
    {
     "name": "stdout",
     "output_type": "stream",
     "text": [
      "1/1 [==============================] - 0s 56ms/step\n"
     ]
    },
    {
     "name": "stderr",
     "output_type": "stream",
     "text": [
      "100%|██████████| 3386/3386 [00:00<00:00, 18939.47it/s]\n"
     ]
    },
    {
     "name": "stdout",
     "output_type": "stream",
     "text": [
      "1/1 [==============================] - 0s 52ms/step\n"
     ]
    },
    {
     "name": "stderr",
     "output_type": "stream",
     "text": [
      "100%|██████████| 3386/3386 [00:00<00:00, 17195.41it/s]\n"
     ]
    },
    {
     "name": "stdout",
     "output_type": "stream",
     "text": [
      "1/1 [==============================] - 0s 53ms/step\n"
     ]
    },
    {
     "name": "stderr",
     "output_type": "stream",
     "text": [
      "100%|██████████| 3386/3386 [00:00<00:00, 16854.69it/s]\n"
     ]
    },
    {
     "name": "stdout",
     "output_type": "stream",
     "text": [
      "1/1 [==============================] - 0s 53ms/step\n"
     ]
    },
    {
     "name": "stderr",
     "output_type": "stream",
     "text": [
      "100%|██████████| 3386/3386 [00:00<00:00, 18926.98it/s]\n"
     ]
    },
    {
     "name": "stdout",
     "output_type": "stream",
     "text": [
      "1/1 [==============================] - 0s 77ms/step\n"
     ]
    },
    {
     "name": "stderr",
     "output_type": "stream",
     "text": [
      "100%|██████████| 3386/3386 [00:00<00:00, 13131.52it/s]\n"
     ]
    },
    {
     "name": "stdout",
     "output_type": "stream",
     "text": [
      "1/1 [==============================] - 0s 53ms/step\n"
     ]
    },
    {
     "name": "stderr",
     "output_type": "stream",
     "text": [
      "100%|██████████| 3386/3386 [00:00<00:00, 15829.79it/s]\n"
     ]
    },
    {
     "name": "stdout",
     "output_type": "stream",
     "text": [
      "1/1 [==============================] - 0s 61ms/step\n"
     ]
    },
    {
     "name": "stderr",
     "output_type": "stream",
     "text": [
      "100%|██████████| 3386/3386 [00:00<00:00, 18513.65it/s]\n"
     ]
    },
    {
     "name": "stdout",
     "output_type": "stream",
     "text": [
      "1/1 [==============================] - 0s 54ms/step\n"
     ]
    },
    {
     "name": "stderr",
     "output_type": "stream",
     "text": [
      "100%|██████████| 3386/3386 [00:00<00:00, 15683.49it/s]\n"
     ]
    },
    {
     "name": "stdout",
     "output_type": "stream",
     "text": [
      "1/1 [==============================] - 0s 67ms/step\n"
     ]
    },
    {
     "name": "stderr",
     "output_type": "stream",
     "text": [
      "100%|██████████| 3386/3386 [00:00<00:00, 13338.41it/s]\n"
     ]
    },
    {
     "name": "stdout",
     "output_type": "stream",
     "text": [
      "1/1 [==============================] - 0s 52ms/step\n"
     ]
    },
    {
     "name": "stderr",
     "output_type": "stream",
     "text": [
      "100%|██████████| 3386/3386 [00:00<00:00, 18313.33it/s]\n"
     ]
    },
    {
     "name": "stdout",
     "output_type": "stream",
     "text": [
      "1/1 [==============================] - 0s 53ms/step\n"
     ]
    },
    {
     "name": "stderr",
     "output_type": "stream",
     "text": [
      "100%|██████████| 3386/3386 [00:00<00:00, 15541.92it/s]\n"
     ]
    },
    {
     "name": "stdout",
     "output_type": "stream",
     "text": [
      "1/1 [==============================] - 0s 53ms/step\n"
     ]
    },
    {
     "name": "stderr",
     "output_type": "stream",
     "text": [
      "100%|██████████| 3386/3386 [00:00<00:00, 18021.52it/s]\n"
     ]
    },
    {
     "name": "stdout",
     "output_type": "stream",
     "text": [
      "1/1 [==============================] - 0s 52ms/step\n"
     ]
    },
    {
     "name": "stderr",
     "output_type": "stream",
     "text": [
      "100%|██████████| 3386/3386 [00:00<00:00, 17282.75it/s]\n"
     ]
    },
    {
     "name": "stdout",
     "output_type": "stream",
     "text": [
      "1/1 [==============================] - 0s 50ms/step\n"
     ]
    },
    {
     "name": "stderr",
     "output_type": "stream",
     "text": [
      "100%|██████████| 3386/3386 [00:00<00:00, 17549.78it/s]\n"
     ]
    },
    {
     "name": "stdout",
     "output_type": "stream",
     "text": [
      "1/1 [==============================] - 0s 50ms/step\n"
     ]
    },
    {
     "name": "stderr",
     "output_type": "stream",
     "text": [
      "100%|██████████| 3386/3386 [00:00<00:00, 18510.05it/s]\n"
     ]
    },
    {
     "name": "stdout",
     "output_type": "stream",
     "text": [
      "1/1 [==============================] - 0s 54ms/step\n"
     ]
    },
    {
     "name": "stderr",
     "output_type": "stream",
     "text": [
      "100%|██████████| 3386/3386 [00:00<00:00, 17110.43it/s]\n"
     ]
    },
    {
     "name": "stdout",
     "output_type": "stream",
     "text": [
      "1/1 [==============================] - 0s 50ms/step\n"
     ]
    },
    {
     "name": "stderr",
     "output_type": "stream",
     "text": [
      "100%|██████████| 3386/3386 [00:00<00:00, 17642.74it/s]\n"
     ]
    },
    {
     "name": "stdout",
     "output_type": "stream",
     "text": [
      "1/1 [==============================] - 0s 60ms/step\n"
     ]
    },
    {
     "name": "stderr",
     "output_type": "stream",
     "text": [
      "100%|██████████| 3386/3386 [00:00<00:00, 16688.30it/s]\n"
     ]
    },
    {
     "name": "stdout",
     "output_type": "stream",
     "text": [
      "1/1 [==============================] - 0s 52ms/step\n"
     ]
    },
    {
     "name": "stderr",
     "output_type": "stream",
     "text": [
      "100%|██████████| 3386/3386 [00:00<00:00, 19244.91it/s]\n"
     ]
    },
    {
     "name": "stdout",
     "output_type": "stream",
     "text": [
      "1/1 [==============================] - 0s 56ms/step\n"
     ]
    },
    {
     "name": "stderr",
     "output_type": "stream",
     "text": [
      "100%|██████████| 3386/3386 [00:00<00:00, 15758.12it/s]\n"
     ]
    },
    {
     "name": "stdout",
     "output_type": "stream",
     "text": [
      "1/1 [==============================] - 0s 65ms/step\n"
     ]
    },
    {
     "name": "stderr",
     "output_type": "stream",
     "text": [
      "100%|██████████| 3386/3386 [00:00<00:00, 17552.71it/s]\n"
     ]
    },
    {
     "name": "stdout",
     "output_type": "stream",
     "text": [
      "1/1 [==============================] - 0s 52ms/step\n"
     ]
    },
    {
     "name": "stderr",
     "output_type": "stream",
     "text": [
      "100%|██████████| 3386/3386 [00:00<00:00, 13285.98it/s]\n"
     ]
    },
    {
     "name": "stdout",
     "output_type": "stream",
     "text": [
      "1/1 [==============================] - 0s 60ms/step\n"
     ]
    },
    {
     "name": "stderr",
     "output_type": "stream",
     "text": [
      "100%|██████████| 3386/3386 [00:00<00:00, 16210.19it/s]\n"
     ]
    },
    {
     "name": "stdout",
     "output_type": "stream",
     "text": [
      "1/1 [==============================] - 0s 99ms/step\n"
     ]
    },
    {
     "name": "stderr",
     "output_type": "stream",
     "text": [
      "100%|██████████| 3386/3386 [00:00<00:00, 7699.77it/s] \n"
     ]
    },
    {
     "name": "stdout",
     "output_type": "stream",
     "text": [
      "1/1 [==============================] - 0s 101ms/step\n"
     ]
    },
    {
     "name": "stderr",
     "output_type": "stream",
     "text": [
      "100%|██████████| 3386/3386 [00:00<00:00, 5971.46it/s]\n"
     ]
    },
    {
     "name": "stdout",
     "output_type": "stream",
     "text": [
      "1/1 [==============================] - 0s 93ms/step\n"
     ]
    },
    {
     "name": "stderr",
     "output_type": "stream",
     "text": [
      "100%|██████████| 3386/3386 [00:00<00:00, 7663.30it/s]\n"
     ]
    },
    {
     "name": "stdout",
     "output_type": "stream",
     "text": [
      "1/1 [==============================] - 0s 91ms/step\n"
     ]
    },
    {
     "name": "stderr",
     "output_type": "stream",
     "text": [
      "100%|██████████| 3386/3386 [00:00<00:00, 8893.94it/s] \n"
     ]
    },
    {
     "name": "stdout",
     "output_type": "stream",
     "text": [
      "1/1 [==============================] - 0s 93ms/step\n"
     ]
    },
    {
     "name": "stderr",
     "output_type": "stream",
     "text": [
      "100%|██████████| 3386/3386 [00:00<00:00, 8969.53it/s]\n"
     ]
    },
    {
     "name": "stdout",
     "output_type": "stream",
     "text": [
      "1/1 [==============================] - 0s 72ms/step\n"
     ]
    },
    {
     "name": "stderr",
     "output_type": "stream",
     "text": [
      "100%|██████████| 3386/3386 [00:00<00:00, 12784.70it/s]\n"
     ]
    },
    {
     "name": "stdout",
     "output_type": "stream",
     "text": [
      "1/1 [==============================] - 0s 83ms/step\n"
     ]
    },
    {
     "name": "stderr",
     "output_type": "stream",
     "text": [
      "100%|██████████| 3386/3386 [00:00<00:00, 11723.00it/s]\n"
     ]
    },
    {
     "name": "stdout",
     "output_type": "stream",
     "text": [
      "1/1 [==============================] - 0s 52ms/step\n"
     ]
    },
    {
     "name": "stderr",
     "output_type": "stream",
     "text": [
      "100%|██████████| 3386/3386 [00:00<00:00, 18513.41it/s]\n"
     ]
    },
    {
     "name": "stdout",
     "output_type": "stream",
     "text": [
      "1/1 [==============================] - 0s 54ms/step\n"
     ]
    },
    {
     "name": "stderr",
     "output_type": "stream",
     "text": [
      "100%|██████████| 3386/3386 [00:00<00:00, 15981.25it/s]\n"
     ]
    },
    {
     "name": "stdout",
     "output_type": "stream",
     "text": [
      "1/1 [==============================] - 0s 53ms/step\n"
     ]
    },
    {
     "name": "stderr",
     "output_type": "stream",
     "text": [
      "100%|██████████| 3386/3386 [00:00<00:00, 18611.33it/s]\n"
     ]
    },
    {
     "name": "stdout",
     "output_type": "stream",
     "text": [
      "1/1 [==============================] - 0s 55ms/step\n"
     ]
    },
    {
     "name": "stderr",
     "output_type": "stream",
     "text": [
      "100%|██████████| 3386/3386 [00:00<00:00, 17921.37it/s]\n"
     ]
    },
    {
     "name": "stdout",
     "output_type": "stream",
     "text": [
      "1/1 [==============================] - 0s 51ms/step\n"
     ]
    },
    {
     "name": "stderr",
     "output_type": "stream",
     "text": [
      "100%|██████████| 3386/3386 [00:00<00:00, 19249.08it/s]\n"
     ]
    },
    {
     "name": "stdout",
     "output_type": "stream",
     "text": [
      "1/1 [==============================] - 0s 59ms/step\n"
     ]
    },
    {
     "name": "stderr",
     "output_type": "stream",
     "text": [
      "100%|██████████| 3386/3386 [00:00<00:00, 16939.93it/s]\n"
     ]
    },
    {
     "name": "stdout",
     "output_type": "stream",
     "text": [
      "1/1 [==============================] - 0s 88ms/step\n"
     ]
    },
    {
     "name": "stderr",
     "output_type": "stream",
     "text": [
      "100%|██████████| 3386/3386 [00:00<00:00, 15612.73it/s]\n"
     ]
    },
    {
     "name": "stdout",
     "output_type": "stream",
     "text": [
      "1/1 [==============================] - 0s 58ms/step\n"
     ]
    },
    {
     "name": "stderr",
     "output_type": "stream",
     "text": [
      "100%|██████████| 3386/3386 [00:00<00:00, 18612.99it/s]\n"
     ]
    },
    {
     "name": "stdout",
     "output_type": "stream",
     "text": [
      "1/1 [==============================] - 0s 78ms/step\n"
     ]
    },
    {
     "name": "stderr",
     "output_type": "stream",
     "text": [
      "100%|██████████| 3386/3386 [00:00<00:00, 13999.67it/s]\n"
     ]
    },
    {
     "name": "stdout",
     "output_type": "stream",
     "text": [
      "1/1 [==============================] - 0s 52ms/step\n"
     ]
    },
    {
     "name": "stderr",
     "output_type": "stream",
     "text": [
      "100%|██████████| 3386/3386 [00:00<00:00, 17737.89it/s]\n"
     ]
    },
    {
     "name": "stdout",
     "output_type": "stream",
     "text": [
      "1/1 [==============================] - 0s 53ms/step\n"
     ]
    },
    {
     "name": "stderr",
     "output_type": "stream",
     "text": [
      "100%|██████████| 3386/3386 [00:00<00:00, 16190.57it/s]\n"
     ]
    },
    {
     "name": "stdout",
     "output_type": "stream",
     "text": [
      "1/1 [==============================] - 0s 52ms/step\n"
     ]
    },
    {
     "name": "stderr",
     "output_type": "stream",
     "text": [
      "100%|██████████| 3386/3386 [00:00<00:00, 18513.43it/s]\n"
     ]
    },
    {
     "name": "stdout",
     "output_type": "stream",
     "text": [
      "1/1 [==============================] - 0s 48ms/step\n"
     ]
    },
    {
     "name": "stderr",
     "output_type": "stream",
     "text": [
      "100%|██████████| 3386/3386 [00:00<00:00, 19036.40it/s]\n"
     ]
    },
    {
     "name": "stdout",
     "output_type": "stream",
     "text": [
      "1/1 [==============================] - 0s 59ms/step\n"
     ]
    },
    {
     "name": "stderr",
     "output_type": "stream",
     "text": [
      "100%|██████████| 3386/3386 [00:00<00:00, 17178.90it/s]\n"
     ]
    },
    {
     "name": "stdout",
     "output_type": "stream",
     "text": [
      "1/1 [==============================] - 0s 53ms/step\n"
     ]
    },
    {
     "name": "stderr",
     "output_type": "stream",
     "text": [
      "100%|██████████| 3386/3386 [00:00<00:00, 14540.58it/s]\n"
     ]
    },
    {
     "name": "stdout",
     "output_type": "stream",
     "text": [
      "1/1 [==============================] - 0s 58ms/step\n"
     ]
    },
    {
     "name": "stderr",
     "output_type": "stream",
     "text": [
      "100%|██████████| 3386/3386 [00:00<00:00, 16444.50it/s]\n"
     ]
    },
    {
     "name": "stdout",
     "output_type": "stream",
     "text": [
      "1/1 [==============================] - 0s 48ms/step\n"
     ]
    },
    {
     "name": "stderr",
     "output_type": "stream",
     "text": [
      "100%|██████████| 3386/3386 [00:00<00:00, 18117.48it/s]\n"
     ]
    },
    {
     "name": "stdout",
     "output_type": "stream",
     "text": [
      "1/1 [==============================] - 0s 86ms/step\n"
     ]
    },
    {
     "name": "stderr",
     "output_type": "stream",
     "text": [
      "100%|██████████| 3386/3386 [00:00<00:00, 14575.24it/s]\n"
     ]
    },
    {
     "name": "stdout",
     "output_type": "stream",
     "text": [
      "1/1 [==============================] - 0s 53ms/step\n"
     ]
    },
    {
     "name": "stderr",
     "output_type": "stream",
     "text": [
      "100%|██████████| 3386/3386 [00:00<00:00, 17007.32it/s]\n"
     ]
    },
    {
     "name": "stdout",
     "output_type": "stream",
     "text": [
      "1/1 [==============================] - 0s 81ms/step\n"
     ]
    },
    {
     "name": "stderr",
     "output_type": "stream",
     "text": [
      "100%|██████████| 3386/3386 [00:00<00:00, 11330.80it/s]\n"
     ]
    },
    {
     "name": "stdout",
     "output_type": "stream",
     "text": [
      "1/1 [==============================] - 0s 91ms/step\n"
     ]
    },
    {
     "name": "stderr",
     "output_type": "stream",
     "text": [
      "100%|██████████| 3386/3386 [00:00<00:00, 9413.16it/s] \n"
     ]
    },
    {
     "name": "stdout",
     "output_type": "stream",
     "text": [
      "1/1 [==============================] - 0s 68ms/step\n"
     ]
    },
    {
     "name": "stderr",
     "output_type": "stream",
     "text": [
      "100%|██████████| 3386/3386 [00:00<00:00, 7562.35it/s] \n"
     ]
    },
    {
     "name": "stdout",
     "output_type": "stream",
     "text": [
      "1/1 [==============================] - 0s 78ms/step\n"
     ]
    },
    {
     "name": "stderr",
     "output_type": "stream",
     "text": [
      "100%|██████████| 3386/3386 [00:00<00:00, 13606.27it/s]\n"
     ]
    },
    {
     "name": "stdout",
     "output_type": "stream",
     "text": [
      "1/1 [==============================] - 0s 91ms/step\n"
     ]
    },
    {
     "name": "stderr",
     "output_type": "stream",
     "text": [
      "100%|██████████| 3386/3386 [00:00<00:00, 10424.19it/s]\n"
     ]
    }
   ],
   "source": [
    "pred_90 = predict(bova11, 90)"
   ]
  },
  {
   "cell_type": "markdown",
   "metadata": {},
   "source": [
    "### Error metrics calculation"
   ]
  },
  {
   "cell_type": "markdown",
   "metadata": {},
   "source": [
    "#### 1 day calculation error metrics"
   ]
  },
  {
   "cell_type": "code",
   "execution_count": 40,
   "metadata": {
    "scrolled": true
   },
   "outputs": [],
   "source": [
    "scaler = MinMaxScaler(feature_range = (-1, 1))\n",
    "pred_1_scaled = scaler.fit_transform(pred_1)"
   ]
  },
  {
   "cell_type": "code",
   "execution_count": 41,
   "metadata": {},
   "outputs": [],
   "source": [
    "y_pred_1 = np.array([pred_1_scaled[-1][3]])\n",
    "y_test_1 = np.array([bova11_scaled[-1][3]])"
   ]
  },
  {
   "cell_type": "code",
   "execution_count": 42,
   "metadata": {},
   "outputs": [
    {
     "data": {
      "text/plain": [
       "(0.7645112052575678, 0.004689902575929938, 0.004689902575929938)"
      ]
     },
     "execution_count": 42,
     "metadata": {},
     "output_type": "execute_result"
    }
   ],
   "source": [
    "MAPE(y_pred_1, y_test_1), MAE(y_pred_1, y_test_1), RMSE(y_pred_1, y_test_1)"
   ]
  },
  {
   "cell_type": "markdown",
   "metadata": {},
   "source": [
    "#### 5 day calculation error metrics"
   ]
  },
  {
   "cell_type": "code",
   "execution_count": 43,
   "metadata": {},
   "outputs": [],
   "source": [
    "scaler = MinMaxScaler(feature_range = (-1, 1))\n",
    "pred_5_scaled = scaler.fit_transform(pred_5)"
   ]
  },
  {
   "cell_type": "code",
   "execution_count": 44,
   "metadata": {},
   "outputs": [
    {
     "data": {
      "text/plain": [
       "(array([0.63449049, 0.66181414, 0.65666289, 0.6114222 , 0.61814103]),\n",
       " array([0.60758936, 0.60503119, 0.60118598, 0.59544015, 0.5923261 ]))"
      ]
     },
     "execution_count": 44,
     "metadata": {},
     "output_type": "execute_result"
    }
   ],
   "source": [
    "y_pred_5 = []\n",
    "y_test_5 = []\n",
    "for i in range (5):\n",
    "    y_pred_5.append(pred_5_scaled[-5:][i][3])\n",
    "    y_test_5.append(bova11_scaled[-5:][i][3])\n",
    "    \n",
    "y_pred_5 = np.array(y_pred_5)\n",
    "y_test_5 = np.array(y_test_5)\n",
    "\n",
    "y_test_5, y_pred_5"
   ]
  },
  {
   "cell_type": "code",
   "execution_count": 45,
   "metadata": {},
   "outputs": [
    {
     "data": {
      "text/plain": [
       "(6.0165716027440075, 0.036191591521846346, 0.03986852797821305)"
      ]
     },
     "execution_count": 45,
     "metadata": {},
     "output_type": "execute_result"
    }
   ],
   "source": [
    "MAPE(y_pred_5, y_test_5), MAE(y_pred_5, y_test_5), RMSE(y_pred_5, y_test_5)"
   ]
  },
  {
   "cell_type": "markdown",
   "metadata": {},
   "source": [
    "#### 30 days calculation error metrics"
   ]
  },
  {
   "cell_type": "code",
   "execution_count": 46,
   "metadata": {},
   "outputs": [
    {
     "data": {
      "text/plain": [
       "(array([0.45397542, 0.50279962, 0.50996646, 0.51131019, 0.55767077,\n",
       "        0.53863385, 0.53303474, 0.57558797, 0.55655088, 0.48219478,\n",
       "        0.43404262, 0.46629335, 0.51892489, 0.54647256, 0.54311306,\n",
       "        0.58409855, 0.62709963, 0.60828672, 0.5879059 , 0.5458007 ,\n",
       "        0.59798439, 0.60985446, 0.62732364, 0.61254192, 0.60022399,\n",
       "        0.63449049, 0.66181414, 0.65666289, 0.6114222 , 0.61814103]),\n",
       " array([0.48256129, 0.5058589 , 0.52017123, 0.52830368, 0.53499109,\n",
       "        0.53734428, 0.53886807, 0.54033923, 0.53796989, 0.53548723,\n",
       "        0.53677368, 0.54218775, 0.54926401, 0.55615735, 0.56276083,\n",
       "        0.57125115, 0.57882327, 0.58265173, 0.58578956, 0.58899021,\n",
       "        0.59493798, 0.59940177, 0.60338062, 0.60552871, 0.60753143,\n",
       "        0.61120707, 0.61337644, 0.61247981, 0.60905391, 0.60833329]))"
      ]
     },
     "execution_count": 46,
     "metadata": {},
     "output_type": "execute_result"
    }
   ],
   "source": [
    "scaler = MinMaxScaler(feature_range = (-1, 1))\n",
    "pred_30_scaled = scaler.fit_transform(pred_30)\n",
    "\n",
    "y_pred_30 = []\n",
    "y_test_30 = []\n",
    "for i in range (30):\n",
    "    y_pred_30.append(pred_30_scaled[-30:][i][3])\n",
    "    y_test_30.append(bova11_scaled[-30:][i][3])\n",
    "    \n",
    "y_pred_30 = np.array(y_pred_30)\n",
    "y_test_30 = np.array(y_test_30)\n",
    "\n",
    "y_test_30, y_pred_30"
   ]
  },
  {
   "cell_type": "code",
   "execution_count": 47,
   "metadata": {},
   "outputs": [
    {
     "data": {
      "text/plain": [
       "(4.442680716977816, 0.024865762811165835, 0.03399534958595324)"
      ]
     },
     "execution_count": 47,
     "metadata": {},
     "output_type": "execute_result"
    }
   ],
   "source": [
    "MAPE(y_pred_30, y_test_30), MAE(y_pred_30, y_test_30), RMSE(y_pred_30, y_test_30)"
   ]
  },
  {
   "cell_type": "markdown",
   "metadata": {},
   "source": [
    "#### 90 days calculation error metrics"
   ]
  },
  {
   "cell_type": "code",
   "execution_count": 48,
   "metadata": {},
   "outputs": [
    {
     "data": {
      "text/plain": [
       "(array([0.60604711, 0.65016791, 0.59888009, 0.53818582, 0.52810751,\n",
       "        0.53124299, 0.50839872, 0.5679731 , 0.70100787, 0.69988798,\n",
       "        0.72161253, 0.72497203, 0.70951845, 0.69384102, 0.66718923,\n",
       "        0.65307955, 0.60739084, 0.64501683, 0.69070554, 0.69988798,\n",
       "        0.71220608, 0.7912654 , 0.69518475, 0.65800679, 0.61993278,\n",
       "        0.64725644, 0.71444569, 0.69540877, 0.71019031, 0.71668529]),\n",
       " array([0.61952919, 0.6241281 , 0.6234535 , 0.62328416, 0.62597972,\n",
       "        0.63083118, 0.63743144, 0.64775616, 0.66153365, 0.66993546,\n",
       "        0.67780697, 0.68289781, 0.68522161, 0.68616593, 0.68598098,\n",
       "        0.68739772, 0.69026172, 0.69570231, 0.70142454, 0.70499814,\n",
       "        0.70850241, 0.71243674, 0.70839745, 0.70757246, 0.70799768,\n",
       "        0.71031421, 0.71298158, 0.71280861, 0.71240824, 0.70984995]))"
      ]
     },
     "execution_count": 48,
     "metadata": {},
     "output_type": "execute_result"
    }
   ],
   "source": [
    "scaler = MinMaxScaler(feature_range = (-1, 1))\n",
    "pred_90_scaled = scaler.fit_transform(pred_90)\n",
    "\n",
    "y_pred_90 = []\n",
    "y_test_90 = []\n",
    "for i in range (30):\n",
    "    y_pred_90.append(pred_90_scaled[-90:][i][3])\n",
    "    y_test_90.append(bova11_scaled[-90:][i][3])\n",
    "    \n",
    "y_pred_90 = np.array(y_pred_90)\n",
    "y_test_90 = np.array(y_test_90)\n",
    "\n",
    "y_test_90, y_pred_90"
   ]
  },
  {
   "cell_type": "code",
   "execution_count": 49,
   "metadata": {},
   "outputs": [
    {
     "data": {
      "text/plain": [
       "(6.354038376776618, 0.04231980934442806, 0.054792483335611264)"
      ]
     },
     "execution_count": 49,
     "metadata": {},
     "output_type": "execute_result"
    }
   ],
   "source": [
    "MAPE(y_pred_90, y_test_90), MAE(y_pred_90, y_test_90), RMSE(y_pred_90, y_test_90)"
   ]
  },
  {
   "cell_type": "code",
   "execution_count": 54,
   "metadata": {},
   "outputs": [
    {
     "data": {
      "text/plain": [
       "<AxesSubplot:>"
      ]
     },
     "execution_count": 54,
     "metadata": {},
     "output_type": "execute_result"
    },
    {
     "data": {
      "image/png": "[encoded data removed]",
      "text/plain": [
       "<Figure size 1400x1000 with 1 Axes>"
      ]
     },
     "metadata": {},
     "output_type": "display_data"
    }
   ],
   "source": [
    "pred_90.close[-100:].plot()\n",
    "bova11.close[-100:].plot()"
   ]
  },
  {
   "cell_type": "code",
   "execution_count": 56,
   "metadata": {},
   "outputs": [
    {
     "data": {
      "text/plain": [
       "<AxesSubplot:>"
      ]
     },
     "execution_count": 56,
     "metadata": {},
     "output_type": "execute_result"
    },
    {
     "data": {
      "image/png": "[encoded data removed]",
      "text/plain": [
       "<Figure size 1400x1000 with 1 Axes>"
      ]
     },
     "metadata": {},
     "output_type": "display_data"
    }
   ],
   "source": [
    "pred_30.close[-40:].plot()\n",
    "bova11.close[-40:].plot()"
   ]
  },
  {
   "cell_type": "code",
   "execution_count": 57,
   "metadata": {},
   "outputs": [
    {
     "data": {
      "text/plain": [
       "<AxesSubplot:>"
      ]
     },
     "execution_count": 57,
     "metadata": {},
     "output_type": "execute_result"
    },
    {
     "data": {
      "image/png": "[encoded data removed]",
      "text/plain": [
       "<Figure size 1400x1000 with 1 Axes>"
      ]
     },
     "metadata": {},
     "output_type": "display_data"
    }
   ],
   "source": [
    "pred_5.close[-10:].plot()\n",
    "bova11.close[-10:].plot()"
   ]
  },
  {
   "cell_type": "code",
   "execution_count": 58,
   "metadata": {},
   "outputs": [
    {
     "data": {
      "text/plain": [
       "<AxesSubplot:>"
      ]
     },
     "execution_count": 58,
     "metadata": {},
     "output_type": "execute_result"
    },
    {
     "data": {
      "image/png": "[encoded data removed]",
      "text/plain": [
       "<Figure size 1400x1000 with 1 Axes>"
      ]
     },
     "metadata": {},
     "output_type": "display_data"
    }
   ],
   "source": [
    "pred_1.close[-5:].plot()\n",
    "bova11.close[-5:].plot()"
   ]
  },
  {
   "cell_type": "code",
   "execution_count": null,
   "metadata": {},
   "outputs": [],
   "source": []
  },
  {
   "cell_type": "code",
   "execution_count": null,
   "metadata": {},
   "outputs": [],
   "source": []
  },
  {
   "cell_type": "code",
   "execution_count": null,
   "metadata": {},
   "outputs": [],
   "source": []
  },
  {
   "cell_type": "code",
   "execution_count": null,
   "metadata": {},
   "outputs": [],
   "source": []
  },
  {
   "cell_type": "code",
   "execution_count": null,
   "metadata": {},
   "outputs": [],
   "source": []
  },
  {
   "cell_type": "code",
   "execution_count": null,
   "metadata": {},
   "outputs": [],
   "source": []
  },
  {
   "cell_type": "code",
   "execution_count": null,
   "metadata": {},
   "outputs": [],
   "source": []
  },
  {
   "cell_type": "code",
   "execution_count": null,
   "metadata": {},
   "outputs": [],
   "source": []
  },
  {
   "cell_type": "code",
   "execution_count": null,
   "metadata": {},
   "outputs": [],
   "source": []
  },
  {
   "cell_type": "code",
   "execution_count": null,
   "metadata": {},
   "outputs": [],
   "source": []
  },
  {
   "cell_type": "code",
   "execution_count": null,
   "metadata": {},
   "outputs": [],
   "source": []
  },
  {
   "cell_type": "code",
   "execution_count": null,
   "metadata": {},
   "outputs": [],
   "source": []
  },
  {
   "cell_type": "code",
   "execution_count": null,
   "metadata": {},
   "outputs": [],
   "source": []
  },
  {
   "cell_type": "code",
   "execution_count": null,
   "metadata": {},
   "outputs": [],
   "source": []
  },
  {
   "cell_type": "code",
   "execution_count": null,
   "metadata": {},
   "outputs": [],
   "source": []
  },
  {
   "cell_type": "code",
   "execution_count": null,
   "metadata": {},
   "outputs": [],
   "source": []
  },
  {
   "cell_type": "code",
   "execution_count": null,
   "metadata": {},
   "outputs": [],
   "source": []
  },
  {
   "cell_type": "code",
   "execution_count": null,
   "metadata": {},
   "outputs": [],
   "source": []
  },
  {
   "cell_type": "code",
   "execution_count": null,
   "metadata": {},
   "outputs": [],
   "source": []
  },
  {
   "cell_type": "code",
   "execution_count": null,
   "metadata": {},
   "outputs": [],
   "source": []
  },
  {
   "cell_type": "code",
   "execution_count": null,
   "metadata": {},
   "outputs": [],
   "source": []
  },
  {
   "cell_type": "code",
   "execution_count": null,
   "metadata": {},
   "outputs": [],
   "source": []
  },
  {
   "cell_type": "code",
   "execution_count": null,
   "metadata": {},
   "outputs": [],
   "source": []
  },
  {
   "cell_type": "code",
   "execution_count": null,
   "metadata": {},
   "outputs": [],
   "source": []
  },
  {
   "cell_type": "code",
   "execution_count": null,
   "metadata": {},
   "outputs": [],
   "source": []
  },
  {
   "cell_type": "code",
   "execution_count": null,
   "metadata": {},
   "outputs": [],
   "source": []
  },
  {
   "cell_type": "code",
   "execution_count": null,
   "metadata": {},
   "outputs": [],
   "source": []
  },
  {
   "cell_type": "code",
   "execution_count": null,
   "metadata": {},
   "outputs": [],
   "source": []
  },
  {
   "cell_type": "code",
   "execution_count": null,
   "metadata": {},
   "outputs": [],
   "source": []
  },
  {
   "cell_type": "code",
   "execution_count": null,
   "metadata": {},
   "outputs": [],
   "source": []
  },
  {
   "cell_type": "code",
   "execution_count": null,
   "metadata": {},
   "outputs": [],
   "source": []
  },
  {
   "cell_type": "code",
   "execution_count": null,
   "metadata": {},
   "outputs": [],
   "source": []
  },
  {
   "cell_type": "code",
   "execution_count": null,
   "metadata": {},
   "outputs": [],
   "source": []
  },
  {
   "cell_type": "code",
   "execution_count": null,
   "metadata": {},
   "outputs": [],
   "source": []
  }
 ],
 "metadata": {
  "kernelspec": {
   "display_name": "Python 3 (ipykernel)",
   "language": "python",
   "name": "python3"
  },
  "language_info": {
   "codemirror_mode": {
    "name": "ipython",
    "version": 3
   },
   "file_extension": ".py",
   "mimetype": "text/x-python",
   "name": "python",
   "nbconvert_exporter": "python",
   "pygments_lexer": "ipython3",
   "version": "3.10.6"
  },
  "vscode": {
   "interpreter": {
    "hash": "a8060c5c9485724d6b8d9988d5c37fae1b044e1be40adde1fb6a3f731b42e2ea"
   }
  }
 },
 "nbformat": 4,
 "nbformat_minor": 2
}
