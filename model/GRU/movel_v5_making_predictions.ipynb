{
 "cells": [
  {
   "cell_type": "markdown",
   "metadata": {},
   "source": [
    "## 1. importing packages"
   ]
  },
  {
   "cell_type": "code",
   "execution_count": 1,
   "metadata": {},
   "outputs": [],
   "source": [
    "import pandas as pd\n",
    "import pandas_ta as ta\n",
    "import numpy as np\n",
    "import datetime as dt\n",
    "import pandas_datareader as web\n",
    "from tqdm import tqdm\n",
    "import matplotlib.pyplot as plt\n",
    "from matplotlib import rcParams\n",
    "import seaborn as sns\n",
    "import matplotlib.ticker as ticker\n",
    "import itertools\n",
    "\n",
    "from sklearn.preprocessing import MinMaxScaler\n",
    "from sklearn.metrics import mean_absolute_error, mean_squared_error\n",
    "from sklearn.model_selection import GridSearchCV\n",
    "\n",
    "import tensorflow as tf\n",
    "from tensorflow.keras.models import Model, Sequential\n",
    "from tensorflow.keras.layers import Dense, Dropout, GRU, Input, Activation, concatenate\n",
    "from tensorflow.keras.callbacks import History, EarlyStopping\n",
    "from tensorflow.keras import optimizers\n",
    "\n",
    "import keras_tuner as kt\n",
    "from keras_tuner.tuners import RandomSearch\n",
    "from keras_tuner.engine.hyperparameters import HyperParameters\n",
    "from keras.callbacks import EarlyStopping\n",
    "from keras.callbacks import ModelCheckpoint\n"
   ]
  },
  {
   "cell_type": "markdown",
   "metadata": {},
   "source": [
    "## 2. overall configurations"
   ]
  },
  {
   "cell_type": "code",
   "execution_count": 2,
   "metadata": {},
   "outputs": [],
   "source": [
    "%matplotlib inline\n",
    "\n",
    "\n",
    "tqdm.pandas()\n",
    "sns.set(style='whitegrid',palette='muted')\n",
    "rcParams['figure.figsize'] = 14, 10"
   ]
  },
  {
   "cell_type": "markdown",
   "metadata": {},
   "source": [
    "## 3. Getting the Data"
   ]
  },
  {
   "cell_type": "code",
   "execution_count": 3,
   "metadata": {},
   "outputs": [],
   "source": [
    "import yfinance as yf\n",
    "ticket = yf.Ticker('BOVA11.SA')\n",
    "start = dt.datetime(2009, 1, 2) # First register data\n",
    "end = dt.datetime(dt.datetime.now().year,dt.datetime.now().month,dt.datetime.now().day - 1)\n",
    "\n",
    "bova11 = ticket.history(interval= '1d', start = start, end = end).reset_index()\n",
    "bova11\n",
    "bova11_copy = bova11.copy()"
   ]
  },
  {
   "cell_type": "code",
   "execution_count": 4,
   "metadata": {},
   "outputs": [
    {
     "data": {
      "text/plain": [
       "3498"
      ]
     },
     "execution_count": 4,
     "metadata": {},
     "output_type": "execute_result"
    }
   ],
   "source": [
    "len(bova11)"
   ]
  },
  {
   "cell_type": "markdown",
   "metadata": {},
   "source": [
    "## 4. Pre-processing"
   ]
  },
  {
   "cell_type": "markdown",
   "metadata": {},
   "source": [
    "Adjust the columns name and type"
   ]
  },
  {
   "cell_type": "code",
   "execution_count": 5,
   "metadata": {},
   "outputs": [],
   "source": [
    "bova11.columns = bova11.columns.str.lower()"
   ]
  },
  {
   "cell_type": "code",
   "execution_count": 6,
   "metadata": {},
   "outputs": [],
   "source": [
    "bova11.date = pd.to_datetime(bova11.date)"
   ]
  },
  {
   "cell_type": "code",
   "execution_count": 7,
   "metadata": {},
   "outputs": [
    {
     "data": {
      "text/plain": [
       "date            0\n",
       "open            0\n",
       "high            0\n",
       "low             0\n",
       "close           0\n",
       "volume          0\n",
       "dividends       0\n",
       "stock splits    0\n",
       "dtype: int64"
      ]
     },
     "execution_count": 7,
     "metadata": {},
     "output_type": "execute_result"
    }
   ],
   "source": [
    "bova11.isna().sum()"
   ]
  },
  {
   "cell_type": "markdown",
   "metadata": {},
   "source": [
    "Removing rows with volume 0"
   ]
  },
  {
   "cell_type": "code",
   "execution_count": 8,
   "metadata": {},
   "outputs": [
    {
     "data": {
      "text/html": [
       "<div>\n",
       "<style scoped>\n",
       "    .dataframe tbody tr th:only-of-type {\n",
       "        vertical-align: middle;\n",
       "    }\n",
       "\n",
       "    .dataframe tbody tr th {\n",
       "        vertical-align: top;\n",
       "    }\n",
       "\n",
       "    .dataframe thead th {\n",
       "        text-align: right;\n",
       "    }\n",
       "</style>\n",
       "<table border=\"1\" class=\"dataframe\">\n",
       "  <thead>\n",
       "    <tr style=\"text-align: right;\">\n",
       "      <th></th>\n",
       "      <th>date</th>\n",
       "      <th>open</th>\n",
       "      <th>high</th>\n",
       "      <th>low</th>\n",
       "      <th>close</th>\n",
       "      <th>volume</th>\n",
       "      <th>dividends</th>\n",
       "      <th>stock splits</th>\n",
       "    </tr>\n",
       "  </thead>\n",
       "  <tbody>\n",
       "    <tr>\n",
       "      <th>0</th>\n",
       "      <td>2009-01-02 00:00:00-02:00</td>\n",
       "      <td>38.279999</td>\n",
       "      <td>40.320000</td>\n",
       "      <td>37.939999</td>\n",
       "      <td>40.320000</td>\n",
       "      <td>119900</td>\n",
       "      <td>0</td>\n",
       "      <td>0</td>\n",
       "    </tr>\n",
       "    <tr>\n",
       "      <th>1</th>\n",
       "      <td>2009-01-05 00:00:00-02:00</td>\n",
       "      <td>40.200001</td>\n",
       "      <td>42.000000</td>\n",
       "      <td>39.700001</td>\n",
       "      <td>42.000000</td>\n",
       "      <td>341700</td>\n",
       "      <td>0</td>\n",
       "      <td>0</td>\n",
       "    </tr>\n",
       "    <tr>\n",
       "      <th>2</th>\n",
       "      <td>2009-01-06 00:00:00-02:00</td>\n",
       "      <td>42.060001</td>\n",
       "      <td>42.320000</td>\n",
       "      <td>41.549999</td>\n",
       "      <td>42.320000</td>\n",
       "      <td>178300</td>\n",
       "      <td>0</td>\n",
       "      <td>0</td>\n",
       "    </tr>\n",
       "    <tr>\n",
       "      <th>3</th>\n",
       "      <td>2009-01-07 00:00:00-02:00</td>\n",
       "      <td>41.750000</td>\n",
       "      <td>41.770000</td>\n",
       "      <td>40.450001</td>\n",
       "      <td>40.639999</td>\n",
       "      <td>73400</td>\n",
       "      <td>0</td>\n",
       "      <td>0</td>\n",
       "    </tr>\n",
       "    <tr>\n",
       "      <th>4</th>\n",
       "      <td>2009-01-08 00:00:00-02:00</td>\n",
       "      <td>40.150002</td>\n",
       "      <td>42.200001</td>\n",
       "      <td>40.150002</td>\n",
       "      <td>42.200001</td>\n",
       "      <td>195300</td>\n",
       "      <td>0</td>\n",
       "      <td>0</td>\n",
       "    </tr>\n",
       "    <tr>\n",
       "      <th>...</th>\n",
       "      <td>...</td>\n",
       "      <td>...</td>\n",
       "      <td>...</td>\n",
       "      <td>...</td>\n",
       "      <td>...</td>\n",
       "      <td>...</td>\n",
       "      <td>...</td>\n",
       "      <td>...</td>\n",
       "    </tr>\n",
       "    <tr>\n",
       "      <th>3400</th>\n",
       "      <td>2023-01-30 00:00:00-03:00</td>\n",
       "      <td>109.010002</td>\n",
       "      <td>109.320000</td>\n",
       "      <td>108.129997</td>\n",
       "      <td>108.699997</td>\n",
       "      <td>2905618</td>\n",
       "      <td>0</td>\n",
       "      <td>0</td>\n",
       "    </tr>\n",
       "    <tr>\n",
       "      <th>3401</th>\n",
       "      <td>2023-01-31 00:00:00-03:00</td>\n",
       "      <td>108.709999</td>\n",
       "      <td>109.959999</td>\n",
       "      <td>108.709999</td>\n",
       "      <td>109.839996</td>\n",
       "      <td>5733562</td>\n",
       "      <td>0</td>\n",
       "      <td>0</td>\n",
       "    </tr>\n",
       "    <tr>\n",
       "      <th>3402</th>\n",
       "      <td>2023-02-01 00:00:00-03:00</td>\n",
       "      <td>109.489998</td>\n",
       "      <td>109.860001</td>\n",
       "      <td>107.059998</td>\n",
       "      <td>108.400002</td>\n",
       "      <td>10380157</td>\n",
       "      <td>0</td>\n",
       "      <td>0</td>\n",
       "    </tr>\n",
       "    <tr>\n",
       "      <th>3403</th>\n",
       "      <td>2023-02-02 00:00:00-03:00</td>\n",
       "      <td>107.489998</td>\n",
       "      <td>109.269997</td>\n",
       "      <td>106.059998</td>\n",
       "      <td>106.300003</td>\n",
       "      <td>9555616</td>\n",
       "      <td>0</td>\n",
       "      <td>0</td>\n",
       "    </tr>\n",
       "    <tr>\n",
       "      <th>3404</th>\n",
       "      <td>2023-02-03 00:00:00-03:00</td>\n",
       "      <td>106.150002</td>\n",
       "      <td>106.910004</td>\n",
       "      <td>104.540001</td>\n",
       "      <td>104.870003</td>\n",
       "      <td>7873654</td>\n",
       "      <td>0</td>\n",
       "      <td>0</td>\n",
       "    </tr>\n",
       "  </tbody>\n",
       "</table>\n",
       "<p>3405 rows × 8 columns</p>\n",
       "</div>"
      ],
      "text/plain": [
       "                          date        open        high         low  \\\n",
       "0    2009-01-02 00:00:00-02:00   38.279999   40.320000   37.939999   \n",
       "1    2009-01-05 00:00:00-02:00   40.200001   42.000000   39.700001   \n",
       "2    2009-01-06 00:00:00-02:00   42.060001   42.320000   41.549999   \n",
       "3    2009-01-07 00:00:00-02:00   41.750000   41.770000   40.450001   \n",
       "4    2009-01-08 00:00:00-02:00   40.150002   42.200001   40.150002   \n",
       "...                        ...         ...         ...         ...   \n",
       "3400 2023-01-30 00:00:00-03:00  109.010002  109.320000  108.129997   \n",
       "3401 2023-01-31 00:00:00-03:00  108.709999  109.959999  108.709999   \n",
       "3402 2023-02-01 00:00:00-03:00  109.489998  109.860001  107.059998   \n",
       "3403 2023-02-02 00:00:00-03:00  107.489998  109.269997  106.059998   \n",
       "3404 2023-02-03 00:00:00-03:00  106.150002  106.910004  104.540001   \n",
       "\n",
       "           close    volume  dividends  stock splits  \n",
       "0      40.320000    119900          0             0  \n",
       "1      42.000000    341700          0             0  \n",
       "2      42.320000    178300          0             0  \n",
       "3      40.639999     73400          0             0  \n",
       "4      42.200001    195300          0             0  \n",
       "...          ...       ...        ...           ...  \n",
       "3400  108.699997   2905618          0             0  \n",
       "3401  109.839996   5733562          0             0  \n",
       "3402  108.400002  10380157          0             0  \n",
       "3403  106.300003   9555616          0             0  \n",
       "3404  104.870003   7873654          0             0  \n",
       "\n",
       "[3405 rows x 8 columns]"
      ]
     },
     "execution_count": 8,
     "metadata": {},
     "output_type": "execute_result"
    }
   ],
   "source": [
    "bova11 = bova11.loc[(bova11.volume != 0)].reset_index()\n",
    "bova11.drop(columns='index', axis = 1, inplace = True)\n",
    "bova11"
   ]
  },
  {
   "cell_type": "markdown",
   "metadata": {},
   "source": [
    "Sorting the data by date"
   ]
  },
  {
   "cell_type": "code",
   "execution_count": 9,
   "metadata": {},
   "outputs": [],
   "source": [
    "bova11 = bova11.sort_values(by='date').reset_index(drop=True)"
   ]
  },
  {
   "cell_type": "markdown",
   "metadata": {},
   "source": [
    "Adding a column with the previous close value"
   ]
  },
  {
   "cell_type": "code",
   "execution_count": 10,
   "metadata": {},
   "outputs": [],
   "source": [
    "bova11[\"prev_close\"] = bova11.shift(1)[\"close\"]"
   ]
  },
  {
   "cell_type": "code",
   "execution_count": 11,
   "metadata": {},
   "outputs": [
    {
     "data": {
      "text/html": [
       "<div>\n",
       "<style scoped>\n",
       "    .dataframe tbody tr th:only-of-type {\n",
       "        vertical-align: middle;\n",
       "    }\n",
       "\n",
       "    .dataframe tbody tr th {\n",
       "        vertical-align: top;\n",
       "    }\n",
       "\n",
       "    .dataframe thead th {\n",
       "        text-align: right;\n",
       "    }\n",
       "</style>\n",
       "<table border=\"1\" class=\"dataframe\">\n",
       "  <thead>\n",
       "    <tr style=\"text-align: right;\">\n",
       "      <th></th>\n",
       "      <th>date</th>\n",
       "      <th>open</th>\n",
       "      <th>high</th>\n",
       "      <th>low</th>\n",
       "      <th>close</th>\n",
       "      <th>volume</th>\n",
       "      <th>dividends</th>\n",
       "      <th>stock splits</th>\n",
       "      <th>prev_close</th>\n",
       "    </tr>\n",
       "  </thead>\n",
       "  <tbody>\n",
       "    <tr>\n",
       "      <th>0</th>\n",
       "      <td>2009-01-02 00:00:00-02:00</td>\n",
       "      <td>38.279999</td>\n",
       "      <td>40.320000</td>\n",
       "      <td>37.939999</td>\n",
       "      <td>40.320000</td>\n",
       "      <td>119900</td>\n",
       "      <td>0</td>\n",
       "      <td>0</td>\n",
       "      <td>NaN</td>\n",
       "    </tr>\n",
       "    <tr>\n",
       "      <th>1</th>\n",
       "      <td>2009-01-05 00:00:00-02:00</td>\n",
       "      <td>40.200001</td>\n",
       "      <td>42.000000</td>\n",
       "      <td>39.700001</td>\n",
       "      <td>42.000000</td>\n",
       "      <td>341700</td>\n",
       "      <td>0</td>\n",
       "      <td>0</td>\n",
       "      <td>40.320000</td>\n",
       "    </tr>\n",
       "    <tr>\n",
       "      <th>2</th>\n",
       "      <td>2009-01-06 00:00:00-02:00</td>\n",
       "      <td>42.060001</td>\n",
       "      <td>42.320000</td>\n",
       "      <td>41.549999</td>\n",
       "      <td>42.320000</td>\n",
       "      <td>178300</td>\n",
       "      <td>0</td>\n",
       "      <td>0</td>\n",
       "      <td>42.000000</td>\n",
       "    </tr>\n",
       "    <tr>\n",
       "      <th>3</th>\n",
       "      <td>2009-01-07 00:00:00-02:00</td>\n",
       "      <td>41.750000</td>\n",
       "      <td>41.770000</td>\n",
       "      <td>40.450001</td>\n",
       "      <td>40.639999</td>\n",
       "      <td>73400</td>\n",
       "      <td>0</td>\n",
       "      <td>0</td>\n",
       "      <td>42.320000</td>\n",
       "    </tr>\n",
       "    <tr>\n",
       "      <th>4</th>\n",
       "      <td>2009-01-08 00:00:00-02:00</td>\n",
       "      <td>40.150002</td>\n",
       "      <td>42.200001</td>\n",
       "      <td>40.150002</td>\n",
       "      <td>42.200001</td>\n",
       "      <td>195300</td>\n",
       "      <td>0</td>\n",
       "      <td>0</td>\n",
       "      <td>40.639999</td>\n",
       "    </tr>\n",
       "  </tbody>\n",
       "</table>\n",
       "</div>"
      ],
      "text/plain": [
       "                       date       open       high        low      close  \\\n",
       "0 2009-01-02 00:00:00-02:00  38.279999  40.320000  37.939999  40.320000   \n",
       "1 2009-01-05 00:00:00-02:00  40.200001  42.000000  39.700001  42.000000   \n",
       "2 2009-01-06 00:00:00-02:00  42.060001  42.320000  41.549999  42.320000   \n",
       "3 2009-01-07 00:00:00-02:00  41.750000  41.770000  40.450001  40.639999   \n",
       "4 2009-01-08 00:00:00-02:00  40.150002  42.200001  40.150002  42.200001   \n",
       "\n",
       "   volume  dividends  stock splits  prev_close  \n",
       "0  119900          0             0         NaN  \n",
       "1  341700          0             0   40.320000  \n",
       "2  178300          0             0   42.000000  \n",
       "3   73400          0             0   42.320000  \n",
       "4  195300          0             0   40.639999  "
      ]
     },
     "execution_count": 11,
     "metadata": {},
     "output_type": "execute_result"
    }
   ],
   "source": [
    "bova11.head()"
   ]
  },
  {
   "cell_type": "markdown",
   "metadata": {},
   "source": [
    "Adding the close difference between dates"
   ]
  },
  {
   "cell_type": "code",
   "execution_count": 12,
   "metadata": {},
   "outputs": [
    {
     "name": "stderr",
     "output_type": "stream",
     "text": [
      "100%|██████████| 3405/3405 [00:00<00:00, 8801.92it/s]\n"
     ]
    }
   ],
   "source": [
    "bova11[\"close_change\"]= bova11.progress_apply(\n",
    "    lambda row: 0 if np.isnan(row.prev_close) else row.close - row.prev_close,\n",
    "    axis = 1\n",
    ")"
   ]
  },
  {
   "cell_type": "code",
   "execution_count": 13,
   "metadata": {},
   "outputs": [
    {
     "data": {
      "text/html": [
       "<div>\n",
       "<style scoped>\n",
       "    .dataframe tbody tr th:only-of-type {\n",
       "        vertical-align: middle;\n",
       "    }\n",
       "\n",
       "    .dataframe tbody tr th {\n",
       "        vertical-align: top;\n",
       "    }\n",
       "\n",
       "    .dataframe thead th {\n",
       "        text-align: right;\n",
       "    }\n",
       "</style>\n",
       "<table border=\"1\" class=\"dataframe\">\n",
       "  <thead>\n",
       "    <tr style=\"text-align: right;\">\n",
       "      <th></th>\n",
       "      <th>date</th>\n",
       "      <th>open</th>\n",
       "      <th>high</th>\n",
       "      <th>low</th>\n",
       "      <th>close</th>\n",
       "      <th>volume</th>\n",
       "      <th>dividends</th>\n",
       "      <th>stock splits</th>\n",
       "      <th>prev_close</th>\n",
       "      <th>close_change</th>\n",
       "    </tr>\n",
       "  </thead>\n",
       "  <tbody>\n",
       "    <tr>\n",
       "      <th>0</th>\n",
       "      <td>2009-01-02 00:00:00-02:00</td>\n",
       "      <td>38.279999</td>\n",
       "      <td>40.320000</td>\n",
       "      <td>37.939999</td>\n",
       "      <td>40.320000</td>\n",
       "      <td>119900</td>\n",
       "      <td>0</td>\n",
       "      <td>0</td>\n",
       "      <td>NaN</td>\n",
       "      <td>0.000000</td>\n",
       "    </tr>\n",
       "    <tr>\n",
       "      <th>1</th>\n",
       "      <td>2009-01-05 00:00:00-02:00</td>\n",
       "      <td>40.200001</td>\n",
       "      <td>42.000000</td>\n",
       "      <td>39.700001</td>\n",
       "      <td>42.000000</td>\n",
       "      <td>341700</td>\n",
       "      <td>0</td>\n",
       "      <td>0</td>\n",
       "      <td>40.320000</td>\n",
       "      <td>1.680000</td>\n",
       "    </tr>\n",
       "    <tr>\n",
       "      <th>2</th>\n",
       "      <td>2009-01-06 00:00:00-02:00</td>\n",
       "      <td>42.060001</td>\n",
       "      <td>42.320000</td>\n",
       "      <td>41.549999</td>\n",
       "      <td>42.320000</td>\n",
       "      <td>178300</td>\n",
       "      <td>0</td>\n",
       "      <td>0</td>\n",
       "      <td>42.000000</td>\n",
       "      <td>0.320000</td>\n",
       "    </tr>\n",
       "    <tr>\n",
       "      <th>3</th>\n",
       "      <td>2009-01-07 00:00:00-02:00</td>\n",
       "      <td>41.750000</td>\n",
       "      <td>41.770000</td>\n",
       "      <td>40.450001</td>\n",
       "      <td>40.639999</td>\n",
       "      <td>73400</td>\n",
       "      <td>0</td>\n",
       "      <td>0</td>\n",
       "      <td>42.320000</td>\n",
       "      <td>-1.680000</td>\n",
       "    </tr>\n",
       "    <tr>\n",
       "      <th>4</th>\n",
       "      <td>2009-01-08 00:00:00-02:00</td>\n",
       "      <td>40.150002</td>\n",
       "      <td>42.200001</td>\n",
       "      <td>40.150002</td>\n",
       "      <td>42.200001</td>\n",
       "      <td>195300</td>\n",
       "      <td>0</td>\n",
       "      <td>0</td>\n",
       "      <td>40.639999</td>\n",
       "      <td>1.560001</td>\n",
       "    </tr>\n",
       "  </tbody>\n",
       "</table>\n",
       "</div>"
      ],
      "text/plain": [
       "                       date       open       high        low      close  \\\n",
       "0 2009-01-02 00:00:00-02:00  38.279999  40.320000  37.939999  40.320000   \n",
       "1 2009-01-05 00:00:00-02:00  40.200001  42.000000  39.700001  42.000000   \n",
       "2 2009-01-06 00:00:00-02:00  42.060001  42.320000  41.549999  42.320000   \n",
       "3 2009-01-07 00:00:00-02:00  41.750000  41.770000  40.450001  40.639999   \n",
       "4 2009-01-08 00:00:00-02:00  40.150002  42.200001  40.150002  42.200001   \n",
       "\n",
       "   volume  dividends  stock splits  prev_close  close_change  \n",
       "0  119900          0             0         NaN      0.000000  \n",
       "1  341700          0             0   40.320000      1.680000  \n",
       "2  178300          0             0   42.000000      0.320000  \n",
       "3   73400          0             0   42.320000     -1.680000  \n",
       "4  195300          0             0   40.639999      1.560001  "
      ]
     },
     "execution_count": 13,
     "metadata": {},
     "output_type": "execute_result"
    }
   ],
   "source": [
    "bova11.head()"
   ]
  },
  {
   "cell_type": "markdown",
   "metadata": {},
   "source": [
    "Checking the dataseries over time"
   ]
  },
  {
   "cell_type": "code",
   "execution_count": 14,
   "metadata": {},
   "outputs": [
    {
     "data": {
      "image/png": "[encoded data removed]",
      "text/plain": [
       "<Figure size 1400x1000 with 1 Axes>"
      ]
     },
     "metadata": {},
     "output_type": "display_data"
    }
   ],
   "source": [
    "daily_closing = bova11[['date','close']]\n",
    "daily_closing = daily_closing.set_index('date')\n",
    "ax = daily_closing.plot()\n",
    "plt.title('Valor de fechamento do BOVA11 ao longo dos anos')\n",
    "ax.yaxis.set_major_formatter(ticker.StrMethodFormatter(\"R${x:,.2f}\"))"
   ]
  },
  {
   "cell_type": "markdown",
   "metadata": {},
   "source": [
    "#### Feature Engineering\n",
    "Add auxiliar columns that can improve our model, like moving averages,standard deviation, techinical indicators and others\n",
    "Let's add:\n",
    "- Moving_average for 3, 10, 30 and 60 days\n",
    "- Standard deviation for 7, 30 and 60 days\n",
    "- Bollinger limits for Upper and lowers 3, 30 and 60\n",
    "- Add RSI indicator"
   ]
  },
  {
   "cell_type": "code",
   "execution_count": 15,
   "metadata": {},
   "outputs": [],
   "source": [
    "# Adding move Averages columns\n",
    "bova11['ma_3d'] = bova11['close'].rolling(3, center = True, min_periods=1).mean()\n",
    "bova11['ma_10d'] = bova11['close'].rolling(10, center = True,min_periods=1).mean()\n",
    "bova11['ma_30d'] = bova11['close'].rolling(30, center=True, min_periods=1).mean()\n",
    "bova11['ma_60d'] = bova11['close'].rolling(60, center = True, min_periods = 1).mean()"
   ]
  },
  {
   "cell_type": "code",
   "execution_count": 16,
   "metadata": {},
   "outputs": [],
   "source": [
    "# Adding standard deviation columns\n",
    "bova11['std_7'] = bova11['close'].rolling(7, center = True, min_periods = 1).std()\n",
    "bova11['std_30'] = bova11['close'].rolling(30, center = True, min_periods = 1).std()\n",
    "bova11['std_60'] = bova11['close'].rolling(60, center = True, min_periods = 1).std()"
   ]
  },
  {
   "cell_type": "code",
   "execution_count": 17,
   "metadata": {},
   "outputs": [],
   "source": [
    "# Adding the bollinger bands\n",
    "bova11['upper3'] = bova11['ma_3d'] + 2*bova11['close'].rolling(3, center = True, min_periods = 1).std()\n",
    "bova11['lower3'] = bova11['ma_3d'] - 2*bova11['close'].rolling(3, center = True, min_periods = 1).std()\n",
    "\n",
    "bova11['upper30'] = bova11['ma_30d'] + 2*bova11['std_30']\n",
    "bova11['lower30'] = bova11['ma_30d'] - 2*bova11['std_30']\n",
    "\n",
    "bova11['upper60'] = bova11['ma_60d'] + 2*bova11['std_60']\n",
    "bova11['lower60'] = bova11['ma_60d'] - 2*bova11['std_60']\n",
    "\n",
    "# Adding tecnical indicator RSI\n",
    "bova11['RSI'] = ta.rsi(bova11['close'], length = 15)"
   ]
  },
  {
   "cell_type": "code",
   "execution_count": 18,
   "metadata": {},
   "outputs": [
    {
     "data": {
      "image/png": "[encoded data removed]",
      "text/plain": [
       "<Figure size 1400x1000 with 1 Axes>"
      ]
     },
     "metadata": {},
     "output_type": "display_data"
    }
   ],
   "source": [
    "moving_avg = bova11[['date','ma_30d']]\n",
    "moving_avg = moving_avg.set_index('date')\n",
    "ax = moving_avg.plot()\n",
    "plt.title('Valor de fechamento do IBOVESPA ao longo dos anos')\n",
    "ax.yaxis.set_major_formatter(ticker.StrMethodFormatter(\"R${x:,.2f}\"))"
   ]
  },
  {
   "cell_type": "markdown",
   "metadata": {},
   "source": [
    "Select the features and the predict columns"
   ]
  },
  {
   "cell_type": "code",
   "execution_count": 19,
   "metadata": {},
   "outputs": [],
   "source": [
    "bova11.drop(['date', 'volume', 'dividends', 'stock splits', 'prev_close'],\n",
    "            axis = 1,\n",
    "           inplace = True)\n"
   ]
  },
  {
   "cell_type": "code",
   "execution_count": 20,
   "metadata": {},
   "outputs": [
    {
     "data": {
      "text/html": [
       "<div>\n",
       "<style scoped>\n",
       "    .dataframe tbody tr th:only-of-type {\n",
       "        vertical-align: middle;\n",
       "    }\n",
       "\n",
       "    .dataframe tbody tr th {\n",
       "        vertical-align: top;\n",
       "    }\n",
       "\n",
       "    .dataframe thead th {\n",
       "        text-align: right;\n",
       "    }\n",
       "</style>\n",
       "<table border=\"1\" class=\"dataframe\">\n",
       "  <thead>\n",
       "    <tr style=\"text-align: right;\">\n",
       "      <th></th>\n",
       "      <th>open</th>\n",
       "      <th>high</th>\n",
       "      <th>low</th>\n",
       "      <th>close</th>\n",
       "      <th>close_change</th>\n",
       "      <th>ma_3d</th>\n",
       "      <th>ma_10d</th>\n",
       "      <th>ma_30d</th>\n",
       "      <th>ma_60d</th>\n",
       "      <th>std_7</th>\n",
       "      <th>std_30</th>\n",
       "      <th>std_60</th>\n",
       "      <th>upper3</th>\n",
       "      <th>lower3</th>\n",
       "      <th>upper30</th>\n",
       "      <th>lower30</th>\n",
       "      <th>upper60</th>\n",
       "      <th>lower60</th>\n",
       "      <th>RSI</th>\n",
       "    </tr>\n",
       "  </thead>\n",
       "  <tbody>\n",
       "    <tr>\n",
       "      <th>0</th>\n",
       "      <td>38.279999</td>\n",
       "      <td>40.320000</td>\n",
       "      <td>37.939999</td>\n",
       "      <td>40.320000</td>\n",
       "      <td>0.000000</td>\n",
       "      <td>41.160000</td>\n",
       "      <td>41.496000</td>\n",
       "      <td>40.072667</td>\n",
       "      <td>40.216334</td>\n",
       "      <td>0.987387</td>\n",
       "      <td>1.459904</td>\n",
       "      <td>1.394817</td>\n",
       "      <td>43.535879</td>\n",
       "      <td>38.784121</td>\n",
       "      <td>42.992476</td>\n",
       "      <td>37.152858</td>\n",
       "      <td>43.005967</td>\n",
       "      <td>37.426700</td>\n",
       "      <td>NaN</td>\n",
       "    </tr>\n",
       "    <tr>\n",
       "      <th>1</th>\n",
       "      <td>40.200001</td>\n",
       "      <td>42.000000</td>\n",
       "      <td>39.700001</td>\n",
       "      <td>42.000000</td>\n",
       "      <td>1.680000</td>\n",
       "      <td>41.546666</td>\n",
       "      <td>41.580000</td>\n",
       "      <td>39.948125</td>\n",
       "      <td>40.269033</td>\n",
       "      <td>0.941319</td>\n",
       "      <td>1.495795</td>\n",
       "      <td>1.402411</td>\n",
       "      <td>43.695279</td>\n",
       "      <td>39.398054</td>\n",
       "      <td>42.939715</td>\n",
       "      <td>36.956536</td>\n",
       "      <td>43.073854</td>\n",
       "      <td>37.464211</td>\n",
       "      <td>NaN</td>\n",
       "    </tr>\n",
       "    <tr>\n",
       "      <th>2</th>\n",
       "      <td>42.060001</td>\n",
       "      <td>42.320000</td>\n",
       "      <td>41.549999</td>\n",
       "      <td>42.320000</td>\n",
       "      <td>0.320000</td>\n",
       "      <td>41.653333</td>\n",
       "      <td>41.311429</td>\n",
       "      <td>39.892353</td>\n",
       "      <td>40.322813</td>\n",
       "      <td>0.866718</td>\n",
       "      <td>1.466439</td>\n",
       "      <td>1.412751</td>\n",
       "      <td>43.437411</td>\n",
       "      <td>39.869255</td>\n",
       "      <td>42.825231</td>\n",
       "      <td>36.959475</td>\n",
       "      <td>43.148315</td>\n",
       "      <td>37.497311</td>\n",
       "      <td>NaN</td>\n",
       "    </tr>\n",
       "    <tr>\n",
       "      <th>3</th>\n",
       "      <td>41.750000</td>\n",
       "      <td>41.770000</td>\n",
       "      <td>40.450001</td>\n",
       "      <td>40.639999</td>\n",
       "      <td>-1.680000</td>\n",
       "      <td>41.720000</td>\n",
       "      <td>41.147500</td>\n",
       "      <td>39.842223</td>\n",
       "      <td>40.313031</td>\n",
       "      <td>1.063445</td>\n",
       "      <td>1.438465</td>\n",
       "      <td>1.391637</td>\n",
       "      <td>43.594461</td>\n",
       "      <td>39.845539</td>\n",
       "      <td>42.719153</td>\n",
       "      <td>36.965292</td>\n",
       "      <td>43.096304</td>\n",
       "      <td>37.529757</td>\n",
       "      <td>NaN</td>\n",
       "    </tr>\n",
       "    <tr>\n",
       "      <th>4</th>\n",
       "      <td>40.150002</td>\n",
       "      <td>42.200001</td>\n",
       "      <td>40.150002</td>\n",
       "      <td>42.200001</td>\n",
       "      <td>1.560001</td>\n",
       "      <td>41.613333</td>\n",
       "      <td>40.801111</td>\n",
       "      <td>39.897895</td>\n",
       "      <td>40.303530</td>\n",
       "      <td>1.118613</td>\n",
       "      <td>1.418844</td>\n",
       "      <td>1.371508</td>\n",
       "      <td>43.311019</td>\n",
       "      <td>39.915647</td>\n",
       "      <td>42.735582</td>\n",
       "      <td>37.060208</td>\n",
       "      <td>43.046547</td>\n",
       "      <td>37.560513</td>\n",
       "      <td>NaN</td>\n",
       "    </tr>\n",
       "    <tr>\n",
       "      <th>...</th>\n",
       "      <td>...</td>\n",
       "      <td>...</td>\n",
       "      <td>...</td>\n",
       "      <td>...</td>\n",
       "      <td>...</td>\n",
       "      <td>...</td>\n",
       "      <td>...</td>\n",
       "      <td>...</td>\n",
       "      <td>...</td>\n",
       "      <td>...</td>\n",
       "      <td>...</td>\n",
       "      <td>...</td>\n",
       "      <td>...</td>\n",
       "      <td>...</td>\n",
       "      <td>...</td>\n",
       "      <td>...</td>\n",
       "      <td>...</td>\n",
       "      <td>...</td>\n",
       "      <td>...</td>\n",
       "    </tr>\n",
       "    <tr>\n",
       "      <th>3400</th>\n",
       "      <td>109.010002</td>\n",
       "      <td>109.320000</td>\n",
       "      <td>108.129997</td>\n",
       "      <td>108.699997</td>\n",
       "      <td>0.299995</td>\n",
       "      <td>108.979998</td>\n",
       "      <td>108.491000</td>\n",
       "      <td>108.065500</td>\n",
       "      <td>106.200858</td>\n",
       "      <td>1.501802</td>\n",
       "      <td>1.607709</td>\n",
       "      <td>2.855008</td>\n",
       "      <td>110.499468</td>\n",
       "      <td>107.460529</td>\n",
       "      <td>111.280919</td>\n",
       "      <td>104.850082</td>\n",
       "      <td>111.910873</td>\n",
       "      <td>100.490842</td>\n",
       "      <td>54.525609</td>\n",
       "    </tr>\n",
       "    <tr>\n",
       "      <th>3401</th>\n",
       "      <td>108.709999</td>\n",
       "      <td>109.959999</td>\n",
       "      <td>108.709999</td>\n",
       "      <td>109.839996</td>\n",
       "      <td>1.139999</td>\n",
       "      <td>108.979998</td>\n",
       "      <td>108.556667</td>\n",
       "      <td>108.208421</td>\n",
       "      <td>106.400883</td>\n",
       "      <td>1.941447</td>\n",
       "      <td>1.515619</td>\n",
       "      <td>2.637287</td>\n",
       "      <td>110.499468</td>\n",
       "      <td>107.460529</td>\n",
       "      <td>111.239659</td>\n",
       "      <td>105.177184</td>\n",
       "      <td>111.675457</td>\n",
       "      <td>101.126308</td>\n",
       "      <td>57.411912</td>\n",
       "    </tr>\n",
       "    <tr>\n",
       "      <th>3402</th>\n",
       "      <td>109.489998</td>\n",
       "      <td>109.860001</td>\n",
       "      <td>107.059998</td>\n",
       "      <td>108.400002</td>\n",
       "      <td>-1.439995</td>\n",
       "      <td>108.180000</td>\n",
       "      <td>108.447500</td>\n",
       "      <td>108.265556</td>\n",
       "      <td>106.553334</td>\n",
       "      <td>1.817275</td>\n",
       "      <td>1.538360</td>\n",
       "      <td>2.521456</td>\n",
       "      <td>111.740443</td>\n",
       "      <td>104.619557</td>\n",
       "      <td>111.342276</td>\n",
       "      <td>105.188835</td>\n",
       "      <td>111.596245</td>\n",
       "      <td>101.510422</td>\n",
       "      <td>52.870335</td>\n",
       "    </tr>\n",
       "    <tr>\n",
       "      <th>3403</th>\n",
       "      <td>107.489998</td>\n",
       "      <td>109.269997</td>\n",
       "      <td>106.059998</td>\n",
       "      <td>106.300003</td>\n",
       "      <td>-2.099998</td>\n",
       "      <td>106.523336</td>\n",
       "      <td>108.132857</td>\n",
       "      <td>108.216471</td>\n",
       "      <td>106.647188</td>\n",
       "      <td>2.000502</td>\n",
       "      <td>1.571109</td>\n",
       "      <td>2.502552</td>\n",
       "      <td>110.074466</td>\n",
       "      <td>102.972206</td>\n",
       "      <td>111.358689</td>\n",
       "      <td>105.074253</td>\n",
       "      <td>111.652292</td>\n",
       "      <td>101.642083</td>\n",
       "      <td>47.054321</td>\n",
       "    </tr>\n",
       "    <tr>\n",
       "      <th>3404</th>\n",
       "      <td>106.150002</td>\n",
       "      <td>106.910004</td>\n",
       "      <td>104.540001</td>\n",
       "      <td>104.870003</td>\n",
       "      <td>-1.430000</td>\n",
       "      <td>105.585003</td>\n",
       "      <td>107.751667</td>\n",
       "      <td>108.213750</td>\n",
       "      <td>106.736774</td>\n",
       "      <td>2.202683</td>\n",
       "      <td>1.622593</td>\n",
       "      <td>2.491213</td>\n",
       "      <td>107.607329</td>\n",
       "      <td>103.562677</td>\n",
       "      <td>111.458936</td>\n",
       "      <td>104.968564</td>\n",
       "      <td>111.719200</td>\n",
       "      <td>101.754348</td>\n",
       "      <td>43.558370</td>\n",
       "    </tr>\n",
       "  </tbody>\n",
       "</table>\n",
       "<p>3405 rows × 19 columns</p>\n",
       "</div>"
      ],
      "text/plain": [
       "            open        high         low       close  close_change  \\\n",
       "0      38.279999   40.320000   37.939999   40.320000      0.000000   \n",
       "1      40.200001   42.000000   39.700001   42.000000      1.680000   \n",
       "2      42.060001   42.320000   41.549999   42.320000      0.320000   \n",
       "3      41.750000   41.770000   40.450001   40.639999     -1.680000   \n",
       "4      40.150002   42.200001   40.150002   42.200001      1.560001   \n",
       "...          ...         ...         ...         ...           ...   \n",
       "3400  109.010002  109.320000  108.129997  108.699997      0.299995   \n",
       "3401  108.709999  109.959999  108.709999  109.839996      1.139999   \n",
       "3402  109.489998  109.860001  107.059998  108.400002     -1.439995   \n",
       "3403  107.489998  109.269997  106.059998  106.300003     -2.099998   \n",
       "3404  106.150002  106.910004  104.540001  104.870003     -1.430000   \n",
       "\n",
       "           ma_3d      ma_10d      ma_30d      ma_60d     std_7    std_30  \\\n",
       "0      41.160000   41.496000   40.072667   40.216334  0.987387  1.459904   \n",
       "1      41.546666   41.580000   39.948125   40.269033  0.941319  1.495795   \n",
       "2      41.653333   41.311429   39.892353   40.322813  0.866718  1.466439   \n",
       "3      41.720000   41.147500   39.842223   40.313031  1.063445  1.438465   \n",
       "4      41.613333   40.801111   39.897895   40.303530  1.118613  1.418844   \n",
       "...          ...         ...         ...         ...       ...       ...   \n",
       "3400  108.979998  108.491000  108.065500  106.200858  1.501802  1.607709   \n",
       "3401  108.979998  108.556667  108.208421  106.400883  1.941447  1.515619   \n",
       "3402  108.180000  108.447500  108.265556  106.553334  1.817275  1.538360   \n",
       "3403  106.523336  108.132857  108.216471  106.647188  2.000502  1.571109   \n",
       "3404  105.585003  107.751667  108.213750  106.736774  2.202683  1.622593   \n",
       "\n",
       "        std_60      upper3      lower3     upper30     lower30     upper60  \\\n",
       "0     1.394817   43.535879   38.784121   42.992476   37.152858   43.005967   \n",
       "1     1.402411   43.695279   39.398054   42.939715   36.956536   43.073854   \n",
       "2     1.412751   43.437411   39.869255   42.825231   36.959475   43.148315   \n",
       "3     1.391637   43.594461   39.845539   42.719153   36.965292   43.096304   \n",
       "4     1.371508   43.311019   39.915647   42.735582   37.060208   43.046547   \n",
       "...        ...         ...         ...         ...         ...         ...   \n",
       "3400  2.855008  110.499468  107.460529  111.280919  104.850082  111.910873   \n",
       "3401  2.637287  110.499468  107.460529  111.239659  105.177184  111.675457   \n",
       "3402  2.521456  111.740443  104.619557  111.342276  105.188835  111.596245   \n",
       "3403  2.502552  110.074466  102.972206  111.358689  105.074253  111.652292   \n",
       "3404  2.491213  107.607329  103.562677  111.458936  104.968564  111.719200   \n",
       "\n",
       "         lower60        RSI  \n",
       "0      37.426700        NaN  \n",
       "1      37.464211        NaN  \n",
       "2      37.497311        NaN  \n",
       "3      37.529757        NaN  \n",
       "4      37.560513        NaN  \n",
       "...          ...        ...  \n",
       "3400  100.490842  54.525609  \n",
       "3401  101.126308  57.411912  \n",
       "3402  101.510422  52.870335  \n",
       "3403  101.642083  47.054321  \n",
       "3404  101.754348  43.558370  \n",
       "\n",
       "[3405 rows x 19 columns]"
      ]
     },
     "execution_count": 20,
     "metadata": {},
     "output_type": "execute_result"
    }
   ],
   "source": [
    "bova11"
   ]
  },
  {
   "cell_type": "code",
   "execution_count": 21,
   "metadata": {},
   "outputs": [],
   "source": [
    "bova11['target'] = bova11.close - bova11.open\n",
    "#bova11['targetClass'] = [1 if bova11.target[i] > 0 else 0 for i in range(len(bova11))]\n",
    "bova11['targetNextClose'] = bova11['close'].shift(-1)"
   ]
  },
  {
   "cell_type": "code",
   "execution_count": 22,
   "metadata": {},
   "outputs": [
    {
     "data": {
      "text/html": [
       "<div>\n",
       "<style scoped>\n",
       "    .dataframe tbody tr th:only-of-type {\n",
       "        vertical-align: middle;\n",
       "    }\n",
       "\n",
       "    .dataframe tbody tr th {\n",
       "        vertical-align: top;\n",
       "    }\n",
       "\n",
       "    .dataframe thead th {\n",
       "        text-align: right;\n",
       "    }\n",
       "</style>\n",
       "<table border=\"1\" class=\"dataframe\">\n",
       "  <thead>\n",
       "    <tr style=\"text-align: right;\">\n",
       "      <th></th>\n",
       "      <th>open</th>\n",
       "      <th>high</th>\n",
       "      <th>low</th>\n",
       "      <th>close</th>\n",
       "      <th>close_change</th>\n",
       "      <th>ma_3d</th>\n",
       "      <th>ma_10d</th>\n",
       "      <th>ma_30d</th>\n",
       "      <th>ma_60d</th>\n",
       "      <th>std_7</th>\n",
       "      <th>...</th>\n",
       "      <th>std_60</th>\n",
       "      <th>upper3</th>\n",
       "      <th>lower3</th>\n",
       "      <th>upper30</th>\n",
       "      <th>lower30</th>\n",
       "      <th>upper60</th>\n",
       "      <th>lower60</th>\n",
       "      <th>RSI</th>\n",
       "      <th>target</th>\n",
       "      <th>targetNextClose</th>\n",
       "    </tr>\n",
       "  </thead>\n",
       "  <tbody>\n",
       "    <tr>\n",
       "      <th>0</th>\n",
       "      <td>38.279999</td>\n",
       "      <td>40.320000</td>\n",
       "      <td>37.939999</td>\n",
       "      <td>40.320000</td>\n",
       "      <td>0.000000</td>\n",
       "      <td>41.160000</td>\n",
       "      <td>41.496000</td>\n",
       "      <td>40.072667</td>\n",
       "      <td>40.216334</td>\n",
       "      <td>0.987387</td>\n",
       "      <td>...</td>\n",
       "      <td>1.394817</td>\n",
       "      <td>43.535879</td>\n",
       "      <td>38.784121</td>\n",
       "      <td>42.992476</td>\n",
       "      <td>37.152858</td>\n",
       "      <td>43.005967</td>\n",
       "      <td>37.426700</td>\n",
       "      <td>NaN</td>\n",
       "      <td>2.040001</td>\n",
       "      <td>42.000000</td>\n",
       "    </tr>\n",
       "    <tr>\n",
       "      <th>1</th>\n",
       "      <td>40.200001</td>\n",
       "      <td>42.000000</td>\n",
       "      <td>39.700001</td>\n",
       "      <td>42.000000</td>\n",
       "      <td>1.680000</td>\n",
       "      <td>41.546666</td>\n",
       "      <td>41.580000</td>\n",
       "      <td>39.948125</td>\n",
       "      <td>40.269033</td>\n",
       "      <td>0.941319</td>\n",
       "      <td>...</td>\n",
       "      <td>1.402411</td>\n",
       "      <td>43.695279</td>\n",
       "      <td>39.398054</td>\n",
       "      <td>42.939715</td>\n",
       "      <td>36.956536</td>\n",
       "      <td>43.073854</td>\n",
       "      <td>37.464211</td>\n",
       "      <td>NaN</td>\n",
       "      <td>1.799999</td>\n",
       "      <td>42.320000</td>\n",
       "    </tr>\n",
       "    <tr>\n",
       "      <th>2</th>\n",
       "      <td>42.060001</td>\n",
       "      <td>42.320000</td>\n",
       "      <td>41.549999</td>\n",
       "      <td>42.320000</td>\n",
       "      <td>0.320000</td>\n",
       "      <td>41.653333</td>\n",
       "      <td>41.311429</td>\n",
       "      <td>39.892353</td>\n",
       "      <td>40.322813</td>\n",
       "      <td>0.866718</td>\n",
       "      <td>...</td>\n",
       "      <td>1.412751</td>\n",
       "      <td>43.437411</td>\n",
       "      <td>39.869255</td>\n",
       "      <td>42.825231</td>\n",
       "      <td>36.959475</td>\n",
       "      <td>43.148315</td>\n",
       "      <td>37.497311</td>\n",
       "      <td>NaN</td>\n",
       "      <td>0.259998</td>\n",
       "      <td>40.639999</td>\n",
       "    </tr>\n",
       "    <tr>\n",
       "      <th>3</th>\n",
       "      <td>41.750000</td>\n",
       "      <td>41.770000</td>\n",
       "      <td>40.450001</td>\n",
       "      <td>40.639999</td>\n",
       "      <td>-1.680000</td>\n",
       "      <td>41.720000</td>\n",
       "      <td>41.147500</td>\n",
       "      <td>39.842223</td>\n",
       "      <td>40.313031</td>\n",
       "      <td>1.063445</td>\n",
       "      <td>...</td>\n",
       "      <td>1.391637</td>\n",
       "      <td>43.594461</td>\n",
       "      <td>39.845539</td>\n",
       "      <td>42.719153</td>\n",
       "      <td>36.965292</td>\n",
       "      <td>43.096304</td>\n",
       "      <td>37.529757</td>\n",
       "      <td>NaN</td>\n",
       "      <td>-1.110001</td>\n",
       "      <td>42.200001</td>\n",
       "    </tr>\n",
       "    <tr>\n",
       "      <th>4</th>\n",
       "      <td>40.150002</td>\n",
       "      <td>42.200001</td>\n",
       "      <td>40.150002</td>\n",
       "      <td>42.200001</td>\n",
       "      <td>1.560001</td>\n",
       "      <td>41.613333</td>\n",
       "      <td>40.801111</td>\n",
       "      <td>39.897895</td>\n",
       "      <td>40.303530</td>\n",
       "      <td>1.118613</td>\n",
       "      <td>...</td>\n",
       "      <td>1.371508</td>\n",
       "      <td>43.311019</td>\n",
       "      <td>39.915647</td>\n",
       "      <td>42.735582</td>\n",
       "      <td>37.060208</td>\n",
       "      <td>43.046547</td>\n",
       "      <td>37.560513</td>\n",
       "      <td>NaN</td>\n",
       "      <td>2.049999</td>\n",
       "      <td>42.000000</td>\n",
       "    </tr>\n",
       "    <tr>\n",
       "      <th>...</th>\n",
       "      <td>...</td>\n",
       "      <td>...</td>\n",
       "      <td>...</td>\n",
       "      <td>...</td>\n",
       "      <td>...</td>\n",
       "      <td>...</td>\n",
       "      <td>...</td>\n",
       "      <td>...</td>\n",
       "      <td>...</td>\n",
       "      <td>...</td>\n",
       "      <td>...</td>\n",
       "      <td>...</td>\n",
       "      <td>...</td>\n",
       "      <td>...</td>\n",
       "      <td>...</td>\n",
       "      <td>...</td>\n",
       "      <td>...</td>\n",
       "      <td>...</td>\n",
       "      <td>...</td>\n",
       "      <td>...</td>\n",
       "      <td>...</td>\n",
       "    </tr>\n",
       "    <tr>\n",
       "      <th>3400</th>\n",
       "      <td>109.010002</td>\n",
       "      <td>109.320000</td>\n",
       "      <td>108.129997</td>\n",
       "      <td>108.699997</td>\n",
       "      <td>0.299995</td>\n",
       "      <td>108.979998</td>\n",
       "      <td>108.491000</td>\n",
       "      <td>108.065500</td>\n",
       "      <td>106.200858</td>\n",
       "      <td>1.501802</td>\n",
       "      <td>...</td>\n",
       "      <td>2.855008</td>\n",
       "      <td>110.499468</td>\n",
       "      <td>107.460529</td>\n",
       "      <td>111.280919</td>\n",
       "      <td>104.850082</td>\n",
       "      <td>111.910873</td>\n",
       "      <td>100.490842</td>\n",
       "      <td>54.525609</td>\n",
       "      <td>-0.310005</td>\n",
       "      <td>109.839996</td>\n",
       "    </tr>\n",
       "    <tr>\n",
       "      <th>3401</th>\n",
       "      <td>108.709999</td>\n",
       "      <td>109.959999</td>\n",
       "      <td>108.709999</td>\n",
       "      <td>109.839996</td>\n",
       "      <td>1.139999</td>\n",
       "      <td>108.979998</td>\n",
       "      <td>108.556667</td>\n",
       "      <td>108.208421</td>\n",
       "      <td>106.400883</td>\n",
       "      <td>1.941447</td>\n",
       "      <td>...</td>\n",
       "      <td>2.637287</td>\n",
       "      <td>110.499468</td>\n",
       "      <td>107.460529</td>\n",
       "      <td>111.239659</td>\n",
       "      <td>105.177184</td>\n",
       "      <td>111.675457</td>\n",
       "      <td>101.126308</td>\n",
       "      <td>57.411912</td>\n",
       "      <td>1.129997</td>\n",
       "      <td>108.400002</td>\n",
       "    </tr>\n",
       "    <tr>\n",
       "      <th>3402</th>\n",
       "      <td>109.489998</td>\n",
       "      <td>109.860001</td>\n",
       "      <td>107.059998</td>\n",
       "      <td>108.400002</td>\n",
       "      <td>-1.439995</td>\n",
       "      <td>108.180000</td>\n",
       "      <td>108.447500</td>\n",
       "      <td>108.265556</td>\n",
       "      <td>106.553334</td>\n",
       "      <td>1.817275</td>\n",
       "      <td>...</td>\n",
       "      <td>2.521456</td>\n",
       "      <td>111.740443</td>\n",
       "      <td>104.619557</td>\n",
       "      <td>111.342276</td>\n",
       "      <td>105.188835</td>\n",
       "      <td>111.596245</td>\n",
       "      <td>101.510422</td>\n",
       "      <td>52.870335</td>\n",
       "      <td>-1.089996</td>\n",
       "      <td>106.300003</td>\n",
       "    </tr>\n",
       "    <tr>\n",
       "      <th>3403</th>\n",
       "      <td>107.489998</td>\n",
       "      <td>109.269997</td>\n",
       "      <td>106.059998</td>\n",
       "      <td>106.300003</td>\n",
       "      <td>-2.099998</td>\n",
       "      <td>106.523336</td>\n",
       "      <td>108.132857</td>\n",
       "      <td>108.216471</td>\n",
       "      <td>106.647188</td>\n",
       "      <td>2.000502</td>\n",
       "      <td>...</td>\n",
       "      <td>2.502552</td>\n",
       "      <td>110.074466</td>\n",
       "      <td>102.972206</td>\n",
       "      <td>111.358689</td>\n",
       "      <td>105.074253</td>\n",
       "      <td>111.652292</td>\n",
       "      <td>101.642083</td>\n",
       "      <td>47.054321</td>\n",
       "      <td>-1.189995</td>\n",
       "      <td>104.870003</td>\n",
       "    </tr>\n",
       "    <tr>\n",
       "      <th>3404</th>\n",
       "      <td>106.150002</td>\n",
       "      <td>106.910004</td>\n",
       "      <td>104.540001</td>\n",
       "      <td>104.870003</td>\n",
       "      <td>-1.430000</td>\n",
       "      <td>105.585003</td>\n",
       "      <td>107.751667</td>\n",
       "      <td>108.213750</td>\n",
       "      <td>106.736774</td>\n",
       "      <td>2.202683</td>\n",
       "      <td>...</td>\n",
       "      <td>2.491213</td>\n",
       "      <td>107.607329</td>\n",
       "      <td>103.562677</td>\n",
       "      <td>111.458936</td>\n",
       "      <td>104.968564</td>\n",
       "      <td>111.719200</td>\n",
       "      <td>101.754348</td>\n",
       "      <td>43.558370</td>\n",
       "      <td>-1.279999</td>\n",
       "      <td>NaN</td>\n",
       "    </tr>\n",
       "  </tbody>\n",
       "</table>\n",
       "<p>3405 rows × 21 columns</p>\n",
       "</div>"
      ],
      "text/plain": [
       "            open        high         low       close  close_change  \\\n",
       "0      38.279999   40.320000   37.939999   40.320000      0.000000   \n",
       "1      40.200001   42.000000   39.700001   42.000000      1.680000   \n",
       "2      42.060001   42.320000   41.549999   42.320000      0.320000   \n",
       "3      41.750000   41.770000   40.450001   40.639999     -1.680000   \n",
       "4      40.150002   42.200001   40.150002   42.200001      1.560001   \n",
       "...          ...         ...         ...         ...           ...   \n",
       "3400  109.010002  109.320000  108.129997  108.699997      0.299995   \n",
       "3401  108.709999  109.959999  108.709999  109.839996      1.139999   \n",
       "3402  109.489998  109.860001  107.059998  108.400002     -1.439995   \n",
       "3403  107.489998  109.269997  106.059998  106.300003     -2.099998   \n",
       "3404  106.150002  106.910004  104.540001  104.870003     -1.430000   \n",
       "\n",
       "           ma_3d      ma_10d      ma_30d      ma_60d     std_7  ...    std_60  \\\n",
       "0      41.160000   41.496000   40.072667   40.216334  0.987387  ...  1.394817   \n",
       "1      41.546666   41.580000   39.948125   40.269033  0.941319  ...  1.402411   \n",
       "2      41.653333   41.311429   39.892353   40.322813  0.866718  ...  1.412751   \n",
       "3      41.720000   41.147500   39.842223   40.313031  1.063445  ...  1.391637   \n",
       "4      41.613333   40.801111   39.897895   40.303530  1.118613  ...  1.371508   \n",
       "...          ...         ...         ...         ...       ...  ...       ...   \n",
       "3400  108.979998  108.491000  108.065500  106.200858  1.501802  ...  2.855008   \n",
       "3401  108.979998  108.556667  108.208421  106.400883  1.941447  ...  2.637287   \n",
       "3402  108.180000  108.447500  108.265556  106.553334  1.817275  ...  2.521456   \n",
       "3403  106.523336  108.132857  108.216471  106.647188  2.000502  ...  2.502552   \n",
       "3404  105.585003  107.751667  108.213750  106.736774  2.202683  ...  2.491213   \n",
       "\n",
       "          upper3      lower3     upper30     lower30     upper60     lower60  \\\n",
       "0      43.535879   38.784121   42.992476   37.152858   43.005967   37.426700   \n",
       "1      43.695279   39.398054   42.939715   36.956536   43.073854   37.464211   \n",
       "2      43.437411   39.869255   42.825231   36.959475   43.148315   37.497311   \n",
       "3      43.594461   39.845539   42.719153   36.965292   43.096304   37.529757   \n",
       "4      43.311019   39.915647   42.735582   37.060208   43.046547   37.560513   \n",
       "...          ...         ...         ...         ...         ...         ...   \n",
       "3400  110.499468  107.460529  111.280919  104.850082  111.910873  100.490842   \n",
       "3401  110.499468  107.460529  111.239659  105.177184  111.675457  101.126308   \n",
       "3402  111.740443  104.619557  111.342276  105.188835  111.596245  101.510422   \n",
       "3403  110.074466  102.972206  111.358689  105.074253  111.652292  101.642083   \n",
       "3404  107.607329  103.562677  111.458936  104.968564  111.719200  101.754348   \n",
       "\n",
       "            RSI    target  targetNextClose  \n",
       "0           NaN  2.040001        42.000000  \n",
       "1           NaN  1.799999        42.320000  \n",
       "2           NaN  0.259998        40.639999  \n",
       "3           NaN -1.110001        42.200001  \n",
       "4           NaN  2.049999        42.000000  \n",
       "...         ...       ...              ...  \n",
       "3400  54.525609 -0.310005       109.839996  \n",
       "3401  57.411912  1.129997       108.400002  \n",
       "3402  52.870335 -1.089996       106.300003  \n",
       "3403  47.054321 -1.189995       104.870003  \n",
       "3404  43.558370 -1.279999              NaN  \n",
       "\n",
       "[3405 rows x 21 columns]"
      ]
     },
     "execution_count": 22,
     "metadata": {},
     "output_type": "execute_result"
    }
   ],
   "source": [
    "bova11"
   ]
  },
  {
   "cell_type": "code",
   "execution_count": 23,
   "metadata": {},
   "outputs": [],
   "source": [
    "bova11.dropna(inplace = True)"
   ]
  },
  {
   "cell_type": "code",
   "execution_count": 24,
   "metadata": {},
   "outputs": [
    {
     "name": "stdout",
     "output_type": "stream",
     "text": [
      "[[-0.41052802 -0.95937954 -0.97594966 ... -0.34158244 -0.812735\n",
      "  -0.94288915]\n",
      " [-0.39380423 -0.93549828 -0.95100022 ... -0.1145866  -0.81635782\n",
      "  -0.94311308]\n",
      " [-0.38663696 -0.9468809  -0.94178467 ... -0.11645738 -0.82917641\n",
      "  -0.90033593]\n",
      " ...\n",
      " [ 0.73146451  0.63709403  0.64036862 ...  0.26982232 -0.81106316\n",
      "   0.6114222 ]\n",
      " [ 0.74388784  0.63486217  0.6032816  ...  0.13341511 -0.87292727\n",
      "   0.56438976]\n",
      " [ 0.7120331   0.62169391  0.58080464 ... -0.04127008 -0.87571391\n",
      "   0.53236288]]\n"
     ]
    }
   ],
   "source": [
    "scaler = MinMaxScaler(feature_range = (-1, 1))\n",
    "bova11_scaled = scaler.fit_transform(bova11)\n",
    "print(bova11_scaled)"
   ]
  },
  {
   "cell_type": "markdown",
   "metadata": {},
   "source": [
    "Select the features and prediction target columns"
   ]
  },
  {
   "cell_type": "markdown",
   "metadata": {},
   "source": [
    "### 6. Calculating Error metrics"
   ]
  },
  {
   "cell_type": "code",
   "execution_count": 25,
   "metadata": {},
   "outputs": [],
   "source": [
    "def MAPE(actual, pred):\n",
    "    actual, pred = np.array(actual), np.array(pred)\n",
    "    MAPE = np.nanmean(np.abs((actual - pred) / actual)) * 100\n",
    "    return MAPE\n",
    "\n",
    "def MAE(actual, pred):\n",
    "    MAE = mean_absolute_error(actual, pred)\n",
    "    return MAE\n",
    "\n",
    "def RMSE(actual, pred):\n",
    "    RMSE = mean_squared_error(actual, pred, squared = False)\n",
    "    return RMSE"
   ]
  },
  {
   "cell_type": "code",
   "execution_count": 44,
   "metadata": {},
   "outputs": [],
   "source": [
    "n_neurons = 258\n",
    "n_batch_size = 32\n",
    "dropout = 0.1\n",
    "pass_days = 100"
   ]
  },
  {
   "cell_type": "code",
   "execution_count": 45,
   "metadata": {},
   "outputs": [],
   "source": [
    "backcandles = pass_days\n",
    "X = []\n",
    "for j in range(19): # range is the number of feature columns you will use\n",
    "    X.append([])\n",
    "    for k in range(backcandles, bova11_scaled.shape[0]):\n",
    "        X[j].append(bova11_scaled[k-backcandles:k, j])\n",
    "\n",
    "#move axis from 0 to position 2\n",
    "X = np.moveaxis(X, [0], [2])\n",
    "\n",
    "X, yi = np.array(X), np.array(bova11_scaled[backcandles:, -1]) # Chosing the last column as the pred. target\n",
    "y = np.reshape(yi, (len(yi), 1))\n",
    "\n",
    "splitlimit = int(len(X) * 0.9)\n",
    "x_train, x_test = X[:splitlimit], X[splitlimit+1:]\n",
    "y_train, y_test = y[:splitlimit], y[splitlimit+1:]"
   ]
  },
  {
   "cell_type": "code",
   "execution_count": 51,
   "metadata": {},
   "outputs": [
    {
     "name": "stdout",
     "output_type": "stream",
     "text": [
      "\n",
      "Epoch 1: val_loss improved from inf to 0.00156, saving model to best_model.h5\n",
      "\n",
      "Epoch 2: val_loss improved from 0.00156 to 0.00136, saving model to best_model.h5\n",
      "\n",
      "Epoch 3: val_loss did not improve from 0.00136\n",
      "\n",
      "Epoch 4: val_loss did not improve from 0.00136\n",
      "\n",
      "Epoch 5: val_loss improved from 0.00136 to 0.00126, saving model to best_model.h5\n",
      "\n",
      "Epoch 6: val_loss did not improve from 0.00126\n",
      "\n",
      "Epoch 7: val_loss did not improve from 0.00126\n",
      "\n",
      "Epoch 8: val_loss did not improve from 0.00126\n",
      "\n",
      "Epoch 9: val_loss improved from 0.00126 to 0.00113, saving model to best_model.h5\n",
      "\n",
      "Epoch 10: val_loss did not improve from 0.00113\n",
      "\n",
      "Epoch 11: val_loss did not improve from 0.00113\n",
      "\n",
      "Epoch 12: val_loss did not improve from 0.00113\n",
      "\n",
      "Epoch 13: val_loss did not improve from 0.00113\n",
      "\n",
      "Epoch 14: val_loss did not improve from 0.00113\n",
      "\n",
      "Epoch 15: val_loss did not improve from 0.00113\n",
      "\n",
      "Epoch 16: val_loss did not improve from 0.00113\n",
      "Epoch 16: early stopping\n"
     ]
    },
    {
     "data": {
      "text/plain": [
       "<keras.callbacks.History at 0x1925d94ca90>"
      ]
     },
     "execution_count": 51,
     "metadata": {},
     "output_type": "execute_result"
    }
   ],
   "source": [
    "model = Sequential()\n",
    "model.add(GRU(units = n_neurons, \n",
    "               return_sequences = True,\n",
    "               input_shape = (x_train.shape[1],\n",
    "                             x_train.shape[2])))\n",
    "model.add(Dropout(dropout))\n",
    "\n",
    "model.add(GRU(units = n_neurons, return_sequences = False))\n",
    "model.add(Dropout(dropout))\n",
    "model.add(Dense(units = 1, activation = 'linear'))\n",
    "model.compile(optimizer = 'adam', loss = 'mse')\n",
    "\n",
    "es = EarlyStopping(monitor = 'val_loss', mode = 'min', verbose = 1, patience = 7)\n",
    "\n",
    "file_path = 'best_model.h5'\n",
    "\n",
    "mc = ModelCheckpoint(file_path, monitor = 'val_loss', mode = 'min', verbose = 1, save_best_only = True)\n",
    "\n",
    "model.fit(x_train, y_train, \n",
    "          validation_split = 0.1, \n",
    "          epochs = 50, batch_size = n_batch_size,\n",
    "         callbacks = [es, mc], verbose = 0)"
   ]
  },
  {
   "cell_type": "code",
   "execution_count": 52,
   "metadata": {},
   "outputs": [
    {
     "data": {
      "text/plain": [
       "(0.0465688061699919, 8.322827909926072, 0.05662047650188374)"
      ]
     },
     "execution_count": 52,
     "metadata": {},
     "output_type": "execute_result"
    }
   ],
   "source": [
    "MAE(y_test,y_pred), MAPE(y_test, y_pred), RMSE(y_test, y_pred)"
   ]
  },
  {
   "cell_type": "code",
   "execution_count": 53,
   "metadata": {},
   "outputs": [
    {
     "name": "stdout",
     "output_type": "stream",
     "text": [
      "11/11 [==============================] - 7s 392ms/step\n"
     ]
    },
    {
     "data": {
      "image/png": "[encoded data removed]",
      "text/plain": [
       "<Figure size 1400x1000 with 1 Axes>"
      ]
     },
     "metadata": {},
     "output_type": "display_data"
    }
   ],
   "source": [
    "y_pred = model.predict(x_test)\n",
    "\n",
    "plt.plot(y_test, color = 'blue', label = 'Test')\n",
    "plt.plot(y_pred, color = 'red', label = 'pred')\n",
    "plt.legend()\n",
    "plt.show()"
   ]
  },
  {
   "cell_type": "code",
   "execution_count": 50,
   "metadata": {},
   "outputs": [
    {
     "data": {
      "text/plain": [
       "(0.0465688061699919, 8.322827909926072, 0.05662047650188374)"
      ]
     },
     "execution_count": 50,
     "metadata": {},
     "output_type": "execute_result"
    }
   ],
   "source": [
    "MAE(y_test,y_pred), MAPE(y_test, y_pred), RMSE(y_test, y_pred)"
   ]
  },
  {
   "cell_type": "markdown",
   "metadata": {},
   "source": [
    "### 2. try a different method:\n",
    "- Separete the last 90 values from the bova_11 values\n",
    "- Format them with the same features as the prediction\n",
    "- Do the predict on the next value\n",
    "- invert the transformation to get the original values\n",
    "- Recreate the dataframe with the same values and the prediction value\n",
    "- Complete all the feature columns for the next input to predict\n",
    "- make the next prediction\n",
    "- put it into a for loop for n days\n",
    "- predict for 1,5,30 and 90 days\n",
    "- calculate the error metrics from all the predictions"
   ]
  },
  {
   "cell_type": "code",
   "execution_count": 31,
   "metadata": {},
   "outputs": [],
   "source": [
    "def feature_calc(df):\n",
    "    # Adding close change\n",
    "    df[\"prev_close\"] = df.shift(1)[\"close\"]\n",
    "    df[\"close_change\"]= df.progress_apply(\n",
    "        lambda row: 0 if np.isnan(row.prev_close) else row.close - row.prev_close,\n",
    "        axis = 1\n",
    "    )\n",
    "    # Adding move Averages columns\n",
    "    df['ma_3d'] = df['close'].rolling(3, center = True, min_periods=1).mean()\n",
    "    df['ma_10d'] = df['close'].rolling(10, center = True,min_periods=1).mean()\n",
    "    df['ma_30d'] = df['close'].rolling(30, center=True, min_periods=1).mean()\n",
    "    df['ma_60d'] = df['close'].rolling(60, center = True, min_periods = 1).mean()\n",
    "    # Adding standard deviation columns\n",
    "    df['std_7'] = df['close'].rolling(7, center = True, min_periods = 1).std()\n",
    "    df['std_30'] = df['close'].rolling(30, center = True, min_periods = 1).std()\n",
    "    df['std_60'] = df['close'].rolling(60, center = True, min_periods = 1).std()\n",
    "    # Adding the bollinger bands\n",
    "    df['upper3'] = df['ma_3d'] + 2*df['close'].rolling(3, center = True, min_periods = 1).std()\n",
    "    df['lower3'] = df['ma_3d'] - 2*df['close'].rolling(3, center = True, min_periods = 1).std()\n",
    "    df['upper30'] = df['ma_30d'] + 2*df['std_30']\n",
    "    df['lower30'] = df['ma_30d'] - 2*df['std_30']\n",
    "    df['upper60'] = df['ma_60d'] + 2*df['std_60']\n",
    "    df['lower60'] = df['ma_60d'] - 2*df['std_60']\n",
    "    # Adding tecnical indicator RSI\n",
    "    df['RSI'] = ta.rsi(df['close'], length = 15)\n",
    "    df['target'] = df.close - df.open\n",
    "    df['targetNextClose'] = df['close'].shift(-1)\n",
    "    \n",
    "    return df"
   ]
  },
  {
   "cell_type": "code",
   "execution_count": 32,
   "metadata": {},
   "outputs": [],
   "source": [
    "def predict(df, days, pass_days):\n",
    "    # copy the dataframe to edit\n",
    "    df_ = df.copy()\n",
    "    \n",
    "    for i in reversed(range(days+1)):\n",
    "        if days > 0:\n",
    "            # scale the features for the model prediction\n",
    "            scaler = MinMaxScaler(feature_range = (-1, 1))\n",
    "            df_scaled = scaler.fit_transform(df_)\n",
    "\n",
    "            backcandles = pass_days #Defined by hyperparameters testing\n",
    "            X = []\n",
    "            for j in range(19): # range is the number of feature columns you will use\n",
    "                X.append([])\n",
    "                for k in range(backcandles, df_scaled.shape[0]):\n",
    "                    X[j].append(df_scaled[k-backcandles:k, j])\n",
    "\n",
    "            #move axis from 0 to position 2\n",
    "            X = np.moveaxis(X, [0], [2])\n",
    "\n",
    "            X, yi = np.array(X), np.array(df_scaled[backcandles:, -1]) # Chosing the last column as the pred. target\n",
    "            y = np.reshape(yi, (len(yi), 1))\n",
    "\n",
    "            splitlimit = int(len(X) * 0.9)\n",
    "            x_test = X[splitlimit+1:] # take the last 10% of the original database\n",
    "\n",
    "            if days > 1:\n",
    "                x_test = x_test[-days:-(days-1)] \n",
    "            else:\n",
    "                x_test = x_test[-days:]\n",
    "            \n",
    "            y_pred = model.predict(x_test) # make the prediction on the day to replace\n",
    "            #print(y_pred)\n",
    "            #print(df_scaled[-days][3])\n",
    "            df_scaled[-days][3] = y_pred[0]\n",
    "            \n",
    "            predict_value = scaler.inverse_transform(df_scaled)[-days][3]\n",
    "            #print(predict_value)\n",
    "            df_.loc[(len(df_) - days) : (len(df_) - days), 'close'] = predict_value\n",
    "            #print(df_.loc[(len(df_) - days) : (len(df_) - days)].close)\n",
    "            \n",
    "            df_ = feature_calc(df_)\n",
    "            #print(days)\n",
    "            days = days -1\n",
    "    \n",
    "    return df_"
   ]
  },
  {
   "cell_type": "code",
   "execution_count": 33,
   "metadata": {},
   "outputs": [],
   "source": [
    "bova11.reset_index(drop = True, inplace = True)"
   ]
  },
  {
   "cell_type": "code",
   "execution_count": 34,
   "metadata": {
    "scrolled": true
   },
   "outputs": [
    {
     "ename": "TypeError",
     "evalue": "predict() missing 1 required positional argument: 'pass_days'",
     "output_type": "error",
     "traceback": [
      "\u001b[1;31m---------------------------------------------------------------------------\u001b[0m",
      "\u001b[1;31mTypeError\u001b[0m                                 Traceback (most recent call last)",
      "Input \u001b[1;32mIn [34]\u001b[0m, in \u001b[0;36m<cell line: 1>\u001b[1;34m()\u001b[0m\n\u001b[1;32m----> 1\u001b[0m pred_1 \u001b[38;5;241m=\u001b[39m \u001b[43mpredict\u001b[49m\u001b[43m(\u001b[49m\u001b[43mbova11\u001b[49m\u001b[43m,\u001b[49m\u001b[43m \u001b[49m\u001b[38;5;241;43m1\u001b[39;49m\u001b[43m)\u001b[49m\n",
      "\u001b[1;31mTypeError\u001b[0m: predict() missing 1 required positional argument: 'pass_days'"
     ]
    }
   ],
   "source": [
    "pred_1 = predict(bova11, 1)"
   ]
  },
  {
   "cell_type": "code",
   "execution_count": null,
   "metadata": {
    "scrolled": true
   },
   "outputs": [],
   "source": [
    "pred_5 = predict (bova11, 5)"
   ]
  },
  {
   "cell_type": "code",
   "execution_count": null,
   "metadata": {},
   "outputs": [],
   "source": [
    "pred_30 = predict(bova11, 30)"
   ]
  },
  {
   "cell_type": "code",
   "execution_count": null,
   "metadata": {},
   "outputs": [],
   "source": [
    "pred_90 = predict(bova11, 90)"
   ]
  },
  {
   "cell_type": "markdown",
   "metadata": {},
   "source": [
    "### Error metrics calculation"
   ]
  },
  {
   "cell_type": "markdown",
   "metadata": {},
   "source": [
    "#### 1 day calculation error metrics"
   ]
  },
  {
   "cell_type": "code",
   "execution_count": null,
   "metadata": {
    "scrolled": true
   },
   "outputs": [],
   "source": [
    "scaler = MinMaxScaler(feature_range = (-1, 1))\n",
    "pred_1_scaled = scaler.fit_transform(pred_1)"
   ]
  },
  {
   "cell_type": "code",
   "execution_count": null,
   "metadata": {},
   "outputs": [],
   "source": [
    "y_pred_1 = np.array([pred_1_scaled[-1][3]])\n",
    "y_test_1 = np.array([bova11_scaled[-1][3]])"
   ]
  },
  {
   "cell_type": "code",
   "execution_count": null,
   "metadata": {},
   "outputs": [],
   "source": [
    "MAPE(y_pred_1, y_test_1), MAE(y_pred_1, y_test_1), RMSE(y_pred_1, y_test_1)"
   ]
  },
  {
   "cell_type": "markdown",
   "metadata": {},
   "source": [
    "#### 5 day calculation error metrics"
   ]
  },
  {
   "cell_type": "code",
   "execution_count": null,
   "metadata": {},
   "outputs": [],
   "source": [
    "scaler = MinMaxScaler(feature_range = (-1, 1))\n",
    "pred_5_scaled = scaler.fit_transform(pred_5)"
   ]
  },
  {
   "cell_type": "code",
   "execution_count": null,
   "metadata": {},
   "outputs": [],
   "source": [
    "y_pred_5 = []\n",
    "y_test_5 = []\n",
    "for i in range (5):\n",
    "    y_pred_5.append(pred_5_scaled[-5:][i][3])\n",
    "    y_test_5.append(bova11_scaled[-5:][i][3])\n",
    "    \n",
    "y_pred_5 = np.array(y_pred_5)\n",
    "y_test_5 = np.array(y_test_5)\n",
    "\n",
    "y_test_5, y_pred_5"
   ]
  },
  {
   "cell_type": "code",
   "execution_count": null,
   "metadata": {},
   "outputs": [],
   "source": [
    "MAPE(y_pred_5, y_test_5), MAE(y_pred_5, y_test_5), RMSE(y_pred_5, y_test_5)"
   ]
  },
  {
   "cell_type": "markdown",
   "metadata": {},
   "source": [
    "#### 30 days calculation error metrics"
   ]
  },
  {
   "cell_type": "code",
   "execution_count": null,
   "metadata": {},
   "outputs": [],
   "source": [
    "scaler = MinMaxScaler(feature_range = (-1, 1))\n",
    "pred_30_scaled = scaler.fit_transform(pred_30)\n",
    "\n",
    "y_pred_30 = []\n",
    "y_test_30 = []\n",
    "for i in range (30):\n",
    "    y_pred_30.append(pred_30_scaled[-30:][i][3])\n",
    "    y_test_30.append(bova11_scaled[-30:][i][3])\n",
    "    \n",
    "y_pred_30 = np.array(y_pred_30)\n",
    "y_test_30 = np.array(y_test_30)\n",
    "\n",
    "y_test_30, y_pred_30"
   ]
  },
  {
   "cell_type": "code",
   "execution_count": null,
   "metadata": {},
   "outputs": [],
   "source": [
    "MAPE(y_pred_30, y_test_30), MAE(y_pred_30, y_test_30), RMSE(y_pred_30, y_test_30)"
   ]
  },
  {
   "cell_type": "markdown",
   "metadata": {},
   "source": [
    "#### 90 days calculation error metrics"
   ]
  },
  {
   "cell_type": "code",
   "execution_count": null,
   "metadata": {},
   "outputs": [],
   "source": [
    "scaler = MinMaxScaler(feature_range = (-1, 1))\n",
    "pred_90_scaled = scaler.fit_transform(pred_90)\n",
    "\n",
    "y_pred_90 = []\n",
    "y_test_90 = []\n",
    "for i in range (30):\n",
    "    y_pred_90.append(pred_90_scaled[-90:][i][3])\n",
    "    y_test_90.append(bova11_scaled[-90:][i][3])\n",
    "    \n",
    "y_pred_90 = np.array(y_pred_90)\n",
    "y_test_90 = np.array(y_test_90)\n",
    "\n",
    "y_test_90, y_pred_90"
   ]
  },
  {
   "cell_type": "code",
   "execution_count": null,
   "metadata": {},
   "outputs": [],
   "source": [
    "MAPE(y_pred_90, y_test_90), MAE(y_pred_90, y_test_90), RMSE(y_pred_90, y_test_90)"
   ]
  },
  {
   "cell_type": "code",
   "execution_count": null,
   "metadata": {},
   "outputs": [],
   "source": [
    "pred_90.close[-100:].plot()\n",
    "bova11.close[-100:].plot()"
   ]
  },
  {
   "cell_type": "code",
   "execution_count": null,
   "metadata": {},
   "outputs": [],
   "source": [
    "pred_30.close[-40:].plot()\n",
    "bova11.close[-40:].plot()"
   ]
  },
  {
   "cell_type": "code",
   "execution_count": null,
   "metadata": {},
   "outputs": [],
   "source": [
    "pred_5.close[-10:].plot()\n",
    "bova11.close[-10:].plot()"
   ]
  },
  {
   "cell_type": "code",
   "execution_count": null,
   "metadata": {},
   "outputs": [],
   "source": [
    "pred_1.close[-5:].plot()\n",
    "bova11.close[-5:].plot()"
   ]
  },
  {
   "cell_type": "code",
   "execution_count": null,
   "metadata": {},
   "outputs": [],
   "source": [
    "bova11"
   ]
  },
  {
   "cell_type": "markdown",
   "metadata": {},
   "source": [
    "### Generating visualizations for the thesis"
   ]
  },
  {
   "cell_type": "code",
   "execution_count": null,
   "metadata": {},
   "outputs": [],
   "source": [
    "import plotly.express as px"
   ]
  },
  {
   "cell_type": "code",
   "execution_count": null,
   "metadata": {},
   "outputs": [],
   "source": [
    "import plotly.graph_objs as go\n",
    "fig = go.Figure()\n",
    "\n",
    "fig.add_trace(go.Scatter(\n",
    "   y=bova11['close'],\n",
    "   name=\"Fechamento\")\n",
    ")\n",
    "\n",
    "fig.add_trace(go.Scatter(\n",
    "   y=bova11['lower60'],\n",
    "   name=\"Banda Inferior 60\")\n",
    ")\n",
    "\n",
    "fig.add_trace(go.Scatter(\n",
    "   y=bova11['upper60'],\n",
    "   name=\"Banda Superior 60\")\n",
    ")\n",
    "\n",
    "fig.update_layout(\n",
    "   #title=\"Banda de Bollinger superior e inferior dos ultimos 60 dias de fechamento de 2009 a Fev 2023\",\n",
    "    yaxis_title=\"Valor de Fechamento\",\n",
    "    xaxis_title=\"periodo\",\n",
    "   #legend_title=\"legend\",\n",
    ")\n",
    "fig.show()"
   ]
  },
  {
   "cell_type": "code",
   "execution_count": null,
   "metadata": {},
   "outputs": [],
   "source": [
    "bova11.columns"
   ]
  },
  {
   "cell_type": "code",
   "execution_count": null,
   "metadata": {},
   "outputs": [],
   "source": [
    "import plotly.graph_objs as go\n",
    "fig = go.Figure()\n",
    "\n",
    "fig.add_trace(go.Scatter(\n",
    "   y=bova11['close'],\n",
    "   name=\"Fechamento\")\n",
    ")\n",
    "\n",
    "fig.add_trace(go.Scatter(\n",
    "   y=bova11['ma_60d'],\n",
    "   name=\"Média Móvel 60 dias\")\n",
    ")\n",
    "\n",
    "\n",
    "fig.update_layout(\n",
    "   #title=\"Banda de Bollinger superior e inferior dos ultimos 60 dias de fechamento de 2009 a Fev 2023\",\n",
    "    yaxis_title=\"Valor de Fechamento\",\n",
    "    xaxis_title=\"periodo\",\n",
    "   #legend_title=\"legend\",\n",
    ")\n",
    "fig.show()"
   ]
  },
  {
   "cell_type": "code",
   "execution_count": null,
   "metadata": {},
   "outputs": [],
   "source": [
    "bova11_copy.tail(10)"
   ]
  },
  {
   "cell_type": "code",
   "execution_count": null,
   "metadata": {},
   "outputs": [],
   "source": [
    "len(bova11)"
   ]
  },
  {
   "cell_type": "code",
   "execution_count": null,
   "metadata": {},
   "outputs": [],
   "source": [
    "len(bova11_copy)"
   ]
  },
  {
   "cell_type": "code",
   "execution_count": null,
   "metadata": {},
   "outputs": [],
   "source": [
    "import plotly.graph_objs as go\n",
    "fig = go.Figure()\n",
    "\n",
    "fig.add_trace(go.Scatter(\n",
    "   y=bova11['close'],\n",
    "   name=\"Fechamento\")\n",
    ")\n",
    "\n",
    "\n",
    "\n",
    "\n",
    "fig.update_layout(\n",
    "   #title=\"Banda de Bollinger superior e inferior dos ultimos 60 dias de fechamento de 2009 a Fev 2023\",\n",
    "    yaxis_title=\"Valor de Fechamento\",\n",
    "    xaxis_title=\"periodo\",\n",
    "   #legend_title=\"legend\",\n",
    ")\n",
    "fig.show()"
   ]
  },
  {
   "cell_type": "code",
   "execution_count": null,
   "metadata": {},
   "outputs": [],
   "source": [
    "import plotly.graph_objs as go\n",
    "fig = go.Figure()\n",
    "\n",
    "fig.add_trace(go.Scatter(\n",
    "   y=bova11['close_change'],\n",
    "   name=\"Fechamento\")\n",
    ")\n",
    "\n",
    "\n",
    "\n",
    "\n",
    "fig.update_layout(\n",
    "   #title=\"Banda de Bollinger superior e inferior dos ultimos 60 dias de fechamento de 2009 a Fev 2023\",\n",
    "    yaxis_title=\"difença em relação ao fechamento anterior\",\n",
    "    xaxis_title=\"periodo\",\n",
    "   #legend_title=\"legend\",\n",
    ")\n",
    "fig.show()"
   ]
  },
  {
   "cell_type": "code",
   "execution_count": null,
   "metadata": {},
   "outputs": [],
   "source": []
  },
  {
   "cell_type": "code",
   "execution_count": null,
   "metadata": {},
   "outputs": [],
   "source": []
  },
  {
   "cell_type": "code",
   "execution_count": null,
   "metadata": {},
   "outputs": [],
   "source": []
  },
  {
   "cell_type": "code",
   "execution_count": null,
   "metadata": {},
   "outputs": [],
   "source": []
  },
  {
   "cell_type": "code",
   "execution_count": null,
   "metadata": {},
   "outputs": [],
   "source": []
  },
  {
   "cell_type": "code",
   "execution_count": null,
   "metadata": {},
   "outputs": [],
   "source": []
  },
  {
   "cell_type": "code",
   "execution_count": null,
   "metadata": {},
   "outputs": [],
   "source": []
  },
  {
   "cell_type": "code",
   "execution_count": null,
   "metadata": {},
   "outputs": [],
   "source": []
  },
  {
   "cell_type": "code",
   "execution_count": null,
   "metadata": {},
   "outputs": [],
   "source": []
  },
  {
   "cell_type": "code",
   "execution_count": null,
   "metadata": {},
   "outputs": [],
   "source": []
  },
  {
   "cell_type": "code",
   "execution_count": null,
   "metadata": {},
   "outputs": [],
   "source": []
  },
  {
   "cell_type": "code",
   "execution_count": null,
   "metadata": {},
   "outputs": [],
   "source": []
  },
  {
   "cell_type": "code",
   "execution_count": null,
   "metadata": {},
   "outputs": [],
   "source": []
  },
  {
   "cell_type": "code",
   "execution_count": null,
   "metadata": {},
   "outputs": [],
   "source": []
  },
  {
   "cell_type": "code",
   "execution_count": null,
   "metadata": {},
   "outputs": [],
   "source": []
  },
  {
   "cell_type": "code",
   "execution_count": null,
   "metadata": {},
   "outputs": [],
   "source": []
  },
  {
   "cell_type": "code",
   "execution_count": null,
   "metadata": {},
   "outputs": [],
   "source": []
  },
  {
   "cell_type": "code",
   "execution_count": null,
   "metadata": {},
   "outputs": [],
   "source": []
  },
  {
   "cell_type": "code",
   "execution_count": null,
   "metadata": {},
   "outputs": [],
   "source": []
  },
  {
   "cell_type": "code",
   "execution_count": null,
   "metadata": {},
   "outputs": [],
   "source": []
  },
  {
   "cell_type": "code",
   "execution_count": null,
   "metadata": {},
   "outputs": [],
   "source": []
  },
  {
   "cell_type": "code",
   "execution_count": null,
   "metadata": {},
   "outputs": [],
   "source": []
  },
  {
   "cell_type": "code",
   "execution_count": null,
   "metadata": {},
   "outputs": [],
   "source": []
  },
  {
   "cell_type": "code",
   "execution_count": null,
   "metadata": {},
   "outputs": [],
   "source": []
  },
  {
   "cell_type": "code",
   "execution_count": null,
   "metadata": {},
   "outputs": [],
   "source": []
  }
 ],
 "metadata": {
  "kernelspec": {
   "display_name": "Python 3 (ipykernel)",
   "language": "python",
   "name": "python3"
  },
  "language_info": {
   "codemirror_mode": {
    "name": "ipython",
    "version": 3
   },
   "file_extension": ".py",
   "mimetype": "text/x-python",
   "name": "python",
   "nbconvert_exporter": "python",
   "pygments_lexer": "ipython3",
   "version": "3.10.6"
  },
  "vscode": {
   "interpreter": {
    "hash": "a8060c5c9485724d6b8d9988d5c37fae1b044e1be40adde1fb6a3f731b42e2ea"
   }
  }
 },
 "nbformat": 4,
 "nbformat_minor": 2
}
